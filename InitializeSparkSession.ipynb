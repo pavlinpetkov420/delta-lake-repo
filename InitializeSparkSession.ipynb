{
 "cells": [
  {
   "cell_type": "markdown",
   "id": "0b89b956-536e-49b8-a926-316140793c20",
   "metadata": {},
   "source": [
    "# Initialize SparkSession\n",
    "\n",
    "The idea behind this is to create 1 SparkSession, and then to reuse it with all the experiments and testing you plan to.  \n",
    "When you execute this notebook and open another for any code development and testing, change the kernel to the one here in order to reuse this session.  \n",
    "Otherwise, new sparkSession must be created."
   ]
  },
  {
   "cell_type": "code",
   "execution_count": null,
   "id": "6766e779-14fd-42fa-bed1-4f70908e8659",
   "metadata": {},
   "outputs": [],
   "source": [
    "## CELL 1\n",
    "import findspark\n",
    "findspark.init()\n",
    "import pyspark\n",
    "findspark.find()"
   ]
  },
  {
   "cell_type": "code",
   "execution_count": 2,
   "id": "89a3fc47-8fdc-415a-909e-dfa011319f15",
   "metadata": {},
   "outputs": [],
   "source": [
    "from delta.tables import *\n",
    "from pyspark.sql import SparkSession, Catalog\n",
    "from pyspark.sql.types import *"
   ]
  },
  {
   "cell_type": "code",
   "execution_count": 3,
   "id": "7d3ad98e-bf7a-4b38-ac78-87b9ecbad1d9",
   "metadata": {
    "scrolled": true
   },
   "outputs": [],
   "source": [
    "import pyspark\n",
    "import delta as delta\n",
    "\n",
    "from os.path import abspath\n",
    "\n",
    "builder = pyspark.sql.SparkSession.builder.appName(\"DLDG_Learning\") \\\n",
    "    .config(\"spark.jars\", \"<your-path-here>\") \\\n",
    "    .config(\"spark.sql.extensions\", \"io.delta.sql.DeltaSparkSessionExtension\") \\\n",
    "    .config(\"spark.sql.catalog.spark_catalog\", \"org.apache.spark.sql.delta.catalog.DeltaCatalog\") \\\n",
    "    .config(\"spark.sql.warehouse.dir\", \"spark-warehouse\") \\\n",
    "    .config(\"spark.executor.memory\", \"8g\") \\\n",
    "    .config(\"spark.driver.memory\", \"4g\") \\\n",
    "    .enableHiveSupport() \\\n",
    "    .master(\"local[4]\")\n",
    "\n",
    "# Date: 03/20/2025\n",
    "# Executor Memory changed from 2g to 8g\n",
    "# Driver Memory changed from 2g to 4g\n",
    "\n",
    "spark = delta.configure_spark_with_delta_pip(builder).getOrCreate()"
   ]
  },
  {
   "cell_type": "code",
   "execution_count": 4,
   "id": "cb6ed835-79b9-441c-a704-cf4065df914e",
   "metadata": {},
   "outputs": [],
   "source": [
    "spark.conf.set('spark.sql.repl.eagerEval.enabled', True) # Pros - cool view, no need of df.show() just type df\n",
    "spark.conf.set('spark.sql.repl.eagerEval.truncate', -1) # Remove truncate of displayed result"
   ]
  },
  {
   "cell_type": "code",
   "execution_count": 5,
   "id": "c20fa8b7-02c6-492c-af7c-2077d1c322db",
   "metadata": {},
   "outputs": [],
   "source": [
    "spark.conf.set(\"spark.sql.repl.eagerEval.maxNumRows\", 1000)"
   ]
  },
  {
   "cell_type": "code",
   "execution_count": 6,
   "id": "a75cd8f0-209f-4516-9604-79558a671ee4",
   "metadata": {},
   "outputs": [],
   "source": [
    "# spark.stop()"
   ]
  },
  {
   "cell_type": "code",
   "execution_count": 7,
   "id": "44d21978-2597-40b9-a6ca-bae9d3396f9f",
   "metadata": {},
   "outputs": [],
   "source": [
    "# print(spark.catalog.listTables())"
   ]
  },
  {
   "cell_type": "code",
   "execution_count": null,
   "id": "1bc36802-8be0-469f-a645-28541d7c309c",
   "metadata": {},
   "outputs": [],
   "source": [
    "print(spark.sparkContext.uiWebUrl)"
   ]
  },
  {
   "cell_type": "code",
   "execution_count": 9,
   "id": "aa930de7-55f2-4527-9ac9-960bec4fc519",
   "metadata": {},
   "outputs": [],
   "source": [
    "# spark.stop()"
   ]
  },
  {
   "cell_type": "code",
   "execution_count": null,
   "id": "9cbb67dd-2169-4c4c-b360-e48a113894ad",
   "metadata": {},
   "outputs": [],
   "source": []
  },
  {
   "cell_type": "code",
   "execution_count": null,
   "id": "895439ca-32aa-4014-a1ca-92f6b057a428",
   "metadata": {},
   "outputs": [],
   "source": []
  },
  {
   "cell_type": "code",
   "execution_count": null,
   "id": "9dc40468-dfd9-41c1-8eab-409f6b8dd86c",
   "metadata": {},
   "outputs": [],
   "source": []
  }
 ],
 "metadata": {
  "kernelspec": {
   "display_name": "Python 3 (ipykernel)",
   "language": "python",
   "name": "python3"
  },
  "language_info": {
   "codemirror_mode": {
    "name": "ipython",
    "version": 3
   },
   "file_extension": ".py",
   "mimetype": "text/x-python",
   "name": "python",
   "nbconvert_exporter": "python",
   "pygments_lexer": "ipython3",
   "version": "3.11.8"
  }
 },
 "nbformat": 4,
 "nbformat_minor": 5
}
