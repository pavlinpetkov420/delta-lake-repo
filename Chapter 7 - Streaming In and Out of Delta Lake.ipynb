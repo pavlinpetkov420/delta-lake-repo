{
 "cells": [
  {
   "cell_type": "markdown",
   "id": "dbf30c84-7851-4ad3-802b-2d86e0dab2fe",
   "metadata": {},
   "source": [
    "# Chapter 7: Streaming in and out of your Delta Lake\n",
    "\n",
    "\n",
    "# Notebook Intro and Setup\n",
    "\n",
    "This notebook should run end to end with the \"run all\" mode.\n",
    "\n",
    "We encourage exploration and breaking stuff to get the most from it."
   ]
  },
  {
   "cell_type": "code",
   "execution_count": null,
   "id": "25e49cb4-5a0a-442d-93fe-eb717052e490",
   "metadata": {},
   "outputs": [],
   "source": [
    "# # Import resources\n",
    "# import subprocess\n",
    "# import os\n",
    "\n",
    "# # Set working dir\n",
    "# # Note: Original working dir is different than this. \n",
    "# # Reason: I want to differentiate the work and easily track it in local env instead of Docker Container\n",
    "\n",
    "# try:\n",
    "#     target_dir = \"<your-path-to>streaming\\\\ch07\"\n",
    "\n",
    "#     # Create the directory if it doesn't exist\n",
    "#     if not os.path.exists(target_dir):\n",
    "#         os.makedirs(target_dir)\n",
    "#         print(f\"✅ Directory '{target_dir}' created.\")\n",
    "#     else:\n",
    "#         print(f\"📁 Directory '{target_dir}' already exists.\")\n",
    "    \n",
    "#     # Change the current working directory\n",
    "#     os.chdir(target_dir)\n",
    "#     print(f\"📂 Changed working directory to: {os.getcwd()}\")\n",
    "# except Exception as ex:\n",
    "#     raise str(ex)\n"
   ]
  },
  {
   "cell_type": "code",
   "execution_count": 12,
   "id": "4d1e04db-f802-4296-b6c3-1a723be6aafe",
   "metadata": {},
   "outputs": [],
   "source": [
    "# Set additional Spark configuration options\n",
    "\n",
    "spark.conf.set(\"spark.sql.adaptive.enabled\", \"false\")\n",
    "spark.conf.set(\"spark.databricks.delta.schema.autoMerge.enabled\", \"true\")\n",
    "\n",
    "spark.sparkContext.setLogLevel(\"ERROR\")\n"
   ]
  },
  {
   "cell_type": "code",
   "execution_count": null,
   "id": "63b304f7-966b-4087-b3cf-7461f6ea3214",
   "metadata": {},
   "outputs": [],
   "source": [
    "desc_ext_covid_nyt = spark.sql(\"DESCRIBE EXTENDED default.covid_nyt\")\n",
    "desc_ext_covid_nyt"
   ]
  },
  {
   "cell_type": "markdown",
   "id": "d5b0320e-abf1-4a59-a6a3-60fedf2a8f28",
   "metadata": {},
   "source": [
    "# Paths\n",
    "\n",
    "Placeholder for Delta Tables and other sources location"
   ]
  },
  {
   "cell_type": "code",
   "execution_count": 8,
   "id": "a9680732-d47a-4d39-acf1-c4f6d4c823d5",
   "metadata": {},
   "outputs": [],
   "source": []
  },
  {
   "cell_type": "markdown",
   "id": "f9cd9e2a-6255-438b-853e-3b37b414aa72",
   "metadata": {},
   "source": [
    "# Delta readStream chained with writeStream example\n",
    "\n",
    "Target: Read `default.covid_nyt` Delta Table and write the data to `default.covid_nyt_stream_1` Delta Table.  \n",
    "Using append mode and centralized directory for Stream Checkpoint. No transformations.  \n",
    "\n",
    "`IMPORTANT NOTE:` In order to create a table in metastore using writeStream, need to create it first using DDL and specify location. Then use the location to writeStream in order to save data. This way the table will be queryable.\n",
    "```\n",
    ".start(path)\n",
    ".toTable(schema.tableName)\n",
    "```\n",
    "These 2 options cannot be used together in a writeStream. Need to choose from start and set table path or toTable to set schema.tableName.  \n",
    "Workaround:\n",
    "1. Create table using DDL USING DELTA LOCATION <your/path>\n",
    "2. Use .start(path/from/1) to write data in the delta table\n",
    "3. Query the table using spark SQL\n"
   ]
  },
  {
   "cell_type": "code",
   "execution_count": 34,
   "id": "c49129ae-9af4-4bef-beac-178d0f1240e2",
   "metadata": {},
   "outputs": [
    {
     "name": "stdout",
     "output_type": "stream",
     "text": [
      "++\n",
      "||\n",
      "++\n",
      "++\n",
      "\n"
     ]
    }
   ],
   "source": [
    "spark.sql(\n",
    "    \"\"\"\n",
    "        DROP TABLE IF EXISTS default.covid_nyt_stream_1;\n",
    "    \"\"\"\n",
    ").show()"
   ]
  },
  {
   "cell_type": "code",
   "execution_count": 35,
   "id": "14fe2a9d-e196-4fa8-8637-df96d5140722",
   "metadata": {},
   "outputs": [
    {
     "name": "stdout",
     "output_type": "stream",
     "text": [
      "++\n",
      "||\n",
      "++\n",
      "++\n",
      "\n"
     ]
    }
   ],
   "source": [
    "spark.sql(\n",
    "    \"\"\"\n",
    "        CREATE TABLE IF NOT EXISTS default.covid_nyt_stream_1\n",
    "        USING DELTA\n",
    "        LOCATION './covid_nyt_stream_1'\n",
    "    \"\"\"\n",
    ").show()"
   ]
  },
  {
   "cell_type": "code",
   "execution_count": 19,
   "id": "66750191-b93d-4624-b3d4-28c447c57d61",
   "metadata": {
    "scrolled": true
   },
   "outputs": [],
   "source": [
    "covid_nyt_stream_1 = (\n",
    "    spark\n",
    "    .readStream\n",
    "    .format(\"delta\")\n",
    "    .option(\"ignoreDeletes\", \"true\")\n",
    "    .table(\"covid_nyt\")\n",
    "    .writeStream\n",
    "    .format(\"delta\")\n",
    "    .outputMode(\"append\")\n",
    "    .option(\"mergeSchema\", \"true\")\n",
    "    .option(\"checkpointLocation\", \"streaming_checkpoints/ch07/covid_nyt_stream_1/ws1\")\n",
    "    .queryName(\"covid_nyt_stream\")\n",
    "    .start(\"./spark-warehouse/covid_nyt_stream_1\")\n",
    "    # .toTable(\"default.covid_nyt_stream_1\")\n",
    "    # start and toTable cannot be used together. Only 1 can be used in writeStream\n",
    "    # See also comment in section begining\n",
    ")"
   ]
  },
  {
   "cell_type": "code",
   "execution_count": null,
   "id": "c5867723-547c-4f23-83ed-373458a14811",
   "metadata": {},
   "outputs": [],
   "source": [
    "covid_nyt_stream_1.awaitTermination()"
   ]
  },
  {
   "cell_type": "code",
   "execution_count": null,
   "id": "c9c24d9d-f895-4355-b606-70009683f242",
   "metadata": {},
   "outputs": [],
   "source": [
    "covid_nyt_stream_1.processAllAvailable()"
   ]
  },
  {
   "cell_type": "code",
   "execution_count": 38,
   "id": "cab858b2-16a6-4f64-b7ef-0d83bd432cd5",
   "metadata": {},
   "outputs": [],
   "source": [
    "covid_nyt_stream_1.stop()"
   ]
  },
  {
   "cell_type": "code",
   "execution_count": 39,
   "id": "b8603ced-da93-42e8-b7f0-960789cde71e",
   "metadata": {},
   "outputs": [
    {
     "name": "stdout",
     "output_type": "stream",
     "text": [
      "{'message': 'Stopped', 'isDataAvailable': False, 'isTriggerActive': False}\n"
     ]
    },
    {
     "ename": "AttributeError",
     "evalue": "'StreamingQuery' object has no attribute 'last_progress'",
     "output_type": "error",
     "traceback": [
      "\u001b[1;31m---------------------------------------------------------------------------\u001b[0m",
      "\u001b[1;31mAttributeError\u001b[0m                            Traceback (most recent call last)",
      "Cell \u001b[1;32mIn[39], line 2\u001b[0m\n\u001b[0;32m      1\u001b[0m \u001b[38;5;28mprint\u001b[39m(covid_nyt_stream_1\u001b[38;5;241m.\u001b[39mstatus)\n\u001b[1;32m----> 2\u001b[0m \u001b[38;5;28mprint\u001b[39m(\u001b[43mcovid_nyt_stream_1\u001b[49m\u001b[38;5;241;43m.\u001b[39;49m\u001b[43mlast_progress\u001b[49m)\n",
      "\u001b[1;31mAttributeError\u001b[0m: 'StreamingQuery' object has no attribute 'last_progress'"
     ]
    }
   ],
   "source": [
    "print(covid_nyt_stream_1.status)\n",
    "print(covid_nyt_stream_1.last_progress)"
   ]
  },
  {
   "cell_type": "code",
   "execution_count": 26,
   "id": "0670e8bc-ce51-481a-b8a6-08645bf2f945",
   "metadata": {},
   "outputs": [
    {
     "name": "stdout",
     "output_type": "stream",
     "text": [
      "+---------+--------------------+-----------+\n",
      "|namespace|           tableName|isTemporary|\n",
      "+---------+--------------------+-----------+\n",
      "|  default|           covid_nyt|      false|\n",
      "|  default|   covid_nyt_by_date|      false|\n",
      "|  default|nonoptimal_covid_nyt|      false|\n",
      "+---------+--------------------+-----------+\n",
      "\n"
     ]
    }
   ],
   "source": [
    "spark.sql(\"SHOW TABLES\").show()"
   ]
  },
  {
   "cell_type": "code",
   "execution_count": 7,
   "id": "56b5c1ef-6093-4e74-9d4a-f58ba8163f7d",
   "metadata": {},
   "outputs": [
    {
     "name": "stdout",
     "output_type": "stream",
     "text": [
      "+----------+-----------+----------+-----+-----+------+\n",
      "|      date|     county|     state| fips|cases|deaths|\n",
      "+----------+-----------+----------+-----+-----+------+\n",
      "|2020-01-21|  Snohomish|Washington|53061|    1|     0|\n",
      "|2020-01-22|  Snohomish|Washington|53061|    1|     0|\n",
      "|2020-01-23|  Snohomish|Washington|53061|    1|     0|\n",
      "|2020-01-24|       Cook|  Illinois|17031|    1|     0|\n",
      "|2020-01-24|  Snohomish|Washington|53061|    1|     0|\n",
      "|2020-01-25|     Orange|California| 6059|    1|     0|\n",
      "|2020-01-25|       Cook|  Illinois|17031|    1|     0|\n",
      "|2020-01-25|  Snohomish|Washington|53061|    1|     0|\n",
      "|2020-01-26|   Maricopa|   Arizona| 4013|    1|     0|\n",
      "|2020-01-26|Los Angeles|California| 6037|    1|     0|\n",
      "|2020-01-26|     Orange|California| 6059|    1|     0|\n",
      "|2020-01-26|       Cook|  Illinois|17031|    1|     0|\n",
      "|2020-01-26|  Snohomish|Washington|53061|    1|     0|\n",
      "|2020-01-27|   Maricopa|   Arizona| 4013|    1|     0|\n",
      "|2020-01-27|Los Angeles|California| 6037|    1|     0|\n",
      "|2020-01-27|     Orange|California| 6059|    1|     0|\n",
      "|2020-01-27|       Cook|  Illinois|17031|    1|     0|\n",
      "|2020-01-27|  Snohomish|Washington|53061|    1|     0|\n",
      "|2020-01-28|   Maricopa|   Arizona| 4013|    1|     0|\n",
      "|2020-01-28|Los Angeles|California| 6037|    1|     0|\n",
      "+----------+-----------+----------+-----+-----+------+\n",
      "only showing top 20 rows\n",
      "\n"
     ]
    }
   ],
   "source": [
    "spark.sql(\"\"\"\n",
    "SELECT * FROM covid_nyt_stream_1\n",
    "\"\"\").show()"
   ]
  },
  {
   "cell_type": "markdown",
   "id": "d54910f3-7f2d-4128-9d77-a647d8b08e85",
   "metadata": {},
   "source": [
    "# Delta readStream and writeStream separated\n",
    "Minor Note: In original notebook the first stream that copies the data in new table is separated and this one is chained together.\n",
    "\n",
    "Target:\n",
    "- Check count of `default.covid_nyt_stream_1`\n",
    "- readStream - read `default.covid_nyt_stream_1`, filter only records with `deaths > 0`\n",
    "- writeStream - write to new Delta Table `default.covid_nyt_deaths_stream`\n",
    "  - checkpointLocation: `streaming_checkpoints/ch07/covid_nyt_deaths_stream`"
   ]
  },
  {
   "cell_type": "code",
   "execution_count": null,
   "id": "8cf63403-a705-48d4-ba57-4652a3bbfa0b",
   "metadata": {},
   "outputs": [],
   "source": [
    "desc_ext_covid_nyt_stream_1 =  spark.sql(\"DESCRIBE EXTENDED default.covid_nyt_stream_1\")\n",
    "desc_ext_covid_nyt_stream_1"
   ]
  },
  {
   "cell_type": "code",
   "execution_count": 11,
   "id": "fa1381f0-0c76-41ad-89b9-4cd6886a5fe5",
   "metadata": {},
   "outputs": [
    {
     "data": {
      "text/plain": [
       "1111930"
      ]
     },
     "execution_count": 11,
     "metadata": {},
     "output_type": "execute_result"
    }
   ],
   "source": [
    "# Check count of Delta Table\n",
    "covid_nyt_stream_1_count = (\n",
    "    spark\n",
    "    .read\n",
    "    .format(\"delta\")\n",
    "    .load(\"./spark-warehouse/covid_nyt_stream_1\")\n",
    ").count()\n",
    "\n",
    "covid_nyt_stream_1_count"
   ]
  },
  {
   "cell_type": "code",
   "execution_count": 12,
   "id": "7fa16823-3612-4c32-a6a0-a44f0770d6e9",
   "metadata": {},
   "outputs": [
    {
     "data": {
      "text/html": [
       "<table border='1'>\n",
       "<tr><th></th></tr>\n",
       "</table>\n"
      ],
      "text/plain": [
       "++\n",
       "||\n",
       "++\n",
       "++"
      ]
     },
     "execution_count": 12,
     "metadata": {},
     "output_type": "execute_result"
    }
   ],
   "source": [
    "spark.sql(\n",
    "    \"\"\"\n",
    "        DROP TABLE IF EXISTS default.covid_nyt_deaths;\n",
    "    \"\"\"\n",
    ")"
   ]
  },
  {
   "cell_type": "code",
   "execution_count": 13,
   "id": "11e08f79-dcee-4ec6-a3be-11c93c138452",
   "metadata": {},
   "outputs": [
    {
     "data": {
      "text/html": [
       "<table border='1'>\n",
       "<tr><th></th></tr>\n",
       "</table>\n"
      ],
      "text/plain": [
       "++\n",
       "||\n",
       "++\n",
       "++"
      ]
     },
     "execution_count": 13,
     "metadata": {},
     "output_type": "execute_result"
    }
   ],
   "source": [
    "spark.sql(\n",
    "    \"\"\"\n",
    "        CREATE TABLE IF NOT EXISTS default.covid_nyt_deaths\n",
    "        USING DELTA\n",
    "        LOCATION './covid_nyt_deaths'\n",
    "    \"\"\"\n",
    ")"
   ]
  },
  {
   "cell_type": "code",
   "execution_count": 16,
   "id": "be4eff7a-6422-4e1a-b681-689d87fa4ad1",
   "metadata": {},
   "outputs": [],
   "source": [
    "from pyspark.sql.functions import col\n",
    "\n",
    "streaming_query_covid_nyt_stream_1 = \\\n",
    "(\n",
    "    spark\n",
    "    .readStream\n",
    "    .format(\"delta\")\n",
    "    .load(\"./spark-warehouse/covid_nyt_stream_1\")\n",
    "    .filter(col(\"deaths\") > 0)\n",
    ")"
   ]
  },
  {
   "cell_type": "code",
   "execution_count": 18,
   "id": "ad2b1690-2d57-4bf2-a0ae-99cf53b95612",
   "metadata": {},
   "outputs": [
    {
     "data": {
      "text/plain": [
       "<pyspark.sql.streaming.query.StreamingQuery at 0x1ea8d357690>"
      ]
     },
     "execution_count": 18,
     "metadata": {},
     "output_type": "execute_result"
    }
   ],
   "source": [
    "streaming_query_covid_nyt_stream_1 \\\n",
    ".writeStream \\\n",
    ".format(\"delta\") \\\n",
    ".outputMode(\"append\") \\\n",
    ".option(\"mergeSchema\", \"true\") \\\n",
    ".option(\"checkpointLocation\", \"streaming_checkpoints/ch07/covid_deaths/ws1\") \\\n",
    ".start(\"./spark-warehouse/covid_nyt_deaths\")\n"
   ]
  },
  {
   "cell_type": "code",
   "execution_count": 19,
   "id": "16c41fc8-ba10-4634-a09d-0334affbae8a",
   "metadata": {},
   "outputs": [
    {
     "data": {
      "text/html": [
       "<table border='1'>\n",
       "<tr><th>date</th><th>county</th><th>state</th><th>fips</th><th>cases</th><th>deaths</th></tr>\n",
       "<tr><td>2020-02-29</td><td>King</td><td>Washington</td><td>53033</td><td>4</td><td>1</td></tr>\n",
       "<tr><td>2020-03-01</td><td>King</td><td>Washington</td><td>53033</td><td>11</td><td>3</td></tr>\n",
       "<tr><td>2020-03-02</td><td>King</td><td>Washington</td><td>53033</td><td>15</td><td>6</td></tr>\n",
       "<tr><td>2020-03-03</td><td>King</td><td>Washington</td><td>53033</td><td>22</td><td>10</td></tr>\n",
       "<tr><td>2020-03-04</td><td>Placer</td><td>California</td><td>6061</td><td>2</td><td>1</td></tr>\n",
       "<tr><td>2020-03-04</td><td>King</td><td>Washington</td><td>53033</td><td>33</td><td>11</td></tr>\n",
       "<tr><td>2020-03-05</td><td>Placer</td><td>California</td><td>6061</td><td>2</td><td>1</td></tr>\n",
       "<tr><td>2020-03-05</td><td>King</td><td>Washington</td><td>53033</td><td>52</td><td>11</td></tr>\n",
       "<tr><td>2020-03-06</td><td>Placer</td><td>California</td><td>6061</td><td>5</td><td>1</td></tr>\n",
       "<tr><td>2020-03-06</td><td>Lee</td><td>Florida</td><td>12071</td><td>1</td><td>1</td></tr>\n",
       "<tr><td>2020-03-06</td><td>Santa Rosa</td><td>Florida</td><td>12113</td><td>1</td><td>1</td></tr>\n",
       "<tr><td>2020-03-06</td><td>King</td><td>Washington</td><td>53033</td><td>59</td><td>12</td></tr>\n",
       "<tr><td>2020-03-07</td><td>Placer</td><td>California</td><td>6061</td><td>5</td><td>1</td></tr>\n",
       "<tr><td>2020-03-07</td><td>Lee</td><td>Florida</td><td>12071</td><td>2</td><td>1</td></tr>\n",
       "<tr><td>2020-03-07</td><td>Santa Rosa</td><td>Florida</td><td>12113</td><td>1</td><td>1</td></tr>\n",
       "<tr><td>2020-03-07</td><td>King</td><td>Washington</td><td>53033</td><td>72</td><td>16</td></tr>\n",
       "<tr><td>2020-03-08</td><td>Placer</td><td>California</td><td>6061</td><td>7</td><td>1</td></tr>\n",
       "<tr><td>2020-03-08</td><td>Lee</td><td>Florida</td><td>12071</td><td>2</td><td>1</td></tr>\n",
       "<tr><td>2020-03-08</td><td>Santa Rosa</td><td>Florida</td><td>12113</td><td>1</td><td>1</td></tr>\n",
       "<tr><td>2020-03-08</td><td>Chelan</td><td>Washington</td><td>53007</td><td>1</td><td>1</td></tr>\n",
       "</table>\n",
       "only showing top 20 rows\n"
      ],
      "text/plain": [
       "+----------+----------+----------+-----+-----+------+\n",
       "|date      |county    |state     |fips |cases|deaths|\n",
       "+----------+----------+----------+-----+-----+------+\n",
       "|2020-02-29|King      |Washington|53033|4    |1     |\n",
       "|2020-03-01|King      |Washington|53033|11   |3     |\n",
       "|2020-03-02|King      |Washington|53033|15   |6     |\n",
       "|2020-03-03|King      |Washington|53033|22   |10    |\n",
       "|2020-03-04|Placer    |California|6061 |2    |1     |\n",
       "|2020-03-04|King      |Washington|53033|33   |11    |\n",
       "|2020-03-05|Placer    |California|6061 |2    |1     |\n",
       "|2020-03-05|King      |Washington|53033|52   |11    |\n",
       "|2020-03-06|Placer    |California|6061 |5    |1     |\n",
       "|2020-03-06|Lee       |Florida   |12071|1    |1     |\n",
       "|2020-03-06|Santa Rosa|Florida   |12113|1    |1     |\n",
       "|2020-03-06|King      |Washington|53033|59   |12    |\n",
       "|2020-03-07|Placer    |California|6061 |5    |1     |\n",
       "|2020-03-07|Lee       |Florida   |12071|2    |1     |\n",
       "|2020-03-07|Santa Rosa|Florida   |12113|1    |1     |\n",
       "|2020-03-07|King      |Washington|53033|72   |16    |\n",
       "|2020-03-08|Placer    |California|6061 |7    |1     |\n",
       "|2020-03-08|Lee       |Florida   |12071|2    |1     |\n",
       "|2020-03-08|Santa Rosa|Florida   |12113|1    |1     |\n",
       "|2020-03-08|Chelan    |Washington|53007|1    |1     |\n",
       "+----------+----------+----------+-----+-----+------+\n",
       "only showing top 20 rows"
      ]
     },
     "execution_count": 19,
     "metadata": {},
     "output_type": "execute_result"
    }
   ],
   "source": [
    "covid_nyt_deaths = spark.sql(\n",
    "    \"\"\"\n",
    "        SELECT *\n",
    "        FROM default.covid_nyt_deaths;\n",
    "    \"\"\"\n",
    ")\n",
    "\n",
    "covid_nyt_deaths"
   ]
  },
  {
   "cell_type": "code",
   "execution_count": 20,
   "id": "765ecfb9-a323-4bc1-9558-b3dd8bc66aab",
   "metadata": {},
   "outputs": [
    {
     "data": {
      "text/plain": [
       "843458"
      ]
     },
     "execution_count": 20,
     "metadata": {},
     "output_type": "execute_result"
    }
   ],
   "source": [
    "# Check count of Delta Table\n",
    "covid_nyt_deaths_count = (\n",
    "    spark\n",
    "    .read\n",
    "    .format(\"delta\")\n",
    "    .load(\"./spark-warehouse/covid_nyt_deaths\")\n",
    ").count()\n",
    "\n",
    "covid_nyt_deaths_count"
   ]
  },
  {
   "cell_type": "markdown",
   "id": "11612cd9-dbf1-499b-b26e-99dab766b7eb",
   "metadata": {},
   "source": [
    "# Setting different options\n",
    "- `ignoreDeletes`\n",
    "- `ignoreChanges`\n",
    "- `startingVersion`\n",
    "- `startingTimestamp`\n",
    "- 2 types of `eventTimeOrder` with a watermark\n",
    "\n",
    "Target:\n",
    "Write logic and create different readStream commands while setting list of options above.\n",
    "Write all options to see differences. Read the book to see what expectations and observations to provide"
   ]
  },
  {
   "cell_type": "markdown",
   "id": "52c8cf6d-5a88-4e1f-beef-6bac8ccc3995",
   "metadata": {},
   "source": [
    "# ignoreDeletes & ignoreChanges\n",
    "Short Summary:\n",
    "- `ignoreDeletes`\n",
    "    - ignores delete operations as it comes across them **if a new file is not created**. If a parquet /from input delta table/ gets deleted, those changes will not be propagated to downstream destinations. \n",
    "    - We can use this setting to avoid stream failing the stream processing job and still support important delete operations. / Like to fulfill GDPR request from person and his right to be forgotten / **The catch for this scenario is data needs to be partitioned on the same values/column we use as filter in delete operation, so there are no remnants that can be moved to a new file.**\n",
    "\n",
    "- `ignoreChanges`\n",
    "    - Behave differently than `ignoreDeletes` /this is why the testing is going to be separated in 2 targets below /\n",
    "    - Allows new files to be created. If we update or delete few records, which result in creating new file in the source Delta Table, that is considered as new file in the stream that reads from the table. This ensures we have freshest version of the data, but also if the new file also contains records that exist in target already they can be duplicated.\n",
    "    - **[prefered option]** Solution here would be providing logic for deduplication/upsert to target table\n",
    "    - Or somehow differentiate the data with additional timekeeping information / i.e adding `version_as_of` column into target or similar /     \n",
    "\n",
    "Target:\n",
    "- `ignoreDeletes`\n",
    "    - Create readStream with ignoreDeletes, source `covid_nyt`\n",
    "    - Create writeStream to target `covid_nyt_ignore_deletes` / do not forget to create table in catalog first /\n",
    "    - Delete a record from source following the instructions/details in short summary\n",
    "    - Observe does delete get processed to new stream target table\n",
    "    - **Do the test with partitioned and non-partitioned source tables**\n",
    "- `ignoreChanges`\n",
    "    - Create readStream with ignoreChanges, source `covid_nyt`\n",
    "    - Create writeStream to target `covid_nyt_ignore_changes` / do not forget to create table in catalog first /\n",
    "    - Update and Delete a record from source following the instructions/details in short summary\n",
    "        - **Make sure to create 2 test cases - where new file `will` and `will not` be created** \n",
    "    - Observe are duplicates presented post updates.\n",
    "    - Create upsert/deduplication logic and repeat previous 3 steps to ensure the solution works\n"
   ]
  },
  {
   "cell_type": "markdown",
   "id": "f4a87585-74fc-42fe-b19d-870753403361",
   "metadata": {},
   "source": [
    "### ignoreDeletes test with Non-Partitioned source table - default.covid_nyt\n",
    "\n",
    "### Conclusion after observations and testing:\n",
    "- 1st Stream:\n",
    "    - All data from `default.covid_nyt` was streamed and written to `default.covid_nyt_ignore_deletes`\n",
    "    - After deletion of single record, files in source table were deleted which caused the stream to fail because of `ignoreDeletes` feature turned on\n",
    "    - After the failure, UPDATE AND INSERT DMLs were executed to source table, but no new data was processed, simply because stream was marked as FAILED  \n",
    "      in Spark UI and couldn't process any new data\n",
    "    - Second attempt to run the same stream (with same checkpoint directory) resulted in same stream failure because of the DELETE executed earlier\n",
    "- 2nd Stream:\n",
    "    - Updated checkpoint directory in writeStream to a new one, in order to be able to re-execute the stream\n",
    "    - This resulted in reprocessing the entire data into the target table and causing huge amount of duplicates to be saved\n",
    "    - DELETE, UPDATE and INSERT were also processed and available into target table\n",
    "\n",
    "**Conclusion**:\n",
    "- It is not safe to use `ignoreDeletes` on a non-partitioned tables, if any DELETE operations are going to be executed (In case files are getting overriden?)\n",
    "- This behavior may be caused by the choosed predicates for delete operation, but I believe that even with another predicate a file are going to be overwritten  \n",
    "  again because table is non-partitioned\n",
    "\n",
    "### ignoreDeletes test with Partitioned source table   \n",
    "- bronze.covid_nyt_by_date - partitioned by `date`\n",
    "- One stream query only\n",
    "    - All data from `bronze.covid_nyt_by_date` was streamed and written to `default.covid_nyt_ignore_deletes_partitioned`\n",
    "    - After records were deleted, they still exist in target table\n",
    "        - Used predicate `date = 2020-01-28`, since source is `date` partitioned entire partition was deleted from source\n",
    "    - TEST SUCCESSFULL\n",
    "\n",
    "### ignoreChanges with Non-Partitioned source table - `default.covid_nyt`\n",
    "- Entire source was appended to target `covid_nyt_ignore_changes_non_partitioned`\n",
    "- Using non-partitioned table as a source creates new parquet file in the delta table and mark other as deleted\n",
    "- This means, updated data is being duplicated in the target table (See overview of `ignoreChanges` in cell above)\n",
    "- Met problems: Bad paths in Delta Table.. not related to stream\n",
    "\n",
    "### ignoreChanges with Partitioned source table - `bronze.covid_nyt_by_date`\n",
    "- Entire source was appended to target `covid_nyt_ignore_changes_partitioned`\n",
    "- Using non-partitioned table as a source creates new parquet file in the delta table and mark other as deleted\n",
    "- State of update predicate rows pre and post updates is stored in target\n",
    "- In terms of PK this can be considered as "
   ]
  },
  {
   "cell_type": "markdown",
   "id": "7dda8b1e-635a-481d-9a2a-2d3bcbe97429",
   "metadata": {},
   "source": [
    "#### ignoreDeletes Non-Partitioned Table as Source"
   ]
  },
  {
   "cell_type": "code",
   "execution_count": null,
   "id": "15dbc99f-02f8-4212-8fb4-16dce7f1948b",
   "metadata": {},
   "outputs": [],
   "source": [
    "spark.sql(\n",
    "    \"\"\"\n",
    "        DROP TABLE IF EXISTS default.covid_nyt_ignore_deletes;\n",
    "    \"\"\"\n",
    ")"
   ]
  },
  {
   "cell_type": "code",
   "execution_count": 13,
   "id": "ef1d4460-cc72-4bb8-ac8d-4b77d284ee05",
   "metadata": {},
   "outputs": [
    {
     "data": {
      "text/html": [
       "<table border='1'>\n",
       "<tr><th></th></tr>\n",
       "</table>\n"
      ],
      "text/plain": [
       "++\n",
       "||\n",
       "++\n",
       "++"
      ]
     },
     "execution_count": 13,
     "metadata": {},
     "output_type": "execute_result"
    }
   ],
   "source": [
    "# Create Delta Tables Structure in order to write stream data\n",
    "spark.sql(\n",
    "    \"\"\"\n",
    "        CREATE TABLE IF NOT EXISTS default.covid_nyt_ignore_deletes\n",
    "        USING DELTA\n",
    "        LOCATION './covid_nyt_ignore_deletes'\n",
    "    \"\"\"\n",
    ")"
   ]
  },
  {
   "cell_type": "code",
   "execution_count": null,
   "id": "be68e000-0b68-462f-bed8-08504f0cf4ff",
   "metadata": {
    "scrolled": true
   },
   "outputs": [],
   "source": [
    "# Note: Spark needs update in order to support ANALYZE .. COMPUTE STATISTICS\n",
    "# in order to collect statistics of Delta Tables v2\n",
    "spark.sql(\n",
    "    \"\"\"\n",
    "        ANALYZE TABLE default.covid_nyt COMPUTE STATISTICS\n",
    "    \"\"\"\n",
    ")"
   ]
  },
  {
   "cell_type": "code",
   "execution_count": 26,
   "id": "353c145b-adfd-4e55-9cfd-2c62dba80230",
   "metadata": {
    "scrolled": true
   },
   "outputs": [
    {
     "data": {
      "text/html": [
       "<table border='1'>\n",
       "<tr><th>add</th><th>commitInfo</th><th>metaData</th><th>protocol</th></tr>\n",
       "<tr><td>NULL</td><td>{Apache-Spark/3.5.4 Delta-Lake/3.2.0, true, Serializable, WRITE, {8, 6550290, 1111930}, {NULL, NULL, NULL, NULL, Append, [], NULL}, 1, 1741457277490, 2f88a686-d657-405a-9ac8-92b824f89f78}</td><td>NULL</td><td>NULL</td></tr>\n",
       "<tr><td>NULL</td><td>NULL</td><td>{{6, name, interval 7 days, NULL, NULL}, 1741457252578, {parquet}, 2a7017eb-b2ab-4be5-9f16-41c0ee2be0e6, [], {&quot;type&quot;:&quot;struct&quot;,&quot;fields&quot;:[{&quot;name&quot;:&quot;date&quot;,&quot;type&quot;:&quot;date&quot;,&quot;nullable&quot;:true,&quot;metadata&quot;:{&quot;delta.columnMapping.id&quot;:1,&quot;delta.columnMapping.physicalName&quot;:&quot;date&quot;}},{&quot;name&quot;:&quot;county&quot;,&quot;type&quot;:&quot;string&quot;,&quot;nullable&quot;:true,&quot;metadata&quot;:{&quot;delta.columnMapping.id&quot;:2,&quot;delta.columnMapping.physicalName&quot;:&quot;col-56356e29-24ec-4c79-99f0-adf7cd37b672&quot;}},{&quot;name&quot;:&quot;state&quot;,&quot;type&quot;:&quot;string&quot;,&quot;nullable&quot;:true,&quot;metadata&quot;:{&quot;delta.columnMapping.id&quot;:3,&quot;delta.columnMapping.physicalName&quot;:&quot;col-e70f7f07-f9f5-4c56-b0c8-0e5308f0d537&quot;}},{&quot;name&quot;:&quot;fips&quot;,&quot;type&quot;:&quot;integer&quot;,&quot;nullable&quot;:true,&quot;metadata&quot;:{&quot;delta.columnMapping.id&quot;:4,&quot;delta.columnMapping.physicalName&quot;:&quot;col-983dfa3b-37e6-4450-98bc-7c3762e9304d&quot;}},{&quot;name&quot;:&quot;cases&quot;,&quot;type&quot;:&quot;integer&quot;,&quot;nullable&quot;:true,&quot;metadata&quot;:{&quot;delta.columnMapping.id&quot;:5,&quot;delta.columnMapping.physicalName&quot;:&quot;col-80e3bd88-c76a-4f0f-8f5b-a350fe9aa25e&quot;}},{&quot;name&quot;:&quot;deaths&quot;,&quot;type&quot;:&quot;integer&quot;,&quot;nullable&quot;:true,&quot;metadata&quot;:{&quot;delta.columnMapping.id&quot;:6,&quot;delta.columnMapping.physicalName&quot;:&quot;col-164fc145-862d-4ea3-bec9-092ac5a3aacf&quot;}}]}}</td><td>NULL</td></tr>\n",
       "<tr><td>{true, 1741457277467, part-00000-4706d30d-61ab-4140-b5d9-5c7ce7907caa-c000.snappy.parquet, 928066, {&quot;numRecords&quot;:148339,&quot;minValues&quot;:{&quot;date&quot;:&quot;2020-11-26&quot;,&quot;col-56356e29-24ec-4c79-99f0-adf7cd37b672&quot;:&quot;Abbeville&quot;,&quot;col-e70f7f07-f9f5-4c56-b0c8-0e5308f0d537&quot;:&quot;Alabama&quot;,&quot;col-983dfa3b-37e6-4450-98bc-7c3762e9304d&quot;:1001,&quot;col-80e3bd88-c76a-4f0f-8f5b-a350fe9aa25e&quot;:0,&quot;col-164fc145-862d-4ea3-bec9-092ac5a3aacf&quot;:0},&quot;maxValues&quot;:{&quot;date&quot;:&quot;2021-01-10&quot;,&quot;col-56356e29-24ec-4c79-99f0-adf7cd37b672&quot;:&quot;Ziebach&quot;,&quot;col-e70f7f07-f9f5-4c56-b0c8-0e5308f0d537&quot;:&quot;Wyoming&quot;,&quot;col-983dfa3b-37e6-4450-98bc-7c3762e9304d&quot;:78030,&quot;col-80e3bd88-c76a-4f0f-8f5b-a350fe9aa25e&quot;:920560,&quot;col-164fc145-862d-4ea3-bec9-092ac5a3aacf&quot;:25562},&quot;nullCount&quot;:{&quot;date&quot;:0,&quot;col-56356e29-24ec-4c79-99f0-adf7cd37b672&quot;:0,&quot;col-e70f7f07-f9f5-4c56-b0c8-0e5308f0d537&quot;:0,&quot;col-983dfa3b-37e6-4450-98bc-7c3762e9304d&quot;:1262,&quot;col-80e3bd88-c76a-4f0f-8f5b-a350fe9aa25e&quot;:0,&quot;col-164fc145-862d-4ea3-bec9-092ac5a3aacf&quot;:3588}}}</td><td>NULL</td><td>NULL</td><td>NULL</td></tr>\n",
       "<tr><td>{true, 1741457277445, part-00001-dc4bfe05-a840-4b66-a883-8c7d1143abf5-c000.snappy.parquet, 980374, {&quot;numRecords&quot;:150290,&quot;minValues&quot;:{&quot;date&quot;:&quot;2020-10-10&quot;,&quot;col-56356e29-24ec-4c79-99f0-adf7cd37b672&quot;:&quot;Abbeville&quot;,&quot;col-e70f7f07-f9f5-4c56-b0c8-0e5308f0d537&quot;:&quot;Alabama&quot;,&quot;col-983dfa3b-37e6-4450-98bc-7c3762e9304d&quot;:1001,&quot;col-80e3bd88-c76a-4f0f-8f5b-a350fe9aa25e&quot;:0,&quot;col-164fc145-862d-4ea3-bec9-092ac5a3aacf&quot;:0},&quot;maxValues&quot;:{&quot;date&quot;:&quot;2020-11-26&quot;,&quot;col-56356e29-24ec-4c79-99f0-adf7cd37b672&quot;:&quot;Ziebach&quot;,&quot;col-e70f7f07-f9f5-4c56-b0c8-0e5308f0d537&quot;:&quot;Wyoming&quot;,&quot;col-983dfa3b-37e6-4450-98bc-7c3762e9304d&quot;:78030,&quot;col-80e3bd88-c76a-4f0f-8f5b-a350fe9aa25e&quot;:383373,&quot;col-164fc145-862d-4ea3-bec9-092ac5a3aacf&quot;:24230},&quot;nullCount&quot;:{&quot;date&quot;:0,&quot;col-56356e29-24ec-4c79-99f0-adf7cd37b672&quot;:0,&quot;col-e70f7f07-f9f5-4c56-b0c8-0e5308f0d537&quot;:0,&quot;col-983dfa3b-37e6-4450-98bc-7c3762e9304d&quot;:1346,&quot;col-80e3bd88-c76a-4f0f-8f5b-a350fe9aa25e&quot;:0,&quot;col-164fc145-862d-4ea3-bec9-092ac5a3aacf&quot;:3588}}}</td><td>NULL</td><td>NULL</td><td>NULL</td></tr>\n",
       "<tr><td>{true, 1741457277410, part-00002-40677ab9-37d8-4f54-827e-7d25dbfe8cd6-c000.snappy.parquet, 901110, {&quot;numRecords&quot;:147181,&quot;minValues&quot;:{&quot;date&quot;:&quot;2021-01-10&quot;,&quot;col-56356e29-24ec-4c79-99f0-adf7cd37b672&quot;:&quot;Abbeville&quot;,&quot;col-e70f7f07-f9f5-4c56-b0c8-0e5308f0d537&quot;:&quot;Alabama&quot;,&quot;col-983dfa3b-37e6-4450-98bc-7c3762e9304d&quot;:1001,&quot;col-80e3bd88-c76a-4f0f-8f5b-a350fe9aa25e&quot;:0,&quot;col-164fc145-862d-4ea3-bec9-092ac5a3aacf&quot;:0},&quot;maxValues&quot;:{&quot;date&quot;:&quot;2021-02-25&quot;,&quot;col-56356e29-24ec-4c79-99f0-adf7cd37b672&quot;:&quot;Ziebach&quot;,&quot;col-e70f7f07-f9f5-4c56-b0c8-0e5308f0d537&quot;:&quot;Wyoming&quot;,&quot;col-983dfa3b-37e6-4450-98bc-7c3762e9304d&quot;:78030,&quot;col-80e3bd88-c76a-4f0f-8f5b-a350fe9aa25e&quot;:1188101,&quot;col-164fc145-862d-4ea3-bec9-092ac5a3aacf&quot;:29025},&quot;nullCount&quot;:{&quot;date&quot;:0,&quot;col-56356e29-24ec-4c79-99f0-adf7cd37b672&quot;:0,&quot;col-e70f7f07-f9f5-4c56-b0c8-0e5308f0d537&quot;:0,&quot;col-983dfa3b-37e6-4450-98bc-7c3762e9304d&quot;:1250,&quot;col-80e3bd88-c76a-4f0f-8f5b-a350fe9aa25e&quot;:0,&quot;col-164fc145-862d-4ea3-bec9-092ac5a3aacf&quot;:3510}}}</td><td>NULL</td><td>NULL</td><td>NULL</td></tr>\n",
       "<tr><td>{true, 1741457277482, part-00003-75742a71-5156-4d33-8321-0d76f5af8cd6-c000.snappy.parquet, 904599, {&quot;numRecords&quot;:151830,&quot;minValues&quot;:{&quot;date&quot;:&quot;2020-08-25&quot;,&quot;col-56356e29-24ec-4c79-99f0-adf7cd37b672&quot;:&quot;Abbeville&quot;,&quot;col-e70f7f07-f9f5-4c56-b0c8-0e5308f0d537&quot;:&quot;Alabama&quot;,&quot;col-983dfa3b-37e6-4450-98bc-7c3762e9304d&quot;:1001,&quot;col-80e3bd88-c76a-4f0f-8f5b-a350fe9aa25e&quot;:0,&quot;col-164fc145-862d-4ea3-bec9-092ac5a3aacf&quot;:0},&quot;maxValues&quot;:{&quot;date&quot;:&quot;2020-10-10&quot;,&quot;col-56356e29-24ec-4c79-99f0-adf7cd37b672&quot;:&quot;Ziebach&quot;,&quot;col-e70f7f07-f9f5-4c56-b0c8-0e5308f0d537&quot;:&quot;Wyoming&quot;,&quot;col-983dfa3b-37e6-4450-98bc-7c3762e9304d&quot;:78030,&quot;col-80e3bd88-c76a-4f0f-8f5b-a350fe9aa25e&quot;:281165,&quot;col-164fc145-862d-4ea3-bec9-092ac5a3aacf&quot;:23882},&quot;nullCount&quot;:{&quot;date&quot;:0,&quot;col-56356e29-24ec-4c79-99f0-adf7cd37b672&quot;:0,&quot;col-e70f7f07-f9f5-4c56-b0c8-0e5308f0d537&quot;:0,&quot;col-983dfa3b-37e6-4450-98bc-7c3762e9304d&quot;:1445,&quot;col-80e3bd88-c76a-4f0f-8f5b-a350fe9aa25e&quot;:0,&quot;col-164fc145-862d-4ea3-bec9-092ac5a3aacf&quot;:3666}}}</td><td>NULL</td><td>NULL</td><td>NULL</td></tr>\n",
       "<tr><td>{true, 1741457277462, part-00004-da29f767-9b36-4f59-9e9b-a814516bfd93-c000.snappy.parquet, 862066, {&quot;numRecords&quot;:153372,&quot;minValues&quot;:{&quot;date&quot;:&quot;2020-07-08&quot;,&quot;col-56356e29-24ec-4c79-99f0-adf7cd37b672&quot;:&quot;Abbeville&quot;,&quot;col-e70f7f07-f9f5-4c56-b0c8-0e5308f0d537&quot;:&quot;Alabama&quot;,&quot;col-983dfa3b-37e6-4450-98bc-7c3762e9304d&quot;:1001,&quot;col-80e3bd88-c76a-4f0f-8f5b-a350fe9aa25e&quot;:0,&quot;col-164fc145-862d-4ea3-bec9-092ac5a3aacf&quot;:0},&quot;maxValues&quot;:{&quot;date&quot;:&quot;2020-08-25&quot;,&quot;col-56356e29-24ec-4c79-99f0-adf7cd37b672&quot;:&quot;Ziebach&quot;,&quot;col-e70f7f07-f9f5-4c56-b0c8-0e5308f0d537&quot;:&quot;Wyoming&quot;,&quot;col-983dfa3b-37e6-4450-98bc-7c3762e9304d&quot;:78030,&quot;col-80e3bd88-c76a-4f0f-8f5b-a350fe9aa25e&quot;:237032,&quot;col-164fc145-862d-4ea3-bec9-092ac5a3aacf&quot;:23662},&quot;nullCount&quot;:{&quot;date&quot;:0,&quot;col-56356e29-24ec-4c79-99f0-adf7cd37b672&quot;:0,&quot;col-e70f7f07-f9f5-4c56-b0c8-0e5308f0d537&quot;:0,&quot;col-983dfa3b-37e6-4450-98bc-7c3762e9304d&quot;:1355,&quot;col-80e3bd88-c76a-4f0f-8f5b-a350fe9aa25e&quot;:0,&quot;col-164fc145-862d-4ea3-bec9-092ac5a3aacf&quot;:3744}}}</td><td>NULL</td><td>NULL</td><td>NULL</td></tr>\n",
       "<tr><td>{true, 1741457277482, part-00005-c62bbc2e-9383-4c9c-ac23-0c6e4ccd9aac-c000.snappy.parquet, 845325, {&quot;numRecords&quot;:155494,&quot;minValues&quot;:{&quot;date&quot;:&quot;2020-05-19&quot;,&quot;col-56356e29-24ec-4c79-99f0-adf7cd37b672&quot;:&quot;Abbeville&quot;,&quot;col-e70f7f07-f9f5-4c56-b0c8-0e5308f0d537&quot;:&quot;Alabama&quot;,&quot;col-983dfa3b-37e6-4450-98bc-7c3762e9304d&quot;:1001,&quot;col-80e3bd88-c76a-4f0f-8f5b-a350fe9aa25e&quot;:0,&quot;col-164fc145-862d-4ea3-bec9-092ac5a3aacf&quot;:0},&quot;maxValues&quot;:{&quot;date&quot;:&quot;2020-07-08&quot;,&quot;col-56356e29-24ec-4c79-99f0-adf7cd37b672&quot;:&quot;Ziebach&quot;,&quot;col-e70f7f07-f9f5-4c56-b0c8-0e5308f0d537&quot;:&quot;Wyoming&quot;,&quot;col-983dfa3b-37e6-4450-98bc-7c3762e9304d&quot;:78030,&quot;col-80e3bd88-c76a-4f0f-8f5b-a350fe9aa25e&quot;:222156,&quot;col-164fc145-862d-4ea3-bec9-092ac5a3aacf&quot;:22690},&quot;nullCount&quot;:{&quot;date&quot;:0,&quot;col-56356e29-24ec-4c79-99f0-adf7cd37b672&quot;:0,&quot;col-e70f7f07-f9f5-4c56-b0c8-0e5308f0d537&quot;:0,&quot;col-983dfa3b-37e6-4450-98bc-7c3762e9304d&quot;:1387,&quot;col-80e3bd88-c76a-4f0f-8f5b-a350fe9aa25e&quot;:0,&quot;col-164fc145-862d-4ea3-bec9-092ac5a3aacf&quot;:3890}}}</td><td>NULL</td><td>NULL</td><td>NULL</td></tr>\n",
       "<tr><td>{true, 1741457277475, part-00006-555393a6-3820-4b75-bcdb-c9c58589fccd-c000.snappy.parquet, 793105, {&quot;numRecords&quot;:157865,&quot;minValues&quot;:{&quot;date&quot;:&quot;2020-01-21&quot;,&quot;col-56356e29-24ec-4c79-99f0-adf7cd37b672&quot;:&quot;Abbeville&quot;,&quot;col-e70f7f07-f9f5-4c56-b0c8-0e5308f0d537&quot;:&quot;Alabama&quot;,&quot;col-983dfa3b-37e6-4450-98bc-7c3762e9304d&quot;:1001,&quot;col-80e3bd88-c76a-4f0f-8f5b-a350fe9aa25e&quot;:0,&quot;col-164fc145-862d-4ea3-bec9-092ac5a3aacf&quot;:0},&quot;maxValues&quot;:{&quot;date&quot;:&quot;2020-05-19&quot;,&quot;col-56356e29-24ec-4c79-99f0-adf7cd37b672&quot;:&quot;Ziebach&quot;,&quot;col-e70f7f07-f9f5-4c56-b0c8-0e5308f0d537&quot;:&quot;Wyoming&quot;,&quot;col-983dfa3b-37e6-4450-98bc-7c3762e9304d&quot;:78030,&quot;col-80e3bd88-c76a-4f0f-8f5b-a350fe9aa25e&quot;:198114,&quot;col-164fc145-862d-4ea3-bec9-092ac5a3aacf&quot;:20298},&quot;nullCount&quot;:{&quot;date&quot;:0,&quot;col-56356e29-24ec-4c79-99f0-adf7cd37b672&quot;:0,&quot;col-e70f7f07-f9f5-4c56-b0c8-0e5308f0d537&quot;:0,&quot;col-983dfa3b-37e6-4450-98bc-7c3762e9304d&quot;:1746,&quot;col-80e3bd88-c76a-4f0f-8f5b-a350fe9aa25e&quot;:0,&quot;col-164fc145-862d-4ea3-bec9-092ac5a3aacf&quot;:1065}}}</td><td>NULL</td><td>NULL</td><td>NULL</td></tr>\n",
       "<tr><td>{true, 1741457277074, part-00007-1c0dceb9-0467-4319-8551-f93c4214f7b1-c000.snappy.parquet, 335645, {&quot;numRecords&quot;:47559,&quot;minValues&quot;:{&quot;date&quot;:&quot;2021-02-25&quot;,&quot;col-56356e29-24ec-4c79-99f0-adf7cd37b672&quot;:&quot;Abbeville&quot;,&quot;col-e70f7f07-f9f5-4c56-b0c8-0e5308f0d537&quot;:&quot;Alabama&quot;,&quot;col-983dfa3b-37e6-4450-98bc-7c3762e9304d&quot;:1001,&quot;col-80e3bd88-c76a-4f0f-8f5b-a350fe9aa25e&quot;:0,&quot;col-164fc145-862d-4ea3-bec9-092ac5a3aacf&quot;:0},&quot;maxValues&quot;:{&quot;date&quot;:&quot;2021-03-11&quot;,&quot;col-56356e29-24ec-4c79-99f0-adf7cd37b672&quot;:&quot;Ziebach&quot;,&quot;col-e70f7f07-f9f5-4c56-b0c8-0e5308f0d537&quot;:&quot;Wyoming&quot;,&quot;col-983dfa3b-37e6-4450-98bc-7c3762e9304d&quot;:78030,&quot;col-80e3bd88-c76a-4f0f-8f5b-a350fe9aa25e&quot;:1208672,&quot;col-164fc145-862d-4ea3-bec9-092ac5a3aacf&quot;:30068},&quot;nullCount&quot;:{&quot;date&quot;:0,&quot;col-56356e29-24ec-4c79-99f0-adf7cd37b672&quot;:0,&quot;col-e70f7f07-f9f5-4c56-b0c8-0e5308f0d537&quot;:0,&quot;col-983dfa3b-37e6-4450-98bc-7c3762e9304d&quot;:408,&quot;col-80e3bd88-c76a-4f0f-8f5b-a350fe9aa25e&quot;:0,&quot;col-164fc145-862d-4ea3-bec9-092ac5a3aacf&quot;:1170}}}</td><td>NULL</td><td>NULL</td><td>NULL</td></tr>\n",
       "<tr><td>NULL</td><td>{Apache-Spark/3.5.4 Delta-Lake/3.2.0, true, Serializable, SET TBLPROPERTIES, {NULL, NULL, NULL}, {NULL, NULL, NULL, NULL, NULL, NULL, {&quot;engineering.team_name&quot;:&quot;dldg_authors&quot;,&quot;engineering.slack&quot;:&quot;delta-users.slack.com&quot;}}, 2, 1741528608885, b90796ef-17d9-4215-aa57-9c9a21418709}</td><td>NULL</td><td>NULL</td></tr>\n",
       "<tr><td>NULL</td><td>NULL</td><td>{{6, name, interval 7 days, delta-users.slack.com, dldg_authors}, 1741457252578, {parquet}, 2a7017eb-b2ab-4be5-9f16-41c0ee2be0e6, [], {&quot;type&quot;:&quot;struct&quot;,&quot;fields&quot;:[{&quot;name&quot;:&quot;date&quot;,&quot;type&quot;:&quot;date&quot;,&quot;nullable&quot;:true,&quot;metadata&quot;:{&quot;delta.columnMapping.id&quot;:1,&quot;delta.columnMapping.physicalName&quot;:&quot;date&quot;}},{&quot;name&quot;:&quot;county&quot;,&quot;type&quot;:&quot;string&quot;,&quot;nullable&quot;:true,&quot;metadata&quot;:{&quot;delta.columnMapping.id&quot;:2,&quot;delta.columnMapping.physicalName&quot;:&quot;col-56356e29-24ec-4c79-99f0-adf7cd37b672&quot;}},{&quot;name&quot;:&quot;state&quot;,&quot;type&quot;:&quot;string&quot;,&quot;nullable&quot;:true,&quot;metadata&quot;:{&quot;delta.columnMapping.id&quot;:3,&quot;delta.columnMapping.physicalName&quot;:&quot;col-e70f7f07-f9f5-4c56-b0c8-0e5308f0d537&quot;}},{&quot;name&quot;:&quot;fips&quot;,&quot;type&quot;:&quot;integer&quot;,&quot;nullable&quot;:true,&quot;metadata&quot;:{&quot;delta.columnMapping.id&quot;:4,&quot;delta.columnMapping.physicalName&quot;:&quot;col-983dfa3b-37e6-4450-98bc-7c3762e9304d&quot;}},{&quot;name&quot;:&quot;cases&quot;,&quot;type&quot;:&quot;integer&quot;,&quot;nullable&quot;:true,&quot;metadata&quot;:{&quot;delta.columnMapping.id&quot;:5,&quot;delta.columnMapping.physicalName&quot;:&quot;col-80e3bd88-c76a-4f0f-8f5b-a350fe9aa25e&quot;}},{&quot;name&quot;:&quot;deaths&quot;,&quot;type&quot;:&quot;integer&quot;,&quot;nullable&quot;:true,&quot;metadata&quot;:{&quot;delta.columnMapping.id&quot;:6,&quot;delta.columnMapping.physicalName&quot;:&quot;col-164fc145-862d-4ea3-bec9-092ac5a3aacf&quot;}}]}}</td><td>NULL</td></tr>\n",
       "<tr><td>NULL</td><td>{Apache-Spark/3.5.4 Delta-Lake/3.2.0, true, Serializable, UNSET TBLPROPERTIES, {NULL, NULL, NULL}, {NULL, NULL, true, NULL, NULL, NULL, [&quot;engineering.team_name&quot;,&quot;engineering.slack&quot;]}, 3, 1741529227585, 0d884cb1-a64c-48ca-88ef-36c85e1fd6b1}</td><td>NULL</td><td>NULL</td></tr>\n",
       "<tr><td>NULL</td><td>NULL</td><td>{{6, name, interval 7 days, NULL, NULL}, 1741457252578, {parquet}, 2a7017eb-b2ab-4be5-9f16-41c0ee2be0e6, [], {&quot;type&quot;:&quot;struct&quot;,&quot;fields&quot;:[{&quot;name&quot;:&quot;date&quot;,&quot;type&quot;:&quot;date&quot;,&quot;nullable&quot;:true,&quot;metadata&quot;:{&quot;delta.columnMapping.id&quot;:1,&quot;delta.columnMapping.physicalName&quot;:&quot;date&quot;}},{&quot;name&quot;:&quot;county&quot;,&quot;type&quot;:&quot;string&quot;,&quot;nullable&quot;:true,&quot;metadata&quot;:{&quot;delta.columnMapping.id&quot;:2,&quot;delta.columnMapping.physicalName&quot;:&quot;col-56356e29-24ec-4c79-99f0-adf7cd37b672&quot;}},{&quot;name&quot;:&quot;state&quot;,&quot;type&quot;:&quot;string&quot;,&quot;nullable&quot;:true,&quot;metadata&quot;:{&quot;delta.columnMapping.id&quot;:3,&quot;delta.columnMapping.physicalName&quot;:&quot;col-e70f7f07-f9f5-4c56-b0c8-0e5308f0d537&quot;}},{&quot;name&quot;:&quot;fips&quot;,&quot;type&quot;:&quot;integer&quot;,&quot;nullable&quot;:true,&quot;metadata&quot;:{&quot;delta.columnMapping.id&quot;:4,&quot;delta.columnMapping.physicalName&quot;:&quot;col-983dfa3b-37e6-4450-98bc-7c3762e9304d&quot;}},{&quot;name&quot;:&quot;cases&quot;,&quot;type&quot;:&quot;integer&quot;,&quot;nullable&quot;:true,&quot;metadata&quot;:{&quot;delta.columnMapping.id&quot;:5,&quot;delta.columnMapping.physicalName&quot;:&quot;col-80e3bd88-c76a-4f0f-8f5b-a350fe9aa25e&quot;}},{&quot;name&quot;:&quot;deaths&quot;,&quot;type&quot;:&quot;integer&quot;,&quot;nullable&quot;:true,&quot;metadata&quot;:{&quot;delta.columnMapping.id&quot;:6,&quot;delta.columnMapping.physicalName&quot;:&quot;col-164fc145-862d-4ea3-bec9-092ac5a3aacf&quot;}}]}}</td><td>NULL</td></tr>\n",
       "<tr><td>NULL</td><td>{Apache-Spark/3.5.4 Delta-Lake/3.2.0, true, Serializable, SET TBLPROPERTIES, {NULL, NULL, NULL}, {NULL, NULL, NULL, NULL, NULL, NULL, {&quot;delta.columnMapping.mode&quot;:&quot;name&quot;,&quot;delta.minReaderVersion&quot;:&quot;2&quot;,&quot;delta.minWriterVersion&quot;:&quot;5&quot;}}, 0, 1741457262200, bde46638-6e04-4e9f-b503-4bfe24a623a4}</td><td>NULL</td><td>NULL</td></tr>\n",
       "<tr><td>NULL</td><td>NULL</td><td>{{1, name, interval 7 days, NULL, NULL}, 1741457252578, {parquet}, 2a7017eb-b2ab-4be5-9f16-41c0ee2be0e6, [], {&quot;type&quot;:&quot;struct&quot;,&quot;fields&quot;:[{&quot;name&quot;:&quot;date&quot;,&quot;type&quot;:&quot;date&quot;,&quot;nullable&quot;:true,&quot;metadata&quot;:{&quot;delta.columnMapping.id&quot;:1,&quot;delta.columnMapping.physicalName&quot;:&quot;date&quot;}}]}}</td><td>NULL</td></tr>\n",
       "<tr><td>NULL</td><td>NULL</td><td>NULL</td><td>{2, 5}</td></tr>\n",
       "<tr><td>NULL</td><td>{Apache-Spark/3.5.4 Delta-Lake/3.2.0, true, Serializable, CREATE TABLE, {NULL, NULL, NULL}, {[], NULL, NULL, true, NULL, [], {&quot;delta.logRetentionDuration&quot;:&quot;interval 7 days&quot;}}, NULL, 1741457252582, 306bc385-9ca2-4ff8-89d3-e858a104e2cb}</td><td>NULL</td><td>NULL</td></tr>\n",
       "<tr><td>NULL</td><td>NULL</td><td>{{NULL, NULL, interval 7 days, NULL, NULL}, 1741457252578, {parquet}, 2a7017eb-b2ab-4be5-9f16-41c0ee2be0e6, [], {&quot;type&quot;:&quot;struct&quot;,&quot;fields&quot;:[{&quot;name&quot;:&quot;date&quot;,&quot;type&quot;:&quot;date&quot;,&quot;nullable&quot;:true,&quot;metadata&quot;:{}}]}}</td><td>NULL</td></tr>\n",
       "<tr><td>NULL</td><td>NULL</td><td>NULL</td><td>{1, 2}</td></tr>\n",
       "</table>\n"
      ],
      "text/plain": [
       "+--------------------------------------------------------------------------------------------------------------------------------------------------------------------------------------------------------------------------------------------------------------------------------------------------------------------------------------------------------------------------------------------------------------------------------------------------------------------------------------------------------------------------------------------------------------------------------------------------------------------------------------------------------------------------------------------------------------------------------------------------------------------------------------------------------------------------------------------------------------------------------------------------------------------------------------------------------------------------------+---------------------------------------------------------------------------------------------------------------------------------------------------------------------------------------------------------------------------------------------------------------------------------------------+--------------------------------------------------------------------------------------------------------------------------------------------------------------------------------------------------------------------------------------------------------------------------------------------------------------------------------------------------------------------------------------------------------------------------------------------------------------------------------------------------------------------------------------------------------------------------------------------------------------------------------------------------------------------------------------------------------------------------------------------------------------------------------------------------------------------------------------------------------------------------------------------------------------------------------------------------------------------------------------------------------------------------------------------------------------------------------------------------------------------------------------------------------------------------+--------+\n",
       "|add                                                                                                                                                                                                                                                                                                                                                                                                                                                                                                                                                                                                                                                                                                                                                                                                                                                                                                                                                                             |commitInfo                                                                                                                                                                                                                                                                                   |metaData                                                                                                                                                                                                                                                                                                                                                                                                                                                                                                                                                                                                                                                                                                                                                                                                                                                                                                                                                                                                                                                                                                                                                                  |protocol|\n",
       "+--------------------------------------------------------------------------------------------------------------------------------------------------------------------------------------------------------------------------------------------------------------------------------------------------------------------------------------------------------------------------------------------------------------------------------------------------------------------------------------------------------------------------------------------------------------------------------------------------------------------------------------------------------------------------------------------------------------------------------------------------------------------------------------------------------------------------------------------------------------------------------------------------------------------------------------------------------------------------------+---------------------------------------------------------------------------------------------------------------------------------------------------------------------------------------------------------------------------------------------------------------------------------------------+--------------------------------------------------------------------------------------------------------------------------------------------------------------------------------------------------------------------------------------------------------------------------------------------------------------------------------------------------------------------------------------------------------------------------------------------------------------------------------------------------------------------------------------------------------------------------------------------------------------------------------------------------------------------------------------------------------------------------------------------------------------------------------------------------------------------------------------------------------------------------------------------------------------------------------------------------------------------------------------------------------------------------------------------------------------------------------------------------------------------------------------------------------------------------+--------+\n",
       "|NULL                                                                                                                                                                                                                                                                                                                                                                                                                                                                                                                                                                                                                                                                                                                                                                                                                                                                                                                                                                            |{Apache-Spark/3.5.4 Delta-Lake/3.2.0, true, Serializable, WRITE, {8, 6550290, 1111930}, {NULL, NULL, NULL, NULL, Append, [], NULL}, 1, 1741457277490, 2f88a686-d657-405a-9ac8-92b824f89f78}                                                                                                  |NULL                                                                                                                                                                                                                                                                                                                                                                                                                                                                                                                                                                                                                                                                                                                                                                                                                                                                                                                                                                                                                                                                                                                                                                      |NULL    |\n",
       "|NULL                                                                                                                                                                                                                                                                                                                                                                                                                                                                                                                                                                                                                                                                                                                                                                                                                                                                                                                                                                            |NULL                                                                                                                                                                                                                                                                                         |{{6, name, interval 7 days, NULL, NULL}, 1741457252578, {parquet}, 2a7017eb-b2ab-4be5-9f16-41c0ee2be0e6, [], {\"type\":\"struct\",\"fields\":[{\"name\":\"date\",\"type\":\"date\",\"nullable\":true,\"metadata\":{\"delta.columnMapping.id\":1,\"delta.columnMapping.physicalName\":\"date\"}},{\"name\":\"county\",\"type\":\"string\",\"nullable\":true,\"metadata\":{\"delta.columnMapping.id\":2,\"delta.columnMapping.physicalName\":\"col-56356e29-24ec-4c79-99f0-adf7cd37b672\"}},{\"name\":\"state\",\"type\":\"string\",\"nullable\":true,\"metadata\":{\"delta.columnMapping.id\":3,\"delta.columnMapping.physicalName\":\"col-e70f7f07-f9f5-4c56-b0c8-0e5308f0d537\"}},{\"name\":\"fips\",\"type\":\"integer\",\"nullable\":true,\"metadata\":{\"delta.columnMapping.id\":4,\"delta.columnMapping.physicalName\":\"col-983dfa3b-37e6-4450-98bc-7c3762e9304d\"}},{\"name\":\"cases\",\"type\":\"integer\",\"nullable\":true,\"metadata\":{\"delta.columnMapping.id\":5,\"delta.columnMapping.physicalName\":\"col-80e3bd88-c76a-4f0f-8f5b-a350fe9aa25e\"}},{\"name\":\"deaths\",\"type\":\"integer\",\"nullable\":true,\"metadata\":{\"delta.columnMapping.id\":6,\"delta.columnMapping.physicalName\":\"col-164fc145-862d-4ea3-bec9-092ac5a3aacf\"}}]}}                         |NULL    |\n",
       "|{true, 1741457277467, part-00000-4706d30d-61ab-4140-b5d9-5c7ce7907caa-c000.snappy.parquet, 928066, {\"numRecords\":148339,\"minValues\":{\"date\":\"2020-11-26\",\"col-56356e29-24ec-4c79-99f0-adf7cd37b672\":\"Abbeville\",\"col-e70f7f07-f9f5-4c56-b0c8-0e5308f0d537\":\"Alabama\",\"col-983dfa3b-37e6-4450-98bc-7c3762e9304d\":1001,\"col-80e3bd88-c76a-4f0f-8f5b-a350fe9aa25e\":0,\"col-164fc145-862d-4ea3-bec9-092ac5a3aacf\":0},\"maxValues\":{\"date\":\"2021-01-10\",\"col-56356e29-24ec-4c79-99f0-adf7cd37b672\":\"Ziebach\",\"col-e70f7f07-f9f5-4c56-b0c8-0e5308f0d537\":\"Wyoming\",\"col-983dfa3b-37e6-4450-98bc-7c3762e9304d\":78030,\"col-80e3bd88-c76a-4f0f-8f5b-a350fe9aa25e\":920560,\"col-164fc145-862d-4ea3-bec9-092ac5a3aacf\":25562},\"nullCount\":{\"date\":0,\"col-56356e29-24ec-4c79-99f0-adf7cd37b672\":0,\"col-e70f7f07-f9f5-4c56-b0c8-0e5308f0d537\":0,\"col-983dfa3b-37e6-4450-98bc-7c3762e9304d\":1262,\"col-80e3bd88-c76a-4f0f-8f5b-a350fe9aa25e\":0,\"col-164fc145-862d-4ea3-bec9-092ac5a3aacf\":3588}}} |NULL                                                                                                                                                                                                                                                                                         |NULL                                                                                                                                                                                                                                                                                                                                                                                                                                                                                                                                                                                                                                                                                                                                                                                                                                                                                                                                                                                                                                                                                                                                                                      |NULL    |\n",
       "|{true, 1741457277445, part-00001-dc4bfe05-a840-4b66-a883-8c7d1143abf5-c000.snappy.parquet, 980374, {\"numRecords\":150290,\"minValues\":{\"date\":\"2020-10-10\",\"col-56356e29-24ec-4c79-99f0-adf7cd37b672\":\"Abbeville\",\"col-e70f7f07-f9f5-4c56-b0c8-0e5308f0d537\":\"Alabama\",\"col-983dfa3b-37e6-4450-98bc-7c3762e9304d\":1001,\"col-80e3bd88-c76a-4f0f-8f5b-a350fe9aa25e\":0,\"col-164fc145-862d-4ea3-bec9-092ac5a3aacf\":0},\"maxValues\":{\"date\":\"2020-11-26\",\"col-56356e29-24ec-4c79-99f0-adf7cd37b672\":\"Ziebach\",\"col-e70f7f07-f9f5-4c56-b0c8-0e5308f0d537\":\"Wyoming\",\"col-983dfa3b-37e6-4450-98bc-7c3762e9304d\":78030,\"col-80e3bd88-c76a-4f0f-8f5b-a350fe9aa25e\":383373,\"col-164fc145-862d-4ea3-bec9-092ac5a3aacf\":24230},\"nullCount\":{\"date\":0,\"col-56356e29-24ec-4c79-99f0-adf7cd37b672\":0,\"col-e70f7f07-f9f5-4c56-b0c8-0e5308f0d537\":0,\"col-983dfa3b-37e6-4450-98bc-7c3762e9304d\":1346,\"col-80e3bd88-c76a-4f0f-8f5b-a350fe9aa25e\":0,\"col-164fc145-862d-4ea3-bec9-092ac5a3aacf\":3588}}} |NULL                                                                                                                                                                                                                                                                                         |NULL                                                                                                                                                                                                                                                                                                                                                                                                                                                                                                                                                                                                                                                                                                                                                                                                                                                                                                                                                                                                                                                                                                                                                                      |NULL    |\n",
       "|{true, 1741457277410, part-00002-40677ab9-37d8-4f54-827e-7d25dbfe8cd6-c000.snappy.parquet, 901110, {\"numRecords\":147181,\"minValues\":{\"date\":\"2021-01-10\",\"col-56356e29-24ec-4c79-99f0-adf7cd37b672\":\"Abbeville\",\"col-e70f7f07-f9f5-4c56-b0c8-0e5308f0d537\":\"Alabama\",\"col-983dfa3b-37e6-4450-98bc-7c3762e9304d\":1001,\"col-80e3bd88-c76a-4f0f-8f5b-a350fe9aa25e\":0,\"col-164fc145-862d-4ea3-bec9-092ac5a3aacf\":0},\"maxValues\":{\"date\":\"2021-02-25\",\"col-56356e29-24ec-4c79-99f0-adf7cd37b672\":\"Ziebach\",\"col-e70f7f07-f9f5-4c56-b0c8-0e5308f0d537\":\"Wyoming\",\"col-983dfa3b-37e6-4450-98bc-7c3762e9304d\":78030,\"col-80e3bd88-c76a-4f0f-8f5b-a350fe9aa25e\":1188101,\"col-164fc145-862d-4ea3-bec9-092ac5a3aacf\":29025},\"nullCount\":{\"date\":0,\"col-56356e29-24ec-4c79-99f0-adf7cd37b672\":0,\"col-e70f7f07-f9f5-4c56-b0c8-0e5308f0d537\":0,\"col-983dfa3b-37e6-4450-98bc-7c3762e9304d\":1250,\"col-80e3bd88-c76a-4f0f-8f5b-a350fe9aa25e\":0,\"col-164fc145-862d-4ea3-bec9-092ac5a3aacf\":3510}}}|NULL                                                                                                                                                                                                                                                                                         |NULL                                                                                                                                                                                                                                                                                                                                                                                                                                                                                                                                                                                                                                                                                                                                                                                                                                                                                                                                                                                                                                                                                                                                                                      |NULL    |\n",
       "|{true, 1741457277482, part-00003-75742a71-5156-4d33-8321-0d76f5af8cd6-c000.snappy.parquet, 904599, {\"numRecords\":151830,\"minValues\":{\"date\":\"2020-08-25\",\"col-56356e29-24ec-4c79-99f0-adf7cd37b672\":\"Abbeville\",\"col-e70f7f07-f9f5-4c56-b0c8-0e5308f0d537\":\"Alabama\",\"col-983dfa3b-37e6-4450-98bc-7c3762e9304d\":1001,\"col-80e3bd88-c76a-4f0f-8f5b-a350fe9aa25e\":0,\"col-164fc145-862d-4ea3-bec9-092ac5a3aacf\":0},\"maxValues\":{\"date\":\"2020-10-10\",\"col-56356e29-24ec-4c79-99f0-adf7cd37b672\":\"Ziebach\",\"col-e70f7f07-f9f5-4c56-b0c8-0e5308f0d537\":\"Wyoming\",\"col-983dfa3b-37e6-4450-98bc-7c3762e9304d\":78030,\"col-80e3bd88-c76a-4f0f-8f5b-a350fe9aa25e\":281165,\"col-164fc145-862d-4ea3-bec9-092ac5a3aacf\":23882},\"nullCount\":{\"date\":0,\"col-56356e29-24ec-4c79-99f0-adf7cd37b672\":0,\"col-e70f7f07-f9f5-4c56-b0c8-0e5308f0d537\":0,\"col-983dfa3b-37e6-4450-98bc-7c3762e9304d\":1445,\"col-80e3bd88-c76a-4f0f-8f5b-a350fe9aa25e\":0,\"col-164fc145-862d-4ea3-bec9-092ac5a3aacf\":3666}}} |NULL                                                                                                                                                                                                                                                                                         |NULL                                                                                                                                                                                                                                                                                                                                                                                                                                                                                                                                                                                                                                                                                                                                                                                                                                                                                                                                                                                                                                                                                                                                                                      |NULL    |\n",
       "|{true, 1741457277462, part-00004-da29f767-9b36-4f59-9e9b-a814516bfd93-c000.snappy.parquet, 862066, {\"numRecords\":153372,\"minValues\":{\"date\":\"2020-07-08\",\"col-56356e29-24ec-4c79-99f0-adf7cd37b672\":\"Abbeville\",\"col-e70f7f07-f9f5-4c56-b0c8-0e5308f0d537\":\"Alabama\",\"col-983dfa3b-37e6-4450-98bc-7c3762e9304d\":1001,\"col-80e3bd88-c76a-4f0f-8f5b-a350fe9aa25e\":0,\"col-164fc145-862d-4ea3-bec9-092ac5a3aacf\":0},\"maxValues\":{\"date\":\"2020-08-25\",\"col-56356e29-24ec-4c79-99f0-adf7cd37b672\":\"Ziebach\",\"col-e70f7f07-f9f5-4c56-b0c8-0e5308f0d537\":\"Wyoming\",\"col-983dfa3b-37e6-4450-98bc-7c3762e9304d\":78030,\"col-80e3bd88-c76a-4f0f-8f5b-a350fe9aa25e\":237032,\"col-164fc145-862d-4ea3-bec9-092ac5a3aacf\":23662},\"nullCount\":{\"date\":0,\"col-56356e29-24ec-4c79-99f0-adf7cd37b672\":0,\"col-e70f7f07-f9f5-4c56-b0c8-0e5308f0d537\":0,\"col-983dfa3b-37e6-4450-98bc-7c3762e9304d\":1355,\"col-80e3bd88-c76a-4f0f-8f5b-a350fe9aa25e\":0,\"col-164fc145-862d-4ea3-bec9-092ac5a3aacf\":3744}}} |NULL                                                                                                                                                                                                                                                                                         |NULL                                                                                                                                                                                                                                                                                                                                                                                                                                                                                                                                                                                                                                                                                                                                                                                                                                                                                                                                                                                                                                                                                                                                                                      |NULL    |\n",
       "|{true, 1741457277482, part-00005-c62bbc2e-9383-4c9c-ac23-0c6e4ccd9aac-c000.snappy.parquet, 845325, {\"numRecords\":155494,\"minValues\":{\"date\":\"2020-05-19\",\"col-56356e29-24ec-4c79-99f0-adf7cd37b672\":\"Abbeville\",\"col-e70f7f07-f9f5-4c56-b0c8-0e5308f0d537\":\"Alabama\",\"col-983dfa3b-37e6-4450-98bc-7c3762e9304d\":1001,\"col-80e3bd88-c76a-4f0f-8f5b-a350fe9aa25e\":0,\"col-164fc145-862d-4ea3-bec9-092ac5a3aacf\":0},\"maxValues\":{\"date\":\"2020-07-08\",\"col-56356e29-24ec-4c79-99f0-adf7cd37b672\":\"Ziebach\",\"col-e70f7f07-f9f5-4c56-b0c8-0e5308f0d537\":\"Wyoming\",\"col-983dfa3b-37e6-4450-98bc-7c3762e9304d\":78030,\"col-80e3bd88-c76a-4f0f-8f5b-a350fe9aa25e\":222156,\"col-164fc145-862d-4ea3-bec9-092ac5a3aacf\":22690},\"nullCount\":{\"date\":0,\"col-56356e29-24ec-4c79-99f0-adf7cd37b672\":0,\"col-e70f7f07-f9f5-4c56-b0c8-0e5308f0d537\":0,\"col-983dfa3b-37e6-4450-98bc-7c3762e9304d\":1387,\"col-80e3bd88-c76a-4f0f-8f5b-a350fe9aa25e\":0,\"col-164fc145-862d-4ea3-bec9-092ac5a3aacf\":3890}}} |NULL                                                                                                                                                                                                                                                                                         |NULL                                                                                                                                                                                                                                                                                                                                                                                                                                                                                                                                                                                                                                                                                                                                                                                                                                                                                                                                                                                                                                                                                                                                                                      |NULL    |\n",
       "|{true, 1741457277475, part-00006-555393a6-3820-4b75-bcdb-c9c58589fccd-c000.snappy.parquet, 793105, {\"numRecords\":157865,\"minValues\":{\"date\":\"2020-01-21\",\"col-56356e29-24ec-4c79-99f0-adf7cd37b672\":\"Abbeville\",\"col-e70f7f07-f9f5-4c56-b0c8-0e5308f0d537\":\"Alabama\",\"col-983dfa3b-37e6-4450-98bc-7c3762e9304d\":1001,\"col-80e3bd88-c76a-4f0f-8f5b-a350fe9aa25e\":0,\"col-164fc145-862d-4ea3-bec9-092ac5a3aacf\":0},\"maxValues\":{\"date\":\"2020-05-19\",\"col-56356e29-24ec-4c79-99f0-adf7cd37b672\":\"Ziebach\",\"col-e70f7f07-f9f5-4c56-b0c8-0e5308f0d537\":\"Wyoming\",\"col-983dfa3b-37e6-4450-98bc-7c3762e9304d\":78030,\"col-80e3bd88-c76a-4f0f-8f5b-a350fe9aa25e\":198114,\"col-164fc145-862d-4ea3-bec9-092ac5a3aacf\":20298},\"nullCount\":{\"date\":0,\"col-56356e29-24ec-4c79-99f0-adf7cd37b672\":0,\"col-e70f7f07-f9f5-4c56-b0c8-0e5308f0d537\":0,\"col-983dfa3b-37e6-4450-98bc-7c3762e9304d\":1746,\"col-80e3bd88-c76a-4f0f-8f5b-a350fe9aa25e\":0,\"col-164fc145-862d-4ea3-bec9-092ac5a3aacf\":1065}}} |NULL                                                                                                                                                                                                                                                                                         |NULL                                                                                                                                                                                                                                                                                                                                                                                                                                                                                                                                                                                                                                                                                                                                                                                                                                                                                                                                                                                                                                                                                                                                                                      |NULL    |\n",
       "|{true, 1741457277074, part-00007-1c0dceb9-0467-4319-8551-f93c4214f7b1-c000.snappy.parquet, 335645, {\"numRecords\":47559,\"minValues\":{\"date\":\"2021-02-25\",\"col-56356e29-24ec-4c79-99f0-adf7cd37b672\":\"Abbeville\",\"col-e70f7f07-f9f5-4c56-b0c8-0e5308f0d537\":\"Alabama\",\"col-983dfa3b-37e6-4450-98bc-7c3762e9304d\":1001,\"col-80e3bd88-c76a-4f0f-8f5b-a350fe9aa25e\":0,\"col-164fc145-862d-4ea3-bec9-092ac5a3aacf\":0},\"maxValues\":{\"date\":\"2021-03-11\",\"col-56356e29-24ec-4c79-99f0-adf7cd37b672\":\"Ziebach\",\"col-e70f7f07-f9f5-4c56-b0c8-0e5308f0d537\":\"Wyoming\",\"col-983dfa3b-37e6-4450-98bc-7c3762e9304d\":78030,\"col-80e3bd88-c76a-4f0f-8f5b-a350fe9aa25e\":1208672,\"col-164fc145-862d-4ea3-bec9-092ac5a3aacf\":30068},\"nullCount\":{\"date\":0,\"col-56356e29-24ec-4c79-99f0-adf7cd37b672\":0,\"col-e70f7f07-f9f5-4c56-b0c8-0e5308f0d537\":0,\"col-983dfa3b-37e6-4450-98bc-7c3762e9304d\":408,\"col-80e3bd88-c76a-4f0f-8f5b-a350fe9aa25e\":0,\"col-164fc145-862d-4ea3-bec9-092ac5a3aacf\":1170}}}  |NULL                                                                                                                                                                                                                                                                                         |NULL                                                                                                                                                                                                                                                                                                                                                                                                                                                                                                                                                                                                                                                                                                                                                                                                                                                                                                                                                                                                                                                                                                                                                                      |NULL    |\n",
       "|NULL                                                                                                                                                                                                                                                                                                                                                                                                                                                                                                                                                                                                                                                                                                                                                                                                                                                                                                                                                                            |{Apache-Spark/3.5.4 Delta-Lake/3.2.0, true, Serializable, SET TBLPROPERTIES, {NULL, NULL, NULL}, {NULL, NULL, NULL, NULL, NULL, NULL, {\"engineering.team_name\":\"dldg_authors\",\"engineering.slack\":\"delta-users.slack.com\"}}, 2, 1741528608885, b90796ef-17d9-4215-aa57-9c9a21418709}         |NULL                                                                                                                                                                                                                                                                                                                                                                                                                                                                                                                                                                                                                                                                                                                                                                                                                                                                                                                                                                                                                                                                                                                                                                      |NULL    |\n",
       "|NULL                                                                                                                                                                                                                                                                                                                                                                                                                                                                                                                                                                                                                                                                                                                                                                                                                                                                                                                                                                            |NULL                                                                                                                                                                                                                                                                                         |{{6, name, interval 7 days, delta-users.slack.com, dldg_authors}, 1741457252578, {parquet}, 2a7017eb-b2ab-4be5-9f16-41c0ee2be0e6, [], {\"type\":\"struct\",\"fields\":[{\"name\":\"date\",\"type\":\"date\",\"nullable\":true,\"metadata\":{\"delta.columnMapping.id\":1,\"delta.columnMapping.physicalName\":\"date\"}},{\"name\":\"county\",\"type\":\"string\",\"nullable\":true,\"metadata\":{\"delta.columnMapping.id\":2,\"delta.columnMapping.physicalName\":\"col-56356e29-24ec-4c79-99f0-adf7cd37b672\"}},{\"name\":\"state\",\"type\":\"string\",\"nullable\":true,\"metadata\":{\"delta.columnMapping.id\":3,\"delta.columnMapping.physicalName\":\"col-e70f7f07-f9f5-4c56-b0c8-0e5308f0d537\"}},{\"name\":\"fips\",\"type\":\"integer\",\"nullable\":true,\"metadata\":{\"delta.columnMapping.id\":4,\"delta.columnMapping.physicalName\":\"col-983dfa3b-37e6-4450-98bc-7c3762e9304d\"}},{\"name\":\"cases\",\"type\":\"integer\",\"nullable\":true,\"metadata\":{\"delta.columnMapping.id\":5,\"delta.columnMapping.physicalName\":\"col-80e3bd88-c76a-4f0f-8f5b-a350fe9aa25e\"}},{\"name\":\"deaths\",\"type\":\"integer\",\"nullable\":true,\"metadata\":{\"delta.columnMapping.id\":6,\"delta.columnMapping.physicalName\":\"col-164fc145-862d-4ea3-bec9-092ac5a3aacf\"}}]}}|NULL    |\n",
       "|NULL                                                                                                                                                                                                                                                                                                                                                                                                                                                                                                                                                                                                                                                                                                                                                                                                                                                                                                                                                                            |{Apache-Spark/3.5.4 Delta-Lake/3.2.0, true, Serializable, UNSET TBLPROPERTIES, {NULL, NULL, NULL}, {NULL, NULL, true, NULL, NULL, NULL, [\"engineering.team_name\",\"engineering.slack\"]}, 3, 1741529227585, 0d884cb1-a64c-48ca-88ef-36c85e1fd6b1}                                              |NULL                                                                                                                                                                                                                                                                                                                                                                                                                                                                                                                                                                                                                                                                                                                                                                                                                                                                                                                                                                                                                                                                                                                                                                      |NULL    |\n",
       "|NULL                                                                                                                                                                                                                                                                                                                                                                                                                                                                                                                                                                                                                                                                                                                                                                                                                                                                                                                                                                            |NULL                                                                                                                                                                                                                                                                                         |{{6, name, interval 7 days, NULL, NULL}, 1741457252578, {parquet}, 2a7017eb-b2ab-4be5-9f16-41c0ee2be0e6, [], {\"type\":\"struct\",\"fields\":[{\"name\":\"date\",\"type\":\"date\",\"nullable\":true,\"metadata\":{\"delta.columnMapping.id\":1,\"delta.columnMapping.physicalName\":\"date\"}},{\"name\":\"county\",\"type\":\"string\",\"nullable\":true,\"metadata\":{\"delta.columnMapping.id\":2,\"delta.columnMapping.physicalName\":\"col-56356e29-24ec-4c79-99f0-adf7cd37b672\"}},{\"name\":\"state\",\"type\":\"string\",\"nullable\":true,\"metadata\":{\"delta.columnMapping.id\":3,\"delta.columnMapping.physicalName\":\"col-e70f7f07-f9f5-4c56-b0c8-0e5308f0d537\"}},{\"name\":\"fips\",\"type\":\"integer\",\"nullable\":true,\"metadata\":{\"delta.columnMapping.id\":4,\"delta.columnMapping.physicalName\":\"col-983dfa3b-37e6-4450-98bc-7c3762e9304d\"}},{\"name\":\"cases\",\"type\":\"integer\",\"nullable\":true,\"metadata\":{\"delta.columnMapping.id\":5,\"delta.columnMapping.physicalName\":\"col-80e3bd88-c76a-4f0f-8f5b-a350fe9aa25e\"}},{\"name\":\"deaths\",\"type\":\"integer\",\"nullable\":true,\"metadata\":{\"delta.columnMapping.id\":6,\"delta.columnMapping.physicalName\":\"col-164fc145-862d-4ea3-bec9-092ac5a3aacf\"}}]}}                         |NULL    |\n",
       "|NULL                                                                                                                                                                                                                                                                                                                                                                                                                                                                                                                                                                                                                                                                                                                                                                                                                                                                                                                                                                            |{Apache-Spark/3.5.4 Delta-Lake/3.2.0, true, Serializable, SET TBLPROPERTIES, {NULL, NULL, NULL}, {NULL, NULL, NULL, NULL, NULL, NULL, {\"delta.columnMapping.mode\":\"name\",\"delta.minReaderVersion\":\"2\",\"delta.minWriterVersion\":\"5\"}}, 0, 1741457262200, bde46638-6e04-4e9f-b503-4bfe24a623a4}|NULL                                                                                                                                                                                                                                                                                                                                                                                                                                                                                                                                                                                                                                                                                                                                                                                                                                                                                                                                                                                                                                                                                                                                                                      |NULL    |\n",
       "|NULL                                                                                                                                                                                                                                                                                                                                                                                                                                                                                                                                                                                                                                                                                                                                                                                                                                                                                                                                                                            |NULL                                                                                                                                                                                                                                                                                         |{{1, name, interval 7 days, NULL, NULL}, 1741457252578, {parquet}, 2a7017eb-b2ab-4be5-9f16-41c0ee2be0e6, [], {\"type\":\"struct\",\"fields\":[{\"name\":\"date\",\"type\":\"date\",\"nullable\":true,\"metadata\":{\"delta.columnMapping.id\":1,\"delta.columnMapping.physicalName\":\"date\"}}]}}                                                                                                                                                                                                                                                                                                                                                                                                                                                                                                                                                                                                                                                                                                                                                                                                                                                                                                |NULL    |\n",
       "|NULL                                                                                                                                                                                                                                                                                                                                                                                                                                                                                                                                                                                                                                                                                                                                                                                                                                                                                                                                                                            |NULL                                                                                                                                                                                                                                                                                         |NULL                                                                                                                                                                                                                                                                                                                                                                                                                                                                                                                                                                                                                                                                                                                                                                                                                                                                                                                                                                                                                                                                                                                                                                      |{2, 5}  |\n",
       "|NULL                                                                                                                                                                                                                                                                                                                                                                                                                                                                                                                                                                                                                                                                                                                                                                                                                                                                                                                                                                            |{Apache-Spark/3.5.4 Delta-Lake/3.2.0, true, Serializable, CREATE TABLE, {NULL, NULL, NULL}, {[], NULL, NULL, true, NULL, [], {\"delta.logRetentionDuration\":\"interval 7 days\"}}, NULL, 1741457252582, 306bc385-9ca2-4ff8-89d3-e858a104e2cb}                                                   |NULL                                                                                                                                                                                                                                                                                                                                                                                                                                                                                                                                                                                                                                                                                                                                                                                                                                                                                                                                                                                                                                                                                                                                                                      |NULL    |\n",
       "|NULL                                                                                                                                                                                                                                                                                                                                                                                                                                                                                                                                                                                                                                                                                                                                                                                                                                                                                                                                                                            |NULL                                                                                                                                                                                                                                                                                         |{{NULL, NULL, interval 7 days, NULL, NULL}, 1741457252578, {parquet}, 2a7017eb-b2ab-4be5-9f16-41c0ee2be0e6, [], {\"type\":\"struct\",\"fields\":[{\"name\":\"date\",\"type\":\"date\",\"nullable\":true,\"metadata\":{}}]}}                                                                                                                                                                                                                                                                                                                                                                                                                                                                                                                                                                                                                                                                                                                                                                                                                                                                                                                                                                 |NULL    |\n",
       "|NULL                                                                                                                                                                                                                                                                                                                                                                                                                                                                                                                                                                                                                                                                                                                                                                                                                                                                                                                                                                            |NULL                                                                                                                                                                                                                                                                                         |NULL                                                                                                                                                                                                                                                                                                                                                                                                                                                                                                                                                                                                                                                                                                                                                                                                                                                                                                                                                                                                                                                                                                                                                                      |{1, 2}  |\n",
       "+--------------------------------------------------------------------------------------------------------------------------------------------------------------------------------------------------------------------------------------------------------------------------------------------------------------------------------------------------------------------------------------------------------------------------------------------------------------------------------------------------------------------------------------------------------------------------------------------------------------------------------------------------------------------------------------------------------------------------------------------------------------------------------------------------------------------------------------------------------------------------------------------------------------------------------------------------------------------------------+---------------------------------------------------------------------------------------------------------------------------------------------------------------------------------------------------------------------------------------------------------------------------------------------+--------------------------------------------------------------------------------------------------------------------------------------------------------------------------------------------------------------------------------------------------------------------------------------------------------------------------------------------------------------------------------------------------------------------------------------------------------------------------------------------------------------------------------------------------------------------------------------------------------------------------------------------------------------------------------------------------------------------------------------------------------------------------------------------------------------------------------------------------------------------------------------------------------------------------------------------------------------------------------------------------------------------------------------------------------------------------------------------------------------------------------------------------------------------------+--------+"
      ]
     },
     "execution_count": 26,
     "metadata": {},
     "output_type": "execute_result"
    }
   ],
   "source": [
    "# Alternative approach\n",
    "df = spark.read.format(\"json\").load(\"./spark-warehouse/covid_nyt/_delta_log\")\n",
    "df\n"
   ]
  },
  {
   "cell_type": "code",
   "execution_count": 23,
   "id": "d8c1b94b-b495-4fd8-8648-6cdd242ac0c0",
   "metadata": {
    "scrolled": true
   },
   "outputs": [
    {
     "data": {
      "text/html": [
       "<table border='1'>\n",
       "<tr><th>col_name</th><th>data_type</th><th>comment</th></tr>\n",
       "<tr><td>date</td><td>date</td><td>NULL</td></tr>\n",
       "<tr><td>county</td><td>string</td><td>NULL</td></tr>\n",
       "<tr><td>state</td><td>string</td><td>NULL</td></tr>\n",
       "<tr><td>fips</td><td>int</td><td>NULL</td></tr>\n",
       "<tr><td>cases</td><td>int</td><td>NULL</td></tr>\n",
       "<tr><td>deaths</td><td>int</td><td>NULL</td></tr>\n",
       "<tr><td></td><td></td><td></td></tr>\n",
       "<tr><td># Detailed Table Information</td><td></td><td></td></tr>\n",
       "<tr><td>Name</td><td>spark_catalog.default.covid_nyt</td><td></td></tr>\n",
       "<tr><td>Type</td><td>MANAGED</td><td></td></tr>\n",
       "<tr><td>Location</td><td>file:/E:/Programming/python_project/delta_lake_pyspark_learning/delta-lake-definitive-guide/spark-warehouse/covid_nyt</td><td></td></tr>\n",
       "<tr><td>Provider</td><td>delta</td><td></td></tr>\n",
       "<tr><td>Owner</td><td>PP</td><td></td></tr>\n",
       "<tr><td>Table Properties</td><td>[delta.columnMapping.maxColumnId=6,delta.columnMapping.mode=name,delta.logRetentionDuration=interval 7 days,delta.minReaderVersion=2,delta.minWriterVersion=5]</td><td></td></tr>\n",
       "</table>\n"
      ],
      "text/plain": [
       "+----------------------------+--------------------------------------------------------------------------------------------------------------------------------------------------------------+-------+\n",
       "|col_name                    |data_type                                                                                                                                                     |comment|\n",
       "+----------------------------+--------------------------------------------------------------------------------------------------------------------------------------------------------------+-------+\n",
       "|date                        |date                                                                                                                                                          |NULL   |\n",
       "|county                      |string                                                                                                                                                        |NULL   |\n",
       "|state                       |string                                                                                                                                                        |NULL   |\n",
       "|fips                        |int                                                                                                                                                           |NULL   |\n",
       "|cases                       |int                                                                                                                                                           |NULL   |\n",
       "|deaths                      |int                                                                                                                                                           |NULL   |\n",
       "|                            |                                                                                                                                                              |       |\n",
       "|# Detailed Table Information|                                                                                                                                                              |       |\n",
       "|Name                        |spark_catalog.default.covid_nyt                                                                                                                               |       |\n",
       "|Type                        |MANAGED                                                                                                                                                       |       |\n",
       "|Location                    |file:/E:/Programming/python_project/delta_lake_pyspark_learning/delta-lake-definitive-guide/spark-warehouse/covid_nyt                                         |       |\n",
       "|Provider                    |delta                                                                                                                                                         |       |\n",
       "|Owner                       |PP                                                                                                                                                            |       |\n",
       "|Table Properties            |[delta.columnMapping.maxColumnId=6,delta.columnMapping.mode=name,delta.logRetentionDuration=interval 7 days,delta.minReaderVersion=2,delta.minWriterVersion=5]|       |\n",
       "+----------------------------+--------------------------------------------------------------------------------------------------------------------------------------------------------------+-------+"
      ]
     },
     "execution_count": 23,
     "metadata": {},
     "output_type": "execute_result"
    }
   ],
   "source": [
    "# Find columns used to partition the table, if any\n",
    "covid_nyt_desc_ext = spark.sql(\n",
    "    \"\"\"\n",
    "    DESCRIBE EXTENDED default.covid_nyt\n",
    "    \"\"\"\n",
    ")\n",
    "\n",
    "covid_nyt_desc_ext"
   ]
  },
  {
   "cell_type": "code",
   "execution_count": null,
   "id": "deab61a1-45b8-4aa2-9402-a9eab51e4987",
   "metadata": {},
   "outputs": [],
   "source": [
    "# Find columns used to partition the table, if any\n",
    "covid_nyt_desc_det = spark.sql(\n",
    "    \"\"\"\n",
    "    DESCRIBE DETAIL default.covid_nyt\n",
    "    \"\"\"\n",
    ")\n",
    "\n",
    "covid_nyt_desc_det"
   ]
  },
  {
   "cell_type": "code",
   "execution_count": 20,
   "id": "9d9bfbf8-1fc5-4559-811d-0e83aafb22a8",
   "metadata": {
    "scrolled": true
   },
   "outputs": [
    {
     "data": {
      "text/html": [
       "<table border='1'>\n",
       "<tr><th>date</th><th>county</th><th>state</th><th>fips</th><th>cases</th><th>deaths</th></tr>\n",
       "<tr><td>2020-01-21</td><td>Snohomish</td><td>Washington</td><td>53061</td><td>1</td><td>0</td></tr>\n",
       "<tr><td>2020-01-22</td><td>Snohomish</td><td>Washington</td><td>53061</td><td>1</td><td>0</td></tr>\n",
       "<tr><td>2020-01-23</td><td>Snohomish</td><td>Washington</td><td>53061</td><td>1</td><td>0</td></tr>\n",
       "<tr><td>2020-01-24</td><td>Cook</td><td>Illinois</td><td>17031</td><td>1</td><td>0</td></tr>\n",
       "<tr><td>2020-01-24</td><td>Snohomish</td><td>Washington</td><td>53061</td><td>1</td><td>0</td></tr>\n",
       "<tr><td>2020-01-25</td><td>Orange</td><td>California</td><td>6059</td><td>1</td><td>0</td></tr>\n",
       "<tr><td>2020-01-25</td><td>Cook</td><td>Illinois</td><td>17031</td><td>1</td><td>0</td></tr>\n",
       "<tr><td>2020-01-25</td><td>Snohomish</td><td>Washington</td><td>53061</td><td>1</td><td>0</td></tr>\n",
       "<tr><td>2020-01-26</td><td>Maricopa</td><td>Arizona</td><td>4013</td><td>1</td><td>0</td></tr>\n",
       "<tr><td>2020-01-26</td><td>Los Angeles</td><td>California</td><td>6037</td><td>1</td><td>0</td></tr>\n",
       "<tr><td>2020-01-26</td><td>Orange</td><td>California</td><td>6059</td><td>1</td><td>0</td></tr>\n",
       "<tr><td>2020-01-26</td><td>Cook</td><td>Illinois</td><td>17031</td><td>1</td><td>0</td></tr>\n",
       "<tr><td>2020-01-26</td><td>Snohomish</td><td>Washington</td><td>53061</td><td>1</td><td>0</td></tr>\n",
       "<tr><td>2020-01-27</td><td>Maricopa</td><td>Arizona</td><td>4013</td><td>1</td><td>0</td></tr>\n",
       "<tr><td>2020-01-27</td><td>Los Angeles</td><td>California</td><td>6037</td><td>1</td><td>0</td></tr>\n",
       "<tr><td>2020-01-27</td><td>Orange</td><td>California</td><td>6059</td><td>1</td><td>0</td></tr>\n",
       "<tr><td>2020-01-27</td><td>Cook</td><td>Illinois</td><td>17031</td><td>1</td><td>0</td></tr>\n",
       "<tr><td>2020-01-27</td><td>Snohomish</td><td>Washington</td><td>53061</td><td>1</td><td>0</td></tr>\n",
       "<tr><td>2020-01-28</td><td>Maricopa</td><td>Arizona</td><td>4013</td><td>1</td><td>0</td></tr>\n",
       "<tr><td>2020-01-28</td><td>Los Angeles</td><td>California</td><td>6037</td><td>1</td><td>0</td></tr>\n",
       "</table>\n",
       "only showing top 20 rows\n"
      ],
      "text/plain": [
       "+----------+-----------+----------+-----+-----+------+\n",
       "|date      |county     |state     |fips |cases|deaths|\n",
       "+----------+-----------+----------+-----+-----+------+\n",
       "|2020-01-21|Snohomish  |Washington|53061|1    |0     |\n",
       "|2020-01-22|Snohomish  |Washington|53061|1    |0     |\n",
       "|2020-01-23|Snohomish  |Washington|53061|1    |0     |\n",
       "|2020-01-24|Cook       |Illinois  |17031|1    |0     |\n",
       "|2020-01-24|Snohomish  |Washington|53061|1    |0     |\n",
       "|2020-01-25|Orange     |California|6059 |1    |0     |\n",
       "|2020-01-25|Cook       |Illinois  |17031|1    |0     |\n",
       "|2020-01-25|Snohomish  |Washington|53061|1    |0     |\n",
       "|2020-01-26|Maricopa   |Arizona   |4013 |1    |0     |\n",
       "|2020-01-26|Los Angeles|California|6037 |1    |0     |\n",
       "|2020-01-26|Orange     |California|6059 |1    |0     |\n",
       "|2020-01-26|Cook       |Illinois  |17031|1    |0     |\n",
       "|2020-01-26|Snohomish  |Washington|53061|1    |0     |\n",
       "|2020-01-27|Maricopa   |Arizona   |4013 |1    |0     |\n",
       "|2020-01-27|Los Angeles|California|6037 |1    |0     |\n",
       "|2020-01-27|Orange     |California|6059 |1    |0     |\n",
       "|2020-01-27|Cook       |Illinois  |17031|1    |0     |\n",
       "|2020-01-27|Snohomish  |Washington|53061|1    |0     |\n",
       "|2020-01-28|Maricopa   |Arizona   |4013 |1    |0     |\n",
       "|2020-01-28|Los Angeles|California|6037 |1    |0     |\n",
       "+----------+-----------+----------+-----+-----+------+\n",
       "only showing top 20 rows"
      ]
     },
     "execution_count": 20,
     "metadata": {},
     "output_type": "execute_result"
    }
   ],
   "source": [
    "# Select data from table to choose target for deletion\n",
    "# Find columns used to partition the table, if any\n",
    "covid_nyt_df = spark.sql(\n",
    "    \"\"\"\n",
    "    SELECT * FROM default.covid_nyt\n",
    "    ORDER BY date\n",
    "    \"\"\"\n",
    ")\n",
    "\n",
    "covid_nyt_df"
   ]
  },
  {
   "cell_type": "code",
   "execution_count": 56,
   "id": "15a0490a-8175-4699-8615-795a4d736eb5",
   "metadata": {},
   "outputs": [],
   "source": [
    "# Create readStream with ignoreDeletes\n",
    "stream_covid_nyt_ignore_deletes = (\n",
    "    spark\n",
    "    .readStream\n",
    "    .format(\"delta\")\n",
    "    .option(\"ignoreDeletes\", \"true\")\n",
    "    .load(\"./spark-warehouse/covid_nyt\")\n",
    ")"
   ]
  },
  {
   "cell_type": "code",
   "execution_count": 60,
   "id": "5498c8d6-589d-499b-b9f4-e01503238dc8",
   "metadata": {},
   "outputs": [
    {
     "data": {
      "text/plain": [
       "<pyspark.sql.streaming.query.StreamingQuery at 0x16b75154210>"
      ]
     },
     "execution_count": 60,
     "metadata": {},
     "output_type": "execute_result"
    }
   ],
   "source": [
    "# Create writeStream that writes to created Delta table\n",
    "\n",
    "# .option(\"checkpointLocation\", \"streaming_checkpoints/ch07/covid_nyt_ignore_deletes/ws1\")\n",
    "# First checkpointed fails the stream, because a file was deleted after DELETE command of source non-partitioned table\n",
    "# Second checkpoint to restart the stream and see if update and inserts are getting reprocessed and data duplicated because of new stream start\n",
    "\n",
    "stream_covid_nyt_ignore_deletes \\\n",
    ".writeStream \\\n",
    ".format(\"delta\") \\\n",
    ".outputMode(\"append\") \\\n",
    ".option(\"checkpointLocation\", \"streaming_checkpoints/ch07/covid_nyt_ignore_deletes/ws2\") \\\n",
    ".start(\"./spark-warehouse/covid_nyt_ignore_deletes\")"
   ]
  },
  {
   "cell_type": "code",
   "execution_count": 33,
   "id": "db6aa0e2-003e-40bd-8b6a-2d1fcb627074",
   "metadata": {},
   "outputs": [
    {
     "data": {
      "text/html": [
       "<table border='1'>\n",
       "<tr><th>date</th><th>county</th><th>state</th><th>fips</th><th>cases</th><th>deaths</th></tr>\n",
       "<tr><td>2020-01-24</td><td>Snohomish</td><td>Washington</td><td>53061</td><td>1</td><td>0</td></tr>\n",
       "</table>\n"
      ],
      "text/plain": [
       "+----------+---------+----------+-----+-----+------+\n",
       "|date      |county   |state     |fips |cases|deaths|\n",
       "+----------+---------+----------+-----+-----+------+\n",
       "|2020-01-24|Snohomish|Washington|53061|1    |0     |\n",
       "+----------+---------+----------+-----+-----+------+"
      ]
     },
     "execution_count": 33,
     "metadata": {},
     "output_type": "execute_result"
    }
   ],
   "source": [
    "# Select from source before delete\n",
    "# Target to Delete - date = 2020-01-24, county = Snohomish\t\n",
    "covid_nyt_ignore_deletes_select = spark.sql(\n",
    "    \"\"\"\n",
    "        SELECT * \n",
    "        FROM default.covid_nyt\n",
    "        WHERE date = CAST('2020-01-24' AS DATE)\n",
    "            AND county = 'Snohomish'\n",
    "    \"\"\"\n",
    ")\n",
    "\n",
    "covid_nyt_ignore_deletes_select"
   ]
  },
  {
   "cell_type": "code",
   "execution_count": 34,
   "id": "12d10ec0-28ee-471d-9436-2338c4ce937b",
   "metadata": {},
   "outputs": [
    {
     "data": {
      "text/html": [
       "<table border='1'>\n",
       "<tr><th>count(1)</th></tr>\n",
       "<tr><td>1111930</td></tr>\n",
       "</table>\n"
      ],
      "text/plain": [
       "+--------+\n",
       "|count(1)|\n",
       "+--------+\n",
       "|1111930 |\n",
       "+--------+"
      ]
     },
     "execution_count": 34,
     "metadata": {},
     "output_type": "execute_result"
    }
   ],
   "source": [
    "# Observe source table before delete - covid_nyt_ignore_deletes\n",
    "covid_nyt_ignore_deletes_count_post_delete = spark.sql(\n",
    "  \"\"\"\n",
    "      SELECT COUNT(*) FROM default.covid_nyt_ignore_deletes\n",
    "  \"\"\"\n",
    ")\n",
    "\n",
    "covid_nyt_ignore_deletes_count_post_delete"
   ]
  },
  {
   "cell_type": "code",
   "execution_count": 35,
   "id": "dc04f397-2ac6-4b55-8d83-01a9cd87dd2f",
   "metadata": {},
   "outputs": [],
   "source": [
    "# Delete record from covid_nyt following the rule of using column used as partition\n",
    "# Target to Delete - date = 2020-01-24, county = Snohomish\t\n",
    "covid_nyt_ignore_deletes_delete = spark.sql(\n",
    "    \"\"\"\n",
    "        DELETE FROM default.covid_nyt\n",
    "        WHERE date = CAST('2020-01-24' AS DATE)\n",
    "            AND county = 'Snohomish'\n",
    "    \"\"\"\n",
    ")"
   ]
  },
  {
   "cell_type": "code",
   "execution_count": 71,
   "id": "6e4691d1-bdb5-4cce-a47b-56ba2234d1c8",
   "metadata": {},
   "outputs": [
    {
     "data": {
      "text/html": [
       "<table border='1'>\n",
       "<tr><th>count(1)</th></tr>\n",
       "<tr><td>2223862</td></tr>\n",
       "</table>\n"
      ],
      "text/plain": [
       "+--------+\n",
       "|count(1)|\n",
       "+--------+\n",
       "|2223862 |\n",
       "+--------+"
      ]
     },
     "execution_count": 71,
     "metadata": {},
     "output_type": "execute_result"
    }
   ],
   "source": [
    "# Observe target table after delete - covid_nyt_ignore_deletes\n",
    "covid_nyt_ignore_deletes_count_post_delete = spark.sql(\n",
    "  \"\"\"\n",
    "      SELECT COUNT(*) \n",
    "      FROM default.covid_nyt_ignore_deletes\n",
    "  \"\"\"\n",
    ")\n",
    "\n",
    "covid_nyt_ignore_deletes_count_post_delete"
   ]
  },
  {
   "cell_type": "code",
   "execution_count": 37,
   "id": "b30df83c-4c83-4c8c-9d2d-e15bc3466418",
   "metadata": {},
   "outputs": [],
   "source": [
    "# See source post delete\n",
    "# Target to Delete - date = 2020-01-24, county = Snohomish\t\n",
    "covid_nyt_ignore_deletes_select = spark.sql(\n",
    "    \"\"\"\n",
    "        SELECT * \n",
    "        FROM default.covid_nyt\n",
    "        WHERE date = CAST('2020-01-24' AS DATE)\n",
    "            AND county = 'Snohomish'\n",
    "    \"\"\"\n",
    ")"
   ]
  },
  {
   "cell_type": "code",
   "execution_count": 38,
   "id": "182a113d-d3ec-4798-b89a-fc1176fb9b64",
   "metadata": {},
   "outputs": [
    {
     "data": {
      "text/html": [
       "<table border='1'>\n",
       "<tr><th>date</th><th>county</th><th>state</th><th>fips</th><th>cases</th><th>deaths</th></tr>\n",
       "<tr><td>2020-01-24</td><td>Snohomish</td><td>Washington</td><td>53061</td><td>1</td><td>0</td></tr>\n",
       "</table>\n"
      ],
      "text/plain": [
       "+----------+---------+----------+-----+-----+------+\n",
       "|date      |county   |state     |fips |cases|deaths|\n",
       "+----------+---------+----------+-----+-----+------+\n",
       "|2020-01-24|Snohomish|Washington|53061|1    |0     |\n",
       "+----------+---------+----------+-----+-----+------+"
      ]
     },
     "execution_count": 38,
     "metadata": {},
     "output_type": "execute_result"
    }
   ],
   "source": [
    "# Observe target post delete\n",
    "# Target to Delete - date = 2020-01-24, county = Snohomish\t\n",
    "covid_nyt_ignore_deletes_select = spark.sql(\n",
    "    \"\"\"\n",
    "        SELECT * \n",
    "        FROM default.covid_nyt_ignore_deletes\n",
    "        WHERE date = CAST('2020-01-24' AS DATE)\n",
    "            AND county = 'Snohomish'\n",
    "    \"\"\"\n",
    ")\n",
    "\n",
    "covid_nyt_ignore_deletes_select"
   ]
  },
  {
   "cell_type": "code",
   "execution_count": 54,
   "id": "c408bd54-31b3-4151-8451-334d2f478d84",
   "metadata": {},
   "outputs": [
    {
     "data": {
      "text/html": [
       "<table border='1'>\n",
       "<tr><th>version</th><th>timestamp</th><th>userId</th><th>userName</th><th>operation</th><th>operationParameters</th><th>job</th><th>notebook</th><th>clusterId</th><th>readVersion</th><th>isolationLevel</th><th>isBlindAppend</th><th>operationMetrics</th><th>userMetadata</th><th>engineInfo</th></tr>\n",
       "<tr><td>8</td><td>2025-04-17 22:39:11.739</td><td>NULL</td><td>NULL</td><td>WRITE</td><td>{mode -&gt; Append, partitionBy -&gt; []}</td><td>NULL</td><td>NULL</td><td>NULL</td><td>7</td><td>Serializable</td><td>true</td><td>{numFiles -&gt; 2, numOutputRows -&gt; 2, numOutputBytes -&gt; 5908}</td><td>NULL</td><td>Apache-Spark/3.5.4 Delta-Lake/3.2.0</td></tr>\n",
       "<tr><td>7</td><td>2025-04-17 22:35:55.654</td><td>NULL</td><td>NULL</td><td>WRITE</td><td>{mode -&gt; Append, partitionBy -&gt; []}</td><td>NULL</td><td>NULL</td><td>NULL</td><td>6</td><td>Serializable</td><td>true</td><td>{numFiles -&gt; 1, numOutputRows -&gt; 1, numOutputBytes -&gt; 2895}</td><td>NULL</td><td>Apache-Spark/3.5.4 Delta-Lake/3.2.0</td></tr>\n",
       "<tr><td>6</td><td>2025-04-17 22:33:42.608</td><td>NULL</td><td>NULL</td><td>UPDATE</td><td>{predicate -&gt; [&quot;((date#4601 = 2020-01-24) AND (county#4602 = Cook))&quot;]}</td><td>NULL</td><td>NULL</td><td>NULL</td><td>5</td><td>Serializable</td><td>false</td><td>{numRemovedFiles -&gt; 1, numRemovedBytes -&gt; 775201, numCopiedRows -&gt; 157863, numDeletionVectorsAdded -&gt; 0, numDeletionVectorsRemoved -&gt; 0, numAddedChangeFiles -&gt; 0, executionTimeMs -&gt; 2501, numDeletionVectorsUpdated -&gt; 0, scanTimeMs -&gt; 2084, numAddedFiles -&gt; 1, numUpdatedRows -&gt; 1, numAddedBytes -&gt; 776209, rewriteTimeMs -&gt; 416}</td><td>NULL</td><td>Apache-Spark/3.5.4 Delta-Lake/3.2.0</td></tr>\n",
       "<tr><td>5</td><td>2025-04-17 22:26:03.475</td><td>NULL</td><td>NULL</td><td>DELETE</td><td>{predicate -&gt; [&quot;((date#3389 = 2020-01-24) AND (county#3390 = Snohomish))&quot;]}</td><td>NULL</td><td>NULL</td><td>NULL</td><td>4</td><td>Serializable</td><td>false</td><td>{numRemovedFiles -&gt; 1, numRemovedBytes -&gt; 793105, numCopiedRows -&gt; 157864, numDeletionVectorsAdded -&gt; 0, numDeletionVectorsRemoved -&gt; 0, numAddedChangeFiles -&gt; 0, executionTimeMs -&gt; 1347, numDeletionVectorsUpdated -&gt; 0, numDeletedRows -&gt; 1, scanTimeMs -&gt; 825, numAddedFiles -&gt; 1, numAddedBytes -&gt; 775201, rewriteTimeMs -&gt; 521}</td><td>NULL</td><td>Apache-Spark/3.5.4 Delta-Lake/3.2.0</td></tr>\n",
       "<tr><td>4</td><td>2025-03-09 16:07:07.589</td><td>NULL</td><td>NULL</td><td>UNSET TBLPROPERTIES</td><td>{properties -&gt; [&quot;engineering.team_name&quot;,&quot;engineering.slack&quot;], ifExists -&gt; true}</td><td>NULL</td><td>NULL</td><td>NULL</td><td>3</td><td>Serializable</td><td>true</td><td>{}</td><td>NULL</td><td>Apache-Spark/3.5.4 Delta-Lake/3.2.0</td></tr>\n",
       "<tr><td>3</td><td>2025-03-09 15:56:49.011</td><td>NULL</td><td>NULL</td><td>SET TBLPROPERTIES</td><td>{properties -&gt; {&quot;engineering.team_name&quot;:&quot;dldg_authors&quot;,&quot;engineering.slack&quot;:&quot;delta-users.slack.com&quot;}}</td><td>NULL</td><td>NULL</td><td>NULL</td><td>2</td><td>Serializable</td><td>true</td><td>{}</td><td>NULL</td><td>Apache-Spark/3.5.4 Delta-Lake/3.2.0</td></tr>\n",
       "<tr><td>2</td><td>2025-03-08 20:07:57.496</td><td>NULL</td><td>NULL</td><td>WRITE</td><td>{mode -&gt; Append, partitionBy -&gt; []}</td><td>NULL</td><td>NULL</td><td>NULL</td><td>1</td><td>Serializable</td><td>true</td><td>{numFiles -&gt; 8, numOutputRows -&gt; 1111930, numOutputBytes -&gt; 6550290}</td><td>NULL</td><td>Apache-Spark/3.5.4 Delta-Lake/3.2.0</td></tr>\n",
       "<tr><td>1</td><td>2025-03-08 20:07:42.205</td><td>NULL</td><td>NULL</td><td>SET TBLPROPERTIES</td><td>{properties -&gt; {&quot;delta.columnMapping.mode&quot;:&quot;name&quot;,&quot;delta.minReaderVersion&quot;:&quot;2&quot;,&quot;delta.minWriterVersion&quot;:&quot;5&quot;}}</td><td>NULL</td><td>NULL</td><td>NULL</td><td>0</td><td>Serializable</td><td>true</td><td>{}</td><td>NULL</td><td>Apache-Spark/3.5.4 Delta-Lake/3.2.0</td></tr>\n",
       "<tr><td>0</td><td>2025-03-08 20:07:32.588</td><td>NULL</td><td>NULL</td><td>CREATE TABLE</td><td>{partitionBy -&gt; [], clusterBy -&gt; [], description -&gt; NULL, isManaged -&gt; true, properties -&gt; {&quot;delta.logRetentionDuration&quot;:&quot;interval 7 days&quot;}}</td><td>NULL</td><td>NULL</td><td>NULL</td><td>NULL</td><td>Serializable</td><td>true</td><td>{}</td><td>NULL</td><td>Apache-Spark/3.5.4 Delta-Lake/3.2.0</td></tr>\n",
       "</table>\n"
      ],
      "text/plain": [
       "+-------+-----------------------+------+--------+-------------------+--------------------------------------------------------------------------------------------------------------------------------------------+----+--------+---------+-----------+--------------+-------------+---------------------------------------------------------------------------------------------------------------------------------------------------------------------------------------------------------------------------------------------------------------------------------------------------------------------------------------+------------+-----------------------------------+\n",
       "|version|timestamp              |userId|userName|operation          |operationParameters                                                                                                                         |job |notebook|clusterId|readVersion|isolationLevel|isBlindAppend|operationMetrics                                                                                                                                                                                                                                                                                                                       |userMetadata|engineInfo                         |\n",
       "+-------+-----------------------+------+--------+-------------------+--------------------------------------------------------------------------------------------------------------------------------------------+----+--------+---------+-----------+--------------+-------------+---------------------------------------------------------------------------------------------------------------------------------------------------------------------------------------------------------------------------------------------------------------------------------------------------------------------------------------+------------+-----------------------------------+\n",
       "|8      |2025-04-17 22:39:11.739|NULL  |NULL    |WRITE              |{mode -> Append, partitionBy -> []}                                                                                                         |NULL|NULL    |NULL     |7          |Serializable  |true         |{numFiles -> 2, numOutputRows -> 2, numOutputBytes -> 5908}                                                                                                                                                                                                                                                                            |NULL        |Apache-Spark/3.5.4 Delta-Lake/3.2.0|\n",
       "|7      |2025-04-17 22:35:55.654|NULL  |NULL    |WRITE              |{mode -> Append, partitionBy -> []}                                                                                                         |NULL|NULL    |NULL     |6          |Serializable  |true         |{numFiles -> 1, numOutputRows -> 1, numOutputBytes -> 2895}                                                                                                                                                                                                                                                                            |NULL        |Apache-Spark/3.5.4 Delta-Lake/3.2.0|\n",
       "|6      |2025-04-17 22:33:42.608|NULL  |NULL    |UPDATE             |{predicate -> [\"((date#4601 = 2020-01-24) AND (county#4602 = Cook))\"]}                                                                      |NULL|NULL    |NULL     |5          |Serializable  |false        |{numRemovedFiles -> 1, numRemovedBytes -> 775201, numCopiedRows -> 157863, numDeletionVectorsAdded -> 0, numDeletionVectorsRemoved -> 0, numAddedChangeFiles -> 0, executionTimeMs -> 2501, numDeletionVectorsUpdated -> 0, scanTimeMs -> 2084, numAddedFiles -> 1, numUpdatedRows -> 1, numAddedBytes -> 776209, rewriteTimeMs -> 416}|NULL        |Apache-Spark/3.5.4 Delta-Lake/3.2.0|\n",
       "|5      |2025-04-17 22:26:03.475|NULL  |NULL    |DELETE             |{predicate -> [\"((date#3389 = 2020-01-24) AND (county#3390 = Snohomish))\"]}                                                                 |NULL|NULL    |NULL     |4          |Serializable  |false        |{numRemovedFiles -> 1, numRemovedBytes -> 793105, numCopiedRows -> 157864, numDeletionVectorsAdded -> 0, numDeletionVectorsRemoved -> 0, numAddedChangeFiles -> 0, executionTimeMs -> 1347, numDeletionVectorsUpdated -> 0, numDeletedRows -> 1, scanTimeMs -> 825, numAddedFiles -> 1, numAddedBytes -> 775201, rewriteTimeMs -> 521} |NULL        |Apache-Spark/3.5.4 Delta-Lake/3.2.0|\n",
       "|4      |2025-03-09 16:07:07.589|NULL  |NULL    |UNSET TBLPROPERTIES|{properties -> [\"engineering.team_name\",\"engineering.slack\"], ifExists -> true}                                                             |NULL|NULL    |NULL     |3          |Serializable  |true         |{}                                                                                                                                                                                                                                                                                                                                     |NULL        |Apache-Spark/3.5.4 Delta-Lake/3.2.0|\n",
       "|3      |2025-03-09 15:56:49.011|NULL  |NULL    |SET TBLPROPERTIES  |{properties -> {\"engineering.team_name\":\"dldg_authors\",\"engineering.slack\":\"delta-users.slack.com\"}}                                        |NULL|NULL    |NULL     |2          |Serializable  |true         |{}                                                                                                                                                                                                                                                                                                                                     |NULL        |Apache-Spark/3.5.4 Delta-Lake/3.2.0|\n",
       "|2      |2025-03-08 20:07:57.496|NULL  |NULL    |WRITE              |{mode -> Append, partitionBy -> []}                                                                                                         |NULL|NULL    |NULL     |1          |Serializable  |true         |{numFiles -> 8, numOutputRows -> 1111930, numOutputBytes -> 6550290}                                                                                                                                                                                                                                                                   |NULL        |Apache-Spark/3.5.4 Delta-Lake/3.2.0|\n",
       "|1      |2025-03-08 20:07:42.205|NULL  |NULL    |SET TBLPROPERTIES  |{properties -> {\"delta.columnMapping.mode\":\"name\",\"delta.minReaderVersion\":\"2\",\"delta.minWriterVersion\":\"5\"}}                               |NULL|NULL    |NULL     |0          |Serializable  |true         |{}                                                                                                                                                                                                                                                                                                                                     |NULL        |Apache-Spark/3.5.4 Delta-Lake/3.2.0|\n",
       "|0      |2025-03-08 20:07:32.588|NULL  |NULL    |CREATE TABLE       |{partitionBy -> [], clusterBy -> [], description -> NULL, isManaged -> true, properties -> {\"delta.logRetentionDuration\":\"interval 7 days\"}}|NULL|NULL    |NULL     |NULL       |Serializable  |true         |{}                                                                                                                                                                                                                                                                                                                                     |NULL        |Apache-Spark/3.5.4 Delta-Lake/3.2.0|\n",
       "+-------+-----------------------+------+--------+-------------------+--------------------------------------------------------------------------------------------------------------------------------------------+----+--------+---------+-----------+--------------+-------------+---------------------------------------------------------------------------------------------------------------------------------------------------------------------------------------------------------------------------------------------------------------------------------------------------------------------------------------+------------+-----------------------------------+"
      ]
     },
     "execution_count": 54,
     "metadata": {},
     "output_type": "execute_result"
    }
   ],
   "source": [
    "# Observe source history\n",
    "covid_nyt_versions = spark.sql(\n",
    "    \"\"\"\n",
    "     DESCRIBE HISTORY default.covid_nyt\n",
    "    \"\"\"\n",
    ")\n",
    "\n",
    "covid_nyt_versions"
   ]
  },
  {
   "cell_type": "code",
   "execution_count": 61,
   "id": "9faf9b42-4d4b-4c60-98a6-04c2dd496e54",
   "metadata": {},
   "outputs": [
    {
     "data": {
      "text/html": [
       "<table border='1'>\n",
       "<tr><th>version</th><th>timestamp</th><th>userId</th><th>userName</th><th>operation</th><th>operationParameters</th><th>job</th><th>notebook</th><th>clusterId</th><th>readVersion</th><th>isolationLevel</th><th>isBlindAppend</th><th>operationMetrics</th><th>userMetadata</th><th>engineInfo</th></tr>\n",
       "<tr><td>1</td><td>2025-04-17 22:48:54.534</td><td>NULL</td><td>NULL</td><td>STREAMING UPDATE</td><td>{outputMode -&gt; Append, queryId -&gt; 2177981f-3d61-4e68-910e-998469d01ae5, epochId -&gt; 0}</td><td>NULL</td><td>NULL</td><td>NULL</td><td>0</td><td>Serializable</td><td>true</td><td>{numRemovedFiles -&gt; 0, numOutputRows -&gt; 1111932, numOutputBytes -&gt; 6229164, numAddedFiles -&gt; 4}</td><td>NULL</td><td>Apache-Spark/3.5.4 Delta-Lake/3.2.0</td></tr>\n",
       "<tr><td>0</td><td>2025-04-17 22:25:34.993</td><td>NULL</td><td>NULL</td><td>STREAMING UPDATE</td><td>{outputMode -&gt; Append, queryId -&gt; d57b5de8-c886-4e70-ba89-c564379b012a, epochId -&gt; 0}</td><td>NULL</td><td>NULL</td><td>NULL</td><td>NULL</td><td>Serializable</td><td>true</td><td>{numRemovedFiles -&gt; 0, numOutputRows -&gt; 1111930, numOutputBytes -&gt; 6323054, numAddedFiles -&gt; 4}</td><td>NULL</td><td>Apache-Spark/3.5.4 Delta-Lake/3.2.0</td></tr>\n",
       "</table>\n"
      ],
      "text/plain": [
       "+-------+-----------------------+------+--------+----------------+-------------------------------------------------------------------------------------+----+--------+---------+-----------+--------------+-------------+-----------------------------------------------------------------------------------------------+------------+-----------------------------------+\n",
       "|version|timestamp              |userId|userName|operation       |operationParameters                                                                  |job |notebook|clusterId|readVersion|isolationLevel|isBlindAppend|operationMetrics                                                                               |userMetadata|engineInfo                         |\n",
       "+-------+-----------------------+------+--------+----------------+-------------------------------------------------------------------------------------+----+--------+---------+-----------+--------------+-------------+-----------------------------------------------------------------------------------------------+------------+-----------------------------------+\n",
       "|1      |2025-04-17 22:48:54.534|NULL  |NULL    |STREAMING UPDATE|{outputMode -> Append, queryId -> 2177981f-3d61-4e68-910e-998469d01ae5, epochId -> 0}|NULL|NULL    |NULL     |0          |Serializable  |true         |{numRemovedFiles -> 0, numOutputRows -> 1111932, numOutputBytes -> 6229164, numAddedFiles -> 4}|NULL        |Apache-Spark/3.5.4 Delta-Lake/3.2.0|\n",
       "|0      |2025-04-17 22:25:34.993|NULL  |NULL    |STREAMING UPDATE|{outputMode -> Append, queryId -> d57b5de8-c886-4e70-ba89-c564379b012a, epochId -> 0}|NULL|NULL    |NULL     |NULL       |Serializable  |true         |{numRemovedFiles -> 0, numOutputRows -> 1111930, numOutputBytes -> 6323054, numAddedFiles -> 4}|NULL        |Apache-Spark/3.5.4 Delta-Lake/3.2.0|\n",
       "+-------+-----------------------+------+--------+----------------+-------------------------------------------------------------------------------------+----+--------+---------+-----------+--------------+-------------+-----------------------------------------------------------------------------------------------+------------+-----------------------------------+"
      ]
     },
     "execution_count": 61,
     "metadata": {},
     "output_type": "execute_result"
    }
   ],
   "source": [
    "# Observe target post delete\n",
    "# Target to Delete - date = 2020-01-24, county = Snohomish\t\n",
    "covid_nyt_ignore_deletes_versions = spark.sql(\n",
    "    \"\"\"\n",
    "     DESCRIBE HISTORY default.covid_nyt_ignore_deletes\n",
    "    \"\"\"\n",
    ")\n",
    "\n",
    "covid_nyt_ignore_deletes_versions"
   ]
  },
  {
   "cell_type": "code",
   "execution_count": 40,
   "id": "eb966056-1fa2-440f-a3c7-1f3bcbc1182f",
   "metadata": {},
   "outputs": [
    {
     "data": {
      "text/html": [
       "<table border='1'>\n",
       "<tr><th>date</th><th>county</th><th>state</th><th>fips</th><th>cases</th><th>deaths</th></tr>\n",
       "<tr><td>2020-01-24</td><td>Cook</td><td>Illinois</td><td>17031</td><td>1</td><td>0</td></tr>\n",
       "</table>\n"
      ],
      "text/plain": [
       "+----------+------+--------+-----+-----+------+\n",
       "|date      |county|state   |fips |cases|deaths|\n",
       "+----------+------+--------+-----+-----+------+\n",
       "|2020-01-24|Cook  |Illinois|17031|1    |0     |\n",
       "+----------+------+--------+-----+-----+------+"
      ]
     },
     "execution_count": 40,
     "metadata": {},
     "output_type": "execute_result"
    }
   ],
   "source": [
    "# Observe target post delete\n",
    "# Target to Delete - date = 2020-01-24, county = Cook\n",
    "covid_nyt_ignore_deletes_select = spark.sql(\n",
    "    \"\"\"\n",
    "        SELECT * \n",
    "        FROM default.covid_nyt_ignore_deletes\n",
    "        WHERE date = CAST('2023-01-24' AS DATE)\n",
    "            AND county = 'Cook'\n",
    "    \"\"\"\n",
    ")\n",
    "\n",
    "covid_nyt_ignore_deletes_select"
   ]
  },
  {
   "cell_type": "code",
   "execution_count": 48,
   "id": "e01169d9-3cc0-4117-97eb-32fd9ff4e7ed",
   "metadata": {},
   "outputs": [
    {
     "data": {
      "text/html": [
       "<table border='1'>\n",
       "<tr><th></th></tr>\n",
       "</table>\n"
      ],
      "text/plain": [
       "++\n",
       "||\n",
       "++\n",
       "++"
      ]
     },
     "execution_count": 48,
     "metadata": {},
     "output_type": "execute_result"
    }
   ],
   "source": [
    "# Insert single record on source and see if it gets processed into target\n",
    "# Target to Insert - date = 2023-01-24, county = Cook cases = 12 deaths 3\n",
    "covid_nyt_ignore_deletes_update = spark.sql(\n",
    "    \"\"\"\n",
    "        INSERT INTO default.covid_nyt VALUES\n",
    "        ('2025-01-24', 'Minneapolis', 'Minnesota', 17032, 9, 0),\n",
    "        ('2025-01-25', 'Los Angeles', 'California', 17033, 1, 0)\n",
    "    \"\"\"\n",
    ")\n",
    "\n",
    "covid_nyt_ignore_deletes_update"
   ]
  },
  {
   "cell_type": "code",
   "execution_count": 69,
   "id": "fc54ca29-cba1-4b1d-8c88-91e02246940c",
   "metadata": {
    "scrolled": true
   },
   "outputs": [
    {
     "data": {
      "text/html": [
       "<table border='1'>\n",
       "<tr><th>date</th><th>county</th><th>state</th><th>fips</th><th>cases</th><th>deaths</th></tr>\n",
       "<tr><td>2025-01-25</td><td>Los Angeles</td><td>California</td><td>17033</td><td>1</td><td>0</td></tr>\n",
       "<tr><td>2025-01-24</td><td>Minneapolis</td><td>Minnesota</td><td>17032</td><td>9</td><td>0</td></tr>\n",
       "<tr><td>2023-01-24</td><td>Cook</td><td>Illionis</td><td>17032</td><td>12</td><td>3</td></tr>\n",
       "</table>\n"
      ],
      "text/plain": [
       "+----------+-----------+----------+-----+-----+------+\n",
       "|date      |county     |state     |fips |cases|deaths|\n",
       "+----------+-----------+----------+-----+-----+------+\n",
       "|2025-01-25|Los Angeles|California|17033|1    |0     |\n",
       "|2025-01-24|Minneapolis|Minnesota |17032|9    |0     |\n",
       "|2023-01-24|Cook       |Illionis  |17032|12   |3     |\n",
       "+----------+-----------+----------+-----+-----+------+"
      ]
     },
     "execution_count": 69,
     "metadata": {},
     "output_type": "execute_result"
    }
   ],
   "source": [
    "# Observe target post delete\n",
    "covid_nyt_ignore_deletes_select = spark.sql(\n",
    "    \"\"\"\n",
    "        SELECT * \n",
    "        FROM default.covid_nyt_ignore_deletes\n",
    "        WHERE \n",
    "        (\n",
    "            date = CAST('2025-01-24' AS DATE)\n",
    "            OR date = CAST('2025-01-25' AS DATE) \n",
    "        ) OR\n",
    "        (\n",
    "            county = 'Cook'\n",
    "            AND date_trunc('year', date) = cast('2023-01-01' as date)\n",
    "        )\n",
    "    \"\"\"\n",
    ")\n",
    "\n",
    "covid_nyt_ignore_deletes_select"
   ]
  },
  {
   "cell_type": "markdown",
   "id": "30614f05-520f-4017-a906-213e13242790",
   "metadata": {},
   "source": [
    "#### ignoreDeletes Partitioned tables as Source"
   ]
  },
  {
   "cell_type": "code",
   "execution_count": 23,
   "id": "44fdd44b-d9e7-4f0f-bc25-c7eb82cddc5e",
   "metadata": {},
   "outputs": [
    {
     "data": {
      "text/html": [
       "<table border='1'>\n",
       "<tr><th></th></tr>\n",
       "</table>\n"
      ],
      "text/plain": [
       "++\n",
       "||\n",
       "++\n",
       "++"
      ]
     },
     "execution_count": 23,
     "metadata": {},
     "output_type": "execute_result"
    }
   ],
   "source": [
    "spark.sql(\n",
    "    \"\"\"\n",
    "        DROP TABLE IF EXISTS default.covid_nyt_ignore_deletes_partitioned;\n",
    "    \"\"\"\n",
    ")"
   ]
  },
  {
   "cell_type": "code",
   "execution_count": 24,
   "id": "32a34ab2-b747-497f-bfa3-3defbb7fd5e8",
   "metadata": {},
   "outputs": [
    {
     "data": {
      "text/html": [
       "<table border='1'>\n",
       "<tr><th></th></tr>\n",
       "</table>\n"
      ],
      "text/plain": [
       "++\n",
       "||\n",
       "++\n",
       "++"
      ]
     },
     "execution_count": 24,
     "metadata": {},
     "output_type": "execute_result"
    }
   ],
   "source": [
    "# Create Delta Tables Structure in order to write stream data\n",
    "spark.sql(\n",
    "    \"\"\"\n",
    "        CREATE TABLE IF NOT EXISTS default.covid_nyt_ignore_deletes_partitioned\n",
    "        USING DELTA\n",
    "        LOCATION './spark-warehouse/covid_nyt_ignore_deletes_partitioned'\n",
    "    \"\"\"\n",
    ")"
   ]
  },
  {
   "cell_type": "code",
   "execution_count": 17,
   "id": "e4f4d52d-0137-43b3-9b96-0763b3b88496",
   "metadata": {},
   "outputs": [
    {
     "data": {
      "text/html": [
       "<table border='1'>\n",
       "<tr><th>namespace</th><th>tableName</th><th>isTemporary</th></tr>\n",
       "<tr><td>bronze</td><td>covid_nyt_by_date</td><td>false</td></tr>\n",
       "</table>\n"
      ],
      "text/plain": [
       "+---------+-----------------+-----------+\n",
       "|namespace|tableName        |isTemporary|\n",
       "+---------+-----------------+-----------+\n",
       "|bronze   |covid_nyt_by_date|false      |\n",
       "+---------+-----------------+-----------+"
      ]
     },
     "execution_count": 17,
     "metadata": {},
     "output_type": "execute_result"
    }
   ],
   "source": [
    "show_schemas = spark.sql(\n",
    "    \"\"\"\n",
    "        SHOW TABLES FROM BRONZE;\n",
    "    \"\"\"\n",
    ")\n",
    "\n",
    "show_schemas"
   ]
  },
  {
   "cell_type": "code",
   "execution_count": null,
   "id": "4539b929-8211-4796-ae3a-eedb910bdebd",
   "metadata": {},
   "outputs": [],
   "source": [
    "# Get details for partitioned table for source\n",
    "bronze_covid_nyt_by_date_det = spark.sql(\n",
    "    \"\"\"\n",
    "        DESCRIBE DETAIL bronze.covid_nyt_by_date\n",
    "    \"\"\"\n",
    ")\n",
    "\n",
    "bronze_covid_nyt_by_date_det"
   ]
  },
  {
   "cell_type": "code",
   "execution_count": 28,
   "id": "d3ca49f0-7f73-4e42-9994-e427b0956b15",
   "metadata": {},
   "outputs": [],
   "source": [
    "stream_covid_nyt_by_date_ignore_updates = (\n",
    "    spark\n",
    "    .readStream\n",
    "    .format(\"delta\")\n",
    "    .option(\"ignoreDeletes\", \"true\")\n",
    "    .load(\"./spark-warehouse/bronze.db/covid_nyt_by_date\")\n",
    ")"
   ]
  },
  {
   "cell_type": "code",
   "execution_count": 29,
   "id": "ad5a83ea-66d7-4bf3-85d6-aa78f677955e",
   "metadata": {},
   "outputs": [
    {
     "data": {
      "text/plain": [
       "<pyspark.sql.streaming.query.StreamingQuery at 0x21a7fb52e90>"
      ]
     },
     "execution_count": 29,
     "metadata": {},
     "output_type": "execute_result"
    }
   ],
   "source": [
    "\n",
    "(\n",
    "    stream_covid_nyt_by_date_ignore_updates\n",
    "    .writeStream\n",
    "    .format(\"delta\")\n",
    "    .outputMode(\"append\")\n",
    "    .option(\"mergeSchema\", \"true\")\n",
    "    .option(\"checkpointLocation\", \"streaming_checkpoints/ch07/covid_nyt_ignore_deletes_partitioned/ws1\")\n",
    "    .start(\"./spark-warehouse/covid_nyt_ignore_deletes_partitioned\")\n",
    ")"
   ]
  },
  {
   "cell_type": "code",
   "execution_count": 34,
   "id": "c2999c71-50b4-4e0b-95d6-3c94541d0cf1",
   "metadata": {},
   "outputs": [
    {
     "data": {
      "text/html": [
       "<table border='1'>\n",
       "<tr><th>row_count</th><th>r_type</th></tr>\n",
       "<tr><td>1111930</td><td>SOURCE</td></tr>\n",
       "<tr><td>1111930</td><td>TARGET</td></tr>\n",
       "</table>\n"
      ],
      "text/plain": [
       "+---------+------+\n",
       "|row_count|r_type|\n",
       "+---------+------+\n",
       "|1111930  |SOURCE|\n",
       "|1111930  |TARGET|\n",
       "+---------+------+"
      ]
     },
     "execution_count": 34,
     "metadata": {},
     "output_type": "execute_result"
    }
   ],
   "source": [
    "# [PRE-DELETE] Retrieve taget table count compare with target\n",
    "from pyspark.sql.functions import lit\n",
    "\n",
    "target_df = (\n",
    "    spark\n",
    "    .read\n",
    "    .format(\"delta\")\n",
    "    .load(\"./spark-warehouse/covid_nyt_ignore_deletes_partitioned\")\n",
    ")\n",
    "\n",
    "source_df = (\n",
    "    spark\n",
    "    .read\n",
    "    .format(\"delta\")\n",
    "    .load(\"./spark-warehouse/bronze.db/covid_nyt_by_date\")\n",
    ")\n",
    "\n",
    "source_vs_target_counts = (\n",
    "    spark.createDataFrame([(source_df.count(),)], [\"row_count\"]).withColumn(\"r_type\", lit(\"SOURCE\"))\n",
    "    .unionAll(\n",
    "        spark.createDataFrame([(target_df.count(),)], [\"row_count\"]).withColumn(\"r_type\", lit(\"TARGET\"))\n",
    "    )\n",
    ")\n",
    "\n",
    "source_vs_target_counts"
   ]
  },
  {
   "cell_type": "code",
   "execution_count": 35,
   "id": "1b700ce4-6c7a-48ba-a5e5-bb86119a8235",
   "metadata": {},
   "outputs": [
    {
     "data": {
      "text/html": [
       "<table border='1'>\n",
       "<tr><th>date</th><th>county</th><th>state</th><th>fips</th><th>cases</th><th>deaths</th></tr>\n",
       "<tr><td>2020-01-28</td><td>Maricopa</td><td>Arizona</td><td>4013</td><td>1</td><td>0</td></tr>\n",
       "<tr><td>2020-01-28</td><td>Los Angeles</td><td>California</td><td>6037</td><td>1</td><td>0</td></tr>\n",
       "<tr><td>2020-01-28</td><td>Orange</td><td>California</td><td>6059</td><td>1</td><td>0</td></tr>\n",
       "<tr><td>2020-01-28</td><td>Cook</td><td>Illinois</td><td>17031</td><td>1</td><td>0</td></tr>\n",
       "<tr><td>2020-01-28</td><td>Snohomish</td><td>Washington</td><td>53061</td><td>1</td><td>0</td></tr>\n",
       "</table>\n"
      ],
      "text/plain": [
       "+----------+-----------+----------+-----+-----+------+\n",
       "|date      |county     |state     |fips |cases|deaths|\n",
       "+----------+-----------+----------+-----+-----+------+\n",
       "|2020-01-28|Maricopa   |Arizona   |4013 |1    |0     |\n",
       "|2020-01-28|Los Angeles|California|6037 |1    |0     |\n",
       "|2020-01-28|Orange     |California|6059 |1    |0     |\n",
       "|2020-01-28|Cook       |Illinois  |17031|1    |0     |\n",
       "|2020-01-28|Snohomish  |Washington|53061|1    |0     |\n",
       "+----------+-----------+----------+-----+-----+------+"
      ]
     },
     "execution_count": 35,
     "metadata": {},
     "output_type": "execute_result"
    }
   ],
   "source": [
    "# Find and retrieve all source candidates for delete that will remove entire file/directory for single day\n",
    "# date = 2020-01-28\n",
    "from pyspark.sql.functions import col\n",
    "\n",
    "covid_nyt_by_date_delete_candidates = (\n",
    "    source_df\n",
    "    .filter(source_df.date == '2020-01-28')\n",
    ")\n",
    "\n",
    "covid_nyt_by_date_delete_candidates"
   ]
  },
  {
   "cell_type": "code",
   "execution_count": 37,
   "id": "6ca89e02-3911-4235-98be-84cf507edd05",
   "metadata": {},
   "outputs": [
    {
     "data": {
      "text/plain": [
       "5"
      ]
     },
     "execution_count": 37,
     "metadata": {},
     "output_type": "execute_result"
    }
   ],
   "source": [
    "#Count of candidate rows for delete \n",
    "covid_nyt_by_date_count = covid_nyt_by_date_delete_candidates.count()\n",
    "\n",
    "covid_nyt_by_date_count"
   ]
  },
  {
   "cell_type": "code",
   "execution_count": 38,
   "id": "2721bbd0-c438-4464-b85b-aa3098b59519",
   "metadata": {},
   "outputs": [
    {
     "data": {
      "text/html": [
       "<table border='1'>\n",
       "<tr><th>num_affected_rows</th></tr>\n",
       "<tr><td>5</td></tr>\n",
       "</table>\n"
      ],
      "text/plain": [
       "+-----------------+\n",
       "|num_affected_rows|\n",
       "+-----------------+\n",
       "|5                |\n",
       "+-----------------+"
      ]
     },
     "execution_count": 38,
     "metadata": {},
     "output_type": "execute_result"
    }
   ],
   "source": [
    "# DELETE DML for date = 2020-01-28\n",
    "delete_response = spark.sql(\n",
    "    \"\"\"\n",
    "        DELETE FROM bronze.covid_nyt_by_date\n",
    "        WHERE date = CAST('2020-01-28' AS DATE);\n",
    "    \"\"\"\n",
    ")\n",
    "\n",
    "delete_response"
   ]
  },
  {
   "cell_type": "code",
   "execution_count": 12,
   "id": "038a87fa-748e-4d42-b3e3-38d405a1e08b",
   "metadata": {
    "scrolled": true
   },
   "outputs": [
    {
     "data": {
      "text/html": [
       "<table border='1'>\n",
       "<tr><th>row_count</th><th>r_type</th></tr>\n",
       "<tr><td>1111925</td><td>SOURCE</td></tr>\n",
       "<tr><td>1111930</td><td>TARGET</td></tr>\n",
       "</table>\n"
      ],
      "text/plain": [
       "+---------+------+\n",
       "|row_count|r_type|\n",
       "+---------+------+\n",
       "|1111925  |SOURCE|\n",
       "|1111930  |TARGET|\n",
       "+---------+------+"
      ]
     },
     "execution_count": 12,
     "metadata": {},
     "output_type": "execute_result"
    }
   ],
   "source": [
    "# [POST-DELETE] Retrieve taget table count compare with target\n",
    "from pyspark.sql.functions import lit\n",
    "\n",
    "target_df_2 = (\n",
    "    spark\n",
    "    .read\n",
    "    .format(\"delta\")\n",
    "    .load(\"./spark-warehouse/covid_nyt_ignore_deletes_partitioned\")\n",
    ")\n",
    "\n",
    "source_df_2 = (\n",
    "    spark\n",
    "    .read\n",
    "    .format(\"delta\")\n",
    "    .load(\"./spark-warehouse/bronze.db/covid_nyt_by_date\")\n",
    ")\n",
    "\n",
    "source_vs_target_counts_2 = (\n",
    "    spark.createDataFrame([(source_df_2.count(),)], [\"row_count\"]).withColumn(\"r_type\", lit(\"SOURCE\"))\n",
    "    .unionAll(\n",
    "        spark.createDataFrame([(target_df_2.count(),)], [\"row_count\"]).withColumn(\"r_type\", lit(\"TARGET\"))\n",
    "    )\n",
    ")\n",
    "\n",
    "source_vs_target_counts_2"
   ]
  },
  {
   "cell_type": "code",
   "execution_count": 52,
   "id": "27de00c9-c54d-4734-afe3-961cb2988cc3",
   "metadata": {},
   "outputs": [
    {
     "data": {
      "text/html": [
       "<table border='1'>\n",
       "<tr><th>date</th><th>county</th><th>state</th><th>fips</th><th>cases</th><th>deaths</th></tr>\n",
       "</table>\n"
      ],
      "text/plain": [
       "DataFrame[date: date, county: string, state: string, fips: int, cases: int, deaths: int]"
      ]
     },
     "execution_count": 52,
     "metadata": {},
     "output_type": "execute_result"
    }
   ],
   "source": [
    "# Check target rows that have been deleted from source\n",
    "# date = 2020-01-28\n",
    "from pyspark.sql.functions import col\n",
    "\n",
    "target_check_deletes_still_exist = (\n",
    "    target_df_2\n",
    "    .filter(target_df_2.date == '2020-01-28')\n",
    ")\n",
    "\n",
    "covid_nyt_by_date_delete_candidates"
   ]
  },
  {
   "cell_type": "code",
   "execution_count": 54,
   "id": "9c5ee917-3050-4da5-ae9e-60bed745d355",
   "metadata": {},
   "outputs": [
    {
     "data": {
      "text/html": [
       "<table border='1'>\n",
       "<tr><th>date</th><th>county</th><th>state</th><th>fips</th><th>cases</th><th>deaths</th></tr>\n",
       "<tr><td>2020-01-28</td><td>Maricopa</td><td>Arizona</td><td>4013</td><td>1</td><td>0</td></tr>\n",
       "<tr><td>2020-01-28</td><td>Los Angeles</td><td>California</td><td>6037</td><td>1</td><td>0</td></tr>\n",
       "<tr><td>2020-01-28</td><td>Orange</td><td>California</td><td>6059</td><td>1</td><td>0</td></tr>\n",
       "<tr><td>2020-01-28</td><td>Cook</td><td>Illinois</td><td>17031</td><td>1</td><td>0</td></tr>\n",
       "<tr><td>2020-01-28</td><td>Snohomish</td><td>Washington</td><td>53061</td><td>1</td><td>0</td></tr>\n",
       "</table>\n"
      ],
      "text/plain": [
       "+----------+-----------+----------+-----+-----+------+\n",
       "|date      |county     |state     |fips |cases|deaths|\n",
       "+----------+-----------+----------+-----+-----+------+\n",
       "|2020-01-28|Maricopa   |Arizona   |4013 |1    |0     |\n",
       "|2020-01-28|Los Angeles|California|6037 |1    |0     |\n",
       "|2020-01-28|Orange     |California|6059 |1    |0     |\n",
       "|2020-01-28|Cook       |Illinois  |17031|1    |0     |\n",
       "|2020-01-28|Snohomish  |Washington|53061|1    |0     |\n",
       "+----------+-----------+----------+-----+-----+------+"
      ]
     },
     "execution_count": 54,
     "metadata": {},
     "output_type": "execute_result"
    }
   ],
   "source": [
    "target_df_2_ordered = (\n",
    "    target_df_2.filter(target_df_2.date == '2020-01-28').orderBy(\"date\")\n",
    ")\n",
    "target_df_2_ordered"
   ]
  },
  {
   "cell_type": "code",
   "execution_count": 46,
   "id": "169f8239-5f8a-4988-b8c3-a036f0e90fe9",
   "metadata": {},
   "outputs": [
    {
     "data": {
      "text/html": [
       "<table border='1'>\n",
       "<tr><th>namespace</th><th>tableName</th><th>isTemporary</th></tr>\n",
       "<tr><td>default</td><td>covid_nyt</td><td>false</td></tr>\n",
       "<tr><td>default</td><td>covid_nyt_by_date</td><td>false</td></tr>\n",
       "<tr><td>default</td><td>covid_nyt_deaths</td><td>false</td></tr>\n",
       "<tr><td>default</td><td>covid_nyt_ignore_deletes</td><td>false</td></tr>\n",
       "<tr><td>default</td><td>covid_nyt_ignore_deletes_partitioned</td><td>false</td></tr>\n",
       "<tr><td>default</td><td>covid_nyt_stream_1</td><td>false</td></tr>\n",
       "<tr><td>default</td><td>nonoptimal_covid_nyt</td><td>false</td></tr>\n",
       "</table>\n"
      ],
      "text/plain": [
       "+---------+------------------------------------+-----------+\n",
       "|namespace|tableName                           |isTemporary|\n",
       "+---------+------------------------------------+-----------+\n",
       "|default  |covid_nyt                           |false      |\n",
       "|default  |covid_nyt_by_date                   |false      |\n",
       "|default  |covid_nyt_deaths                    |false      |\n",
       "|default  |covid_nyt_ignore_deletes            |false      |\n",
       "|default  |covid_nyt_ignore_deletes_partitioned|false      |\n",
       "|default  |covid_nyt_stream_1                  |false      |\n",
       "|default  |nonoptimal_covid_nyt                |false      |\n",
       "+---------+------------------------------------+-----------+"
      ]
     },
     "execution_count": 46,
     "metadata": {},
     "output_type": "execute_result"
    }
   ],
   "source": [
    "show_schemas = spark.sql(\n",
    "    \"\"\"\n",
    "        SHOW TABLES FROM default;\n",
    "    \"\"\"\n",
    ")\n",
    "\n",
    "show_schemas"
   ]
  },
  {
   "cell_type": "code",
   "execution_count": 10,
   "id": "d8783a24-d5c3-4306-9957-c56fa1fd6e21",
   "metadata": {},
   "outputs": [
    {
     "data": {
      "text/html": [
       "<table border='1'>\n",
       "<tr><th>version</th><th>timestamp</th><th>userId</th><th>userName</th><th>operation</th><th>operationParameters</th><th>job</th><th>notebook</th><th>clusterId</th><th>readVersion</th><th>isolationLevel</th><th>isBlindAppend</th><th>operationMetrics</th><th>userMetadata</th><th>engineInfo</th></tr>\n",
       "<tr><td>2</td><td>2025-04-18 20:06:46.391</td><td>NULL</td><td>NULL</td><td>DELETE</td><td>{predicate -&gt; [&quot;(date#4471 = 2020-01-28)&quot;]}</td><td>NULL</td><td>NULL</td><td>NULL</td><td>1</td><td>Serializable</td><td>false</td><td>{numRemovedFiles -&gt; 1, numRemovedBytes -&gt; 1617, numCopiedRows -&gt; 0, numDeletionVectorsAdded -&gt; 0, numDeletionVectorsRemoved -&gt; 0, numAddedChangeFiles -&gt; 0, executionTimeMs -&gt; 197, numDeletionVectorsUpdated -&gt; 0, numDeletedRows -&gt; 5, scanTimeMs -&gt; 195, numAddedFiles -&gt; 0, numAddedBytes -&gt; 0, rewriteTimeMs -&gt; 0}</td><td>NULL</td><td>Apache-Spark/3.5.4 Delta-Lake/3.2.0</td></tr>\n",
       "<tr><td>1</td><td>2025-03-19 11:34:36.185</td><td>NULL</td><td>NULL</td><td>WRITE</td><td>{mode -&gt; Append, partitionBy -&gt; []}</td><td>NULL</td><td>NULL</td><td>NULL</td><td>0</td><td>Serializable</td><td>true</td><td>{numFiles -&gt; 421, numOutputRows -&gt; 1111930, numOutputBytes -&gt; 17654179}</td><td>NULL</td><td>Apache-Spark/3.5.4 Delta-Lake/3.2.0</td></tr>\n",
       "<tr><td>0</td><td>2025-03-19 11:34:26.935</td><td>NULL</td><td>NULL</td><td>CREATE TABLE</td><td>{partitionBy -&gt; [&quot;date&quot;], clusterBy -&gt; [], description -&gt; NULL, isManaged -&gt; true, properties -&gt; {}}</td><td>NULL</td><td>NULL</td><td>NULL</td><td>NULL</td><td>Serializable</td><td>true</td><td>{}</td><td>NULL</td><td>Apache-Spark/3.5.4 Delta-Lake/3.2.0</td></tr>\n",
       "</table>\n"
      ],
      "text/plain": [
       "+-------+-----------------------+------+--------+------------+----------------------------------------------------------------------------------------------------+----+--------+---------+-----------+--------------+-------------+-----------------------------------------------------------------------------------------------------------------------------------------------------------------------------------------------------------------------------------------------------------------------------------------------------------------------+------------+-----------------------------------+\n",
       "|version|timestamp              |userId|userName|operation   |operationParameters                                                                                 |job |notebook|clusterId|readVersion|isolationLevel|isBlindAppend|operationMetrics                                                                                                                                                                                                                                                                                                       |userMetadata|engineInfo                         |\n",
       "+-------+-----------------------+------+--------+------------+----------------------------------------------------------------------------------------------------+----+--------+---------+-----------+--------------+-------------+-----------------------------------------------------------------------------------------------------------------------------------------------------------------------------------------------------------------------------------------------------------------------------------------------------------------------+------------+-----------------------------------+\n",
       "|2      |2025-04-18 20:06:46.391|NULL  |NULL    |DELETE      |{predicate -> [\"(date#4471 = 2020-01-28)\"]}                                                         |NULL|NULL    |NULL     |1          |Serializable  |false        |{numRemovedFiles -> 1, numRemovedBytes -> 1617, numCopiedRows -> 0, numDeletionVectorsAdded -> 0, numDeletionVectorsRemoved -> 0, numAddedChangeFiles -> 0, executionTimeMs -> 197, numDeletionVectorsUpdated -> 0, numDeletedRows -> 5, scanTimeMs -> 195, numAddedFiles -> 0, numAddedBytes -> 0, rewriteTimeMs -> 0}|NULL        |Apache-Spark/3.5.4 Delta-Lake/3.2.0|\n",
       "|1      |2025-03-19 11:34:36.185|NULL  |NULL    |WRITE       |{mode -> Append, partitionBy -> []}                                                                 |NULL|NULL    |NULL     |0          |Serializable  |true         |{numFiles -> 421, numOutputRows -> 1111930, numOutputBytes -> 17654179}                                                                                                                                                                                                                                                |NULL        |Apache-Spark/3.5.4 Delta-Lake/3.2.0|\n",
       "|0      |2025-03-19 11:34:26.935|NULL  |NULL    |CREATE TABLE|{partitionBy -> [\"date\"], clusterBy -> [], description -> NULL, isManaged -> true, properties -> {}}|NULL|NULL    |NULL     |NULL       |Serializable  |true         |{}                                                                                                                                                                                                                                                                                                                     |NULL        |Apache-Spark/3.5.4 Delta-Lake/3.2.0|\n",
       "+-------+-----------------------+------+--------+------------+----------------------------------------------------------------------------------------------------+----+--------+---------+-----------+--------------+-------------+-----------------------------------------------------------------------------------------------------------------------------------------------------------------------------------------------------------------------------------------------------------------------------------------------------------------------+------------+-----------------------------------+"
      ]
     },
     "execution_count": 10,
     "metadata": {},
     "output_type": "execute_result"
    }
   ],
   "source": [
    "source_history = spark.sql(\n",
    "    \"\"\"\n",
    "        DESCRIBE HISTORY bronze.covid_nyt_by_date\n",
    "    \"\"\"\n",
    ")\n",
    "\n",
    "source_history"
   ]
  },
  {
   "cell_type": "code",
   "execution_count": 11,
   "id": "ebf87515-ccd7-4b82-90e8-985b19980170",
   "metadata": {},
   "outputs": [
    {
     "data": {
      "text/html": [
       "<table border='1'>\n",
       "<tr><th>date</th><th>county</th><th>state</th><th>fips</th><th>cases</th><th>deaths</th></tr>\n",
       "</table>\n"
      ],
      "text/plain": [
       "+----+------+-----+----+-----+------+\n",
       "|date|county|state|fips|cases|deaths|\n",
       "+----+------+-----+----+-----+------+\n",
       "+----+------+-----+----+-----+------+"
      ]
     },
     "execution_count": 11,
     "metadata": {},
     "output_type": "execute_result"
    }
   ],
   "source": [
    "source_check_for_deleted_records = spark.sql(\n",
    "    \"\"\"\n",
    "        SELECT *\n",
    "        FROM bronze.covid_nyt_by_date\n",
    "        WHERE date = CAST('2020-01-28' AS DATE)\n",
    "    \"\"\"\n",
    ") \n",
    "\n",
    "source_check_for_deleted_records"
   ]
  },
  {
   "cell_type": "markdown",
   "id": "8198a760-06c0-4d15-be48-51ae6312821e",
   "metadata": {},
   "source": [
    "#### ignoreChanges w/ Non-partitioned table"
   ]
  },
  {
   "cell_type": "code",
   "execution_count": 23,
   "id": "532ec7e3-35ae-4ac2-9cf7-58b01ebb1aaf",
   "metadata": {},
   "outputs": [
    {
     "data": {
      "text/html": [
       "<table border='1'>\n",
       "<tr><th></th></tr>\n",
       "</table>\n"
      ],
      "text/plain": [
       "++\n",
       "||\n",
       "++\n",
       "++"
      ]
     },
     "execution_count": 23,
     "metadata": {},
     "output_type": "execute_result"
    }
   ],
   "source": [
    "spark.sql(\n",
    "    \"\"\"\n",
    "        DROP TABLE IF EXISTS default.covid_nyt_ignore_changes_non_partitioned;\n",
    "    \"\"\"\n",
    ")"
   ]
  },
  {
   "cell_type": "code",
   "execution_count": 49,
   "id": "69212fd4-c5fd-41db-aab7-e50a0d5d4d35",
   "metadata": {},
   "outputs": [
    {
     "name": "stdout",
     "output_type": "stream",
     "text": [
      "E:\\Programming\\python_project\\delta_lake_pyspark_learning\\delta-lake-definitive-guide\n"
     ]
    }
   ],
   "source": [
    "import os\n",
    "print(os.getcwd())"
   ]
  },
  {
   "cell_type": "code",
   "execution_count": 24,
   "id": "190ee879-2641-4a01-ae72-32a5fcb17019",
   "metadata": {},
   "outputs": [
    {
     "data": {
      "text/html": [
       "<table border='1'>\n",
       "<tr><th></th></tr>\n",
       "</table>\n"
      ],
      "text/plain": [
       "++\n",
       "||\n",
       "++\n",
       "++"
      ]
     },
     "execution_count": 24,
     "metadata": {},
     "output_type": "execute_result"
    }
   ],
   "source": [
    "# Create Delta Tables Structure in order to write stream data\n",
    "\n",
    "spark.sql(\n",
    "    \"\"\"\n",
    "        CREATE TABLE IF NOT EXISTS default.covid_nyt_ignore_changes_non_partitioned\n",
    "        USING DELTA\n",
    "        -- LOCATION './covid_nyt_ignore_changes_non_partitioned'\n",
    "    \"\"\"\n",
    ")"
   ]
  },
  {
   "cell_type": "code",
   "execution_count": 25,
   "id": "9007b0c7-f31e-4a53-b551-06f49ae17d29",
   "metadata": {},
   "outputs": [],
   "source": [
    "stream_covid_nyt_ignore_updates = (\n",
    "    spark\n",
    "    .readStream\n",
    "    .format(\"delta\")\n",
    "    .option(\"ignoreChanges\", \"true\")\n",
    "    .load(\"./spark-warehouse/covid_nyt\") # Non-Partitioned Source\n",
    ")"
   ]
  },
  {
   "cell_type": "code",
   "execution_count": 26,
   "id": "30f83ed6-c709-4679-b5a4-b9b7639ac954",
   "metadata": {},
   "outputs": [
    {
     "data": {
      "text/plain": [
       "<pyspark.sql.streaming.query.StreamingQuery at 0x27dc1fc6c90>"
      ]
     },
     "execution_count": 26,
     "metadata": {},
     "output_type": "execute_result"
    }
   ],
   "source": [
    "(\n",
    "    stream_covid_nyt_ignore_updates\n",
    "    .writeStream\n",
    "    .format(\"delta\")\n",
    "    .outputMode(\"append\")\n",
    "    .option(\"mergeSchema\", \"true\")\n",
    "    .option(\"checkpointLocation\", \"streaming_checkpoints/ch07/covid_nyt_ignore_changes_non_partitioned/ws1\")\n",
    "    .start(\"./spark-warehouse/covid_nyt_ignore_changes_non_partitioned\") # To Non-Partitioned Target\n",
    ")"
   ]
  },
  {
   "cell_type": "code",
   "execution_count": 27,
   "id": "45fff935-c99f-4f62-bd8d-2036594d4883",
   "metadata": {},
   "outputs": [
    {
     "data": {
      "text/html": [
       "<table border='1'>\n",
       "<tr><th>date</th><th>county</th><th>state</th><th>fips</th><th>cases</th><th>deaths</th></tr>\n",
       "<tr><td>2020-01-25</td><td>Orange</td><td>California</td><td>6059</td><td>10</td><td>0</td></tr>\n",
       "<tr><td>2020-01-25</td><td>Cook</td><td>Illinois</td><td>17031</td><td>10</td><td>0</td></tr>\n",
       "<tr><td>2020-01-25</td><td>Snohomish</td><td>Washington</td><td>53061</td><td>10</td><td>0</td></tr>\n",
       "</table>\n"
      ],
      "text/plain": [
       "+----------+---------+----------+-----+-----+------+\n",
       "|date      |county   |state     |fips |cases|deaths|\n",
       "+----------+---------+----------+-----+-----+------+\n",
       "|2020-01-25|Orange   |California|6059 |10   |0     |\n",
       "|2020-01-25|Cook     |Illinois  |17031|10   |0     |\n",
       "|2020-01-25|Snohomish|Washington|53061|10   |0     |\n",
       "+----------+---------+----------+-----+-----+------+"
      ]
     },
     "execution_count": 27,
     "metadata": {},
     "output_type": "execute_result"
    }
   ],
   "source": [
    "# Find candidates in source for update\n",
    "source_update_candidates = spark.sql(\n",
    "    \"\"\"\n",
    "        SELECT *\n",
    "        FROM default.covid_nyt\n",
    "        WHERE date = CAST('2020-01-25' AS DATE) -- Predicate for updates\n",
    "    \"\"\"\n",
    ")\n",
    "\n",
    "source_update_candidates"
   ]
  },
  {
   "cell_type": "code",
   "execution_count": 34,
   "id": "85bb0561-c5c4-4a2b-9cba-eff82f6dbb00",
   "metadata": {},
   "outputs": [
    {
     "data": {
      "text/html": [
       "<table border='1'>\n",
       "<tr><th>num_affected_rows</th></tr>\n",
       "<tr><td>3</td></tr>\n",
       "</table>\n"
      ],
      "text/plain": [
       "+-----------------+\n",
       "|num_affected_rows|\n",
       "+-----------------+\n",
       "|3                |\n",
       "+-----------------+"
      ]
     },
     "execution_count": 34,
     "metadata": {},
     "output_type": "execute_result"
    }
   ],
   "source": [
    "# Update\n",
    "source_updates_response = spark.sql(\n",
    "    \"\"\"\n",
    "        UPDATE default.covid_nyt\n",
    "        SET cases = 13\n",
    "        WHERE date = CAST('2020-01-25' AS DATE) -- Predicate for updates\n",
    "    \"\"\"\n",
    ")\n",
    "# Expected 3 updated rows\n",
    "source_updates_response"
   ]
  },
  {
   "cell_type": "code",
   "execution_count": 35,
   "id": "1f323bd7-a9ac-4553-bdac-48c623bf37ed",
   "metadata": {},
   "outputs": [
    {
     "data": {
      "text/html": [
       "<table border='1'>\n",
       "<tr><th>date</th><th>county</th><th>state</th><th>fips</th><th>cases</th><th>deaths</th></tr>\n",
       "<tr><td>2020-01-25</td><td>Orange</td><td>California</td><td>6059</td><td>13</td><td>0</td></tr>\n",
       "<tr><td>2020-01-25</td><td>Cook</td><td>Illinois</td><td>17031</td><td>13</td><td>0</td></tr>\n",
       "<tr><td>2020-01-25</td><td>Snohomish</td><td>Washington</td><td>53061</td><td>13</td><td>0</td></tr>\n",
       "</table>\n"
      ],
      "text/plain": [
       "+----------+---------+----------+-----+-----+------+\n",
       "|date      |county   |state     |fips |cases|deaths|\n",
       "+----------+---------+----------+-----+-----+------+\n",
       "|2020-01-25|Orange   |California|6059 |13   |0     |\n",
       "|2020-01-25|Cook     |Illinois  |17031|13   |0     |\n",
       "|2020-01-25|Snohomish|Washington|53061|13   |0     |\n",
       "+----------+---------+----------+-----+-----+------+"
      ]
     },
     "execution_count": 35,
     "metadata": {},
     "output_type": "execute_result"
    }
   ],
   "source": [
    "# Check candidates in source post-update\n",
    "source_update_candidates = spark.sql(\n",
    "    \"\"\"\n",
    "        SELECT *\n",
    "        FROM default.covid_nyt\n",
    "        WHERE date = CAST('2020-01-25' AS DATE) -- Predicate for updates\n",
    "    \"\"\"\n",
    ")\n",
    "\n",
    "source_update_candidates"
   ]
  },
  {
   "cell_type": "code",
   "execution_count": 36,
   "id": "e3ebcd7d-f72a-4e94-a3d6-d656defcc758",
   "metadata": {
    "scrolled": true
   },
   "outputs": [
    {
     "data": {
      "text/html": [
       "<table border='1'>\n",
       "<tr><th>date</th><th>county</th><th>state</th><th>fips</th><th>cases</th><th>deaths</th></tr>\n",
       "<tr><td>2020-01-25</td><td>Orange</td><td>California</td><td>6059</td><td>13</td><td>0</td></tr>\n",
       "<tr><td>2020-01-25</td><td>Cook</td><td>Illinois</td><td>17031</td><td>13</td><td>0</td></tr>\n",
       "<tr><td>2020-01-25</td><td>Snohomish</td><td>Washington</td><td>53061</td><td>13</td><td>0</td></tr>\n",
       "<tr><td>2020-01-25</td><td>Orange</td><td>California</td><td>6059</td><td>13</td><td>0</td></tr>\n",
       "<tr><td>2020-01-25</td><td>Cook</td><td>Illinois</td><td>17031</td><td>13</td><td>0</td></tr>\n",
       "<tr><td>2020-01-25</td><td>Snohomish</td><td>Washington</td><td>53061</td><td>13</td><td>0</td></tr>\n",
       "<tr><td>2020-01-25</td><td>Orange</td><td>California</td><td>6059</td><td>10</td><td>0</td></tr>\n",
       "<tr><td>2020-01-25</td><td>Cook</td><td>Illinois</td><td>17031</td><td>10</td><td>0</td></tr>\n",
       "<tr><td>2020-01-25</td><td>Snohomish</td><td>Washington</td><td>53061</td><td>10</td><td>0</td></tr>\n",
       "</table>\n"
      ],
      "text/plain": [
       "+----------+---------+----------+-----+-----+------+\n",
       "|date      |county   |state     |fips |cases|deaths|\n",
       "+----------+---------+----------+-----+-----+------+\n",
       "|2020-01-25|Orange   |California|6059 |13   |0     |\n",
       "|2020-01-25|Cook     |Illinois  |17031|13   |0     |\n",
       "|2020-01-25|Snohomish|Washington|53061|13   |0     |\n",
       "|2020-01-25|Orange   |California|6059 |13   |0     |\n",
       "|2020-01-25|Cook     |Illinois  |17031|13   |0     |\n",
       "|2020-01-25|Snohomish|Washington|53061|13   |0     |\n",
       "|2020-01-25|Orange   |California|6059 |10   |0     |\n",
       "|2020-01-25|Cook     |Illinois  |17031|10   |0     |\n",
       "|2020-01-25|Snohomish|Washington|53061|10   |0     |\n",
       "+----------+---------+----------+-----+-----+------+"
      ]
     },
     "execution_count": 36,
     "metadata": {},
     "output_type": "execute_result"
    }
   ],
   "source": [
    "# Check candidates in target post-update\n",
    "target_update_candidates = spark.sql(\n",
    "    \"\"\"\n",
    "        SELECT *\n",
    "        FROM default.covid_nyt_ignore_changes_non_partitioned\n",
    "        WHERE date = CAST('2020-01-25' AS DATE)\n",
    "    \"\"\"\n",
    ")\n",
    "\n",
    "target_update_candidates"
   ]
  },
  {
   "cell_type": "code",
   "execution_count": 44,
   "id": "1d6977bf-ec47-4e87-b29c-83467c8375a4",
   "metadata": {},
   "outputs": [
    {
     "data": {
      "text/html": [
       "<table border='1'>\n",
       "<tr><th>namespace</th><th>tableName</th><th>isTemporary</th></tr>\n",
       "<tr><td>default</td><td>covid_nyt</td><td>false</td></tr>\n",
       "<tr><td>default</td><td>covid_nyt_by_date</td><td>false</td></tr>\n",
       "<tr><td>default</td><td>covid_nyt_deaths</td><td>false</td></tr>\n",
       "<tr><td>default</td><td>covid_nyt_ignore_changes_non_partitioned</td><td>false</td></tr>\n",
       "<tr><td>default</td><td>covid_nyt_ignore_deletes</td><td>false</td></tr>\n",
       "<tr><td>default</td><td>covid_nyt_ignore_deletes_partitioned</td><td>false</td></tr>\n",
       "<tr><td>default</td><td>covid_nyt_stream_1</td><td>false</td></tr>\n",
       "<tr><td>default</td><td>nonoptimal_covid_nyt</td><td>false</td></tr>\n",
       "</table>\n"
      ],
      "text/plain": [
       "+---------+----------------------------------------+-----------+\n",
       "|namespace|tableName                               |isTemporary|\n",
       "+---------+----------------------------------------+-----------+\n",
       "|default  |covid_nyt                               |false      |\n",
       "|default  |covid_nyt_by_date                       |false      |\n",
       "|default  |covid_nyt_deaths                        |false      |\n",
       "|default  |covid_nyt_ignore_changes_non_partitioned|false      |\n",
       "|default  |covid_nyt_ignore_deletes                |false      |\n",
       "|default  |covid_nyt_ignore_deletes_partitioned    |false      |\n",
       "|default  |covid_nyt_stream_1                      |false      |\n",
       "|default  |nonoptimal_covid_nyt                    |false      |\n",
       "+---------+----------------------------------------+-----------+"
      ]
     },
     "execution_count": 44,
     "metadata": {},
     "output_type": "execute_result"
    }
   ],
   "source": [
    "show_tables_again = spark.sql(\n",
    "    \"\"\"\n",
    "        SHOW TABLES\n",
    "    \"\"\"\n",
    ")\n",
    "\n",
    "show_tables_again"
   ]
  },
  {
   "cell_type": "code",
   "execution_count": 70,
   "id": "4dbc7e83-9504-40b7-9103-b70cad0edecb",
   "metadata": {
    "scrolled": true
   },
   "outputs": [
    {
     "data": {
      "text/html": [
       "<table border='1'>\n",
       "<tr><th>version</th><th>timestamp</th><th>userId</th><th>userName</th><th>operation</th><th>operationParameters</th><th>job</th><th>notebook</th><th>clusterId</th><th>readVersion</th><th>isolationLevel</th><th>isBlindAppend</th><th>operationMetrics</th><th>userMetadata</th><th>engineInfo</th></tr>\n",
       "<tr><td>11</td><td>2025-04-21 15:13:50.684</td><td>NULL</td><td>NULL</td><td>UPDATE</td><td>{predicate -&gt; [&quot;(date#13627 = 2020-01-25)&quot;]}</td><td>NULL</td><td>NULL</td><td>NULL</td><td>10</td><td>Serializable</td><td>false</td><td>{numRemovedFiles -&gt; 1, numRemovedBytes -&gt; 775396, numCopiedRows -&gt; 157861, numDeletionVectorsAdded -&gt; 0, numDeletionVectorsRemoved -&gt; 0, numAddedChangeFiles -&gt; 0, executionTimeMs -&gt; 1634, numDeletionVectorsUpdated -&gt; 0, scanTimeMs -&gt; 1279, numAddedFiles -&gt; 1, numUpdatedRows -&gt; 3, numAddedBytes -&gt; 775396, rewriteTimeMs -&gt; 355}</td><td>NULL</td><td>Apache-Spark/3.5.4 Delta-Lake/3.2.0</td></tr>\n",
       "<tr><td>10</td><td>2025-04-21 14:43:52.767</td><td>NULL</td><td>NULL</td><td>UPDATE</td><td>{predicate -&gt; [&quot;(date#7620 = 2020-01-25)&quot;]}</td><td>NULL</td><td>NULL</td><td>NULL</td><td>9</td><td>Serializable</td><td>false</td><td>{numRemovedFiles -&gt; 1, numRemovedBytes -&gt; 775396, numCopiedRows -&gt; 157861, numDeletionVectorsAdded -&gt; 0, numDeletionVectorsRemoved -&gt; 0, numAddedChangeFiles -&gt; 0, executionTimeMs -&gt; 1324, numDeletionVectorsUpdated -&gt; 0, scanTimeMs -&gt; 920, numAddedFiles -&gt; 1, numUpdatedRows -&gt; 3, numAddedBytes -&gt; 775396, rewriteTimeMs -&gt; 403}</td><td>NULL</td><td>Apache-Spark/3.5.4 Delta-Lake/3.2.0</td></tr>\n",
       "<tr><td>9</td><td>2025-04-21 13:57:52.903</td><td>NULL</td><td>NULL</td><td>UPDATE</td><td>{predicate -&gt; [&quot;(date#3999 = 2020-01-25)&quot;]}</td><td>NULL</td><td>NULL</td><td>NULL</td><td>8</td><td>Serializable</td><td>false</td><td>{numRemovedFiles -&gt; 1, numRemovedBytes -&gt; 776209, numCopiedRows -&gt; 157861, numDeletionVectorsAdded -&gt; 0, numDeletionVectorsRemoved -&gt; 0, numAddedChangeFiles -&gt; 0, executionTimeMs -&gt; 1457, numDeletionVectorsUpdated -&gt; 0, scanTimeMs -&gt; 996, numAddedFiles -&gt; 1, numUpdatedRows -&gt; 3, numAddedBytes -&gt; 775396, rewriteTimeMs -&gt; 460}</td><td>NULL</td><td>Apache-Spark/3.5.4 Delta-Lake/3.2.0</td></tr>\n",
       "<tr><td>8</td><td>2025-04-17 22:39:11.739</td><td>NULL</td><td>NULL</td><td>WRITE</td><td>{mode -&gt; Append, partitionBy -&gt; []}</td><td>NULL</td><td>NULL</td><td>NULL</td><td>7</td><td>Serializable</td><td>true</td><td>{numFiles -&gt; 2, numOutputRows -&gt; 2, numOutputBytes -&gt; 5908}</td><td>NULL</td><td>Apache-Spark/3.5.4 Delta-Lake/3.2.0</td></tr>\n",
       "<tr><td>7</td><td>2025-04-17 22:35:55.654</td><td>NULL</td><td>NULL</td><td>WRITE</td><td>{mode -&gt; Append, partitionBy -&gt; []}</td><td>NULL</td><td>NULL</td><td>NULL</td><td>6</td><td>Serializable</td><td>true</td><td>{numFiles -&gt; 1, numOutputRows -&gt; 1, numOutputBytes -&gt; 2895}</td><td>NULL</td><td>Apache-Spark/3.5.4 Delta-Lake/3.2.0</td></tr>\n",
       "<tr><td>6</td><td>2025-04-17 22:33:42.608</td><td>NULL</td><td>NULL</td><td>UPDATE</td><td>{predicate -&gt; [&quot;((date#4601 = 2020-01-24) AND (county#4602 = Cook))&quot;]}</td><td>NULL</td><td>NULL</td><td>NULL</td><td>5</td><td>Serializable</td><td>false</td><td>{numRemovedFiles -&gt; 1, numRemovedBytes -&gt; 775201, numCopiedRows -&gt; 157863, numDeletionVectorsAdded -&gt; 0, numDeletionVectorsRemoved -&gt; 0, numAddedChangeFiles -&gt; 0, executionTimeMs -&gt; 2501, numDeletionVectorsUpdated -&gt; 0, scanTimeMs -&gt; 2084, numAddedFiles -&gt; 1, numUpdatedRows -&gt; 1, numAddedBytes -&gt; 776209, rewriteTimeMs -&gt; 416}</td><td>NULL</td><td>Apache-Spark/3.5.4 Delta-Lake/3.2.0</td></tr>\n",
       "<tr><td>5</td><td>2025-04-17 22:26:03.475</td><td>NULL</td><td>NULL</td><td>DELETE</td><td>{predicate -&gt; [&quot;((date#3389 = 2020-01-24) AND (county#3390 = Snohomish))&quot;]}</td><td>NULL</td><td>NULL</td><td>NULL</td><td>4</td><td>Serializable</td><td>false</td><td>{numRemovedFiles -&gt; 1, numRemovedBytes -&gt; 793105, numCopiedRows -&gt; 157864, numDeletionVectorsAdded -&gt; 0, numDeletionVectorsRemoved -&gt; 0, numAddedChangeFiles -&gt; 0, executionTimeMs -&gt; 1347, numDeletionVectorsUpdated -&gt; 0, numDeletedRows -&gt; 1, scanTimeMs -&gt; 825, numAddedFiles -&gt; 1, numAddedBytes -&gt; 775201, rewriteTimeMs -&gt; 521}</td><td>NULL</td><td>Apache-Spark/3.5.4 Delta-Lake/3.2.0</td></tr>\n",
       "</table>\n"
      ],
      "text/plain": [
       "+-------+-----------------------+------+--------+---------+---------------------------------------------------------------------------+----+--------+---------+-----------+--------------+-------------+---------------------------------------------------------------------------------------------------------------------------------------------------------------------------------------------------------------------------------------------------------------------------------------------------------------------------------------+------------+-----------------------------------+\n",
       "|version|timestamp              |userId|userName|operation|operationParameters                                                        |job |notebook|clusterId|readVersion|isolationLevel|isBlindAppend|operationMetrics                                                                                                                                                                                                                                                                                                                       |userMetadata|engineInfo                         |\n",
       "+-------+-----------------------+------+--------+---------+---------------------------------------------------------------------------+----+--------+---------+-----------+--------------+-------------+---------------------------------------------------------------------------------------------------------------------------------------------------------------------------------------------------------------------------------------------------------------------------------------------------------------------------------------+------------+-----------------------------------+\n",
       "|11     |2025-04-21 15:13:50.684|NULL  |NULL    |UPDATE   |{predicate -> [\"(date#13627 = 2020-01-25)\"]}                               |NULL|NULL    |NULL     |10         |Serializable  |false        |{numRemovedFiles -> 1, numRemovedBytes -> 775396, numCopiedRows -> 157861, numDeletionVectorsAdded -> 0, numDeletionVectorsRemoved -> 0, numAddedChangeFiles -> 0, executionTimeMs -> 1634, numDeletionVectorsUpdated -> 0, scanTimeMs -> 1279, numAddedFiles -> 1, numUpdatedRows -> 3, numAddedBytes -> 775396, rewriteTimeMs -> 355}|NULL        |Apache-Spark/3.5.4 Delta-Lake/3.2.0|\n",
       "|10     |2025-04-21 14:43:52.767|NULL  |NULL    |UPDATE   |{predicate -> [\"(date#7620 = 2020-01-25)\"]}                                |NULL|NULL    |NULL     |9          |Serializable  |false        |{numRemovedFiles -> 1, numRemovedBytes -> 775396, numCopiedRows -> 157861, numDeletionVectorsAdded -> 0, numDeletionVectorsRemoved -> 0, numAddedChangeFiles -> 0, executionTimeMs -> 1324, numDeletionVectorsUpdated -> 0, scanTimeMs -> 920, numAddedFiles -> 1, numUpdatedRows -> 3, numAddedBytes -> 775396, rewriteTimeMs -> 403} |NULL        |Apache-Spark/3.5.4 Delta-Lake/3.2.0|\n",
       "|9      |2025-04-21 13:57:52.903|NULL  |NULL    |UPDATE   |{predicate -> [\"(date#3999 = 2020-01-25)\"]}                                |NULL|NULL    |NULL     |8          |Serializable  |false        |{numRemovedFiles -> 1, numRemovedBytes -> 776209, numCopiedRows -> 157861, numDeletionVectorsAdded -> 0, numDeletionVectorsRemoved -> 0, numAddedChangeFiles -> 0, executionTimeMs -> 1457, numDeletionVectorsUpdated -> 0, scanTimeMs -> 996, numAddedFiles -> 1, numUpdatedRows -> 3, numAddedBytes -> 775396, rewriteTimeMs -> 460} |NULL        |Apache-Spark/3.5.4 Delta-Lake/3.2.0|\n",
       "|8      |2025-04-17 22:39:11.739|NULL  |NULL    |WRITE    |{mode -> Append, partitionBy -> []}                                        |NULL|NULL    |NULL     |7          |Serializable  |true         |{numFiles -> 2, numOutputRows -> 2, numOutputBytes -> 5908}                                                                                                                                                                                                                                                                            |NULL        |Apache-Spark/3.5.4 Delta-Lake/3.2.0|\n",
       "|7      |2025-04-17 22:35:55.654|NULL  |NULL    |WRITE    |{mode -> Append, partitionBy -> []}                                        |NULL|NULL    |NULL     |6          |Serializable  |true         |{numFiles -> 1, numOutputRows -> 1, numOutputBytes -> 2895}                                                                                                                                                                                                                                                                            |NULL        |Apache-Spark/3.5.4 Delta-Lake/3.2.0|\n",
       "|6      |2025-04-17 22:33:42.608|NULL  |NULL    |UPDATE   |{predicate -> [\"((date#4601 = 2020-01-24) AND (county#4602 = Cook))\"]}     |NULL|NULL    |NULL     |5          |Serializable  |false        |{numRemovedFiles -> 1, numRemovedBytes -> 775201, numCopiedRows -> 157863, numDeletionVectorsAdded -> 0, numDeletionVectorsRemoved -> 0, numAddedChangeFiles -> 0, executionTimeMs -> 2501, numDeletionVectorsUpdated -> 0, scanTimeMs -> 2084, numAddedFiles -> 1, numUpdatedRows -> 1, numAddedBytes -> 776209, rewriteTimeMs -> 416}|NULL        |Apache-Spark/3.5.4 Delta-Lake/3.2.0|\n",
       "|5      |2025-04-17 22:26:03.475|NULL  |NULL    |DELETE   |{predicate -> [\"((date#3389 = 2020-01-24) AND (county#3390 = Snohomish))\"]}|NULL|NULL    |NULL     |4          |Serializable  |false        |{numRemovedFiles -> 1, numRemovedBytes -> 793105, numCopiedRows -> 157864, numDeletionVectorsAdded -> 0, numDeletionVectorsRemoved -> 0, numAddedChangeFiles -> 0, executionTimeMs -> 1347, numDeletionVectorsUpdated -> 0, numDeletedRows -> 1, scanTimeMs -> 825, numAddedFiles -> 1, numAddedBytes -> 775201, rewriteTimeMs -> 521} |NULL        |Apache-Spark/3.5.4 Delta-Lake/3.2.0|\n",
       "+-------+-----------------------+------+--------+---------+---------------------------------------------------------------------------+----+--------+---------+-----------+--------------+-------------+---------------------------------------------------------------------------------------------------------------------------------------------------------------------------------------------------------------------------------------------------------------------------------------------------------------------------------------+------------+-----------------------------------+"
      ]
     },
     "execution_count": 70,
     "metadata": {},
     "output_type": "execute_result"
    }
   ],
   "source": [
    "# Check history of Source\n",
    "history_source = spark.sql(\n",
    "    \"\"\"\n",
    "        DESCRIBE HISTORY default.covid_nyt\n",
    "    \"\"\"\n",
    ")\n",
    "\n",
    "history_source"
   ]
  },
  {
   "cell_type": "code",
   "execution_count": 37,
   "id": "c4f5ebee-1b2d-4588-82ec-f5b078485622",
   "metadata": {},
   "outputs": [
    {
     "data": {
      "text/html": [
       "<table border='1'>\n",
       "<tr><th>version</th><th>timestamp</th><th>userId</th><th>userName</th><th>operation</th><th>operationParameters</th><th>job</th><th>notebook</th><th>clusterId</th><th>readVersion</th><th>isolationLevel</th><th>isBlindAppend</th><th>operationMetrics</th><th>userMetadata</th><th>engineInfo</th></tr>\n",
       "<tr><td>3</td><td>2025-04-21 21:28:54.652</td><td>NULL</td><td>NULL</td><td>STREAMING UPDATE</td><td>{outputMode -&gt; Append, queryId -&gt; 83483b97-73dc-4eb5-94c2-11bd98074ce1, epochId -&gt; 4}</td><td>NULL</td><td>NULL</td><td>NULL</td><td>2</td><td>Serializable</td><td>true</td><td>{numRemovedFiles -&gt; 0, numOutputRows -&gt; 157864, numOutputBytes -&gt; 774349, numAddedFiles -&gt; 1}</td><td>NULL</td><td>Apache-Spark/3.5.4 Delta-Lake/3.2.0</td></tr>\n",
       "<tr><td>2</td><td>2025-04-21 21:28:44.875</td><td>NULL</td><td>NULL</td><td>STREAMING UPDATE</td><td>{outputMode -&gt; Append, queryId -&gt; 83483b97-73dc-4eb5-94c2-11bd98074ce1, epochId -&gt; 3}</td><td>NULL</td><td>NULL</td><td>NULL</td><td>1</td><td>Serializable</td><td>true</td><td>{numRemovedFiles -&gt; 0, numOutputRows -&gt; 157864, numOutputBytes -&gt; 774349, numAddedFiles -&gt; 1}</td><td>NULL</td><td>Apache-Spark/3.5.4 Delta-Lake/3.2.0</td></tr>\n",
       "<tr><td>1</td><td>2025-04-21 21:27:35.133</td><td>NULL</td><td>NULL</td><td>STREAMING UPDATE</td><td>{outputMode -&gt; Append, queryId -&gt; 83483b97-73dc-4eb5-94c2-11bd98074ce1, epochId -&gt; 2}</td><td>NULL</td><td>NULL</td><td>NULL</td><td>0</td><td>Serializable</td><td>true</td><td>{numRemovedFiles -&gt; 0, numOutputRows -&gt; 157864, numOutputBytes -&gt; 774148, numAddedFiles -&gt; 1}</td><td>NULL</td><td>Apache-Spark/3.5.4 Delta-Lake/3.2.0</td></tr>\n",
       "<tr><td>0</td><td>2025-04-21 21:27:10.563</td><td>NULL</td><td>NULL</td><td>CREATE TABLE</td><td>{partitionBy -&gt; [], clusterBy -&gt; [], description -&gt; NULL, isManaged -&gt; true, properties -&gt; {}}</td><td>NULL</td><td>NULL</td><td>NULL</td><td>NULL</td><td>Serializable</td><td>true</td><td>{}</td><td>NULL</td><td>Apache-Spark/3.5.4 Delta-Lake/3.2.0</td></tr>\n",
       "</table>\n"
      ],
      "text/plain": [
       "+-------+-----------------------+------+--------+----------------+----------------------------------------------------------------------------------------------+----+--------+---------+-----------+--------------+-------------+---------------------------------------------------------------------------------------------+------------+-----------------------------------+\n",
       "|version|timestamp              |userId|userName|operation       |operationParameters                                                                           |job |notebook|clusterId|readVersion|isolationLevel|isBlindAppend|operationMetrics                                                                             |userMetadata|engineInfo                         |\n",
       "+-------+-----------------------+------+--------+----------------+----------------------------------------------------------------------------------------------+----+--------+---------+-----------+--------------+-------------+---------------------------------------------------------------------------------------------+------------+-----------------------------------+\n",
       "|3      |2025-04-21 21:28:54.652|NULL  |NULL    |STREAMING UPDATE|{outputMode -> Append, queryId -> 83483b97-73dc-4eb5-94c2-11bd98074ce1, epochId -> 4}         |NULL|NULL    |NULL     |2          |Serializable  |true         |{numRemovedFiles -> 0, numOutputRows -> 157864, numOutputBytes -> 774349, numAddedFiles -> 1}|NULL        |Apache-Spark/3.5.4 Delta-Lake/3.2.0|\n",
       "|2      |2025-04-21 21:28:44.875|NULL  |NULL    |STREAMING UPDATE|{outputMode -> Append, queryId -> 83483b97-73dc-4eb5-94c2-11bd98074ce1, epochId -> 3}         |NULL|NULL    |NULL     |1          |Serializable  |true         |{numRemovedFiles -> 0, numOutputRows -> 157864, numOutputBytes -> 774349, numAddedFiles -> 1}|NULL        |Apache-Spark/3.5.4 Delta-Lake/3.2.0|\n",
       "|1      |2025-04-21 21:27:35.133|NULL  |NULL    |STREAMING UPDATE|{outputMode -> Append, queryId -> 83483b97-73dc-4eb5-94c2-11bd98074ce1, epochId -> 2}         |NULL|NULL    |NULL     |0          |Serializable  |true         |{numRemovedFiles -> 0, numOutputRows -> 157864, numOutputBytes -> 774148, numAddedFiles -> 1}|NULL        |Apache-Spark/3.5.4 Delta-Lake/3.2.0|\n",
       "|0      |2025-04-21 21:27:10.563|NULL  |NULL    |CREATE TABLE    |{partitionBy -> [], clusterBy -> [], description -> NULL, isManaged -> true, properties -> {}}|NULL|NULL    |NULL     |NULL       |Serializable  |true         |{}                                                                                           |NULL        |Apache-Spark/3.5.4 Delta-Lake/3.2.0|\n",
       "+-------+-----------------------+------+--------+----------------+----------------------------------------------------------------------------------------------+----+--------+---------+-----------+--------------+-------------+---------------------------------------------------------------------------------------------+------------+-----------------------------------+"
      ]
     },
     "execution_count": 37,
     "metadata": {},
     "output_type": "execute_result"
    }
   ],
   "source": [
    "# Check history of Target\n",
    "# Check history of Source\n",
    "history_target = spark.sql(\n",
    "    \"\"\"\n",
    "            DESCRIBE HISTORY default.covid_nyt_ignore_changes_non_partitioned\n",
    "    \"\"\"\n",
    ")\n",
    "\n",
    "history_target"
   ]
  },
  {
   "cell_type": "markdown",
   "id": "f8d3b194-12ea-45cb-9e13-7889d94bbfad",
   "metadata": {},
   "source": [
    "#### ignoreChanges w/ Partitioned table"
   ]
  },
  {
   "cell_type": "code",
   "execution_count": null,
   "id": "f4bb7820-6020-42ea-85cd-9411a6b180db",
   "metadata": {},
   "outputs": [],
   "source": [
    "spark.sql(\n",
    "    \"\"\"\n",
    "        DROP TABLE IF EXISTS default.covid_nyt_ignore_changes_partitioned;\n",
    "    \"\"\"\n",
    ")"
   ]
  },
  {
   "cell_type": "code",
   "execution_count": 9,
   "id": "02c339ea-230d-42e8-aeb0-71ad96a623ce",
   "metadata": {},
   "outputs": [
    {
     "data": {
      "text/html": [
       "<table border='1'>\n",
       "<tr><th></th></tr>\n",
       "</table>\n"
      ],
      "text/plain": [
       "++\n",
       "||\n",
       "++\n",
       "++"
      ]
     },
     "execution_count": 9,
     "metadata": {},
     "output_type": "execute_result"
    }
   ],
   "source": [
    "# Create Delta Table Structure in order to write stream data\n",
    "\n",
    "spark.sql(\n",
    "    \"\"\"\n",
    "        CREATE TABLE IF NOT EXISTS default.covid_nyt_ignore_changes_partitioned\n",
    "        USING DELTA\n",
    "        -- LOCATION './covid_nyt_ignore_changes_partitioned'\n",
    "    \"\"\"\n",
    ")"
   ]
  },
  {
   "cell_type": "code",
   "execution_count": 13,
   "id": "d8e29730-4dd8-4b1d-8d41-191ac5c7a99a",
   "metadata": {},
   "outputs": [],
   "source": [
    "streaming_covid_nyt_by_date_ignore_changes = (\n",
    "    spark\n",
    "    .readStream\n",
    "    .format(\"delta\")\n",
    "    .option(\"ignoreChanges\", \"true\")\n",
    "    .load(\"./spark-warehouse/bronze.db/covid_nyt_by_date\") # Partitioned Source by `date`\n",
    ")"
   ]
  },
  {
   "cell_type": "code",
   "execution_count": 15,
   "id": "b2f76aea-ecfb-422a-b829-5d85419d6be0",
   "metadata": {},
   "outputs": [
    {
     "data": {
      "text/plain": [
       "<pyspark.sql.streaming.query.StreamingQuery at 0x27dc1f73c50>"
      ]
     },
     "execution_count": 15,
     "metadata": {},
     "output_type": "execute_result"
    }
   ],
   "source": [
    "(\n",
    "    streaming_covid_nyt_by_date_ignore_changes\n",
    "    .writeStream\n",
    "    .format(\"delta\")\n",
    "    .outputMode(\"append\")\n",
    "    .option(\"mergeSchema\", \"true\")\n",
    "    .option(\"checkpointLocation\", \"streaming_checkpoints/ch07/covid_nyt_ignore_changes_partitioned/ws1\")\n",
    "    .start(\"./spark-warehouse/covid_nyt_ignore_changes_partitioned\") # To Non-Partitioned Target\n",
    ")"
   ]
  },
  {
   "cell_type": "code",
   "execution_count": 12,
   "id": "ecc5c2e2-27a6-44d0-bdc4-b462b3f9f01b",
   "metadata": {},
   "outputs": [
    {
     "data": {
      "text/html": [
       "<table border='1'>\n",
       "<tr><th>date</th><th>county</th><th>state</th><th>fips</th><th>cases</th><th>deaths</th></tr>\n",
       "<tr><td>2020-01-27</td><td>Maricopa</td><td>Arizona</td><td>4013</td><td>1</td><td>0</td></tr>\n",
       "<tr><td>2020-01-27</td><td>Los Angeles</td><td>California</td><td>6037</td><td>1</td><td>0</td></tr>\n",
       "<tr><td>2020-01-27</td><td>Orange</td><td>California</td><td>6059</td><td>1</td><td>0</td></tr>\n",
       "<tr><td>2020-01-27</td><td>Cook</td><td>Illinois</td><td>17031</td><td>1</td><td>0</td></tr>\n",
       "<tr><td>2020-01-27</td><td>Snohomish</td><td>Washington</td><td>53061</td><td>1</td><td>0</td></tr>\n",
       "</table>\n"
      ],
      "text/plain": [
       "+----------+-----------+----------+-----+-----+------+\n",
       "|date      |county     |state     |fips |cases|deaths|\n",
       "+----------+-----------+----------+-----+-----+------+\n",
       "|2020-01-27|Maricopa   |Arizona   |4013 |1    |0     |\n",
       "|2020-01-27|Los Angeles|California|6037 |1    |0     |\n",
       "|2020-01-27|Orange     |California|6059 |1    |0     |\n",
       "|2020-01-27|Cook       |Illinois  |17031|1    |0     |\n",
       "|2020-01-27|Snohomish  |Washington|53061|1    |0     |\n",
       "+----------+-----------+----------+-----+-----+------+"
      ]
     },
     "execution_count": 12,
     "metadata": {},
     "output_type": "execute_result"
    }
   ],
   "source": [
    "# Find candidate rows for update, tied to 1 partition\n",
    "source_update_candidates = (\n",
    "    spark.sql(\n",
    "        \"\"\"\n",
    "            SELECT * \n",
    "            FROM bronze.covid_nyt_by_date\n",
    "            WHERE date = CAST('2020-01-27' AS DATE)\n",
    "        \"\"\"\n",
    "    )\n",
    ")\n",
    "\n",
    "source_update_candidates"
   ]
  },
  {
   "cell_type": "code",
   "execution_count": 16,
   "id": "4200b9ea-bedc-42df-8055-1c0f0745e460",
   "metadata": {},
   "outputs": [
    {
     "data": {
      "text/html": [
       "<table border='1'>\n",
       "<tr><th>num_affected_rows</th></tr>\n",
       "<tr><td>5</td></tr>\n",
       "</table>\n"
      ],
      "text/plain": [
       "+-----------------+\n",
       "|num_affected_rows|\n",
       "+-----------------+\n",
       "|5                |\n",
       "+-----------------+"
      ]
     },
     "execution_count": 16,
     "metadata": {},
     "output_type": "execute_result"
    }
   ],
   "source": [
    "update_response = spark.sql(\n",
    "    \"\"\"\n",
    "        UPDATE bronze.covid_nyt_by_date\n",
    "        SET cases = 3\n",
    "        WHERE date = CAST('2020-01-27' AS DATE)\n",
    "    \"\"\"\n",
    ")\n",
    "\n",
    "update_response"
   ]
  },
  {
   "cell_type": "code",
   "execution_count": 17,
   "id": "3da0e27c-952f-4378-a406-10a9dc64593e",
   "metadata": {},
   "outputs": [
    {
     "data": {
      "text/html": [
       "<table border='1'>\n",
       "<tr><th>date</th><th>county</th><th>state</th><th>fips</th><th>cases</th><th>deaths</th></tr>\n",
       "<tr><td>2020-01-27</td><td>Maricopa</td><td>Arizona</td><td>4013</td><td>3</td><td>0</td></tr>\n",
       "<tr><td>2020-01-27</td><td>Los Angeles</td><td>California</td><td>6037</td><td>3</td><td>0</td></tr>\n",
       "<tr><td>2020-01-27</td><td>Orange</td><td>California</td><td>6059</td><td>3</td><td>0</td></tr>\n",
       "<tr><td>2020-01-27</td><td>Cook</td><td>Illinois</td><td>17031</td><td>3</td><td>0</td></tr>\n",
       "<tr><td>2020-01-27</td><td>Snohomish</td><td>Washington</td><td>53061</td><td>3</td><td>0</td></tr>\n",
       "</table>\n"
      ],
      "text/plain": [
       "+----------+-----------+----------+-----+-----+------+\n",
       "|date      |county     |state     |fips |cases|deaths|\n",
       "+----------+-----------+----------+-----+-----+------+\n",
       "|2020-01-27|Maricopa   |Arizona   |4013 |3    |0     |\n",
       "|2020-01-27|Los Angeles|California|6037 |3    |0     |\n",
       "|2020-01-27|Orange     |California|6059 |3    |0     |\n",
       "|2020-01-27|Cook       |Illinois  |17031|3    |0     |\n",
       "|2020-01-27|Snohomish  |Washington|53061|3    |0     |\n",
       "+----------+-----------+----------+-----+-----+------+"
      ]
     },
     "execution_count": 17,
     "metadata": {},
     "output_type": "execute_result"
    }
   ],
   "source": [
    "# See source post-update\n",
    "source_update_candidates = (\n",
    "    spark.sql(\n",
    "        \"\"\"\n",
    "            SELECT * \n",
    "            FROM bronze.covid_nyt_by_date\n",
    "            WHERE date = CAST('2020-01-27' AS DATE)\n",
    "        \"\"\"\n",
    "    )\n",
    ")\n",
    "\n",
    "source_update_candidates"
   ]
  },
  {
   "cell_type": "code",
   "execution_count": null,
   "id": "56acd743-674b-49ff-ba86-d40d14893dfb",
   "metadata": {},
   "outputs": [],
   "source": [
    "# See target post-update"
   ]
  },
  {
   "cell_type": "code",
   "execution_count": 19,
   "id": "0eeb5569-bc1b-4096-9021-9b940f199f45",
   "metadata": {},
   "outputs": [
    {
     "data": {
      "text/html": [
       "<table border='1'>\n",
       "<tr><th>date</th><th>county</th><th>state</th><th>fips</th><th>cases</th><th>deaths</th></tr>\n",
       "<tr><td>2020-01-27</td><td>Maricopa</td><td>Arizona</td><td>4013</td><td>1</td><td>0</td></tr>\n",
       "<tr><td>2020-01-27</td><td>Los Angeles</td><td>California</td><td>6037</td><td>1</td><td>0</td></tr>\n",
       "<tr><td>2020-01-27</td><td>Orange</td><td>California</td><td>6059</td><td>1</td><td>0</td></tr>\n",
       "<tr><td>2020-01-27</td><td>Cook</td><td>Illinois</td><td>17031</td><td>1</td><td>0</td></tr>\n",
       "<tr><td>2020-01-27</td><td>Snohomish</td><td>Washington</td><td>53061</td><td>1</td><td>0</td></tr>\n",
       "<tr><td>2020-01-27</td><td>Maricopa</td><td>Arizona</td><td>4013</td><td>3</td><td>0</td></tr>\n",
       "<tr><td>2020-01-27</td><td>Los Angeles</td><td>California</td><td>6037</td><td>3</td><td>0</td></tr>\n",
       "<tr><td>2020-01-27</td><td>Orange</td><td>California</td><td>6059</td><td>3</td><td>0</td></tr>\n",
       "<tr><td>2020-01-27</td><td>Cook</td><td>Illinois</td><td>17031</td><td>3</td><td>0</td></tr>\n",
       "<tr><td>2020-01-27</td><td>Snohomish</td><td>Washington</td><td>53061</td><td>3</td><td>0</td></tr>\n",
       "</table>\n"
      ],
      "text/plain": [
       "+----------+-----------+----------+-----+-----+------+\n",
       "|date      |county     |state     |fips |cases|deaths|\n",
       "+----------+-----------+----------+-----+-----+------+\n",
       "|2020-01-27|Maricopa   |Arizona   |4013 |1    |0     |\n",
       "|2020-01-27|Los Angeles|California|6037 |1    |0     |\n",
       "|2020-01-27|Orange     |California|6059 |1    |0     |\n",
       "|2020-01-27|Cook       |Illinois  |17031|1    |0     |\n",
       "|2020-01-27|Snohomish  |Washington|53061|1    |0     |\n",
       "|2020-01-27|Maricopa   |Arizona   |4013 |3    |0     |\n",
       "|2020-01-27|Los Angeles|California|6037 |3    |0     |\n",
       "|2020-01-27|Orange     |California|6059 |3    |0     |\n",
       "|2020-01-27|Cook       |Illinois  |17031|3    |0     |\n",
       "|2020-01-27|Snohomish  |Washington|53061|3    |0     |\n",
       "+----------+-----------+----------+-----+-----+------+"
      ]
     },
     "execution_count": 19,
     "metadata": {},
     "output_type": "execute_result"
    }
   ],
   "source": [
    "# See source post-update\n",
    "source_update_candidates = (\n",
    "    spark.sql(\n",
    "        \"\"\"\n",
    "            SELECT * \n",
    "            FROM default.covid_nyt_ignore_changes_partitioned\n",
    "            WHERE date = CAST('2020-01-27' AS DATE)\n",
    "        \"\"\"\n",
    "    )\n",
    ")\n",
    "\n",
    "source_update_candidates"
   ]
  },
  {
   "cell_type": "code",
   "execution_count": 20,
   "id": "055ca023-9ebe-453f-a210-b7c15d7c1286",
   "metadata": {
    "scrolled": true
   },
   "outputs": [
    {
     "data": {
      "text/html": [
       "<table border='1'>\n",
       "<tr><th>version</th><th>timestamp</th><th>userId</th><th>userName</th><th>operation</th><th>operationParameters</th><th>job</th><th>notebook</th><th>clusterId</th><th>readVersion</th><th>isolationLevel</th><th>isBlindAppend</th><th>operationMetrics</th><th>userMetadata</th><th>engineInfo</th></tr>\n",
       "<tr><td>3</td><td>2025-04-21 21:13:04.687</td><td>NULL</td><td>NULL</td><td>UPDATE</td><td>{predicate -&gt; [&quot;(date#2542 = 2020-01-27)&quot;]}</td><td>NULL</td><td>NULL</td><td>NULL</td><td>2</td><td>Serializable</td><td>false</td><td>{numRemovedFiles -&gt; 1, numRemovedBytes -&gt; 1617, numCopiedRows -&gt; 0, numDeletionVectorsAdded -&gt; 0, numDeletionVectorsRemoved -&gt; 0, numAddedChangeFiles -&gt; 0, executionTimeMs -&gt; 655, numDeletionVectorsUpdated -&gt; 0, scanTimeMs -&gt; 377, numAddedFiles -&gt; 1, numUpdatedRows -&gt; 5, numAddedBytes -&gt; 1616, rewriteTimeMs -&gt; 275}</td><td>NULL</td><td>Apache-Spark/3.5.4 Delta-Lake/3.2.0</td></tr>\n",
       "<tr><td>2</td><td>2025-04-18 20:06:46.391</td><td>NULL</td><td>NULL</td><td>DELETE</td><td>{predicate -&gt; [&quot;(date#4471 = 2020-01-28)&quot;]}</td><td>NULL</td><td>NULL</td><td>NULL</td><td>1</td><td>Serializable</td><td>false</td><td>{numRemovedFiles -&gt; 1, numRemovedBytes -&gt; 1617, numCopiedRows -&gt; 0, numDeletionVectorsAdded -&gt; 0, numDeletionVectorsRemoved -&gt; 0, numAddedChangeFiles -&gt; 0, executionTimeMs -&gt; 197, numDeletionVectorsUpdated -&gt; 0, numDeletedRows -&gt; 5, scanTimeMs -&gt; 195, numAddedFiles -&gt; 0, numAddedBytes -&gt; 0, rewriteTimeMs -&gt; 0}</td><td>NULL</td><td>Apache-Spark/3.5.4 Delta-Lake/3.2.0</td></tr>\n",
       "<tr><td>1</td><td>2025-03-19 11:34:36.185</td><td>NULL</td><td>NULL</td><td>WRITE</td><td>{mode -&gt; Append, partitionBy -&gt; []}</td><td>NULL</td><td>NULL</td><td>NULL</td><td>0</td><td>Serializable</td><td>true</td><td>{numFiles -&gt; 421, numOutputRows -&gt; 1111930, numOutputBytes -&gt; 17654179}</td><td>NULL</td><td>Apache-Spark/3.5.4 Delta-Lake/3.2.0</td></tr>\n",
       "<tr><td>0</td><td>2025-03-19 11:34:26.935</td><td>NULL</td><td>NULL</td><td>CREATE TABLE</td><td>{partitionBy -&gt; [&quot;date&quot;], clusterBy -&gt; [], description -&gt; NULL, isManaged -&gt; true, properties -&gt; {}}</td><td>NULL</td><td>NULL</td><td>NULL</td><td>NULL</td><td>Serializable</td><td>true</td><td>{}</td><td>NULL</td><td>Apache-Spark/3.5.4 Delta-Lake/3.2.0</td></tr>\n",
       "</table>\n"
      ],
      "text/plain": [
       "+-------+-----------------------+------+--------+------------+----------------------------------------------------------------------------------------------------+----+--------+---------+-----------+--------------+-------------+----------------------------------------------------------------------------------------------------------------------------------------------------------------------------------------------------------------------------------------------------------------------------------------------------------------------------+------------+-----------------------------------+\n",
       "|version|timestamp              |userId|userName|operation   |operationParameters                                                                                 |job |notebook|clusterId|readVersion|isolationLevel|isBlindAppend|operationMetrics                                                                                                                                                                                                                                                                                                            |userMetadata|engineInfo                         |\n",
       "+-------+-----------------------+------+--------+------------+----------------------------------------------------------------------------------------------------+----+--------+---------+-----------+--------------+-------------+----------------------------------------------------------------------------------------------------------------------------------------------------------------------------------------------------------------------------------------------------------------------------------------------------------------------------+------------+-----------------------------------+\n",
       "|3      |2025-04-21 21:13:04.687|NULL  |NULL    |UPDATE      |{predicate -> [\"(date#2542 = 2020-01-27)\"]}                                                         |NULL|NULL    |NULL     |2          |Serializable  |false        |{numRemovedFiles -> 1, numRemovedBytes -> 1617, numCopiedRows -> 0, numDeletionVectorsAdded -> 0, numDeletionVectorsRemoved -> 0, numAddedChangeFiles -> 0, executionTimeMs -> 655, numDeletionVectorsUpdated -> 0, scanTimeMs -> 377, numAddedFiles -> 1, numUpdatedRows -> 5, numAddedBytes -> 1616, rewriteTimeMs -> 275}|NULL        |Apache-Spark/3.5.4 Delta-Lake/3.2.0|\n",
       "|2      |2025-04-18 20:06:46.391|NULL  |NULL    |DELETE      |{predicate -> [\"(date#4471 = 2020-01-28)\"]}                                                         |NULL|NULL    |NULL     |1          |Serializable  |false        |{numRemovedFiles -> 1, numRemovedBytes -> 1617, numCopiedRows -> 0, numDeletionVectorsAdded -> 0, numDeletionVectorsRemoved -> 0, numAddedChangeFiles -> 0, executionTimeMs -> 197, numDeletionVectorsUpdated -> 0, numDeletedRows -> 5, scanTimeMs -> 195, numAddedFiles -> 0, numAddedBytes -> 0, rewriteTimeMs -> 0}     |NULL        |Apache-Spark/3.5.4 Delta-Lake/3.2.0|\n",
       "|1      |2025-03-19 11:34:36.185|NULL  |NULL    |WRITE       |{mode -> Append, partitionBy -> []}                                                                 |NULL|NULL    |NULL     |0          |Serializable  |true         |{numFiles -> 421, numOutputRows -> 1111930, numOutputBytes -> 17654179}                                                                                                                                                                                                                                                     |NULL        |Apache-Spark/3.5.4 Delta-Lake/3.2.0|\n",
       "|0      |2025-03-19 11:34:26.935|NULL  |NULL    |CREATE TABLE|{partitionBy -> [\"date\"], clusterBy -> [], description -> NULL, isManaged -> true, properties -> {}}|NULL|NULL    |NULL     |NULL       |Serializable  |true         |{}                                                                                                                                                                                                                                                                                                                          |NULL        |Apache-Spark/3.5.4 Delta-Lake/3.2.0|\n",
       "+-------+-----------------------+------+--------+------------+----------------------------------------------------------------------------------------------------+----+--------+---------+-----------+--------------+-------------+----------------------------------------------------------------------------------------------------------------------------------------------------------------------------------------------------------------------------------------------------------------------------------------------------------------------------+------------+-----------------------------------+"
      ]
     },
     "execution_count": 20,
     "metadata": {},
     "output_type": "execute_result"
    }
   ],
   "source": [
    "# See source history\n",
    "source_history = (\n",
    "    spark.sql(\n",
    "        \"\"\"\n",
    "            DESCRIBE HISTORY bronze.covid_nyt_by_date\n",
    "        \"\"\"\n",
    "    )\n",
    ")\n",
    "\n",
    "source_history"
   ]
  },
  {
   "cell_type": "code",
   "execution_count": 21,
   "id": "c6728a5a-f4cc-4a29-96fc-a3498b24a42e",
   "metadata": {},
   "outputs": [
    {
     "data": {
      "text/html": [
       "<table border='1'>\n",
       "<tr><th>version</th><th>timestamp</th><th>userId</th><th>userName</th><th>operation</th><th>operationParameters</th><th>job</th><th>notebook</th><th>clusterId</th><th>readVersion</th><th>isolationLevel</th><th>isBlindAppend</th><th>operationMetrics</th><th>userMetadata</th><th>engineInfo</th></tr>\n",
       "<tr><td>2</td><td>2025-04-21 21:13:06.91</td><td>NULL</td><td>NULL</td><td>STREAMING UPDATE</td><td>{outputMode -&gt; Append, queryId -&gt; 784a1a3c-3e13-4874-8117-e9c95c214a60, epochId -&gt; 1}</td><td>NULL</td><td>NULL</td><td>NULL</td><td>1</td><td>Serializable</td><td>true</td><td>{numRemovedFiles -&gt; 0, numOutputRows -&gt; 5, numOutputBytes -&gt; 1872, numAddedFiles -&gt; 1}</td><td>NULL</td><td>Apache-Spark/3.5.4 Delta-Lake/3.2.0</td></tr>\n",
       "<tr><td>1</td><td>2025-04-21 21:12:43.354</td><td>NULL</td><td>NULL</td><td>STREAMING UPDATE</td><td>{outputMode -&gt; Append, queryId -&gt; 784a1a3c-3e13-4874-8117-e9c95c214a60, epochId -&gt; 0}</td><td>NULL</td><td>NULL</td><td>NULL</td><td>0</td><td>Serializable</td><td>true</td><td>{numRemovedFiles -&gt; 0, numOutputRows -&gt; 1111925, numOutputBytes -&gt; 6759156, numAddedFiles -&gt; 14}</td><td>NULL</td><td>Apache-Spark/3.5.4 Delta-Lake/3.2.0</td></tr>\n",
       "<tr><td>0</td><td>2025-04-21 20:59:26.978</td><td>NULL</td><td>NULL</td><td>CREATE TABLE</td><td>{partitionBy -&gt; [], clusterBy -&gt; [], description -&gt; NULL, isManaged -&gt; true, properties -&gt; {}}</td><td>NULL</td><td>NULL</td><td>NULL</td><td>NULL</td><td>Serializable</td><td>true</td><td>{}</td><td>NULL</td><td>Apache-Spark/3.5.4 Delta-Lake/3.2.0</td></tr>\n",
       "</table>\n"
      ],
      "text/plain": [
       "+-------+-----------------------+------+--------+----------------+----------------------------------------------------------------------------------------------+----+--------+---------+-----------+--------------+-------------+------------------------------------------------------------------------------------------------+------------+-----------------------------------+\n",
       "|version|timestamp              |userId|userName|operation       |operationParameters                                                                           |job |notebook|clusterId|readVersion|isolationLevel|isBlindAppend|operationMetrics                                                                                |userMetadata|engineInfo                         |\n",
       "+-------+-----------------------+------+--------+----------------+----------------------------------------------------------------------------------------------+----+--------+---------+-----------+--------------+-------------+------------------------------------------------------------------------------------------------+------------+-----------------------------------+\n",
       "|2      |2025-04-21 21:13:06.91 |NULL  |NULL    |STREAMING UPDATE|{outputMode -> Append, queryId -> 784a1a3c-3e13-4874-8117-e9c95c214a60, epochId -> 1}         |NULL|NULL    |NULL     |1          |Serializable  |true         |{numRemovedFiles -> 0, numOutputRows -> 5, numOutputBytes -> 1872, numAddedFiles -> 1}          |NULL        |Apache-Spark/3.5.4 Delta-Lake/3.2.0|\n",
       "|1      |2025-04-21 21:12:43.354|NULL  |NULL    |STREAMING UPDATE|{outputMode -> Append, queryId -> 784a1a3c-3e13-4874-8117-e9c95c214a60, epochId -> 0}         |NULL|NULL    |NULL     |0          |Serializable  |true         |{numRemovedFiles -> 0, numOutputRows -> 1111925, numOutputBytes -> 6759156, numAddedFiles -> 14}|NULL        |Apache-Spark/3.5.4 Delta-Lake/3.2.0|\n",
       "|0      |2025-04-21 20:59:26.978|NULL  |NULL    |CREATE TABLE    |{partitionBy -> [], clusterBy -> [], description -> NULL, isManaged -> true, properties -> {}}|NULL|NULL    |NULL     |NULL       |Serializable  |true         |{}                                                                                              |NULL        |Apache-Spark/3.5.4 Delta-Lake/3.2.0|\n",
       "+-------+-----------------------+------+--------+----------------+----------------------------------------------------------------------------------------------+----+--------+---------+-----------+--------------+-------------+------------------------------------------------------------------------------------------------+------------+-----------------------------------+"
      ]
     },
     "execution_count": 21,
     "metadata": {},
     "output_type": "execute_result"
    }
   ],
   "source": [
    "# See source history\n",
    "target_history = (\n",
    "    spark.sql(\n",
    "        \"\"\"\n",
    "            DESCRIBE HISTORY default.covid_nyt_ignore_changes_partitioned\n",
    "        \"\"\"\n",
    "    )\n",
    ")\n",
    "\n",
    "target_history"
   ]
  },
  {
   "cell_type": "markdown",
   "id": "4bb808ea-085c-49e3-85af-2a4248f2b934",
   "metadata": {},
   "source": [
    "# startingVersion and startingTimestamp tests\n",
    "TLDR;\n",
    "Both options are in order to start streaming of Delta table from a given point in time  \n",
    "or a version. \n",
    "\n",
    "Using the `startingVersion` approach is more friendly since it will include  \n",
    "versions from pointed one and forward. E.g. startingVersion 5 -> v5, v6, v7 .. vN  \n",
    "\n",
    "Using the `startingTimestamp` can be tricky. If the used timestamp matches an exact  \n",
    "timestamp that is in transaction log (timestamp when new version of Delta table was  \n",
    "commited), it will start from that point in time including that version (inclusive  \n",
    "range like example above for startingVersion).  \n",
    "\n",
    "If the timestamp not match with one from the transaction log, the stream will start from  \n",
    "that point in time going forward (exclusive range)\n",
    "\n",
    "**`!!!BOTH OPTIONS CANNOT BE USED TOGETHER!!!`**"
   ]
  },
  {
   "cell_type": "markdown",
   "id": "59922a34-e657-4e12-9236-34606f8bd25d",
   "metadata": {},
   "source": [
    "Test scenario:\n",
    "- `startingVersion`\n",
    "    - Use `startingVersion` in a streaming query by pointing a version in the middle of source table\n",
    "    - Check data in source and target afterwards\n",
    "    - More details to repeat the test:\n",
    "        - Find a source table to stream\n",
    "        - Include the latest version to start streaming from it\n",
    "        - INSERT couple records into source table\n",
    "        - Observe results into target\n",
    "        - **See ChatGPT response for testing scenario** Maybe try to elaborate more on suggestions\n",
    "- `startingTimestmap`\n",
    "    - **Scenario 1**:\n",
    "        - Use timestamp that matches a commit in the source table\n",
    "        - Observe data in source and target\n",
    "    - **Scenario 2**\n",
    "        - Use `timestamp OR date` between 2 commits in source table\n",
    "        - Observe data in source and target\n"
   ]
  },
  {
   "cell_type": "markdown",
   "id": "d1a976b8-fd9a-437e-9e87-0a26fb861356",
   "metadata": {},
   "source": [
    "Observations and conclusions:  \n",
    "<details>  \n",
    "<summary> `startingVersion` </summary>\n",
    "    \n",
    "- Observation 1:  \n",
    "    - If source table have deletes in Delta Log, startingVersion cannot be used!  \n",
    "    - As workaround you need to use `ignoreDeletes`: `true`\n",
    "- Observation 2:\n",
    "    - Turn on `ognoreDeletes`, same error as in observation1\n",
    "    - Reason: Records from Parquet file were partially deleted, causing the non-deleted records to be rewritten in new file\n",
    "- Observation 3:\n",
    "    - Use version 3 as a starting point, since only updates are happening on source table going forward\n",
    "    - And again similar proble. A table that have UPDATES in transaction logs, cannot be streamed\n",
    "    - Suggestion from error is to use skipChangeCommits\n",
    "- Observation 4:\n",
    "    - Used skipChangeCommits, again facing problem with streaming the table\n",
    "    - Tried with 2 new checkpoint directories  \n",
    "-  **The Final observation**:\n",
    "    - Source - `default.covid_nyt_stream_1` - table with 2 versions\n",
    "        - v0 - CREATE TABLE, v1 - STREAMING UPDATE from other stream test\n",
    "    - 1st micro batch\n",
    "        - All data from source was streamed to target\n",
    "    - 2nd micro batch\n",
    "        - INSERT 3 new records to source\n",
    "        - Stream to target\n",
    "    - 3rd batch\n",
    "        - COUNT source vs. target\n",
    "        - INSERT 4 new records to source\n",
    "        - Data was streamed to target\n",
    "        - COUNT source vs. target\n",
    "        - SUCCESS!     \n",
    "</details>\n",
    "<details>\n",
    "<summary> `startingTimestamp` </summary>\n",
    "\n",
    "- Scenario 1 - Timestamp matching commit in source table\n",
    "    - Source - `default.covid_nyt_stream_1` - **startingTimestamp - 2025-04-24 22:44:32.71**\n",
    "        - At this version and timestamp INSERT DML was executed and added 2 new rows\n",
    "    - Target - `default.covid_nyt_starting_timestamp`\n",
    "        - Data in source from this timestamp to latest available timestamp/version was streamed to target\n",
    "            - Couple duplicates were also introduced. I think they are related to DML executed in test schenario above\n",
    "        - NEW INSERT DML against source table was executed adding 1 new row\n",
    "        - This row was processed to target table\n",
    "- Scenario 2 - Timestmap between 2 versions in source table\n",
    "    - Source - `default.covid_nyt_stream_1`\n",
    "      - version 2 --> TS - 2025-04-24 22:44:32.71  | version 3 --> TS - 2025-04-26 14:37:59.655\n",
    "      - startingTimestamp used for streaming - TS --> `2025-04-25 12:35:00.420`\n",
    "    - Target - `default.covid_nyt_starting_timestamp_between_versions`\n",
    "        - Data from source AS OF version 3 and beyond was streamed to target table\n",
    "        - INSERT DML against source was executed with 1 record\n",
    "        - New record was introduced to target\n",
    "</details>"
   ]
  },
  {
   "cell_type": "markdown",
   "id": "13b19089-4c0e-4589-8b90-e4eed545960e",
   "metadata": {},
   "source": [
    "#### startingVersion scenario 1 and only"
   ]
  },
  {
   "cell_type": "code",
   "execution_count": 20,
   "id": "720e8ded-1e26-4c20-8b68-32b1761a4479",
   "metadata": {},
   "outputs": [
    {
     "data": {
      "text/html": [
       "<table border='1'>\n",
       "<tr><th>version</th><th>timestamp</th><th>userId</th><th>userName</th><th>operation</th><th>operationParameters</th><th>job</th><th>notebook</th><th>clusterId</th><th>readVersion</th><th>isolationLevel</th><th>isBlindAppend</th><th>operationMetrics</th><th>userMetadata</th><th>engineInfo</th></tr>\n",
       "<tr><td>5</td><td>2025-04-24 21:58:06.798</td><td>NULL</td><td>NULL</td><td>UPDATE</td><td>{predicate -&gt; [&quot;((date#3176 = 2020-02-20) AND (cases#3180 = 2))&quot;]}</td><td>NULL</td><td>NULL</td><td>NULL</td><td>4</td><td>Serializable</td><td>false</td><td>{numRemovedFiles -&gt; 1, numRemovedBytes -&gt; 1811, numCopiedRows -&gt; 9, numDeletionVectorsAdded -&gt; 0, numDeletionVectorsRemoved -&gt; 0, numAddedChangeFiles -&gt; 0, executionTimeMs -&gt; 2665, numDeletionVectorsUpdated -&gt; 0, scanTimeMs -&gt; 2477, numAddedFiles -&gt; 1, numUpdatedRows -&gt; 4, numAddedBytes -&gt; 1811, rewriteTimeMs -&gt; 188}</td><td>NULL</td><td>Apache-Spark/3.5.4 Delta-Lake/3.2.0</td></tr>\n",
       "<tr><td>4</td><td>2025-04-24 21:56:13.912</td><td>NULL</td><td>NULL</td><td>UPDATE</td><td>{predicate -&gt; [&quot;((date#2774 = 2020-02-20) AND (cases#2778 = 1))&quot;]}</td><td>NULL</td><td>NULL</td><td>NULL</td><td>3</td><td>Serializable</td><td>false</td><td>{numRemovedFiles -&gt; 1, numRemovedBytes -&gt; 1811, numCopiedRows -&gt; 5, numDeletionVectorsAdded -&gt; 0, numDeletionVectorsRemoved -&gt; 0, numAddedChangeFiles -&gt; 0, executionTimeMs -&gt; 3175, numDeletionVectorsUpdated -&gt; 0, scanTimeMs -&gt; 866, numAddedFiles -&gt; 1, numUpdatedRows -&gt; 8, numAddedBytes -&gt; 1811, rewriteTimeMs -&gt; 2308}</td><td>NULL</td><td>Apache-Spark/3.5.4 Delta-Lake/3.2.0</td></tr>\n",
       "<tr><td>3</td><td>2025-04-21 21:13:04.687</td><td>NULL</td><td>NULL</td><td>UPDATE</td><td>{predicate -&gt; [&quot;(date#2542 = 2020-01-27)&quot;]}</td><td>NULL</td><td>NULL</td><td>NULL</td><td>2</td><td>Serializable</td><td>false</td><td>{numRemovedFiles -&gt; 1, numRemovedBytes -&gt; 1617, numCopiedRows -&gt; 0, numDeletionVectorsAdded -&gt; 0, numDeletionVectorsRemoved -&gt; 0, numAddedChangeFiles -&gt; 0, executionTimeMs -&gt; 655, numDeletionVectorsUpdated -&gt; 0, scanTimeMs -&gt; 377, numAddedFiles -&gt; 1, numUpdatedRows -&gt; 5, numAddedBytes -&gt; 1616, rewriteTimeMs -&gt; 275}</td><td>NULL</td><td>Apache-Spark/3.5.4 Delta-Lake/3.2.0</td></tr>\n",
       "<tr><td>2</td><td>2025-04-18 20:06:46.391</td><td>NULL</td><td>NULL</td><td>DELETE</td><td>{predicate -&gt; [&quot;(date#4471 = 2020-01-28)&quot;]}</td><td>NULL</td><td>NULL</td><td>NULL</td><td>1</td><td>Serializable</td><td>false</td><td>{numRemovedFiles -&gt; 1, numRemovedBytes -&gt; 1617, numCopiedRows -&gt; 0, numDeletionVectorsAdded -&gt; 0, numDeletionVectorsRemoved -&gt; 0, numAddedChangeFiles -&gt; 0, executionTimeMs -&gt; 197, numDeletionVectorsUpdated -&gt; 0, numDeletedRows -&gt; 5, scanTimeMs -&gt; 195, numAddedFiles -&gt; 0, numAddedBytes -&gt; 0, rewriteTimeMs -&gt; 0}</td><td>NULL</td><td>Apache-Spark/3.5.4 Delta-Lake/3.2.0</td></tr>\n",
       "<tr><td>1</td><td>2025-03-19 11:34:36.185</td><td>NULL</td><td>NULL</td><td>WRITE</td><td>{mode -&gt; Append, partitionBy -&gt; []}</td><td>NULL</td><td>NULL</td><td>NULL</td><td>0</td><td>Serializable</td><td>true</td><td>{numFiles -&gt; 421, numOutputRows -&gt; 1111930, numOutputBytes -&gt; 17654179}</td><td>NULL</td><td>Apache-Spark/3.5.4 Delta-Lake/3.2.0</td></tr>\n",
       "<tr><td>0</td><td>2025-03-19 11:34:26.935</td><td>NULL</td><td>NULL</td><td>CREATE TABLE</td><td>{partitionBy -&gt; [&quot;date&quot;], clusterBy -&gt; [], description -&gt; NULL, isManaged -&gt; true, properties -&gt; {}}</td><td>NULL</td><td>NULL</td><td>NULL</td><td>NULL</td><td>Serializable</td><td>true</td><td>{}</td><td>NULL</td><td>Apache-Spark/3.5.4 Delta-Lake/3.2.0</td></tr>\n",
       "</table>\n"
      ],
      "text/plain": [
       "+-------+-----------------------+------+--------+------------+----------------------------------------------------------------------------------------------------+----+--------+---------+-----------+--------------+-------------+------------------------------------------------------------------------------------------------------------------------------------------------------------------------------------------------------------------------------------------------------------------------------------------------------------------------------+------------+-----------------------------------+\n",
       "|version|timestamp              |userId|userName|operation   |operationParameters                                                                                 |job |notebook|clusterId|readVersion|isolationLevel|isBlindAppend|operationMetrics                                                                                                                                                                                                                                                                                                              |userMetadata|engineInfo                         |\n",
       "+-------+-----------------------+------+--------+------------+----------------------------------------------------------------------------------------------------+----+--------+---------+-----------+--------------+-------------+------------------------------------------------------------------------------------------------------------------------------------------------------------------------------------------------------------------------------------------------------------------------------------------------------------------------------+------------+-----------------------------------+\n",
       "|5      |2025-04-24 21:58:06.798|NULL  |NULL    |UPDATE      |{predicate -> [\"((date#3176 = 2020-02-20) AND (cases#3180 = 2))\"]}                                  |NULL|NULL    |NULL     |4          |Serializable  |false        |{numRemovedFiles -> 1, numRemovedBytes -> 1811, numCopiedRows -> 9, numDeletionVectorsAdded -> 0, numDeletionVectorsRemoved -> 0, numAddedChangeFiles -> 0, executionTimeMs -> 2665, numDeletionVectorsUpdated -> 0, scanTimeMs -> 2477, numAddedFiles -> 1, numUpdatedRows -> 4, numAddedBytes -> 1811, rewriteTimeMs -> 188}|NULL        |Apache-Spark/3.5.4 Delta-Lake/3.2.0|\n",
       "|4      |2025-04-24 21:56:13.912|NULL  |NULL    |UPDATE      |{predicate -> [\"((date#2774 = 2020-02-20) AND (cases#2778 = 1))\"]}                                  |NULL|NULL    |NULL     |3          |Serializable  |false        |{numRemovedFiles -> 1, numRemovedBytes -> 1811, numCopiedRows -> 5, numDeletionVectorsAdded -> 0, numDeletionVectorsRemoved -> 0, numAddedChangeFiles -> 0, executionTimeMs -> 3175, numDeletionVectorsUpdated -> 0, scanTimeMs -> 866, numAddedFiles -> 1, numUpdatedRows -> 8, numAddedBytes -> 1811, rewriteTimeMs -> 2308}|NULL        |Apache-Spark/3.5.4 Delta-Lake/3.2.0|\n",
       "|3      |2025-04-21 21:13:04.687|NULL  |NULL    |UPDATE      |{predicate -> [\"(date#2542 = 2020-01-27)\"]}                                                         |NULL|NULL    |NULL     |2          |Serializable  |false        |{numRemovedFiles -> 1, numRemovedBytes -> 1617, numCopiedRows -> 0, numDeletionVectorsAdded -> 0, numDeletionVectorsRemoved -> 0, numAddedChangeFiles -> 0, executionTimeMs -> 655, numDeletionVectorsUpdated -> 0, scanTimeMs -> 377, numAddedFiles -> 1, numUpdatedRows -> 5, numAddedBytes -> 1616, rewriteTimeMs -> 275}  |NULL        |Apache-Spark/3.5.4 Delta-Lake/3.2.0|\n",
       "|2      |2025-04-18 20:06:46.391|NULL  |NULL    |DELETE      |{predicate -> [\"(date#4471 = 2020-01-28)\"]}                                                         |NULL|NULL    |NULL     |1          |Serializable  |false        |{numRemovedFiles -> 1, numRemovedBytes -> 1617, numCopiedRows -> 0, numDeletionVectorsAdded -> 0, numDeletionVectorsRemoved -> 0, numAddedChangeFiles -> 0, executionTimeMs -> 197, numDeletionVectorsUpdated -> 0, numDeletedRows -> 5, scanTimeMs -> 195, numAddedFiles -> 0, numAddedBytes -> 0, rewriteTimeMs -> 0}       |NULL        |Apache-Spark/3.5.4 Delta-Lake/3.2.0|\n",
       "|1      |2025-03-19 11:34:36.185|NULL  |NULL    |WRITE       |{mode -> Append, partitionBy -> []}                                                                 |NULL|NULL    |NULL     |0          |Serializable  |true         |{numFiles -> 421, numOutputRows -> 1111930, numOutputBytes -> 17654179}                                                                                                                                                                                                                                                       |NULL        |Apache-Spark/3.5.4 Delta-Lake/3.2.0|\n",
       "|0      |2025-03-19 11:34:26.935|NULL  |NULL    |CREATE TABLE|{partitionBy -> [\"date\"], clusterBy -> [], description -> NULL, isManaged -> true, properties -> {}}|NULL|NULL    |NULL     |NULL       |Serializable  |true         |{}                                                                                                                                                                                                                                                                                                                            |NULL        |Apache-Spark/3.5.4 Delta-Lake/3.2.0|\n",
       "+-------+-----------------------+------+--------+------------+----------------------------------------------------------------------------------------------------+----+--------+---------+-----------+--------------+-------------+------------------------------------------------------------------------------------------------------------------------------------------------------------------------------------------------------------------------------------------------------------------------------------------------------------------------------+------------+-----------------------------------+"
      ]
     },
     "execution_count": 20,
     "metadata": {},
     "output_type": "execute_result"
    }
   ],
   "source": [
    "source_table_history = spark.sql(\n",
    "    \"\"\"\n",
    "        DESCRIBE HISTORY bronze.covid_nyt_by_date\n",
    "    \"\"\"\n",
    ")\n",
    "\n",
    "source_table_history"
   ]
  },
  {
   "cell_type": "code",
   "execution_count": 17,
   "id": "b789fe70-8466-4e71-a4ad-eb8e7deb619d",
   "metadata": {},
   "outputs": [
    {
     "data": {
      "text/html": [
       "<table border='1'>\n",
       "<tr><th>date</th><th>county</th><th>state</th><th>fips</th><th>cases</th><th>deaths</th></tr>\n",
       "<tr><td>2020-02-20</td><td>Maricopa</td><td>Arizona</td><td>4013</td><td>1</td><td>0</td></tr>\n",
       "<tr><td>2020-02-20</td><td>Humboldt</td><td>California</td><td>6023</td><td>1</td><td>0</td></tr>\n",
       "<tr><td>2020-02-20</td><td>Los Angeles</td><td>California</td><td>6037</td><td>1</td><td>0</td></tr>\n",
       "<tr><td>2020-02-20</td><td>Orange</td><td>California</td><td>6059</td><td>1</td><td>0</td></tr>\n",
       "<tr><td>2020-02-20</td><td>San Diego</td><td>California</td><td>6073</td><td>1</td><td>0</td></tr>\n",
       "<tr><td>2020-02-20</td><td>San Francisco</td><td>California</td><td>6075</td><td>2</td><td>0</td></tr>\n",
       "<tr><td>2020-02-20</td><td>Santa Clara</td><td>California</td><td>6085</td><td>2</td><td>0</td></tr>\n",
       "<tr><td>2020-02-20</td><td>Cook</td><td>Illinois</td><td>17031</td><td>2</td><td>0</td></tr>\n",
       "<tr><td>2020-02-20</td><td>Suffolk</td><td>Massachusetts</td><td>25025</td><td>1</td><td>0</td></tr>\n",
       "<tr><td>2020-02-20</td><td>Douglas</td><td>Nebraska</td><td>31055</td><td>11</td><td>0</td></tr>\n",
       "<tr><td>2020-02-20</td><td>Bexar</td><td>Texas</td><td>48029</td><td>2</td><td>0</td></tr>\n",
       "<tr><td>2020-02-20</td><td>Snohomish</td><td>Washington</td><td>53061</td><td>1</td><td>0</td></tr>\n",
       "<tr><td>2020-02-20</td><td>Dane</td><td>Wisconsin</td><td>55025</td><td>1</td><td>0</td></tr>\n",
       "</table>\n"
      ],
      "text/plain": [
       "+----------+-------------+-------------+-----+-----+------+\n",
       "|date      |county       |state        |fips |cases|deaths|\n",
       "+----------+-------------+-------------+-----+-----+------+\n",
       "|2020-02-20|Maricopa     |Arizona      |4013 |1    |0     |\n",
       "|2020-02-20|Humboldt     |California   |6023 |1    |0     |\n",
       "|2020-02-20|Los Angeles  |California   |6037 |1    |0     |\n",
       "|2020-02-20|Orange       |California   |6059 |1    |0     |\n",
       "|2020-02-20|San Diego    |California   |6073 |1    |0     |\n",
       "|2020-02-20|San Francisco|California   |6075 |2    |0     |\n",
       "|2020-02-20|Santa Clara  |California   |6085 |2    |0     |\n",
       "|2020-02-20|Cook         |Illinois     |17031|2    |0     |\n",
       "|2020-02-20|Suffolk      |Massachusetts|25025|1    |0     |\n",
       "|2020-02-20|Douglas      |Nebraska     |31055|11   |0     |\n",
       "|2020-02-20|Bexar        |Texas        |48029|2    |0     |\n",
       "|2020-02-20|Snohomish    |Washington   |53061|1    |0     |\n",
       "|2020-02-20|Dane         |Wisconsin    |55025|1    |0     |\n",
       "+----------+-------------+-------------+-----+-----+------+"
      ]
     },
     "execution_count": 17,
     "metadata": {},
     "output_type": "execute_result"
    }
   ],
   "source": [
    "# pick update candidates to create one new version\n",
    "# predicate 1 --> date = 2020-02-20 and cases = 1 set cases to 15\n",
    "# predicate 2 --> date = 2020-02-20 and cases = 2 set cases to 25\n",
    "spark.sql(\n",
    "    \"\"\"\n",
    "    select * \n",
    "    from bronze.covid_nyt_by_date \n",
    "    where date = cast('2020-02-20' as date)\n",
    "    \"\"\"\n",
    ")"
   ]
  },
  {
   "cell_type": "code",
   "execution_count": 18,
   "id": "c89968f7-eb1b-449e-9d48-ede0dd3f88d6",
   "metadata": {},
   "outputs": [
    {
     "data": {
      "text/html": [
       "<table border='1'>\n",
       "<tr><th>num_affected_rows</th></tr>\n",
       "<tr><td>8</td></tr>\n",
       "</table>\n"
      ],
      "text/plain": [
       "+-----------------+\n",
       "|num_affected_rows|\n",
       "+-----------------+\n",
       "|8                |\n",
       "+-----------------+"
      ]
     },
     "execution_count": 18,
     "metadata": {},
     "output_type": "execute_result"
    }
   ],
   "source": [
    "# UPDATE DMLs\n",
    "# predicate 1 --> date = 2020-02-20 and cases = 1 set cases to 15\n",
    "\n",
    "spark.sql(\n",
    "    \"\"\"\n",
    "        UPDATE bronze.covid_nyt_by_date\n",
    "        SET cases = 15\n",
    "        WHERE date = CAST('2020-02-20' AS DATE)\n",
    "            AND cases = 1\n",
    "    \"\"\"\n",
    ")"
   ]
  },
  {
   "cell_type": "code",
   "execution_count": 19,
   "id": "8c75ecbd-1d6a-4622-be52-0ca037e36c57",
   "metadata": {},
   "outputs": [
    {
     "data": {
      "text/html": [
       "<table border='1'>\n",
       "<tr><th>num_affected_rows</th></tr>\n",
       "<tr><td>4</td></tr>\n",
       "</table>\n"
      ],
      "text/plain": [
       "+-----------------+\n",
       "|num_affected_rows|\n",
       "+-----------------+\n",
       "|4                |\n",
       "+-----------------+"
      ]
     },
     "execution_count": 19,
     "metadata": {},
     "output_type": "execute_result"
    }
   ],
   "source": [
    "# predicate 2 --> date = 2020-02-20 and cases = 2 set cases to 25\n",
    "\n",
    "spark.sql(\n",
    "    \"\"\"\n",
    "        UPDATE bronze.covid_nyt_by_date\n",
    "        SET cases = 25\n",
    "        WHERE date = CAST('2020-02-20' AS DATE)\n",
    "            AND cases = 2\n",
    "    \"\"\"\n",
    ")"
   ]
  },
  {
   "cell_type": "code",
   "execution_count": 13,
   "id": "08cbb15e-cacc-4b39-934c-072e863eabe4",
   "metadata": {},
   "outputs": [
    {
     "data": {
      "text/html": [
       "<table border='1'>\n",
       "<tr><th></th></tr>\n",
       "</table>\n"
      ],
      "text/plain": [
       "++\n",
       "||\n",
       "++\n",
       "++"
      ]
     },
     "execution_count": 13,
     "metadata": {},
     "output_type": "execute_result"
    }
   ],
   "source": [
    "# DROP TABLE\n",
    "\n",
    "spark.sql(\n",
    "    \"\"\"\n",
    "        DROP TABLE IF EXISTS default.covid_nyt_starting_version_v2\n",
    "    \"\"\"\n",
    ")"
   ]
  },
  {
   "cell_type": "code",
   "execution_count": 14,
   "id": "c047c90a-6025-48aa-93b0-434cb327b878",
   "metadata": {},
   "outputs": [
    {
     "data": {
      "text/html": [
       "<table border='1'>\n",
       "<tr><th></th></tr>\n",
       "</table>\n"
      ],
      "text/plain": [
       "++\n",
       "||\n",
       "++\n",
       "++"
      ]
     },
     "execution_count": 14,
     "metadata": {},
     "output_type": "execute_result"
    }
   ],
   "source": [
    "# Create Delta Tables Structure in order to write stream data\n",
    "\n",
    "spark.sql(\n",
    "    \"\"\"\n",
    "        CREATE TABLE default.covid_nyt_starting_version_v2\n",
    "        USING DELTA\n",
    "    \"\"\"\n",
    ")"
   ]
  },
  {
   "cell_type": "code",
   "execution_count": 28,
   "id": "f1f7127e-b7ae-4b8d-b21e-09eee8c80883",
   "metadata": {},
   "outputs": [
    {
     "data": {
      "text/plain": [
       "'\\nNot Working: See observation notes above!\\nstreaming_query_starting_version_2 = (\\n    spark\\n    .readStream\\n    .format(\"delta\")\\n    .option(\"startingVersion\", \"3\")\\n    .load(\"./spark-warehouse/bronze.db/covid_nyt_by_date\")\\n    .writeStream\\n    .queryName(\"covid_nyt_by_date_starting_version_2\")\\n    .outputMode(\"append\")\\n    .option(\"mergeSchema\", \"true\")\\n    .option(\"partitionBy\", \"date\")\\n    # .option(\"ignoreDeletes\", \"true\") # uppdate after 1st stream in ws1 checpoint failed\\n    .option(\"skipCommitChanges\", \"true\") # ws5 | ws6\\n    .option(\"checkpointLocation\", \"streaming_checkpoints/ch07/covid_nyt_starting_version_v2/ws6\") #ws1 - FAILED | ws2 - FAILED | ws3 - FAILED | ws4 - FAILED\\n    .start(\"./spark-warehouse/covid_nyt_starting_version_v2\")\\n)\\n\\n'"
      ]
     },
     "execution_count": 28,
     "metadata": {},
     "output_type": "execute_result"
    }
   ],
   "source": [
    "\"\"\"\n",
    "Not Working: See observation notes above!\n",
    "streaming_query_starting_version_2 = (\n",
    "    spark\n",
    "    .readStream\n",
    "    .format(\"delta\")\n",
    "    .option(\"startingVersion\", \"3\")\n",
    "    .load(\"./spark-warehouse/bronze.db/covid_nyt_by_date\")\n",
    "    .writeStream\n",
    "    .queryName(\"covid_nyt_by_date_starting_version_2\")\n",
    "    .outputMode(\"append\")\n",
    "    .option(\"mergeSchema\", \"true\")\n",
    "    .option(\"partitionBy\", \"date\")\n",
    "    # .option(\"ignoreDeletes\", \"true\") # uppdate after 1st stream in ws1 checpoint failed\n",
    "    .option(\"skipCommitChanges\", \"true\") # ws5 | ws6\n",
    "    .option(\"checkpointLocation\", \"streaming_checkpoints/ch07/covid_nyt_starting_version_v2/ws6\") #ws1 - FAILED | ws2 - FAILED | ws3 - FAILED | ws4 - FAILED\n",
    "    .start(\"./spark-warehouse/covid_nyt_starting_version_v2\")\n",
    ")\n",
    "\n",
    "\"\"\""
   ]
  },
  {
   "cell_type": "code",
   "execution_count": 16,
   "id": "3e0cedfe-1616-43a9-a371-7be6d87406ea",
   "metadata": {},
   "outputs": [],
   "source": [
    "streaming_query_starting_version_2 = (\n",
    "    spark\n",
    "    .readStream\n",
    "    .format(\"delta\")\n",
    "    .option(\"startingVersion\", \"1\")\n",
    "    .load(\"./spark-warehouse/covid_nyt_stream_1\")\n",
    "    .writeStream\n",
    "    .format(\"delta\")\n",
    "    .queryName(\"covid_nyt_by_date_starting_version_2_attempt_421\")\n",
    "    .outputMode(\"append\")\n",
    "    .option(\"mergeSchema\", \"true\")\n",
    "    .option(\"partitionBy\", \"date\") # It does not work!\n",
    "    # .option(\"ignoreDeletes\", \"true\") # uppdate after 1st stream in ws1 checpoint failed\n",
    "    .option(\"skipCommitChanges\", \"true\") # ws5 | ws6\n",
    "    .option(\"checkpointLocation\", \"streaming_checkpoints/ch07/covid_nyt_starting_version_v2/ws3\") #ws1 - FAILED | ws2 - FAILED | ws3 - FAILED | ws4 - FAILED\n",
    "    .start(\"./spark-warehouse/covid_nyt_starting_version_v2\")\n",
    ")"
   ]
  },
  {
   "cell_type": "code",
   "execution_count": 18,
   "id": "c603f421-9981-436c-922c-0e2c97887b35",
   "metadata": {},
   "outputs": [
    {
     "data": {
      "text/html": [
       "<table border='1'>\n",
       "<tr><th></th></tr>\n",
       "</table>\n"
      ],
      "text/plain": [
       "++\n",
       "||\n",
       "++\n",
       "++"
      ]
     },
     "execution_count": 18,
     "metadata": {},
     "output_type": "execute_result"
    }
   ],
   "source": [
    "covid_nyt_starting_version_v2 = spark.sql(\n",
    "    \"\"\"\n",
    "        INSERT INTO default.covid_nyt_stream_1 VALUES\n",
    "        (CAST('2025-01-24' AS DATE), 'Minneapolis', 'Minnesota', 17032, 9, 0),\n",
    "        (CAST('2025-01-25' AS DATE), 'Los Angeles', 'California', 17033, 1, 0)\n",
    "    \"\"\"\n",
    ")\n",
    "\n",
    "covid_nyt_starting_version_v2"
   ]
  },
  {
   "cell_type": "code",
   "execution_count": 17,
   "id": "9fa01a2c-320b-4ed1-8335-606187a2b4dc",
   "metadata": {},
   "outputs": [
    {
     "data": {
      "text/html": [
       "<table border='1'>\n",
       "<tr><th>date</th><th>county</th><th>state</th><th>fips</th><th>cases</th><th>deaths</th></tr>\n",
       "<tr><td>2020-10-10</td><td>Tucker</td><td>West Virginia</td><td>54093</td><td>46</td><td>0</td></tr>\n",
       "<tr><td>2020-10-10</td><td>Tyler</td><td>West Virginia</td><td>54095</td><td>20</td><td>0</td></tr>\n",
       "<tr><td>2020-10-10</td><td>Upshur</td><td>West Virginia</td><td>54097</td><td>175</td><td>0</td></tr>\n",
       "<tr><td>2020-10-10</td><td>Wayne</td><td>West Virginia</td><td>54099</td><td>437</td><td>11</td></tr>\n",
       "<tr><td>2020-10-10</td><td>Webster</td><td>West Virginia</td><td>54101</td><td>9</td><td>0</td></tr>\n",
       "<tr><td>2020-10-10</td><td>Wetzel</td><td>West Virginia</td><td>54103</td><td>68</td><td>0</td></tr>\n",
       "<tr><td>2020-10-10</td><td>Wirt</td><td>West Virginia</td><td>54105</td><td>20</td><td>0</td></tr>\n",
       "<tr><td>2020-10-10</td><td>Wood</td><td>West Virginia</td><td>54107</td><td>408</td><td>6</td></tr>\n",
       "<tr><td>2020-10-10</td><td>Wyoming</td><td>West Virginia</td><td>54109</td><td>136</td><td>5</td></tr>\n",
       "<tr><td>2020-10-10</td><td>Adams</td><td>Wisconsin</td><td>55001</td><td>316</td><td>4</td></tr>\n",
       "<tr><td>2020-10-10</td><td>Ashland</td><td>Wisconsin</td><td>55003</td><td>197</td><td>2</td></tr>\n",
       "<tr><td>2020-10-10</td><td>Barron</td><td>Wisconsin</td><td>55005</td><td>624</td><td>6</td></tr>\n",
       "<tr><td>2020-10-10</td><td>Bayfield</td><td>Wisconsin</td><td>55007</td><td>156</td><td>1</td></tr>\n",
       "<tr><td>2020-10-10</td><td>Brown</td><td>Wisconsin</td><td>55009</td><td>11936</td><td>75</td></tr>\n",
       "<tr><td>2020-10-10</td><td>Buffalo</td><td>Wisconsin</td><td>55011</td><td>178</td><td>2</td></tr>\n",
       "<tr><td>2020-10-10</td><td>Burnett</td><td>Wisconsin</td><td>55013</td><td>256</td><td>4</td></tr>\n",
       "<tr><td>2020-10-10</td><td>Calumet</td><td>Wisconsin</td><td>55015</td><td>1868</td><td>7</td></tr>\n",
       "<tr><td>2020-10-10</td><td>Chippewa</td><td>Wisconsin</td><td>55017</td><td>814</td><td>0</td></tr>\n",
       "<tr><td>2020-10-10</td><td>Clark</td><td>Wisconsin</td><td>55019</td><td>579</td><td>9</td></tr>\n",
       "<tr><td>2020-10-10</td><td>Columbia</td><td>Wisconsin</td><td>55021</td><td>1113</td><td>3</td></tr>\n",
       "</table>\n",
       "only showing top 20 rows\n"
      ],
      "text/plain": [
       "+----------+--------+-------------+-----+-----+------+\n",
       "|date      |county  |state        |fips |cases|deaths|\n",
       "+----------+--------+-------------+-----+-----+------+\n",
       "|2020-10-10|Tucker  |West Virginia|54093|46   |0     |\n",
       "|2020-10-10|Tyler   |West Virginia|54095|20   |0     |\n",
       "|2020-10-10|Upshur  |West Virginia|54097|175  |0     |\n",
       "|2020-10-10|Wayne   |West Virginia|54099|437  |11    |\n",
       "|2020-10-10|Webster |West Virginia|54101|9    |0     |\n",
       "|2020-10-10|Wetzel  |West Virginia|54103|68   |0     |\n",
       "|2020-10-10|Wirt    |West Virginia|54105|20   |0     |\n",
       "|2020-10-10|Wood    |West Virginia|54107|408  |6     |\n",
       "|2020-10-10|Wyoming |West Virginia|54109|136  |5     |\n",
       "|2020-10-10|Adams   |Wisconsin    |55001|316  |4     |\n",
       "|2020-10-10|Ashland |Wisconsin    |55003|197  |2     |\n",
       "|2020-10-10|Barron  |Wisconsin    |55005|624  |6     |\n",
       "|2020-10-10|Bayfield|Wisconsin    |55007|156  |1     |\n",
       "|2020-10-10|Brown   |Wisconsin    |55009|11936|75    |\n",
       "|2020-10-10|Buffalo |Wisconsin    |55011|178  |2     |\n",
       "|2020-10-10|Burnett |Wisconsin    |55013|256  |4     |\n",
       "|2020-10-10|Calumet |Wisconsin    |55015|1868 |7     |\n",
       "|2020-10-10|Chippewa|Wisconsin    |55017|814  |0     |\n",
       "|2020-10-10|Clark   |Wisconsin    |55019|579  |9     |\n",
       "|2020-10-10|Columbia|Wisconsin    |55021|1113 |3     |\n",
       "+----------+--------+-------------+-----+-----+------+\n",
       "only showing top 20 rows"
      ]
     },
     "execution_count": 17,
     "metadata": {},
     "output_type": "execute_result"
    }
   ],
   "source": [
    "spark.sql(\n",
    "    \"\"\"\n",
    "        SELECT *\n",
    "        FROM default.covid_nyt_starting_version_v2\n",
    "    \"\"\"\n",
    ")"
   ]
  },
  {
   "cell_type": "code",
   "execution_count": 19,
   "id": "4b359d31-02c9-4270-8266-49d25f232ed7",
   "metadata": {},
   "outputs": [
    {
     "data": {
      "text/html": [
       "<table border='1'>\n",
       "<tr><th>source_name</th><th>records_qty</th></tr>\n",
       "<tr><td>default.covid_nyt_stream_1 - SOURCE BEFORE</td><td>1111934</td></tr>\n",
       "<tr><td>default.covid_nyt_starting_version_v2 - TARGET BEFORE</td><td>1111934</td></tr>\n",
       "</table>\n"
      ],
      "text/plain": [
       "+-----------------------------------------------------+-----------+\n",
       "|source_name                                          |records_qty|\n",
       "+-----------------------------------------------------+-----------+\n",
       "|default.covid_nyt_stream_1 - SOURCE BEFORE           |1111934    |\n",
       "|default.covid_nyt_starting_version_v2 - TARGET BEFORE|1111934    |\n",
       "+-----------------------------------------------------+-----------+"
      ]
     },
     "execution_count": 19,
     "metadata": {},
     "output_type": "execute_result"
    }
   ],
   "source": [
    "spark.sql(\n",
    "    \"\"\"\n",
    "        SELECT 'default.covid_nyt_stream_1 - SOURCE BEFORE' as source_name, count(*) records_qty\n",
    "        FROM default.covid_nyt_stream_1\n",
    "        union all\n",
    "        SELECT 'default.covid_nyt_starting_version_v2 - TARGET BEFORE' as source_name, count(*) records_qty\n",
    "        FROM default.covid_nyt_starting_version_v2\n",
    "    \"\"\"\n",
    ")"
   ]
  },
  {
   "cell_type": "code",
   "execution_count": 20,
   "id": "44552a45-33c5-41c9-892a-2493d602152a",
   "metadata": {},
   "outputs": [
    {
     "data": {
      "text/html": [
       "<table border='1'>\n",
       "<tr><th></th></tr>\n",
       "</table>\n"
      ],
      "text/plain": [
       "++\n",
       "||\n",
       "++\n",
       "++"
      ]
     },
     "execution_count": 20,
     "metadata": {},
     "output_type": "execute_result"
    }
   ],
   "source": [
    "covid_nyt_stream_1 = spark.sql(\n",
    "    \"\"\"\n",
    "        INSERT INTO default.covid_nyt_stream_1 VALUES\n",
    "        (CAST('2025-02-24' AS DATE), 'Minneapolis', 'Minnesota', 17032, 29, 0),\n",
    "        (CAST('2025-03-25' AS DATE), 'Los Angeles', 'California', 17033, 10, 0),\n",
    "        (CAST('2025-02-24' AS DATE), 'Buffalo',\t'Wisconsin', 55011,\t178, 2),\n",
    "        (CAST('2025-03-25' AS DATE), 'Webster',\t'West Virginia', 54101,\t9, 0)\n",
    "    \"\"\"\n",
    ")\n",
    "\n",
    "covid_nyt_stream_1"
   ]
  },
  {
   "cell_type": "code",
   "execution_count": 21,
   "id": "7d3bf654-5d6e-49a2-a1b9-54d20200536a",
   "metadata": {},
   "outputs": [
    {
     "data": {
      "text/html": [
       "<table border='1'>\n",
       "<tr><th>source_name</th><th>records_qty</th></tr>\n",
       "<tr><td>default.covid_nyt_stream_1 - SOURCE AFTER</td><td>1111938</td></tr>\n",
       "<tr><td>default.covid_nyt_starting_version_v2 - TARGET AFTER</td><td>1111938</td></tr>\n",
       "</table>\n"
      ],
      "text/plain": [
       "+----------------------------------------------------+-----------+\n",
       "|source_name                                         |records_qty|\n",
       "+----------------------------------------------------+-----------+\n",
       "|default.covid_nyt_stream_1 - SOURCE AFTER           |1111938    |\n",
       "|default.covid_nyt_starting_version_v2 - TARGET AFTER|1111938    |\n",
       "+----------------------------------------------------+-----------+"
      ]
     },
     "execution_count": 21,
     "metadata": {},
     "output_type": "execute_result"
    }
   ],
   "source": [
    "spark.sql(\n",
    "    \"\"\"\n",
    "        SELECT 'default.covid_nyt_stream_1 - SOURCE AFTER' as source_name, count(*) records_qty\n",
    "        FROM default.covid_nyt_stream_1\n",
    "        union all\n",
    "        SELECT 'default.covid_nyt_starting_version_v2 - TARGET AFTER' as source_name, count(*) records_qty\n",
    "        FROM default.covid_nyt_starting_version_v2\n",
    "    \"\"\"\n",
    ")"
   ]
  },
  {
   "cell_type": "code",
   "execution_count": null,
   "id": "01cf31ee-5853-40ef-b49a-5609d032f80e",
   "metadata": {},
   "outputs": [],
   "source": []
  },
  {
   "cell_type": "markdown",
   "id": "365b3a34-cd36-441b-991b-4148f3b2f5a8",
   "metadata": {
    "jp-MarkdownHeadingCollapsed": true
   },
   "source": [
    "#### startingTimestamp - Scenario 1: timestamp match commit in source"
   ]
  },
  {
   "cell_type": "code",
   "execution_count": null,
   "id": "28c17bc5-112c-44a5-a96d-93697a29faa6",
   "metadata": {},
   "outputs": [],
   "source": []
  },
  {
   "cell_type": "code",
   "execution_count": 13,
   "id": "ae42b6d0-b328-4e97-b71c-42a6af3cc068",
   "metadata": {},
   "outputs": [
    {
     "data": {
      "text/html": [
       "<table border='1'>\n",
       "<tr><th></th></tr>\n",
       "</table>\n"
      ],
      "text/plain": [
       "++\n",
       "||\n",
       "++\n",
       "++"
      ]
     },
     "execution_count": 13,
     "metadata": {},
     "output_type": "execute_result"
    }
   ],
   "source": [
    "# DROP TABLE\n",
    "\n",
    "spark.sql(\n",
    "    \"\"\"\n",
    "        DROP TABLE IF EXISTS default.covid_nyt_starting_timestamp\n",
    "    \"\"\"\n",
    ")"
   ]
  },
  {
   "cell_type": "code",
   "execution_count": 23,
   "id": "057391a1-4272-477f-80b9-954793c02703",
   "metadata": {},
   "outputs": [
    {
     "data": {
      "text/html": [
       "<table border='1'>\n",
       "<tr><th></th></tr>\n",
       "</table>\n"
      ],
      "text/plain": [
       "++\n",
       "||\n",
       "++\n",
       "++"
      ]
     },
     "execution_count": 23,
     "metadata": {},
     "output_type": "execute_result"
    }
   ],
   "source": [
    "# Create Delta Tables Structure in order to write stream data\n",
    "\n",
    "spark.sql(\n",
    "    \"\"\"\n",
    "        CREATE TABLE default.covid_nyt_starting_timestamp\n",
    "        USING DELTA\n",
    "    \"\"\"\n",
    ")"
   ]
  },
  {
   "cell_type": "code",
   "execution_count": 24,
   "id": "9a73f9e6-4ed9-4b71-8c4a-8d1ef99f2858",
   "metadata": {},
   "outputs": [
    {
     "data": {
      "text/html": [
       "<table border='1'>\n",
       "<tr><th>version</th><th>timestamp</th><th>userId</th><th>userName</th><th>operation</th><th>operationParameters</th><th>job</th><th>notebook</th><th>clusterId</th><th>readVersion</th><th>isolationLevel</th><th>isBlindAppend</th><th>operationMetrics</th><th>userMetadata</th><th>engineInfo</th></tr>\n",
       "<tr><td>4</td><td>2025-04-26 14:42:45.746</td><td>NULL</td><td>NULL</td><td>WRITE</td><td>{mode -&gt; Append, partitionBy -&gt; []}</td><td>NULL</td><td>NULL</td><td>NULL</td><td>3</td><td>Serializable</td><td>true</td><td>{numFiles -&gt; 4, numOutputRows -&gt; 4, numOutputBytes -&gt; 6790}</td><td>NULL</td><td>Apache-Spark/3.5.4 Delta-Lake/3.2.0</td></tr>\n",
       "<tr><td>3</td><td>2025-04-26 14:37:59.655</td><td>NULL</td><td>NULL</td><td>WRITE</td><td>{mode -&gt; Append, partitionBy -&gt; []}</td><td>NULL</td><td>NULL</td><td>NULL</td><td>2</td><td>Serializable</td><td>true</td><td>{numFiles -&gt; 2, numOutputRows -&gt; 2, numOutputBytes -&gt; 3412}</td><td>NULL</td><td>Apache-Spark/3.5.4 Delta-Lake/3.2.0</td></tr>\n",
       "<tr><td>2</td><td>2025-04-24 22:44:32.71</td><td>NULL</td><td>NULL</td><td>WRITE</td><td>{mode -&gt; Append, partitionBy -&gt; []}</td><td>NULL</td><td>NULL</td><td>NULL</td><td>1</td><td>Serializable</td><td>true</td><td>{numFiles -&gt; 2, numOutputRows -&gt; 2, numOutputBytes -&gt; 3412}</td><td>NULL</td><td>Apache-Spark/3.5.4 Delta-Lake/3.2.0</td></tr>\n",
       "<tr><td>1</td><td>2025-04-16 11:52:45.073</td><td>NULL</td><td>NULL</td><td>STREAMING UPDATE</td><td>{outputMode -&gt; Append, queryId -&gt; db5ee720-a032-4fda-9981-4d8f3ea10001, epochId -&gt; 0}</td><td>NULL</td><td>NULL</td><td>NULL</td><td>0</td><td>Serializable</td><td>true</td><td>{numRemovedFiles -&gt; 0, numOutputRows -&gt; 1111930, numOutputBytes -&gt; 6323054, numAddedFiles -&gt; 4}</td><td>NULL</td><td>Apache-Spark/3.5.4 Delta-Lake/3.2.0</td></tr>\n",
       "<tr><td>0</td><td>2025-04-16 11:23:46.149</td><td>NULL</td><td>NULL</td><td>CREATE TABLE</td><td>{partitionBy -&gt; [], clusterBy -&gt; [], description -&gt; NULL, isManaged -&gt; false, properties -&gt; {}}</td><td>NULL</td><td>NULL</td><td>NULL</td><td>NULL</td><td>Serializable</td><td>true</td><td>{}</td><td>NULL</td><td>Apache-Spark/3.5.4 Delta-Lake/3.2.0</td></tr>\n",
       "</table>\n"
      ],
      "text/plain": [
       "+-------+-----------------------+------+--------+----------------+-----------------------------------------------------------------------------------------------+----+--------+---------+-----------+--------------+-------------+-----------------------------------------------------------------------------------------------+------------+-----------------------------------+\n",
       "|version|timestamp              |userId|userName|operation       |operationParameters                                                                            |job |notebook|clusterId|readVersion|isolationLevel|isBlindAppend|operationMetrics                                                                               |userMetadata|engineInfo                         |\n",
       "+-------+-----------------------+------+--------+----------------+-----------------------------------------------------------------------------------------------+----+--------+---------+-----------+--------------+-------------+-----------------------------------------------------------------------------------------------+------------+-----------------------------------+\n",
       "|4      |2025-04-26 14:42:45.746|NULL  |NULL    |WRITE           |{mode -> Append, partitionBy -> []}                                                            |NULL|NULL    |NULL     |3          |Serializable  |true         |{numFiles -> 4, numOutputRows -> 4, numOutputBytes -> 6790}                                    |NULL        |Apache-Spark/3.5.4 Delta-Lake/3.2.0|\n",
       "|3      |2025-04-26 14:37:59.655|NULL  |NULL    |WRITE           |{mode -> Append, partitionBy -> []}                                                            |NULL|NULL    |NULL     |2          |Serializable  |true         |{numFiles -> 2, numOutputRows -> 2, numOutputBytes -> 3412}                                    |NULL        |Apache-Spark/3.5.4 Delta-Lake/3.2.0|\n",
       "|2      |2025-04-24 22:44:32.71 |NULL  |NULL    |WRITE           |{mode -> Append, partitionBy -> []}                                                            |NULL|NULL    |NULL     |1          |Serializable  |true         |{numFiles -> 2, numOutputRows -> 2, numOutputBytes -> 3412}                                    |NULL        |Apache-Spark/3.5.4 Delta-Lake/3.2.0|\n",
       "|1      |2025-04-16 11:52:45.073|NULL  |NULL    |STREAMING UPDATE|{outputMode -> Append, queryId -> db5ee720-a032-4fda-9981-4d8f3ea10001, epochId -> 0}          |NULL|NULL    |NULL     |0          |Serializable  |true         |{numRemovedFiles -> 0, numOutputRows -> 1111930, numOutputBytes -> 6323054, numAddedFiles -> 4}|NULL        |Apache-Spark/3.5.4 Delta-Lake/3.2.0|\n",
       "|0      |2025-04-16 11:23:46.149|NULL  |NULL    |CREATE TABLE    |{partitionBy -> [], clusterBy -> [], description -> NULL, isManaged -> false, properties -> {}}|NULL|NULL    |NULL     |NULL       |Serializable  |true         |{}                                                                                             |NULL        |Apache-Spark/3.5.4 Delta-Lake/3.2.0|\n",
       "+-------+-----------------------+------+--------+----------------+-----------------------------------------------------------------------------------------------+----+--------+---------+-----------+--------------+-------------+-----------------------------------------------------------------------------------------------+------------+-----------------------------------+"
      ]
     },
     "execution_count": 24,
     "metadata": {},
     "output_type": "execute_result"
    }
   ],
   "source": [
    "spark.sql(\n",
    "    \"\"\"\n",
    "        DESCRIBE HISTORY default.covid_nyt_stream_1\n",
    "    \"\"\"\n",
    ")"
   ]
  },
  {
   "cell_type": "code",
   "execution_count": 25,
   "id": "6d32e752-13ea-42ff-93a7-2d97597d06c1",
   "metadata": {},
   "outputs": [],
   "source": [
    "streaming_query_starting_version_2 = (\n",
    "    spark\n",
    "    .readStream\n",
    "    .format(\"delta\")\n",
    "    .option(\"startingTimestamp\", \"2025-04-24 22:44:32.71\")\n",
    "    .load(\"./spark-warehouse/covid_nyt_stream_1\")\n",
    "    .writeStream\n",
    "    .format(\"delta\")\n",
    "    .queryName(\"covid_nyt_stream_1_starting_timestamp_attempt_1\")\n",
    "    .outputMode(\"append\")\n",
    "    .option(\"mergeSchema\", \"true\")\n",
    "    .option(\"checkpointLocation\", \"streaming_checkpoints/ch07/covid_nyt_starting_timestamp/ws1\") #ws1 - FAILED | ws2 - FAILED | ws3 - FAILED | ws4 - FAILED\n",
    "    .start(\"./spark-warehouse/covid_nyt_starting_timestamp\")\n",
    ")"
   ]
  },
  {
   "cell_type": "code",
   "execution_count": 27,
   "id": "4826fade-a656-4545-b001-c1266fe9609c",
   "metadata": {},
   "outputs": [
    {
     "data": {
      "text/html": [
       "<table border='1'>\n",
       "<tr><th>date</th><th>county</th><th>state</th><th>fips</th><th>cases</th><th>deaths</th></tr>\n",
       "<tr><td>2025-01-24</td><td>Minneapolis</td><td>Minnesota</td><td>17032</td><td>9</td><td>0</td></tr>\n",
       "<tr><td>2025-01-24</td><td>Minneapolis</td><td>Minnesota</td><td>17032</td><td>9</td><td>0</td></tr>\n",
       "<tr><td>2025-01-25</td><td>Los Angeles</td><td>California</td><td>17033</td><td>1</td><td>0</td></tr>\n",
       "<tr><td>2025-01-25</td><td>Los Angeles</td><td>California</td><td>17033</td><td>1</td><td>0</td></tr>\n",
       "<tr><td>2025-02-24</td><td>Buffalo</td><td>Wisconsin</td><td>55011</td><td>178</td><td>2</td></tr>\n",
       "<tr><td>2025-02-24</td><td>Minneapolis</td><td>Minnesota</td><td>17032</td><td>29</td><td>0</td></tr>\n",
       "<tr><td>2025-03-25</td><td>Webster</td><td>West Virginia</td><td>54101</td><td>9</td><td>0</td></tr>\n",
       "<tr><td>2025-03-25</td><td>Los Angeles</td><td>California</td><td>17033</td><td>10</td><td>0</td></tr>\n",
       "</table>\n"
      ],
      "text/plain": [
       "+----------+-----------+-------------+-----+-----+------+\n",
       "|date      |county     |state        |fips |cases|deaths|\n",
       "+----------+-----------+-------------+-----+-----+------+\n",
       "|2025-01-24|Minneapolis|Minnesota    |17032|9    |0     |\n",
       "|2025-01-24|Minneapolis|Minnesota    |17032|9    |0     |\n",
       "|2025-01-25|Los Angeles|California   |17033|1    |0     |\n",
       "|2025-01-25|Los Angeles|California   |17033|1    |0     |\n",
       "|2025-02-24|Minneapolis|Minnesota    |17032|29   |0     |\n",
       "|2025-02-24|Buffalo    |Wisconsin    |55011|178  |2     |\n",
       "|2025-03-25|Los Angeles|California   |17033|10   |0     |\n",
       "|2025-03-25|Webster    |West Virginia|54101|9    |0     |\n",
       "+----------+-----------+-------------+-----+-----+------+"
      ]
     },
     "execution_count": 27,
     "metadata": {},
     "output_type": "execute_result"
    }
   ],
   "source": [
    "spark.sql(\n",
    "    \"\"\"\n",
    "        SELECT *\n",
    "        FROM default.covid_nyt_starting_timestamp\n",
    "        ORDER BY date\n",
    "    \"\"\"\n",
    ")"
   ]
  },
  {
   "cell_type": "code",
   "execution_count": 28,
   "id": "c8267396-2354-449b-bd7e-7472c4039bc1",
   "metadata": {},
   "outputs": [
    {
     "data": {
      "text/html": [
       "<table border='1'>\n",
       "<tr><th></th></tr>\n",
       "</table>\n"
      ],
      "text/plain": [
       "++\n",
       "||\n",
       "++\n",
       "++"
      ]
     },
     "execution_count": 28,
     "metadata": {},
     "output_type": "execute_result"
    }
   ],
   "source": [
    "covid_nyt_stream_1 = spark.sql(\n",
    "    \"\"\"\n",
    "        INSERT INTO default.covid_nyt_stream_1 VALUES\n",
    "        (CAST('2025-02-24' AS DATE), 'Wyoming',\t'West Virginia', 54109, 136, 5)\n",
    "    \"\"\"\n",
    ")\n",
    "\n",
    "covid_nyt_stream_1"
   ]
  },
  {
   "cell_type": "code",
   "execution_count": 29,
   "id": "e5f02d2c-8a3d-48ca-861b-c5be34103fc6",
   "metadata": {},
   "outputs": [
    {
     "data": {
      "text/html": [
       "<table border='1'>\n",
       "<tr><th>date</th><th>county</th><th>state</th><th>fips</th><th>cases</th><th>deaths</th></tr>\n",
       "<tr><td>2025-01-24</td><td>Minneapolis</td><td>Minnesota</td><td>17032</td><td>9</td><td>0</td></tr>\n",
       "<tr><td>2025-01-24</td><td>Minneapolis</td><td>Minnesota</td><td>17032</td><td>9</td><td>0</td></tr>\n",
       "<tr><td>2025-01-25</td><td>Los Angeles</td><td>California</td><td>17033</td><td>1</td><td>0</td></tr>\n",
       "<tr><td>2025-01-25</td><td>Los Angeles</td><td>California</td><td>17033</td><td>1</td><td>0</td></tr>\n",
       "<tr><td>2025-02-24</td><td>Wyoming</td><td>West Virginia</td><td>54109</td><td>136</td><td>5</td></tr>\n",
       "<tr><td>2025-02-24</td><td>Buffalo</td><td>Wisconsin</td><td>55011</td><td>178</td><td>2</td></tr>\n",
       "<tr><td>2025-02-24</td><td>Minneapolis</td><td>Minnesota</td><td>17032</td><td>29</td><td>0</td></tr>\n",
       "<tr><td>2025-03-25</td><td>Los Angeles</td><td>California</td><td>17033</td><td>10</td><td>0</td></tr>\n",
       "<tr><td>2025-03-25</td><td>Webster</td><td>West Virginia</td><td>54101</td><td>9</td><td>0</td></tr>\n",
       "</table>\n"
      ],
      "text/plain": [
       "+----------+-----------+-------------+-----+-----+------+\n",
       "|date      |county     |state        |fips |cases|deaths|\n",
       "+----------+-----------+-------------+-----+-----+------+\n",
       "|2025-01-24|Minneapolis|Minnesota    |17032|9    |0     |\n",
       "|2025-01-24|Minneapolis|Minnesota    |17032|9    |0     |\n",
       "|2025-01-25|Los Angeles|California   |17033|1    |0     |\n",
       "|2025-01-25|Los Angeles|California   |17033|1    |0     |\n",
       "|2025-02-24|Wyoming    |West Virginia|54109|136  |5     |\n",
       "|2025-02-24|Buffalo    |Wisconsin    |55011|178  |2     |\n",
       "|2025-02-24|Minneapolis|Minnesota    |17032|29   |0     |\n",
       "|2025-03-25|Los Angeles|California   |17033|10   |0     |\n",
       "|2025-03-25|Webster    |West Virginia|54101|9    |0     |\n",
       "+----------+-----------+-------------+-----+-----+------+"
      ]
     },
     "execution_count": 29,
     "metadata": {},
     "output_type": "execute_result"
    }
   ],
   "source": [
    "spark.sql(\n",
    "    \"\"\"\n",
    "        SELECT *\n",
    "        FROM default.covid_nyt_starting_timestamp\n",
    "        ORDER BY date\n",
    "    \"\"\"\n",
    ")"
   ]
  },
  {
   "cell_type": "markdown",
   "id": "c9a50876-35b5-4294-aa6e-f8a32324805d",
   "metadata": {},
   "source": [
    "#### startingTimestamp between versions"
   ]
  },
  {
   "cell_type": "code",
   "execution_count": null,
   "id": "41e01050-8d09-46ad-bb2c-3bd23ca1502f",
   "metadata": {},
   "outputs": [],
   "source": []
  },
  {
   "cell_type": "code",
   "execution_count": 13,
   "id": "7ff1f87f-f931-4c2f-a1ad-472d126d4152",
   "metadata": {},
   "outputs": [
    {
     "data": {
      "text/html": [
       "<table border='1'>\n",
       "<tr><th></th></tr>\n",
       "</table>\n"
      ],
      "text/plain": [
       "++\n",
       "||\n",
       "++\n",
       "++"
      ]
     },
     "execution_count": 13,
     "metadata": {},
     "output_type": "execute_result"
    }
   ],
   "source": [
    "# DROP TABLE\n",
    "\n",
    "spark.sql(\n",
    "    \"\"\"\n",
    "        DROP TABLE IF EXISTS default.covid_nyt_starting_timestamp_between_versions\n",
    "    \"\"\"\n",
    ")"
   ]
  },
  {
   "cell_type": "code",
   "execution_count": 30,
   "id": "92a35ca1-2ab7-4f4b-b5dd-0bb547297662",
   "metadata": {},
   "outputs": [
    {
     "data": {
      "text/html": [
       "<table border='1'>\n",
       "<tr><th></th></tr>\n",
       "</table>\n"
      ],
      "text/plain": [
       "++\n",
       "||\n",
       "++\n",
       "++"
      ]
     },
     "execution_count": 30,
     "metadata": {},
     "output_type": "execute_result"
    }
   ],
   "source": [
    "# Create Delta Tables Structure in order to write stream data\n",
    "\n",
    "spark.sql(\n",
    "    \"\"\"\n",
    "        CREATE TABLE default.covid_nyt_starting_timestamp_between_versions\n",
    "        USING DELTA\n",
    "    \"\"\"\n",
    ")"
   ]
  },
  {
   "cell_type": "code",
   "execution_count": 31,
   "id": "8e323a02-18d2-4e94-8415-b76cb62e614d",
   "metadata": {},
   "outputs": [
    {
     "data": {
      "text/html": [
       "<table border='1'>\n",
       "<tr><th>version</th><th>timestamp</th><th>userId</th><th>userName</th><th>operation</th><th>operationParameters</th><th>job</th><th>notebook</th><th>clusterId</th><th>readVersion</th><th>isolationLevel</th><th>isBlindAppend</th><th>operationMetrics</th><th>userMetadata</th><th>engineInfo</th></tr>\n",
       "<tr><td>5</td><td>2025-04-26 14:59:40.971</td><td>NULL</td><td>NULL</td><td>WRITE</td><td>{mode -&gt; Append, partitionBy -&gt; []}</td><td>NULL</td><td>NULL</td><td>NULL</td><td>4</td><td>Serializable</td><td>true</td><td>{numFiles -&gt; 1, numOutputRows -&gt; 1, numOutputBytes -&gt; 1703}</td><td>NULL</td><td>Apache-Spark/3.5.4 Delta-Lake/3.2.0</td></tr>\n",
       "<tr><td>4</td><td>2025-04-26 14:42:45.746</td><td>NULL</td><td>NULL</td><td>WRITE</td><td>{mode -&gt; Append, partitionBy -&gt; []}</td><td>NULL</td><td>NULL</td><td>NULL</td><td>3</td><td>Serializable</td><td>true</td><td>{numFiles -&gt; 4, numOutputRows -&gt; 4, numOutputBytes -&gt; 6790}</td><td>NULL</td><td>Apache-Spark/3.5.4 Delta-Lake/3.2.0</td></tr>\n",
       "<tr><td>3</td><td>2025-04-26 14:37:59.655</td><td>NULL</td><td>NULL</td><td>WRITE</td><td>{mode -&gt; Append, partitionBy -&gt; []}</td><td>NULL</td><td>NULL</td><td>NULL</td><td>2</td><td>Serializable</td><td>true</td><td>{numFiles -&gt; 2, numOutputRows -&gt; 2, numOutputBytes -&gt; 3412}</td><td>NULL</td><td>Apache-Spark/3.5.4 Delta-Lake/3.2.0</td></tr>\n",
       "<tr><td>2</td><td>2025-04-24 22:44:32.71</td><td>NULL</td><td>NULL</td><td>WRITE</td><td>{mode -&gt; Append, partitionBy -&gt; []}</td><td>NULL</td><td>NULL</td><td>NULL</td><td>1</td><td>Serializable</td><td>true</td><td>{numFiles -&gt; 2, numOutputRows -&gt; 2, numOutputBytes -&gt; 3412}</td><td>NULL</td><td>Apache-Spark/3.5.4 Delta-Lake/3.2.0</td></tr>\n",
       "<tr><td>1</td><td>2025-04-16 11:52:45.073</td><td>NULL</td><td>NULL</td><td>STREAMING UPDATE</td><td>{outputMode -&gt; Append, queryId -&gt; db5ee720-a032-4fda-9981-4d8f3ea10001, epochId -&gt; 0}</td><td>NULL</td><td>NULL</td><td>NULL</td><td>0</td><td>Serializable</td><td>true</td><td>{numRemovedFiles -&gt; 0, numOutputRows -&gt; 1111930, numOutputBytes -&gt; 6323054, numAddedFiles -&gt; 4}</td><td>NULL</td><td>Apache-Spark/3.5.4 Delta-Lake/3.2.0</td></tr>\n",
       "<tr><td>0</td><td>2025-04-16 11:23:46.149</td><td>NULL</td><td>NULL</td><td>CREATE TABLE</td><td>{partitionBy -&gt; [], clusterBy -&gt; [], description -&gt; NULL, isManaged -&gt; false, properties -&gt; {}}</td><td>NULL</td><td>NULL</td><td>NULL</td><td>NULL</td><td>Serializable</td><td>true</td><td>{}</td><td>NULL</td><td>Apache-Spark/3.5.4 Delta-Lake/3.2.0</td></tr>\n",
       "</table>\n"
      ],
      "text/plain": [
       "+-------+-----------------------+------+--------+----------------+-----------------------------------------------------------------------------------------------+----+--------+---------+-----------+--------------+-------------+-----------------------------------------------------------------------------------------------+------------+-----------------------------------+\n",
       "|version|timestamp              |userId|userName|operation       |operationParameters                                                                            |job |notebook|clusterId|readVersion|isolationLevel|isBlindAppend|operationMetrics                                                                               |userMetadata|engineInfo                         |\n",
       "+-------+-----------------------+------+--------+----------------+-----------------------------------------------------------------------------------------------+----+--------+---------+-----------+--------------+-------------+-----------------------------------------------------------------------------------------------+------------+-----------------------------------+\n",
       "|5      |2025-04-26 14:59:40.971|NULL  |NULL    |WRITE           |{mode -> Append, partitionBy -> []}                                                            |NULL|NULL    |NULL     |4          |Serializable  |true         |{numFiles -> 1, numOutputRows -> 1, numOutputBytes -> 1703}                                    |NULL        |Apache-Spark/3.5.4 Delta-Lake/3.2.0|\n",
       "|4      |2025-04-26 14:42:45.746|NULL  |NULL    |WRITE           |{mode -> Append, partitionBy -> []}                                                            |NULL|NULL    |NULL     |3          |Serializable  |true         |{numFiles -> 4, numOutputRows -> 4, numOutputBytes -> 6790}                                    |NULL        |Apache-Spark/3.5.4 Delta-Lake/3.2.0|\n",
       "|3      |2025-04-26 14:37:59.655|NULL  |NULL    |WRITE           |{mode -> Append, partitionBy -> []}                                                            |NULL|NULL    |NULL     |2          |Serializable  |true         |{numFiles -> 2, numOutputRows -> 2, numOutputBytes -> 3412}                                    |NULL        |Apache-Spark/3.5.4 Delta-Lake/3.2.0|\n",
       "|2      |2025-04-24 22:44:32.71 |NULL  |NULL    |WRITE           |{mode -> Append, partitionBy -> []}                                                            |NULL|NULL    |NULL     |1          |Serializable  |true         |{numFiles -> 2, numOutputRows -> 2, numOutputBytes -> 3412}                                    |NULL        |Apache-Spark/3.5.4 Delta-Lake/3.2.0|\n",
       "|1      |2025-04-16 11:52:45.073|NULL  |NULL    |STREAMING UPDATE|{outputMode -> Append, queryId -> db5ee720-a032-4fda-9981-4d8f3ea10001, epochId -> 0}          |NULL|NULL    |NULL     |0          |Serializable  |true         |{numRemovedFiles -> 0, numOutputRows -> 1111930, numOutputBytes -> 6323054, numAddedFiles -> 4}|NULL        |Apache-Spark/3.5.4 Delta-Lake/3.2.0|\n",
       "|0      |2025-04-16 11:23:46.149|NULL  |NULL    |CREATE TABLE    |{partitionBy -> [], clusterBy -> [], description -> NULL, isManaged -> false, properties -> {}}|NULL|NULL    |NULL     |NULL       |Serializable  |true         |{}                                                                                             |NULL        |Apache-Spark/3.5.4 Delta-Lake/3.2.0|\n",
       "+-------+-----------------------+------+--------+----------------+-----------------------------------------------------------------------------------------------+----+--------+---------+-----------+--------------+-------------+-----------------------------------------------------------------------------------------------+------------+-----------------------------------+"
      ]
     },
     "execution_count": 31,
     "metadata": {},
     "output_type": "execute_result"
    }
   ],
   "source": [
    "spark.sql(\n",
    "    \"\"\"\n",
    "        DESCRIBE HISTORY default.covid_nyt_stream_1\n",
    "    \"\"\"\n",
    ")"
   ]
  },
  {
   "cell_type": "code",
   "execution_count": 33,
   "id": "d5fea7a9-a83e-47dd-85f3-061f95c6886f",
   "metadata": {},
   "outputs": [],
   "source": [
    "streaming_query_starting_version_2 = (\n",
    "    spark\n",
    "    .readStream\n",
    "    .format(\"delta\")\n",
    "    .option(\"startingTimestamp\", \"2025-04-25 12:35:00.420\")\n",
    "    .load(\"./spark-warehouse/covid_nyt_stream_1\")\n",
    "    .writeStream\n",
    "    .format(\"delta\")\n",
    "    .queryName(\"covid_nyt_stream_1_starting_timestamp_between_versions_attempt_1\")\n",
    "    .outputMode(\"append\")\n",
    "    .option(\"mergeSchema\", \"true\")\n",
    "    .option(\"checkpointLocation\", \"streaming_checkpoints/ch07/covid_nyt_starting_timestamp_between_versions/ws1\") #ws1 - FAILED | ws2 - FAILED | ws3 - FAILED | ws4 - FAILED\n",
    "    .start(\"./spark-warehouse/covid_nyt_starting_timestamp_between_versions\")\n",
    ")"
   ]
  },
  {
   "cell_type": "code",
   "execution_count": 34,
   "id": "dcbf39dc-ac4a-4599-ad09-df13dfa6b508",
   "metadata": {},
   "outputs": [
    {
     "data": {
      "text/html": [
       "<table border='1'>\n",
       "<tr><th>date</th><th>county</th><th>state</th><th>fips</th><th>cases</th><th>deaths</th></tr>\n",
       "<tr><td>2025-01-24</td><td>Minneapolis</td><td>Minnesota</td><td>17032</td><td>9</td><td>0</td></tr>\n",
       "<tr><td>2025-01-25</td><td>Los Angeles</td><td>California</td><td>17033</td><td>1</td><td>0</td></tr>\n",
       "<tr><td>2025-02-24</td><td>Buffalo</td><td>Wisconsin</td><td>55011</td><td>178</td><td>2</td></tr>\n",
       "<tr><td>2025-02-24</td><td>Wyoming</td><td>West Virginia</td><td>54109</td><td>136</td><td>5</td></tr>\n",
       "<tr><td>2025-02-24</td><td>Minneapolis</td><td>Minnesota</td><td>17032</td><td>29</td><td>0</td></tr>\n",
       "<tr><td>2025-03-25</td><td>Los Angeles</td><td>California</td><td>17033</td><td>10</td><td>0</td></tr>\n",
       "<tr><td>2025-03-25</td><td>Webster</td><td>West Virginia</td><td>54101</td><td>9</td><td>0</td></tr>\n",
       "</table>\n"
      ],
      "text/plain": [
       "+----------+-----------+-------------+-----+-----+------+\n",
       "|date      |county     |state        |fips |cases|deaths|\n",
       "+----------+-----------+-------------+-----+-----+------+\n",
       "|2025-01-24|Minneapolis|Minnesota    |17032|9    |0     |\n",
       "|2025-01-25|Los Angeles|California   |17033|1    |0     |\n",
       "|2025-02-24|Wyoming    |West Virginia|54109|136  |5     |\n",
       "|2025-02-24|Buffalo    |Wisconsin    |55011|178  |2     |\n",
       "|2025-02-24|Minneapolis|Minnesota    |17032|29   |0     |\n",
       "|2025-03-25|Webster    |West Virginia|54101|9    |0     |\n",
       "|2025-03-25|Los Angeles|California   |17033|10   |0     |\n",
       "+----------+-----------+-------------+-----+-----+------+"
      ]
     },
     "execution_count": 34,
     "metadata": {},
     "output_type": "execute_result"
    }
   ],
   "source": [
    "spark.sql(\n",
    "    \"\"\"\n",
    "        SELECT *\n",
    "        FROM default.covid_nyt_starting_timestamp_between_versions\n",
    "        ORDER BY date\n",
    "    \"\"\"\n",
    ")"
   ]
  },
  {
   "cell_type": "code",
   "execution_count": 35,
   "id": "48a13b12-51c8-4390-8ecf-3871545bf928",
   "metadata": {},
   "outputs": [
    {
     "data": {
      "text/html": [
       "<table border='1'>\n",
       "<tr><th></th></tr>\n",
       "</table>\n"
      ],
      "text/plain": [
       "++\n",
       "||\n",
       "++\n",
       "++"
      ]
     },
     "execution_count": 35,
     "metadata": {},
     "output_type": "execute_result"
    }
   ],
   "source": [
    "covid_nyt_stream_1 = spark.sql(\n",
    "    \"\"\"\n",
    "        INSERT INTO default.covid_nyt_stream_1 VALUES\n",
    "        (CAST('2025-04-01' AS DATE), 'Maricopa', 'Arizona',\t4013, 0, 0)\n",
    "    \"\"\"\n",
    ")\n",
    "\n",
    "covid_nyt_stream_1"
   ]
  },
  {
   "cell_type": "code",
   "execution_count": 36,
   "id": "74bac251-a579-4b20-87dc-ca900b74d52d",
   "metadata": {},
   "outputs": [
    {
     "data": {
      "text/html": [
       "<table border='1'>\n",
       "<tr><th>date</th><th>county</th><th>state</th><th>fips</th><th>cases</th><th>deaths</th></tr>\n",
       "<tr><td>2025-01-24</td><td>Minneapolis</td><td>Minnesota</td><td>17032</td><td>9</td><td>0</td></tr>\n",
       "<tr><td>2025-01-25</td><td>Los Angeles</td><td>California</td><td>17033</td><td>1</td><td>0</td></tr>\n",
       "<tr><td>2025-02-24</td><td>Wyoming</td><td>West Virginia</td><td>54109</td><td>136</td><td>5</td></tr>\n",
       "<tr><td>2025-02-24</td><td>Minneapolis</td><td>Minnesota</td><td>17032</td><td>29</td><td>0</td></tr>\n",
       "<tr><td>2025-02-24</td><td>Buffalo</td><td>Wisconsin</td><td>55011</td><td>178</td><td>2</td></tr>\n",
       "<tr><td>2025-03-25</td><td>Los Angeles</td><td>California</td><td>17033</td><td>10</td><td>0</td></tr>\n",
       "<tr><td>2025-03-25</td><td>Webster</td><td>West Virginia</td><td>54101</td><td>9</td><td>0</td></tr>\n",
       "<tr><td>2025-04-01</td><td>Maricopa</td><td>Arizona</td><td>4013</td><td>0</td><td>0</td></tr>\n",
       "</table>\n"
      ],
      "text/plain": [
       "+----------+-----------+-------------+-----+-----+------+\n",
       "|date      |county     |state        |fips |cases|deaths|\n",
       "+----------+-----------+-------------+-----+-----+------+\n",
       "|2025-01-24|Minneapolis|Minnesota    |17032|9    |0     |\n",
       "|2025-01-25|Los Angeles|California   |17033|1    |0     |\n",
       "|2025-02-24|Wyoming    |West Virginia|54109|136  |5     |\n",
       "|2025-02-24|Minneapolis|Minnesota    |17032|29   |0     |\n",
       "|2025-02-24|Buffalo    |Wisconsin    |55011|178  |2     |\n",
       "|2025-03-25|Los Angeles|California   |17033|10   |0     |\n",
       "|2025-03-25|Webster    |West Virginia|54101|9    |0     |\n",
       "|2025-04-01|Maricopa   |Arizona      |4013 |0    |0     |\n",
       "+----------+-----------+-------------+-----+-----+------+"
      ]
     },
     "execution_count": 36,
     "metadata": {},
     "output_type": "execute_result"
    }
   ],
   "source": [
    "spark.sql(\n",
    "    \"\"\"\n",
    "        SELECT *\n",
    "        FROM default.covid_nyt_starting_timestamp_between_versions\n",
    "        ORDER BY date\n",
    "    \"\"\"\n",
    ")"
   ]
  },
  {
   "cell_type": "markdown",
   "id": "15fab0a6-b809-4516-bede-d96340fcda36",
   "metadata": {},
   "source": [
    "# Initial Snapshot with `withEventTimeOrder`\n",
    "\n",
    "Default ordering when using Delta Lake as a streaming data source `is based on the last modification time of  \n",
    "the Delta table file`. Streaming queries run until target table is caught up to the latest version of source  \n",
    "Delta Table, this is called initial snapshot at the beginning of a streaming query. We may consider whether  \n",
    "the default ordering (based on file last modification time) is a correct, or if there is another event time  \n",
    "field that may simplify dataset ordering (e.g. field that points exact point in time when event appears).\n",
    "\n",
    "If we rely on a timestamp column like `last_modified` or similar, records may be processed out of order,  \n",
    "leading to dropping records as late events by the watermark. This can be avoided by enabling  \n",
    "`withEventTimeOrder` option, which prefers event time over the modification time. \n",
    "\n",
    "- The data drop issue happens only when the initial Delta snapshot of a `stateful` streaming query is processed\n",
    "  in the default order\n",
    "- `withEventTimeOrder` is another of those setting **that takes effect only at the beginning of a streaming query**\n",
    "   Once query is started or already in progress it cannot be changed. Unless you stop the current streaming query,\n",
    "   delete checkpoint and make sure of the initial processing position option `(startVersion/startTimestamp)` to\n",
    "   proceed.\n",
    "- If you use `withEventTimeOrder` option enable, you cannot downgrade to version that does not support it. For\n",
    "   Databricks Runtime the minimum version is 11.3LTS. In case you can downgrade versions, you **MUST** wait for\n",
    "  initial snapshot to finish, or delete the checkpoint and restart the query.\n",
    "- Scenarios where `withEventTimeOrder` **CANNOT** be used:\n",
    "    -  If the event time column is a generated column and there are nonprojection transformations between the\n",
    "      Delta source and the watermark. For instance, source table have column that is generated automatically\n",
    "      based on existing column in the source table `(YEAR(src.reading_time))`. If event time column is generated\n",
    "      column and you apply transformations before the watermart (filtering, renaming, selection of other columns,\n",
    "      adding expressions) the system cannot guarantee event-time ordering any more and streaming will **FAIL**.\n",
    "    - If there is watermark with multiple Delta sources in the stream query. For instance, **2 readStreams that\n",
    "      are being joined** and `withEventTimeOrder` is applied\n",
    "- **Due to increased shuffle operations, performance may be impacted.**  \n",
    "  \n",
    "### Test scenario:\n",
    "- Create Delta table from streaming query that have a column called `event_time` with value `current_timestamp()`.\n",
    "  It will be used as column for `withEventTimeOrder` feature.\n",
    "- Create 2nd Delta table from streaming query that use `withEventTimeOrder` feature and\n",
    "  `withWatermark(\"event_time\", \"10 seconds\")`\n",
    "- Observe processing and result. Observe job, tasks and stages as well as execution plans and other metrics\n",
    "  provided in Spark UI.\n",
    "\n",
    "### Observation and Conclusions\n",
    "- 1st attempt: Source table was a partitioned table that got DELETE as last commit in Delta Log. By some reason\n",
    "  streaming did not processed data to `default.covid_nyt_with_event_time_order_source` to be used with the event\n",
    "  time feature. This attempt has `FAILED`!\n",
    "- 2nd attempt: Changed source table to non-partitioned one `default.covid_nyt` table. Source was prepared with\n",
    "  new column called `eventTime` that was used for 2nd streaming that enable `withEventTimeOrder`.\n",
    "  Streaming processed entire source into target table, no delay was processed (data volume in this env is small\n",
    "  couple hunder thousand records at most).\n",
    "    - SPARK UI Observation: A lot `Exchange` stages were noticed, which are sort of Shuffling stages, as Delta\n",
    "      Lake documentation warns.\n",
    "    - **See Physical plan of streaming query at end of experiment!**\n",
    "    - Considering this experiment as `SUCCESS`!  "
   ]
  },
  {
   "cell_type": "code",
   "execution_count": 18,
   "id": "4cd55369-25db-4280-a394-44bab9670078",
   "metadata": {},
   "outputs": [
    {
     "data": {
      "text/html": [
       "<table border='1'>\n",
       "<tr><th></th></tr>\n",
       "</table>\n"
      ],
      "text/plain": [
       "++\n",
       "||\n",
       "++\n",
       "++"
      ]
     },
     "execution_count": 18,
     "metadata": {},
     "output_type": "execute_result"
    }
   ],
   "source": [
    "# DROP TABLE\n",
    "\n",
    "spark.sql(\n",
    "    \"\"\"\n",
    "        DROP TABLE IF EXISTS default.covid_nyt_with_event_time_order_source\n",
    "    \"\"\"\n",
    ")"
   ]
  },
  {
   "cell_type": "code",
   "execution_count": 19,
   "id": "06455a59-b407-411a-8d71-d8f70c7a5a37",
   "metadata": {},
   "outputs": [
    {
     "data": {
      "text/html": [
       "<table border='1'>\n",
       "<tr><th></th></tr>\n",
       "</table>\n"
      ],
      "text/plain": [
       "++\n",
       "||\n",
       "++\n",
       "++"
      ]
     },
     "execution_count": 19,
     "metadata": {},
     "output_type": "execute_result"
    }
   ],
   "source": [
    "# Create Delta Tables Structure in order to write stream data\n",
    "\n",
    "spark.sql(\n",
    "    \"\"\"\n",
    "        CREATE TABLE default.covid_nyt_with_event_time_order_source\n",
    "        USING DELTA\n",
    "    \"\"\"\n",
    ")"
   ]
  },
  {
   "cell_type": "code",
   "execution_count": 21,
   "id": "5c67330e-37f1-448b-b655-9f10225991db",
   "metadata": {},
   "outputs": [],
   "source": [
    "from pyspark.sql.functions import col, current_timestamp\n",
    "\n",
    "source_streaming = (\n",
    "    spark\n",
    "    .readStream\n",
    "    .format(\"delta\")\n",
    "    .load('./spark-warehouse/covid_nyt')\n",
    "    .withColumn('eventTime', current_timestamp())\n",
    "    .writeStream\n",
    "    .format(\"delta\")\n",
    "    .outputMode(\"append\")\n",
    "    .option(\"mergeSchema\", \"true\")\n",
    "    .option(\"checkpointLocation\", \"streaming_checkpoints/ch07/covid_nyt_with_event_time_order_source/ws2\")\n",
    "    .start(\"./spark-warehouse/covid_nyt_with_event_time_order_source\")\n",
    ")"
   ]
  },
  {
   "cell_type": "code",
   "execution_count": 22,
   "id": "8c196259-7d9b-476d-927a-cc190d35c0a6",
   "metadata": {},
   "outputs": [
    {
     "data": {
      "text/html": [
       "<table border='1'>\n",
       "<tr><th>date</th><th>county</th><th>state</th><th>fips</th><th>cases</th><th>deaths</th><th>eventTime</th></tr>\n",
       "<tr><td>2020-10-10</td><td>Tucker</td><td>West Virginia</td><td>54093</td><td>46</td><td>0</td><td>2025-04-26 19:28:05.701</td></tr>\n",
       "<tr><td>2020-10-10</td><td>Tyler</td><td>West Virginia</td><td>54095</td><td>20</td><td>0</td><td>2025-04-26 19:28:05.701</td></tr>\n",
       "<tr><td>2020-10-10</td><td>Upshur</td><td>West Virginia</td><td>54097</td><td>175</td><td>0</td><td>2025-04-26 19:28:05.701</td></tr>\n",
       "<tr><td>2020-10-10</td><td>Wayne</td><td>West Virginia</td><td>54099</td><td>437</td><td>11</td><td>2025-04-26 19:28:05.701</td></tr>\n",
       "<tr><td>2020-10-10</td><td>Webster</td><td>West Virginia</td><td>54101</td><td>9</td><td>0</td><td>2025-04-26 19:28:05.701</td></tr>\n",
       "<tr><td>2020-10-10</td><td>Wetzel</td><td>West Virginia</td><td>54103</td><td>68</td><td>0</td><td>2025-04-26 19:28:05.701</td></tr>\n",
       "<tr><td>2020-10-10</td><td>Wirt</td><td>West Virginia</td><td>54105</td><td>20</td><td>0</td><td>2025-04-26 19:28:05.701</td></tr>\n",
       "<tr><td>2020-10-10</td><td>Wood</td><td>West Virginia</td><td>54107</td><td>408</td><td>6</td><td>2025-04-26 19:28:05.701</td></tr>\n",
       "<tr><td>2020-10-10</td><td>Wyoming</td><td>West Virginia</td><td>54109</td><td>136</td><td>5</td><td>2025-04-26 19:28:05.701</td></tr>\n",
       "<tr><td>2020-10-10</td><td>Adams</td><td>Wisconsin</td><td>55001</td><td>316</td><td>4</td><td>2025-04-26 19:28:05.701</td></tr>\n",
       "</table>\n"
      ],
      "text/plain": [
       "+----------+-------+-------------+-----+-----+------+-----------------------+\n",
       "|date      |county |state        |fips |cases|deaths|eventTime              |\n",
       "+----------+-------+-------------+-----+-----+------+-----------------------+\n",
       "|2020-10-10|Tucker |West Virginia|54093|46   |0     |2025-04-26 19:28:05.701|\n",
       "|2020-10-10|Tyler  |West Virginia|54095|20   |0     |2025-04-26 19:28:05.701|\n",
       "|2020-10-10|Upshur |West Virginia|54097|175  |0     |2025-04-26 19:28:05.701|\n",
       "|2020-10-10|Wayne  |West Virginia|54099|437  |11    |2025-04-26 19:28:05.701|\n",
       "|2020-10-10|Webster|West Virginia|54101|9    |0     |2025-04-26 19:28:05.701|\n",
       "|2020-10-10|Wetzel |West Virginia|54103|68   |0     |2025-04-26 19:28:05.701|\n",
       "|2020-10-10|Wirt   |West Virginia|54105|20   |0     |2025-04-26 19:28:05.701|\n",
       "|2020-10-10|Wood   |West Virginia|54107|408  |6     |2025-04-26 19:28:05.701|\n",
       "|2020-10-10|Wyoming|West Virginia|54109|136  |5     |2025-04-26 19:28:05.701|\n",
       "|2020-10-10|Adams  |Wisconsin    |55001|316  |4     |2025-04-26 19:28:05.701|\n",
       "+----------+-------+-------------+-----+-----+------+-----------------------+"
      ]
     },
     "execution_count": 22,
     "metadata": {},
     "output_type": "execute_result"
    }
   ],
   "source": [
    "spark.sql(\n",
    "    \"\"\"\n",
    "        select * from default.covid_nyt_with_event_time_order_source limit 10\n",
    "    \"\"\"\n",
    ")"
   ]
  },
  {
   "cell_type": "code",
   "execution_count": 23,
   "id": "a7b529a1-ce3f-4fb7-9a69-556627fb8619",
   "metadata": {},
   "outputs": [],
   "source": [
    "from time import sleep\n",
    "sleep(10)"
   ]
  },
  {
   "cell_type": "code",
   "execution_count": 17,
   "id": "a2caa4c3-9a3c-4950-ab16-df46efbd050f",
   "metadata": {},
   "outputs": [
    {
     "data": {
      "text/html": [
       "<table border='1'>\n",
       "<tr><th></th></tr>\n",
       "</table>\n"
      ],
      "text/plain": [
       "++\n",
       "||\n",
       "++\n",
       "++"
      ]
     },
     "execution_count": 17,
     "metadata": {},
     "output_type": "execute_result"
    }
   ],
   "source": [
    "# DROP TABLE\n",
    "\n",
    "spark.sql(\n",
    "    \"\"\"\n",
    "        DROP TABLE IF EXISTS default.covid_nyt_with_event_time_order_target\n",
    "    \"\"\"\n",
    ")"
   ]
  },
  {
   "cell_type": "code",
   "execution_count": 24,
   "id": "e8b43b55-0d77-4809-abec-a0b584e2c228",
   "metadata": {},
   "outputs": [
    {
     "data": {
      "text/html": [
       "<table border='1'>\n",
       "<tr><th></th></tr>\n",
       "</table>\n"
      ],
      "text/plain": [
       "++\n",
       "||\n",
       "++\n",
       "++"
      ]
     },
     "execution_count": 24,
     "metadata": {},
     "output_type": "execute_result"
    }
   ],
   "source": [
    "# Create Delta Tables Structure in order to write stream data\n",
    "\n",
    "spark.sql(\n",
    "    \"\"\"\n",
    "        CREATE TABLE default.covid_nyt_with_event_time_order_target\n",
    "        USING DELTA\n",
    "    \"\"\"\n",
    ")"
   ]
  },
  {
   "cell_type": "code",
   "execution_count": 27,
   "id": "cfe15726-72a9-48ea-a30d-0c4c5f8fb965",
   "metadata": {},
   "outputs": [],
   "source": [
    "target_streaming = (\n",
    "    spark\n",
    "    .readStream\n",
    "    .format(\"delta\")\n",
    "    .option(\"withEventTimeOrder\", \"true\")\n",
    "    .load(\"./spark-warehouse/covid_nyt_with_event_time_order_source\")\n",
    "    .withWatermark(\"eventTime\", \"10 seconds\")\n",
    "    .writeStream\n",
    "    .format(\"delta\")\n",
    "    .outputMode(\"append\")\n",
    "    .option(\"mergeSchema\", \"true\")\n",
    "    .option(\"checkpointLocation\", \"streaming_checkpoints/ch07/covid_nyt_with_event_time_order_target/ws1\")\n",
    "    .start(\"./spark-warehouse/covid_nyt_with_event_time_order_target\")\n",
    ")"
   ]
  },
  {
   "cell_type": "code",
   "execution_count": 28,
   "id": "87aa45d6-9b67-4b0c-84c3-4bfa3a69cc82",
   "metadata": {},
   "outputs": [
    {
     "data": {
      "text/html": [
       "<table border='1'>\n",
       "<tr><th>date</th><th>county</th><th>state</th><th>fips</th><th>cases</th><th>deaths</th><th>eventTime</th></tr>\n",
       "</table>\n"
      ],
      "text/plain": [
       "+----+------+-----+----+-----+------+---------+\n",
       "|date|county|state|fips|cases|deaths|eventTime|\n",
       "+----+------+-----+----+-----+------+---------+\n",
       "+----+------+-----+----+-----+------+---------+"
      ]
     },
     "execution_count": 28,
     "metadata": {},
     "output_type": "execute_result"
    }
   ],
   "source": [
    "spark.sql(\n",
    "    \"\"\"\n",
    "        select * from default.covid_nyt_with_event_time_order_source\n",
    "            except\n",
    "        select * from default.covid_nyt_with_event_time_order_target\n",
    "    \"\"\"\n",
    ")"
   ]
  },
  {
   "cell_type": "code",
   "execution_count": 29,
   "id": "1df16be2-5b84-4836-9357-292bbe856616",
   "metadata": {},
   "outputs": [
    {
     "data": {
      "text/html": [
       "<table border='1'>\n",
       "<tr><th>eventTime</th></tr>\n",
       "<tr><td>2025-04-26 19:28:05.701</td></tr>\n",
       "<tr><td>2025-04-26 19:28:05.701</td></tr>\n",
       "</table>\n"
      ],
      "text/plain": [
       "+-----------------------+\n",
       "|eventTime              |\n",
       "+-----------------------+\n",
       "|2025-04-26 19:28:05.701|\n",
       "|2025-04-26 19:28:05.701|\n",
       "+-----------------------+"
      ]
     },
     "execution_count": 29,
     "metadata": {},
     "output_type": "execute_result"
    }
   ],
   "source": [
    "spark.sql(\n",
    "    \"\"\"\n",
    "        select distinct eventTime from default.covid_nyt_with_event_time_order_source\n",
    "            union all\n",
    "        select distinct eventTime from default.covid_nyt_with_event_time_order_target\n",
    "    \"\"\"\n",
    ")"
   ]
  },
  {
   "cell_type": "markdown",
   "id": "ab5b9077-dcf0-4390-865a-07891a4bfde5",
   "metadata": {},
   "source": [
    "#### Physical Plan and last progress of Streaming with `withEventTimeOrder`"
   ]
  },
  {
   "cell_type": "code",
   "execution_count": null,
   "id": "628bb262-30dc-4b97-96c1-e246d0172f8d",
   "metadata": {},
   "outputs": [],
   "source": [
    "target_streaming.explain(extended=True)"
   ]
  },
  {
   "cell_type": "code",
   "execution_count": null,
   "id": "88dffb15-e17f-433a-a367-b059368d0f81",
   "metadata": {},
   "outputs": [],
   "source": [
    "target_streaming.lastProgress['sources']"
   ]
  },
  {
   "cell_type": "markdown",
   "id": "6df6c519-decf-4a06-b2b6-bf5f11beec2e",
   "metadata": {},
   "source": [
    "# Idempotent Fanout\n",
    "\n",
    "This is event related to streaming pipeline that writes to **multiple target Delta tables** using a single source table.  \n",
    "Idempotent Fanout ensures that each target table receives consistent and non-duplicated writes even if the streaming job restarts or receives same data again.  \n",
    "It is especially useful for:\n",
    "- Aggregations, Dimensional updates or multiple fact tables\n",
    "- CDC Streams like Change Data Feed (CDF)\n",
    "- exactly-once semantics across all outputs"
   ]
  },
  {
   "cell_type": "markdown",
   "id": "8f43d5f3-d08e-45ab-883b-aa95922b14f2",
   "metadata": {},
   "source": [
    "### Test Scenario:\n",
    "\n",
    "1. Create 1st source table, by copying `bronze.covid_nyt_by_date` and enable CDF feature.  \n",
    "    a.  Simulate streaming-like incremental data arrival with loop and sample read from\n",
    "   source and append samples to target table\n",
    "2. Create readStream using `readChangeDataFeed` and `startingVersion = 1`  \n",
    "3. Implement `write_to_delta_lake_table_idempotent` method that takes batch_df and\n",
    "    batch_id and create DataFrameWriter / not streaming / that writes to idempotent_table_1   and idempotent_table_2  \n",
    "    a. Apply options `txnVersion = batch_id` and `txnAppId = delta_idempotency_example`  \n",
    "4. Create readStream from source table from `step 1` using `readChangeDataFeed = True` and `startingVersion = 1`  \n",
    "5. Create writeStream using streaming query from `step 5` to a delta table using `forEachBatch` and applying  \n",
    "   `write_to_delta_lake_table_idempotent` together with   `outputMode = update`\n",
    "6. Observe and analyze the data/outcome across all tables and especially the target idempotent tables\n",
    "7. Update 5 rows in source and see how data is propagated to both target tables"
   ]
  },
  {
   "cell_type": "markdown",
   "id": "e78225b3-c351-4231-88d5-9dabf7c3733e",
   "metadata": {},
   "source": [
    "### Conclusion:\n",
    "All steps were executed correctly, the idempotent fanout behavior works fine. It was a mystery why at both idempotent targets  \n",
    "we have 1 insert row, 2 pre-image and 2 post-image records (total 5, 1 original, 2 pre and 2 post).   \n",
    "Explanation:    \n",
    "- On step 1.a we loop over source of streaming source and take 5% sample records which are appended after CDF of table  \n",
    "    was turned on.  \n",
    "- That was not writtent to target at 1st streaming micro batch  \n",
    "- After 1st streaming micro batch, update is executed exactly on those 2 rows that are duplicate on streaming source table   \n",
    "    and not processed to idempotent targets as 2 insert records. This leads to 2 preimage and 2 postimage updates, that are   \n",
    "    looking as anomaly in both idempotent targets.  \n",
    "    \n",
    "**After entire observation & evaluation was done, test is SUCCESSFULLY DONE. Both target tables received exact same rows.**"
   ]
  },
  {
   "cell_type": "code",
   "execution_count": 2,
   "id": "27430032-a5a3-4ac7-bfc7-cb3bc69172a4",
   "metadata": {},
   "outputs": [],
   "source": [
    "# TODO: Implement the logic using example from chapter_7 notebook and following the pattern from othertests related to current setup"
   ]
  },
  {
   "cell_type": "code",
   "execution_count": 86,
   "id": "fd873e26-74fe-4662-a117-d1aee97abc2f",
   "metadata": {
    "collapsed": true,
    "jupyter": {
     "outputs_hidden": true
    }
   },
   "outputs": [
    {
     "data": {
      "text/html": [
       "<table border='1'>\n",
       "<tr><th>date</th><th>county</th><th>state</th><th>fips</th><th>cases</th><th>deaths</th><th>rn</th></tr>\n",
       "<tr><td>2020-04-15</td><td>Autauga</td><td>Alabama</td><td>1001</td><td>25</td><td>1</td><td>1</td></tr>\n",
       "<tr><td>2020-04-15</td><td>Baldwin</td><td>Alabama</td><td>1003</td><td>98</td><td>2</td><td>2</td></tr>\n",
       "<tr><td>2020-04-15</td><td>Barbour</td><td>Alabama</td><td>1005</td><td>13</td><td>0</td><td>3</td></tr>\n",
       "<tr><td>2020-04-15</td><td>Bibb</td><td>Alabama</td><td>1007</td><td>19</td><td>0</td><td>4</td></tr>\n",
       "<tr><td>2020-04-15</td><td>Blount</td><td>Alabama</td><td>1009</td><td>17</td><td>0</td><td>5</td></tr>\n",
       "<tr><td>2020-04-15</td><td>Bullock</td><td>Alabama</td><td>1011</td><td>8</td><td>0</td><td>6</td></tr>\n",
       "<tr><td>2020-04-15</td><td>Butler</td><td>Alabama</td><td>1013</td><td>11</td><td>0</td><td>7</td></tr>\n",
       "<tr><td>2020-04-15</td><td>Calhoun</td><td>Alabama</td><td>1015</td><td>62</td><td>0</td><td>8</td></tr>\n",
       "<tr><td>2020-04-15</td><td>Chambers</td><td>Alabama</td><td>1017</td><td>227</td><td>10</td><td>9</td></tr>\n",
       "<tr><td>2020-04-15</td><td>Cherokee</td><td>Alabama</td><td>1019</td><td>10</td><td>0</td><td>10</td></tr>\n",
       "<tr><td>2020-04-15</td><td>Chilton</td><td>Alabama</td><td>1021</td><td>37</td><td>0</td><td>11</td></tr>\n",
       "<tr><td>2020-04-15</td><td>Choctaw</td><td>Alabama</td><td>1023</td><td>13</td><td>0</td><td>12</td></tr>\n",
       "<tr><td>2020-04-15</td><td>Clarke</td><td>Alabama</td><td>1025</td><td>22</td><td>0</td><td>13</td></tr>\n",
       "<tr><td>2020-04-15</td><td>Clay</td><td>Alabama</td><td>1027</td><td>14</td><td>0</td><td>14</td></tr>\n",
       "<tr><td>2020-04-15</td><td>Cleburne</td><td>Alabama</td><td>1029</td><td>12</td><td>0</td><td>15</td></tr>\n",
       "<tr><td>2020-04-15</td><td>Coffee</td><td>Alabama</td><td>1031</td><td>43</td><td>0</td><td>16</td></tr>\n",
       "<tr><td>2020-04-15</td><td>Colbert</td><td>Alabama</td><td>1033</td><td>11</td><td>1</td><td>17</td></tr>\n",
       "<tr><td>2020-04-15</td><td>Conecuh</td><td>Alabama</td><td>1035</td><td>6</td><td>0</td><td>18</td></tr>\n",
       "<tr><td>2020-04-15</td><td>Coosa</td><td>Alabama</td><td>1037</td><td>20</td><td>1</td><td>19</td></tr>\n",
       "<tr><td>2020-04-15</td><td>Covington</td><td>Alabama</td><td>1039</td><td>18</td><td>0</td><td>20</td></tr>\n",
       "<tr><td>2020-04-15</td><td>Crenshaw</td><td>Alabama</td><td>1041</td><td>4</td><td>0</td><td>21</td></tr>\n",
       "<tr><td>2020-04-15</td><td>Cullman</td><td>Alabama</td><td>1043</td><td>40</td><td>1</td><td>22</td></tr>\n",
       "<tr><td>2020-04-15</td><td>Dale</td><td>Alabama</td><td>1045</td><td>13</td><td>0</td><td>23</td></tr>\n",
       "<tr><td>2020-04-15</td><td>Dallas</td><td>Alabama</td><td>1047</td><td>22</td><td>2</td><td>24</td></tr>\n",
       "<tr><td>2020-04-15</td><td>DeKalb</td><td>Alabama</td><td>1049</td><td>31</td><td>0</td><td>25</td></tr>\n",
       "<tr><td>2020-04-15</td><td>Elmore</td><td>Alabama</td><td>1051</td><td>49</td><td>0</td><td>26</td></tr>\n",
       "<tr><td>2020-04-15</td><td>Escambia</td><td>Alabama</td><td>1053</td><td>11</td><td>0</td><td>27</td></tr>\n",
       "<tr><td>2020-04-15</td><td>Etowah</td><td>Alabama</td><td>1055</td><td>84</td><td>8</td><td>28</td></tr>\n",
       "<tr><td>2020-04-15</td><td>Fayette</td><td>Alabama</td><td>1057</td><td>4</td><td>0</td><td>29</td></tr>\n",
       "<tr><td>2020-04-15</td><td>Franklin</td><td>Alabama</td><td>1059</td><td>17</td><td>1</td><td>30</td></tr>\n",
       "<tr><td>2020-04-15</td><td>Geneva</td><td>Alabama</td><td>1061</td><td>2</td><td>0</td><td>31</td></tr>\n",
       "<tr><td>2020-04-15</td><td>Greene</td><td>Alabama</td><td>1063</td><td>19</td><td>0</td><td>32</td></tr>\n",
       "<tr><td>2020-04-15</td><td>Hale</td><td>Alabama</td><td>1065</td><td>20</td><td>0</td><td>33</td></tr>\n",
       "<tr><td>2020-04-15</td><td>Henry</td><td>Alabama</td><td>1067</td><td>15</td><td>0</td><td>34</td></tr>\n",
       "<tr><td>2020-04-15</td><td>Houston</td><td>Alabama</td><td>1069</td><td>55</td><td>3</td><td>35</td></tr>\n",
       "<tr><td>2020-04-15</td><td>Jackson</td><td>Alabama</td><td>1071</td><td>31</td><td>2</td><td>36</td></tr>\n",
       "<tr><td>2020-04-15</td><td>Jefferson</td><td>Alabama</td><td>1073</td><td>628</td><td>17</td><td>37</td></tr>\n",
       "<tr><td>2020-04-15</td><td>Lamar</td><td>Alabama</td><td>1075</td><td>7</td><td>0</td><td>38</td></tr>\n",
       "<tr><td>2020-04-15</td><td>Lauderdale</td><td>Alabama</td><td>1077</td><td>22</td><td>4</td><td>39</td></tr>\n",
       "<tr><td>2020-04-15</td><td>Lawrence</td><td>Alabama</td><td>1079</td><td>8</td><td>0</td><td>40</td></tr>\n",
       "<tr><td>2020-04-15</td><td>Lee</td><td>Alabama</td><td>1081</td><td>285</td><td>12</td><td>41</td></tr>\n",
       "<tr><td>2020-04-15</td><td>Limestone</td><td>Alabama</td><td>1083</td><td>38</td><td>0</td><td>42</td></tr>\n",
       "<tr><td>2020-04-15</td><td>Lowndes</td><td>Alabama</td><td>1085</td><td>23</td><td>0</td><td>43</td></tr>\n",
       "<tr><td>2020-04-15</td><td>Macon</td><td>Alabama</td><td>1087</td><td>19</td><td>2</td><td>44</td></tr>\n",
       "<tr><td>2020-04-15</td><td>Madison</td><td>Alabama</td><td>1089</td><td>194</td><td>4</td><td>45</td></tr>\n",
       "<tr><td>2020-04-15</td><td>Marengo</td><td>Alabama</td><td>1091</td><td>24</td><td>1</td><td>46</td></tr>\n",
       "<tr><td>2020-04-15</td><td>Marion</td><td>Alabama</td><td>1093</td><td>58</td><td>4</td><td>47</td></tr>\n",
       "<tr><td>2020-04-15</td><td>Marshall</td><td>Alabama</td><td>1095</td><td>109</td><td>2</td><td>48</td></tr>\n",
       "<tr><td>2020-04-15</td><td>Mobile</td><td>Alabama</td><td>1097</td><td>561</td><td>19</td><td>49</td></tr>\n",
       "<tr><td>2020-04-15</td><td>Monroe</td><td>Alabama</td><td>1099</td><td>7</td><td>1</td><td>50</td></tr>\n",
       "<tr><td>2020-04-15</td><td>Montgomery</td><td>Alabama</td><td>1101</td><td>189</td><td>5</td><td>51</td></tr>\n",
       "<tr><td>2020-04-15</td><td>Morgan</td><td>Alabama</td><td>1103</td><td>44</td><td>0</td><td>52</td></tr>\n",
       "<tr><td>2020-04-15</td><td>Perry</td><td>Alabama</td><td>1105</td><td>7</td><td>0</td><td>53</td></tr>\n",
       "<tr><td>2020-04-15</td><td>Pickens</td><td>Alabama</td><td>1107</td><td>30</td><td>0</td><td>54</td></tr>\n",
       "<tr><td>2020-04-15</td><td>Pike</td><td>Alabama</td><td>1109</td><td>27</td><td>0</td><td>55</td></tr>\n",
       "<tr><td>2020-04-15</td><td>Randolph</td><td>Alabama</td><td>1111</td><td>45</td><td>4</td><td>56</td></tr>\n",
       "<tr><td>2020-04-15</td><td>Russell</td><td>Alabama</td><td>1113</td><td>31</td><td>0</td><td>57</td></tr>\n",
       "<tr><td>2020-04-15</td><td>Shelby</td><td>Alabama</td><td>1117</td><td>241</td><td>7</td><td>58</td></tr>\n",
       "<tr><td>2020-04-15</td><td>St. Clair</td><td>Alabama</td><td>1115</td><td>49</td><td>0</td><td>59</td></tr>\n",
       "<tr><td>2020-04-15</td><td>Sumter</td><td>Alabama</td><td>1119</td><td>30</td><td>0</td><td>60</td></tr>\n",
       "<tr><td>2020-04-15</td><td>Talladega</td><td>Alabama</td><td>1121</td><td>40</td><td>1</td><td>61</td></tr>\n",
       "<tr><td>2020-04-15</td><td>Tallapoosa</td><td>Alabama</td><td>1123</td><td>149</td><td>7</td><td>62</td></tr>\n",
       "<tr><td>2020-04-15</td><td>Tuscaloosa</td><td>Alabama</td><td>1125</td><td>131</td><td>0</td><td>63</td></tr>\n",
       "<tr><td>2020-04-15</td><td>Walker</td><td>Alabama</td><td>1127</td><td>85</td><td>0</td><td>64</td></tr>\n",
       "<tr><td>2020-04-15</td><td>Washington</td><td>Alabama</td><td>1129</td><td>12</td><td>1</td><td>65</td></tr>\n",
       "<tr><td>2020-04-15</td><td>Wilcox</td><td>Alabama</td><td>1131</td><td>38</td><td>0</td><td>66</td></tr>\n",
       "<tr><td>2020-04-15</td><td>Winston</td><td>Alabama</td><td>1133</td><td>7</td><td>0</td><td>67</td></tr>\n",
       "</table>\n"
      ],
      "text/plain": [
       "+----------+----------+-------+----+-----+------+---+\n",
       "|date      |county    |state  |fips|cases|deaths|rn |\n",
       "+----------+----------+-------+----+-----+------+---+\n",
       "|2020-04-15|Autauga   |Alabama|1001|25   |1     |1  |\n",
       "|2020-04-15|Baldwin   |Alabama|1003|98   |2     |2  |\n",
       "|2020-04-15|Barbour   |Alabama|1005|13   |0     |3  |\n",
       "|2020-04-15|Bibb      |Alabama|1007|19   |0     |4  |\n",
       "|2020-04-15|Blount    |Alabama|1009|17   |0     |5  |\n",
       "|2020-04-15|Bullock   |Alabama|1011|8    |0     |6  |\n",
       "|2020-04-15|Butler    |Alabama|1013|11   |0     |7  |\n",
       "|2020-04-15|Calhoun   |Alabama|1015|62   |0     |8  |\n",
       "|2020-04-15|Chambers  |Alabama|1017|227  |10    |9  |\n",
       "|2020-04-15|Cherokee  |Alabama|1019|10   |0     |10 |\n",
       "|2020-04-15|Chilton   |Alabama|1021|37   |0     |11 |\n",
       "|2020-04-15|Choctaw   |Alabama|1023|13   |0     |12 |\n",
       "|2020-04-15|Clarke    |Alabama|1025|22   |0     |13 |\n",
       "|2020-04-15|Clay      |Alabama|1027|14   |0     |14 |\n",
       "|2020-04-15|Cleburne  |Alabama|1029|12   |0     |15 |\n",
       "|2020-04-15|Coffee    |Alabama|1031|43   |0     |16 |\n",
       "|2020-04-15|Colbert   |Alabama|1033|11   |1     |17 |\n",
       "|2020-04-15|Conecuh   |Alabama|1035|6    |0     |18 |\n",
       "|2020-04-15|Coosa     |Alabama|1037|20   |1     |19 |\n",
       "|2020-04-15|Covington |Alabama|1039|18   |0     |20 |\n",
       "|2020-04-15|Crenshaw  |Alabama|1041|4    |0     |21 |\n",
       "|2020-04-15|Cullman   |Alabama|1043|40   |1     |22 |\n",
       "|2020-04-15|Dale      |Alabama|1045|13   |0     |23 |\n",
       "|2020-04-15|Dallas    |Alabama|1047|22   |2     |24 |\n",
       "|2020-04-15|DeKalb    |Alabama|1049|31   |0     |25 |\n",
       "|2020-04-15|Elmore    |Alabama|1051|49   |0     |26 |\n",
       "|2020-04-15|Escambia  |Alabama|1053|11   |0     |27 |\n",
       "|2020-04-15|Etowah    |Alabama|1055|84   |8     |28 |\n",
       "|2020-04-15|Fayette   |Alabama|1057|4    |0     |29 |\n",
       "|2020-04-15|Franklin  |Alabama|1059|17   |1     |30 |\n",
       "|2020-04-15|Geneva    |Alabama|1061|2    |0     |31 |\n",
       "|2020-04-15|Greene    |Alabama|1063|19   |0     |32 |\n",
       "|2020-04-15|Hale      |Alabama|1065|20   |0     |33 |\n",
       "|2020-04-15|Henry     |Alabama|1067|15   |0     |34 |\n",
       "|2020-04-15|Houston   |Alabama|1069|55   |3     |35 |\n",
       "|2020-04-15|Jackson   |Alabama|1071|31   |2     |36 |\n",
       "|2020-04-15|Jefferson |Alabama|1073|628  |17    |37 |\n",
       "|2020-04-15|Lamar     |Alabama|1075|7    |0     |38 |\n",
       "|2020-04-15|Lauderdale|Alabama|1077|22   |4     |39 |\n",
       "|2020-04-15|Lawrence  |Alabama|1079|8    |0     |40 |\n",
       "|2020-04-15|Lee       |Alabama|1081|285  |12    |41 |\n",
       "|2020-04-15|Limestone |Alabama|1083|38   |0     |42 |\n",
       "|2020-04-15|Lowndes   |Alabama|1085|23   |0     |43 |\n",
       "|2020-04-15|Macon     |Alabama|1087|19   |2     |44 |\n",
       "|2020-04-15|Madison   |Alabama|1089|194  |4     |45 |\n",
       "|2020-04-15|Marengo   |Alabama|1091|24   |1     |46 |\n",
       "|2020-04-15|Marion    |Alabama|1093|58   |4     |47 |\n",
       "|2020-04-15|Marshall  |Alabama|1095|109  |2     |48 |\n",
       "|2020-04-15|Mobile    |Alabama|1097|561  |19    |49 |\n",
       "|2020-04-15|Monroe    |Alabama|1099|7    |1     |50 |\n",
       "|2020-04-15|Montgomery|Alabama|1101|189  |5     |51 |\n",
       "|2020-04-15|Morgan    |Alabama|1103|44   |0     |52 |\n",
       "|2020-04-15|Perry     |Alabama|1105|7    |0     |53 |\n",
       "|2020-04-15|Pickens   |Alabama|1107|30   |0     |54 |\n",
       "|2020-04-15|Pike      |Alabama|1109|27   |0     |55 |\n",
       "|2020-04-15|Randolph  |Alabama|1111|45   |4     |56 |\n",
       "|2020-04-15|Russell   |Alabama|1113|31   |0     |57 |\n",
       "|2020-04-15|Shelby    |Alabama|1117|241  |7     |58 |\n",
       "|2020-04-15|St. Clair |Alabama|1115|49   |0     |59 |\n",
       "|2020-04-15|Sumter    |Alabama|1119|30   |0     |60 |\n",
       "|2020-04-15|Talladega |Alabama|1121|40   |1     |61 |\n",
       "|2020-04-15|Tallapoosa|Alabama|1123|149  |7     |62 |\n",
       "|2020-04-15|Tuscaloosa|Alabama|1125|131  |0     |63 |\n",
       "|2020-04-15|Walker    |Alabama|1127|85   |0     |64 |\n",
       "|2020-04-15|Washington|Alabama|1129|12   |1     |65 |\n",
       "|2020-04-15|Wilcox    |Alabama|1131|38   |0     |66 |\n",
       "|2020-04-15|Winston   |Alabama|1133|7    |0     |67 |\n",
       "+----------+----------+-------+----+-----+------+---+"
      ]
     },
     "execution_count": 86,
     "metadata": {},
     "output_type": "execute_result"
    }
   ],
   "source": [
    "spark.sql(\n",
    "    \"\"\"\n",
    "        SELECT \n",
    "        --COUNT(*) AS qty\n",
    "        *,\n",
    "        row_number() over(partition by state order by county) as rn\n",
    "        FROM bronze.covid_nyt_by_date\n",
    "        WHERE date = CAST('2020-04-15' AS DATE)\n",
    "        AND state = \"Alabama\"\n",
    "    \"\"\"\n",
    ")"
   ]
  },
  {
   "cell_type": "code",
   "execution_count": 87,
   "id": "87e77012-dad8-498e-b546-588b6696213d",
   "metadata": {},
   "outputs": [
    {
     "data": {
      "text/html": [
       "<table border='1'>\n",
       "<tr><th></th></tr>\n",
       "</table>\n"
      ],
      "text/plain": [
       "++\n",
       "||\n",
       "++\n",
       "++"
      ]
     },
     "execution_count": 87,
     "metadata": {},
     "output_type": "execute_result"
    }
   ],
   "source": [
    "\"\"\"\n",
    "Create 1st source table, by copying bronze.covid_nyt_by_date and enable CDF feature.\n",
    "a. Simulate streaming-like incremental data arrival with loop and sample read from \n",
    "source and append samples to target table\n",
    "\"\"\"\n",
    "\n",
    "# Create table's structure\n",
    "spark.sql(\n",
    "    \"\"\"\n",
    "        CREATE TABLE default.covid_cdf_source_1\n",
    "        USING DELTA\n",
    "        --PARTITIONED BY (date)\n",
    "        AS \n",
    "        SELECT\n",
    "            *\n",
    "        FROM bronze.covid_nyt_by_date\n",
    "        WHERE date = CAST('2020-04-15' AS DATE)\n",
    "            AND state = \"Alabama\"\n",
    "    \"\"\"\n",
    ")\n"
   ]
  },
  {
   "cell_type": "code",
   "execution_count": 76,
   "id": "23d2f6f1-caff-4db5-a3c6-d3d219cbad5f",
   "metadata": {},
   "outputs": [
    {
     "data": {
      "text/html": [
       "<table border='1'>\n",
       "<tr><th>namespace</th><th>tableName</th><th>isTemporary</th></tr>\n",
       "</table>\n"
      ],
      "text/plain": [
       "+---------+---------+-----------+\n",
       "|namespace|tableName|isTemporary|\n",
       "+---------+---------+-----------+\n",
       "+---------+---------+-----------+"
      ]
     },
     "execution_count": 76,
     "metadata": {},
     "output_type": "execute_result"
    }
   ],
   "source": [
    "spark.sql(\n",
    "    \"\"\"\n",
    "        --SHOW DATABASES\n",
    "        SHOW TABLES FROM silver;\n",
    "    \"\"\"\n",
    ")"
   ]
  },
  {
   "cell_type": "code",
   "execution_count": 77,
   "id": "8b460e3b-f7e9-4363-87f7-762106948378",
   "metadata": {},
   "outputs": [
    {
     "data": {
      "text/html": [
       "<table border='1'>\n",
       "<tr><th></th></tr>\n",
       "</table>\n"
      ],
      "text/plain": [
       "++\n",
       "||\n",
       "++\n",
       "++"
      ]
     },
     "execution_count": 77,
     "metadata": {},
     "output_type": "execute_result"
    }
   ],
   "source": [
    "# Drop TABLE\n",
    "spark.sql(\n",
    "    \"\"\"\n",
    "        DROP TABLE default.covid_cdf_source_1\n",
    "    \"\"\"\n",
    ")"
   ]
  },
  {
   "cell_type": "code",
   "execution_count": 88,
   "id": "fa4a77ab-ac96-4018-a450-3ceea82fd01f",
   "metadata": {},
   "outputs": [
    {
     "data": {
      "text/html": [
       "<table border='1'>\n",
       "<tr><th></th></tr>\n",
       "</table>\n"
      ],
      "text/plain": [
       "++\n",
       "||\n",
       "++\n",
       "++"
      ]
     },
     "execution_count": 88,
     "metadata": {},
     "output_type": "execute_result"
    }
   ],
   "source": [
    "# Enable ChangeDataFeed\n",
    "\n",
    "spark.sql(\n",
    "    \"\"\"\n",
    "        ALTER TABLE default.covid_cdf_source_1\n",
    "        SET TBLPROPERTIES (delta.enableChangeDataFeed = true)\n",
    "    \"\"\"\n",
    ")\n"
   ]
  },
  {
   "cell_type": "code",
   "execution_count": null,
   "id": "40f29f9c-6552-4e2d-bc41-15272702e513",
   "metadata": {},
   "outputs": [],
   "source": [
    "# Validate Table got created and CDF is enabled\n",
    "spark.sql(\n",
    "    \"\"\"\n",
    "        DESCRIBE DETAIL default.covid_cdf_source_1\n",
    "    \"\"\"\n",
    ")"
   ]
  },
  {
   "cell_type": "code",
   "execution_count": 91,
   "id": "724fc9ad-ce5d-489d-8e31-465cf8be2ef9",
   "metadata": {},
   "outputs": [],
   "source": [
    "# Mimic incremental batches of data. Append 5% subset from source table to \n",
    "# covid_nyt_idempotent_fanout_1\n",
    "from datetime import datetime, timedelta\n",
    "from pyspark.sql.functions import col\n",
    "\n",
    "start_ts = datetime.now().strftime(\"%Y-%m-%dT%H:%M:%S\")\n",
    "\n",
    "# date = CAST('2020-04-15' AS DATE)\n",
    "            # AND state = \"Alabama\"\n",
    "\n",
    "for i in range(5):\n",
    "    (\n",
    "        spark\n",
    "        .read\n",
    "        .format(\"delta\")\n",
    "        .load(\"./spark-warehouse/bronze.db/covid_nyt_by_date\")\n",
    "        .filter((col(\"state\") == \"Alabama\") & (col(\"date\") == \"2020-04-15\"))\n",
    "        .sample(0.05)\n",
    "        .write\n",
    "        .format(\"delta\")\n",
    "        .mode(\"append\")\n",
    "        .saveAsTable(\"default.covid_cdf_source_1\")\n",
    "    )\n",
    "\n",
    "    if i == 2:\n",
    "        end_ts = datetime.now().strftime(\"%Y-%m-%dT%H:%M:%S\")\n"
   ]
  },
  {
   "cell_type": "code",
   "execution_count": 127,
   "id": "61645598-fc0c-4bfd-a83b-f45cd87778c3",
   "metadata": {},
   "outputs": [
    {
     "data": {
      "text/html": [
       "<table border='1'>\n",
       "<tr><th>version</th><th>timestamp</th><th>userId</th><th>userName</th><th>operation</th><th>operationParameters</th><th>job</th><th>notebook</th><th>clusterId</th><th>readVersion</th><th>isolationLevel</th><th>isBlindAppend</th><th>operationMetrics</th><th>userMetadata</th><th>engineInfo</th></tr>\n",
       "<tr><td>7</td><td>2025-05-06 14:30:34.353</td><td>NULL</td><td>NULL</td><td>UPDATE</td><td>{predicate -&gt; [&quot;((date#42791 = 2020-04-15) AND upper(state#42793) IN (ALABAMA,ALASKA))&quot;]}</td><td>NULL</td><td>NULL</td><td>NULL</td><td>6</td><td>Serializable</td><td>false</td><td>{numRemovedFiles -&gt; 6, numRemovedBytes -&gt; 20182, numCopiedRows -&gt; 0, numDeletionVectorsAdded -&gt; 0, numDeletionVectorsRemoved -&gt; 0, numAddedChangeFiles -&gt; 3, executionTimeMs -&gt; 2143, numDeletionVectorsUpdated -&gt; 0, scanTimeMs -&gt; 359, numAddedFiles -&gt; 3, numUpdatedRows -&gt; 84, numAddedBytes -&gt; 7404, rewriteTimeMs -&gt; 1784}</td><td>NULL</td><td>Apache-Spark/3.5.4 Delta-Lake/3.2.0</td></tr>\n",
       "<tr><td>6</td><td>2025-05-06 14:22:11.91</td><td>NULL</td><td>NULL</td><td>WRITE</td><td>{mode -&gt; Append, partitionBy -&gt; []}</td><td>NULL</td><td>NULL</td><td>NULL</td><td>5</td><td>Serializable</td><td>true</td><td>{numFiles -&gt; 1, numOutputRows -&gt; 4, numOutputBytes -&gt; 1807}</td><td>NULL</td><td>Apache-Spark/3.5.4 Delta-Lake/3.2.0</td></tr>\n",
       "<tr><td>5</td><td>2025-05-06 14:22:11.306</td><td>NULL</td><td>NULL</td><td>WRITE</td><td>{mode -&gt; Append, partitionBy -&gt; []}</td><td>NULL</td><td>NULL</td><td>NULL</td><td>4</td><td>Serializable</td><td>true</td><td>{numFiles -&gt; 1, numOutputRows -&gt; 1, numOutputBytes -&gt; 1654}</td><td>NULL</td><td>Apache-Spark/3.5.4 Delta-Lake/3.2.0</td></tr>\n",
       "<tr><td>4</td><td>2025-05-06 14:22:10.66</td><td>NULL</td><td>NULL</td><td>WRITE</td><td>{mode -&gt; Append, partitionBy -&gt; []}</td><td>NULL</td><td>NULL</td><td>NULL</td><td>3</td><td>Serializable</td><td>true</td><td>{numFiles -&gt; 1, numOutputRows -&gt; 2, numOutputBytes -&gt; 1761}</td><td>NULL</td><td>Apache-Spark/3.5.4 Delta-Lake/3.2.0</td></tr>\n",
       "<tr><td>3</td><td>2025-05-06 14:22:09.981</td><td>NULL</td><td>NULL</td><td>WRITE</td><td>{mode -&gt; Append, partitionBy -&gt; []}</td><td>NULL</td><td>NULL</td><td>NULL</td><td>2</td><td>Serializable</td><td>true</td><td>{numFiles -&gt; 1, numOutputRows -&gt; 2, numOutputBytes -&gt; 1722}</td><td>NULL</td><td>Apache-Spark/3.5.4 Delta-Lake/3.2.0</td></tr>\n",
       "<tr><td>2</td><td>2025-05-06 14:22:09.232</td><td>NULL</td><td>NULL</td><td>WRITE</td><td>{mode -&gt; Append, partitionBy -&gt; []}</td><td>NULL</td><td>NULL</td><td>NULL</td><td>1</td><td>Serializable</td><td>true</td><td>{numFiles -&gt; 1, numOutputRows -&gt; 8, numOutputBytes -&gt; 1888}</td><td>NULL</td><td>Apache-Spark/3.5.4 Delta-Lake/3.2.0</td></tr>\n",
       "<tr><td>1</td><td>2025-05-06 14:19:24.866</td><td>NULL</td><td>NULL</td><td>SET TBLPROPERTIES</td><td>{properties -&gt; {&quot;delta.enableChangeDataFeed&quot;:&quot;true&quot;}}</td><td>NULL</td><td>NULL</td><td>NULL</td><td>0</td><td>Serializable</td><td>true</td><td>{}</td><td>NULL</td><td>Apache-Spark/3.5.4 Delta-Lake/3.2.0</td></tr>\n",
       "<tr><td>0</td><td>2025-05-06 14:19:01.248</td><td>NULL</td><td>NULL</td><td>CREATE TABLE AS SELECT</td><td>{partitionBy -&gt; [], clusterBy -&gt; [], description -&gt; NULL, isManaged -&gt; true, properties -&gt; {}}</td><td>NULL</td><td>NULL</td><td>NULL</td><td>NULL</td><td>Serializable</td><td>true</td><td>{numFiles -&gt; 1, numOutputRows -&gt; 67, numOutputBytes -&gt; 2988}</td><td>NULL</td><td>Apache-Spark/3.5.4 Delta-Lake/3.2.0</td></tr>\n",
       "</table>\n"
      ],
      "text/plain": [
       "+-------+-----------------------+------+--------+----------------------+----------------------------------------------------------------------------------------------+----+--------+---------+-----------+--------------+-------------+--------------------------------------------------------------------------------------------------------------------------------------------------------------------------------------------------------------------------------------------------------------------------------------------------------------------------------+------------+-----------------------------------+\n",
       "|version|timestamp              |userId|userName|operation             |operationParameters                                                                           |job |notebook|clusterId|readVersion|isolationLevel|isBlindAppend|operationMetrics                                                                                                                                                                                                                                                                                                                |userMetadata|engineInfo                         |\n",
       "+-------+-----------------------+------+--------+----------------------+----------------------------------------------------------------------------------------------+----+--------+---------+-----------+--------------+-------------+--------------------------------------------------------------------------------------------------------------------------------------------------------------------------------------------------------------------------------------------------------------------------------------------------------------------------------+------------+-----------------------------------+\n",
       "|7      |2025-05-06 14:30:34.353|NULL  |NULL    |UPDATE                |{predicate -> [\"((date#42791 = 2020-04-15) AND upper(state#42793) IN (ALABAMA,ALASKA))\"]}     |NULL|NULL    |NULL     |6          |Serializable  |false        |{numRemovedFiles -> 6, numRemovedBytes -> 20182, numCopiedRows -> 0, numDeletionVectorsAdded -> 0, numDeletionVectorsRemoved -> 0, numAddedChangeFiles -> 3, executionTimeMs -> 2143, numDeletionVectorsUpdated -> 0, scanTimeMs -> 359, numAddedFiles -> 3, numUpdatedRows -> 84, numAddedBytes -> 7404, rewriteTimeMs -> 1784}|NULL        |Apache-Spark/3.5.4 Delta-Lake/3.2.0|\n",
       "|6      |2025-05-06 14:22:11.91 |NULL  |NULL    |WRITE                 |{mode -> Append, partitionBy -> []}                                                           |NULL|NULL    |NULL     |5          |Serializable  |true         |{numFiles -> 1, numOutputRows -> 4, numOutputBytes -> 1807}                                                                                                                                                                                                                                                                     |NULL        |Apache-Spark/3.5.4 Delta-Lake/3.2.0|\n",
       "|5      |2025-05-06 14:22:11.306|NULL  |NULL    |WRITE                 |{mode -> Append, partitionBy -> []}                                                           |NULL|NULL    |NULL     |4          |Serializable  |true         |{numFiles -> 1, numOutputRows -> 1, numOutputBytes -> 1654}                                                                                                                                                                                                                                                                     |NULL        |Apache-Spark/3.5.4 Delta-Lake/3.2.0|\n",
       "|4      |2025-05-06 14:22:10.66 |NULL  |NULL    |WRITE                 |{mode -> Append, partitionBy -> []}                                                           |NULL|NULL    |NULL     |3          |Serializable  |true         |{numFiles -> 1, numOutputRows -> 2, numOutputBytes -> 1761}                                                                                                                                                                                                                                                                     |NULL        |Apache-Spark/3.5.4 Delta-Lake/3.2.0|\n",
       "|3      |2025-05-06 14:22:09.981|NULL  |NULL    |WRITE                 |{mode -> Append, partitionBy -> []}                                                           |NULL|NULL    |NULL     |2          |Serializable  |true         |{numFiles -> 1, numOutputRows -> 2, numOutputBytes -> 1722}                                                                                                                                                                                                                                                                     |NULL        |Apache-Spark/3.5.4 Delta-Lake/3.2.0|\n",
       "|2      |2025-05-06 14:22:09.232|NULL  |NULL    |WRITE                 |{mode -> Append, partitionBy -> []}                                                           |NULL|NULL    |NULL     |1          |Serializable  |true         |{numFiles -> 1, numOutputRows -> 8, numOutputBytes -> 1888}                                                                                                                                                                                                                                                                     |NULL        |Apache-Spark/3.5.4 Delta-Lake/3.2.0|\n",
       "|1      |2025-05-06 14:19:24.866|NULL  |NULL    |SET TBLPROPERTIES     |{properties -> {\"delta.enableChangeDataFeed\":\"true\"}}                                         |NULL|NULL    |NULL     |0          |Serializable  |true         |{}                                                                                                                                                                                                                                                                                                                              |NULL        |Apache-Spark/3.5.4 Delta-Lake/3.2.0|\n",
       "|0      |2025-05-06 14:19:01.248|NULL  |NULL    |CREATE TABLE AS SELECT|{partitionBy -> [], clusterBy -> [], description -> NULL, isManaged -> true, properties -> {}}|NULL|NULL    |NULL     |NULL       |Serializable  |true         |{numFiles -> 1, numOutputRows -> 67, numOutputBytes -> 2988}                                                                                                                                                                                                                                                                    |NULL        |Apache-Spark/3.5.4 Delta-Lake/3.2.0|\n",
       "+-------+-----------------------+------+--------+----------------------+----------------------------------------------------------------------------------------------+----+--------+---------+-----------+--------------+-------------+--------------------------------------------------------------------------------------------------------------------------------------------------------------------------------------------------------------------------------------------------------------------------------------------------------------------------------+------------+-----------------------------------+"
      ]
     },
     "execution_count": 127,
     "metadata": {},
     "output_type": "execute_result"
    }
   ],
   "source": [
    "spark.sql(\n",
    "    \"\"\"\n",
    "        DESCRIBE HISTORY default.covid_cdf_source_1\n",
    "    \"\"\"\n",
    ")"
   ]
  },
  {
   "cell_type": "code",
   "execution_count": null,
   "id": "749b824e-e86e-4b7d-8763-eac42deafdee",
   "metadata": {
    "scrolled": true
   },
   "outputs": [],
   "source": [
    "spark.sql(\n",
    "    \"\"\"\n",
    "        SELECT \n",
    "        *,\n",
    "        row_number() over(partition by state order by county) as rn,\n",
    "        rank() over(partition by state order by county) as rank, \n",
    "        input_file_name() as file_name\n",
    "        FROM default.covid_cdf_source_1 version as of 6\n",
    "    \"\"\"\n",
    ")"
   ]
  },
  {
   "cell_type": "code",
   "execution_count": 30,
   "id": "a63980c0-8f4b-4c1a-97de-324402cea24e",
   "metadata": {},
   "outputs": [],
   "source": [
    "# Not sure why, but let it sleep 10 seconds!\n",
    "from time import sleep\n",
    "sleep(10)"
   ]
  },
  {
   "cell_type": "code",
   "execution_count": 97,
   "id": "ba7aaa11-2e92-4160-b2d5-d3aae6a8556a",
   "metadata": {},
   "outputs": [],
   "source": [
    "\"\"\"\n",
    "3. Implement `write_to_delta_lake_table_idempotent` method that takes batch_df and\n",
    "    batch_id and create DataFrameWriter / not streaming / that writes to covid_nyt_idempotent_table_1 and covid_nyt_idempotent_table_2  \n",
    "    a. Apply options `txnVersion = batch_id` and `txnAppId = delta_idempotency_example`  \n",
    "\"\"\"\n",
    "app_id = \"delta_idempotency_example\"\n",
    "\n",
    "def write_to_delta_lake_table_idempotent(batch_df, batch_id):\n",
    "    # Target 1: \n",
    "    (\n",
    "        batch_df\n",
    "        .write\n",
    "        .format(\"delta\")\n",
    "        .mode(\"append\")\n",
    "        .option(\"txnVersion\", batch_id)\n",
    "        .option(\"txnAppId\", app_id)\n",
    "        .option(\"mergeSchema\", \"true\")\n",
    "        .save(\"./spark-warehouse/covid_cdf_idempotent_1\")\n",
    "    )\n",
    "    # Target 2\n",
    "    (\n",
    "        batch_df\n",
    "        .write\n",
    "        .format(\"delta\")\n",
    "        .mode(\"append\")\n",
    "        .option(\"txnVersion\", batch_id)\n",
    "        .option(\"txnAppId\", app_id)\n",
    "        .option(\"mergeSchema\", \"true\")\n",
    "        .save(\"./spark-warehouse/covid_cdf_idempotent_2\")\n",
    "    )"
   ]
  },
  {
   "cell_type": "code",
   "execution_count": 98,
   "id": "8658dfb9-77fd-4a27-9abb-edfb68b163f2",
   "metadata": {},
   "outputs": [],
   "source": [
    "\"\"\"\n",
    "4. Create readStream from source table from \n",
    "`step 1` using `readChangeDataFeed = True` and `startingVersion = 1`\n",
    "\"\"\"\n",
    "\n",
    "cdf_stream = (\n",
    "    spark\n",
    "    .readStream\n",
    "    .format(\"delta\")\n",
    "    .option(\"readChangeFeed\", \"true\")\n",
    "    .option(\"startingVersion\", 1)\n",
    "    .table(\"default.covid_cdf_source_1\")\n",
    ")"
   ]
  },
  {
   "cell_type": "code",
   "execution_count": 99,
   "id": "c0d52a59-850b-462a-9986-8127033ed330",
   "metadata": {},
   "outputs": [
    {
     "data": {
      "text/plain": [
       "<pyspark.sql.streaming.query.StreamingQuery at 0x216d51006d0>"
      ]
     },
     "execution_count": 99,
     "metadata": {},
     "output_type": "execute_result"
    }
   ],
   "source": [
    "\"\"\"\n",
    "5. Create writeStream using streaming query from `step 5` to a delta table using \n",
    "`forEachBatch` and applying `write_to_delta_lake_table_idempotent` together with   \n",
    "`outputMode = update`\n",
    "\"\"\"\n",
    "\n",
    "(\n",
    "    cdf_stream\n",
    "    .writeStream\n",
    "    .format(\"delta\")\n",
    "    .queryName(\"CDF Pipeline - Idempotent Fanout\")\n",
    "    .foreachBatch(write_to_delta_lake_table_idempotent)\n",
    "    .outputMode(\"update\")\n",
    "    .start()\n",
    ")"
   ]
  },
  {
   "cell_type": "code",
   "execution_count": null,
   "id": "fac44bf0-eb0b-47c2-a75c-68cdc7c5ecec",
   "metadata": {},
   "outputs": [],
   "source": [
    "\"\"\"\n",
    "6. Observe and analyze the data/outcome across all tables and especially \n",
    "the target idempotent tables\n",
    "\"\"\""
   ]
  },
  {
   "cell_type": "code",
   "execution_count": 100,
   "id": "d9abcb0d-1702-4a98-908b-7fbbf0a9475a",
   "metadata": {},
   "outputs": [],
   "source": [
    "from delta import DeltaTable\n",
    "from pyspark.sql.functions import col\n",
    "\n",
    "dt_covid_cdf_idempotent_1 = DeltaTable.forPath(spark, \"./spark-warehouse/covid_cdf_idempotent_1\")\n",
    "\n",
    "dt_covid_cdf_idempotent_2 = DeltaTable.forPath(spark, \"./spark-warehouse/covid_cdf_idempotent_2\")\n",
    "\n",
    "df_covid_cdf_idempotent_1 = dt_covid_cdf_idempotent_1.toDF()\n",
    "df_covid_cdf_idempotent_2 = dt_covid_cdf_idempotent_2.toDF()\n"
   ]
  },
  {
   "cell_type": "code",
   "execution_count": 103,
   "id": "27581d1c-3d93-4e01-b784-2d6bb8cc5503",
   "metadata": {
    "scrolled": true
   },
   "outputs": [
    {
     "data": {
      "text/html": [
       "<table border='1'>\n",
       "<tr><th>date</th><th>county</th><th>state</th><th>fips</th><th>cases</th><th>deaths</th><th>_change_type</th><th>_commit_version</th><th>_commit_timestamp</th></tr>\n",
       "<tr><td>2020-04-15</td><td>Bibb</td><td>Alabama</td><td>1007</td><td>19</td><td>0</td><td>insert</td><td>6</td><td>2025-05-06 14:22:11.91</td></tr>\n",
       "<tr><td>2020-04-15</td><td>Cleburne</td><td>Alabama</td><td>1029</td><td>12</td><td>0</td><td>insert</td><td>4</td><td>2025-05-06 14:22:10.66</td></tr>\n",
       "<tr><td>2020-04-15</td><td>Coffee</td><td>Alabama</td><td>1031</td><td>43</td><td>0</td><td>insert</td><td>3</td><td>2025-05-06 14:22:09.981</td></tr>\n",
       "<tr><td>2020-04-15</td><td>Colbert</td><td>Alabama</td><td>1033</td><td>11</td><td>1</td><td>insert</td><td>2</td><td>2025-05-06 14:22:09.232</td></tr>\n",
       "<tr><td>2020-04-15</td><td>Coosa</td><td>Alabama</td><td>1037</td><td>20</td><td>1</td><td>insert</td><td>3</td><td>2025-05-06 14:22:09.981</td></tr>\n",
       "<tr><td>2020-04-15</td><td>Crenshaw</td><td>Alabama</td><td>1041</td><td>4</td><td>0</td><td>insert</td><td>6</td><td>2025-05-06 14:22:11.91</td></tr>\n",
       "<tr><td>2020-04-15</td><td>Cullman</td><td>Alabama</td><td>1043</td><td>40</td><td>1</td><td>insert</td><td>2</td><td>2025-05-06 14:22:09.232</td></tr>\n",
       "<tr><td>2020-04-15</td><td>Hale</td><td>Alabama</td><td>1065</td><td>20</td><td>0</td><td>insert</td><td>2</td><td>2025-05-06 14:22:09.232</td></tr>\n",
       "<tr><td>2020-04-15</td><td>Jefferson</td><td>Alabama</td><td>1073</td><td>628</td><td>17</td><td>insert</td><td>6</td><td>2025-05-06 14:22:11.91</td></tr>\n",
       "<tr><td>2020-04-15</td><td>Lee</td><td>Alabama</td><td>1081</td><td>285</td><td>12</td><td>insert</td><td>2</td><td>2025-05-06 14:22:09.232</td></tr>\n",
       "<tr><td>2020-04-15</td><td>Perry</td><td>Alabama</td><td>1105</td><td>7</td><td>0</td><td>insert</td><td>2</td><td>2025-05-06 14:22:09.232</td></tr>\n",
       "<tr><td>2020-04-15</td><td>Pickens</td><td>Alabama</td><td>1107</td><td>30</td><td>0</td><td>insert</td><td>2</td><td>2025-05-06 14:22:09.232</td></tr>\n",
       "<tr><td>2020-04-15</td><td>Pike</td><td>Alabama</td><td>1109</td><td>27</td><td>0</td><td>insert</td><td>2</td><td>2025-05-06 14:22:09.232</td></tr>\n",
       "<tr><td>2020-04-15</td><td>St. Clair</td><td>Alabama</td><td>1115</td><td>49</td><td>0</td><td>insert</td><td>6</td><td>2025-05-06 14:22:11.91</td></tr>\n",
       "<tr><td>2020-04-15</td><td>Tallapoosa</td><td>Alabama</td><td>1123</td><td>149</td><td>7</td><td>insert</td><td>2</td><td>2025-05-06 14:22:09.232</td></tr>\n",
       "<tr><td>2020-04-15</td><td>Walker</td><td>Alabama</td><td>1127</td><td>85</td><td>0</td><td>insert</td><td>4</td><td>2025-05-06 14:22:10.66</td></tr>\n",
       "<tr><td>2020-04-15</td><td>Wilcox</td><td>Alabama</td><td>1131</td><td>38</td><td>0</td><td>insert</td><td>5</td><td>2025-05-06 14:22:11.306</td></tr>\n",
       "</table>\n"
      ],
      "text/plain": [
       "+----------+----------+-------+----+-----+------+------------+---------------+-----------------------+\n",
       "|date      |county    |state  |fips|cases|deaths|_change_type|_commit_version|_commit_timestamp      |\n",
       "+----------+----------+-------+----+-----+------+------------+---------------+-----------------------+\n",
       "|2020-04-15|Bibb      |Alabama|1007|19   |0     |insert      |6              |2025-05-06 14:22:11.91 |\n",
       "|2020-04-15|Cleburne  |Alabama|1029|12   |0     |insert      |4              |2025-05-06 14:22:10.66 |\n",
       "|2020-04-15|Coffee    |Alabama|1031|43   |0     |insert      |3              |2025-05-06 14:22:09.981|\n",
       "|2020-04-15|Colbert   |Alabama|1033|11   |1     |insert      |2              |2025-05-06 14:22:09.232|\n",
       "|2020-04-15|Coosa     |Alabama|1037|20   |1     |insert      |3              |2025-05-06 14:22:09.981|\n",
       "|2020-04-15|Crenshaw  |Alabama|1041|4    |0     |insert      |6              |2025-05-06 14:22:11.91 |\n",
       "|2020-04-15|Cullman   |Alabama|1043|40   |1     |insert      |2              |2025-05-06 14:22:09.232|\n",
       "|2020-04-15|Hale      |Alabama|1065|20   |0     |insert      |2              |2025-05-06 14:22:09.232|\n",
       "|2020-04-15|Jefferson |Alabama|1073|628  |17    |insert      |6              |2025-05-06 14:22:11.91 |\n",
       "|2020-04-15|Lee       |Alabama|1081|285  |12    |insert      |2              |2025-05-06 14:22:09.232|\n",
       "|2020-04-15|Perry     |Alabama|1105|7    |0     |insert      |2              |2025-05-06 14:22:09.232|\n",
       "|2020-04-15|Pickens   |Alabama|1107|30   |0     |insert      |2              |2025-05-06 14:22:09.232|\n",
       "|2020-04-15|Pike      |Alabama|1109|27   |0     |insert      |2              |2025-05-06 14:22:09.232|\n",
       "|2020-04-15|St. Clair |Alabama|1115|49   |0     |insert      |6              |2025-05-06 14:22:11.91 |\n",
       "|2020-04-15|Tallapoosa|Alabama|1123|149  |7     |insert      |2              |2025-05-06 14:22:09.232|\n",
       "|2020-04-15|Walker    |Alabama|1127|85   |0     |insert      |4              |2025-05-06 14:22:10.66 |\n",
       "|2020-04-15|Wilcox    |Alabama|1131|38   |0     |insert      |5              |2025-05-06 14:22:11.306|\n",
       "+----------+----------+-------+----+-----+------+------------+---------------+-----------------------+"
      ]
     },
     "execution_count": 103,
     "metadata": {},
     "output_type": "execute_result"
    }
   ],
   "source": [
    "df_covid_cdf_idempotent_1.orderBy(col(\"county\"))#.filter(col(\"date\") == \"2020-04-15\")"
   ]
  },
  {
   "cell_type": "code",
   "execution_count": 104,
   "id": "e2592b67-794b-482b-8aa5-6aac4301afb9",
   "metadata": {
    "scrolled": true
   },
   "outputs": [
    {
     "data": {
      "text/html": [
       "<table border='1'>\n",
       "<tr><th>date</th><th>county</th><th>state</th><th>fips</th><th>cases</th><th>deaths</th><th>_change_type</th><th>_commit_version</th><th>_commit_timestamp</th></tr>\n",
       "<tr><td>2020-04-15</td><td>Bibb</td><td>Alabama</td><td>1007</td><td>19</td><td>0</td><td>insert</td><td>6</td><td>2025-05-06 14:22:11.91</td></tr>\n",
       "<tr><td>2020-04-15</td><td>Cleburne</td><td>Alabama</td><td>1029</td><td>12</td><td>0</td><td>insert</td><td>4</td><td>2025-05-06 14:22:10.66</td></tr>\n",
       "<tr><td>2020-04-15</td><td>Coffee</td><td>Alabama</td><td>1031</td><td>43</td><td>0</td><td>insert</td><td>3</td><td>2025-05-06 14:22:09.981</td></tr>\n",
       "<tr><td>2020-04-15</td><td>Colbert</td><td>Alabama</td><td>1033</td><td>11</td><td>1</td><td>insert</td><td>2</td><td>2025-05-06 14:22:09.232</td></tr>\n",
       "<tr><td>2020-04-15</td><td>Coosa</td><td>Alabama</td><td>1037</td><td>20</td><td>1</td><td>insert</td><td>3</td><td>2025-05-06 14:22:09.981</td></tr>\n",
       "<tr><td>2020-04-15</td><td>Crenshaw</td><td>Alabama</td><td>1041</td><td>4</td><td>0</td><td>insert</td><td>6</td><td>2025-05-06 14:22:11.91</td></tr>\n",
       "<tr><td>2020-04-15</td><td>Cullman</td><td>Alabama</td><td>1043</td><td>40</td><td>1</td><td>insert</td><td>2</td><td>2025-05-06 14:22:09.232</td></tr>\n",
       "<tr><td>2020-04-15</td><td>Hale</td><td>Alabama</td><td>1065</td><td>20</td><td>0</td><td>insert</td><td>2</td><td>2025-05-06 14:22:09.232</td></tr>\n",
       "<tr><td>2020-04-15</td><td>Jefferson</td><td>Alabama</td><td>1073</td><td>628</td><td>17</td><td>insert</td><td>6</td><td>2025-05-06 14:22:11.91</td></tr>\n",
       "<tr><td>2020-04-15</td><td>Lee</td><td>Alabama</td><td>1081</td><td>285</td><td>12</td><td>insert</td><td>2</td><td>2025-05-06 14:22:09.232</td></tr>\n",
       "<tr><td>2020-04-15</td><td>Perry</td><td>Alabama</td><td>1105</td><td>7</td><td>0</td><td>insert</td><td>2</td><td>2025-05-06 14:22:09.232</td></tr>\n",
       "<tr><td>2020-04-15</td><td>Pickens</td><td>Alabama</td><td>1107</td><td>30</td><td>0</td><td>insert</td><td>2</td><td>2025-05-06 14:22:09.232</td></tr>\n",
       "<tr><td>2020-04-15</td><td>Pike</td><td>Alabama</td><td>1109</td><td>27</td><td>0</td><td>insert</td><td>2</td><td>2025-05-06 14:22:09.232</td></tr>\n",
       "<tr><td>2020-04-15</td><td>St. Clair</td><td>Alabama</td><td>1115</td><td>49</td><td>0</td><td>insert</td><td>6</td><td>2025-05-06 14:22:11.91</td></tr>\n",
       "<tr><td>2020-04-15</td><td>Tallapoosa</td><td>Alabama</td><td>1123</td><td>149</td><td>7</td><td>insert</td><td>2</td><td>2025-05-06 14:22:09.232</td></tr>\n",
       "<tr><td>2020-04-15</td><td>Walker</td><td>Alabama</td><td>1127</td><td>85</td><td>0</td><td>insert</td><td>4</td><td>2025-05-06 14:22:10.66</td></tr>\n",
       "<tr><td>2020-04-15</td><td>Wilcox</td><td>Alabama</td><td>1131</td><td>38</td><td>0</td><td>insert</td><td>5</td><td>2025-05-06 14:22:11.306</td></tr>\n",
       "</table>\n"
      ],
      "text/plain": [
       "+----------+----------+-------+----+-----+------+------------+---------------+-----------------------+\n",
       "|date      |county    |state  |fips|cases|deaths|_change_type|_commit_version|_commit_timestamp      |\n",
       "+----------+----------+-------+----+-----+------+------------+---------------+-----------------------+\n",
       "|2020-04-15|Bibb      |Alabama|1007|19   |0     |insert      |6              |2025-05-06 14:22:11.91 |\n",
       "|2020-04-15|Cleburne  |Alabama|1029|12   |0     |insert      |4              |2025-05-06 14:22:10.66 |\n",
       "|2020-04-15|Coffee    |Alabama|1031|43   |0     |insert      |3              |2025-05-06 14:22:09.981|\n",
       "|2020-04-15|Colbert   |Alabama|1033|11   |1     |insert      |2              |2025-05-06 14:22:09.232|\n",
       "|2020-04-15|Coosa     |Alabama|1037|20   |1     |insert      |3              |2025-05-06 14:22:09.981|\n",
       "|2020-04-15|Crenshaw  |Alabama|1041|4    |0     |insert      |6              |2025-05-06 14:22:11.91 |\n",
       "|2020-04-15|Cullman   |Alabama|1043|40   |1     |insert      |2              |2025-05-06 14:22:09.232|\n",
       "|2020-04-15|Hale      |Alabama|1065|20   |0     |insert      |2              |2025-05-06 14:22:09.232|\n",
       "|2020-04-15|Jefferson |Alabama|1073|628  |17    |insert      |6              |2025-05-06 14:22:11.91 |\n",
       "|2020-04-15|Lee       |Alabama|1081|285  |12    |insert      |2              |2025-05-06 14:22:09.232|\n",
       "|2020-04-15|Perry     |Alabama|1105|7    |0     |insert      |2              |2025-05-06 14:22:09.232|\n",
       "|2020-04-15|Pickens   |Alabama|1107|30   |0     |insert      |2              |2025-05-06 14:22:09.232|\n",
       "|2020-04-15|Pike      |Alabama|1109|27   |0     |insert      |2              |2025-05-06 14:22:09.232|\n",
       "|2020-04-15|St. Clair |Alabama|1115|49   |0     |insert      |6              |2025-05-06 14:22:11.91 |\n",
       "|2020-04-15|Tallapoosa|Alabama|1123|149  |7     |insert      |2              |2025-05-06 14:22:09.232|\n",
       "|2020-04-15|Walker    |Alabama|1127|85   |0     |insert      |4              |2025-05-06 14:22:10.66 |\n",
       "|2020-04-15|Wilcox    |Alabama|1131|38   |0     |insert      |5              |2025-05-06 14:22:11.306|\n",
       "+----------+----------+-------+----+-----+------+------------+---------------+-----------------------+"
      ]
     },
     "execution_count": 104,
     "metadata": {},
     "output_type": "execute_result"
    }
   ],
   "source": [
    "df_covid_cdf_idempotent_2.orderBy(col(\"county\"))#.filter(col(\"date\") == \"2020-04-15\")"
   ]
  },
  {
   "cell_type": "code",
   "execution_count": 44,
   "id": "c1935977-3306-44a1-8ccf-df237d577ca2",
   "metadata": {},
   "outputs": [
    {
     "data": {
      "text/plain": [
       "'\\n7. Update 5 rows in source and see how data is propagated to both target tables\\n'"
      ]
     },
     "execution_count": 44,
     "metadata": {},
     "output_type": "execute_result"
    }
   ],
   "source": [
    "\"\"\"\n",
    "7. Update 5 rows in source and see how data is propagated to both target tables\n",
    "\"\"\""
   ]
  },
  {
   "cell_type": "code",
   "execution_count": 105,
   "id": "9cd6723d-4cc6-4bdd-8502-15d562ee1b0d",
   "metadata": {},
   "outputs": [
    {
     "data": {
      "text/html": [
       "<table border='1'>\n",
       "<tr><th>num_affected_rows</th></tr>\n",
       "<tr><td>84</td></tr>\n",
       "</table>\n"
      ],
      "text/plain": [
       "+-----------------+\n",
       "|num_affected_rows|\n",
       "+-----------------+\n",
       "|84               |\n",
       "+-----------------+"
      ]
     },
     "execution_count": 105,
     "metadata": {},
     "output_type": "execute_result"
    }
   ],
   "source": [
    "spark.sql(\n",
    "    \"\"\"\n",
    "        UPDATE default.covid_cdf_source_1\n",
    "        SET date=current_date()\n",
    "        WHERE date = CAST('2020-04-15' AS date)\n",
    "        AND UPPER(state) IN (\"ALABAMA\", \"ALASKA\")\n",
    "    \"\"\"\n",
    ")"
   ]
  },
  {
   "cell_type": "code",
   "execution_count": 106,
   "id": "c3da2d14-ba05-4e36-97ca-ab18aa994e37",
   "metadata": {},
   "outputs": [],
   "source": [
    "from delta import DeltaTable\n",
    "from pyspark.sql.functions import col\n",
    "\n",
    "dt2_covid_cdf_idempotent_1 = DeltaTable.forPath(spark, \"./spark-warehouse/covid_cdf_idempotent_1\")\n",
    "\n",
    "dt2_covid_cdf_idempotent_2 = DeltaTable.forPath(spark, \"./spark-warehouse/covid_cdf_idempotent_2\")\n",
    "\n",
    "df2_covid_cdf_idempotent_1 = dt2_covid_cdf_idempotent_1.toDF()\n",
    "df2_covid_cdf_idempotent_2 = dt2_covid_cdf_idempotent_2.toDF()\n"
   ]
  },
  {
   "cell_type": "code",
   "execution_count": 107,
   "id": "62e8b3bf-c478-475b-908a-4010316a0573",
   "metadata": {},
   "outputs": [
    {
     "data": {
      "text/html": [
       "<table border='1'>\n",
       "<tr><th>date</th><th>county</th><th>state</th><th>fips</th><th>cases</th><th>deaths</th><th>_change_type</th><th>_commit_version</th><th>_commit_timestamp</th></tr>\n",
       "<tr><td>2020-04-15</td><td>Jefferson</td><td>Alabama</td><td>1073</td><td>628</td><td>17</td><td>insert</td><td>6</td><td>2025-05-06 14:22:11.91</td></tr>\n",
       "<tr><td>2020-04-15</td><td>Jefferson</td><td>Alabama</td><td>1073</td><td>628</td><td>17</td><td>update_preimage</td><td>7</td><td>2025-05-06 14:30:34.353</td></tr>\n",
       "<tr><td>2020-04-15</td><td>Jefferson</td><td>Alabama</td><td>1073</td><td>628</td><td>17</td><td>update_preimage</td><td>7</td><td>2025-05-06 14:30:34.353</td></tr>\n",
       "<tr><td>2025-05-06</td><td>Jefferson</td><td>Alabama</td><td>1073</td><td>628</td><td>17</td><td>update_postimage</td><td>7</td><td>2025-05-06 14:30:34.353</td></tr>\n",
       "<tr><td>2025-05-06</td><td>Jefferson</td><td>Alabama</td><td>1073</td><td>628</td><td>17</td><td>update_postimage</td><td>7</td><td>2025-05-06 14:30:34.353</td></tr>\n",
       "</table>\n"
      ],
      "text/plain": [
       "+----------+---------+-------+----+-----+------+----------------+---------------+-----------------------+\n",
       "|date      |county   |state  |fips|cases|deaths|_change_type    |_commit_version|_commit_timestamp      |\n",
       "+----------+---------+-------+----+-----+------+----------------+---------------+-----------------------+\n",
       "|2020-04-15|Jefferson|Alabama|1073|628  |17    |insert          |6              |2025-05-06 14:22:11.91 |\n",
       "|2020-04-15|Jefferson|Alabama|1073|628  |17    |update_preimage |7              |2025-05-06 14:30:34.353|\n",
       "|2020-04-15|Jefferson|Alabama|1073|628  |17    |update_preimage |7              |2025-05-06 14:30:34.353|\n",
       "|2025-05-06|Jefferson|Alabama|1073|628  |17    |update_postimage|7              |2025-05-06 14:30:34.353|\n",
       "|2025-05-06|Jefferson|Alabama|1073|628  |17    |update_postimage|7              |2025-05-06 14:30:34.353|\n",
       "+----------+---------+-------+----+-----+------+----------------+---------------+-----------------------+"
      ]
     },
     "execution_count": 107,
     "metadata": {},
     "output_type": "execute_result"
    }
   ],
   "source": [
    "df2_cdf_idmptnt_1_fo = (\n",
    "    df2_covid_cdf_idempotent_1\n",
    "    .filter(\n",
    "        (col(\"state\").isin(\"Alabama\", \"Alaska\")) \n",
    "        & (col(\"county\") == \"Jefferson\")\n",
    "        & (col(\"date\").isin(\"2020-04-15\", \"2025-05-06\"))\n",
    "    )\n",
    "    .orderBy(\n",
    "        col(\"date\"),\n",
    "        col(\"state\"),\n",
    "        col(\"county\"),\n",
    "        col(\"_commit_version\"),\n",
    "        col(\"_commit_timestamp\")\n",
    "    )\n",
    ")\n",
    "\n",
    "df2_cdf_idmptnt_1_fo"
   ]
  },
  {
   "cell_type": "code",
   "execution_count": 108,
   "id": "c4b1922d-785b-484a-b365-2f132c981575",
   "metadata": {},
   "outputs": [
    {
     "data": {
      "text/html": [
       "<table border='1'>\n",
       "<tr><th>date</th><th>county</th><th>state</th><th>fips</th><th>cases</th><th>deaths</th><th>_change_type</th><th>_commit_version</th><th>_commit_timestamp</th></tr>\n",
       "<tr><td>2020-04-15</td><td>Jefferson</td><td>Alabama</td><td>1073</td><td>628</td><td>17</td><td>insert</td><td>6</td><td>2025-05-06 14:22:11.91</td></tr>\n",
       "<tr><td>2020-04-15</td><td>Jefferson</td><td>Alabama</td><td>1073</td><td>628</td><td>17</td><td>update_preimage</td><td>7</td><td>2025-05-06 14:30:34.353</td></tr>\n",
       "<tr><td>2020-04-15</td><td>Jefferson</td><td>Alabama</td><td>1073</td><td>628</td><td>17</td><td>update_preimage</td><td>7</td><td>2025-05-06 14:30:34.353</td></tr>\n",
       "<tr><td>2025-05-06</td><td>Jefferson</td><td>Alabama</td><td>1073</td><td>628</td><td>17</td><td>update_postimage</td><td>7</td><td>2025-05-06 14:30:34.353</td></tr>\n",
       "<tr><td>2025-05-06</td><td>Jefferson</td><td>Alabama</td><td>1073</td><td>628</td><td>17</td><td>update_postimage</td><td>7</td><td>2025-05-06 14:30:34.353</td></tr>\n",
       "</table>\n"
      ],
      "text/plain": [
       "+----------+---------+-------+----+-----+------+----------------+---------------+-----------------------+\n",
       "|date      |county   |state  |fips|cases|deaths|_change_type    |_commit_version|_commit_timestamp      |\n",
       "+----------+---------+-------+----+-----+------+----------------+---------------+-----------------------+\n",
       "|2020-04-15|Jefferson|Alabama|1073|628  |17    |insert          |6              |2025-05-06 14:22:11.91 |\n",
       "|2020-04-15|Jefferson|Alabama|1073|628  |17    |update_preimage |7              |2025-05-06 14:30:34.353|\n",
       "|2020-04-15|Jefferson|Alabama|1073|628  |17    |update_preimage |7              |2025-05-06 14:30:34.353|\n",
       "|2025-05-06|Jefferson|Alabama|1073|628  |17    |update_postimage|7              |2025-05-06 14:30:34.353|\n",
       "|2025-05-06|Jefferson|Alabama|1073|628  |17    |update_postimage|7              |2025-05-06 14:30:34.353|\n",
       "+----------+---------+-------+----+-----+------+----------------+---------------+-----------------------+"
      ]
     },
     "execution_count": 108,
     "metadata": {},
     "output_type": "execute_result"
    }
   ],
   "source": [
    "df2_cdf_idmptnt_2_fo = (\n",
    "    df2_covid_cdf_idempotent_2\n",
    "    .filter(\n",
    "        (col(\"state\").isin(\"Alabama\", \"Alaska\")) \n",
    "        & (col(\"county\") == \"Jefferson\")\n",
    "        & (col(\"date\").isin(\"2020-04-15\", \"2025-05-06\"))\n",
    "    )\n",
    "    .orderBy(\n",
    "        col(\"date\"),\n",
    "        col(\"state\"),\n",
    "        col(\"county\"),\n",
    "        col(\"_commit_version\"),\n",
    "        col(\"_commit_timestamp\")\n",
    "    )\n",
    ")\n",
    "\n",
    "df2_cdf_idmptnt_2_fo"
   ]
  },
  {
   "cell_type": "code",
   "execution_count": 122,
   "id": "ff9aa110-64a7-46e9-bab6-b913c55f4c49",
   "metadata": {},
   "outputs": [
    {
     "data": {
      "text/html": [
       "<table border='1'>\n",
       "<tr><th>version</th><th>timestamp</th><th>userId</th><th>userName</th><th>operation</th><th>operationParameters</th><th>job</th><th>notebook</th><th>clusterId</th><th>readVersion</th><th>isolationLevel</th><th>isBlindAppend</th><th>operationMetrics</th><th>userMetadata</th><th>engineInfo</th></tr>\n",
       "<tr><td>1</td><td>2025-05-06 14:30:35.18</td><td>NULL</td><td>NULL</td><td>WRITE</td><td>{mode -&gt; Append, partitionBy -&gt; []}</td><td>NULL</td><td>NULL</td><td>NULL</td><td>0</td><td>Serializable</td><td>true</td><td>{numFiles -&gt; 3, numOutputRows -&gt; 168, numOutputBytes -&gt; 10247}</td><td>NULL</td><td>Apache-Spark/3.5.4 Delta-Lake/3.2.0</td></tr>\n",
       "<tr><td>0</td><td>2025-05-06 14:27:46.544</td><td>NULL</td><td>NULL</td><td>WRITE</td><td>{mode -&gt; Append, partitionBy -&gt; []}</td><td>NULL</td><td>NULL</td><td>NULL</td><td>NULL</td><td>Serializable</td><td>true</td><td>{numFiles -&gt; 3, numOutputRows -&gt; 17, numOutputBytes -&gt; 8095}</td><td>NULL</td><td>Apache-Spark/3.5.4 Delta-Lake/3.2.0</td></tr>\n",
       "</table>\n"
      ],
      "text/plain": [
       "+-------+-----------------------+------+--------+---------+-----------------------------------+----+--------+---------+-----------+--------------+-------------+--------------------------------------------------------------+------------+-----------------------------------+\n",
       "|version|timestamp              |userId|userName|operation|operationParameters                |job |notebook|clusterId|readVersion|isolationLevel|isBlindAppend|operationMetrics                                              |userMetadata|engineInfo                         |\n",
       "+-------+-----------------------+------+--------+---------+-----------------------------------+----+--------+---------+-----------+--------------+-------------+--------------------------------------------------------------+------------+-----------------------------------+\n",
       "|1      |2025-05-06 14:30:35.18 |NULL  |NULL    |WRITE    |{mode -> Append, partitionBy -> []}|NULL|NULL    |NULL     |0          |Serializable  |true         |{numFiles -> 3, numOutputRows -> 168, numOutputBytes -> 10247}|NULL        |Apache-Spark/3.5.4 Delta-Lake/3.2.0|\n",
       "|0      |2025-05-06 14:27:46.544|NULL  |NULL    |WRITE    |{mode -> Append, partitionBy -> []}|NULL|NULL    |NULL     |NULL       |Serializable  |true         |{numFiles -> 3, numOutputRows -> 17, numOutputBytes -> 8095}  |NULL        |Apache-Spark/3.5.4 Delta-Lake/3.2.0|\n",
       "+-------+-----------------------+------+--------+---------+-----------------------------------+----+--------+---------+-----------+--------------+-------------+--------------------------------------------------------------+------------+-----------------------------------+"
      ]
     },
     "execution_count": 122,
     "metadata": {},
     "output_type": "execute_result"
    }
   ],
   "source": [
    "dt2_covid_cdf_idempotent_1.history()"
   ]
  },
  {
   "cell_type": "code",
   "execution_count": 123,
   "id": "7ae01a42-6ce1-4828-8397-bf27f71778cb",
   "metadata": {},
   "outputs": [
    {
     "data": {
      "text/html": [
       "<table border='1'>\n",
       "<tr><th>version</th><th>timestamp</th><th>userId</th><th>userName</th><th>operation</th><th>operationParameters</th><th>job</th><th>notebook</th><th>clusterId</th><th>readVersion</th><th>isolationLevel</th><th>isBlindAppend</th><th>operationMetrics</th><th>userMetadata</th><th>engineInfo</th></tr>\n",
       "<tr><td>1</td><td>2025-05-06 14:30:35.579</td><td>NULL</td><td>NULL</td><td>WRITE</td><td>{mode -&gt; Append, partitionBy -&gt; []}</td><td>NULL</td><td>NULL</td><td>NULL</td><td>0</td><td>Serializable</td><td>true</td><td>{numFiles -&gt; 3, numOutputRows -&gt; 168, numOutputBytes -&gt; 10247}</td><td>NULL</td><td>Apache-Spark/3.5.4 Delta-Lake/3.2.0</td></tr>\n",
       "<tr><td>0</td><td>2025-05-06 14:27:47.089</td><td>NULL</td><td>NULL</td><td>WRITE</td><td>{mode -&gt; Append, partitionBy -&gt; []}</td><td>NULL</td><td>NULL</td><td>NULL</td><td>NULL</td><td>Serializable</td><td>true</td><td>{numFiles -&gt; 3, numOutputRows -&gt; 17, numOutputBytes -&gt; 8095}</td><td>NULL</td><td>Apache-Spark/3.5.4 Delta-Lake/3.2.0</td></tr>\n",
       "</table>\n"
      ],
      "text/plain": [
       "+-------+-----------------------+------+--------+---------+-----------------------------------+----+--------+---------+-----------+--------------+-------------+--------------------------------------------------------------+------------+-----------------------------------+\n",
       "|version|timestamp              |userId|userName|operation|operationParameters                |job |notebook|clusterId|readVersion|isolationLevel|isBlindAppend|operationMetrics                                              |userMetadata|engineInfo                         |\n",
       "+-------+-----------------------+------+--------+---------+-----------------------------------+----+--------+---------+-----------+--------------+-------------+--------------------------------------------------------------+------------+-----------------------------------+\n",
       "|1      |2025-05-06 14:30:35.579|NULL  |NULL    |WRITE    |{mode -> Append, partitionBy -> []}|NULL|NULL    |NULL     |0          |Serializable  |true         |{numFiles -> 3, numOutputRows -> 168, numOutputBytes -> 10247}|NULL        |Apache-Spark/3.5.4 Delta-Lake/3.2.0|\n",
       "|0      |2025-05-06 14:27:47.089|NULL  |NULL    |WRITE    |{mode -> Append, partitionBy -> []}|NULL|NULL    |NULL     |NULL       |Serializable  |true         |{numFiles -> 3, numOutputRows -> 17, numOutputBytes -> 8095}  |NULL        |Apache-Spark/3.5.4 Delta-Lake/3.2.0|\n",
       "+-------+-----------------------+------+--------+---------+-----------------------------------+----+--------+---------+-----------+--------------+-------------+--------------------------------------------------------------+------------+-----------------------------------+"
      ]
     },
     "execution_count": 123,
     "metadata": {},
     "output_type": "execute_result"
    }
   ],
   "source": [
    "dt2_covid_cdf_idempotent_2.history()"
   ]
  },
  {
   "cell_type": "code",
   "execution_count": null,
   "id": "3ff9bc4f-366e-437c-8325-d7a43d96731b",
   "metadata": {},
   "outputs": [],
   "source": [
    "# from delta.tables import DeltaTable\n",
    "from pyspark.sql.functions import input_file_name\n",
    "\n",
    "# Read version 6 of the Delta table named 'tableX'\n",
    "with_file_name_df = (df2_covid_cdf_idempotent_1\n",
    "    .filter(\"county = 'Jefferson' AND state = 'Alabama'\")\n",
    "    .withColumn(\"input_file_name\", input_file_name())\n",
    ")\n",
    "\n",
    "with_file_name_df"
   ]
  },
  {
   "cell_type": "code",
   "execution_count": 125,
   "id": "935bf754-0b18-48d9-9a05-33c5d4e50581",
   "metadata": {},
   "outputs": [
    {
     "name": "stdout",
     "output_type": "stream",
     "text": [
      "+---------+-------+----------+-----+\n",
      "|   county|  state|      date|count|\n",
      "+---------+-------+----------+-----+\n",
      "|Jefferson|Alabama|2020-04-15|    3|\n",
      "|Jefferson|Alabama|2025-05-06|    2|\n",
      "+---------+-------+----------+-----+\n",
      "\n"
     ]
    }
   ],
   "source": [
    "with_file_name_df.groupBy(\"county\", \"state\", \"date\").count().orderBy(\"count\", ascending=False).show()\n"
   ]
  },
  {
   "cell_type": "markdown",
   "id": "9418b07d-d031-4865-b875-f1bc5cdd7800",
   "metadata": {},
   "source": [
    "# Streaming Updates"
   ]
  },
  {
   "cell_type": "markdown",
   "id": "5d4aaffd-6f5d-40b4-ad58-dcd83d220cb2",
   "metadata": {},
   "source": [
    "### Test Scenario:\n",
    "\n",
    "1. Create table, using `bronze.covid_nyt_by_date` as source and dropDuplicates  \n",
    "    a. This table will be used as target for `Streaming Upsert` test  \n",
    "2. Implement merge/upsert logic using MergeBuilder  \n",
    "    a. Target table covid_table_2 created in previous test  \n",
    "    b. Use `fips`, `date`, `county` and `state` as a composite join key  \n",
    "    c. `whenMatchedDelete` with condition `source._change_type = DELETE`  \n",
    "    d. `whenMatchedUpdate` by updating all columns in target using source  \n",
    "    e. `whenMatchedInsert` by inserting all column in target using source  \n",
    "3.  Create readStream using `readChangeFeed = true` and `startingVersion = 1`\n",
    "    a. Use source source Delta Table from `Idempotent Fanout` / step 1 / as a source\n",
    "4. Create writeStream using streamin query from `step 1`  \n",
    "    a. Format Delta  \n",
    "    b. `foreachBatch` using method from `step 2`  \n",
    "    c. **`outputMode = update`**  \n",
    "       i. TODO: Read a bit more for this outputMode, since it will be first time to use it   "
   ]
  },
  {
   "cell_type": "code",
   "execution_count": null,
   "id": "8a966aa6-0f8f-4caf-8869-ac6fd2afdeac",
   "metadata": {},
   "outputs": [],
   "source": [
    "# TODO: Implement the logic using example from chapter_7 notebook and following the pattern from othertests related to current setup"
   ]
  },
  {
   "cell_type": "code",
   "execution_count": 132,
   "id": "78917f67-2511-4d71-ba67-b7afab43344c",
   "metadata": {},
   "outputs": [],
   "source": [
    "# Create table, using bronze.covid_nyt_by_date as source and dropDuplicates\n",
    "# a. This table will be used as target for Streaming Upsert test\n",
    "\n",
    "(\n",
    "    spark\n",
    "    .read\n",
    "    .format(\"delta\")\n",
    "    .load(\"./spark-warehouse/bronze.db/covid_nyt_by_date\")\n",
    "    .sample(0.01)\n",
    "    .drop_duplicates([\"fips\", \"date\", \"county\", \"state\"])\n",
    "    .write\n",
    "    .format(\"delta\")\n",
    "    .mode(\"overwrite\")\n",
    "    .saveAsTable(\"covid_nyt_streaming_updates_target\")\n",
    ")"
   ]
  },
  {
   "cell_type": "code",
   "execution_count": 135,
   "id": "85901a1d-5d82-4caa-aef1-224c4d75f2cf",
   "metadata": {},
   "outputs": [],
   "source": [
    "\"\"\"\n",
    "Implement merge/upsert logic using MergeBuilder\n",
    "a. Target table covid_table_2 created in previous test\n",
    "b. Use fips, date, county and state as a composite join key\n",
    "c. whenMatchedDelete with condition source._change_type = DELETE\n",
    "d. whenMatchedUpdate by updating all columns in target using source\n",
    "e. whenMatchedInsert by inserting all column in target using source\n",
    "\"\"\"\n",
    "\n",
    "from delta.tables import *\n",
    "\n",
    "def upsert_to_covid_delta_table(micro_batch_df, batch_id):\n",
    "    delta_covid_nyt_streaming_updates_target = DeltaTable.forName(\n",
    "        spark,\n",
    "        \"default.covid_nyt_streaming_updates_target\"\n",
    "    )\n",
    "\n",
    "    delta_covid_nyt_streaming_updates_target.alias(\"target\") \\\n",
    "    .merge(\n",
    "        source=micro_batch_df.alias(\"source\").drop_duplicates([\"fips\", \"date\", \"county\", \"state\"]),\n",
    "        condition = \\\n",
    "            \"\"\"\n",
    "                source.fips=target.fips\n",
    "                AND source.date = target.date \n",
    "                AND source.county=target.county \n",
    "                AND source.state=target.state\n",
    "            \"\"\"    \n",
    "    ) \\\n",
    "    .whenMatchedDelete(condition=\"source._change_type == 'DELETE'\") \\\n",
    "    .whenMatchedUpdate(\n",
    "        set = {\n",
    "            \"fips\": \"source.fips\",\n",
    "            \"date\": \"source.date\",\n",
    "            \"cases\": \"source.cases\",\n",
    "            \"deaths\": \"source.deaths\"\n",
    "        }\n",
    "    ) \\\n",
    "    .whenNotMatchedInsert(\n",
    "        values = {\n",
    "            \"fips\": \"source.fips\",\n",
    "            \"date\": \"source.date\",\n",
    "            \"cases\": \"source.cases\",\n",
    "            \"deaths\": \"source.deaths\"\n",
    "        }\n",
    "    ) \\\n",
    "    .execute()\n",
    "    \n",
    "    \n"
   ]
  },
  {
   "cell_type": "code",
   "execution_count": 11,
   "id": "04448c23-10b3-4405-a1db-8c8970d3395c",
   "metadata": {},
   "outputs": [
    {
     "data": {
      "text/plain": [
       "'\\nCreate readStream using readChangeFeed = true and startingVersion = 1 \\na. Use source source Delta Table from Idempotent Fanout / step 1 / as a source\\nCreate writeStream using streamin query from step 1\\na. Format Delta\\nb. foreachBatch using method from step 2\\nc. outputMode = update\\n'"
      ]
     },
     "execution_count": 11,
     "metadata": {},
     "output_type": "execute_result"
    }
   ],
   "source": [
    "\"\"\"\n",
    "Create readStream using readChangeFeed = true and startingVersion = 1 \n",
    "a. Use source source Delta Table from Idempotent Fanout / step 1 / as a source\n",
    "Create writeStream using streamin query from step 1\n",
    "a. Format Delta\n",
    "b. foreachBatch using method from step 2\n",
    "c. outputMode = update\n",
    "\"\"\""
   ]
  },
  {
   "cell_type": "code",
   "execution_count": 136,
   "id": "80ef771e-5275-4e7b-9f88-22cddf721af9",
   "metadata": {},
   "outputs": [
    {
     "data": {
      "text/plain": [
       "<pyspark.sql.streaming.query.StreamingQuery at 0x216d504bb10>"
      ]
     },
     "execution_count": 136,
     "metadata": {},
     "output_type": "execute_result"
    }
   ],
   "source": [
    "(\n",
    "    spark\n",
    "    .readStream\n",
    "    .format(\"delta\")\n",
    "    .option(\"readChangeDataFeed\", \"true\")\n",
    "    .option(\"startingVersion\", 1)\n",
    "    .table(\"default.covid_cdf_source_1\")\n",
    "    .writeStream\n",
    "    .option(\"checkpointLocation\", \"streaming_checkpoints/ch07/streaming_updates/ws1\")\n",
    "    .format(\"delta\")\n",
    "    .queryName(\"CDF - Streaming Pipeline\")\n",
    "    .foreachBatch(upsert_to_covid_delta_table)\n",
    "    .outputMode(\"update\")\n",
    "    .start()\n",
    ")"
   ]
  },
  {
   "cell_type": "code",
   "execution_count": 143,
   "id": "00dd2d3f-df84-4de4-87e1-a964349eda16",
   "metadata": {
    "scrolled": true
   },
   "outputs": [
    {
     "data": {
      "text/html": [
       "<table border='1'>\n",
       "<tr><th>date</th><th>county</th><th>state</th><th>fips</th><th>cases</th><th>deaths</th></tr>\n",
       "<tr><td>2021-02-12</td><td>Perry</td><td>Alabama</td><td>1105</td><td>1039</td><td>26</td></tr>\n",
       "<tr><td>2021-03-08</td><td>Dale</td><td>Alabama</td><td>1045</td><td>4688</td><td>107</td></tr>\n",
       "<tr><td>2021-03-08</td><td>DeKalb</td><td>Alabama</td><td>1049</td><td>8510</td><td>175</td></tr>\n",
       "<tr><td>2021-02-02</td><td>Conecuh</td><td>Alabama</td><td>1035</td><td>1017</td><td>23</td></tr>\n",
       "<tr><td>2021-02-22</td><td>Jackson</td><td>Alabama</td><td>1071</td><td>6442</td><td>99</td></tr>\n",
       "<tr><td>2021-02-28</td><td>Blount</td><td>Alabama</td><td>1009</td><td>6097</td><td>127</td></tr>\n",
       "<tr><td>2021-03-05</td><td>Sumter</td><td>Alabama</td><td>1119</td><td>1004</td><td>32</td></tr>\n",
       "<tr><td>2021-02-04</td><td>Morgan</td><td>Alabama</td><td>1103</td><td>13143</td><td>216</td></tr>\n",
       "<tr><td>2021-03-04</td><td>Lee</td><td>Alabama</td><td>1081</td><td>15039</td><td>157</td></tr>\n",
       "<tr><td>2021-02-11</td><td>Conecuh</td><td>Alabama</td><td>1035</td><td>1045</td><td>23</td></tr>\n",
       "<tr><td>2021-02-24</td><td>Lowndes</td><td>Alabama</td><td>1085</td><td>1301</td><td>48</td></tr>\n",
       "<tr><td>2021-02-17</td><td>Monroe</td><td>Alabama</td><td>1099</td><td>1646</td><td>37</td></tr>\n",
       "<tr><td>2021-02-21</td><td>Autauga</td><td>Alabama</td><td>1001</td><td>6117</td><td>85</td></tr>\n",
       "<tr><td>2021-02-06</td><td>Bibb</td><td>Alabama</td><td>1007</td><td>2334</td><td>53</td></tr>\n",
       "<tr><td>2021-02-18</td><td>Lowndes</td><td>Alabama</td><td>1085</td><td>1298</td><td>44</td></tr>\n",
       "<tr><td>2021-03-04</td><td>Etowah</td><td>Alabama</td><td>1055</td><td>13390</td><td>325</td></tr>\n",
       "<tr><td>2021-02-10</td><td>Madison</td><td>Alabama</td><td>1089</td><td>31076</td><td>397</td></tr>\n",
       "<tr><td>2021-02-24</td><td>Lamar</td><td>Alabama</td><td>1075</td><td>1316</td><td>32</td></tr>\n",
       "<tr><td>2021-02-10</td><td>Russell</td><td>Alabama</td><td>1113</td><td>3890</td><td>28</td></tr>\n",
       "<tr><td>2021-02-24</td><td>Barbour</td><td>Alabama</td><td>1005</td><td>2095</td><td>50</td></tr>\n",
       "<tr><td>2021-02-11</td><td>Lowndes</td><td>Alabama</td><td>1085</td><td>1283</td><td>42</td></tr>\n",
       "<tr><td>2021-02-10</td><td>Franklin</td><td>Alabama</td><td>1059</td><td>3929</td><td>74</td></tr>\n",
       "<tr><td>2021-02-15</td><td>Clay</td><td>Alabama</td><td>1027</td><td>1394</td><td>53</td></tr>\n",
       "<tr><td>2021-02-15</td><td>DeKalb</td><td>Alabama</td><td>1049</td><td>8355</td><td>167</td></tr>\n",
       "<tr><td>2021-02-28</td><td>Monroe</td><td>Alabama</td><td>1099</td><td>1661</td><td>39</td></tr>\n",
       "<tr><td>2021-03-07</td><td>Cleburne</td><td>Alabama</td><td>1029</td><td>1403</td><td>41</td></tr>\n",
       "<tr><td>2021-03-05</td><td>Coosa</td><td>Alabama</td><td>1037</td><td>902</td><td>24</td></tr>\n",
       "<tr><td>2021-02-06</td><td>Choctaw</td><td>Alabama</td><td>1023</td><td>540</td><td>23</td></tr>\n",
       "<tr><td>2021-02-13</td><td>Morgan</td><td>Alabama</td><td>1103</td><td>13375</td><td>234</td></tr>\n",
       "<tr><td>2021-01-18</td><td>Conecuh</td><td>Alabama</td><td>1035</td><td>944</td><td>20</td></tr>\n",
       "<tr><td>2021-01-08</td><td>Lawrence</td><td>Alabama</td><td>1079</td><td>2263</td><td>44</td></tr>\n",
       "<tr><td>2021-01-09</td><td>Madison</td><td>Alabama</td><td>1089</td><td>25219</td><td>177</td></tr>\n",
       "<tr><td>2020-12-28</td><td>Pike</td><td>Alabama</td><td>1109</td><td>1912</td><td>23</td></tr>\n",
       "<tr><td>2021-01-28</td><td>Fayette</td><td>Alabama</td><td>1057</td><td>1841</td><td>37</td></tr>\n",
       "<tr><td>2021-01-29</td><td>Blount</td><td>Alabama</td><td>1009</td><td>5655</td><td>98</td></tr>\n",
       "<tr><td>2021-01-30</td><td>Coffee</td><td>Alabama</td><td>1031</td><td>4857</td><td>72</td></tr>\n",
       "<tr><td>2021-02-07</td><td>Chilton</td><td>Alabama</td><td>1021</td><td>3615</td><td>82</td></tr>\n",
       "<tr><td>2021-01-07</td><td>Lowndes</td><td>Alabama</td><td>1085</td><td>1015</td><td>34</td></tr>\n",
       "<tr><td>2021-01-12</td><td>Cherokee</td><td>Alabama</td><td>1019</td><td>1568</td><td>29</td></tr>\n",
       "<tr><td>2021-01-07</td><td>Marengo</td><td>Alabama</td><td>1091</td><td>1888</td><td>27</td></tr>\n",
       "<tr><td>2021-01-30</td><td>Pickens</td><td>Alabama</td><td>1107</td><td>2060</td><td>31</td></tr>\n",
       "<tr><td>2021-01-20</td><td>Mobile</td><td>Alabama</td><td>1097</td><td>30794</td><td>557</td></tr>\n",
       "<tr><td>2021-01-29</td><td>Marion</td><td>Alabama</td><td>1093</td><td>2597</td><td>73</td></tr>\n",
       "<tr><td>2021-01-21</td><td>Washington</td><td>Alabama</td><td>1129</td><td>1395</td><td>27</td></tr>\n",
       "<tr><td>2021-01-09</td><td>Walker</td><td>Alabama</td><td>1127</td><td>5714</td><td>170</td></tr>\n",
       "<tr><td>2020-12-31</td><td>Fayette</td><td>Alabama</td><td>1057</td><td>1430</td><td>19</td></tr>\n",
       "<tr><td>2021-01-03</td><td>DeKalb</td><td>Alabama</td><td>1049</td><td>7022</td><td>62</td></tr>\n",
       "<tr><td>2021-01-01</td><td>St. Clair</td><td>Alabama</td><td>1115</td><td>6577</td><td>73</td></tr>\n",
       "<tr><td>2021-01-20</td><td>Morgan</td><td>Alabama</td><td>1103</td><td>12389</td><td>119</td></tr>\n",
       "<tr><td>2020-12-01</td><td>Marengo</td><td>Alabama</td><td>1091</td><td>1234</td><td>24</td></tr>\n",
       "<tr><td>2020-12-18</td><td>Marshall</td><td>Alabama</td><td>1095</td><td>8233</td><td>69</td></tr>\n",
       "<tr><td>2021-01-05</td><td>Marion</td><td>Alabama</td><td>1093</td><td>2190</td><td>43</td></tr>\n",
       "<tr><td>2021-01-04</td><td>Covington</td><td>Alabama</td><td>1039</td><td>2962</td><td>40</td></tr>\n",
       "<tr><td>2020-12-24</td><td>DeKalb</td><td>Alabama</td><td>1049</td><td>6668</td><td>58</td></tr>\n",
       "<tr><td>2020-12-22</td><td>Montgomery</td><td>Alabama</td><td>1101</td><td>14982</td><td>268</td></tr>\n",
       "<tr><td>2020-11-15</td><td>Blount</td><td>Alabama</td><td>1009</td><td>2549</td><td>34</td></tr>\n",
       "<tr><td>2020-12-22</td><td>Greene</td><td>Alabama</td><td>1063</td><td>595</td><td>20</td></tr>\n",
       "<tr><td>2020-12-30</td><td>Calhoun</td><td>Alabama</td><td>1015</td><td>9428</td><td>155</td></tr>\n",
       "<tr><td>2020-11-18</td><td>Greene</td><td>Alabama</td><td>1063</td><td>382</td><td>17</td></tr>\n",
       "<tr><td>2020-12-27</td><td>Randolph</td><td>Alabama</td><td>1111</td><td>1216</td><td>30</td></tr>\n",
       "<tr><td>2020-12-20</td><td>Macon</td><td>Alabama</td><td>1087</td><td>901</td><td>29</td></tr>\n",
       "<tr><td>2020-11-26</td><td>Dale</td><td>Alabama</td><td>1045</td><td>2317</td><td>54</td></tr>\n",
       "<tr><td>2020-12-01</td><td>Perry</td><td>Alabama</td><td>1105</td><td>691</td><td>6</td></tr>\n",
       "<tr><td>2021-01-04</td><td>Cullman</td><td>Alabama</td><td>1043</td><td>7291</td><td>78</td></tr>\n",
       "<tr><td>2020-12-15</td><td>Morgan</td><td>Alabama</td><td>1103</td><td>8662</td><td>64</td></tr>\n",
       "<tr><td>2020-12-30</td><td>Tallapoosa</td><td>Alabama</td><td>1123</td><td>2354</td><td>98</td></tr>\n",
       "<tr><td>2020-11-13</td><td>Tuscaloosa</td><td>Alabama</td><td>1125</td><td>11566</td><td>148</td></tr>\n",
       "<tr><td>2020-12-17</td><td>Colbert</td><td>Alabama</td><td>1033</td><td>3988</td><td>55</td></tr>\n",
       "<tr><td>2020-12-18</td><td>Monroe</td><td>Alabama</td><td>1099</td><td>997</td><td>10</td></tr>\n",
       "<tr><td>2020-12-10</td><td>Lawrence</td><td>Alabama</td><td>1079</td><td>1525</td><td>36</td></tr>\n",
       "<tr><td>2020-10-31</td><td>Tuscaloosa</td><td>Alabama</td><td>1125</td><td>10734</td><td>145</td></tr>\n",
       "<tr><td>2020-11-06</td><td>Montgomery</td><td>Alabama</td><td>1101</td><td>11002</td><td>215</td></tr>\n",
       "<tr><td>2020-12-08</td><td>Crenshaw</td><td>Alabama</td><td>1041</td><td>756</td><td>31</td></tr>\n",
       "<tr><td>2020-12-07</td><td>Crenshaw</td><td>Alabama</td><td>1041</td><td>747</td><td>31</td></tr>\n",
       "<tr><td>2020-11-14</td><td>Franklin</td><td>Alabama</td><td>1059</td><td>2320</td><td>33</td></tr>\n",
       "<tr><td>2020-11-04</td><td>Walker</td><td>Alabama</td><td>1127</td><td>3056</td><td>95</td></tr>\n",
       "<tr><td>2021-01-15</td><td>Montgomery</td><td>Alabama</td><td>1101</td><td>18696</td><td>304</td></tr>\n",
       "<tr><td>2020-10-27</td><td>Autauga</td><td>Alabama</td><td>1001</td><td>2082</td><td>31</td></tr>\n",
       "<tr><td>2020-12-14</td><td>Crenshaw</td><td>Alabama</td><td>1041</td><td>786</td><td>32</td></tr>\n",
       "<tr><td>2020-12-26</td><td>Clay</td><td>Alabama</td><td>1027</td><td>1103</td><td>34</td></tr>\n",
       "<tr><td>2020-12-07</td><td>Barbour</td><td>Alabama</td><td>1005</td><td>1224</td><td>29</td></tr>\n",
       "<tr><td>2021-01-15</td><td>Fayette</td><td>Alabama</td><td>1057</td><td>1660</td><td>26</td></tr>\n",
       "<tr><td>2020-12-12</td><td>Sumter</td><td>Alabama</td><td>1119</td><td>659</td><td>22</td></tr>\n",
       "<tr><td>2020-12-26</td><td>Marengo</td><td>Alabama</td><td>1091</td><td>1740</td><td>26</td></tr>\n",
       "<tr><td>2020-11-01</td><td>Conecuh</td><td>Alabama</td><td>1035</td><td>577</td><td>13</td></tr>\n",
       "<tr><td>2020-11-10</td><td>Elmore</td><td>Alabama</td><td>1051</td><td>3495</td><td>60</td></tr>\n",
       "<tr><td>2020-11-29</td><td>Cullman</td><td>Alabama</td><td>1043</td><td>4474</td><td>42</td></tr>\n",
       "<tr><td>2020-10-09</td><td>Chilton</td><td>Alabama</td><td>1021</td><td>1701</td><td>30</td></tr>\n",
       "<tr><td>2020-10-18</td><td>Calhoun</td><td>Alabama</td><td>1015</td><td>4084</td><td>59</td></tr>\n",
       "<tr><td>2020-10-18</td><td>Morgan</td><td>Alabama</td><td>1103</td><td>3932</td><td>32</td></tr>\n",
       "<tr><td>2020-10-23</td><td>Coosa</td><td>Alabama</td><td>1037</td><td>203</td><td>3</td></tr>\n",
       "<tr><td>2020-10-09</td><td>Wilcox</td><td>Alabama</td><td>1131</td><td>550</td><td>11</td></tr>\n",
       "<tr><td>2020-11-23</td><td>Talladega</td><td>Alabama</td><td>1121</td><td>3359</td><td>42</td></tr>\n",
       "<tr><td>2020-10-17</td><td>Randolph</td><td>Alabama</td><td>1111</td><td>781</td><td>14</td></tr>\n",
       "<tr><td>2020-10-29</td><td>Lowndes</td><td>Alabama</td><td>1085</td><td>721</td><td>28</td></tr>\n",
       "<tr><td>2020-10-24</td><td>Calhoun</td><td>Alabama</td><td>1015</td><td>4567</td><td>61</td></tr>\n",
       "<tr><td>2020-10-07</td><td>Jackson</td><td>Alabama</td><td>1071</td><td>1735</td><td>12</td></tr>\n",
       "<tr><td>2020-10-05</td><td>Conecuh</td><td>Alabama</td><td>1035</td><td>540</td><td>12</td></tr>\n",
       "<tr><td>2020-12-09</td><td>Jefferson</td><td>Alabama</td><td>1073</td><td>38031</td><td>533</td></tr>\n",
       "<tr><td>2020-10-24</td><td>Baldwin</td><td>Alabama</td><td>1003</td><td>6637</td><td>69</td></tr>\n",
       "<tr><td>2020-10-07</td><td>Bullock</td><td>Alabama</td><td>1011</td><td>618</td><td>16</td></tr>\n",
       "<tr><td>2020-10-11</td><td>Wilcox</td><td>Alabama</td><td>1131</td><td>553</td><td>11</td></tr>\n",
       "<tr><td>2020-11-23</td><td>Franklin</td><td>Alabama</td><td>1059</td><td>2448</td><td>33</td></tr>\n",
       "<tr><td>2020-10-19</td><td>Calhoun</td><td>Alabama</td><td>1015</td><td>4102</td><td>59</td></tr>\n",
       "<tr><td>2020-09-30</td><td>Washington</td><td>Alabama</td><td>1129</td><td>560</td><td>12</td></tr>\n",
       "<tr><td>2020-11-23</td><td>Limestone</td><td>Alabama</td><td>1083</td><td>4045</td><td>44</td></tr>\n",
       "<tr><td>2020-10-22</td><td>Escambia</td><td>Alabama</td><td>1053</td><td>1719</td><td>29</td></tr>\n",
       "<tr><td>2020-09-18</td><td>Pickens</td><td>Alabama</td><td>1107</td><td>628</td><td>14</td></tr>\n",
       "<tr><td>2020-09-20</td><td>Jackson</td><td>Alabama</td><td>1071</td><td>1506</td><td>11</td></tr>\n",
       "<tr><td>2020-09-07</td><td>Cullman</td><td>Alabama</td><td>1043</td><td>1716</td><td>17</td></tr>\n",
       "<tr><td>2020-09-09</td><td>Baldwin</td><td>Alabama</td><td>1003</td><td>4787</td><td>46</td></tr>\n",
       "<tr><td>2020-09-16</td><td>Franklin</td><td>Alabama</td><td>1059</td><td>1703</td><td>28</td></tr>\n",
       "<tr><td>2020-09-20</td><td>Baldwin</td><td>Alabama</td><td>1003</td><td>5061</td><td>49</td></tr>\n",
       "<tr><td>2020-09-14</td><td>Escambia</td><td>Alabama</td><td>1053</td><td>1527</td><td>23</td></tr>\n",
       "<tr><td>2020-09-10</td><td>Cleburne</td><td>Alabama</td><td>1029</td><td>259</td><td>5</td></tr>\n",
       "<tr><td>2020-09-21</td><td>Butler</td><td>Alabama</td><td>1013</td><td>911</td><td>38</td></tr>\n",
       "<tr><td>2020-09-12</td><td>Colbert</td><td>Alabama</td><td>1033</td><td>1542</td><td>24</td></tr>\n",
       "<tr><td>2020-09-08</td><td>Lawrence</td><td>Alabama</td><td>1079</td><td>524</td><td>5</td></tr>\n",
       "<tr><td>2020-09-08</td><td>Russell</td><td>Alabama</td><td>1113</td><td>1665</td><td>2</td></tr>\n",
       "<tr><td>2020-09-18</td><td>Franklin</td><td>Alabama</td><td>1059</td><td>1734</td><td>28</td></tr>\n",
       "<tr><td>2020-08-28</td><td>Montgomery</td><td>Alabama</td><td>1101</td><td>7818</td><td>162</td></tr>\n",
       "<tr><td>2020-07-31</td><td>Chambers</td><td>Alabama</td><td>1017</td><td>859</td><td>38</td></tr>\n",
       "<tr><td>2020-08-10</td><td>Blount</td><td>Alabama</td><td>1009</td><td>947</td><td>4</td></tr>\n",
       "<tr><td>2020-07-30</td><td>Colbert</td><td>Alabama</td><td>1033</td><td>1023</td><td>11</td></tr>\n",
       "<tr><td>2020-08-01</td><td>Dale</td><td>Alabama</td><td>1045</td><td>781</td><td>18</td></tr>\n",
       "<tr><td>2020-08-27</td><td>Pike</td><td>Alabama</td><td>1109</td><td>925</td><td>8</td></tr>\n",
       "<tr><td>2020-08-18</td><td>Pike</td><td>Alabama</td><td>1109</td><td>809</td><td>8</td></tr>\n",
       "<tr><td>2020-08-10</td><td>Limestone</td><td>Alabama</td><td>1083</td><td>1376</td><td>14</td></tr>\n",
       "<tr><td>2020-08-29</td><td>Sumter</td><td>Alabama</td><td>1119</td><td>402</td><td>19</td></tr>\n",
       "<tr><td>2020-08-27</td><td>Henry</td><td>Alabama</td><td>1067</td><td>352</td><td>4</td></tr>\n",
       "<tr><td>2020-08-05</td><td>Wilcox</td><td>Alabama</td><td>1131</td><td>426</td><td>10</td></tr>\n",
       "<tr><td>2020-08-13</td><td>Lamar</td><td>Alabama</td><td>1075</td><td>245</td><td>2</td></tr>\n",
       "<tr><td>2020-08-11</td><td>Wilcox</td><td>Alabama</td><td>1131</td><td>451</td><td>10</td></tr>\n",
       "<tr><td>2020-08-21</td><td>Lee</td><td>Alabama</td><td>1081</td><td>3218</td><td>51</td></tr>\n",
       "<tr><td>2020-08-06</td><td>Randolph</td><td>Alabama</td><td>1111</td><td>407</td><td>11</td></tr>\n",
       "<tr><td>2020-08-23</td><td>Jefferson</td><td>Alabama</td><td>1073</td><td>14984</td><td>287</td></tr>\n",
       "<tr><td>2020-07-29</td><td>Lawrence</td><td>Alabama</td><td>1079</td><td>272</td><td>0</td></tr>\n",
       "<tr><td>2020-07-31</td><td>DeKalb</td><td>Alabama</td><td>1049</td><td>1661</td><td>12</td></tr>\n",
       "<tr><td>2020-08-01</td><td>Monroe</td><td>Alabama</td><td>1099</td><td>434</td><td>4</td></tr>\n",
       "<tr><td>2020-08-22</td><td>Autauga</td><td>Alabama</td><td>1001</td><td>1322</td><td>23</td></tr>\n",
       "<tr><td>2020-08-20</td><td>Colbert</td><td>Alabama</td><td>1033</td><td>1347</td><td>19</td></tr>\n",
       "<tr><td>2020-08-07</td><td>Marion</td><td>Alabama</td><td>1093</td><td>601</td><td>24</td></tr>\n",
       "<tr><td>2020-07-12</td><td>Clarke</td><td>Alabama</td><td>1025</td><td>318</td><td>6</td></tr>\n",
       "<tr><td>2020-07-08</td><td>Marion</td><td>Alabama</td><td>1093</td><td>245</td><td>14</td></tr>\n",
       "<tr><td>2020-07-22</td><td>St. Clair</td><td>Alabama</td><td>1115</td><td>928</td><td>5</td></tr>\n",
       "<tr><td>2020-07-22</td><td>Lowndes</td><td>Alabama</td><td>1085</td><td>532</td><td>26</td></tr>\n",
       "<tr><td>2020-07-23</td><td>Clarke</td><td>Alabama</td><td>1025</td><td>421</td><td>9</td></tr>\n",
       "<tr><td>2020-07-13</td><td>Escambia</td><td>Alabama</td><td>1053</td><td>519</td><td>8</td></tr>\n",
       "<tr><td>2020-07-08</td><td>Washington</td><td>Alabama</td><td>1129</td><td>124</td><td>7</td></tr>\n",
       "<tr><td>2020-07-28</td><td>Marshall</td><td>Alabama</td><td>1095</td><td>2760</td><td>26</td></tr>\n",
       "<tr><td>2020-07-08</td><td>Tallapoosa</td><td>Alabama</td><td>1123</td><td>614</td><td>70</td></tr>\n",
       "<tr><td>2020-07-25</td><td>Colbert</td><td>Alabama</td><td>1033</td><td>880</td><td>10</td></tr>\n",
       "<tr><td>2020-07-01</td><td>Perry</td><td>Alabama</td><td>1105</td><td>145</td><td>1</td></tr>\n",
       "<tr><td>2020-07-07</td><td>St. Clair</td><td>Alabama</td><td>1115</td><td>426</td><td>2</td></tr>\n",
       "<tr><td>2020-07-18</td><td>Colbert</td><td>Alabama</td><td>1033</td><td>712</td><td>9</td></tr>\n",
       "<tr><td>2020-07-25</td><td>Madison</td><td>Alabama</td><td>1089</td><td>4202</td><td>25</td></tr>\n",
       "<tr><td>2020-07-27</td><td>Limestone</td><td>Alabama</td><td>1083</td><td>1048</td><td>11</td></tr>\n",
       "<tr><td>2020-07-01</td><td>Franklin</td><td>Alabama</td><td>1059</td><td>856</td><td>13</td></tr>\n",
       "<tr><td>2020-07-17</td><td>Blount</td><td>Alabama</td><td>1009</td><td>440</td><td>1</td></tr>\n",
       "<tr><td>2020-07-12</td><td>Clay</td><td>Alabama</td><td>1027</td><td>85</td><td>2</td></tr>\n",
       "<tr><td>2020-07-23</td><td>Lamar</td><td>Alabama</td><td>1075</td><td>156</td><td>1</td></tr>\n",
       "<tr><td>2020-07-09</td><td>Tallapoosa</td><td>Alabama</td><td>1123</td><td>625</td><td>70</td></tr>\n",
       "<tr><td>2020-07-08</td><td>Lauderdale</td><td>Alabama</td><td>1077</td><td>517</td><td>6</td></tr>\n",
       "<tr><td>2020-06-13</td><td>Clay</td><td>Alabama</td><td>1027</td><td>30</td><td>2</td></tr>\n",
       "<tr><td>2020-06-03</td><td>Montgomery</td><td>Alabama</td><td>1101</td><td>1845</td><td>44</td></tr>\n",
       "<tr><td>2020-06-18</td><td>Cullman</td><td>Alabama</td><td>1043</td><td>299</td><td>1</td></tr>\n",
       "<tr><td>2020-06-01</td><td>Barbour</td><td>Alabama</td><td>1005</td><td>173</td><td>1</td></tr>\n",
       "<tr><td>2020-06-27</td><td>Tallapoosa</td><td>Alabama</td><td>1123</td><td>546</td><td>70</td></tr>\n",
       "<tr><td>2020-06-24</td><td>Franklin</td><td>Alabama</td><td>1059</td><td>803</td><td>10</td></tr>\n",
       "<tr><td>2020-06-09</td><td>Jefferson</td><td>Alabama</td><td>1073</td><td>2162</td><td>111</td></tr>\n",
       "<tr><td>2020-06-02</td><td>Blount</td><td>Alabama</td><td>1009</td><td>65</td><td>1</td></tr>\n",
       "<tr><td>2020-05-31</td><td>Talladega</td><td>Alabama</td><td>1121</td><td>113</td><td>5</td></tr>\n",
       "<tr><td>2020-06-01</td><td>Butler</td><td>Alabama</td><td>1013</td><td>416</td><td>18</td></tr>\n",
       "<tr><td>2020-06-08</td><td>Bullock</td><td>Alabama</td><td>1011</td><td>240</td><td>9</td></tr>\n",
       "<tr><td>2020-06-09</td><td>Butler</td><td>Alabama</td><td>1013</td><td>466</td><td>24</td></tr>\n",
       "<tr><td>2020-06-23</td><td>Etowah</td><td>Alabama</td><td>1055</td><td>436</td><td>12</td></tr>\n",
       "<tr><td>2020-05-31</td><td>Pike</td><td>Alabama</td><td>1109</td><td>203</td><td>0</td></tr>\n",
       "<tr><td>2020-05-27</td><td>Calhoun</td><td>Alabama</td><td>1015</td><td>152</td><td>3</td></tr>\n",
       "<tr><td>2020-06-29</td><td>Covington</td><td>Alabama</td><td>1039</td><td>309</td><td>5</td></tr>\n",
       "<tr><td>2020-06-19</td><td>Chambers</td><td>Alabama</td><td>1017</td><td>507</td><td>28</td></tr>\n",
       "<tr><td>2020-06-25</td><td>Hale</td><td>Alabama</td><td>1065</td><td>272</td><td>19</td></tr>\n",
       "<tr><td>2020-06-17</td><td>DeKalb</td><td>Alabama</td><td>1049</td><td>356</td><td>5</td></tr>\n",
       "<tr><td>2020-06-16</td><td>Henry</td><td>Alabama</td><td>1067</td><td>109</td><td>2</td></tr>\n",
       "<tr><td>2020-06-18</td><td>Talladega</td><td>Alabama</td><td>1121</td><td>175</td><td>6</td></tr>\n",
       "<tr><td>2020-06-08</td><td>Monroe</td><td>Alabama</td><td>1099</td><td>62</td><td>2</td></tr>\n",
       "<tr><td>2020-06-27</td><td>Wilcox</td><td>Alabama</td><td>1131</td><td>273</td><td>8</td></tr>\n",
       "<tr><td>2020-06-05</td><td>Chambers</td><td>Alabama</td><td>1017</td><td>375</td><td>26</td></tr>\n",
       "<tr><td>2020-06-03</td><td>Butler</td><td>Alabama</td><td>1013</td><td>421</td><td>18</td></tr>\n",
       "<tr><td>2020-05-08</td><td>Colbert</td><td>Alabama</td><td>1033</td><td>63</td><td>2</td></tr>\n",
       "<tr><td>2020-05-20</td><td>Wilcox</td><td>Alabama</td><td>1131</td><td>108</td><td>6</td></tr>\n",
       "<tr><td>2020-05-06</td><td>Montgomery</td><td>Alabama</td><td>1101</td><td>477</td><td>12</td></tr>\n",
       "<tr><td>2020-05-06</td><td>Coffee</td><td>Alabama</td><td>1031</td><td>138</td><td>0</td></tr>\n",
       "<tr><td>2020-05-12</td><td>Jackson</td><td>Alabama</td><td>1071</td><td>60</td><td>2</td></tr>\n",
       "<tr><td>2020-05-15</td><td>Hale</td><td>Alabama</td><td>1065</td><td>79</td><td>2</td></tr>\n",
       "<tr><td>2020-05-02</td><td>Baldwin</td><td>Alabama</td><td>1003</td><td>181</td><td>4</td></tr>\n",
       "<tr><td>2020-05-10</td><td>Fayette</td><td>Alabama</td><td>1057</td><td>7</td><td>0</td></tr>\n",
       "<tr><td>2020-05-14</td><td>Lamar</td><td>Alabama</td><td>1075</td><td>14</td><td>0</td></tr>\n",
       "<tr><td>2020-04-24</td><td>Winston</td><td>Alabama</td><td>1133</td><td>10</td><td>0</td></tr>\n",
       "<tr><td>2020-05-22</td><td>Bibb</td><td>Alabama</td><td>1007</td><td>55</td><td>1</td></tr>\n",
       "<tr><td>2020-04-26</td><td>Pike</td><td>Alabama</td><td>1109</td><td>62</td><td>0</td></tr>\n",
       "<tr><td>2020-04-26</td><td>Talladega</td><td>Alabama</td><td>1121</td><td>57</td><td>2</td></tr>\n",
       "<tr><td>2020-04-30</td><td>Shelby</td><td>Alabama</td><td>1117</td><td>320</td><td>12</td></tr>\n",
       "<tr><td>2020-05-11</td><td>Barbour</td><td>Alabama</td><td>1005</td><td>61</td><td>1</td></tr>\n",
       "<tr><td>2020-04-24</td><td>Chilton</td><td>Alabama</td><td>1021</td><td>49</td><td>1</td></tr>\n",
       "<tr><td>2020-05-23</td><td>Limestone</td><td>Alabama</td><td>1083</td><td>72</td><td>0</td></tr>\n",
       "<tr><td>2020-04-30</td><td>Autauga</td><td>Alabama</td><td>1001</td><td>42</td><td>4</td></tr>\n",
       "<tr><td>2020-05-15</td><td>Montgomery</td><td>Alabama</td><td>1101</td><td>787</td><td>20</td></tr>\n",
       "<tr><td>2020-04-27</td><td>Macon</td><td>Alabama</td><td>1087</td><td>34</td><td>2</td></tr>\n",
       "<tr><td>2020-05-17</td><td>Choctaw</td><td>Alabama</td><td>1023</td><td>84</td><td>3</td></tr>\n",
       "<tr><td>2020-04-22</td><td>Coosa</td><td>Alabama</td><td>1037</td><td>24</td><td>1</td></tr>\n",
       "<tr><td>2020-04-16</td><td>DeKalb</td><td>Alabama</td><td>1049</td><td>32</td><td>1</td></tr>\n",
       "<tr><td>2020-04-21</td><td>Chilton</td><td>Alabama</td><td>1021</td><td>44</td><td>0</td></tr>\n",
       "<tr><td>2020-04-02</td><td>Houston</td><td>Alabama</td><td>1069</td><td>9</td><td>1</td></tr>\n",
       "<tr><td>2020-03-31</td><td>Mobile</td><td>Alabama</td><td>1097</td><td>53</td><td>1</td></tr>\n",
       "<tr><td>2020-04-07</td><td>Hale</td><td>Alabama</td><td>1065</td><td>7</td><td>0</td></tr>\n",
       "<tr><td>2020-04-14</td><td>Blount</td><td>Alabama</td><td>1009</td><td>16</td><td>0</td></tr>\n",
       "<tr><td>2020-04-17</td><td>Shelby</td><td>Alabama</td><td>1117</td><td>248</td><td>8</td></tr>\n",
       "<tr><td>2020-04-09</td><td>Franklin</td><td>Alabama</td><td>1059</td><td>8</td><td>0</td></tr>\n",
       "<tr><td>2020-04-17</td><td>Pike</td><td>Alabama</td><td>1109</td><td>29</td><td>0</td></tr>\n",
       "<tr><td>2020-04-09</td><td>Tallapoosa</td><td>Alabama</td><td>1123</td><td>48</td><td>2</td></tr>\n",
       "<tr><td>2020-03-26</td><td>Lee</td><td>Alabama</td><td>1081</td><td>47</td><td>0</td></tr>\n",
       "<tr><td>2020-04-18</td><td>Jackson</td><td>Alabama</td><td>1071</td><td>38</td><td>2</td></tr>\n",
       "<tr><td>2020-04-01</td><td>Clay</td><td>Alabama</td><td>1027</td><td>3</td><td>0</td></tr>\n",
       "<tr><td>2020-04-21</td><td>DeKalb</td><td>Alabama</td><td>1049</td><td>51</td><td>2</td></tr>\n",
       "<tr><td>2020-04-15</td><td>Colbert</td><td>Alabama</td><td>1033</td><td>11</td><td>1</td></tr>\n",
       "<tr><td>2020-04-21</td><td>Shelby</td><td>Alabama</td><td>1117</td><td>274</td><td>6</td></tr>\n",
       "<tr><td>2020-03-24</td><td>Tuscaloosa</td><td>Alabama</td><td>1125</td><td>10</td><td>0</td></tr>\n",
       "<tr><td>2020-08-25</td><td>Chilton</td><td>Alabama</td><td>1021</td><td>1034</td><td>13</td></tr>\n",
       "<tr><td>2020-05-19</td><td>Marion</td><td>Alabama</td><td>1093</td><td>106</td><td>9</td></tr>\n",
       "<tr><td>2021-02-25</td><td>Houston</td><td>Alabama</td><td>1069</td><td>10048</td><td>259</td></tr>\n",
       "<tr><td>2020-05-19</td><td>Jefferson</td><td>Alabama</td><td>1073</td><td>1367</td><td>78</td></tr>\n",
       "<tr><td>2021-02-26</td><td>Juneau City and Borough</td><td>Alaska</td><td>2110</td><td>1215</td><td>3</td></tr>\n",
       "<tr><td>2021-02-26</td><td>Petersburg Borough</td><td>Alaska</td><td>2195</td><td>79</td><td>0</td></tr>\n",
       "<tr><td>2021-02-18</td><td>Kodiak Island Borough</td><td>Alaska</td><td>2150</td><td>1050</td><td>5</td></tr>\n",
       "<tr><td>2021-02-02</td><td>Southeast Fairbanks Census Area</td><td>Alaska</td><td>2240</td><td>433</td><td>3</td></tr>\n",
       "<tr><td>2021-03-09</td><td>Juneau City and Borough</td><td>Alaska</td><td>2110</td><td>1238</td><td>3</td></tr>\n",
       "<tr><td>2021-02-11</td><td>Prince of Wales-Hyder Census Area</td><td>Alaska</td><td>2198</td><td>70</td><td>1</td></tr>\n",
       "<tr><td>2021-03-09</td><td>Matanuska-Susitna Borough</td><td>Alaska</td><td>2170</td><td>8961</td><td>34</td></tr>\n",
       "<tr><td>2021-02-22</td><td>Bethel Census Area</td><td>Alaska</td><td>2050</td><td>3548</td><td>18</td></tr>\n",
       "<tr><td>2021-01-28</td><td>Unknown</td><td>Alaska</td><td>NULL</td><td>230</td><td>0</td></tr>\n",
       "<tr><td>2021-01-17</td><td>Bethel Census Area</td><td>Alaska</td><td>2050</td><td>2983</td><td>12</td></tr>\n",
       "<tr><td>2021-01-30</td><td>Bristol Bay plus Lake and Peninsula</td><td>Alaska</td><td>2997</td><td>168</td><td>0</td></tr>\n",
       "<tr><td>2021-01-06</td><td>Valdez-Cordova Census Area</td><td>Alaska</td><td>2261</td><td>360</td><td>2</td></tr>\n",
       "<tr><td>2021-01-08</td><td>Ketchikan Gateway Borough</td><td>Alaska</td><td>2130</td><td>250</td><td>1</td></tr>\n",
       "<tr><td>2021-01-08</td><td>Southeast Fairbanks Census Area</td><td>Alaska</td><td>2240</td><td>411</td><td>3</td></tr>\n",
       "<tr><td>2021-01-26</td><td>Fairbanks North Star Borough</td><td>Alaska</td><td>2090</td><td>5759</td><td>25</td></tr>\n",
       "<tr><td>2021-01-16</td><td>Kenai Peninsula Borough</td><td>Alaska</td><td>2122</td><td>3796</td><td>16</td></tr>\n",
       "<tr><td>2021-01-26</td><td>Wrangell City and Borough</td><td>Alaska</td><td>2275</td><td>24</td><td>0</td></tr>\n",
       "<tr><td>2021-03-06</td><td>Prince of Wales-Hyder Census Area</td><td>Alaska</td><td>2198</td><td>74</td><td>1</td></tr>\n",
       "<tr><td>2021-01-02</td><td>North Slope Borough</td><td>Alaska</td><td>2185</td><td>811</td><td>3</td></tr>\n",
       "<tr><td>2021-01-29</td><td>Unknown</td><td>Alaska</td><td>NULL</td><td>233</td><td>0</td></tr>\n",
       "<tr><td>2021-02-03</td><td>Yakutat plus Hoonah-Angoon</td><td>Alaska</td><td>2998</td><td>63</td><td>1</td></tr>\n",
       "<tr><td>2021-01-02</td><td>Ketchikan Gateway Borough</td><td>Alaska</td><td>2130</td><td>241</td><td>1</td></tr>\n",
       "<tr><td>2021-01-19</td><td>Dillingham Census Area</td><td>Alaska</td><td>2070</td><td>153</td><td>1</td></tr>\n",
       "<tr><td>2021-01-11</td><td>Southeast Fairbanks Census Area</td><td>Alaska</td><td>2240</td><td>412</td><td>3</td></tr>\n",
       "<tr><td>2021-01-08</td><td>Petersburg Borough</td><td>Alaska</td><td>2195</td><td>34</td><td>0</td></tr>\n",
       "<tr><td>2021-02-05</td><td>Yukon-Koyukuk Census Area</td><td>Alaska</td><td>2290</td><td>269</td><td>4</td></tr>\n",
       "<tr><td>2020-11-15</td><td>North Slope Borough</td><td>Alaska</td><td>2185</td><td>375</td><td>0</td></tr>\n",
       "<tr><td>2020-11-15</td><td>Dillingham Census Area</td><td>Alaska</td><td>2070</td><td>80</td><td>0</td></tr>\n",
       "<tr><td>2020-11-15</td><td>Haines Borough</td><td>Alaska</td><td>2100</td><td>16</td><td>0</td></tr>\n",
       "<tr><td>2020-12-24</td><td>Southeast Fairbanks Census Area</td><td>Alaska</td><td>2240</td><td>398</td><td>3</td></tr>\n",
       "<tr><td>2020-12-25</td><td>Petersburg Borough</td><td>Alaska</td><td>2195</td><td>25</td><td>0</td></tr>\n",
       "<tr><td>2020-12-27</td><td>Skagway Municipality</td><td>Alaska</td><td>2230</td><td>16</td><td>0</td></tr>\n",
       "<tr><td>2020-11-18</td><td>Kenai Peninsula Borough</td><td>Alaska</td><td>2122</td><td>1885</td><td>4</td></tr>\n",
       "<tr><td>2020-12-21</td><td>Bristol Bay plus Lake and Peninsula</td><td>Alaska</td><td>2997</td><td>156</td><td>0</td></tr>\n",
       "<tr><td>2020-10-28</td><td>Yakutat plus Hoonah-Angoon</td><td>Alaska</td><td>2998</td><td>38</td><td>0</td></tr>\n",
       "<tr><td>2020-10-28</td><td>Wrangell City and Borough</td><td>Alaska</td><td>2275</td><td>19</td><td>0</td></tr>\n",
       "<tr><td>2020-11-10</td><td>Dillingham Census Area</td><td>Alaska</td><td>2070</td><td>71</td><td>0</td></tr>\n",
       "<tr><td>2020-10-31</td><td>Juneau City and Borough</td><td>Alaska</td><td>2110</td><td>569</td><td>2</td></tr>\n",
       "<tr><td>2020-11-24</td><td>Sitka City and Borough</td><td>Alaska</td><td>2220</td><td>163</td><td>0</td></tr>\n",
       "<tr><td>2020-10-22</td><td>Aleutians East Borough</td><td>Alaska</td><td>2013</td><td>15</td><td>0</td></tr>\n",
       "<tr><td>2020-10-09</td><td>Bethel Census Area</td><td>Alaska</td><td>2050</td><td>169</td><td>1</td></tr>\n",
       "<tr><td>2020-10-23</td><td>North Slope Borough</td><td>Alaska</td><td>2185</td><td>234</td><td>0</td></tr>\n",
       "<tr><td>2020-12-09</td><td>Bristol Bay plus Lake and Peninsula</td><td>Alaska</td><td>2997</td><td>151</td><td>0</td></tr>\n",
       "<tr><td>2020-09-07</td><td>Denali Borough</td><td>Alaska</td><td>2068</td><td>5</td><td>0</td></tr>\n",
       "<tr><td>2020-09-07</td><td>Ketchikan Gateway Borough</td><td>Alaska</td><td>2130</td><td>65</td><td>0</td></tr>\n",
       "<tr><td>2020-09-16</td><td>Sitka City and Borough</td><td>Alaska</td><td>2220</td><td>53</td><td>0</td></tr>\n",
       "<tr><td>2020-09-19</td><td>Matanuska-Susitna Borough</td><td>Alaska</td><td>2170</td><td>586</td><td>2</td></tr>\n",
       "<tr><td>2020-09-02</td><td>Bristol Bay plus Lake and Peninsula</td><td>Alaska</td><td>2997</td><td>77</td><td>0</td></tr>\n",
       "<tr><td>2020-09-08</td><td>Yukon-Koyukuk Census Area</td><td>Alaska</td><td>2290</td><td>74</td><td>1</td></tr>\n",
       "<tr><td>2020-08-07</td><td>Wrangell City and Borough</td><td>Alaska</td><td>2275</td><td>15</td><td>0</td></tr>\n",
       "<tr><td>2020-08-13</td><td>Dillingham Census Area</td><td>Alaska</td><td>2070</td><td>24</td><td>0</td></tr>\n",
       "<tr><td>2020-08-13</td><td>Yakutat plus Hoonah-Angoon</td><td>Alaska</td><td>2998</td><td>11</td><td>0</td></tr>\n",
       "<tr><td>2020-08-10</td><td>Yukon-Koyukuk Census Area</td><td>Alaska</td><td>2290</td><td>54</td><td>1</td></tr>\n",
       "<tr><td>2020-08-27</td><td>Fairbanks North Star Borough</td><td>Alaska</td><td>2090</td><td>628</td><td>8</td></tr>\n",
       "<tr><td>2020-07-10</td><td>Nome Census Area</td><td>Alaska</td><td>2180</td><td>14</td><td>0</td></tr>\n",
       "<tr><td>2020-07-28</td><td>Anchorage</td><td>Alaska</td><td>2020</td><td>1601</td><td>9</td></tr>\n",
       "<tr><td>2020-07-10</td><td>Petersburg Borough</td><td>Alaska</td><td>2195</td><td>8</td><td>0</td></tr>\n",
       "<tr><td>2020-07-26</td><td>Fairbanks North Star Borough</td><td>Alaska</td><td>2090</td><td>403</td><td>4</td></tr>\n",
       "<tr><td>2020-07-17</td><td>Juneau City and Borough</td><td>Alaska</td><td>2110</td><td>65</td><td>2</td></tr>\n",
       "<tr><td>2020-07-28</td><td>Aleutians West Census Area</td><td>Alaska</td><td>2016</td><td>87</td><td>0</td></tr>\n",
       "<tr><td>2020-07-11</td><td>Petersburg Borough</td><td>Alaska</td><td>2195</td><td>8</td><td>0</td></tr>\n",
       "<tr><td>2020-07-16</td><td>Unknown</td><td>Alaska</td><td>NULL</td><td>15</td><td>0</td></tr>\n",
       "<tr><td>2020-06-10</td><td>Matanuska-Susitna Borough</td><td>Alaska</td><td>2170</td><td>38</td><td>1</td></tr>\n",
       "<tr><td>2020-06-12</td><td>Nome Census Area</td><td>Alaska</td><td>2180</td><td>4</td><td>0</td></tr>\n",
       "<tr><td>2020-05-29</td><td>Valdez-Cordova Census Area</td><td>Alaska</td><td>2261</td><td>2</td><td>0</td></tr>\n",
       "<tr><td>2020-06-04</td><td>Unknown</td><td>Alaska</td><td>NULL</td><td>1</td><td>0</td></tr>\n",
       "<tr><td>2020-06-24</td><td>Kodiak Island Borough</td><td>Alaska</td><td>2150</td><td>7</td><td>0</td></tr>\n",
       "<tr><td>2020-05-30</td><td>Ketchikan Gateway Borough</td><td>Alaska</td><td>2130</td><td>16</td><td>0</td></tr>\n",
       "<tr><td>2020-06-24</td><td>Aleutians East Borough</td><td>Alaska</td><td>2013</td><td>2</td><td>0</td></tr>\n",
       "<tr><td>2020-06-09</td><td>Northwest Arctic Borough</td><td>Alaska</td><td>2188</td><td>3</td><td>0</td></tr>\n",
       "<tr><td>2020-06-27</td><td>Sitka City and Borough</td><td>Alaska</td><td>2220</td><td>15</td><td>0</td></tr>\n",
       "<tr><td>2020-05-21</td><td>Yukon-Koyukuk Census Area</td><td>Alaska</td><td>2290</td><td>1</td><td>0</td></tr>\n",
       "<tr><td>2020-05-15</td><td>Bethel Census Area</td><td>Alaska</td><td>2050</td><td>1</td><td>0</td></tr>\n",
       "<tr><td>2020-05-18</td><td>Sitka City and Borough</td><td>Alaska</td><td>2220</td><td>1</td><td>0</td></tr>\n",
       "<tr><td>2020-05-13</td><td>Ketchikan Gateway Borough</td><td>Alaska</td><td>2130</td><td>16</td><td>0</td></tr>\n",
       "<tr><td>2020-04-03</td><td>Ketchikan Gateway Borough</td><td>Alaska</td><td>2130</td><td>14</td><td>0</td></tr>\n",
       "<tr><td>2020-04-11</td><td>Ketchikan Gateway Borough</td><td>Alaska</td><td>2130</td><td>14</td><td>0</td></tr>\n",
       "<tr><td>2020-04-23</td><td>Ketchikan Gateway Borough</td><td>Alaska</td><td>2130</td><td>16</td><td>0</td></tr>\n",
       "<tr><td>2020-03-18</td><td>Ketchikan Gateway Borough</td><td>Alaska</td><td>2130</td><td>1</td><td>0</td></tr>\n",
       "<tr><td>2021-02-22</td><td>Mohave</td><td>Arizona</td><td>4015</td><td>20931</td><td>625</td></tr>\n",
       "<tr><td>2021-02-23</td><td>Gila</td><td>Arizona</td><td>4007</td><td>6357</td><td>211</td></tr>\n",
       "<tr><td>2021-02-15</td><td>Maricopa</td><td>Arizona</td><td>4013</td><td>499105</td><td>8505</td></tr>\n",
       "<tr><td>2021-01-31</td><td>Apache</td><td>Arizona</td><td>4001</td><td>9607</td><td>311</td></tr>\n",
       "<tr><td>2021-02-26</td><td>Pima</td><td>Arizona</td><td>4019</td><td>109137</td><td>2212</td></tr>\n",
       "<tr><td>2021-01-10</td><td>Pinal</td><td>Arizona</td><td>4021</td><td>33154</td><td>418</td></tr>\n",
       "<tr><td>2021-01-25</td><td>Mohave</td><td>Arizona</td><td>4015</td><td>18398</td><td>488</td></tr>\n",
       "<tr><td>2021-01-08</td><td>Apache</td><td>Arizona</td><td>4001</td><td>8119</td><td>259</td></tr>\n",
       "<tr><td>2021-02-07</td><td>Greenlee</td><td>Arizona</td><td>4011</td><td>536</td><td>6</td></tr>\n",
       "<tr><td>2021-01-13</td><td>Cochise</td><td>Arizona</td><td>4003</td><td>9344</td><td>181</td></tr>\n",
       "<tr><td>2020-11-28</td><td>Gila</td><td>Arizona</td><td>4007</td><td>2913</td><td>92</td></tr>\n",
       "<tr><td>2020-12-27</td><td>Apache</td><td>Arizona</td><td>4001</td><td>7192</td><td>225</td></tr>\n",
       "<tr><td>2020-12-17</td><td>Pinal</td><td>Arizona</td><td>4021</td><td>22926</td><td>317</td></tr>\n",
       "<tr><td>2020-12-25</td><td>Mohave</td><td>Arizona</td><td>4015</td><td>11198</td><td>324</td></tr>\n",
       "<tr><td>2020-12-18</td><td>Santa Cruz</td><td>Arizona</td><td>4023</td><td>5228</td><td>86</td></tr>\n",
       "<tr><td>2020-11-13</td><td>Greenlee</td><td>Arizona</td><td>4011</td><td>127</td><td>2</td></tr>\n",
       "<tr><td>2020-10-31</td><td>Cochise</td><td>Arizona</td><td>4003</td><td>2216</td><td>75</td></tr>\n",
       "<tr><td>2020-12-08</td><td>Coconino</td><td>Arizona</td><td>4005</td><td>8494</td><td>182</td></tr>\n",
       "<tr><td>2020-12-07</td><td>Pima</td><td>Arizona</td><td>4019</td><td>45892</td><td>730</td></tr>\n",
       "<tr><td>2020-11-09</td><td>Yavapai</td><td>Arizona</td><td>4025</td><td>3284</td><td>101</td></tr>\n",
       "<tr><td>2020-11-14</td><td>Cochise</td><td>Arizona</td><td>4003</td><td>2679</td><td>77</td></tr>\n",
       "<tr><td>2020-12-26</td><td>Santa Cruz</td><td>Arizona</td><td>4023</td><td>5748</td><td>93</td></tr>\n",
       "<tr><td>2020-11-03</td><td>Graham</td><td>Arizona</td><td>4009</td><td>1307</td><td>31</td></tr>\n",
       "<tr><td>2020-11-27</td><td>Santa Cruz</td><td>Arizona</td><td>4023</td><td>3798</td><td>69</td></tr>\n",
       "<tr><td>2020-10-13</td><td>Yavapai</td><td>Arizona</td><td>4025</td><td>2725</td><td>86</td></tr>\n",
       "<tr><td>2020-11-23</td><td>Gila</td><td>Arizona</td><td>4007</td><td>2631</td><td>87</td></tr>\n",
       "<tr><td>2020-10-09</td><td>Navajo</td><td>Arizona</td><td>4017</td><td>5874</td><td>236</td></tr>\n",
       "<tr><td>2020-09-10</td><td>Gila</td><td>Arizona</td><td>4007</td><td>1154</td><td>51</td></tr>\n",
       "<tr><td>2020-09-01</td><td>Greenlee</td><td>Arizona</td><td>4011</td><td>58</td><td>2</td></tr>\n",
       "<tr><td>2020-09-11</td><td>Greenlee</td><td>Arizona</td><td>4011</td><td>58</td><td>2</td></tr>\n",
       "<tr><td>2020-08-02</td><td>Coconino</td><td>Arizona</td><td>4005</td><td>2990</td><td>115</td></tr>\n",
       "<tr><td>2020-08-02</td><td>La Paz</td><td>Arizona</td><td>4012</td><td>473</td><td>10</td></tr>\n",
       "<tr><td>2020-08-03</td><td>Coconino</td><td>Arizona</td><td>4005</td><td>2997</td><td>116</td></tr>\n",
       "<tr><td>2020-08-09</td><td>Santa Cruz</td><td>Arizona</td><td>4023</td><td>2666</td><td>53</td></tr>\n",
       "<tr><td>2020-08-13</td><td>Gila</td><td>Arizona</td><td>4007</td><td>978</td><td>41</td></tr>\n",
       "<tr><td>2020-08-05</td><td>Yuma</td><td>Arizona</td><td>4027</td><td>11319</td><td>276</td></tr>\n",
       "<tr><td>2020-08-17</td><td>Mohave</td><td>Arizona</td><td>4015</td><td>3368</td><td>184</td></tr>\n",
       "<tr><td>2020-07-26</td><td>Pinal</td><td>Arizona</td><td>4021</td><td>7468</td><td>123</td></tr>\n",
       "<tr><td>2020-07-17</td><td>Yavapai</td><td>Arizona</td><td>4025</td><td>1329</td><td>26</td></tr>\n",
       "<tr><td>2020-07-07</td><td>Maricopa</td><td>Arizona</td><td>4013</td><td>67543</td><td>933</td></tr>\n",
       "<tr><td>2020-07-15</td><td>Coconino</td><td>Arizona</td><td>4005</td><td>2532</td><td>102</td></tr>\n",
       "<tr><td>2020-07-03</td><td>Navajo</td><td>Arizona</td><td>4017</td><td>3817</td><td>132</td></tr>\n",
       "<tr><td>2020-07-19</td><td>Gila</td><td>Arizona</td><td>4007</td><td>570</td><td>16</td></tr>\n",
       "<tr><td>2020-07-03</td><td>Mohave</td><td>Arizona</td><td>4015</td><td>1342</td><td>88</td></tr>\n",
       "<tr><td>2020-07-13</td><td>Pima</td><td>Arizona</td><td>4019</td><td>11856</td><td>327</td></tr>\n",
       "<tr><td>2020-07-11</td><td>Pima</td><td>Arizona</td><td>4019</td><td>11443</td><td>326</td></tr>\n",
       "<tr><td>2020-06-22</td><td>Pima</td><td>Arizona</td><td>4019</td><td>5587</td><td>242</td></tr>\n",
       "<tr><td>2020-06-04</td><td>Cochise</td><td>Arizona</td><td>4003</td><td>105</td><td>5</td></tr>\n",
       "<tr><td>2020-06-01</td><td>Mohave</td><td>Arizona</td><td>4015</td><td>403</td><td>45</td></tr>\n",
       "<tr><td>2020-05-31</td><td>Graham</td><td>Arizona</td><td>4009</td><td>32</td><td>2</td></tr>\n",
       "<tr><td>2020-06-10</td><td>Graham</td><td>Arizona</td><td>4009</td><td>45</td><td>2</td></tr>\n",
       "<tr><td>2020-05-17</td><td>Cochise</td><td>Arizona</td><td>4003</td><td>46</td><td>1</td></tr>\n",
       "<tr><td>2020-05-05</td><td>Greenlee</td><td>Arizona</td><td>4011</td><td>2</td><td>0</td></tr>\n",
       "<tr><td>2020-05-06</td><td>Mohave</td><td>Arizona</td><td>4015</td><td>150</td><td>17</td></tr>\n",
       "<tr><td>2020-04-21</td><td>Yuma</td><td>Arizona</td><td>4027</td><td>27</td><td>1</td></tr>\n",
       "<tr><td>2020-04-06</td><td>Yavapai</td><td>Arizona</td><td>4025</td><td>50</td><td>1</td></tr>\n",
       "<tr><td>2020-04-10</td><td>La Paz</td><td>Arizona</td><td>4012</td><td>4</td><td>0</td></tr>\n",
       "<tr><td>2020-04-18</td><td>Yavapai</td><td>Arizona</td><td>4025</td><td>72</td><td>1</td></tr>\n",
       "<tr><td>2020-04-04</td><td>Apache</td><td>Arizona</td><td>4001</td><td>20</td><td>0</td></tr>\n",
       "<tr><td>2020-04-21</td><td>Apache</td><td>Arizona</td><td>4001</td><td>226</td><td>5</td></tr>\n",
       "<tr><td>2020-04-21</td><td>Cochise</td><td>Arizona</td><td>4003</td><td>29</td><td>0</td></tr>\n",
       "<tr><td>2020-04-04</td><td>Pinal</td><td>Arizona</td><td>4021</td><td>89</td><td>0</td></tr>\n",
       "<tr><td>2020-04-22</td><td>Graham</td><td>Arizona</td><td>4009</td><td>2</td><td>0</td></tr>\n",
       "<tr><td>2020-04-19</td><td>Apache</td><td>Arizona</td><td>4001</td><td>178</td><td>4</td></tr>\n",
       "<tr><td>2020-08-25</td><td>Cochise</td><td>Arizona</td><td>4003</td><td>1805</td><td>60</td></tr>\n",
       "<tr><td>2021-02-22</td><td>Crawford</td><td>Arkansas</td><td>5033</td><td>6698</td><td>104</td></tr>\n",
       "<tr><td>2021-02-11</td><td>Arkansas</td><td>Arkansas</td><td>5001</td><td>1914</td><td>37</td></tr>\n",
       "<tr><td>2021-03-02</td><td>Jefferson</td><td>Arkansas</td><td>5069</td><td>8622</td><td>159</td></tr>\n",
       "<tr><td>2021-02-16</td><td>Arkansas</td><td>Arkansas</td><td>5001</td><td>1930</td><td>38</td></tr>\n",
       "<tr><td>2021-03-03</td><td>Saline</td><td>Arkansas</td><td>5125</td><td>11459</td><td>154</td></tr>\n",
       "<tr><td>2021-02-26</td><td>Sharp</td><td>Arkansas</td><td>5135</td><td>1521</td><td>50</td></tr>\n",
       "<tr><td>2021-03-05</td><td>Lonoke</td><td>Arkansas</td><td>5085</td><td>6886</td><td>105</td></tr>\n",
       "<tr><td>2021-02-17</td><td>Mississippi</td><td>Arkansas</td><td>5093</td><td>5502</td><td>112</td></tr>\n",
       "<tr><td>2021-02-08</td><td>Craighead</td><td>Arkansas</td><td>5031</td><td>12465</td><td>173</td></tr>\n",
       "<tr><td>2021-03-04</td><td>Prairie</td><td>Arkansas</td><td>5117</td><td>877</td><td>21</td></tr>\n",
       "<tr><td>2021-02-08</td><td>Conway</td><td>Arkansas</td><td>5029</td><td>2075</td><td>29</td></tr>\n",
       "<tr><td>2021-03-10</td><td>Cross</td><td>Arkansas</td><td>5037</td><td>1901</td><td>48</td></tr>\n",
       "<tr><td>2021-02-13</td><td>Cross</td><td>Arkansas</td><td>5037</td><td>1874</td><td>47</td></tr>\n",
       "<tr><td>2021-03-11</td><td>Pulaski</td><td>Arkansas</td><td>5119</td><td>37749</td><td>582</td></tr>\n",
       "<tr><td>2021-03-05</td><td>Jefferson</td><td>Arkansas</td><td>5069</td><td>8641</td><td>160</td></tr>\n",
       "<tr><td>2021-02-26</td><td>Cross</td><td>Arkansas</td><td>5037</td><td>1900</td><td>48</td></tr>\n",
       "<tr><td>2021-03-04</td><td>Hempstead</td><td>Arkansas</td><td>5057</td><td>1933</td><td>18</td></tr>\n",
       "<tr><td>2021-02-10</td><td>Poinsett</td><td>Arkansas</td><td>5111</td><td>3034</td><td>74</td></tr>\n",
       "<tr><td>2021-02-16</td><td>Perry</td><td>Arkansas</td><td>5105</td><td>781</td><td>8</td></tr>\n",
       "<tr><td>2021-03-11</td><td>Clay</td><td>Arkansas</td><td>5021</td><td>1704</td><td>48</td></tr>\n",
       "<tr><td>2021-02-02</td><td>Carroll</td><td>Arkansas</td><td>5015</td><td>2597</td><td>39</td></tr>\n",
       "<tr><td>2021-03-08</td><td>Izard</td><td>Arkansas</td><td>5065</td><td>1642</td><td>41</td></tr>\n",
       "<tr><td>2021-03-11</td><td>Lonoke</td><td>Arkansas</td><td>5085</td><td>6927</td><td>110</td></tr>\n",
       "<tr><td>2021-02-24</td><td>Arkansas</td><td>Arkansas</td><td>5001</td><td>1963</td><td>38</td></tr>\n",
       "<tr><td>2021-03-03</td><td>Carroll</td><td>Arkansas</td><td>5015</td><td>2717</td><td>42</td></tr>\n",
       "<tr><td>2021-02-21</td><td>Polk</td><td>Arkansas</td><td>5113</td><td>1856</td><td>62</td></tr>\n",
       "<tr><td>2021-03-03</td><td>Sebastian</td><td>Arkansas</td><td>5131</td><td>14637</td><td>257</td></tr>\n",
       "<tr><td>2021-01-03</td><td>Columbia</td><td>Arkansas</td><td>5027</td><td>1597</td><td>43</td></tr>\n",
       "<tr><td>2021-02-28</td><td>Calhoun</td><td>Arkansas</td><td>5013</td><td>398</td><td>2</td></tr>\n",
       "<tr><td>2021-01-09</td><td>Calhoun</td><td>Arkansas</td><td>5013</td><td>267</td><td>1</td></tr>\n",
       "<tr><td>2021-01-14</td><td>Searcy</td><td>Arkansas</td><td>5129</td><td>558</td><td>14</td></tr>\n",
       "<tr><td>2020-12-31</td><td>Arkansas</td><td>Arkansas</td><td>5001</td><td>1314</td><td>30</td></tr>\n",
       "<tr><td>2021-01-25</td><td>Pope</td><td>Arkansas</td><td>5115</td><td>6983</td><td>81</td></tr>\n",
       "<tr><td>2021-01-07</td><td>Jefferson</td><td>Arkansas</td><td>5069</td><td>7043</td><td>133</td></tr>\n",
       "<tr><td>2021-01-20</td><td>Lonoke</td><td>Arkansas</td><td>5085</td><td>5393</td><td>98</td></tr>\n",
       "<tr><td>2021-01-28</td><td>Craighead</td><td>Arkansas</td><td>5031</td><td>12052</td><td>163</td></tr>\n",
       "<tr><td>2021-01-18</td><td>Nevada</td><td>Arkansas</td><td>5099</td><td>649</td><td>22</td></tr>\n",
       "<tr><td>2021-03-06</td><td>Lonoke</td><td>Arkansas</td><td>5085</td><td>6897</td><td>106</td></tr>\n",
       "<tr><td>2021-01-26</td><td>Perry</td><td>Arkansas</td><td>5105</td><td>652</td><td>6</td></tr>\n",
       "<tr><td>2021-01-16</td><td>Ashley</td><td>Arkansas</td><td>5003</td><td>1480</td><td>24</td></tr>\n",
       "<tr><td>2021-01-26</td><td>Washington</td><td>Arkansas</td><td>5143</td><td>27059</td><td>291</td></tr>\n",
       "<tr><td>2021-01-16</td><td>White</td><td>Arkansas</td><td>5145</td><td>5902</td><td>76</td></tr>\n",
       "<tr><td>2021-01-29</td><td>Woodruff</td><td>Arkansas</td><td>5147</td><td>545</td><td>6</td></tr>\n",
       "<tr><td>2021-01-07</td><td>Hot Spring</td><td>Arkansas</td><td>5059</td><td>3843</td><td>58</td></tr>\n",
       "<tr><td>2021-01-23</td><td>Ouachita</td><td>Arkansas</td><td>5103</td><td>1847</td><td>42</td></tr>\n",
       "<tr><td>2020-12-31</td><td>Boone</td><td>Arkansas</td><td>5009</td><td>2571</td><td>68</td></tr>\n",
       "<tr><td>2021-01-25</td><td>Poinsett</td><td>Arkansas</td><td>5111</td><td>2858</td><td>71</td></tr>\n",
       "<tr><td>2020-10-27</td><td>Clark</td><td>Arkansas</td><td>5019</td><td>497</td><td>5</td></tr>\n",
       "<tr><td>2021-01-24</td><td>Van Buren</td><td>Arkansas</td><td>5141</td><td>1039</td><td>12</td></tr>\n",
       "<tr><td>2021-01-18</td><td>Poinsett</td><td>Arkansas</td><td>5111</td><td>2746</td><td>70</td></tr>\n",
       "<tr><td>2020-12-28</td><td>Franklin</td><td>Arkansas</td><td>5047</td><td>1052</td><td>25</td></tr>\n",
       "<tr><td>2021-01-25</td><td>Sharp</td><td>Arkansas</td><td>5135</td><td>1411</td><td>41</td></tr>\n",
       "<tr><td>2021-03-06</td><td>Carroll</td><td>Arkansas</td><td>5015</td><td>2728</td><td>42</td></tr>\n",
       "<tr><td>2021-02-05</td><td>Saline</td><td>Arkansas</td><td>5125</td><td>10788</td><td>153</td></tr>\n",
       "<tr><td>2020-12-27</td><td>Jefferson</td><td>Arkansas</td><td>5069</td><td>6516</td><td>125</td></tr>\n",
       "<tr><td>2020-12-19</td><td>Crittenden</td><td>Arkansas</td><td>5035</td><td>3950</td><td>66</td></tr>\n",
       "<tr><td>2020-12-19</td><td>Montgomery</td><td>Arkansas</td><td>5097</td><td>434</td><td>16</td></tr>\n",
       "<tr><td>2020-12-15</td><td>Pike</td><td>Arkansas</td><td>5109</td><td>503</td><td>6</td></tr>\n",
       "<tr><td>2020-11-26</td><td>Franklin</td><td>Arkansas</td><td>5047</td><td>774</td><td>12</td></tr>\n",
       "<tr><td>2021-01-04</td><td>Searcy</td><td>Arkansas</td><td>5129</td><td>515</td><td>13</td></tr>\n",
       "<tr><td>2020-11-25</td><td>Pope</td><td>Arkansas</td><td>5115</td><td>3597</td><td>42</td></tr>\n",
       "<tr><td>2021-01-05</td><td>Polk</td><td>Arkansas</td><td>5113</td><td>1330</td><td>46</td></tr>\n",
       "<tr><td>2020-12-17</td><td>Lawrence</td><td>Arkansas</td><td>5075</td><td>1370</td><td>33</td></tr>\n",
       "<tr><td>2021-01-04</td><td>Bradley</td><td>Arkansas</td><td>5011</td><td>977</td><td>16</td></tr>\n",
       "<tr><td>2020-12-17</td><td>Cleveland</td><td>Arkansas</td><td>5025</td><td>496</td><td>16</td></tr>\n",
       "<tr><td>2020-11-13</td><td>Cleveland</td><td>Arkansas</td><td>5025</td><td>297</td><td>13</td></tr>\n",
       "<tr><td>2020-12-23</td><td>Lincoln</td><td>Arkansas</td><td>5079</td><td>2757</td><td>21</td></tr>\n",
       "<tr><td>2020-12-30</td><td>Searcy</td><td>Arkansas</td><td>5129</td><td>500</td><td>11</td></tr>\n",
       "<tr><td>2020-12-04</td><td>St. Francis</td><td>Arkansas</td><td>5123</td><td>2150</td><td>15</td></tr>\n",
       "<tr><td>2020-12-21</td><td>Marion</td><td>Arkansas</td><td>5089</td><td>565</td><td>14</td></tr>\n",
       "<tr><td>2020-12-13</td><td>Monroe</td><td>Arkansas</td><td>5095</td><td>372</td><td>5</td></tr>\n",
       "<tr><td>2020-12-01</td><td>Ashley</td><td>Arkansas</td><td>5003</td><td>871</td><td>15</td></tr>\n",
       "<tr><td>2020-11-13</td><td>Little River</td><td>Arkansas</td><td>5081</td><td>547</td><td>39</td></tr>\n",
       "<tr><td>2020-12-25</td><td>Searcy</td><td>Arkansas</td><td>5129</td><td>474</td><td>11</td></tr>\n",
       "<tr><td>2020-12-17</td><td>Jefferson</td><td>Arkansas</td><td>5069</td><td>5949</td><td>122</td></tr>\n",
       "<tr><td>2020-12-15</td><td>Chicot</td><td>Arkansas</td><td>5017</td><td>1318</td><td>29</td></tr>\n",
       "<tr><td>2020-10-28</td><td>Monroe</td><td>Arkansas</td><td>5095</td><td>212</td><td>1</td></tr>\n",
       "<tr><td>2020-11-08</td><td>Sebastian</td><td>Arkansas</td><td>5131</td><td>5562</td><td>106</td></tr>\n",
       "<tr><td>2020-11-04</td><td>Hempstead</td><td>Arkansas</td><td>5057</td><td>627</td><td>5</td></tr>\n",
       "<tr><td>2020-11-04</td><td>Arkansas</td><td>Arkansas</td><td>5001</td><td>744</td><td>20</td></tr>\n",
       "<tr><td>2020-11-08</td><td>Unknown</td><td>Arkansas</td><td>NULL</td><td>1868</td><td>0</td></tr>\n",
       "<tr><td>2020-11-06</td><td>Van Buren</td><td>Arkansas</td><td>5141</td><td>242</td><td>3</td></tr>\n",
       "<tr><td>2020-11-14</td><td>Independence</td><td>Arkansas</td><td>5063</td><td>1843</td><td>68</td></tr>\n",
       "<tr><td>2020-10-28</td><td>Washington</td><td>Arkansas</td><td>5143</td><td>11522</td><td>151</td></tr>\n",
       "<tr><td>2020-10-27</td><td>Benton</td><td>Arkansas</td><td>5007</td><td>8177</td><td>118</td></tr>\n",
       "<tr><td>2021-01-15</td><td>Ashley</td><td>Arkansas</td><td>5003</td><td>1462</td><td>24</td></tr>\n",
       "<tr><td>2020-11-01</td><td>Lawrence</td><td>Arkansas</td><td>5075</td><td>884</td><td>21</td></tr>\n",
       "<tr><td>2020-11-03</td><td>Mississippi</td><td>Arkansas</td><td>5093</td><td>2448</td><td>69</td></tr>\n",
       "<tr><td>2020-10-28</td><td>Hot Spring</td><td>Arkansas</td><td>5059</td><td>2212</td><td>38</td></tr>\n",
       "<tr><td>2020-11-01</td><td>Cleburne</td><td>Arkansas</td><td>5023</td><td>500</td><td>16</td></tr>\n",
       "<tr><td>2020-12-26</td><td>Calhoun</td><td>Arkansas</td><td>5013</td><td>216</td><td>1</td></tr>\n",
       "<tr><td>2020-11-10</td><td>Unknown</td><td>Arkansas</td><td>NULL</td><td>1847</td><td>0</td></tr>\n",
       "<tr><td>2020-10-27</td><td>Dallas</td><td>Arkansas</td><td>5039</td><td>179</td><td>5</td></tr>\n",
       "<tr><td>2020-07-23</td><td>Randolph</td><td>Arkansas</td><td>5121</td><td>121</td><td>2</td></tr>\n",
       "<tr><td>2020-11-11</td><td>Madison</td><td>Arkansas</td><td>5087</td><td>496</td><td>6</td></tr>\n",
       "<tr><td>2020-10-22</td><td>Arkansas</td><td>Arkansas</td><td>5001</td><td>634</td><td>12</td></tr>\n",
       "<tr><td>2020-10-01</td><td>Ashley</td><td>Arkansas</td><td>5003</td><td>443</td><td>11</td></tr>\n",
       "<tr><td>2020-10-16</td><td>Pike</td><td>Arkansas</td><td>5109</td><td>253</td><td>2</td></tr>\n",
       "<tr><td>2020-11-21</td><td>Franklin</td><td>Arkansas</td><td>5047</td><td>709</td><td>8</td></tr>\n",
       "<tr><td>2020-10-03</td><td>Ashley</td><td>Arkansas</td><td>5003</td><td>451</td><td>11</td></tr>\n",
       "<tr><td>2020-11-23</td><td>Drew</td><td>Arkansas</td><td>5043</td><td>583</td><td>7</td></tr>\n",
       "<tr><td>2020-10-08</td><td>Hot Spring</td><td>Arkansas</td><td>5059</td><td>2007</td><td>28</td></tr>\n",
       "<tr><td>2020-10-17</td><td>Columbia</td><td>Arkansas</td><td>5027</td><td>646</td><td>19</td></tr>\n",
       "<tr><td>2020-10-04</td><td>Crittenden</td><td>Arkansas</td><td>5035</td><td>2007</td><td>48</td></tr>\n",
       "<tr><td>2020-10-19</td><td>St. Francis</td><td>Arkansas</td><td>5123</td><td>1657</td><td>10</td></tr>\n",
       "<tr><td>2020-10-07</td><td>Mississippi</td><td>Arkansas</td><td>5093</td><td>1799</td><td>53</td></tr>\n",
       "<tr><td>2020-10-23</td><td>Cleburne</td><td>Arkansas</td><td>5023</td><td>448</td><td>15</td></tr>\n",
       "<tr><td>2020-10-21</td><td>Carroll</td><td>Arkansas</td><td>5015</td><td>955</td><td>12</td></tr>\n",
       "<tr><td>2020-10-25</td><td>Phillips</td><td>Arkansas</td><td>5107</td><td>741</td><td>16</td></tr>\n",
       "<tr><td>2020-10-24</td><td>Johnson</td><td>Arkansas</td><td>5071</td><td>1004</td><td>7</td></tr>\n",
       "<tr><td>2020-10-11</td><td>Madison</td><td>Arkansas</td><td>5087</td><td>394</td><td>5</td></tr>\n",
       "<tr><td>2020-11-23</td><td>Sharp</td><td>Arkansas</td><td>5135</td><td>628</td><td>14</td></tr>\n",
       "<tr><td>2020-11-23</td><td>Howard</td><td>Arkansas</td><td>5061</td><td>777</td><td>15</td></tr>\n",
       "<tr><td>2020-10-14</td><td>Lee</td><td>Arkansas</td><td>5077</td><td>1093</td><td>18</td></tr>\n",
       "<tr><td>2020-09-23</td><td>Dallas</td><td>Arkansas</td><td>5039</td><td>158</td><td>3</td></tr>\n",
       "<tr><td>2020-09-26</td><td>Ouachita</td><td>Arkansas</td><td>5103</td><td>258</td><td>6</td></tr>\n",
       "<tr><td>2020-09-28</td><td>Baxter</td><td>Arkansas</td><td>5005</td><td>351</td><td>2</td></tr>\n",
       "<tr><td>2020-09-12</td><td>Lincoln</td><td>Arkansas</td><td>5079</td><td>1775</td><td>13</td></tr>\n",
       "<tr><td>2020-09-16</td><td>Johnson</td><td>Arkansas</td><td>5071</td><td>808</td><td>5</td></tr>\n",
       "<tr><td>2020-09-16</td><td>Chicot</td><td>Arkansas</td><td>5017</td><td>986</td><td>17</td></tr>\n",
       "<tr><td>2020-09-16</td><td>Faulkner</td><td>Arkansas</td><td>5045</td><td>2103</td><td>15</td></tr>\n",
       "<tr><td>2020-09-10</td><td>Bradley</td><td>Arkansas</td><td>5011</td><td>315</td><td>6</td></tr>\n",
       "<tr><td>2020-09-28</td><td>Yell</td><td>Arkansas</td><td>5149</td><td>1256</td><td>29</td></tr>\n",
       "<tr><td>2020-09-01</td><td>Boone</td><td>Arkansas</td><td>5009</td><td>369</td><td>3</td></tr>\n",
       "<tr><td>2020-08-30</td><td>Fulton</td><td>Arkansas</td><td>5049</td><td>69</td><td>0</td></tr>\n",
       "<tr><td>2020-09-13</td><td>Jackson</td><td>Arkansas</td><td>5067</td><td>243</td><td>1</td></tr>\n",
       "<tr><td>2020-09-19</td><td>Clay</td><td>Arkansas</td><td>5021</td><td>258</td><td>7</td></tr>\n",
       "<tr><td>2020-09-17</td><td>Poinsett</td><td>Arkansas</td><td>5111</td><td>593</td><td>9</td></tr>\n",
       "<tr><td>2020-09-08</td><td>Lonoke</td><td>Arkansas</td><td>5085</td><td>796</td><td>5</td></tr>\n",
       "<tr><td>2020-09-04</td><td>Carroll</td><td>Arkansas</td><td>5015</td><td>482</td><td>8</td></tr>\n",
       "<tr><td>2020-09-14</td><td>Craighead</td><td>Arkansas</td><td>5031</td><td>2389</td><td>16</td></tr>\n",
       "<tr><td>2020-09-10</td><td>Boone</td><td>Arkansas</td><td>5009</td><td>441</td><td>4</td></tr>\n",
       "<tr><td>2020-09-24</td><td>Chicot</td><td>Arkansas</td><td>5017</td><td>1004</td><td>19</td></tr>\n",
       "<tr><td>2020-08-28</td><td>Polk</td><td>Arkansas</td><td>5113</td><td>220</td><td>4</td></tr>\n",
       "<tr><td>2020-09-11</td><td>Columbia</td><td>Arkansas</td><td>5027</td><td>331</td><td>16</td></tr>\n",
       "<tr><td>2020-09-08</td><td>Hot Spring</td><td>Arkansas</td><td>5059</td><td>1750</td><td>23</td></tr>\n",
       "<tr><td>2020-08-10</td><td>Logan</td><td>Arkansas</td><td>5083</td><td>273</td><td>1</td></tr>\n",
       "<tr><td>2020-08-16</td><td>White</td><td>Arkansas</td><td>5145</td><td>394</td><td>3</td></tr>\n",
       "<tr><td>2020-08-15</td><td>Lafayette</td><td>Arkansas</td><td>5073</td><td>59</td><td>2</td></tr>\n",
       "<tr><td>2020-08-21</td><td>Howard</td><td>Arkansas</td><td>5061</td><td>386</td><td>4</td></tr>\n",
       "<tr><td>2020-07-29</td><td>Ashley</td><td>Arkansas</td><td>5003</td><td>197</td><td>4</td></tr>\n",
       "<tr><td>2020-08-19</td><td>Jefferson</td><td>Arkansas</td><td>5069</td><td>1776</td><td>41</td></tr>\n",
       "<tr><td>2020-08-14</td><td>Greene</td><td>Arkansas</td><td>5055</td><td>526</td><td>3</td></tr>\n",
       "<tr><td>2020-08-06</td><td>Greene</td><td>Arkansas</td><td>5055</td><td>445</td><td>1</td></tr>\n",
       "<tr><td>2020-08-12</td><td>Johnson</td><td>Arkansas</td><td>5071</td><td>676</td><td>2</td></tr>\n",
       "<tr><td>2020-08-06</td><td>Desha</td><td>Arkansas</td><td>5041</td><td>179</td><td>2</td></tr>\n",
       "<tr><td>2020-07-31</td><td>Van Buren</td><td>Arkansas</td><td>5141</td><td>50</td><td>2</td></tr>\n",
       "<tr><td>2020-07-29</td><td>Polk</td><td>Arkansas</td><td>5113</td><td>124</td><td>0</td></tr>\n",
       "<tr><td>2020-08-27</td><td>Faulkner</td><td>Arkansas</td><td>5045</td><td>1610</td><td>8</td></tr>\n",
       "<tr><td>2020-08-12</td><td>Stone</td><td>Arkansas</td><td>5137</td><td>74</td><td>1</td></tr>\n",
       "<tr><td>2020-08-01</td><td>Clay</td><td>Arkansas</td><td>5021</td><td>105</td><td>4</td></tr>\n",
       "<tr><td>2020-08-17</td><td>Stone</td><td>Arkansas</td><td>5137</td><td>87</td><td>1</td></tr>\n",
       "<tr><td>2020-07-29</td><td>Chicot</td><td>Arkansas</td><td>5017</td><td>483</td><td>4</td></tr>\n",
       "<tr><td>2020-08-04</td><td>Lonoke</td><td>Arkansas</td><td>5085</td><td>469</td><td>2</td></tr>\n",
       "<tr><td>2020-08-29</td><td>Perry</td><td>Arkansas</td><td>5105</td><td>62</td><td>1</td></tr>\n",
       "<tr><td>2020-08-06</td><td>Sebastian</td><td>Arkansas</td><td>5131</td><td>2038</td><td>17</td></tr>\n",
       "<tr><td>2020-08-07</td><td>Hempstead</td><td>Arkansas</td><td>5057</td><td>233</td><td>2</td></tr>\n",
       "<tr><td>2020-08-26</td><td>Lee</td><td>Arkansas</td><td>5077</td><td>996</td><td>10</td></tr>\n",
       "<tr><td>2020-08-03</td><td>Calhoun</td><td>Arkansas</td><td>5013</td><td>13</td><td>0</td></tr>\n",
       "<tr><td>2020-08-06</td><td>Prairie</td><td>Arkansas</td><td>5117</td><td>80</td><td>0</td></tr>\n",
       "<tr><td>2020-07-27</td><td>Clark</td><td>Arkansas</td><td>5019</td><td>138</td><td>0</td></tr>\n",
       "<tr><td>2020-07-16</td><td>Chicot</td><td>Arkansas</td><td>5017</td><td>245</td><td>3</td></tr>\n",
       "<tr><td>2020-07-09</td><td>Howard</td><td>Arkansas</td><td>5061</td><td>121</td><td>1</td></tr>\n",
       "<tr><td>2020-07-08</td><td>Montgomery</td><td>Arkansas</td><td>5097</td><td>7</td><td>0</td></tr>\n",
       "<tr><td>2020-07-27</td><td>Ouachita</td><td>Arkansas</td><td>5103</td><td>68</td><td>1</td></tr>\n",
       "<tr><td>2020-07-26</td><td>Franklin</td><td>Arkansas</td><td>5047</td><td>78</td><td>1</td></tr>\n",
       "<tr><td>2020-07-28</td><td>Phillips</td><td>Arkansas</td><td>5107</td><td>256</td><td>6</td></tr>\n",
       "<tr><td>2020-07-10</td><td>Prairie</td><td>Arkansas</td><td>5117</td><td>28</td><td>0</td></tr>\n",
       "<tr><td>2020-07-03</td><td>Drew</td><td>Arkansas</td><td>5043</td><td>70</td><td>2</td></tr>\n",
       "<tr><td>2020-07-17</td><td>Cleburne</td><td>Arkansas</td><td>5023</td><td>149</td><td>5</td></tr>\n",
       "<tr><td>2020-07-24</td><td>Newton</td><td>Arkansas</td><td>5101</td><td>73</td><td>0</td></tr>\n",
       "<tr><td>2020-07-23</td><td>Greene</td><td>Arkansas</td><td>5055</td><td>208</td><td>0</td></tr>\n",
       "<tr><td>2020-07-13</td><td>Nevada</td><td>Arkansas</td><td>5099</td><td>110</td><td>3</td></tr>\n",
       "<tr><td>2020-07-17</td><td>Ouachita</td><td>Arkansas</td><td>5103</td><td>41</td><td>1</td></tr>\n",
       "<tr><td>2020-06-26</td><td>St. Francis</td><td>Arkansas</td><td>5123</td><td>804</td><td>3</td></tr>\n",
       "<tr><td>2020-07-25</td><td>Baxter</td><td>Arkansas</td><td>5005</td><td>55</td><td>0</td></tr>\n",
       "<tr><td>2020-07-01</td><td>Garland</td><td>Arkansas</td><td>5051</td><td>253</td><td>1</td></tr>\n",
       "<tr><td>2020-07-14</td><td>Howard</td><td>Arkansas</td><td>5061</td><td>154</td><td>1</td></tr>\n",
       "<tr><td>2020-07-11</td><td>Clay</td><td>Arkansas</td><td>5021</td><td>80</td><td>3</td></tr>\n",
       "<tr><td>2020-07-19</td><td>Carroll</td><td>Arkansas</td><td>5015</td><td>270</td><td>6</td></tr>\n",
       "<tr><td>2020-07-19</td><td>Hempstead</td><td>Arkansas</td><td>5057</td><td>122</td><td>1</td></tr>\n",
       "<tr><td>2020-06-28</td><td>Logan</td><td>Arkansas</td><td>5083</td><td>46</td><td>0</td></tr>\n",
       "<tr><td>2020-07-24</td><td>Pike</td><td>Arkansas</td><td>5109</td><td>49</td><td>0</td></tr>\n",
       "<tr><td>2020-07-09</td><td>Clark</td><td>Arkansas</td><td>5019</td><td>66</td><td>0</td></tr>\n",
       "<tr><td>2020-07-28</td><td>Fulton</td><td>Arkansas</td><td>5049</td><td>26</td><td>0</td></tr>\n",
       "<tr><td>2020-07-23</td><td>Arkansas</td><td>Arkansas</td><td>5001</td><td>157</td><td>1</td></tr>\n",
       "<tr><td>2020-06-28</td><td>Benton</td><td>Arkansas</td><td>5007</td><td>2623</td><td>18</td></tr>\n",
       "<tr><td>2020-07-15</td><td>Cross</td><td>Arkansas</td><td>5037</td><td>103</td><td>1</td></tr>\n",
       "<tr><td>2020-07-17</td><td>Crittenden</td><td>Arkansas</td><td>5035</td><td>916</td><td>14</td></tr>\n",
       "<tr><td>2020-06-06</td><td>Faulkner</td><td>Arkansas</td><td>5045</td><td>110</td><td>3</td></tr>\n",
       "<tr><td>2020-06-03</td><td>Monroe</td><td>Arkansas</td><td>5095</td><td>6</td><td>0</td></tr>\n",
       "<tr><td>2020-06-21</td><td>Cleveland</td><td>Arkansas</td><td>5025</td><td>25</td><td>0</td></tr>\n",
       "<tr><td>2020-06-24</td><td>Faulkner</td><td>Arkansas</td><td>5045</td><td>339</td><td>3</td></tr>\n",
       "<tr><td>2020-06-12</td><td>Bradley</td><td>Arkansas</td><td>5011</td><td>34</td><td>1</td></tr>\n",
       "<tr><td>2020-06-21</td><td>Lonoke</td><td>Arkansas</td><td>5085</td><td>88</td><td>0</td></tr>\n",
       "<tr><td>2020-06-03</td><td>Pope</td><td>Arkansas</td><td>5115</td><td>171</td><td>1</td></tr>\n",
       "<tr><td>2020-06-12</td><td>Pulaski</td><td>Arkansas</td><td>5119</td><td>1241</td><td>41</td></tr>\n",
       "<tr><td>2020-06-27</td><td>Howard</td><td>Arkansas</td><td>5061</td><td>76</td><td>1</td></tr>\n",
       "<tr><td>2020-06-24</td><td>Franklin</td><td>Arkansas</td><td>5047</td><td>13</td><td>0</td></tr>\n",
       "<tr><td>2020-05-30</td><td>Dallas</td><td>Arkansas</td><td>5039</td><td>1</td><td>0</td></tr>\n",
       "<tr><td>2020-06-13</td><td>Franklin</td><td>Arkansas</td><td>5047</td><td>6</td><td>0</td></tr>\n",
       "<tr><td>2020-06-14</td><td>Hot Spring</td><td>Arkansas</td><td>5059</td><td>42</td><td>0</td></tr>\n",
       "<tr><td>2020-06-04</td><td>Fulton</td><td>Arkansas</td><td>5049</td><td>7</td><td>0</td></tr>\n",
       "<tr><td>2020-06-25</td><td>Boone</td><td>Arkansas</td><td>5009</td><td>19</td><td>1</td></tr>\n",
       "<tr><td>2020-06-11</td><td>Cleburne</td><td>Arkansas</td><td>5023</td><td>74</td><td>4</td></tr>\n",
       "<tr><td>2020-06-20</td><td>Marion</td><td>Arkansas</td><td>5089</td><td>2</td><td>0</td></tr>\n",
       "<tr><td>2020-06-09</td><td>Van Buren</td><td>Arkansas</td><td>5141</td><td>30</td><td>2</td></tr>\n",
       "<tr><td>2020-05-07</td><td>Cleburne</td><td>Arkansas</td><td>5023</td><td>72</td><td>4</td></tr>\n",
       "<tr><td>2020-05-12</td><td>Lafayette</td><td>Arkansas</td><td>5073</td><td>9</td><td>1</td></tr>\n",
       "<tr><td>2020-05-13</td><td>Hempstead</td><td>Arkansas</td><td>5057</td><td>7</td><td>1</td></tr>\n",
       "<tr><td>2020-05-25</td><td>Sevier</td><td>Arkansas</td><td>5133</td><td>93</td><td>1</td></tr>\n",
       "<tr><td>2020-04-27</td><td>Van Buren</td><td>Arkansas</td><td>5141</td><td>27</td><td>2</td></tr>\n",
       "<tr><td>2020-05-17</td><td>Chicot</td><td>Arkansas</td><td>5017</td><td>10</td><td>0</td></tr>\n",
       "<tr><td>2020-05-24</td><td>Arkansas</td><td>Arkansas</td><td>5001</td><td>3</td><td>0</td></tr>\n",
       "<tr><td>2020-05-25</td><td>Benton</td><td>Arkansas</td><td>5007</td><td>297</td><td>0</td></tr>\n",
       "<tr><td>2020-05-14</td><td>Columbia</td><td>Arkansas</td><td>5027</td><td>15</td><td>2</td></tr>\n",
       "<tr><td>2020-04-25</td><td>Crittenden</td><td>Arkansas</td><td>5035</td><td>169</td><td>5</td></tr>\n",
       "<tr><td>2020-04-27</td><td>Hot Spring</td><td>Arkansas</td><td>5059</td><td>10</td><td>0</td></tr>\n",
       "<tr><td>2020-04-28</td><td>Independence</td><td>Arkansas</td><td>5063</td><td>9</td><td>0</td></tr>\n",
       "<tr><td>2020-05-22</td><td>Drew</td><td>Arkansas</td><td>5043</td><td>19</td><td>1</td></tr>\n",
       "<tr><td>2020-05-26</td><td>Van Buren</td><td>Arkansas</td><td>5141</td><td>28</td><td>2</td></tr>\n",
       "<tr><td>2020-05-22</td><td>St. Francis</td><td>Arkansas</td><td>5123</td><td>621</td><td>1</td></tr>\n",
       "<tr><td>2020-05-25</td><td>Mississippi</td><td>Arkansas</td><td>5093</td><td>70</td><td>2</td></tr>\n",
       "<tr><td>2020-05-11</td><td>Mississippi</td><td>Arkansas</td><td>5093</td><td>52</td><td>0</td></tr>\n",
       "<tr><td>2020-05-08</td><td>Washington</td><td>Arkansas</td><td>5143</td><td>105</td><td>3</td></tr>\n",
       "<tr><td>2020-04-25</td><td>Izard</td><td>Arkansas</td><td>5065</td><td>3</td><td>0</td></tr>\n",
       "<tr><td>2020-05-18</td><td>Fulton</td><td>Arkansas</td><td>5049</td><td>4</td><td>0</td></tr>\n",
       "<tr><td>2020-05-25</td><td>White</td><td>Arkansas</td><td>5145</td><td>40</td><td>1</td></tr>\n",
       "<tr><td>2020-05-09</td><td>Desha</td><td>Arkansas</td><td>5041</td><td>16</td><td>0</td></tr>\n",
       "<tr><td>2020-05-02</td><td>Franklin</td><td>Arkansas</td><td>5047</td><td>2</td><td>0</td></tr>\n",
       "<tr><td>2020-05-16</td><td>Fulton</td><td>Arkansas</td><td>5049</td><td>3</td><td>0</td></tr>\n",
       "<tr><td>2020-05-26</td><td>Lawrence</td><td>Arkansas</td><td>5075</td><td>82</td><td>5</td></tr>\n",
       "<tr><td>2020-05-03</td><td>Miller</td><td>Arkansas</td><td>5091</td><td>35</td><td>1</td></tr>\n",
       "<tr><td>2020-05-16</td><td>Yell</td><td>Arkansas</td><td>5149</td><td>13</td><td>1</td></tr>\n",
       "<tr><td>2020-05-22</td><td>Pike</td><td>Arkansas</td><td>5109</td><td>4</td><td>0</td></tr>\n",
       "<tr><td>2020-03-31</td><td>White</td><td>Arkansas</td><td>5145</td><td>11</td><td>0</td></tr>\n",
       "<tr><td>2020-03-26</td><td>Lawrence</td><td>Arkansas</td><td>5075</td><td>2</td><td>0</td></tr>\n",
       "<tr><td>2020-04-14</td><td>Crittenden</td><td>Arkansas</td><td>5035</td><td>116</td><td>2</td></tr>\n",
       "<tr><td>2020-03-27</td><td>Union</td><td>Arkansas</td><td>5139</td><td>2</td><td>0</td></tr>\n",
       "<tr><td>2020-04-23</td><td>Jefferson</td><td>Arkansas</td><td>5069</td><td>142</td><td>7</td></tr>\n",
       "<tr><td>2020-04-17</td><td>Lee</td><td>Arkansas</td><td>5077</td><td>3</td><td>1</td></tr>\n",
       "<tr><td>2020-04-08</td><td>Sebastian</td><td>Arkansas</td><td>5131</td><td>9</td><td>0</td></tr>\n",
       "<tr><td>2020-04-02</td><td>Baxter</td><td>Arkansas</td><td>5005</td><td>3</td><td>0</td></tr>\n",
       "<tr><td>2020-04-09</td><td>Garland</td><td>Arkansas</td><td>5051</td><td>66</td><td>0</td></tr>\n",
       "<tr><td>2020-04-08</td><td>Phillips</td><td>Arkansas</td><td>5107</td><td>1</td><td>0</td></tr>\n",
       "<tr><td>2020-04-11</td><td>Hempstead</td><td>Arkansas</td><td>5057</td><td>4</td><td>1</td></tr>\n",
       "<tr><td>2021-02-25</td><td>Greene</td><td>Arkansas</td><td>5055</td><td>5800</td><td>75</td></tr>\n",
       "<tr><td>2020-03-22</td><td>Sevier</td><td>Arkansas</td><td>5133</td><td>1</td><td>0</td></tr>\n",
       "<tr><td>2020-03-22</td><td>Van Buren</td><td>Arkansas</td><td>5141</td><td>1</td><td>0</td></tr>\n",
       "<tr><td>2021-02-25</td><td>Mississippi</td><td>Arkansas</td><td>5093</td><td>5549</td><td>112</td></tr>\n",
       "<tr><td>2020-11-06</td><td>Trinity</td><td>California</td><td>6105</td><td>42</td><td>0</td></tr>\n",
       "<tr><td>2020-11-20</td><td>Trinity</td><td>California</td><td>6105</td><td>98</td><td>0</td></tr>\n",
       "<tr><td>2020-12-01</td><td>Amador</td><td>California</td><td>6005</td><td>558</td><td>16</td></tr>\n",
       "<tr><td>2021-01-24</td><td>Ventura</td><td>California</td><td>6111</td><td>65581</td><td>507</td></tr>\n",
       "<tr><td>2021-02-22</td><td>Inyo</td><td>California</td><td>6027</td><td>1232</td><td>34</td></tr>\n",
       "<tr><td>2021-01-06</td><td>Tulare</td><td>California</td><td>6107</td><td>35890</td><td>433</td></tr>\n",
       "<tr><td>2020-11-20</td><td>Mariposa</td><td>California</td><td>6043</td><td>94</td><td>2</td></tr>\n",
       "<tr><td>2020-12-23</td><td>Imperial</td><td>California</td><td>6025</td><td>21128</td><td>401</td></tr>\n",
       "<tr><td>2020-10-23</td><td>Orange</td><td>California</td><td>6059</td><td>59868</td><td>1440</td></tr>\n",
       "<tr><td>2021-01-25</td><td>San Joaquin</td><td>California</td><td>6077</td><td>59665</td><td>835</td></tr>\n",
       "<tr><td>2020-11-11</td><td>Placer</td><td>California</td><td>6061</td><td>4993</td><td>60</td></tr>\n",
       "<tr><td>2021-02-17</td><td>Nevada</td><td>California</td><td>6057</td><td>3813</td><td>74</td></tr>\n",
       "<tr><td>2020-10-04</td><td>Tuolumne</td><td>California</td><td>6109</td><td>230</td><td>4</td></tr>\n",
       "<tr><td>2021-02-09</td><td>El Dorado</td><td>California</td><td>6017</td><td>8627</td><td>86</td></tr>\n",
       "<tr><td>2020-12-11</td><td>Yolo</td><td>California</td><td>6113</td><td>5979</td><td>89</td></tr>\n",
       "<tr><td>2020-11-24</td><td>San Bernardino</td><td>California</td><td>6071</td><td>87542</td><td>1129</td></tr>\n",
       "<tr><td>2021-02-24</td><td>Tulare</td><td>California</td><td>6107</td><td>47730</td><td>739</td></tr>\n",
       "<tr><td>2021-01-24</td><td>Santa Barbara</td><td>California</td><td>6083</td><td>26820</td><td>265</td></tr>\n",
       "<tr><td>2021-01-10</td><td>Shasta</td><td>California</td><td>6089</td><td>8917</td><td>99</td></tr>\n",
       "<tr><td>2020-10-08</td><td>Lake</td><td>California</td><td>6033</td><td>599</td><td>12</td></tr>\n",
       "<tr><td>2021-02-19</td><td>San Mateo</td><td>California</td><td>6081</td><td>38229</td><td>481</td></tr>\n",
       "<tr><td>2020-10-23</td><td>Sierra</td><td>California</td><td>6091</td><td>6</td><td>0</td></tr>\n",
       "<tr><td>2020-12-24</td><td>Plumas</td><td>California</td><td>6063</td><td>369</td><td>0</td></tr>\n",
       "<tr><td>2021-01-22</td><td>Fresno</td><td>California</td><td>6019</td><td>84137</td><td>1020</td></tr>\n",
       "<tr><td>2020-10-12</td><td>Del Norte</td><td>California</td><td>6015</td><td>170</td><td>1</td></tr>\n",
       "<tr><td>2020-11-18</td><td>Yuba</td><td>California</td><td>6115</td><td>1665</td><td>10</td></tr>\n",
       "<tr><td>2020-10-08</td><td>San Luis Obispo</td><td>California</td><td>6079</td><td>3815</td><td>31</td></tr>\n",
       "<tr><td>2020-12-30</td><td>Sonoma</td><td>California</td><td>6097</td><td>18872</td><td>184</td></tr>\n",
       "<tr><td>2021-01-01</td><td>Santa Cruz</td><td>California</td><td>6087</td><td>8909</td><td>83</td></tr>\n",
       "<tr><td>2020-10-08</td><td>Glenn</td><td>California</td><td>6021</td><td>615</td><td>3</td></tr>\n",
       "<tr><td>2020-11-13</td><td>Humboldt</td><td>California</td><td>6023</td><td>658</td><td>10</td></tr>\n",
       "<tr><td>2020-11-21</td><td>Kings</td><td>California</td><td>6031</td><td>10038</td><td>86</td></tr>\n",
       "<tr><td>2020-11-03</td><td>Lassen</td><td>California</td><td>6035</td><td>782</td><td>1</td></tr>\n",
       "<tr><td>2021-01-09</td><td>Mono</td><td>California</td><td>6051</td><td>951</td><td>4</td></tr>\n",
       "<tr><td>2020-10-21</td><td>Inyo</td><td>California</td><td>6027</td><td>218</td><td>15</td></tr>\n",
       "<tr><td>2021-02-11</td><td>Stanislaus</td><td>California</td><td>6099</td><td>53614</td><td>888</td></tr>\n",
       "<tr><td>2021-03-03</td><td>Santa Barbara</td><td>California</td><td>6083</td><td>32147</td><td>420</td></tr>\n",
       "<tr><td>2020-12-11</td><td>Ventura</td><td>California</td><td>6111</td><td>24276</td><td>198</td></tr>\n",
       "<tr><td>2021-01-06</td><td>Kings</td><td>California</td><td>6031</td><td>16889</td><td>110</td></tr>\n",
       "<tr><td>2020-12-02</td><td>Del Norte</td><td>California</td><td>6015</td><td>357</td><td>1</td></tr>\n",
       "<tr><td>2020-10-11</td><td>Nevada</td><td>California</td><td>6057</td><td>564</td><td>8</td></tr>\n",
       "<tr><td>2020-10-04</td><td>Plumas</td><td>California</td><td>6063</td><td>48</td><td>0</td></tr>\n",
       "<tr><td>2020-11-27</td><td>Monterey</td><td>California</td><td>6053</td><td>14750</td><td>116</td></tr>\n",
       "<tr><td>2021-01-30</td><td>El Dorado</td><td>California</td><td>6017</td><td>8231</td><td>79</td></tr>\n",
       "<tr><td>2021-01-11</td><td>Calaveras</td><td>California</td><td>6009</td><td>1449</td><td>22</td></tr>\n",
       "<tr><td>2020-10-16</td><td>Lassen</td><td>California</td><td>6035</td><td>752</td><td>1</td></tr>\n",
       "<tr><td>2020-09-30</td><td>Imperial</td><td>California</td><td>6025</td><td>11908</td><td>319</td></tr>\n",
       "<tr><td>2021-03-06</td><td>Butte</td><td>California</td><td>6007</td><td>11050</td><td>169</td></tr>\n",
       "<tr><td>2020-11-23</td><td>Kings</td><td>California</td><td>6031</td><td>10259</td><td>87</td></tr>\n",
       "<tr><td>2021-02-06</td><td>Alameda</td><td>California</td><td>6001</td><td>75758</td><td>1037</td></tr>\n",
       "<tr><td>2021-03-01</td><td>Alameda</td><td>California</td><td>6001</td><td>80798</td><td>1242</td></tr>\n",
       "<tr><td>2020-12-10</td><td>Sonoma</td><td>California</td><td>6097</td><td>14168</td><td>162</td></tr>\n",
       "<tr><td>2020-10-17</td><td>Orange</td><td>California</td><td>6059</td><td>58447</td><td>1409</td></tr>\n",
       "<tr><td>2020-11-18</td><td>Mendocino</td><td>California</td><td>6045</td><td>1318</td><td>22</td></tr>\n",
       "<tr><td>2021-01-29</td><td>Merced</td><td>California</td><td>6047</td><td>26230</td><td>350</td></tr>\n",
       "<tr><td>2020-10-26</td><td>Tehama</td><td>California</td><td>6103</td><td>880</td><td>8</td></tr>\n",
       "<tr><td>2020-10-25</td><td>Imperial</td><td>California</td><td>6025</td><td>12700</td><td>335</td></tr>\n",
       "<tr><td>2020-11-02</td><td>Plumas</td><td>California</td><td>6063</td><td>86</td><td>0</td></tr>\n",
       "<tr><td>2020-11-02</td><td>Santa Barbara</td><td>California</td><td>6083</td><td>9992</td><td>129</td></tr>\n",
       "<tr><td>2020-12-31</td><td>Mendocino</td><td>California</td><td>6045</td><td>2558</td><td>26</td></tr>\n",
       "<tr><td>2020-11-28</td><td>Contra Costa</td><td>California</td><td>6013</td><td>23895</td><td>261</td></tr>\n",
       "<tr><td>2020-10-15</td><td>Mariposa</td><td>California</td><td>6043</td><td>77</td><td>2</td></tr>\n",
       "<tr><td>2021-02-27</td><td>Lake</td><td>California</td><td>6033</td><td>3153</td><td>41</td></tr>\n",
       "<tr><td>2020-10-15</td><td>Butte</td><td>California</td><td>6007</td><td>2995</td><td>50</td></tr>\n",
       "<tr><td>2021-02-20</td><td>Alpine</td><td>California</td><td>6003</td><td>77</td><td>0</td></tr>\n",
       "<tr><td>2020-12-01</td><td>Yuba</td><td>California</td><td>6115</td><td>2221</td><td>10</td></tr>\n",
       "<tr><td>2020-10-08</td><td>Modoc</td><td>California</td><td>6049</td><td>27</td><td>0</td></tr>\n",
       "<tr><td>2020-11-30</td><td>Sacramento</td><td>California</td><td>6067</td><td>37883</td><td>581</td></tr>\n",
       "<tr><td>2020-12-10</td><td>Orange</td><td>California</td><td>6059</td><td>96948</td><td>1640</td></tr>\n",
       "<tr><td>2021-01-31</td><td>Sutter</td><td>California</td><td>6101</td><td>8264</td><td>86</td></tr>\n",
       "<tr><td>2020-12-03</td><td>Del Norte</td><td>California</td><td>6015</td><td>384</td><td>1</td></tr>\n",
       "<tr><td>2020-11-22</td><td>San Benito</td><td>California</td><td>6069</td><td>1741</td><td>15</td></tr>\n",
       "<tr><td>2021-01-15</td><td>Modoc</td><td>California</td><td>6049</td><td>273</td><td>3</td></tr>\n",
       "<tr><td>2021-02-28</td><td>San Mateo</td><td>California</td><td>6081</td><td>38998</td><td>515</td></tr>\n",
       "<tr><td>2021-02-23</td><td>Orange</td><td>California</td><td>6059</td><td>259857</td><td>3848</td></tr>\n",
       "<tr><td>2021-02-19</td><td>Imperial</td><td>California</td><td>6025</td><td>26840</td><td>583</td></tr>\n",
       "<tr><td>2020-11-10</td><td>Sutter</td><td>California</td><td>6101</td><td>2089</td><td>12</td></tr>\n",
       "<tr><td>2020-12-17</td><td>Tehama</td><td>California</td><td>6103</td><td>2441</td><td>31</td></tr>\n",
       "<tr><td>2020-12-12</td><td>Tehama</td><td>California</td><td>6103</td><td>2232</td><td>30</td></tr>\n",
       "<tr><td>2020-09-12</td><td>San Francisco</td><td>California</td><td>6075</td><td>10266</td><td>90</td></tr>\n",
       "<tr><td>2020-12-25</td><td>Los Angeles</td><td>California</td><td>6037</td><td>677538</td><td>9299</td></tr>\n",
       "<tr><td>2020-12-28</td><td>Fresno</td><td>California</td><td>6019</td><td>63811</td><td>646</td></tr>\n",
       "<tr><td>2020-12-17</td><td>San Luis Obispo</td><td>California</td><td>6079</td><td>8269</td><td>56</td></tr>\n",
       "<tr><td>2021-02-21</td><td>Amador</td><td>California</td><td>6005</td><td>3431</td><td>39</td></tr>\n",
       "<tr><td>2020-09-27</td><td>Alameda</td><td>California</td><td>6001</td><td>21210</td><td>406</td></tr>\n",
       "<tr><td>2020-12-21</td><td>Humboldt</td><td>California</td><td>6023</td><td>1500</td><td>16</td></tr>\n",
       "<tr><td>2020-09-25</td><td>Mendocino</td><td>California</td><td>6045</td><td>908</td><td>18</td></tr>\n",
       "<tr><td>2021-02-12</td><td>Marin</td><td>California</td><td>6041</td><td>12682</td><td>182</td></tr>\n",
       "<tr><td>2020-11-08</td><td>Tulare</td><td>California</td><td>6107</td><td>18312</td><td>297</td></tr>\n",
       "<tr><td>2021-02-17</td><td>Merced</td><td>California</td><td>6047</td><td>28306</td><td>382</td></tr>\n",
       "<tr><td>2020-09-16</td><td>San Mateo</td><td>California</td><td>6081</td><td>9264</td><td>142</td></tr>\n",
       "<tr><td>2020-09-21</td><td>Tehama</td><td>California</td><td>6103</td><td>509</td><td>4</td></tr>\n",
       "<tr><td>2021-01-30</td><td>Modoc</td><td>California</td><td>6049</td><td>297</td><td>4</td></tr>\n",
       "<tr><td>2020-09-17</td><td>Amador</td><td>California</td><td>6005</td><td>283</td><td>16</td></tr>\n",
       "<tr><td>2021-01-24</td><td>El Dorado</td><td>California</td><td>6017</td><td>7984</td><td>59</td></tr>\n",
       "<tr><td>2020-09-28</td><td>Yolo</td><td>California</td><td>6113</td><td>2815</td><td>55</td></tr>\n",
       "<tr><td>2020-09-28</td><td>Sonoma</td><td>California</td><td>6097</td><td>7412</td><td>122</td></tr>\n",
       "<tr><td>2020-08-30</td><td>Tehama</td><td>California</td><td>6103</td><td>417</td><td>1</td></tr>\n",
       "<tr><td>2020-09-20</td><td>Sacramento</td><td>California</td><td>6067</td><td>21296</td><td>375</td></tr>\n",
       "<tr><td>2020-09-27</td><td>Santa Clara</td><td>California</td><td>6085</td><td>21153</td><td>313</td></tr>\n",
       "<tr><td>2020-09-21</td><td>Trinity</td><td>California</td><td>6105</td><td>16</td><td>0</td></tr>\n",
       "<tr><td>2020-09-19</td><td>Monterey</td><td>California</td><td>6053</td><td>9467</td><td>67</td></tr>\n",
       "<tr><td>2020-09-28</td><td>Merced</td><td>California</td><td>6047</td><td>8939</td><td>143</td></tr>\n",
       "<tr><td>2020-09-15</td><td>Butte</td><td>California</td><td>6007</td><td>2642</td><td>31</td></tr>\n",
       "<tr><td>2020-09-05</td><td>San Bernardino</td><td>California</td><td>6071</td><td>49325</td><td>765</td></tr>\n",
       "<tr><td>2020-09-29</td><td>Sacramento</td><td>California</td><td>6067</td><td>22589</td><td>416</td></tr>\n",
       "<tr><td>2020-09-22</td><td>Colusa</td><td>California</td><td>6011</td><td>522</td><td>6</td></tr>\n",
       "<tr><td>2020-09-17</td><td>Ventura</td><td>California</td><td>6111</td><td>12073</td><td>142</td></tr>\n",
       "<tr><td>2020-09-04</td><td>Mendocino</td><td>California</td><td>6045</td><td>737</td><td>17</td></tr>\n",
       "<tr><td>2020-09-12</td><td>Fresno</td><td>California</td><td>6019</td><td>26917</td><td>337</td></tr>\n",
       "<tr><td>2020-09-14</td><td>Madera</td><td>California</td><td>6039</td><td>4226</td><td>58</td></tr>\n",
       "<tr><td>2020-09-24</td><td>Tehama</td><td>California</td><td>6103</td><td>533</td><td>4</td></tr>\n",
       "<tr><td>2020-09-18</td><td>Yolo</td><td>California</td><td>6113</td><td>2732</td><td>53</td></tr>\n",
       "<tr><td>2020-09-05</td><td>Lassen</td><td>California</td><td>6035</td><td>720</td><td>0</td></tr>\n",
       "<tr><td>2020-09-01</td><td>Sacramento</td><td>California</td><td>6067</td><td>18285</td><td>296</td></tr>\n",
       "<tr><td>2020-08-02</td><td>San Mateo</td><td>California</td><td>6081</td><td>5544</td><td>119</td></tr>\n",
       "<tr><td>2020-08-16</td><td>Shasta</td><td>California</td><td>6089</td><td>488</td><td>10</td></tr>\n",
       "<tr><td>2020-08-14</td><td>Santa Barbara</td><td>California</td><td>6083</td><td>7274</td><td>77</td></tr>\n",
       "<tr><td>2020-08-18</td><td>Merced</td><td>California</td><td>6047</td><td>7171</td><td>95</td></tr>\n",
       "<tr><td>2020-08-14</td><td>Tuolumne</td><td>California</td><td>6109</td><td>160</td><td>2</td></tr>\n",
       "<tr><td>2020-08-18</td><td>Santa Cruz</td><td>California</td><td>6087</td><td>1505</td><td>7</td></tr>\n",
       "<tr><td>2020-08-22</td><td>Merced</td><td>California</td><td>6047</td><td>7428</td><td>99</td></tr>\n",
       "<tr><td>2020-08-05</td><td>Shasta</td><td>California</td><td>6089</td><td>404</td><td>9</td></tr>\n",
       "<tr><td>2020-08-20</td><td>Kern</td><td>California</td><td>6029</td><td>27378</td><td>229</td></tr>\n",
       "<tr><td>2020-08-13</td><td>Tehama</td><td>California</td><td>6103</td><td>289</td><td>1</td></tr>\n",
       "<tr><td>2020-08-02</td><td>Butte</td><td>California</td><td>6007</td><td>976</td><td>7</td></tr>\n",
       "<tr><td>2020-08-02</td><td>Humboldt</td><td>California</td><td>6023</td><td>233</td><td>4</td></tr>\n",
       "<tr><td>2020-08-27</td><td>Yolo</td><td>California</td><td>6113</td><td>2287</td><td>51</td></tr>\n",
       "<tr><td>2020-08-11</td><td>San Mateo</td><td>California</td><td>6081</td><td>6431</td><td>122</td></tr>\n",
       "<tr><td>2020-07-17</td><td>Colusa</td><td>California</td><td>6011</td><td>173</td><td>0</td></tr>\n",
       "<tr><td>2020-07-17</td><td>Shasta</td><td>California</td><td>6089</td><td>227</td><td>7</td></tr>\n",
       "<tr><td>2020-07-21</td><td>San Diego</td><td>California</td><td>6073</td><td>24583</td><td>487</td></tr>\n",
       "<tr><td>2020-07-08</td><td>Napa</td><td>California</td><td>6055</td><td>460</td><td>4</td></tr>\n",
       "<tr><td>2020-07-04</td><td>Alameda</td><td>California</td><td>6001</td><td>6577</td><td>140</td></tr>\n",
       "<tr><td>2020-07-15</td><td>San Benito</td><td>California</td><td>6069</td><td>408</td><td>2</td></tr>\n",
       "<tr><td>2020-07-09</td><td>El Dorado</td><td>California</td><td>6017</td><td>292</td><td>0</td></tr>\n",
       "<tr><td>2020-08-25</td><td>Tuolumne</td><td>California</td><td>6109</td><td>179</td><td>2</td></tr>\n",
       "<tr><td>2020-06-30</td><td>Trinity</td><td>California</td><td>6105</td><td>3</td><td>0</td></tr>\n",
       "<tr><td>2020-08-25</td><td>San Luis Obispo</td><td>California</td><td>6079</td><td>2769</td><td>21</td></tr>\n",
       "<tr><td>2020-07-09</td><td>Solano</td><td>California</td><td>6095</td><td>1990</td><td>27</td></tr>\n",
       "<tr><td>2020-07-11</td><td>Sacramento</td><td>California</td><td>6067</td><td>5338</td><td>81</td></tr>\n",
       "<tr><td>2020-06-28</td><td>Mono</td><td>California</td><td>6051</td><td>40</td><td>1</td></tr>\n",
       "<tr><td>2020-07-08</td><td>San Mateo</td><td>California</td><td>6081</td><td>3743</td><td>111</td></tr>\n",
       "<tr><td>2020-07-04</td><td>Humboldt</td><td>California</td><td>6023</td><td>143</td><td>4</td></tr>\n",
       "<tr><td>2020-07-05</td><td>Inyo</td><td>California</td><td>6027</td><td>32</td><td>1</td></tr>\n",
       "<tr><td>2020-07-03</td><td>San Benito</td><td>California</td><td>6069</td><td>260</td><td>2</td></tr>\n",
       "<tr><td>2020-07-21</td><td>Merced</td><td>California</td><td>6047</td><td>2813</td><td>22</td></tr>\n",
       "<tr><td>2020-07-18</td><td>Fresno</td><td>California</td><td>6019</td><td>9954</td><td>100</td></tr>\n",
       "<tr><td>2020-07-11</td><td>Sierra</td><td>California</td><td>6091</td><td>1</td><td>0</td></tr>\n",
       "<tr><td>2020-07-15</td><td>Kings</td><td>California</td><td>6031</td><td>3108</td><td>41</td></tr>\n",
       "<tr><td>2020-06-24</td><td>San Diego</td><td>California</td><td>6073</td><td>11689</td><td>347</td></tr>\n",
       "<tr><td>2020-05-30</td><td>Yuba</td><td>California</td><td>6115</td><td>30</td><td>1</td></tr>\n",
       "<tr><td>2020-05-28</td><td>San Diego</td><td>California</td><td>6073</td><td>7163</td><td>297</td></tr>\n",
       "<tr><td>2020-06-05</td><td>Del Norte</td><td>California</td><td>6015</td><td>47</td><td>0</td></tr>\n",
       "<tr><td>2020-06-12</td><td>Monterey</td><td>California</td><td>6053</td><td>865</td><td>11</td></tr>\n",
       "<tr><td>2020-06-10</td><td>Mono</td><td>California</td><td>6051</td><td>37</td><td>1</td></tr>\n",
       "<tr><td>2020-05-30</td><td>Santa Barbara</td><td>California</td><td>6083</td><td>1656</td><td>12</td></tr>\n",
       "<tr><td>2020-06-29</td><td>Contra Costa</td><td>California</td><td>6013</td><td>2971</td><td>76</td></tr>\n",
       "<tr><td>2020-06-03</td><td>Solano</td><td>California</td><td>6095</td><td>564</td><td>22</td></tr>\n",
       "<tr><td>2020-05-29</td><td>San Luis Obispo</td><td>California</td><td>6079</td><td>269</td><td>1</td></tr>\n",
       "<tr><td>2020-06-15</td><td>Sonoma</td><td>California</td><td>6097</td><td>765</td><td>4</td></tr>\n",
       "<tr><td>2020-05-27</td><td>Lake</td><td>California</td><td>6033</td><td>19</td><td>0</td></tr>\n",
       "<tr><td>2020-05-30</td><td>Nevada</td><td>California</td><td>6057</td><td>41</td><td>1</td></tr>\n",
       "<tr><td>2020-05-11</td><td>Alameda</td><td>California</td><td>6001</td><td>2122</td><td>75</td></tr>\n",
       "<tr><td>2020-05-18</td><td>Alpine</td><td>California</td><td>6003</td><td>2</td><td>0</td></tr>\n",
       "<tr><td>2020-05-23</td><td>Alpine</td><td>California</td><td>6003</td><td>2</td><td>0</td></tr>\n",
       "<tr><td>2020-04-28</td><td>Madera</td><td>California</td><td>6039</td><td>45</td><td>2</td></tr>\n",
       "<tr><td>2020-05-10</td><td>Alpine</td><td>California</td><td>6003</td><td>2</td><td>0</td></tr>\n",
       "<tr><td>2020-04-27</td><td>Solano</td><td>California</td><td>6095</td><td>231</td><td>4</td></tr>\n",
       "<tr><td>2020-05-03</td><td>Tuolumne</td><td>California</td><td>6109</td><td>4</td><td>0</td></tr>\n",
       "<tr><td>2020-05-23</td><td>Inyo</td><td>California</td><td>6027</td><td>20</td><td>1</td></tr>\n",
       "<tr><td>2020-05-08</td><td>Tulare</td><td>California</td><td>6107</td><td>1013</td><td>44</td></tr>\n",
       "<tr><td>2020-05-23</td><td>Colusa</td><td>California</td><td>6011</td><td>5</td><td>0</td></tr>\n",
       "<tr><td>2020-05-21</td><td>Kern</td><td>California</td><td>6029</td><td>1654</td><td>27</td></tr>\n",
       "<tr><td>2020-05-08</td><td>Solano</td><td>California</td><td>6095</td><td>356</td><td>7</td></tr>\n",
       "<tr><td>2020-05-09</td><td>Napa</td><td>California</td><td>6055</td><td>79</td><td>2</td></tr>\n",
       "<tr><td>2020-05-14</td><td>Santa Barbara</td><td>California</td><td>6083</td><td>1382</td><td>11</td></tr>\n",
       "<tr><td>2020-04-30</td><td>Fresno</td><td>California</td><td>6019</td><td>564</td><td>7</td></tr>\n",
       "<tr><td>2020-05-16</td><td>Lake</td><td>California</td><td>6033</td><td>8</td><td>0</td></tr>\n",
       "<tr><td>2020-05-17</td><td>Santa Cruz</td><td>California</td><td>6087</td><td>154</td><td>3</td></tr>\n",
       "<tr><td>2020-05-23</td><td>Humboldt</td><td>California</td><td>6023</td><td>93</td><td>2</td></tr>\n",
       "<tr><td>2020-05-12</td><td>Shasta</td><td>California</td><td>6089</td><td>32</td><td>4</td></tr>\n",
       "<tr><td>2020-05-23</td><td>Sonoma</td><td>California</td><td>6097</td><td>482</td><td>4</td></tr>\n",
       "<tr><td>2020-05-23</td><td>San Benito</td><td>California</td><td>6069</td><td>69</td><td>2</td></tr>\n",
       "<tr><td>2020-04-29</td><td>San Bernardino</td><td>California</td><td>6071</td><td>1928</td><td>89</td></tr>\n",
       "<tr><td>2020-03-25</td><td>El Dorado</td><td>California</td><td>6017</td><td>3</td><td>0</td></tr>\n",
       "<tr><td>2020-04-23</td><td>Tehama</td><td>California</td><td>6103</td><td>1</td><td>0</td></tr>\n",
       "<tr><td>2020-04-11</td><td>Shasta</td><td>California</td><td>6089</td><td>24</td><td>3</td></tr>\n",
       "<tr><td>2020-04-17</td><td>San Luis Obispo</td><td>California</td><td>6079</td><td>127</td><td>1</td></tr>\n",
       "<tr><td>2020-04-06</td><td>Contra Costa</td><td>California</td><td>6013</td><td>417</td><td>7</td></tr>\n",
       "<tr><td>2020-04-14</td><td>Stanislaus</td><td>California</td><td>6099</td><td>163</td><td>4</td></tr>\n",
       "<tr><td>2020-03-26</td><td>Sacramento</td><td>California</td><td>6067</td><td>112</td><td>5</td></tr>\n",
       "<tr><td>2020-04-12</td><td>Shasta</td><td>California</td><td>6089</td><td>24</td><td>3</td></tr>\n",
       "<tr><td>2020-03-30</td><td>Tuolumne</td><td>California</td><td>6109</td><td>1</td><td>0</td></tr>\n",
       "<tr><td>2020-04-10</td><td>Ventura</td><td>California</td><td>6111</td><td>298</td><td>10</td></tr>\n",
       "<tr><td>2020-04-07</td><td>Contra Costa</td><td>California</td><td>6013</td><td>442</td><td>7</td></tr>\n",
       "<tr><td>2020-04-13</td><td>Nevada</td><td>California</td><td>6057</td><td>34</td><td>1</td></tr>\n",
       "<tr><td>2020-04-23</td><td>Nevada</td><td>California</td><td>6057</td><td>36</td><td>1</td></tr>\n",
       "<tr><td>2020-04-20</td><td>Nevada</td><td>California</td><td>6057</td><td>38</td><td>1</td></tr>\n",
       "<tr><td>2020-04-13</td><td>Napa</td><td>California</td><td>6055</td><td>35</td><td>2</td></tr>\n",
       "<tr><td>2020-03-31</td><td>Santa Clara</td><td>California</td><td>6085</td><td>890</td><td>31</td></tr>\n",
       "<tr><td>2020-04-20</td><td>Sutter</td><td>California</td><td>6101</td><td>26</td><td>2</td></tr>\n",
       "<tr><td>2020-04-10</td><td>Yolo</td><td>California</td><td>6113</td><td>75</td><td>3</td></tr>\n",
       "<tr><td>2020-03-16</td><td>Placer</td><td>California</td><td>6061</td><td>8</td><td>1</td></tr>\n",
       "<tr><td>2021-02-25</td><td>Stanislaus</td><td>California</td><td>6099</td><td>55775</td><td>944</td></tr>\n",
       "<tr><td>2020-03-21</td><td>Santa Barbara</td><td>California</td><td>6083</td><td>17</td><td>0</td></tr>\n",
       "<tr><td>2020-08-25</td><td>Modoc</td><td>California</td><td>6049</td><td>5</td><td>0</td></tr>\n",
       "<tr><td>2020-08-25</td><td>Kern</td><td>California</td><td>6029</td><td>28520</td><td>251</td></tr>\n",
       "<tr><td>2020-02-12</td><td>Santa Clara</td><td>California</td><td>6085</td><td>2</td><td>0</td></tr>\n",
       "<tr><td>2020-12-16</td><td>Baca</td><td>Colorado</td><td>8009</td><td>159</td><td>0</td></tr>\n",
       "<tr><td>2020-11-03</td><td>Hinsdale</td><td>Colorado</td><td>8053</td><td>4</td><td>0</td></tr>\n",
       "<tr><td>2020-12-14</td><td>Ouray</td><td>Colorado</td><td>8091</td><td>137</td><td>3</td></tr>\n",
       "<tr><td>2020-11-02</td><td>Montezuma</td><td>Colorado</td><td>8083</td><td>234</td><td>5</td></tr>\n",
       "<tr><td>2020-12-16</td><td>Adams</td><td>Colorado</td><td>8001</td><td>36306</td><td>443</td></tr>\n",
       "<tr><td>2020-11-10</td><td>Larimer</td><td>Colorado</td><td>8069</td><td>5762</td><td>63</td></tr>\n",
       "<tr><td>2021-02-10</td><td>Montrose</td><td>Colorado</td><td>8085</td><td>3107</td><td>50</td></tr>\n",
       "<tr><td>2020-11-05</td><td>Grand</td><td>Colorado</td><td>8049</td><td>165</td><td>1</td></tr>\n",
       "<tr><td>2020-11-02</td><td>Moffat</td><td>Colorado</td><td>8081</td><td>78</td><td>1</td></tr>\n",
       "<tr><td>2020-11-11</td><td>Douglas</td><td>Colorado</td><td>8035</td><td>6080</td><td>77</td></tr>\n",
       "<tr><td>2020-12-05</td><td>Pitkin</td><td>Colorado</td><td>8097</td><td>579</td><td>2</td></tr>\n",
       "<tr><td>2020-11-08</td><td>Grand</td><td>Colorado</td><td>8049</td><td>174</td><td>1</td></tr>\n",
       "<tr><td>2020-11-29</td><td>Rio Grande</td><td>Colorado</td><td>8105</td><td>232</td><td>4</td></tr>\n",
       "<tr><td>2020-11-04</td><td>Jefferson</td><td>Colorado</td><td>8059</td><td>10298</td><td>334</td></tr>\n",
       "<tr><td>2020-11-09</td><td>Las Animas</td><td>Colorado</td><td>8071</td><td>97</td><td>0</td></tr>\n",
       "<tr><td>2020-11-29</td><td>Ouray</td><td>Colorado</td><td>8091</td><td>117</td><td>2</td></tr>\n",
       "<tr><td>2020-11-01</td><td>Las Animas</td><td>Colorado</td><td>8071</td><td>85</td><td>1</td></tr>\n",
       "<tr><td>2020-11-10</td><td>Denver</td><td>Colorado</td><td>8031</td><td>24541</td><td>481</td></tr>\n",
       "<tr><td>2020-11-09</td><td>Yuma</td><td>Colorado</td><td>8125</td><td>252</td><td>1</td></tr>\n",
       "<tr><td>2020-11-08</td><td>Ouray</td><td>Colorado</td><td>8091</td><td>52</td><td>2</td></tr>\n",
       "<tr><td>2020-12-07</td><td>Conejos</td><td>Colorado</td><td>8021</td><td>220</td><td>3</td></tr>\n",
       "<tr><td>2020-11-23</td><td>Las Animas</td><td>Colorado</td><td>8071</td><td>164</td><td>0</td></tr>\n",
       "<tr><td>2020-10-05</td><td>San Miguel</td><td>Colorado</td><td>8113</td><td>95</td><td>0</td></tr>\n",
       "<tr><td>2020-10-13</td><td>Kit Carson</td><td>Colorado</td><td>8063</td><td>98</td><td>3</td></tr>\n",
       "<tr><td>2020-10-04</td><td>Conejos</td><td>Colorado</td><td>8021</td><td>37</td><td>0</td></tr>\n",
       "<tr><td>2020-10-13</td><td>Pitkin</td><td>Colorado</td><td>8097</td><td>248</td><td>2</td></tr>\n",
       "<tr><td>2020-10-01</td><td>Huerfano</td><td>Colorado</td><td>8055</td><td>24</td><td>1</td></tr>\n",
       "<tr><td>2020-11-22</td><td>Arapahoe</td><td>Colorado</td><td>8005</td><td>23795</td><td>429</td></tr>\n",
       "<tr><td>2020-10-20</td><td>Arapahoe</td><td>Colorado</td><td>8005</td><td>11484</td><td>392</td></tr>\n",
       "<tr><td>2020-10-06</td><td>Denver</td><td>Colorado</td><td>8031</td><td>14036</td><td>447</td></tr>\n",
       "<tr><td>2020-10-08</td><td>Pitkin</td><td>Colorado</td><td>8097</td><td>234</td><td>2</td></tr>\n",
       "<tr><td>2020-10-22</td><td>Elbert</td><td>Colorado</td><td>8039</td><td>191</td><td>3</td></tr>\n",
       "<tr><td>2020-10-20</td><td>Fremont</td><td>Colorado</td><td>8043</td><td>536</td><td>1</td></tr>\n",
       "<tr><td>2020-12-09</td><td>Moffat</td><td>Colorado</td><td>8081</td><td>384</td><td>13</td></tr>\n",
       "<tr><td>2020-10-18</td><td>Mineral</td><td>Colorado</td><td>8079</td><td>21</td><td>0</td></tr>\n",
       "<tr><td>2020-12-03</td><td>Kit Carson</td><td>Colorado</td><td>8063</td><td>324</td><td>8</td></tr>\n",
       "<tr><td>2020-10-14</td><td>Conejos</td><td>Colorado</td><td>8021</td><td>44</td><td>0</td></tr>\n",
       "<tr><td>2020-10-03</td><td>Park</td><td>Colorado</td><td>8093</td><td>59</td><td>1</td></tr>\n",
       "<tr><td>2020-10-16</td><td>Huerfano</td><td>Colorado</td><td>8055</td><td>28</td><td>2</td></tr>\n",
       "<tr><td>2020-11-12</td><td>Pitkin</td><td>Colorado</td><td>8097</td><td>349</td><td>2</td></tr>\n",
       "<tr><td>2020-12-09</td><td>Broomfield</td><td>Colorado</td><td>8014</td><td>2351</td><td>54</td></tr>\n",
       "<tr><td>2020-09-30</td><td>Crowley</td><td>Colorado</td><td>8025</td><td>74</td><td>1</td></tr>\n",
       "<tr><td>2021-03-05</td><td>Rio Blanco</td><td>Colorado</td><td>8103</td><td>482</td><td>3</td></tr>\n",
       "<tr><td>2020-09-30</td><td>Archuleta</td><td>Colorado</td><td>8007</td><td>54</td><td>0</td></tr>\n",
       "<tr><td>2020-10-18</td><td>Alamosa</td><td>Colorado</td><td>8003</td><td>284</td><td>9</td></tr>\n",
       "<tr><td>2020-09-16</td><td>Las Animas</td><td>Colorado</td><td>8071</td><td>21</td><td>0</td></tr>\n",
       "<tr><td>2020-09-06</td><td>Gunnison</td><td>Colorado</td><td>8051</td><td>296</td><td>7</td></tr>\n",
       "<tr><td>2020-09-02</td><td>Gilpin</td><td>Colorado</td><td>8047</td><td>18</td><td>0</td></tr>\n",
       "<tr><td>2020-09-09</td><td>Washington</td><td>Colorado</td><td>8121</td><td>54</td><td>0</td></tr>\n",
       "<tr><td>2020-09-15</td><td>Dolores</td><td>Colorado</td><td>8033</td><td>3</td><td>0</td></tr>\n",
       "<tr><td>2020-09-17</td><td>Chaffee</td><td>Colorado</td><td>8015</td><td>319</td><td>19</td></tr>\n",
       "<tr><td>2020-09-21</td><td>Rio Blanco</td><td>Colorado</td><td>8103</td><td>25</td><td>0</td></tr>\n",
       "<tr><td>2020-09-13</td><td>San Juan</td><td>Colorado</td><td>8111</td><td>6</td><td>0</td></tr>\n",
       "<tr><td>2020-11-19</td><td>Clear Creek</td><td>Colorado</td><td>8019</td><td>157</td><td>1</td></tr>\n",
       "<tr><td>2020-09-07</td><td>Mineral</td><td>Colorado</td><td>8079</td><td>19</td><td>0</td></tr>\n",
       "<tr><td>2021-02-10</td><td>Mineral</td><td>Colorado</td><td>8079</td><td>61</td><td>1</td></tr>\n",
       "<tr><td>2020-09-19</td><td>Rio Blanco</td><td>Colorado</td><td>8103</td><td>24</td><td>0</td></tr>\n",
       "<tr><td>2020-09-25</td><td>Custer</td><td>Colorado</td><td>8027</td><td>17</td><td>0</td></tr>\n",
       "<tr><td>2021-02-16</td><td>Dolores</td><td>Colorado</td><td>8033</td><td>65</td><td>0</td></tr>\n",
       "<tr><td>2021-02-24</td><td>Dolores</td><td>Colorado</td><td>8033</td><td>68</td><td>0</td></tr>\n",
       "<tr><td>2020-09-07</td><td>Weld</td><td>Colorado</td><td>8123</td><td>4198</td><td>148</td></tr>\n",
       "<tr><td>2020-10-02</td><td>Rio Grande</td><td>Colorado</td><td>8105</td><td>96</td><td>2</td></tr>\n",
       "<tr><td>2021-03-09</td><td>Gunnison</td><td>Colorado</td><td>8051</td><td>1214</td><td>6</td></tr>\n",
       "<tr><td>2021-01-01</td><td>Delta</td><td>Colorado</td><td>8029</td><td>1610</td><td>25</td></tr>\n",
       "<tr><td>2021-01-10</td><td>El Paso</td><td>Colorado</td><td>8041</td><td>44263</td><td>630</td></tr>\n",
       "<tr><td>2020-09-10</td><td>Garfield</td><td>Colorado</td><td>8045</td><td>879</td><td>4</td></tr>\n",
       "<tr><td>2021-02-01</td><td>Grand</td><td>Colorado</td><td>8049</td><td>975</td><td>5</td></tr>\n",
       "<tr><td>2020-09-20</td><td>Las Animas</td><td>Colorado</td><td>8071</td><td>21</td><td>0</td></tr>\n",
       "<tr><td>2020-09-06</td><td>Garfield</td><td>Colorado</td><td>8045</td><td>868</td><td>4</td></tr>\n",
       "<tr><td>2020-09-13</td><td>Clear Creek</td><td>Colorado</td><td>8019</td><td>36</td><td>1</td></tr>\n",
       "<tr><td>2020-09-14</td><td>El Paso</td><td>Colorado</td><td>8041</td><td>6444</td><td>162</td></tr>\n",
       "<tr><td>2021-01-29</td><td>Phillips</td><td>Colorado</td><td>8095</td><td>325</td><td>11</td></tr>\n",
       "<tr><td>2021-01-21</td><td>Gilpin</td><td>Colorado</td><td>8047</td><td>140</td><td>2</td></tr>\n",
       "<tr><td>2020-09-10</td><td>Lake</td><td>Colorado</td><td>8065</td><td>84</td><td>0</td></tr>\n",
       "<tr><td>2021-01-16</td><td>Fremont</td><td>Colorado</td><td>8043</td><td>4979</td><td>33</td></tr>\n",
       "<tr><td>2020-09-15</td><td>Clear Creek</td><td>Colorado</td><td>8019</td><td>36</td><td>1</td></tr>\n",
       "<tr><td>2020-09-17</td><td>Teller</td><td>Colorado</td><td>8119</td><td>170</td><td>4</td></tr>\n",
       "<tr><td>2021-03-06</td><td>Boulder</td><td>Colorado</td><td>8013</td><td>19246</td><td>248</td></tr>\n",
       "<tr><td>2020-12-29</td><td>Park</td><td>Colorado</td><td>8093</td><td>379</td><td>4</td></tr>\n",
       "<tr><td>2021-01-14</td><td>Fremont</td><td>Colorado</td><td>8043</td><td>4955</td><td>31</td></tr>\n",
       "<tr><td>2021-02-14</td><td>Denver</td><td>Colorado</td><td>8031</td><td>57888</td><td>752</td></tr>\n",
       "<tr><td>2021-01-11</td><td>Summit</td><td>Colorado</td><td>8117</td><td>2295</td><td>5</td></tr>\n",
       "<tr><td>2020-07-31</td><td>Huerfano</td><td>Colorado</td><td>8055</td><td>6</td><td>1</td></tr>\n",
       "<tr><td>2021-01-09</td><td>Huerfano</td><td>Colorado</td><td>8055</td><td>283</td><td>17</td></tr>\n",
       "<tr><td>2021-01-19</td><td>Ouray</td><td>Colorado</td><td>8091</td><td>179</td><td>3</td></tr>\n",
       "<tr><td>2021-03-01</td><td>Jefferson</td><td>Colorado</td><td>8059</td><td>37323</td><td>720</td></tr>\n",
       "<tr><td>2021-01-09</td><td>Hinsdale</td><td>Colorado</td><td>8053</td><td>15</td><td>0</td></tr>\n",
       "<tr><td>2020-10-10</td><td>Douglas</td><td>Colorado</td><td>8035</td><td>3110</td><td>63</td></tr>\n",
       "<tr><td>2020-08-05</td><td>Washington</td><td>Colorado</td><td>8121</td><td>47</td><td>0</td></tr>\n",
       "<tr><td>2021-02-03</td><td>Eagle</td><td>Colorado</td><td>8037</td><td>4479</td><td>17</td></tr>\n",
       "<tr><td>2020-08-10</td><td>Mesa</td><td>Colorado</td><td>8077</td><td>316</td><td>4</td></tr>\n",
       "<tr><td>2020-08-01</td><td>Park</td><td>Colorado</td><td>8093</td><td>41</td><td>1</td></tr>\n",
       "<tr><td>2020-08-10</td><td>Larimer</td><td>Colorado</td><td>8069</td><td>1575</td><td>35</td></tr>\n",
       "<tr><td>2021-02-07</td><td>Arapahoe</td><td>Colorado</td><td>8005</td><td>46911</td><td>668</td></tr>\n",
       "<tr><td>2020-08-14</td><td>Denver</td><td>Colorado</td><td>8031</td><td>10471</td><td>420</td></tr>\n",
       "<tr><td>2021-01-11</td><td>San Miguel</td><td>Colorado</td><td>8113</td><td>433</td><td>0</td></tr>\n",
       "<tr><td>2020-08-13</td><td>Rio Grande</td><td>Colorado</td><td>8105</td><td>91</td><td>2</td></tr>\n",
       "<tr><td>2020-12-28</td><td>Gilpin</td><td>Colorado</td><td>8047</td><td>121</td><td>1</td></tr>\n",
       "<tr><td>2020-08-26</td><td>Pueblo</td><td>Colorado</td><td>8101</td><td>821</td><td>34</td></tr>\n",
       "<tr><td>2021-01-26</td><td>Elbert</td><td>Colorado</td><td>8039</td><td>1123</td><td>12</td></tr>\n",
       "<tr><td>2021-01-10</td><td>Alamosa</td><td>Colorado</td><td>8003</td><td>1006</td><td>25</td></tr>\n",
       "<tr><td>2020-08-23</td><td>Lake</td><td>Colorado</td><td>8065</td><td>80</td><td>0</td></tr>\n",
       "<tr><td>2020-08-02</td><td>Broomfield</td><td>Colorado</td><td>8014</td><td>415</td><td>32</td></tr>\n",
       "<tr><td>2021-01-19</td><td>Gilpin</td><td>Colorado</td><td>8047</td><td>140</td><td>2</td></tr>\n",
       "<tr><td>2021-01-20</td><td>Denver</td><td>Colorado</td><td>8031</td><td>53777</td><td>725</td></tr>\n",
       "<tr><td>2021-02-17</td><td>Kiowa</td><td>Colorado</td><td>8061</td><td>91</td><td>3</td></tr>\n",
       "<tr><td>2021-02-07</td><td>El Paso</td><td>Colorado</td><td>8041</td><td>48851</td><td>716</td></tr>\n",
       "<tr><td>2020-07-31</td><td>Ouray</td><td>Colorado</td><td>8091</td><td>12</td><td>1</td></tr>\n",
       "<tr><td>2020-08-24</td><td>Eagle</td><td>Colorado</td><td>8037</td><td>1166</td><td>10</td></tr>\n",
       "<tr><td>2021-02-02</td><td>Morgan</td><td>Colorado</td><td>8087</td><td>2367</td><td>89</td></tr>\n",
       "<tr><td>2021-02-10</td><td>Lake</td><td>Colorado</td><td>8065</td><td>610</td><td>0</td></tr>\n",
       "<tr><td>2020-07-31</td><td>Custer</td><td>Colorado</td><td>8027</td><td>10</td><td>0</td></tr>\n",
       "<tr><td>2021-03-05</td><td>Archuleta</td><td>Colorado</td><td>8007</td><td>674</td><td>1</td></tr>\n",
       "<tr><td>2021-02-23</td><td>Douglas</td><td>Colorado</td><td>8035</td><td>21405</td><td>230</td></tr>\n",
       "<tr><td>2021-03-01</td><td>San Juan</td><td>Colorado</td><td>8111</td><td>42</td><td>0</td></tr>\n",
       "<tr><td>2020-08-12</td><td>Hinsdale</td><td>Colorado</td><td>8053</td><td>3</td><td>0</td></tr>\n",
       "<tr><td>2020-12-15</td><td>Routt</td><td>Colorado</td><td>8107</td><td>905</td><td>16</td></tr>\n",
       "<tr><td>2020-08-14</td><td>San Miguel</td><td>Colorado</td><td>8113</td><td>92</td><td>0</td></tr>\n",
       "<tr><td>2020-12-22</td><td>Routt</td><td>Colorado</td><td>8107</td><td>964</td><td>18</td></tr>\n",
       "<tr><td>2021-01-04</td><td>Denver</td><td>Colorado</td><td>8031</td><td>48605</td><td>681</td></tr>\n",
       "<tr><td>2021-01-22</td><td>Huerfano</td><td>Colorado</td><td>8055</td><td>287</td><td>17</td></tr>\n",
       "<tr><td>2020-08-16</td><td>Moffat</td><td>Colorado</td><td>8081</td><td>32</td><td>1</td></tr>\n",
       "<tr><td>2021-03-07</td><td>Prowers</td><td>Colorado</td><td>8099</td><td>1162</td><td>21</td></tr>\n",
       "<tr><td>2021-02-06</td><td>Crowley</td><td>Colorado</td><td>8025</td><td>1885</td><td>14</td></tr>\n",
       "<tr><td>2020-07-24</td><td>Sedgwick</td><td>Colorado</td><td>8115</td><td>11</td><td>0</td></tr>\n",
       "<tr><td>2020-12-18</td><td>El Paso</td><td>Colorado</td><td>8041</td><td>37504</td><td>479</td></tr>\n",
       "<tr><td>2020-07-26</td><td>Gilpin</td><td>Colorado</td><td>8047</td><td>13</td><td>0</td></tr>\n",
       "<tr><td>2020-07-19</td><td>Chaffee</td><td>Colorado</td><td>8015</td><td>210</td><td>19</td></tr>\n",
       "<tr><td>2020-07-06</td><td>La Plata</td><td>Colorado</td><td>8067</td><td>122</td><td>1</td></tr>\n",
       "<tr><td>2020-07-28</td><td>Grand</td><td>Colorado</td><td>8049</td><td>40</td><td>1</td></tr>\n",
       "<tr><td>2021-01-27</td><td>Baca</td><td>Colorado</td><td>8009</td><td>264</td><td>3</td></tr>\n",
       "<tr><td>2020-07-28</td><td>Denver</td><td>Colorado</td><td>8031</td><td>9387</td><td>407</td></tr>\n",
       "<tr><td>2021-02-16</td><td>Rio Blanco</td><td>Colorado</td><td>8103</td><td>440</td><td>3</td></tr>\n",
       "<tr><td>2020-12-15</td><td>Kit Carson</td><td>Colorado</td><td>8063</td><td>397</td><td>8</td></tr>\n",
       "<tr><td>2021-03-09</td><td>Las Animas</td><td>Colorado</td><td>8071</td><td>1008</td><td>11</td></tr>\n",
       "<tr><td>2020-12-20</td><td>Rio Blanco</td><td>Colorado</td><td>8103</td><td>252</td><td>2</td></tr>\n",
       "<tr><td>2020-07-25</td><td>Prowers</td><td>Colorado</td><td>8099</td><td>45</td><td>0</td></tr>\n",
       "<tr><td>2020-07-20</td><td>Eagle</td><td>Colorado</td><td>8037</td><td>850</td><td>9</td></tr>\n",
       "<tr><td>2020-07-11</td><td>Douglas</td><td>Colorado</td><td>8035</td><td>1134</td><td>52</td></tr>\n",
       "<tr><td>2021-02-04</td><td>Kiowa</td><td>Colorado</td><td>8061</td><td>89</td><td>3</td></tr>\n",
       "<tr><td>2021-01-05</td><td>Jefferson</td><td>Colorado</td><td>8059</td><td>30649</td><td>634</td></tr>\n",
       "<tr><td>2021-01-13</td><td>Weld</td><td>Colorado</td><td>8123</td><td>22043</td><td>299</td></tr>\n",
       "<tr><td>2020-07-12</td><td>Phillips</td><td>Colorado</td><td>8095</td><td>16</td><td>0</td></tr>\n",
       "<tr><td>2021-02-05</td><td>Sedgwick</td><td>Colorado</td><td>8115</td><td>190</td><td>2</td></tr>\n",
       "<tr><td>2020-07-22</td><td>Arapahoe</td><td>Colorado</td><td>8005</td><td>6197</td><td>352</td></tr>\n",
       "<tr><td>2020-12-21</td><td>La Plata</td><td>Colorado</td><td>8067</td><td>2090</td><td>23</td></tr>\n",
       "<tr><td>2020-07-05</td><td>Eagle</td><td>Colorado</td><td>8037</td><td>705</td><td>8</td></tr>\n",
       "<tr><td>2020-07-27</td><td>Larimer</td><td>Colorado</td><td>8069</td><td>1261</td><td>32</td></tr>\n",
       "<tr><td>2020-12-23</td><td>Crowley</td><td>Colorado</td><td>8025</td><td>1585</td><td>12</td></tr>\n",
       "<tr><td>2020-11-18</td><td>Hinsdale</td><td>Colorado</td><td>8053</td><td>6</td><td>0</td></tr>\n",
       "<tr><td>2020-07-25</td><td>Broomfield</td><td>Colorado</td><td>8014</td><td>378</td><td>32</td></tr>\n",
       "<tr><td>2021-03-10</td><td>Phillips</td><td>Colorado</td><td>8095</td><td>344</td><td>13</td></tr>\n",
       "<tr><td>2021-01-27</td><td>Phillips</td><td>Colorado</td><td>8095</td><td>323</td><td>11</td></tr>\n",
       "<tr><td>2020-12-24</td><td>Rio Grande</td><td>Colorado</td><td>8105</td><td>370</td><td>5</td></tr>\n",
       "<tr><td>2020-07-27</td><td>San Juan</td><td>Colorado</td><td>8111</td><td>2</td><td>0</td></tr>\n",
       "<tr><td>2021-03-08</td><td>Delta</td><td>Colorado</td><td>8029</td><td>2485</td><td>60</td></tr>\n",
       "<tr><td>2020-12-12</td><td>Garfield</td><td>Colorado</td><td>8045</td><td>2951</td><td>17</td></tr>\n",
       "<tr><td>2021-02-14</td><td>Costilla</td><td>Colorado</td><td>8023</td><td>173</td><td>2</td></tr>\n",
       "<tr><td>2020-07-22</td><td>Broomfield</td><td>Colorado</td><td>8014</td><td>371</td><td>32</td></tr>\n",
       "<tr><td>2020-11-07</td><td>Yuma</td><td>Colorado</td><td>8125</td><td>246</td><td>1</td></tr>\n",
       "<tr><td>2020-11-19</td><td>Mesa</td><td>Colorado</td><td>8077</td><td>4354</td><td>48</td></tr>\n",
       "<tr><td>2020-07-23</td><td>Moffat</td><td>Colorado</td><td>8081</td><td>20</td><td>1</td></tr>\n",
       "<tr><td>2020-07-14</td><td>Eagle</td><td>Colorado</td><td>8037</td><td>783</td><td>8</td></tr>\n",
       "<tr><td>2020-07-14</td><td>Lincoln</td><td>Colorado</td><td>8073</td><td>4</td><td>0</td></tr>\n",
       "<tr><td>2020-11-09</td><td>Kiowa</td><td>Colorado</td><td>8061</td><td>9</td><td>0</td></tr>\n",
       "<tr><td>2020-07-22</td><td>Delta</td><td>Colorado</td><td>8029</td><td>92</td><td>1</td></tr>\n",
       "</table>\n"
      ],
      "text/plain": [
       "+----------+-----------------------------------+----------+----+------+------+\n",
       "|date      |county                             |state     |fips|cases |deaths|\n",
       "+----------+-----------------------------------+----------+----+------+------+\n",
       "|2021-02-12|Perry                              |Alabama   |1105|1039  |26    |\n",
       "|2021-03-08|Dale                               |Alabama   |1045|4688  |107   |\n",
       "|2021-03-08|DeKalb                             |Alabama   |1049|8510  |175   |\n",
       "|2021-02-02|Conecuh                            |Alabama   |1035|1017  |23    |\n",
       "|2021-02-22|Jackson                            |Alabama   |1071|6442  |99    |\n",
       "|2021-02-28|Blount                             |Alabama   |1009|6097  |127   |\n",
       "|2021-03-05|Sumter                             |Alabama   |1119|1004  |32    |\n",
       "|2021-02-04|Morgan                             |Alabama   |1103|13143 |216   |\n",
       "|2021-03-04|Lee                                |Alabama   |1081|15039 |157   |\n",
       "|2021-02-11|Conecuh                            |Alabama   |1035|1045  |23    |\n",
       "|2021-02-24|Lowndes                            |Alabama   |1085|1301  |48    |\n",
       "|2021-02-17|Monroe                             |Alabama   |1099|1646  |37    |\n",
       "|2021-02-21|Autauga                            |Alabama   |1001|6117  |85    |\n",
       "|2021-02-06|Bibb                               |Alabama   |1007|2334  |53    |\n",
       "|2021-02-18|Lowndes                            |Alabama   |1085|1298  |44    |\n",
       "|2021-03-04|Etowah                             |Alabama   |1055|13390 |325   |\n",
       "|2021-02-10|Madison                            |Alabama   |1089|31076 |397   |\n",
       "|2021-02-24|Lamar                              |Alabama   |1075|1316  |32    |\n",
       "|2021-02-10|Russell                            |Alabama   |1113|3890  |28    |\n",
       "|2021-02-24|Barbour                            |Alabama   |1005|2095  |50    |\n",
       "|2021-02-11|Lowndes                            |Alabama   |1085|1283  |42    |\n",
       "|2021-02-10|Franklin                           |Alabama   |1059|3929  |74    |\n",
       "|2021-02-15|Clay                               |Alabama   |1027|1394  |53    |\n",
       "|2021-02-15|DeKalb                             |Alabama   |1049|8355  |167   |\n",
       "|2021-02-28|Monroe                             |Alabama   |1099|1661  |39    |\n",
       "|2021-03-07|Cleburne                           |Alabama   |1029|1403  |41    |\n",
       "|2021-03-05|Coosa                              |Alabama   |1037|902   |24    |\n",
       "|2021-02-06|Choctaw                            |Alabama   |1023|540   |23    |\n",
       "|2021-02-13|Morgan                             |Alabama   |1103|13375 |234   |\n",
       "|2021-01-18|Conecuh                            |Alabama   |1035|944   |20    |\n",
       "|2021-01-08|Lawrence                           |Alabama   |1079|2263  |44    |\n",
       "|2021-01-09|Madison                            |Alabama   |1089|25219 |177   |\n",
       "|2020-12-28|Pike                               |Alabama   |1109|1912  |23    |\n",
       "|2021-01-28|Fayette                            |Alabama   |1057|1841  |37    |\n",
       "|2021-01-29|Blount                             |Alabama   |1009|5655  |98    |\n",
       "|2021-01-30|Coffee                             |Alabama   |1031|4857  |72    |\n",
       "|2021-02-07|Chilton                            |Alabama   |1021|3615  |82    |\n",
       "|2021-01-07|Lowndes                            |Alabama   |1085|1015  |34    |\n",
       "|2021-01-12|Cherokee                           |Alabama   |1019|1568  |29    |\n",
       "|2021-01-07|Marengo                            |Alabama   |1091|1888  |27    |\n",
       "|2021-01-30|Pickens                            |Alabama   |1107|2060  |31    |\n",
       "|2021-01-20|Mobile                             |Alabama   |1097|30794 |557   |\n",
       "|2021-01-29|Marion                             |Alabama   |1093|2597  |73    |\n",
       "|2021-01-21|Washington                         |Alabama   |1129|1395  |27    |\n",
       "|2021-01-09|Walker                             |Alabama   |1127|5714  |170   |\n",
       "|2020-12-31|Fayette                            |Alabama   |1057|1430  |19    |\n",
       "|2021-01-03|DeKalb                             |Alabama   |1049|7022  |62    |\n",
       "|2021-01-01|St. Clair                          |Alabama   |1115|6577  |73    |\n",
       "|2021-01-20|Morgan                             |Alabama   |1103|12389 |119   |\n",
       "|2020-12-01|Marengo                            |Alabama   |1091|1234  |24    |\n",
       "|2020-12-18|Marshall                           |Alabama   |1095|8233  |69    |\n",
       "|2021-01-05|Marion                             |Alabama   |1093|2190  |43    |\n",
       "|2021-01-04|Covington                          |Alabama   |1039|2962  |40    |\n",
       "|2020-12-24|DeKalb                             |Alabama   |1049|6668  |58    |\n",
       "|2020-12-22|Montgomery                         |Alabama   |1101|14982 |268   |\n",
       "|2020-11-15|Blount                             |Alabama   |1009|2549  |34    |\n",
       "|2020-12-22|Greene                             |Alabama   |1063|595   |20    |\n",
       "|2020-12-30|Calhoun                            |Alabama   |1015|9428  |155   |\n",
       "|2020-11-18|Greene                             |Alabama   |1063|382   |17    |\n",
       "|2020-12-27|Randolph                           |Alabama   |1111|1216  |30    |\n",
       "|2020-12-20|Macon                              |Alabama   |1087|901   |29    |\n",
       "|2020-11-26|Dale                               |Alabama   |1045|2317  |54    |\n",
       "|2020-12-01|Perry                              |Alabama   |1105|691   |6     |\n",
       "|2021-01-04|Cullman                            |Alabama   |1043|7291  |78    |\n",
       "|2020-12-15|Morgan                             |Alabama   |1103|8662  |64    |\n",
       "|2020-12-30|Tallapoosa                         |Alabama   |1123|2354  |98    |\n",
       "|2020-11-13|Tuscaloosa                         |Alabama   |1125|11566 |148   |\n",
       "|2020-12-17|Colbert                            |Alabama   |1033|3988  |55    |\n",
       "|2020-12-18|Monroe                             |Alabama   |1099|997   |10    |\n",
       "|2020-12-10|Lawrence                           |Alabama   |1079|1525  |36    |\n",
       "|2020-10-31|Tuscaloosa                         |Alabama   |1125|10734 |145   |\n",
       "|2020-11-06|Montgomery                         |Alabama   |1101|11002 |215   |\n",
       "|2020-12-08|Crenshaw                           |Alabama   |1041|756   |31    |\n",
       "|2020-12-07|Crenshaw                           |Alabama   |1041|747   |31    |\n",
       "|2020-11-14|Franklin                           |Alabama   |1059|2320  |33    |\n",
       "|2020-11-04|Walker                             |Alabama   |1127|3056  |95    |\n",
       "|2021-01-15|Montgomery                         |Alabama   |1101|18696 |304   |\n",
       "|2020-10-27|Autauga                            |Alabama   |1001|2082  |31    |\n",
       "|2020-12-14|Crenshaw                           |Alabama   |1041|786   |32    |\n",
       "|2020-12-26|Clay                               |Alabama   |1027|1103  |34    |\n",
       "|2020-12-07|Barbour                            |Alabama   |1005|1224  |29    |\n",
       "|2021-01-15|Fayette                            |Alabama   |1057|1660  |26    |\n",
       "|2020-12-12|Sumter                             |Alabama   |1119|659   |22    |\n",
       "|2020-12-26|Marengo                            |Alabama   |1091|1740  |26    |\n",
       "|2020-11-01|Conecuh                            |Alabama   |1035|577   |13    |\n",
       "|2020-11-10|Elmore                             |Alabama   |1051|3495  |60    |\n",
       "|2020-11-29|Cullman                            |Alabama   |1043|4474  |42    |\n",
       "|2020-10-09|Chilton                            |Alabama   |1021|1701  |30    |\n",
       "|2020-10-18|Calhoun                            |Alabama   |1015|4084  |59    |\n",
       "|2020-10-18|Morgan                             |Alabama   |1103|3932  |32    |\n",
       "|2020-10-23|Coosa                              |Alabama   |1037|203   |3     |\n",
       "|2020-10-09|Wilcox                             |Alabama   |1131|550   |11    |\n",
       "|2020-11-23|Talladega                          |Alabama   |1121|3359  |42    |\n",
       "|2020-10-17|Randolph                           |Alabama   |1111|781   |14    |\n",
       "|2020-10-29|Lowndes                            |Alabama   |1085|721   |28    |\n",
       "|2020-10-24|Calhoun                            |Alabama   |1015|4567  |61    |\n",
       "|2020-10-07|Jackson                            |Alabama   |1071|1735  |12    |\n",
       "|2020-10-05|Conecuh                            |Alabama   |1035|540   |12    |\n",
       "|2020-12-09|Jefferson                          |Alabama   |1073|38031 |533   |\n",
       "|2020-10-24|Baldwin                            |Alabama   |1003|6637  |69    |\n",
       "|2020-10-07|Bullock                            |Alabama   |1011|618   |16    |\n",
       "|2020-10-11|Wilcox                             |Alabama   |1131|553   |11    |\n",
       "|2020-11-23|Franklin                           |Alabama   |1059|2448  |33    |\n",
       "|2020-10-19|Calhoun                            |Alabama   |1015|4102  |59    |\n",
       "|2020-09-30|Washington                         |Alabama   |1129|560   |12    |\n",
       "|2020-11-23|Limestone                          |Alabama   |1083|4045  |44    |\n",
       "|2020-10-22|Escambia                           |Alabama   |1053|1719  |29    |\n",
       "|2020-09-18|Pickens                            |Alabama   |1107|628   |14    |\n",
       "|2020-09-20|Jackson                            |Alabama   |1071|1506  |11    |\n",
       "|2020-09-07|Cullman                            |Alabama   |1043|1716  |17    |\n",
       "|2020-09-09|Baldwin                            |Alabama   |1003|4787  |46    |\n",
       "|2020-09-16|Franklin                           |Alabama   |1059|1703  |28    |\n",
       "|2020-09-20|Baldwin                            |Alabama   |1003|5061  |49    |\n",
       "|2020-09-14|Escambia                           |Alabama   |1053|1527  |23    |\n",
       "|2020-09-10|Cleburne                           |Alabama   |1029|259   |5     |\n",
       "|2020-09-21|Butler                             |Alabama   |1013|911   |38    |\n",
       "|2020-09-12|Colbert                            |Alabama   |1033|1542  |24    |\n",
       "|2020-09-08|Lawrence                           |Alabama   |1079|524   |5     |\n",
       "|2020-09-08|Russell                            |Alabama   |1113|1665  |2     |\n",
       "|2020-09-18|Franklin                           |Alabama   |1059|1734  |28    |\n",
       "|2020-08-28|Montgomery                         |Alabama   |1101|7818  |162   |\n",
       "|2020-07-31|Chambers                           |Alabama   |1017|859   |38    |\n",
       "|2020-08-10|Blount                             |Alabama   |1009|947   |4     |\n",
       "|2020-07-30|Colbert                            |Alabama   |1033|1023  |11    |\n",
       "|2020-08-01|Dale                               |Alabama   |1045|781   |18    |\n",
       "|2020-08-27|Pike                               |Alabama   |1109|925   |8     |\n",
       "|2020-08-18|Pike                               |Alabama   |1109|809   |8     |\n",
       "|2020-08-10|Limestone                          |Alabama   |1083|1376  |14    |\n",
       "|2020-08-29|Sumter                             |Alabama   |1119|402   |19    |\n",
       "|2020-08-27|Henry                              |Alabama   |1067|352   |4     |\n",
       "|2020-08-05|Wilcox                             |Alabama   |1131|426   |10    |\n",
       "|2020-08-13|Lamar                              |Alabama   |1075|245   |2     |\n",
       "|2020-08-11|Wilcox                             |Alabama   |1131|451   |10    |\n",
       "|2020-08-21|Lee                                |Alabama   |1081|3218  |51    |\n",
       "|2020-08-06|Randolph                           |Alabama   |1111|407   |11    |\n",
       "|2020-08-23|Jefferson                          |Alabama   |1073|14984 |287   |\n",
       "|2020-07-29|Lawrence                           |Alabama   |1079|272   |0     |\n",
       "|2020-07-31|DeKalb                             |Alabama   |1049|1661  |12    |\n",
       "|2020-08-01|Monroe                             |Alabama   |1099|434   |4     |\n",
       "|2020-08-22|Autauga                            |Alabama   |1001|1322  |23    |\n",
       "|2020-08-20|Colbert                            |Alabama   |1033|1347  |19    |\n",
       "|2020-08-07|Marion                             |Alabama   |1093|601   |24    |\n",
       "|2020-07-12|Clarke                             |Alabama   |1025|318   |6     |\n",
       "|2020-07-08|Marion                             |Alabama   |1093|245   |14    |\n",
       "|2020-07-22|St. Clair                          |Alabama   |1115|928   |5     |\n",
       "|2020-07-22|Lowndes                            |Alabama   |1085|532   |26    |\n",
       "|2020-07-23|Clarke                             |Alabama   |1025|421   |9     |\n",
       "|2020-07-13|Escambia                           |Alabama   |1053|519   |8     |\n",
       "|2020-07-08|Washington                         |Alabama   |1129|124   |7     |\n",
       "|2020-07-28|Marshall                           |Alabama   |1095|2760  |26    |\n",
       "|2020-07-08|Tallapoosa                         |Alabama   |1123|614   |70    |\n",
       "|2020-07-25|Colbert                            |Alabama   |1033|880   |10    |\n",
       "|2020-07-01|Perry                              |Alabama   |1105|145   |1     |\n",
       "|2020-07-07|St. Clair                          |Alabama   |1115|426   |2     |\n",
       "|2020-07-18|Colbert                            |Alabama   |1033|712   |9     |\n",
       "|2020-07-25|Madison                            |Alabama   |1089|4202  |25    |\n",
       "|2020-07-27|Limestone                          |Alabama   |1083|1048  |11    |\n",
       "|2020-07-01|Franklin                           |Alabama   |1059|856   |13    |\n",
       "|2020-07-17|Blount                             |Alabama   |1009|440   |1     |\n",
       "|2020-07-12|Clay                               |Alabama   |1027|85    |2     |\n",
       "|2020-07-23|Lamar                              |Alabama   |1075|156   |1     |\n",
       "|2020-07-09|Tallapoosa                         |Alabama   |1123|625   |70    |\n",
       "|2020-07-08|Lauderdale                         |Alabama   |1077|517   |6     |\n",
       "|2020-06-13|Clay                               |Alabama   |1027|30    |2     |\n",
       "|2020-06-03|Montgomery                         |Alabama   |1101|1845  |44    |\n",
       "|2020-06-18|Cullman                            |Alabama   |1043|299   |1     |\n",
       "|2020-06-01|Barbour                            |Alabama   |1005|173   |1     |\n",
       "|2020-06-27|Tallapoosa                         |Alabama   |1123|546   |70    |\n",
       "|2020-06-24|Franklin                           |Alabama   |1059|803   |10    |\n",
       "|2020-06-09|Jefferson                          |Alabama   |1073|2162  |111   |\n",
       "|2020-06-02|Blount                             |Alabama   |1009|65    |1     |\n",
       "|2020-05-31|Talladega                          |Alabama   |1121|113   |5     |\n",
       "|2020-06-01|Butler                             |Alabama   |1013|416   |18    |\n",
       "|2020-06-08|Bullock                            |Alabama   |1011|240   |9     |\n",
       "|2020-06-09|Butler                             |Alabama   |1013|466   |24    |\n",
       "|2020-06-23|Etowah                             |Alabama   |1055|436   |12    |\n",
       "|2020-05-31|Pike                               |Alabama   |1109|203   |0     |\n",
       "|2020-05-27|Calhoun                            |Alabama   |1015|152   |3     |\n",
       "|2020-06-29|Covington                          |Alabama   |1039|309   |5     |\n",
       "|2020-06-19|Chambers                           |Alabama   |1017|507   |28    |\n",
       "|2020-06-25|Hale                               |Alabama   |1065|272   |19    |\n",
       "|2020-06-17|DeKalb                             |Alabama   |1049|356   |5     |\n",
       "|2020-06-16|Henry                              |Alabama   |1067|109   |2     |\n",
       "|2020-06-18|Talladega                          |Alabama   |1121|175   |6     |\n",
       "|2020-06-08|Monroe                             |Alabama   |1099|62    |2     |\n",
       "|2020-06-27|Wilcox                             |Alabama   |1131|273   |8     |\n",
       "|2020-06-05|Chambers                           |Alabama   |1017|375   |26    |\n",
       "|2020-06-03|Butler                             |Alabama   |1013|421   |18    |\n",
       "|2020-05-08|Colbert                            |Alabama   |1033|63    |2     |\n",
       "|2020-05-20|Wilcox                             |Alabama   |1131|108   |6     |\n",
       "|2020-05-06|Montgomery                         |Alabama   |1101|477   |12    |\n",
       "|2020-05-06|Coffee                             |Alabama   |1031|138   |0     |\n",
       "|2020-05-12|Jackson                            |Alabama   |1071|60    |2     |\n",
       "|2020-05-15|Hale                               |Alabama   |1065|79    |2     |\n",
       "|2020-05-02|Baldwin                            |Alabama   |1003|181   |4     |\n",
       "|2020-05-10|Fayette                            |Alabama   |1057|7     |0     |\n",
       "|2020-05-14|Lamar                              |Alabama   |1075|14    |0     |\n",
       "|2020-04-24|Winston                            |Alabama   |1133|10    |0     |\n",
       "|2020-05-22|Bibb                               |Alabama   |1007|55    |1     |\n",
       "|2020-04-26|Pike                               |Alabama   |1109|62    |0     |\n",
       "|2020-04-26|Talladega                          |Alabama   |1121|57    |2     |\n",
       "|2020-04-30|Shelby                             |Alabama   |1117|320   |12    |\n",
       "|2020-05-11|Barbour                            |Alabama   |1005|61    |1     |\n",
       "|2020-04-24|Chilton                            |Alabama   |1021|49    |1     |\n",
       "|2020-05-23|Limestone                          |Alabama   |1083|72    |0     |\n",
       "|2020-04-30|Autauga                            |Alabama   |1001|42    |4     |\n",
       "|2020-05-15|Montgomery                         |Alabama   |1101|787   |20    |\n",
       "|2020-04-27|Macon                              |Alabama   |1087|34    |2     |\n",
       "|2020-05-17|Choctaw                            |Alabama   |1023|84    |3     |\n",
       "|2020-04-22|Coosa                              |Alabama   |1037|24    |1     |\n",
       "|2020-04-16|DeKalb                             |Alabama   |1049|32    |1     |\n",
       "|2020-04-21|Chilton                            |Alabama   |1021|44    |0     |\n",
       "|2020-04-02|Houston                            |Alabama   |1069|9     |1     |\n",
       "|2020-03-31|Mobile                             |Alabama   |1097|53    |1     |\n",
       "|2020-04-07|Hale                               |Alabama   |1065|7     |0     |\n",
       "|2020-04-14|Blount                             |Alabama   |1009|16    |0     |\n",
       "|2020-04-17|Shelby                             |Alabama   |1117|248   |8     |\n",
       "|2020-04-09|Franklin                           |Alabama   |1059|8     |0     |\n",
       "|2020-04-17|Pike                               |Alabama   |1109|29    |0     |\n",
       "|2020-04-09|Tallapoosa                         |Alabama   |1123|48    |2     |\n",
       "|2020-03-26|Lee                                |Alabama   |1081|47    |0     |\n",
       "|2020-04-18|Jackson                            |Alabama   |1071|38    |2     |\n",
       "|2020-04-01|Clay                               |Alabama   |1027|3     |0     |\n",
       "|2020-04-21|DeKalb                             |Alabama   |1049|51    |2     |\n",
       "|2020-04-15|Colbert                            |Alabama   |1033|11    |1     |\n",
       "|2020-04-21|Shelby                             |Alabama   |1117|274   |6     |\n",
       "|2020-03-24|Tuscaloosa                         |Alabama   |1125|10    |0     |\n",
       "|2020-08-25|Chilton                            |Alabama   |1021|1034  |13    |\n",
       "|2020-05-19|Marion                             |Alabama   |1093|106   |9     |\n",
       "|2021-02-25|Houston                            |Alabama   |1069|10048 |259   |\n",
       "|2020-05-19|Jefferson                          |Alabama   |1073|1367  |78    |\n",
       "|2021-02-26|Juneau City and Borough            |Alaska    |2110|1215  |3     |\n",
       "|2021-02-26|Petersburg Borough                 |Alaska    |2195|79    |0     |\n",
       "|2021-02-18|Kodiak Island Borough              |Alaska    |2150|1050  |5     |\n",
       "|2021-02-02|Southeast Fairbanks Census Area    |Alaska    |2240|433   |3     |\n",
       "|2021-03-09|Juneau City and Borough            |Alaska    |2110|1238  |3     |\n",
       "|2021-02-11|Prince of Wales-Hyder Census Area  |Alaska    |2198|70    |1     |\n",
       "|2021-03-09|Matanuska-Susitna Borough          |Alaska    |2170|8961  |34    |\n",
       "|2021-02-22|Bethel Census Area                 |Alaska    |2050|3548  |18    |\n",
       "|2021-01-28|Unknown                            |Alaska    |NULL|230   |0     |\n",
       "|2021-01-17|Bethel Census Area                 |Alaska    |2050|2983  |12    |\n",
       "|2021-01-30|Bristol Bay plus Lake and Peninsula|Alaska    |2997|168   |0     |\n",
       "|2021-01-06|Valdez-Cordova Census Area         |Alaska    |2261|360   |2     |\n",
       "|2021-01-08|Ketchikan Gateway Borough          |Alaska    |2130|250   |1     |\n",
       "|2021-01-08|Southeast Fairbanks Census Area    |Alaska    |2240|411   |3     |\n",
       "|2021-01-26|Fairbanks North Star Borough       |Alaska    |2090|5759  |25    |\n",
       "|2021-01-16|Kenai Peninsula Borough            |Alaska    |2122|3796  |16    |\n",
       "|2021-01-26|Wrangell City and Borough          |Alaska    |2275|24    |0     |\n",
       "|2021-03-06|Prince of Wales-Hyder Census Area  |Alaska    |2198|74    |1     |\n",
       "|2021-01-02|North Slope Borough                |Alaska    |2185|811   |3     |\n",
       "|2021-01-29|Unknown                            |Alaska    |NULL|233   |0     |\n",
       "|2021-02-03|Yakutat plus Hoonah-Angoon         |Alaska    |2998|63    |1     |\n",
       "|2021-01-02|Ketchikan Gateway Borough          |Alaska    |2130|241   |1     |\n",
       "|2021-01-19|Dillingham Census Area             |Alaska    |2070|153   |1     |\n",
       "|2021-01-11|Southeast Fairbanks Census Area    |Alaska    |2240|412   |3     |\n",
       "|2021-01-08|Petersburg Borough                 |Alaska    |2195|34    |0     |\n",
       "|2021-02-05|Yukon-Koyukuk Census Area          |Alaska    |2290|269   |4     |\n",
       "|2020-11-15|North Slope Borough                |Alaska    |2185|375   |0     |\n",
       "|2020-11-15|Dillingham Census Area             |Alaska    |2070|80    |0     |\n",
       "|2020-11-15|Haines Borough                     |Alaska    |2100|16    |0     |\n",
       "|2020-12-24|Southeast Fairbanks Census Area    |Alaska    |2240|398   |3     |\n",
       "|2020-12-25|Petersburg Borough                 |Alaska    |2195|25    |0     |\n",
       "|2020-12-27|Skagway Municipality               |Alaska    |2230|16    |0     |\n",
       "|2020-11-18|Kenai Peninsula Borough            |Alaska    |2122|1885  |4     |\n",
       "|2020-12-21|Bristol Bay plus Lake and Peninsula|Alaska    |2997|156   |0     |\n",
       "|2020-10-28|Yakutat plus Hoonah-Angoon         |Alaska    |2998|38    |0     |\n",
       "|2020-10-28|Wrangell City and Borough          |Alaska    |2275|19    |0     |\n",
       "|2020-11-10|Dillingham Census Area             |Alaska    |2070|71    |0     |\n",
       "|2020-10-31|Juneau City and Borough            |Alaska    |2110|569   |2     |\n",
       "|2020-11-24|Sitka City and Borough             |Alaska    |2220|163   |0     |\n",
       "|2020-10-22|Aleutians East Borough             |Alaska    |2013|15    |0     |\n",
       "|2020-10-09|Bethel Census Area                 |Alaska    |2050|169   |1     |\n",
       "|2020-10-23|North Slope Borough                |Alaska    |2185|234   |0     |\n",
       "|2020-12-09|Bristol Bay plus Lake and Peninsula|Alaska    |2997|151   |0     |\n",
       "|2020-09-07|Denali Borough                     |Alaska    |2068|5     |0     |\n",
       "|2020-09-07|Ketchikan Gateway Borough          |Alaska    |2130|65    |0     |\n",
       "|2020-09-16|Sitka City and Borough             |Alaska    |2220|53    |0     |\n",
       "|2020-09-19|Matanuska-Susitna Borough          |Alaska    |2170|586   |2     |\n",
       "|2020-09-02|Bristol Bay plus Lake and Peninsula|Alaska    |2997|77    |0     |\n",
       "|2020-09-08|Yukon-Koyukuk Census Area          |Alaska    |2290|74    |1     |\n",
       "|2020-08-07|Wrangell City and Borough          |Alaska    |2275|15    |0     |\n",
       "|2020-08-13|Dillingham Census Area             |Alaska    |2070|24    |0     |\n",
       "|2020-08-13|Yakutat plus Hoonah-Angoon         |Alaska    |2998|11    |0     |\n",
       "|2020-08-10|Yukon-Koyukuk Census Area          |Alaska    |2290|54    |1     |\n",
       "|2020-08-27|Fairbanks North Star Borough       |Alaska    |2090|628   |8     |\n",
       "|2020-07-10|Nome Census Area                   |Alaska    |2180|14    |0     |\n",
       "|2020-07-28|Anchorage                          |Alaska    |2020|1601  |9     |\n",
       "|2020-07-10|Petersburg Borough                 |Alaska    |2195|8     |0     |\n",
       "|2020-07-26|Fairbanks North Star Borough       |Alaska    |2090|403   |4     |\n",
       "|2020-07-17|Juneau City and Borough            |Alaska    |2110|65    |2     |\n",
       "|2020-07-28|Aleutians West Census Area         |Alaska    |2016|87    |0     |\n",
       "|2020-07-11|Petersburg Borough                 |Alaska    |2195|8     |0     |\n",
       "|2020-07-16|Unknown                            |Alaska    |NULL|15    |0     |\n",
       "|2020-06-10|Matanuska-Susitna Borough          |Alaska    |2170|38    |1     |\n",
       "|2020-06-12|Nome Census Area                   |Alaska    |2180|4     |0     |\n",
       "|2020-05-29|Valdez-Cordova Census Area         |Alaska    |2261|2     |0     |\n",
       "|2020-06-04|Unknown                            |Alaska    |NULL|1     |0     |\n",
       "|2020-06-24|Kodiak Island Borough              |Alaska    |2150|7     |0     |\n",
       "|2020-05-30|Ketchikan Gateway Borough          |Alaska    |2130|16    |0     |\n",
       "|2020-06-24|Aleutians East Borough             |Alaska    |2013|2     |0     |\n",
       "|2020-06-09|Northwest Arctic Borough           |Alaska    |2188|3     |0     |\n",
       "|2020-06-27|Sitka City and Borough             |Alaska    |2220|15    |0     |\n",
       "|2020-05-21|Yukon-Koyukuk Census Area          |Alaska    |2290|1     |0     |\n",
       "|2020-05-15|Bethel Census Area                 |Alaska    |2050|1     |0     |\n",
       "|2020-05-18|Sitka City and Borough             |Alaska    |2220|1     |0     |\n",
       "|2020-05-13|Ketchikan Gateway Borough          |Alaska    |2130|16    |0     |\n",
       "|2020-04-03|Ketchikan Gateway Borough          |Alaska    |2130|14    |0     |\n",
       "|2020-04-11|Ketchikan Gateway Borough          |Alaska    |2130|14    |0     |\n",
       "|2020-04-23|Ketchikan Gateway Borough          |Alaska    |2130|16    |0     |\n",
       "|2020-03-18|Ketchikan Gateway Borough          |Alaska    |2130|1     |0     |\n",
       "|2021-02-22|Mohave                             |Arizona   |4015|20931 |625   |\n",
       "|2021-02-23|Gila                               |Arizona   |4007|6357  |211   |\n",
       "|2021-02-15|Maricopa                           |Arizona   |4013|499105|8505  |\n",
       "|2021-01-31|Apache                             |Arizona   |4001|9607  |311   |\n",
       "|2021-02-26|Pima                               |Arizona   |4019|109137|2212  |\n",
       "|2021-01-10|Pinal                              |Arizona   |4021|33154 |418   |\n",
       "|2021-01-25|Mohave                             |Arizona   |4015|18398 |488   |\n",
       "|2021-01-08|Apache                             |Arizona   |4001|8119  |259   |\n",
       "|2021-02-07|Greenlee                           |Arizona   |4011|536   |6     |\n",
       "|2021-01-13|Cochise                            |Arizona   |4003|9344  |181   |\n",
       "|2020-11-28|Gila                               |Arizona   |4007|2913  |92    |\n",
       "|2020-12-27|Apache                             |Arizona   |4001|7192  |225   |\n",
       "|2020-12-17|Pinal                              |Arizona   |4021|22926 |317   |\n",
       "|2020-12-25|Mohave                             |Arizona   |4015|11198 |324   |\n",
       "|2020-12-18|Santa Cruz                         |Arizona   |4023|5228  |86    |\n",
       "|2020-11-13|Greenlee                           |Arizona   |4011|127   |2     |\n",
       "|2020-10-31|Cochise                            |Arizona   |4003|2216  |75    |\n",
       "|2020-12-08|Coconino                           |Arizona   |4005|8494  |182   |\n",
       "|2020-12-07|Pima                               |Arizona   |4019|45892 |730   |\n",
       "|2020-11-09|Yavapai                            |Arizona   |4025|3284  |101   |\n",
       "|2020-11-14|Cochise                            |Arizona   |4003|2679  |77    |\n",
       "|2020-12-26|Santa Cruz                         |Arizona   |4023|5748  |93    |\n",
       "|2020-11-03|Graham                             |Arizona   |4009|1307  |31    |\n",
       "|2020-11-27|Santa Cruz                         |Arizona   |4023|3798  |69    |\n",
       "|2020-10-13|Yavapai                            |Arizona   |4025|2725  |86    |\n",
       "|2020-11-23|Gila                               |Arizona   |4007|2631  |87    |\n",
       "|2020-10-09|Navajo                             |Arizona   |4017|5874  |236   |\n",
       "|2020-09-10|Gila                               |Arizona   |4007|1154  |51    |\n",
       "|2020-09-01|Greenlee                           |Arizona   |4011|58    |2     |\n",
       "|2020-09-11|Greenlee                           |Arizona   |4011|58    |2     |\n",
       "|2020-08-02|Coconino                           |Arizona   |4005|2990  |115   |\n",
       "|2020-08-02|La Paz                             |Arizona   |4012|473   |10    |\n",
       "|2020-08-03|Coconino                           |Arizona   |4005|2997  |116   |\n",
       "|2020-08-09|Santa Cruz                         |Arizona   |4023|2666  |53    |\n",
       "|2020-08-13|Gila                               |Arizona   |4007|978   |41    |\n",
       "|2020-08-05|Yuma                               |Arizona   |4027|11319 |276   |\n",
       "|2020-08-17|Mohave                             |Arizona   |4015|3368  |184   |\n",
       "|2020-07-26|Pinal                              |Arizona   |4021|7468  |123   |\n",
       "|2020-07-17|Yavapai                            |Arizona   |4025|1329  |26    |\n",
       "|2020-07-07|Maricopa                           |Arizona   |4013|67543 |933   |\n",
       "|2020-07-15|Coconino                           |Arizona   |4005|2532  |102   |\n",
       "|2020-07-03|Navajo                             |Arizona   |4017|3817  |132   |\n",
       "|2020-07-19|Gila                               |Arizona   |4007|570   |16    |\n",
       "|2020-07-03|Mohave                             |Arizona   |4015|1342  |88    |\n",
       "|2020-07-13|Pima                               |Arizona   |4019|11856 |327   |\n",
       "|2020-07-11|Pima                               |Arizona   |4019|11443 |326   |\n",
       "|2020-06-22|Pima                               |Arizona   |4019|5587  |242   |\n",
       "|2020-06-04|Cochise                            |Arizona   |4003|105   |5     |\n",
       "|2020-06-01|Mohave                             |Arizona   |4015|403   |45    |\n",
       "|2020-05-31|Graham                             |Arizona   |4009|32    |2     |\n",
       "|2020-06-10|Graham                             |Arizona   |4009|45    |2     |\n",
       "|2020-05-17|Cochise                            |Arizona   |4003|46    |1     |\n",
       "|2020-05-05|Greenlee                           |Arizona   |4011|2     |0     |\n",
       "|2020-05-06|Mohave                             |Arizona   |4015|150   |17    |\n",
       "|2020-04-21|Yuma                               |Arizona   |4027|27    |1     |\n",
       "|2020-04-06|Yavapai                            |Arizona   |4025|50    |1     |\n",
       "|2020-04-10|La Paz                             |Arizona   |4012|4     |0     |\n",
       "|2020-04-18|Yavapai                            |Arizona   |4025|72    |1     |\n",
       "|2020-04-04|Apache                             |Arizona   |4001|20    |0     |\n",
       "|2020-04-21|Apache                             |Arizona   |4001|226   |5     |\n",
       "|2020-04-21|Cochise                            |Arizona   |4003|29    |0     |\n",
       "|2020-04-04|Pinal                              |Arizona   |4021|89    |0     |\n",
       "|2020-04-22|Graham                             |Arizona   |4009|2     |0     |\n",
       "|2020-04-19|Apache                             |Arizona   |4001|178   |4     |\n",
       "|2020-08-25|Cochise                            |Arizona   |4003|1805  |60    |\n",
       "|2021-02-22|Crawford                           |Arkansas  |5033|6698  |104   |\n",
       "|2021-02-11|Arkansas                           |Arkansas  |5001|1914  |37    |\n",
       "|2021-03-02|Jefferson                          |Arkansas  |5069|8622  |159   |\n",
       "|2021-02-16|Arkansas                           |Arkansas  |5001|1930  |38    |\n",
       "|2021-03-03|Saline                             |Arkansas  |5125|11459 |154   |\n",
       "|2021-02-26|Sharp                              |Arkansas  |5135|1521  |50    |\n",
       "|2021-03-05|Lonoke                             |Arkansas  |5085|6886  |105   |\n",
       "|2021-02-17|Mississippi                        |Arkansas  |5093|5502  |112   |\n",
       "|2021-02-08|Craighead                          |Arkansas  |5031|12465 |173   |\n",
       "|2021-03-04|Prairie                            |Arkansas  |5117|877   |21    |\n",
       "|2021-02-08|Conway                             |Arkansas  |5029|2075  |29    |\n",
       "|2021-03-10|Cross                              |Arkansas  |5037|1901  |48    |\n",
       "|2021-02-13|Cross                              |Arkansas  |5037|1874  |47    |\n",
       "|2021-03-11|Pulaski                            |Arkansas  |5119|37749 |582   |\n",
       "|2021-03-05|Jefferson                          |Arkansas  |5069|8641  |160   |\n",
       "|2021-02-26|Cross                              |Arkansas  |5037|1900  |48    |\n",
       "|2021-03-04|Hempstead                          |Arkansas  |5057|1933  |18    |\n",
       "|2021-02-10|Poinsett                           |Arkansas  |5111|3034  |74    |\n",
       "|2021-02-16|Perry                              |Arkansas  |5105|781   |8     |\n",
       "|2021-03-11|Clay                               |Arkansas  |5021|1704  |48    |\n",
       "|2021-02-02|Carroll                            |Arkansas  |5015|2597  |39    |\n",
       "|2021-03-08|Izard                              |Arkansas  |5065|1642  |41    |\n",
       "|2021-03-11|Lonoke                             |Arkansas  |5085|6927  |110   |\n",
       "|2021-02-24|Arkansas                           |Arkansas  |5001|1963  |38    |\n",
       "|2021-03-03|Carroll                            |Arkansas  |5015|2717  |42    |\n",
       "|2021-02-21|Polk                               |Arkansas  |5113|1856  |62    |\n",
       "|2021-03-03|Sebastian                          |Arkansas  |5131|14637 |257   |\n",
       "|2021-01-03|Columbia                           |Arkansas  |5027|1597  |43    |\n",
       "|2021-02-28|Calhoun                            |Arkansas  |5013|398   |2     |\n",
       "|2021-01-09|Calhoun                            |Arkansas  |5013|267   |1     |\n",
       "|2021-01-14|Searcy                             |Arkansas  |5129|558   |14    |\n",
       "|2020-12-31|Arkansas                           |Arkansas  |5001|1314  |30    |\n",
       "|2021-01-25|Pope                               |Arkansas  |5115|6983  |81    |\n",
       "|2021-01-07|Jefferson                          |Arkansas  |5069|7043  |133   |\n",
       "|2021-01-20|Lonoke                             |Arkansas  |5085|5393  |98    |\n",
       "|2021-01-28|Craighead                          |Arkansas  |5031|12052 |163   |\n",
       "|2021-01-18|Nevada                             |Arkansas  |5099|649   |22    |\n",
       "|2021-03-06|Lonoke                             |Arkansas  |5085|6897  |106   |\n",
       "|2021-01-26|Perry                              |Arkansas  |5105|652   |6     |\n",
       "|2021-01-16|Ashley                             |Arkansas  |5003|1480  |24    |\n",
       "|2021-01-26|Washington                         |Arkansas  |5143|27059 |291   |\n",
       "|2021-01-16|White                              |Arkansas  |5145|5902  |76    |\n",
       "|2021-01-29|Woodruff                           |Arkansas  |5147|545   |6     |\n",
       "|2021-01-07|Hot Spring                         |Arkansas  |5059|3843  |58    |\n",
       "|2021-01-23|Ouachita                           |Arkansas  |5103|1847  |42    |\n",
       "|2020-12-31|Boone                              |Arkansas  |5009|2571  |68    |\n",
       "|2021-01-25|Poinsett                           |Arkansas  |5111|2858  |71    |\n",
       "|2020-10-27|Clark                              |Arkansas  |5019|497   |5     |\n",
       "|2021-01-24|Van Buren                          |Arkansas  |5141|1039  |12    |\n",
       "|2021-01-18|Poinsett                           |Arkansas  |5111|2746  |70    |\n",
       "|2020-12-28|Franklin                           |Arkansas  |5047|1052  |25    |\n",
       "|2021-01-25|Sharp                              |Arkansas  |5135|1411  |41    |\n",
       "|2021-03-06|Carroll                            |Arkansas  |5015|2728  |42    |\n",
       "|2021-02-05|Saline                             |Arkansas  |5125|10788 |153   |\n",
       "|2020-12-27|Jefferson                          |Arkansas  |5069|6516  |125   |\n",
       "|2020-12-19|Crittenden                         |Arkansas  |5035|3950  |66    |\n",
       "|2020-12-19|Montgomery                         |Arkansas  |5097|434   |16    |\n",
       "|2020-12-15|Pike                               |Arkansas  |5109|503   |6     |\n",
       "|2020-11-26|Franklin                           |Arkansas  |5047|774   |12    |\n",
       "|2021-01-04|Searcy                             |Arkansas  |5129|515   |13    |\n",
       "|2020-11-25|Pope                               |Arkansas  |5115|3597  |42    |\n",
       "|2021-01-05|Polk                               |Arkansas  |5113|1330  |46    |\n",
       "|2020-12-17|Lawrence                           |Arkansas  |5075|1370  |33    |\n",
       "|2021-01-04|Bradley                            |Arkansas  |5011|977   |16    |\n",
       "|2020-12-17|Cleveland                          |Arkansas  |5025|496   |16    |\n",
       "|2020-11-13|Cleveland                          |Arkansas  |5025|297   |13    |\n",
       "|2020-12-23|Lincoln                            |Arkansas  |5079|2757  |21    |\n",
       "|2020-12-30|Searcy                             |Arkansas  |5129|500   |11    |\n",
       "|2020-12-04|St. Francis                        |Arkansas  |5123|2150  |15    |\n",
       "|2020-12-21|Marion                             |Arkansas  |5089|565   |14    |\n",
       "|2020-12-13|Monroe                             |Arkansas  |5095|372   |5     |\n",
       "|2020-12-01|Ashley                             |Arkansas  |5003|871   |15    |\n",
       "|2020-11-13|Little River                       |Arkansas  |5081|547   |39    |\n",
       "|2020-12-25|Searcy                             |Arkansas  |5129|474   |11    |\n",
       "|2020-12-17|Jefferson                          |Arkansas  |5069|5949  |122   |\n",
       "|2020-12-15|Chicot                             |Arkansas  |5017|1318  |29    |\n",
       "|2020-10-28|Monroe                             |Arkansas  |5095|212   |1     |\n",
       "|2020-11-08|Sebastian                          |Arkansas  |5131|5562  |106   |\n",
       "|2020-11-04|Hempstead                          |Arkansas  |5057|627   |5     |\n",
       "|2020-11-04|Arkansas                           |Arkansas  |5001|744   |20    |\n",
       "|2020-11-08|Unknown                            |Arkansas  |NULL|1868  |0     |\n",
       "|2020-11-06|Van Buren                          |Arkansas  |5141|242   |3     |\n",
       "|2020-11-14|Independence                       |Arkansas  |5063|1843  |68    |\n",
       "|2020-10-28|Washington                         |Arkansas  |5143|11522 |151   |\n",
       "|2020-10-27|Benton                             |Arkansas  |5007|8177  |118   |\n",
       "|2021-01-15|Ashley                             |Arkansas  |5003|1462  |24    |\n",
       "|2020-11-01|Lawrence                           |Arkansas  |5075|884   |21    |\n",
       "|2020-11-03|Mississippi                        |Arkansas  |5093|2448  |69    |\n",
       "|2020-10-28|Hot Spring                         |Arkansas  |5059|2212  |38    |\n",
       "|2020-11-01|Cleburne                           |Arkansas  |5023|500   |16    |\n",
       "|2020-12-26|Calhoun                            |Arkansas  |5013|216   |1     |\n",
       "|2020-11-10|Unknown                            |Arkansas  |NULL|1847  |0     |\n",
       "|2020-10-27|Dallas                             |Arkansas  |5039|179   |5     |\n",
       "|2020-07-23|Randolph                           |Arkansas  |5121|121   |2     |\n",
       "|2020-11-11|Madison                            |Arkansas  |5087|496   |6     |\n",
       "|2020-10-22|Arkansas                           |Arkansas  |5001|634   |12    |\n",
       "|2020-10-01|Ashley                             |Arkansas  |5003|443   |11    |\n",
       "|2020-10-16|Pike                               |Arkansas  |5109|253   |2     |\n",
       "|2020-11-21|Franklin                           |Arkansas  |5047|709   |8     |\n",
       "|2020-10-03|Ashley                             |Arkansas  |5003|451   |11    |\n",
       "|2020-11-23|Drew                               |Arkansas  |5043|583   |7     |\n",
       "|2020-10-08|Hot Spring                         |Arkansas  |5059|2007  |28    |\n",
       "|2020-10-17|Columbia                           |Arkansas  |5027|646   |19    |\n",
       "|2020-10-04|Crittenden                         |Arkansas  |5035|2007  |48    |\n",
       "|2020-10-19|St. Francis                        |Arkansas  |5123|1657  |10    |\n",
       "|2020-10-07|Mississippi                        |Arkansas  |5093|1799  |53    |\n",
       "|2020-10-23|Cleburne                           |Arkansas  |5023|448   |15    |\n",
       "|2020-10-21|Carroll                            |Arkansas  |5015|955   |12    |\n",
       "|2020-10-25|Phillips                           |Arkansas  |5107|741   |16    |\n",
       "|2020-10-24|Johnson                            |Arkansas  |5071|1004  |7     |\n",
       "|2020-10-11|Madison                            |Arkansas  |5087|394   |5     |\n",
       "|2020-11-23|Sharp                              |Arkansas  |5135|628   |14    |\n",
       "|2020-11-23|Howard                             |Arkansas  |5061|777   |15    |\n",
       "|2020-10-14|Lee                                |Arkansas  |5077|1093  |18    |\n",
       "|2020-09-23|Dallas                             |Arkansas  |5039|158   |3     |\n",
       "|2020-09-26|Ouachita                           |Arkansas  |5103|258   |6     |\n",
       "|2020-09-28|Baxter                             |Arkansas  |5005|351   |2     |\n",
       "|2020-09-12|Lincoln                            |Arkansas  |5079|1775  |13    |\n",
       "|2020-09-16|Johnson                            |Arkansas  |5071|808   |5     |\n",
       "|2020-09-16|Chicot                             |Arkansas  |5017|986   |17    |\n",
       "|2020-09-16|Faulkner                           |Arkansas  |5045|2103  |15    |\n",
       "|2020-09-10|Bradley                            |Arkansas  |5011|315   |6     |\n",
       "|2020-09-28|Yell                               |Arkansas  |5149|1256  |29    |\n",
       "|2020-09-01|Boone                              |Arkansas  |5009|369   |3     |\n",
       "|2020-08-30|Fulton                             |Arkansas  |5049|69    |0     |\n",
       "|2020-09-13|Jackson                            |Arkansas  |5067|243   |1     |\n",
       "|2020-09-19|Clay                               |Arkansas  |5021|258   |7     |\n",
       "|2020-09-17|Poinsett                           |Arkansas  |5111|593   |9     |\n",
       "|2020-09-08|Lonoke                             |Arkansas  |5085|796   |5     |\n",
       "|2020-09-04|Carroll                            |Arkansas  |5015|482   |8     |\n",
       "|2020-09-14|Craighead                          |Arkansas  |5031|2389  |16    |\n",
       "|2020-09-10|Boone                              |Arkansas  |5009|441   |4     |\n",
       "|2020-09-24|Chicot                             |Arkansas  |5017|1004  |19    |\n",
       "|2020-08-28|Polk                               |Arkansas  |5113|220   |4     |\n",
       "|2020-09-11|Columbia                           |Arkansas  |5027|331   |16    |\n",
       "|2020-09-08|Hot Spring                         |Arkansas  |5059|1750  |23    |\n",
       "|2020-08-10|Logan                              |Arkansas  |5083|273   |1     |\n",
       "|2020-08-16|White                              |Arkansas  |5145|394   |3     |\n",
       "|2020-08-15|Lafayette                          |Arkansas  |5073|59    |2     |\n",
       "|2020-08-21|Howard                             |Arkansas  |5061|386   |4     |\n",
       "|2020-07-29|Ashley                             |Arkansas  |5003|197   |4     |\n",
       "|2020-08-19|Jefferson                          |Arkansas  |5069|1776  |41    |\n",
       "|2020-08-14|Greene                             |Arkansas  |5055|526   |3     |\n",
       "|2020-08-06|Greene                             |Arkansas  |5055|445   |1     |\n",
       "|2020-08-12|Johnson                            |Arkansas  |5071|676   |2     |\n",
       "|2020-08-06|Desha                              |Arkansas  |5041|179   |2     |\n",
       "|2020-07-31|Van Buren                          |Arkansas  |5141|50    |2     |\n",
       "|2020-07-29|Polk                               |Arkansas  |5113|124   |0     |\n",
       "|2020-08-27|Faulkner                           |Arkansas  |5045|1610  |8     |\n",
       "|2020-08-12|Stone                              |Arkansas  |5137|74    |1     |\n",
       "|2020-08-01|Clay                               |Arkansas  |5021|105   |4     |\n",
       "|2020-08-17|Stone                              |Arkansas  |5137|87    |1     |\n",
       "|2020-07-29|Chicot                             |Arkansas  |5017|483   |4     |\n",
       "|2020-08-04|Lonoke                             |Arkansas  |5085|469   |2     |\n",
       "|2020-08-29|Perry                              |Arkansas  |5105|62    |1     |\n",
       "|2020-08-06|Sebastian                          |Arkansas  |5131|2038  |17    |\n",
       "|2020-08-07|Hempstead                          |Arkansas  |5057|233   |2     |\n",
       "|2020-08-26|Lee                                |Arkansas  |5077|996   |10    |\n",
       "|2020-08-03|Calhoun                            |Arkansas  |5013|13    |0     |\n",
       "|2020-08-06|Prairie                            |Arkansas  |5117|80    |0     |\n",
       "|2020-07-27|Clark                              |Arkansas  |5019|138   |0     |\n",
       "|2020-07-16|Chicot                             |Arkansas  |5017|245   |3     |\n",
       "|2020-07-09|Howard                             |Arkansas  |5061|121   |1     |\n",
       "|2020-07-08|Montgomery                         |Arkansas  |5097|7     |0     |\n",
       "|2020-07-27|Ouachita                           |Arkansas  |5103|68    |1     |\n",
       "|2020-07-26|Franklin                           |Arkansas  |5047|78    |1     |\n",
       "|2020-07-28|Phillips                           |Arkansas  |5107|256   |6     |\n",
       "|2020-07-10|Prairie                            |Arkansas  |5117|28    |0     |\n",
       "|2020-07-03|Drew                               |Arkansas  |5043|70    |2     |\n",
       "|2020-07-17|Cleburne                           |Arkansas  |5023|149   |5     |\n",
       "|2020-07-24|Newton                             |Arkansas  |5101|73    |0     |\n",
       "|2020-07-23|Greene                             |Arkansas  |5055|208   |0     |\n",
       "|2020-07-13|Nevada                             |Arkansas  |5099|110   |3     |\n",
       "|2020-07-17|Ouachita                           |Arkansas  |5103|41    |1     |\n",
       "|2020-06-26|St. Francis                        |Arkansas  |5123|804   |3     |\n",
       "|2020-07-25|Baxter                             |Arkansas  |5005|55    |0     |\n",
       "|2020-07-01|Garland                            |Arkansas  |5051|253   |1     |\n",
       "|2020-07-14|Howard                             |Arkansas  |5061|154   |1     |\n",
       "|2020-07-11|Clay                               |Arkansas  |5021|80    |3     |\n",
       "|2020-07-19|Carroll                            |Arkansas  |5015|270   |6     |\n",
       "|2020-07-19|Hempstead                          |Arkansas  |5057|122   |1     |\n",
       "|2020-06-28|Logan                              |Arkansas  |5083|46    |0     |\n",
       "|2020-07-24|Pike                               |Arkansas  |5109|49    |0     |\n",
       "|2020-07-09|Clark                              |Arkansas  |5019|66    |0     |\n",
       "|2020-07-28|Fulton                             |Arkansas  |5049|26    |0     |\n",
       "|2020-07-23|Arkansas                           |Arkansas  |5001|157   |1     |\n",
       "|2020-06-28|Benton                             |Arkansas  |5007|2623  |18    |\n",
       "|2020-07-15|Cross                              |Arkansas  |5037|103   |1     |\n",
       "|2020-07-17|Crittenden                         |Arkansas  |5035|916   |14    |\n",
       "|2020-06-06|Faulkner                           |Arkansas  |5045|110   |3     |\n",
       "|2020-06-03|Monroe                             |Arkansas  |5095|6     |0     |\n",
       "|2020-06-21|Cleveland                          |Arkansas  |5025|25    |0     |\n",
       "|2020-06-24|Faulkner                           |Arkansas  |5045|339   |3     |\n",
       "|2020-06-12|Bradley                            |Arkansas  |5011|34    |1     |\n",
       "|2020-06-21|Lonoke                             |Arkansas  |5085|88    |0     |\n",
       "|2020-06-03|Pope                               |Arkansas  |5115|171   |1     |\n",
       "|2020-06-12|Pulaski                            |Arkansas  |5119|1241  |41    |\n",
       "|2020-06-27|Howard                             |Arkansas  |5061|76    |1     |\n",
       "|2020-06-24|Franklin                           |Arkansas  |5047|13    |0     |\n",
       "|2020-05-30|Dallas                             |Arkansas  |5039|1     |0     |\n",
       "|2020-06-13|Franklin                           |Arkansas  |5047|6     |0     |\n",
       "|2020-06-14|Hot Spring                         |Arkansas  |5059|42    |0     |\n",
       "|2020-06-04|Fulton                             |Arkansas  |5049|7     |0     |\n",
       "|2020-06-25|Boone                              |Arkansas  |5009|19    |1     |\n",
       "|2020-06-11|Cleburne                           |Arkansas  |5023|74    |4     |\n",
       "|2020-06-20|Marion                             |Arkansas  |5089|2     |0     |\n",
       "|2020-06-09|Van Buren                          |Arkansas  |5141|30    |2     |\n",
       "|2020-05-07|Cleburne                           |Arkansas  |5023|72    |4     |\n",
       "|2020-05-12|Lafayette                          |Arkansas  |5073|9     |1     |\n",
       "|2020-05-13|Hempstead                          |Arkansas  |5057|7     |1     |\n",
       "|2020-05-25|Sevier                             |Arkansas  |5133|93    |1     |\n",
       "|2020-04-27|Van Buren                          |Arkansas  |5141|27    |2     |\n",
       "|2020-05-17|Chicot                             |Arkansas  |5017|10    |0     |\n",
       "|2020-05-24|Arkansas                           |Arkansas  |5001|3     |0     |\n",
       "|2020-05-25|Benton                             |Arkansas  |5007|297   |0     |\n",
       "|2020-05-14|Columbia                           |Arkansas  |5027|15    |2     |\n",
       "|2020-04-25|Crittenden                         |Arkansas  |5035|169   |5     |\n",
       "|2020-04-27|Hot Spring                         |Arkansas  |5059|10    |0     |\n",
       "|2020-04-28|Independence                       |Arkansas  |5063|9     |0     |\n",
       "|2020-05-22|Drew                               |Arkansas  |5043|19    |1     |\n",
       "|2020-05-26|Van Buren                          |Arkansas  |5141|28    |2     |\n",
       "|2020-05-22|St. Francis                        |Arkansas  |5123|621   |1     |\n",
       "|2020-05-25|Mississippi                        |Arkansas  |5093|70    |2     |\n",
       "|2020-05-11|Mississippi                        |Arkansas  |5093|52    |0     |\n",
       "|2020-05-08|Washington                         |Arkansas  |5143|105   |3     |\n",
       "|2020-04-25|Izard                              |Arkansas  |5065|3     |0     |\n",
       "|2020-05-18|Fulton                             |Arkansas  |5049|4     |0     |\n",
       "|2020-05-25|White                              |Arkansas  |5145|40    |1     |\n",
       "|2020-05-09|Desha                              |Arkansas  |5041|16    |0     |\n",
       "|2020-05-02|Franklin                           |Arkansas  |5047|2     |0     |\n",
       "|2020-05-16|Fulton                             |Arkansas  |5049|3     |0     |\n",
       "|2020-05-26|Lawrence                           |Arkansas  |5075|82    |5     |\n",
       "|2020-05-03|Miller                             |Arkansas  |5091|35    |1     |\n",
       "|2020-05-16|Yell                               |Arkansas  |5149|13    |1     |\n",
       "|2020-05-22|Pike                               |Arkansas  |5109|4     |0     |\n",
       "|2020-03-31|White                              |Arkansas  |5145|11    |0     |\n",
       "|2020-03-26|Lawrence                           |Arkansas  |5075|2     |0     |\n",
       "|2020-04-14|Crittenden                         |Arkansas  |5035|116   |2     |\n",
       "|2020-03-27|Union                              |Arkansas  |5139|2     |0     |\n",
       "|2020-04-23|Jefferson                          |Arkansas  |5069|142   |7     |\n",
       "|2020-04-17|Lee                                |Arkansas  |5077|3     |1     |\n",
       "|2020-04-08|Sebastian                          |Arkansas  |5131|9     |0     |\n",
       "|2020-04-02|Baxter                             |Arkansas  |5005|3     |0     |\n",
       "|2020-04-09|Garland                            |Arkansas  |5051|66    |0     |\n",
       "|2020-04-08|Phillips                           |Arkansas  |5107|1     |0     |\n",
       "|2020-04-11|Hempstead                          |Arkansas  |5057|4     |1     |\n",
       "|2021-02-25|Greene                             |Arkansas  |5055|5800  |75    |\n",
       "|2020-03-22|Sevier                             |Arkansas  |5133|1     |0     |\n",
       "|2020-03-22|Van Buren                          |Arkansas  |5141|1     |0     |\n",
       "|2021-02-25|Mississippi                        |Arkansas  |5093|5549  |112   |\n",
       "|2020-11-06|Trinity                            |California|6105|42    |0     |\n",
       "|2020-11-20|Trinity                            |California|6105|98    |0     |\n",
       "|2020-12-01|Amador                             |California|6005|558   |16    |\n",
       "|2021-01-24|Ventura                            |California|6111|65581 |507   |\n",
       "|2021-02-22|Inyo                               |California|6027|1232  |34    |\n",
       "|2021-01-06|Tulare                             |California|6107|35890 |433   |\n",
       "|2020-11-20|Mariposa                           |California|6043|94    |2     |\n",
       "|2020-12-23|Imperial                           |California|6025|21128 |401   |\n",
       "|2020-10-23|Orange                             |California|6059|59868 |1440  |\n",
       "|2021-01-25|San Joaquin                        |California|6077|59665 |835   |\n",
       "|2020-11-11|Placer                             |California|6061|4993  |60    |\n",
       "|2021-02-17|Nevada                             |California|6057|3813  |74    |\n",
       "|2020-10-04|Tuolumne                           |California|6109|230   |4     |\n",
       "|2021-02-09|El Dorado                          |California|6017|8627  |86    |\n",
       "|2020-12-11|Yolo                               |California|6113|5979  |89    |\n",
       "|2020-11-24|San Bernardino                     |California|6071|87542 |1129  |\n",
       "|2021-02-24|Tulare                             |California|6107|47730 |739   |\n",
       "|2021-01-24|Santa Barbara                      |California|6083|26820 |265   |\n",
       "|2021-01-10|Shasta                             |California|6089|8917  |99    |\n",
       "|2020-10-08|Lake                               |California|6033|599   |12    |\n",
       "|2021-02-19|San Mateo                          |California|6081|38229 |481   |\n",
       "|2020-10-23|Sierra                             |California|6091|6     |0     |\n",
       "|2020-12-24|Plumas                             |California|6063|369   |0     |\n",
       "|2021-01-22|Fresno                             |California|6019|84137 |1020  |\n",
       "|2020-10-12|Del Norte                          |California|6015|170   |1     |\n",
       "|2020-11-18|Yuba                               |California|6115|1665  |10    |\n",
       "|2020-10-08|San Luis Obispo                    |California|6079|3815  |31    |\n",
       "|2020-12-30|Sonoma                             |California|6097|18872 |184   |\n",
       "|2021-01-01|Santa Cruz                         |California|6087|8909  |83    |\n",
       "|2020-10-08|Glenn                              |California|6021|615   |3     |\n",
       "|2020-11-13|Humboldt                           |California|6023|658   |10    |\n",
       "|2020-11-21|Kings                              |California|6031|10038 |86    |\n",
       "|2020-11-03|Lassen                             |California|6035|782   |1     |\n",
       "|2021-01-09|Mono                               |California|6051|951   |4     |\n",
       "|2020-10-21|Inyo                               |California|6027|218   |15    |\n",
       "|2021-02-11|Stanislaus                         |California|6099|53614 |888   |\n",
       "|2021-03-03|Santa Barbara                      |California|6083|32147 |420   |\n",
       "|2020-12-11|Ventura                            |California|6111|24276 |198   |\n",
       "|2021-01-06|Kings                              |California|6031|16889 |110   |\n",
       "|2020-12-02|Del Norte                          |California|6015|357   |1     |\n",
       "|2020-10-11|Nevada                             |California|6057|564   |8     |\n",
       "|2020-10-04|Plumas                             |California|6063|48    |0     |\n",
       "|2020-11-27|Monterey                           |California|6053|14750 |116   |\n",
       "|2021-01-30|El Dorado                          |California|6017|8231  |79    |\n",
       "|2021-01-11|Calaveras                          |California|6009|1449  |22    |\n",
       "|2020-10-16|Lassen                             |California|6035|752   |1     |\n",
       "|2020-09-30|Imperial                           |California|6025|11908 |319   |\n",
       "|2021-03-06|Butte                              |California|6007|11050 |169   |\n",
       "|2020-11-23|Kings                              |California|6031|10259 |87    |\n",
       "|2021-02-06|Alameda                            |California|6001|75758 |1037  |\n",
       "|2021-03-01|Alameda                            |California|6001|80798 |1242  |\n",
       "|2020-12-10|Sonoma                             |California|6097|14168 |162   |\n",
       "|2020-10-17|Orange                             |California|6059|58447 |1409  |\n",
       "|2020-11-18|Mendocino                          |California|6045|1318  |22    |\n",
       "|2021-01-29|Merced                             |California|6047|26230 |350   |\n",
       "|2020-10-26|Tehama                             |California|6103|880   |8     |\n",
       "|2020-10-25|Imperial                           |California|6025|12700 |335   |\n",
       "|2020-11-02|Plumas                             |California|6063|86    |0     |\n",
       "|2020-11-02|Santa Barbara                      |California|6083|9992  |129   |\n",
       "|2020-12-31|Mendocino                          |California|6045|2558  |26    |\n",
       "|2020-11-28|Contra Costa                       |California|6013|23895 |261   |\n",
       "|2020-10-15|Mariposa                           |California|6043|77    |2     |\n",
       "|2021-02-27|Lake                               |California|6033|3153  |41    |\n",
       "|2020-10-15|Butte                              |California|6007|2995  |50    |\n",
       "|2021-02-20|Alpine                             |California|6003|77    |0     |\n",
       "|2020-12-01|Yuba                               |California|6115|2221  |10    |\n",
       "|2020-10-08|Modoc                              |California|6049|27    |0     |\n",
       "|2020-11-30|Sacramento                         |California|6067|37883 |581   |\n",
       "|2020-12-10|Orange                             |California|6059|96948 |1640  |\n",
       "|2021-01-31|Sutter                             |California|6101|8264  |86    |\n",
       "|2020-12-03|Del Norte                          |California|6015|384   |1     |\n",
       "|2020-11-22|San Benito                         |California|6069|1741  |15    |\n",
       "|2021-01-15|Modoc                              |California|6049|273   |3     |\n",
       "|2021-02-28|San Mateo                          |California|6081|38998 |515   |\n",
       "|2021-02-23|Orange                             |California|6059|259857|3848  |\n",
       "|2021-02-19|Imperial                           |California|6025|26840 |583   |\n",
       "|2020-11-10|Sutter                             |California|6101|2089  |12    |\n",
       "|2020-12-17|Tehama                             |California|6103|2441  |31    |\n",
       "|2020-12-12|Tehama                             |California|6103|2232  |30    |\n",
       "|2020-09-12|San Francisco                      |California|6075|10266 |90    |\n",
       "|2020-12-25|Los Angeles                        |California|6037|677538|9299  |\n",
       "|2020-12-28|Fresno                             |California|6019|63811 |646   |\n",
       "|2020-12-17|San Luis Obispo                    |California|6079|8269  |56    |\n",
       "|2021-02-21|Amador                             |California|6005|3431  |39    |\n",
       "|2020-09-27|Alameda                            |California|6001|21210 |406   |\n",
       "|2020-12-21|Humboldt                           |California|6023|1500  |16    |\n",
       "|2020-09-25|Mendocino                          |California|6045|908   |18    |\n",
       "|2021-02-12|Marin                              |California|6041|12682 |182   |\n",
       "|2020-11-08|Tulare                             |California|6107|18312 |297   |\n",
       "|2021-02-17|Merced                             |California|6047|28306 |382   |\n",
       "|2020-09-16|San Mateo                          |California|6081|9264  |142   |\n",
       "|2020-09-21|Tehama                             |California|6103|509   |4     |\n",
       "|2021-01-30|Modoc                              |California|6049|297   |4     |\n",
       "|2020-09-17|Amador                             |California|6005|283   |16    |\n",
       "|2021-01-24|El Dorado                          |California|6017|7984  |59    |\n",
       "|2020-09-28|Yolo                               |California|6113|2815  |55    |\n",
       "|2020-09-28|Sonoma                             |California|6097|7412  |122   |\n",
       "|2020-08-30|Tehama                             |California|6103|417   |1     |\n",
       "|2020-09-20|Sacramento                         |California|6067|21296 |375   |\n",
       "|2020-09-27|Santa Clara                        |California|6085|21153 |313   |\n",
       "|2020-09-21|Trinity                            |California|6105|16    |0     |\n",
       "|2020-09-19|Monterey                           |California|6053|9467  |67    |\n",
       "|2020-09-28|Merced                             |California|6047|8939  |143   |\n",
       "|2020-09-15|Butte                              |California|6007|2642  |31    |\n",
       "|2020-09-05|San Bernardino                     |California|6071|49325 |765   |\n",
       "|2020-09-29|Sacramento                         |California|6067|22589 |416   |\n",
       "|2020-09-22|Colusa                             |California|6011|522   |6     |\n",
       "|2020-09-17|Ventura                            |California|6111|12073 |142   |\n",
       "|2020-09-04|Mendocino                          |California|6045|737   |17    |\n",
       "|2020-09-12|Fresno                             |California|6019|26917 |337   |\n",
       "|2020-09-14|Madera                             |California|6039|4226  |58    |\n",
       "|2020-09-24|Tehama                             |California|6103|533   |4     |\n",
       "|2020-09-18|Yolo                               |California|6113|2732  |53    |\n",
       "|2020-09-05|Lassen                             |California|6035|720   |0     |\n",
       "|2020-09-01|Sacramento                         |California|6067|18285 |296   |\n",
       "|2020-08-02|San Mateo                          |California|6081|5544  |119   |\n",
       "|2020-08-16|Shasta                             |California|6089|488   |10    |\n",
       "|2020-08-14|Santa Barbara                      |California|6083|7274  |77    |\n",
       "|2020-08-18|Merced                             |California|6047|7171  |95    |\n",
       "|2020-08-14|Tuolumne                           |California|6109|160   |2     |\n",
       "|2020-08-18|Santa Cruz                         |California|6087|1505  |7     |\n",
       "|2020-08-22|Merced                             |California|6047|7428  |99    |\n",
       "|2020-08-05|Shasta                             |California|6089|404   |9     |\n",
       "|2020-08-20|Kern                               |California|6029|27378 |229   |\n",
       "|2020-08-13|Tehama                             |California|6103|289   |1     |\n",
       "|2020-08-02|Butte                              |California|6007|976   |7     |\n",
       "|2020-08-02|Humboldt                           |California|6023|233   |4     |\n",
       "|2020-08-27|Yolo                               |California|6113|2287  |51    |\n",
       "|2020-08-11|San Mateo                          |California|6081|6431  |122   |\n",
       "|2020-07-17|Colusa                             |California|6011|173   |0     |\n",
       "|2020-07-17|Shasta                             |California|6089|227   |7     |\n",
       "|2020-07-21|San Diego                          |California|6073|24583 |487   |\n",
       "|2020-07-08|Napa                               |California|6055|460   |4     |\n",
       "|2020-07-04|Alameda                            |California|6001|6577  |140   |\n",
       "|2020-07-15|San Benito                         |California|6069|408   |2     |\n",
       "|2020-07-09|El Dorado                          |California|6017|292   |0     |\n",
       "|2020-08-25|Tuolumne                           |California|6109|179   |2     |\n",
       "|2020-06-30|Trinity                            |California|6105|3     |0     |\n",
       "|2020-08-25|San Luis Obispo                    |California|6079|2769  |21    |\n",
       "|2020-07-09|Solano                             |California|6095|1990  |27    |\n",
       "|2020-07-11|Sacramento                         |California|6067|5338  |81    |\n",
       "|2020-06-28|Mono                               |California|6051|40    |1     |\n",
       "|2020-07-08|San Mateo                          |California|6081|3743  |111   |\n",
       "|2020-07-04|Humboldt                           |California|6023|143   |4     |\n",
       "|2020-07-05|Inyo                               |California|6027|32    |1     |\n",
       "|2020-07-03|San Benito                         |California|6069|260   |2     |\n",
       "|2020-07-21|Merced                             |California|6047|2813  |22    |\n",
       "|2020-07-18|Fresno                             |California|6019|9954  |100   |\n",
       "|2020-07-11|Sierra                             |California|6091|1     |0     |\n",
       "|2020-07-15|Kings                              |California|6031|3108  |41    |\n",
       "|2020-06-24|San Diego                          |California|6073|11689 |347   |\n",
       "|2020-05-30|Yuba                               |California|6115|30    |1     |\n",
       "|2020-05-28|San Diego                          |California|6073|7163  |297   |\n",
       "|2020-06-05|Del Norte                          |California|6015|47    |0     |\n",
       "|2020-06-12|Monterey                           |California|6053|865   |11    |\n",
       "|2020-06-10|Mono                               |California|6051|37    |1     |\n",
       "|2020-05-30|Santa Barbara                      |California|6083|1656  |12    |\n",
       "|2020-06-29|Contra Costa                       |California|6013|2971  |76    |\n",
       "|2020-06-03|Solano                             |California|6095|564   |22    |\n",
       "|2020-05-29|San Luis Obispo                    |California|6079|269   |1     |\n",
       "|2020-06-15|Sonoma                             |California|6097|765   |4     |\n",
       "|2020-05-27|Lake                               |California|6033|19    |0     |\n",
       "|2020-05-30|Nevada                             |California|6057|41    |1     |\n",
       "|2020-05-11|Alameda                            |California|6001|2122  |75    |\n",
       "|2020-05-18|Alpine                             |California|6003|2     |0     |\n",
       "|2020-05-23|Alpine                             |California|6003|2     |0     |\n",
       "|2020-04-28|Madera                             |California|6039|45    |2     |\n",
       "|2020-05-10|Alpine                             |California|6003|2     |0     |\n",
       "|2020-04-27|Solano                             |California|6095|231   |4     |\n",
       "|2020-05-03|Tuolumne                           |California|6109|4     |0     |\n",
       "|2020-05-23|Inyo                               |California|6027|20    |1     |\n",
       "|2020-05-08|Tulare                             |California|6107|1013  |44    |\n",
       "|2020-05-23|Colusa                             |California|6011|5     |0     |\n",
       "|2020-05-21|Kern                               |California|6029|1654  |27    |\n",
       "|2020-05-08|Solano                             |California|6095|356   |7     |\n",
       "|2020-05-09|Napa                               |California|6055|79    |2     |\n",
       "|2020-05-14|Santa Barbara                      |California|6083|1382  |11    |\n",
       "|2020-04-30|Fresno                             |California|6019|564   |7     |\n",
       "|2020-05-16|Lake                               |California|6033|8     |0     |\n",
       "|2020-05-17|Santa Cruz                         |California|6087|154   |3     |\n",
       "|2020-05-23|Humboldt                           |California|6023|93    |2     |\n",
       "|2020-05-12|Shasta                             |California|6089|32    |4     |\n",
       "|2020-05-23|Sonoma                             |California|6097|482   |4     |\n",
       "|2020-05-23|San Benito                         |California|6069|69    |2     |\n",
       "|2020-04-29|San Bernardino                     |California|6071|1928  |89    |\n",
       "|2020-03-25|El Dorado                          |California|6017|3     |0     |\n",
       "|2020-04-23|Tehama                             |California|6103|1     |0     |\n",
       "|2020-04-11|Shasta                             |California|6089|24    |3     |\n",
       "|2020-04-17|San Luis Obispo                    |California|6079|127   |1     |\n",
       "|2020-04-06|Contra Costa                       |California|6013|417   |7     |\n",
       "|2020-04-14|Stanislaus                         |California|6099|163   |4     |\n",
       "|2020-03-26|Sacramento                         |California|6067|112   |5     |\n",
       "|2020-04-12|Shasta                             |California|6089|24    |3     |\n",
       "|2020-03-30|Tuolumne                           |California|6109|1     |0     |\n",
       "|2020-04-10|Ventura                            |California|6111|298   |10    |\n",
       "|2020-04-07|Contra Costa                       |California|6013|442   |7     |\n",
       "|2020-04-13|Nevada                             |California|6057|34    |1     |\n",
       "|2020-04-23|Nevada                             |California|6057|36    |1     |\n",
       "|2020-04-20|Nevada                             |California|6057|38    |1     |\n",
       "|2020-04-13|Napa                               |California|6055|35    |2     |\n",
       "|2020-03-31|Santa Clara                        |California|6085|890   |31    |\n",
       "|2020-04-20|Sutter                             |California|6101|26    |2     |\n",
       "|2020-04-10|Yolo                               |California|6113|75    |3     |\n",
       "|2020-03-16|Placer                             |California|6061|8     |1     |\n",
       "|2021-02-25|Stanislaus                         |California|6099|55775 |944   |\n",
       "|2020-03-21|Santa Barbara                      |California|6083|17    |0     |\n",
       "|2020-08-25|Modoc                              |California|6049|5     |0     |\n",
       "|2020-08-25|Kern                               |California|6029|28520 |251   |\n",
       "|2020-02-12|Santa Clara                        |California|6085|2     |0     |\n",
       "|2020-12-16|Baca                               |Colorado  |8009|159   |0     |\n",
       "|2020-11-03|Hinsdale                           |Colorado  |8053|4     |0     |\n",
       "|2020-12-14|Ouray                              |Colorado  |8091|137   |3     |\n",
       "|2020-11-02|Montezuma                          |Colorado  |8083|234   |5     |\n",
       "|2020-12-16|Adams                              |Colorado  |8001|36306 |443   |\n",
       "|2020-11-10|Larimer                            |Colorado  |8069|5762  |63    |\n",
       "|2021-02-10|Montrose                           |Colorado  |8085|3107  |50    |\n",
       "|2020-11-05|Grand                              |Colorado  |8049|165   |1     |\n",
       "|2020-11-02|Moffat                             |Colorado  |8081|78    |1     |\n",
       "|2020-11-11|Douglas                            |Colorado  |8035|6080  |77    |\n",
       "|2020-12-05|Pitkin                             |Colorado  |8097|579   |2     |\n",
       "|2020-11-08|Grand                              |Colorado  |8049|174   |1     |\n",
       "|2020-11-29|Rio Grande                         |Colorado  |8105|232   |4     |\n",
       "|2020-11-04|Jefferson                          |Colorado  |8059|10298 |334   |\n",
       "|2020-11-09|Las Animas                         |Colorado  |8071|97    |0     |\n",
       "|2020-11-29|Ouray                              |Colorado  |8091|117   |2     |\n",
       "|2020-11-01|Las Animas                         |Colorado  |8071|85    |1     |\n",
       "|2020-11-10|Denver                             |Colorado  |8031|24541 |481   |\n",
       "|2020-11-09|Yuma                               |Colorado  |8125|252   |1     |\n",
       "|2020-11-08|Ouray                              |Colorado  |8091|52    |2     |\n",
       "|2020-12-07|Conejos                            |Colorado  |8021|220   |3     |\n",
       "|2020-11-23|Las Animas                         |Colorado  |8071|164   |0     |\n",
       "|2020-10-05|San Miguel                         |Colorado  |8113|95    |0     |\n",
       "|2020-10-13|Kit Carson                         |Colorado  |8063|98    |3     |\n",
       "|2020-10-04|Conejos                            |Colorado  |8021|37    |0     |\n",
       "|2020-10-13|Pitkin                             |Colorado  |8097|248   |2     |\n",
       "|2020-10-01|Huerfano                           |Colorado  |8055|24    |1     |\n",
       "|2020-11-22|Arapahoe                           |Colorado  |8005|23795 |429   |\n",
       "|2020-10-20|Arapahoe                           |Colorado  |8005|11484 |392   |\n",
       "|2020-10-06|Denver                             |Colorado  |8031|14036 |447   |\n",
       "|2020-10-08|Pitkin                             |Colorado  |8097|234   |2     |\n",
       "|2020-10-22|Elbert                             |Colorado  |8039|191   |3     |\n",
       "|2020-10-20|Fremont                            |Colorado  |8043|536   |1     |\n",
       "|2020-12-09|Moffat                             |Colorado  |8081|384   |13    |\n",
       "|2020-10-18|Mineral                            |Colorado  |8079|21    |0     |\n",
       "|2020-12-03|Kit Carson                         |Colorado  |8063|324   |8     |\n",
       "|2020-10-14|Conejos                            |Colorado  |8021|44    |0     |\n",
       "|2020-10-03|Park                               |Colorado  |8093|59    |1     |\n",
       "|2020-10-16|Huerfano                           |Colorado  |8055|28    |2     |\n",
       "|2020-11-12|Pitkin                             |Colorado  |8097|349   |2     |\n",
       "|2020-12-09|Broomfield                         |Colorado  |8014|2351  |54    |\n",
       "|2020-09-30|Crowley                            |Colorado  |8025|74    |1     |\n",
       "|2021-03-05|Rio Blanco                         |Colorado  |8103|482   |3     |\n",
       "|2020-09-30|Archuleta                          |Colorado  |8007|54    |0     |\n",
       "|2020-10-18|Alamosa                            |Colorado  |8003|284   |9     |\n",
       "|2020-09-16|Las Animas                         |Colorado  |8071|21    |0     |\n",
       "|2020-09-06|Gunnison                           |Colorado  |8051|296   |7     |\n",
       "|2020-09-02|Gilpin                             |Colorado  |8047|18    |0     |\n",
       "|2020-09-09|Washington                         |Colorado  |8121|54    |0     |\n",
       "|2020-09-15|Dolores                            |Colorado  |8033|3     |0     |\n",
       "|2020-09-17|Chaffee                            |Colorado  |8015|319   |19    |\n",
       "|2020-09-21|Rio Blanco                         |Colorado  |8103|25    |0     |\n",
       "|2020-09-13|San Juan                           |Colorado  |8111|6     |0     |\n",
       "|2020-11-19|Clear Creek                        |Colorado  |8019|157   |1     |\n",
       "|2020-09-07|Mineral                            |Colorado  |8079|19    |0     |\n",
       "|2021-02-10|Mineral                            |Colorado  |8079|61    |1     |\n",
       "|2020-09-19|Rio Blanco                         |Colorado  |8103|24    |0     |\n",
       "|2020-09-25|Custer                             |Colorado  |8027|17    |0     |\n",
       "|2021-02-16|Dolores                            |Colorado  |8033|65    |0     |\n",
       "|2021-02-24|Dolores                            |Colorado  |8033|68    |0     |\n",
       "|2020-09-07|Weld                               |Colorado  |8123|4198  |148   |\n",
       "|2020-10-02|Rio Grande                         |Colorado  |8105|96    |2     |\n",
       "|2021-03-09|Gunnison                           |Colorado  |8051|1214  |6     |\n",
       "|2021-01-01|Delta                              |Colorado  |8029|1610  |25    |\n",
       "|2021-01-10|El Paso                            |Colorado  |8041|44263 |630   |\n",
       "|2020-09-10|Garfield                           |Colorado  |8045|879   |4     |\n",
       "|2021-02-01|Grand                              |Colorado  |8049|975   |5     |\n",
       "|2020-09-20|Las Animas                         |Colorado  |8071|21    |0     |\n",
       "|2020-09-06|Garfield                           |Colorado  |8045|868   |4     |\n",
       "|2020-09-13|Clear Creek                        |Colorado  |8019|36    |1     |\n",
       "|2020-09-14|El Paso                            |Colorado  |8041|6444  |162   |\n",
       "|2021-01-29|Phillips                           |Colorado  |8095|325   |11    |\n",
       "|2021-01-21|Gilpin                             |Colorado  |8047|140   |2     |\n",
       "|2020-09-10|Lake                               |Colorado  |8065|84    |0     |\n",
       "|2021-01-16|Fremont                            |Colorado  |8043|4979  |33    |\n",
       "|2020-09-15|Clear Creek                        |Colorado  |8019|36    |1     |\n",
       "|2020-09-17|Teller                             |Colorado  |8119|170   |4     |\n",
       "|2021-03-06|Boulder                            |Colorado  |8013|19246 |248   |\n",
       "|2020-12-29|Park                               |Colorado  |8093|379   |4     |\n",
       "|2021-01-14|Fremont                            |Colorado  |8043|4955  |31    |\n",
       "|2021-02-14|Denver                             |Colorado  |8031|57888 |752   |\n",
       "|2021-01-11|Summit                             |Colorado  |8117|2295  |5     |\n",
       "|2020-07-31|Huerfano                           |Colorado  |8055|6     |1     |\n",
       "|2021-01-09|Huerfano                           |Colorado  |8055|283   |17    |\n",
       "|2021-01-19|Ouray                              |Colorado  |8091|179   |3     |\n",
       "|2021-03-01|Jefferson                          |Colorado  |8059|37323 |720   |\n",
       "|2021-01-09|Hinsdale                           |Colorado  |8053|15    |0     |\n",
       "|2020-10-10|Douglas                            |Colorado  |8035|3110  |63    |\n",
       "|2020-08-05|Washington                         |Colorado  |8121|47    |0     |\n",
       "|2021-02-03|Eagle                              |Colorado  |8037|4479  |17    |\n",
       "|2020-08-10|Mesa                               |Colorado  |8077|316   |4     |\n",
       "|2020-08-01|Park                               |Colorado  |8093|41    |1     |\n",
       "|2020-08-10|Larimer                            |Colorado  |8069|1575  |35    |\n",
       "|2021-02-07|Arapahoe                           |Colorado  |8005|46911 |668   |\n",
       "|2020-08-14|Denver                             |Colorado  |8031|10471 |420   |\n",
       "|2021-01-11|San Miguel                         |Colorado  |8113|433   |0     |\n",
       "|2020-08-13|Rio Grande                         |Colorado  |8105|91    |2     |\n",
       "|2020-12-28|Gilpin                             |Colorado  |8047|121   |1     |\n",
       "|2020-08-26|Pueblo                             |Colorado  |8101|821   |34    |\n",
       "|2021-01-26|Elbert                             |Colorado  |8039|1123  |12    |\n",
       "|2021-01-10|Alamosa                            |Colorado  |8003|1006  |25    |\n",
       "|2020-08-23|Lake                               |Colorado  |8065|80    |0     |\n",
       "|2020-08-02|Broomfield                         |Colorado  |8014|415   |32    |\n",
       "|2021-01-19|Gilpin                             |Colorado  |8047|140   |2     |\n",
       "|2021-01-20|Denver                             |Colorado  |8031|53777 |725   |\n",
       "|2021-02-17|Kiowa                              |Colorado  |8061|91    |3     |\n",
       "|2021-02-07|El Paso                            |Colorado  |8041|48851 |716   |\n",
       "|2020-07-31|Ouray                              |Colorado  |8091|12    |1     |\n",
       "|2020-08-24|Eagle                              |Colorado  |8037|1166  |10    |\n",
       "|2021-02-02|Morgan                             |Colorado  |8087|2367  |89    |\n",
       "|2021-02-10|Lake                               |Colorado  |8065|610   |0     |\n",
       "|2020-07-31|Custer                             |Colorado  |8027|10    |0     |\n",
       "|2021-03-05|Archuleta                          |Colorado  |8007|674   |1     |\n",
       "|2021-02-23|Douglas                            |Colorado  |8035|21405 |230   |\n",
       "|2021-03-01|San Juan                           |Colorado  |8111|42    |0     |\n",
       "|2020-08-12|Hinsdale                           |Colorado  |8053|3     |0     |\n",
       "|2020-12-15|Routt                              |Colorado  |8107|905   |16    |\n",
       "|2020-08-14|San Miguel                         |Colorado  |8113|92    |0     |\n",
       "|2020-12-22|Routt                              |Colorado  |8107|964   |18    |\n",
       "|2021-01-04|Denver                             |Colorado  |8031|48605 |681   |\n",
       "|2021-01-22|Huerfano                           |Colorado  |8055|287   |17    |\n",
       "|2020-08-16|Moffat                             |Colorado  |8081|32    |1     |\n",
       "|2021-03-07|Prowers                            |Colorado  |8099|1162  |21    |\n",
       "|2021-02-06|Crowley                            |Colorado  |8025|1885  |14    |\n",
       "|2020-07-24|Sedgwick                           |Colorado  |8115|11    |0     |\n",
       "|2020-12-18|El Paso                            |Colorado  |8041|37504 |479   |\n",
       "|2020-07-26|Gilpin                             |Colorado  |8047|13    |0     |\n",
       "|2020-07-19|Chaffee                            |Colorado  |8015|210   |19    |\n",
       "|2020-07-06|La Plata                           |Colorado  |8067|122   |1     |\n",
       "|2020-07-28|Grand                              |Colorado  |8049|40    |1     |\n",
       "|2021-01-27|Baca                               |Colorado  |8009|264   |3     |\n",
       "|2020-07-28|Denver                             |Colorado  |8031|9387  |407   |\n",
       "|2021-02-16|Rio Blanco                         |Colorado  |8103|440   |3     |\n",
       "|2020-12-15|Kit Carson                         |Colorado  |8063|397   |8     |\n",
       "|2021-03-09|Las Animas                         |Colorado  |8071|1008  |11    |\n",
       "|2020-12-20|Rio Blanco                         |Colorado  |8103|252   |2     |\n",
       "|2020-07-25|Prowers                            |Colorado  |8099|45    |0     |\n",
       "|2020-07-20|Eagle                              |Colorado  |8037|850   |9     |\n",
       "|2020-07-11|Douglas                            |Colorado  |8035|1134  |52    |\n",
       "|2021-02-04|Kiowa                              |Colorado  |8061|89    |3     |\n",
       "|2021-01-05|Jefferson                          |Colorado  |8059|30649 |634   |\n",
       "|2021-01-13|Weld                               |Colorado  |8123|22043 |299   |\n",
       "|2020-07-12|Phillips                           |Colorado  |8095|16    |0     |\n",
       "|2021-02-05|Sedgwick                           |Colorado  |8115|190   |2     |\n",
       "|2020-07-22|Arapahoe                           |Colorado  |8005|6197  |352   |\n",
       "|2020-12-21|La Plata                           |Colorado  |8067|2090  |23    |\n",
       "|2020-07-05|Eagle                              |Colorado  |8037|705   |8     |\n",
       "|2020-07-27|Larimer                            |Colorado  |8069|1261  |32    |\n",
       "|2020-12-23|Crowley                            |Colorado  |8025|1585  |12    |\n",
       "|2020-11-18|Hinsdale                           |Colorado  |8053|6     |0     |\n",
       "|2020-07-25|Broomfield                         |Colorado  |8014|378   |32    |\n",
       "|2021-03-10|Phillips                           |Colorado  |8095|344   |13    |\n",
       "|2021-01-27|Phillips                           |Colorado  |8095|323   |11    |\n",
       "|2020-12-24|Rio Grande                         |Colorado  |8105|370   |5     |\n",
       "|2020-07-27|San Juan                           |Colorado  |8111|2     |0     |\n",
       "|2021-03-08|Delta                              |Colorado  |8029|2485  |60    |\n",
       "|2020-12-12|Garfield                           |Colorado  |8045|2951  |17    |\n",
       "|2021-02-14|Costilla                           |Colorado  |8023|173   |2     |\n",
       "|2020-07-22|Broomfield                         |Colorado  |8014|371   |32    |\n",
       "|2020-11-07|Yuma                               |Colorado  |8125|246   |1     |\n",
       "|2020-11-19|Mesa                               |Colorado  |8077|4354  |48    |\n",
       "|2020-07-23|Moffat                             |Colorado  |8081|20    |1     |\n",
       "|2020-07-14|Eagle                              |Colorado  |8037|783   |8     |\n",
       "|2020-07-14|Lincoln                            |Colorado  |8073|4     |0     |\n",
       "|2020-11-09|Kiowa                              |Colorado  |8061|9     |0     |\n",
       "|2020-07-22|Delta                              |Colorado  |8029|92    |1     |\n",
       "+----------+-----------------------------------+----------+----+------+------+"
      ]
     },
     "execution_count": 143,
     "metadata": {},
     "output_type": "execute_result"
    }
   ],
   "source": [
    "spark.sql(\n",
    "    \"\"\"\n",
    "        SELECT *\n",
    "        FROM default.covid_nyt_streaming_updates_target\n",
    "        ORDER BY date desc\n",
    "    \"\"\"\n",
    ")"
   ]
  },
  {
   "cell_type": "code",
   "execution_count": 148,
   "id": "1503501e-2102-4bc2-8224-beb30fdd9b06",
   "metadata": {},
   "outputs": [
    {
     "data": {
      "text/html": [
       "<table border='1'>\n",
       "<tr><th>version</th><th>timestamp</th><th>userId</th><th>userName</th><th>operation</th><th>operationParameters</th><th>job</th><th>notebook</th><th>clusterId</th><th>readVersion</th><th>isolationLevel</th><th>isBlindAppend</th><th>operationMetrics</th><th>userMetadata</th><th>engineInfo</th></tr>\n",
       "<tr><td>0</td><td>2025-05-06 16:32:05.578</td><td>NULL</td><td>NULL</td><td>CREATE OR REPLACE TABLE AS SELECT</td><td>{partitionBy -&gt; [], clusterBy -&gt; [], description -&gt; NULL, isManaged -&gt; true, properties -&gt; {}}</td><td>NULL</td><td>NULL</td><td>NULL</td><td>NULL</td><td>Serializable</td><td>false</td><td>{numFiles -&gt; 1, numOutputRows -&gt; 11197, numOutputBytes -&gt; 135399}</td><td>NULL</td><td>Apache-Spark/3.5.4 Delta-Lake/3.2.0</td></tr>\n",
       "</table>\n"
      ],
      "text/plain": [
       "+-------+-----------------------+------+--------+---------------------------------+----------------------------------------------------------------------------------------------+----+--------+---------+-----------+--------------+-------------+-----------------------------------------------------------------+------------+-----------------------------------+\n",
       "|version|timestamp              |userId|userName|operation                        |operationParameters                                                                           |job |notebook|clusterId|readVersion|isolationLevel|isBlindAppend|operationMetrics                                                 |userMetadata|engineInfo                         |\n",
       "+-------+-----------------------+------+--------+---------------------------------+----------------------------------------------------------------------------------------------+----+--------+---------+-----------+--------------+-------------+-----------------------------------------------------------------+------------+-----------------------------------+\n",
       "|0      |2025-05-06 16:32:05.578|NULL  |NULL    |CREATE OR REPLACE TABLE AS SELECT|{partitionBy -> [], clusterBy -> [], description -> NULL, isManaged -> true, properties -> {}}|NULL|NULL    |NULL     |NULL       |Serializable  |false        |{numFiles -> 1, numOutputRows -> 11197, numOutputBytes -> 135399}|NULL        |Apache-Spark/3.5.4 Delta-Lake/3.2.0|\n",
       "+-------+-----------------------+------+--------+---------------------------------+----------------------------------------------------------------------------------------------+----+--------+---------+-----------+--------------+-------------+-----------------------------------------------------------------+------------+-----------------------------------+"
      ]
     },
     "execution_count": 148,
     "metadata": {},
     "output_type": "execute_result"
    }
   ],
   "source": [
    "spark.sql(\n",
    "    \"\"\"\n",
    "        DESCRIBE HISTORY default.covid_nyt_streaming_updates_target\n",
    "    \"\"\"\n",
    ")"
   ]
  },
  {
   "cell_type": "code",
   "execution_count": 144,
   "id": "02007ff3-5266-4d3d-8f67-26cadb1dda3c",
   "metadata": {
    "scrolled": true
   },
   "outputs": [
    {
     "data": {
      "text/html": [
       "<table border='1'>\n",
       "<tr><th>date</th><th>county</th><th>state</th><th>fips</th><th>cases</th><th>deaths</th></tr>\n",
       "<tr><td>2025-05-06</td><td>Autauga</td><td>Alabama</td><td>1001</td><td>25</td><td>1</td></tr>\n",
       "<tr><td>2025-05-06</td><td>Baldwin</td><td>Alabama</td><td>1003</td><td>98</td><td>2</td></tr>\n",
       "<tr><td>2025-05-06</td><td>Barbour</td><td>Alabama</td><td>1005</td><td>13</td><td>0</td></tr>\n",
       "<tr><td>2025-05-06</td><td>Bibb</td><td>Alabama</td><td>1007</td><td>19</td><td>0</td></tr>\n",
       "<tr><td>2025-05-06</td><td>Blount</td><td>Alabama</td><td>1009</td><td>17</td><td>0</td></tr>\n",
       "<tr><td>2025-05-06</td><td>Bullock</td><td>Alabama</td><td>1011</td><td>8</td><td>0</td></tr>\n",
       "<tr><td>2025-05-06</td><td>Butler</td><td>Alabama</td><td>1013</td><td>11</td><td>0</td></tr>\n",
       "<tr><td>2025-05-06</td><td>Calhoun</td><td>Alabama</td><td>1015</td><td>62</td><td>0</td></tr>\n",
       "<tr><td>2025-05-06</td><td>Chambers</td><td>Alabama</td><td>1017</td><td>227</td><td>10</td></tr>\n",
       "<tr><td>2025-05-06</td><td>Cherokee</td><td>Alabama</td><td>1019</td><td>10</td><td>0</td></tr>\n",
       "<tr><td>2025-05-06</td><td>Chilton</td><td>Alabama</td><td>1021</td><td>37</td><td>0</td></tr>\n",
       "<tr><td>2025-05-06</td><td>Choctaw</td><td>Alabama</td><td>1023</td><td>13</td><td>0</td></tr>\n",
       "<tr><td>2025-05-06</td><td>Clarke</td><td>Alabama</td><td>1025</td><td>22</td><td>0</td></tr>\n",
       "<tr><td>2025-05-06</td><td>Clay</td><td>Alabama</td><td>1027</td><td>14</td><td>0</td></tr>\n",
       "<tr><td>2025-05-06</td><td>Cleburne</td><td>Alabama</td><td>1029</td><td>12</td><td>0</td></tr>\n",
       "<tr><td>2025-05-06</td><td>Coffee</td><td>Alabama</td><td>1031</td><td>43</td><td>0</td></tr>\n",
       "<tr><td>2025-05-06</td><td>Colbert</td><td>Alabama</td><td>1033</td><td>11</td><td>1</td></tr>\n",
       "<tr><td>2025-05-06</td><td>Conecuh</td><td>Alabama</td><td>1035</td><td>6</td><td>0</td></tr>\n",
       "<tr><td>2025-05-06</td><td>Coosa</td><td>Alabama</td><td>1037</td><td>20</td><td>1</td></tr>\n",
       "<tr><td>2025-05-06</td><td>Covington</td><td>Alabama</td><td>1039</td><td>18</td><td>0</td></tr>\n",
       "<tr><td>2025-05-06</td><td>Crenshaw</td><td>Alabama</td><td>1041</td><td>4</td><td>0</td></tr>\n",
       "<tr><td>2025-05-06</td><td>Cullman</td><td>Alabama</td><td>1043</td><td>40</td><td>1</td></tr>\n",
       "<tr><td>2025-05-06</td><td>Dale</td><td>Alabama</td><td>1045</td><td>13</td><td>0</td></tr>\n",
       "<tr><td>2025-05-06</td><td>Dallas</td><td>Alabama</td><td>1047</td><td>22</td><td>2</td></tr>\n",
       "<tr><td>2025-05-06</td><td>DeKalb</td><td>Alabama</td><td>1049</td><td>31</td><td>0</td></tr>\n",
       "<tr><td>2025-05-06</td><td>Elmore</td><td>Alabama</td><td>1051</td><td>49</td><td>0</td></tr>\n",
       "<tr><td>2025-05-06</td><td>Escambia</td><td>Alabama</td><td>1053</td><td>11</td><td>0</td></tr>\n",
       "<tr><td>2025-05-06</td><td>Etowah</td><td>Alabama</td><td>1055</td><td>84</td><td>8</td></tr>\n",
       "<tr><td>2025-05-06</td><td>Fayette</td><td>Alabama</td><td>1057</td><td>4</td><td>0</td></tr>\n",
       "<tr><td>2025-05-06</td><td>Franklin</td><td>Alabama</td><td>1059</td><td>17</td><td>1</td></tr>\n",
       "<tr><td>2025-05-06</td><td>Geneva</td><td>Alabama</td><td>1061</td><td>2</td><td>0</td></tr>\n",
       "<tr><td>2025-05-06</td><td>Greene</td><td>Alabama</td><td>1063</td><td>19</td><td>0</td></tr>\n",
       "<tr><td>2025-05-06</td><td>Hale</td><td>Alabama</td><td>1065</td><td>20</td><td>0</td></tr>\n",
       "<tr><td>2025-05-06</td><td>Henry</td><td>Alabama</td><td>1067</td><td>15</td><td>0</td></tr>\n",
       "<tr><td>2025-05-06</td><td>Houston</td><td>Alabama</td><td>1069</td><td>55</td><td>3</td></tr>\n",
       "<tr><td>2025-05-06</td><td>Jackson</td><td>Alabama</td><td>1071</td><td>31</td><td>2</td></tr>\n",
       "<tr><td>2025-05-06</td><td>Jefferson</td><td>Alabama</td><td>1073</td><td>628</td><td>17</td></tr>\n",
       "<tr><td>2025-05-06</td><td>Lamar</td><td>Alabama</td><td>1075</td><td>7</td><td>0</td></tr>\n",
       "<tr><td>2025-05-06</td><td>Lauderdale</td><td>Alabama</td><td>1077</td><td>22</td><td>4</td></tr>\n",
       "<tr><td>2025-05-06</td><td>Lawrence</td><td>Alabama</td><td>1079</td><td>8</td><td>0</td></tr>\n",
       "<tr><td>2025-05-06</td><td>Lee</td><td>Alabama</td><td>1081</td><td>285</td><td>12</td></tr>\n",
       "<tr><td>2025-05-06</td><td>Limestone</td><td>Alabama</td><td>1083</td><td>38</td><td>0</td></tr>\n",
       "<tr><td>2025-05-06</td><td>Lowndes</td><td>Alabama</td><td>1085</td><td>23</td><td>0</td></tr>\n",
       "<tr><td>2025-05-06</td><td>Macon</td><td>Alabama</td><td>1087</td><td>19</td><td>2</td></tr>\n",
       "<tr><td>2025-05-06</td><td>Madison</td><td>Alabama</td><td>1089</td><td>194</td><td>4</td></tr>\n",
       "<tr><td>2025-05-06</td><td>Marengo</td><td>Alabama</td><td>1091</td><td>24</td><td>1</td></tr>\n",
       "<tr><td>2025-05-06</td><td>Marion</td><td>Alabama</td><td>1093</td><td>58</td><td>4</td></tr>\n",
       "<tr><td>2025-05-06</td><td>Marshall</td><td>Alabama</td><td>1095</td><td>109</td><td>2</td></tr>\n",
       "<tr><td>2025-05-06</td><td>Mobile</td><td>Alabama</td><td>1097</td><td>561</td><td>19</td></tr>\n",
       "<tr><td>2025-05-06</td><td>Monroe</td><td>Alabama</td><td>1099</td><td>7</td><td>1</td></tr>\n",
       "<tr><td>2025-05-06</td><td>Montgomery</td><td>Alabama</td><td>1101</td><td>189</td><td>5</td></tr>\n",
       "<tr><td>2025-05-06</td><td>Morgan</td><td>Alabama</td><td>1103</td><td>44</td><td>0</td></tr>\n",
       "<tr><td>2025-05-06</td><td>Perry</td><td>Alabama</td><td>1105</td><td>7</td><td>0</td></tr>\n",
       "<tr><td>2025-05-06</td><td>Pickens</td><td>Alabama</td><td>1107</td><td>30</td><td>0</td></tr>\n",
       "<tr><td>2025-05-06</td><td>Pike</td><td>Alabama</td><td>1109</td><td>27</td><td>0</td></tr>\n",
       "<tr><td>2025-05-06</td><td>Randolph</td><td>Alabama</td><td>1111</td><td>45</td><td>4</td></tr>\n",
       "<tr><td>2025-05-06</td><td>Russell</td><td>Alabama</td><td>1113</td><td>31</td><td>0</td></tr>\n",
       "<tr><td>2025-05-06</td><td>Shelby</td><td>Alabama</td><td>1117</td><td>241</td><td>7</td></tr>\n",
       "<tr><td>2025-05-06</td><td>St. Clair</td><td>Alabama</td><td>1115</td><td>49</td><td>0</td></tr>\n",
       "<tr><td>2025-05-06</td><td>Sumter</td><td>Alabama</td><td>1119</td><td>30</td><td>0</td></tr>\n",
       "<tr><td>2025-05-06</td><td>Talladega</td><td>Alabama</td><td>1121</td><td>40</td><td>1</td></tr>\n",
       "<tr><td>2025-05-06</td><td>Tallapoosa</td><td>Alabama</td><td>1123</td><td>149</td><td>7</td></tr>\n",
       "<tr><td>2025-05-06</td><td>Tuscaloosa</td><td>Alabama</td><td>1125</td><td>131</td><td>0</td></tr>\n",
       "<tr><td>2025-05-06</td><td>Walker</td><td>Alabama</td><td>1127</td><td>85</td><td>0</td></tr>\n",
       "<tr><td>2025-05-06</td><td>Washington</td><td>Alabama</td><td>1129</td><td>12</td><td>1</td></tr>\n",
       "<tr><td>2025-05-06</td><td>Wilcox</td><td>Alabama</td><td>1131</td><td>38</td><td>0</td></tr>\n",
       "<tr><td>2025-05-06</td><td>Winston</td><td>Alabama</td><td>1133</td><td>7</td><td>0</td></tr>\n",
       "<tr><td>2025-05-06</td><td>Colbert</td><td>Alabama</td><td>1033</td><td>11</td><td>1</td></tr>\n",
       "<tr><td>2025-05-06</td><td>Cullman</td><td>Alabama</td><td>1043</td><td>40</td><td>1</td></tr>\n",
       "<tr><td>2025-05-06</td><td>Hale</td><td>Alabama</td><td>1065</td><td>20</td><td>0</td></tr>\n",
       "<tr><td>2025-05-06</td><td>Lee</td><td>Alabama</td><td>1081</td><td>285</td><td>12</td></tr>\n",
       "<tr><td>2025-05-06</td><td>Perry</td><td>Alabama</td><td>1105</td><td>7</td><td>0</td></tr>\n",
       "<tr><td>2025-05-06</td><td>Pickens</td><td>Alabama</td><td>1107</td><td>30</td><td>0</td></tr>\n",
       "<tr><td>2025-05-06</td><td>Pike</td><td>Alabama</td><td>1109</td><td>27</td><td>0</td></tr>\n",
       "<tr><td>2025-05-06</td><td>Tallapoosa</td><td>Alabama</td><td>1123</td><td>149</td><td>7</td></tr>\n",
       "<tr><td>2025-05-06</td><td>Bibb</td><td>Alabama</td><td>1007</td><td>19</td><td>0</td></tr>\n",
       "<tr><td>2025-05-06</td><td>Crenshaw</td><td>Alabama</td><td>1041</td><td>4</td><td>0</td></tr>\n",
       "<tr><td>2025-05-06</td><td>Jefferson</td><td>Alabama</td><td>1073</td><td>628</td><td>17</td></tr>\n",
       "<tr><td>2025-05-06</td><td>St. Clair</td><td>Alabama</td><td>1115</td><td>49</td><td>0</td></tr>\n",
       "<tr><td>2025-05-06</td><td>Cleburne</td><td>Alabama</td><td>1029</td><td>12</td><td>0</td></tr>\n",
       "<tr><td>2025-05-06</td><td>Walker</td><td>Alabama</td><td>1127</td><td>85</td><td>0</td></tr>\n",
       "<tr><td>2025-05-06</td><td>Coffee</td><td>Alabama</td><td>1031</td><td>43</td><td>0</td></tr>\n",
       "<tr><td>2025-05-06</td><td>Coosa</td><td>Alabama</td><td>1037</td><td>20</td><td>1</td></tr>\n",
       "<tr><td>2025-05-06</td><td>Wilcox</td><td>Alabama</td><td>1131</td><td>38</td><td>0</td></tr>\n",
       "</table>\n"
      ],
      "text/plain": [
       "+----------+----------+-------+----+-----+------+\n",
       "|date      |county    |state  |fips|cases|deaths|\n",
       "+----------+----------+-------+----+-----+------+\n",
       "|2025-05-06|Autauga   |Alabama|1001|25   |1     |\n",
       "|2025-05-06|Baldwin   |Alabama|1003|98   |2     |\n",
       "|2025-05-06|Barbour   |Alabama|1005|13   |0     |\n",
       "|2025-05-06|Bibb      |Alabama|1007|19   |0     |\n",
       "|2025-05-06|Blount    |Alabama|1009|17   |0     |\n",
       "|2025-05-06|Bullock   |Alabama|1011|8    |0     |\n",
       "|2025-05-06|Butler    |Alabama|1013|11   |0     |\n",
       "|2025-05-06|Calhoun   |Alabama|1015|62   |0     |\n",
       "|2025-05-06|Chambers  |Alabama|1017|227  |10    |\n",
       "|2025-05-06|Cherokee  |Alabama|1019|10   |0     |\n",
       "|2025-05-06|Chilton   |Alabama|1021|37   |0     |\n",
       "|2025-05-06|Choctaw   |Alabama|1023|13   |0     |\n",
       "|2025-05-06|Clarke    |Alabama|1025|22   |0     |\n",
       "|2025-05-06|Clay      |Alabama|1027|14   |0     |\n",
       "|2025-05-06|Cleburne  |Alabama|1029|12   |0     |\n",
       "|2025-05-06|Coffee    |Alabama|1031|43   |0     |\n",
       "|2025-05-06|Colbert   |Alabama|1033|11   |1     |\n",
       "|2025-05-06|Conecuh   |Alabama|1035|6    |0     |\n",
       "|2025-05-06|Coosa     |Alabama|1037|20   |1     |\n",
       "|2025-05-06|Covington |Alabama|1039|18   |0     |\n",
       "|2025-05-06|Crenshaw  |Alabama|1041|4    |0     |\n",
       "|2025-05-06|Cullman   |Alabama|1043|40   |1     |\n",
       "|2025-05-06|Dale      |Alabama|1045|13   |0     |\n",
       "|2025-05-06|Dallas    |Alabama|1047|22   |2     |\n",
       "|2025-05-06|DeKalb    |Alabama|1049|31   |0     |\n",
       "|2025-05-06|Elmore    |Alabama|1051|49   |0     |\n",
       "|2025-05-06|Escambia  |Alabama|1053|11   |0     |\n",
       "|2025-05-06|Etowah    |Alabama|1055|84   |8     |\n",
       "|2025-05-06|Fayette   |Alabama|1057|4    |0     |\n",
       "|2025-05-06|Franklin  |Alabama|1059|17   |1     |\n",
       "|2025-05-06|Geneva    |Alabama|1061|2    |0     |\n",
       "|2025-05-06|Greene    |Alabama|1063|19   |0     |\n",
       "|2025-05-06|Hale      |Alabama|1065|20   |0     |\n",
       "|2025-05-06|Henry     |Alabama|1067|15   |0     |\n",
       "|2025-05-06|Houston   |Alabama|1069|55   |3     |\n",
       "|2025-05-06|Jackson   |Alabama|1071|31   |2     |\n",
       "|2025-05-06|Jefferson |Alabama|1073|628  |17    |\n",
       "|2025-05-06|Lamar     |Alabama|1075|7    |0     |\n",
       "|2025-05-06|Lauderdale|Alabama|1077|22   |4     |\n",
       "|2025-05-06|Lawrence  |Alabama|1079|8    |0     |\n",
       "|2025-05-06|Lee       |Alabama|1081|285  |12    |\n",
       "|2025-05-06|Limestone |Alabama|1083|38   |0     |\n",
       "|2025-05-06|Lowndes   |Alabama|1085|23   |0     |\n",
       "|2025-05-06|Macon     |Alabama|1087|19   |2     |\n",
       "|2025-05-06|Madison   |Alabama|1089|194  |4     |\n",
       "|2025-05-06|Marengo   |Alabama|1091|24   |1     |\n",
       "|2025-05-06|Marion    |Alabama|1093|58   |4     |\n",
       "|2025-05-06|Marshall  |Alabama|1095|109  |2     |\n",
       "|2025-05-06|Mobile    |Alabama|1097|561  |19    |\n",
       "|2025-05-06|Monroe    |Alabama|1099|7    |1     |\n",
       "|2025-05-06|Montgomery|Alabama|1101|189  |5     |\n",
       "|2025-05-06|Morgan    |Alabama|1103|44   |0     |\n",
       "|2025-05-06|Perry     |Alabama|1105|7    |0     |\n",
       "|2025-05-06|Pickens   |Alabama|1107|30   |0     |\n",
       "|2025-05-06|Pike      |Alabama|1109|27   |0     |\n",
       "|2025-05-06|Randolph  |Alabama|1111|45   |4     |\n",
       "|2025-05-06|Russell   |Alabama|1113|31   |0     |\n",
       "|2025-05-06|Shelby    |Alabama|1117|241  |7     |\n",
       "|2025-05-06|St. Clair |Alabama|1115|49   |0     |\n",
       "|2025-05-06|Sumter    |Alabama|1119|30   |0     |\n",
       "|2025-05-06|Talladega |Alabama|1121|40   |1     |\n",
       "|2025-05-06|Tallapoosa|Alabama|1123|149  |7     |\n",
       "|2025-05-06|Tuscaloosa|Alabama|1125|131  |0     |\n",
       "|2025-05-06|Walker    |Alabama|1127|85   |0     |\n",
       "|2025-05-06|Washington|Alabama|1129|12   |1     |\n",
       "|2025-05-06|Wilcox    |Alabama|1131|38   |0     |\n",
       "|2025-05-06|Winston   |Alabama|1133|7    |0     |\n",
       "|2025-05-06|Colbert   |Alabama|1033|11   |1     |\n",
       "|2025-05-06|Cullman   |Alabama|1043|40   |1     |\n",
       "|2025-05-06|Hale      |Alabama|1065|20   |0     |\n",
       "|2025-05-06|Lee       |Alabama|1081|285  |12    |\n",
       "|2025-05-06|Perry     |Alabama|1105|7    |0     |\n",
       "|2025-05-06|Pickens   |Alabama|1107|30   |0     |\n",
       "|2025-05-06|Pike      |Alabama|1109|27   |0     |\n",
       "|2025-05-06|Tallapoosa|Alabama|1123|149  |7     |\n",
       "|2025-05-06|Bibb      |Alabama|1007|19   |0     |\n",
       "|2025-05-06|Crenshaw  |Alabama|1041|4    |0     |\n",
       "|2025-05-06|Jefferson |Alabama|1073|628  |17    |\n",
       "|2025-05-06|St. Clair |Alabama|1115|49   |0     |\n",
       "|2025-05-06|Cleburne  |Alabama|1029|12   |0     |\n",
       "|2025-05-06|Walker    |Alabama|1127|85   |0     |\n",
       "|2025-05-06|Coffee    |Alabama|1031|43   |0     |\n",
       "|2025-05-06|Coosa     |Alabama|1037|20   |1     |\n",
       "|2025-05-06|Wilcox    |Alabama|1131|38   |0     |\n",
       "+----------+----------+-------+----+-----+------+"
      ]
     },
     "execution_count": 144,
     "metadata": {},
     "output_type": "execute_result"
    }
   ],
   "source": [
    "spark.sql(\"select * from default.covid_cdf_source_1\")"
   ]
  },
  {
   "cell_type": "code",
   "execution_count": 146,
   "id": "69f00552-8c6d-4fc9-8c24-d1611461e8f5",
   "metadata": {},
   "outputs": [
    {
     "data": {
      "text/html": [
       "<table border='1'>\n",
       "<tr><th>num_affected_rows</th></tr>\n",
       "<tr><td>1</td></tr>\n",
       "</table>\n"
      ],
      "text/plain": [
       "+-----------------+\n",
       "|num_affected_rows|\n",
       "+-----------------+\n",
       "|1                |\n",
       "+-----------------+"
      ]
     },
     "execution_count": 146,
     "metadata": {},
     "output_type": "execute_result"
    }
   ],
   "source": [
    "spark.sql(\n",
    "    \"\"\"\n",
    "        UPDATE default.covid_cdf_source_1\n",
    "        SET date=CAST('2025-05-05' AS DATE)\n",
    "        WHERE date = CAST('2025-05-06' AS DATE)\n",
    "        AND UPPER(state) = \"ALABAMA\"\n",
    "        AND UPPER(county) = \"CLAY\"\n",
    "    \"\"\"\n",
    ")"
   ]
  },
  {
   "cell_type": "markdown",
   "id": "21233207-8184-46eb-a581-933481765b1e",
   "metadata": {},
   "source": [
    "# Delta Live Tables (DLT)\n",
    "\n",
    "A syntactical example of DLT code base"
   ]
  },
  {
   "cell_type": "markdown",
   "id": "b85bb7bd-8d80-41b1-b83b-6606e7a62088",
   "metadata": {},
   "source": [
    "```\n",
    "import dlt\n",
    "\n",
    "@dlt.table\n",
    "def autoloader_dlt_bronze():\n",
    "    return (\n",
    "        spark\n",
    "        .readStream\n",
    "        .format(\"cloudFiles\")\n",
    "        .option(\"cloudFiles.format\", \"json\")\n",
    "        .load(\"<source data path>\")\n",
    "    )\n",
    "\n",
    "@dlt.table\n",
    "def delta_dlt_silver():\n",
    "    return (\n",
    "        spark\n",
    "        .read_stream(\"autoloader_dlt_bronze\")\n",
    "        # ...\n",
    "        # <transformation logic>\n",
    "    )\n",
    "\n",
    "@dlt.table\n",
    "def live_delta_gold():\n",
    "    return (\n",
    "        dlt\n",
    "        .read(\"delta_dlt_silver\")\n",
    "        # ...\n",
    "        # <transformation logic>\n",
    "    )\n",
    "\n",
    "```"
   ]
  },
  {
   "cell_type": "markdown",
   "id": "9626b328-634b-4553-b18e-9999b8507591",
   "metadata": {},
   "source": [
    "# Definig Change Data Feed (CDF) read boundaries in a batch process"
   ]
  },
  {
   "cell_type": "markdown",
   "id": "ddd9c545-475d-4b59-8456-43be245b9ab3",
   "metadata": {},
   "source": [
    "# Test Scenarios:\n",
    "**/ Use CDF table from Idempotent Fanout and Streaming Upsert tests /**\n",
    "`default.covid_cdf_source_1`\n",
    "1. CDF batch processing with start and end versions specified  \n",
    "    a. Observe the data\n",
    "2. CDF batch processing with start and end timestamps specified  \n",
    "    a. See history of Delta table to see any timestmaps that can be used as boudaries  \n",
    "    b. Observe the data\n",
    "4. CDF batch processing with only starting version and timestamps  \n",
    "    a. Observe the data\n",
    "5. CDF batch processing with with starting timestamp and file location  \n",
    "    a. Observe the data"
   ]
  },
  {
   "cell_type": "markdown",
   "id": "65240a8d-b866-4f83-ae2b-e67affcbff90",
   "metadata": {},
   "source": [
    "# Conclusion:\n",
    "1. CDF batch processing with start and end versions specified  \n",
    "   - Changes were transfered along with CDF metadata  \n",
    "   - insert/update_preimage/update_postimage  \n",
    "2. CDF batch processing with start and end timestamps specified  \n",
    "    - Approach 1 - start timestamp - 1 minute and end timestamp + 1 minute\n",
    "        - No metadata provided, only latest data is included in result\n",
    "    - Approach 2 - Both timestamp match Delta Log Commit Timestamps\n",
    "        - No metadata provided, only latest data is included in result\n",
    "        - Tried to force the CDF with new update. **DID NOT WORKED!**\n",
    "3. CDF batch processing with only starting version and timestamps\n",
    "    - Using `startingTimestamp`\n",
    "        - All change included in results initilly.\n",
    "        - *After update in name of DF python object the results broke and SQL errored with not existing `_commit_timestamp` column*\n",
    "    - Using `startingVersion`\n",
    "        - **DID NOT WORKED AT ALL! MISSING `_commit_timestamp` metadta CDF column** WTH?!?!?! 🤔\n",
    "4. CDF batch processing with with starting timestamp and file location\n",
    "    - Again missing `_commit_timestamp`. Error?!?!!? 🤔\n",
    "\n",
    "\n",
    "### TODO: Investigate if same issue will appear again!!!!"
   ]
  },
  {
   "cell_type": "code",
   "execution_count": 12,
   "id": "e02f7d5d-1067-47b0-9d77-cbc1df28b566",
   "metadata": {},
   "outputs": [],
   "source": [
    "# CDF batch processing with start and end versions specified\n",
    "cdf_batch_start_end_versions = (\n",
    "    spark\n",
    "    .read\n",
    "    .format(\"delta\")\n",
    "    .option(\"readChangeFeed\", \"true\")\n",
    "    .option(\"startingVersion\", 1)\n",
    "    .option(\"endingVersion\", 10)\n",
    "    .table(\"default.covid_cdf_source_1\")\n",
    ")"
   ]
  },
  {
   "cell_type": "code",
   "execution_count": 13,
   "id": "f820542c-008a-40ca-96c2-111e7c9f20dc",
   "metadata": {},
   "outputs": [],
   "source": [
    "cdf_batch_start_end_versions.createOrReplaceTempView(\n",
    "    \"cdf_batch_start_end_versions\"\n",
    ")"
   ]
  },
  {
   "cell_type": "code",
   "execution_count": 15,
   "id": "2240ebd6-3796-4e20-952f-c8c13b2ee9da",
   "metadata": {
    "scrolled": true
   },
   "outputs": [
    {
     "data": {
      "text/html": [
       "<table border='1'>\n",
       "<tr><th>date</th><th>county</th><th>state</th><th>fips</th><th>cases</th><th>deaths</th><th>_change_type</th><th>_commit_version</th><th>_commit_timestamp</th></tr>\n",
       "<tr><td>2020-04-15</td><td>Colbert</td><td>Alabama</td><td>1033</td><td>11</td><td>1</td><td>insert</td><td>2</td><td>2025-05-06 14:22:09.232</td></tr>\n",
       "<tr><td>2020-04-15</td><td>Cullman</td><td>Alabama</td><td>1043</td><td>40</td><td>1</td><td>insert</td><td>2</td><td>2025-05-06 14:22:09.232</td></tr>\n",
       "<tr><td>2020-04-15</td><td>Hale</td><td>Alabama</td><td>1065</td><td>20</td><td>0</td><td>insert</td><td>2</td><td>2025-05-06 14:22:09.232</td></tr>\n",
       "<tr><td>2020-04-15</td><td>Lee</td><td>Alabama</td><td>1081</td><td>285</td><td>12</td><td>insert</td><td>2</td><td>2025-05-06 14:22:09.232</td></tr>\n",
       "<tr><td>2020-04-15</td><td>Perry</td><td>Alabama</td><td>1105</td><td>7</td><td>0</td><td>insert</td><td>2</td><td>2025-05-06 14:22:09.232</td></tr>\n",
       "<tr><td>2020-04-15</td><td>Pickens</td><td>Alabama</td><td>1107</td><td>30</td><td>0</td><td>insert</td><td>2</td><td>2025-05-06 14:22:09.232</td></tr>\n",
       "<tr><td>2020-04-15</td><td>Pike</td><td>Alabama</td><td>1109</td><td>27</td><td>0</td><td>insert</td><td>2</td><td>2025-05-06 14:22:09.232</td></tr>\n",
       "<tr><td>2020-04-15</td><td>Tallapoosa</td><td>Alabama</td><td>1123</td><td>149</td><td>7</td><td>insert</td><td>2</td><td>2025-05-06 14:22:09.232</td></tr>\n",
       "<tr><td>2020-04-15</td><td>Coffee</td><td>Alabama</td><td>1031</td><td>43</td><td>0</td><td>insert</td><td>3</td><td>2025-05-06 14:22:09.981</td></tr>\n",
       "<tr><td>2020-04-15</td><td>Coosa</td><td>Alabama</td><td>1037</td><td>20</td><td>1</td><td>insert</td><td>3</td><td>2025-05-06 14:22:09.981</td></tr>\n",
       "<tr><td>2020-04-15</td><td>Cleburne</td><td>Alabama</td><td>1029</td><td>12</td><td>0</td><td>insert</td><td>4</td><td>2025-05-06 14:22:10.66</td></tr>\n",
       "<tr><td>2020-04-15</td><td>Walker</td><td>Alabama</td><td>1127</td><td>85</td><td>0</td><td>insert</td><td>4</td><td>2025-05-06 14:22:10.66</td></tr>\n",
       "<tr><td>2020-04-15</td><td>Wilcox</td><td>Alabama</td><td>1131</td><td>38</td><td>0</td><td>insert</td><td>5</td><td>2025-05-06 14:22:11.306</td></tr>\n",
       "<tr><td>2020-04-15</td><td>Bibb</td><td>Alabama</td><td>1007</td><td>19</td><td>0</td><td>insert</td><td>6</td><td>2025-05-06 14:22:11.91</td></tr>\n",
       "<tr><td>2020-04-15</td><td>Crenshaw</td><td>Alabama</td><td>1041</td><td>4</td><td>0</td><td>insert</td><td>6</td><td>2025-05-06 14:22:11.91</td></tr>\n",
       "<tr><td>2020-04-15</td><td>Jefferson</td><td>Alabama</td><td>1073</td><td>628</td><td>17</td><td>insert</td><td>6</td><td>2025-05-06 14:22:11.91</td></tr>\n",
       "<tr><td>2020-04-15</td><td>St. Clair</td><td>Alabama</td><td>1115</td><td>49</td><td>0</td><td>insert</td><td>6</td><td>2025-05-06 14:22:11.91</td></tr>\n",
       "<tr><td>2020-04-15</td><td>Autauga</td><td>Alabama</td><td>1001</td><td>25</td><td>1</td><td>update_preimage</td><td>7</td><td>2025-05-06 14:30:34.353</td></tr>\n",
       "<tr><td>2025-05-06</td><td>Autauga</td><td>Alabama</td><td>1001</td><td>25</td><td>1</td><td>update_postimage</td><td>7</td><td>2025-05-06 14:30:34.353</td></tr>\n",
       "<tr><td>2020-04-15</td><td>Baldwin</td><td>Alabama</td><td>1003</td><td>98</td><td>2</td><td>update_preimage</td><td>7</td><td>2025-05-06 14:30:34.353</td></tr>\n",
       "<tr><td>2025-05-06</td><td>Baldwin</td><td>Alabama</td><td>1003</td><td>98</td><td>2</td><td>update_postimage</td><td>7</td><td>2025-05-06 14:30:34.353</td></tr>\n",
       "<tr><td>2020-04-15</td><td>Barbour</td><td>Alabama</td><td>1005</td><td>13</td><td>0</td><td>update_preimage</td><td>7</td><td>2025-05-06 14:30:34.353</td></tr>\n",
       "<tr><td>2025-05-06</td><td>Barbour</td><td>Alabama</td><td>1005</td><td>13</td><td>0</td><td>update_postimage</td><td>7</td><td>2025-05-06 14:30:34.353</td></tr>\n",
       "<tr><td>2020-04-15</td><td>Bibb</td><td>Alabama</td><td>1007</td><td>19</td><td>0</td><td>update_preimage</td><td>7</td><td>2025-05-06 14:30:34.353</td></tr>\n",
       "<tr><td>2020-04-15</td><td>Bibb</td><td>Alabama</td><td>1007</td><td>19</td><td>0</td><td>update_preimage</td><td>7</td><td>2025-05-06 14:30:34.353</td></tr>\n",
       "<tr><td>2025-05-06</td><td>Bibb</td><td>Alabama</td><td>1007</td><td>19</td><td>0</td><td>update_postimage</td><td>7</td><td>2025-05-06 14:30:34.353</td></tr>\n",
       "<tr><td>2025-05-06</td><td>Bibb</td><td>Alabama</td><td>1007</td><td>19</td><td>0</td><td>update_postimage</td><td>7</td><td>2025-05-06 14:30:34.353</td></tr>\n",
       "<tr><td>2020-04-15</td><td>Blount</td><td>Alabama</td><td>1009</td><td>17</td><td>0</td><td>update_preimage</td><td>7</td><td>2025-05-06 14:30:34.353</td></tr>\n",
       "<tr><td>2025-05-06</td><td>Blount</td><td>Alabama</td><td>1009</td><td>17</td><td>0</td><td>update_postimage</td><td>7</td><td>2025-05-06 14:30:34.353</td></tr>\n",
       "<tr><td>2020-04-15</td><td>Bullock</td><td>Alabama</td><td>1011</td><td>8</td><td>0</td><td>update_preimage</td><td>7</td><td>2025-05-06 14:30:34.353</td></tr>\n",
       "<tr><td>2025-05-06</td><td>Bullock</td><td>Alabama</td><td>1011</td><td>8</td><td>0</td><td>update_postimage</td><td>7</td><td>2025-05-06 14:30:34.353</td></tr>\n",
       "<tr><td>2020-04-15</td><td>Butler</td><td>Alabama</td><td>1013</td><td>11</td><td>0</td><td>update_preimage</td><td>7</td><td>2025-05-06 14:30:34.353</td></tr>\n",
       "<tr><td>2025-05-06</td><td>Butler</td><td>Alabama</td><td>1013</td><td>11</td><td>0</td><td>update_postimage</td><td>7</td><td>2025-05-06 14:30:34.353</td></tr>\n",
       "<tr><td>2020-04-15</td><td>Calhoun</td><td>Alabama</td><td>1015</td><td>62</td><td>0</td><td>update_preimage</td><td>7</td><td>2025-05-06 14:30:34.353</td></tr>\n",
       "<tr><td>2025-05-06</td><td>Calhoun</td><td>Alabama</td><td>1015</td><td>62</td><td>0</td><td>update_postimage</td><td>7</td><td>2025-05-06 14:30:34.353</td></tr>\n",
       "<tr><td>2020-04-15</td><td>Chambers</td><td>Alabama</td><td>1017</td><td>227</td><td>10</td><td>update_preimage</td><td>7</td><td>2025-05-06 14:30:34.353</td></tr>\n",
       "<tr><td>2025-05-06</td><td>Chambers</td><td>Alabama</td><td>1017</td><td>227</td><td>10</td><td>update_postimage</td><td>7</td><td>2025-05-06 14:30:34.353</td></tr>\n",
       "<tr><td>2020-04-15</td><td>Cherokee</td><td>Alabama</td><td>1019</td><td>10</td><td>0</td><td>update_preimage</td><td>7</td><td>2025-05-06 14:30:34.353</td></tr>\n",
       "<tr><td>2025-05-06</td><td>Cherokee</td><td>Alabama</td><td>1019</td><td>10</td><td>0</td><td>update_postimage</td><td>7</td><td>2025-05-06 14:30:34.353</td></tr>\n",
       "<tr><td>2020-04-15</td><td>Chilton</td><td>Alabama</td><td>1021</td><td>37</td><td>0</td><td>update_preimage</td><td>7</td><td>2025-05-06 14:30:34.353</td></tr>\n",
       "<tr><td>2025-05-06</td><td>Chilton</td><td>Alabama</td><td>1021</td><td>37</td><td>0</td><td>update_postimage</td><td>7</td><td>2025-05-06 14:30:34.353</td></tr>\n",
       "<tr><td>2020-04-15</td><td>Choctaw</td><td>Alabama</td><td>1023</td><td>13</td><td>0</td><td>update_preimage</td><td>7</td><td>2025-05-06 14:30:34.353</td></tr>\n",
       "<tr><td>2025-05-06</td><td>Choctaw</td><td>Alabama</td><td>1023</td><td>13</td><td>0</td><td>update_postimage</td><td>7</td><td>2025-05-06 14:30:34.353</td></tr>\n",
       "<tr><td>2020-04-15</td><td>Clarke</td><td>Alabama</td><td>1025</td><td>22</td><td>0</td><td>update_preimage</td><td>7</td><td>2025-05-06 14:30:34.353</td></tr>\n",
       "<tr><td>2025-05-06</td><td>Clarke</td><td>Alabama</td><td>1025</td><td>22</td><td>0</td><td>update_postimage</td><td>7</td><td>2025-05-06 14:30:34.353</td></tr>\n",
       "<tr><td>2020-04-15</td><td>Clay</td><td>Alabama</td><td>1027</td><td>14</td><td>0</td><td>update_preimage</td><td>7</td><td>2025-05-06 14:30:34.353</td></tr>\n",
       "<tr><td>2025-05-06</td><td>Clay</td><td>Alabama</td><td>1027</td><td>14</td><td>0</td><td>update_postimage</td><td>7</td><td>2025-05-06 14:30:34.353</td></tr>\n",
       "<tr><td>2020-04-15</td><td>Cleburne</td><td>Alabama</td><td>1029</td><td>12</td><td>0</td><td>update_preimage</td><td>7</td><td>2025-05-06 14:30:34.353</td></tr>\n",
       "<tr><td>2020-04-15</td><td>Cleburne</td><td>Alabama</td><td>1029</td><td>12</td><td>0</td><td>update_preimage</td><td>7</td><td>2025-05-06 14:30:34.353</td></tr>\n",
       "<tr><td>2025-05-06</td><td>Cleburne</td><td>Alabama</td><td>1029</td><td>12</td><td>0</td><td>update_postimage</td><td>7</td><td>2025-05-06 14:30:34.353</td></tr>\n",
       "<tr><td>2025-05-06</td><td>Cleburne</td><td>Alabama</td><td>1029</td><td>12</td><td>0</td><td>update_postimage</td><td>7</td><td>2025-05-06 14:30:34.353</td></tr>\n",
       "<tr><td>2020-04-15</td><td>Coffee</td><td>Alabama</td><td>1031</td><td>43</td><td>0</td><td>update_preimage</td><td>7</td><td>2025-05-06 14:30:34.353</td></tr>\n",
       "<tr><td>2020-04-15</td><td>Coffee</td><td>Alabama</td><td>1031</td><td>43</td><td>0</td><td>update_preimage</td><td>7</td><td>2025-05-06 14:30:34.353</td></tr>\n",
       "<tr><td>2025-05-06</td><td>Coffee</td><td>Alabama</td><td>1031</td><td>43</td><td>0</td><td>update_postimage</td><td>7</td><td>2025-05-06 14:30:34.353</td></tr>\n",
       "<tr><td>2025-05-06</td><td>Coffee</td><td>Alabama</td><td>1031</td><td>43</td><td>0</td><td>update_postimage</td><td>7</td><td>2025-05-06 14:30:34.353</td></tr>\n",
       "<tr><td>2020-04-15</td><td>Colbert</td><td>Alabama</td><td>1033</td><td>11</td><td>1</td><td>update_preimage</td><td>7</td><td>2025-05-06 14:30:34.353</td></tr>\n",
       "<tr><td>2020-04-15</td><td>Colbert</td><td>Alabama</td><td>1033</td><td>11</td><td>1</td><td>update_preimage</td><td>7</td><td>2025-05-06 14:30:34.353</td></tr>\n",
       "<tr><td>2025-05-06</td><td>Colbert</td><td>Alabama</td><td>1033</td><td>11</td><td>1</td><td>update_postimage</td><td>7</td><td>2025-05-06 14:30:34.353</td></tr>\n",
       "<tr><td>2025-05-06</td><td>Colbert</td><td>Alabama</td><td>1033</td><td>11</td><td>1</td><td>update_postimage</td><td>7</td><td>2025-05-06 14:30:34.353</td></tr>\n",
       "<tr><td>2020-04-15</td><td>Conecuh</td><td>Alabama</td><td>1035</td><td>6</td><td>0</td><td>update_preimage</td><td>7</td><td>2025-05-06 14:30:34.353</td></tr>\n",
       "<tr><td>2025-05-06</td><td>Conecuh</td><td>Alabama</td><td>1035</td><td>6</td><td>0</td><td>update_postimage</td><td>7</td><td>2025-05-06 14:30:34.353</td></tr>\n",
       "<tr><td>2020-04-15</td><td>Coosa</td><td>Alabama</td><td>1037</td><td>20</td><td>1</td><td>update_preimage</td><td>7</td><td>2025-05-06 14:30:34.353</td></tr>\n",
       "<tr><td>2020-04-15</td><td>Coosa</td><td>Alabama</td><td>1037</td><td>20</td><td>1</td><td>update_preimage</td><td>7</td><td>2025-05-06 14:30:34.353</td></tr>\n",
       "<tr><td>2025-05-06</td><td>Coosa</td><td>Alabama</td><td>1037</td><td>20</td><td>1</td><td>update_postimage</td><td>7</td><td>2025-05-06 14:30:34.353</td></tr>\n",
       "<tr><td>2025-05-06</td><td>Coosa</td><td>Alabama</td><td>1037</td><td>20</td><td>1</td><td>update_postimage</td><td>7</td><td>2025-05-06 14:30:34.353</td></tr>\n",
       "<tr><td>2020-04-15</td><td>Covington</td><td>Alabama</td><td>1039</td><td>18</td><td>0</td><td>update_preimage</td><td>7</td><td>2025-05-06 14:30:34.353</td></tr>\n",
       "<tr><td>2025-05-06</td><td>Covington</td><td>Alabama</td><td>1039</td><td>18</td><td>0</td><td>update_postimage</td><td>7</td><td>2025-05-06 14:30:34.353</td></tr>\n",
       "<tr><td>2020-04-15</td><td>Crenshaw</td><td>Alabama</td><td>1041</td><td>4</td><td>0</td><td>update_preimage</td><td>7</td><td>2025-05-06 14:30:34.353</td></tr>\n",
       "<tr><td>2020-04-15</td><td>Crenshaw</td><td>Alabama</td><td>1041</td><td>4</td><td>0</td><td>update_preimage</td><td>7</td><td>2025-05-06 14:30:34.353</td></tr>\n",
       "<tr><td>2025-05-06</td><td>Crenshaw</td><td>Alabama</td><td>1041</td><td>4</td><td>0</td><td>update_postimage</td><td>7</td><td>2025-05-06 14:30:34.353</td></tr>\n",
       "<tr><td>2025-05-06</td><td>Crenshaw</td><td>Alabama</td><td>1041</td><td>4</td><td>0</td><td>update_postimage</td><td>7</td><td>2025-05-06 14:30:34.353</td></tr>\n",
       "<tr><td>2020-04-15</td><td>Cullman</td><td>Alabama</td><td>1043</td><td>40</td><td>1</td><td>update_preimage</td><td>7</td><td>2025-05-06 14:30:34.353</td></tr>\n",
       "<tr><td>2020-04-15</td><td>Cullman</td><td>Alabama</td><td>1043</td><td>40</td><td>1</td><td>update_preimage</td><td>7</td><td>2025-05-06 14:30:34.353</td></tr>\n",
       "<tr><td>2025-05-06</td><td>Cullman</td><td>Alabama</td><td>1043</td><td>40</td><td>1</td><td>update_postimage</td><td>7</td><td>2025-05-06 14:30:34.353</td></tr>\n",
       "<tr><td>2025-05-06</td><td>Cullman</td><td>Alabama</td><td>1043</td><td>40</td><td>1</td><td>update_postimage</td><td>7</td><td>2025-05-06 14:30:34.353</td></tr>\n",
       "<tr><td>2020-04-15</td><td>Dale</td><td>Alabama</td><td>1045</td><td>13</td><td>0</td><td>update_preimage</td><td>7</td><td>2025-05-06 14:30:34.353</td></tr>\n",
       "<tr><td>2025-05-06</td><td>Dale</td><td>Alabama</td><td>1045</td><td>13</td><td>0</td><td>update_postimage</td><td>7</td><td>2025-05-06 14:30:34.353</td></tr>\n",
       "<tr><td>2020-04-15</td><td>Dallas</td><td>Alabama</td><td>1047</td><td>22</td><td>2</td><td>update_preimage</td><td>7</td><td>2025-05-06 14:30:34.353</td></tr>\n",
       "<tr><td>2025-05-06</td><td>Dallas</td><td>Alabama</td><td>1047</td><td>22</td><td>2</td><td>update_postimage</td><td>7</td><td>2025-05-06 14:30:34.353</td></tr>\n",
       "<tr><td>2020-04-15</td><td>DeKalb</td><td>Alabama</td><td>1049</td><td>31</td><td>0</td><td>update_preimage</td><td>7</td><td>2025-05-06 14:30:34.353</td></tr>\n",
       "<tr><td>2025-05-06</td><td>DeKalb</td><td>Alabama</td><td>1049</td><td>31</td><td>0</td><td>update_postimage</td><td>7</td><td>2025-05-06 14:30:34.353</td></tr>\n",
       "<tr><td>2020-04-15</td><td>Elmore</td><td>Alabama</td><td>1051</td><td>49</td><td>0</td><td>update_preimage</td><td>7</td><td>2025-05-06 14:30:34.353</td></tr>\n",
       "<tr><td>2025-05-06</td><td>Elmore</td><td>Alabama</td><td>1051</td><td>49</td><td>0</td><td>update_postimage</td><td>7</td><td>2025-05-06 14:30:34.353</td></tr>\n",
       "<tr><td>2020-04-15</td><td>Escambia</td><td>Alabama</td><td>1053</td><td>11</td><td>0</td><td>update_preimage</td><td>7</td><td>2025-05-06 14:30:34.353</td></tr>\n",
       "<tr><td>2025-05-06</td><td>Escambia</td><td>Alabama</td><td>1053</td><td>11</td><td>0</td><td>update_postimage</td><td>7</td><td>2025-05-06 14:30:34.353</td></tr>\n",
       "<tr><td>2020-04-15</td><td>Etowah</td><td>Alabama</td><td>1055</td><td>84</td><td>8</td><td>update_preimage</td><td>7</td><td>2025-05-06 14:30:34.353</td></tr>\n",
       "<tr><td>2025-05-06</td><td>Etowah</td><td>Alabama</td><td>1055</td><td>84</td><td>8</td><td>update_postimage</td><td>7</td><td>2025-05-06 14:30:34.353</td></tr>\n",
       "<tr><td>2020-04-15</td><td>Fayette</td><td>Alabama</td><td>1057</td><td>4</td><td>0</td><td>update_preimage</td><td>7</td><td>2025-05-06 14:30:34.353</td></tr>\n",
       "<tr><td>2025-05-06</td><td>Fayette</td><td>Alabama</td><td>1057</td><td>4</td><td>0</td><td>update_postimage</td><td>7</td><td>2025-05-06 14:30:34.353</td></tr>\n",
       "<tr><td>2020-04-15</td><td>Franklin</td><td>Alabama</td><td>1059</td><td>17</td><td>1</td><td>update_preimage</td><td>7</td><td>2025-05-06 14:30:34.353</td></tr>\n",
       "<tr><td>2025-05-06</td><td>Franklin</td><td>Alabama</td><td>1059</td><td>17</td><td>1</td><td>update_postimage</td><td>7</td><td>2025-05-06 14:30:34.353</td></tr>\n",
       "<tr><td>2020-04-15</td><td>Geneva</td><td>Alabama</td><td>1061</td><td>2</td><td>0</td><td>update_preimage</td><td>7</td><td>2025-05-06 14:30:34.353</td></tr>\n",
       "<tr><td>2025-05-06</td><td>Geneva</td><td>Alabama</td><td>1061</td><td>2</td><td>0</td><td>update_postimage</td><td>7</td><td>2025-05-06 14:30:34.353</td></tr>\n",
       "<tr><td>2020-04-15</td><td>Greene</td><td>Alabama</td><td>1063</td><td>19</td><td>0</td><td>update_preimage</td><td>7</td><td>2025-05-06 14:30:34.353</td></tr>\n",
       "<tr><td>2025-05-06</td><td>Greene</td><td>Alabama</td><td>1063</td><td>19</td><td>0</td><td>update_postimage</td><td>7</td><td>2025-05-06 14:30:34.353</td></tr>\n",
       "<tr><td>2020-04-15</td><td>Hale</td><td>Alabama</td><td>1065</td><td>20</td><td>0</td><td>update_preimage</td><td>7</td><td>2025-05-06 14:30:34.353</td></tr>\n",
       "<tr><td>2020-04-15</td><td>Hale</td><td>Alabama</td><td>1065</td><td>20</td><td>0</td><td>update_preimage</td><td>7</td><td>2025-05-06 14:30:34.353</td></tr>\n",
       "<tr><td>2025-05-06</td><td>Hale</td><td>Alabama</td><td>1065</td><td>20</td><td>0</td><td>update_postimage</td><td>7</td><td>2025-05-06 14:30:34.353</td></tr>\n",
       "<tr><td>2025-05-06</td><td>Hale</td><td>Alabama</td><td>1065</td><td>20</td><td>0</td><td>update_postimage</td><td>7</td><td>2025-05-06 14:30:34.353</td></tr>\n",
       "<tr><td>2020-04-15</td><td>Henry</td><td>Alabama</td><td>1067</td><td>15</td><td>0</td><td>update_preimage</td><td>7</td><td>2025-05-06 14:30:34.353</td></tr>\n",
       "<tr><td>2025-05-06</td><td>Henry</td><td>Alabama</td><td>1067</td><td>15</td><td>0</td><td>update_postimage</td><td>7</td><td>2025-05-06 14:30:34.353</td></tr>\n",
       "<tr><td>2020-04-15</td><td>Houston</td><td>Alabama</td><td>1069</td><td>55</td><td>3</td><td>update_preimage</td><td>7</td><td>2025-05-06 14:30:34.353</td></tr>\n",
       "<tr><td>2025-05-06</td><td>Houston</td><td>Alabama</td><td>1069</td><td>55</td><td>3</td><td>update_postimage</td><td>7</td><td>2025-05-06 14:30:34.353</td></tr>\n",
       "<tr><td>2020-04-15</td><td>Jackson</td><td>Alabama</td><td>1071</td><td>31</td><td>2</td><td>update_preimage</td><td>7</td><td>2025-05-06 14:30:34.353</td></tr>\n",
       "<tr><td>2025-05-06</td><td>Jackson</td><td>Alabama</td><td>1071</td><td>31</td><td>2</td><td>update_postimage</td><td>7</td><td>2025-05-06 14:30:34.353</td></tr>\n",
       "<tr><td>2020-04-15</td><td>Jefferson</td><td>Alabama</td><td>1073</td><td>628</td><td>17</td><td>update_preimage</td><td>7</td><td>2025-05-06 14:30:34.353</td></tr>\n",
       "<tr><td>2020-04-15</td><td>Jefferson</td><td>Alabama</td><td>1073</td><td>628</td><td>17</td><td>update_preimage</td><td>7</td><td>2025-05-06 14:30:34.353</td></tr>\n",
       "<tr><td>2025-05-06</td><td>Jefferson</td><td>Alabama</td><td>1073</td><td>628</td><td>17</td><td>update_postimage</td><td>7</td><td>2025-05-06 14:30:34.353</td></tr>\n",
       "<tr><td>2025-05-06</td><td>Jefferson</td><td>Alabama</td><td>1073</td><td>628</td><td>17</td><td>update_postimage</td><td>7</td><td>2025-05-06 14:30:34.353</td></tr>\n",
       "<tr><td>2020-04-15</td><td>Lamar</td><td>Alabama</td><td>1075</td><td>7</td><td>0</td><td>update_preimage</td><td>7</td><td>2025-05-06 14:30:34.353</td></tr>\n",
       "<tr><td>2025-05-06</td><td>Lamar</td><td>Alabama</td><td>1075</td><td>7</td><td>0</td><td>update_postimage</td><td>7</td><td>2025-05-06 14:30:34.353</td></tr>\n",
       "<tr><td>2020-04-15</td><td>Lauderdale</td><td>Alabama</td><td>1077</td><td>22</td><td>4</td><td>update_preimage</td><td>7</td><td>2025-05-06 14:30:34.353</td></tr>\n",
       "<tr><td>2025-05-06</td><td>Lauderdale</td><td>Alabama</td><td>1077</td><td>22</td><td>4</td><td>update_postimage</td><td>7</td><td>2025-05-06 14:30:34.353</td></tr>\n",
       "<tr><td>2020-04-15</td><td>Lawrence</td><td>Alabama</td><td>1079</td><td>8</td><td>0</td><td>update_preimage</td><td>7</td><td>2025-05-06 14:30:34.353</td></tr>\n",
       "<tr><td>2025-05-06</td><td>Lawrence</td><td>Alabama</td><td>1079</td><td>8</td><td>0</td><td>update_postimage</td><td>7</td><td>2025-05-06 14:30:34.353</td></tr>\n",
       "<tr><td>2020-04-15</td><td>Lee</td><td>Alabama</td><td>1081</td><td>285</td><td>12</td><td>update_preimage</td><td>7</td><td>2025-05-06 14:30:34.353</td></tr>\n",
       "<tr><td>2020-04-15</td><td>Lee</td><td>Alabama</td><td>1081</td><td>285</td><td>12</td><td>update_preimage</td><td>7</td><td>2025-05-06 14:30:34.353</td></tr>\n",
       "<tr><td>2025-05-06</td><td>Lee</td><td>Alabama</td><td>1081</td><td>285</td><td>12</td><td>update_postimage</td><td>7</td><td>2025-05-06 14:30:34.353</td></tr>\n",
       "<tr><td>2025-05-06</td><td>Lee</td><td>Alabama</td><td>1081</td><td>285</td><td>12</td><td>update_postimage</td><td>7</td><td>2025-05-06 14:30:34.353</td></tr>\n",
       "<tr><td>2020-04-15</td><td>Limestone</td><td>Alabama</td><td>1083</td><td>38</td><td>0</td><td>update_preimage</td><td>7</td><td>2025-05-06 14:30:34.353</td></tr>\n",
       "<tr><td>2025-05-06</td><td>Limestone</td><td>Alabama</td><td>1083</td><td>38</td><td>0</td><td>update_postimage</td><td>7</td><td>2025-05-06 14:30:34.353</td></tr>\n",
       "<tr><td>2020-04-15</td><td>Lowndes</td><td>Alabama</td><td>1085</td><td>23</td><td>0</td><td>update_preimage</td><td>7</td><td>2025-05-06 14:30:34.353</td></tr>\n",
       "<tr><td>2025-05-06</td><td>Lowndes</td><td>Alabama</td><td>1085</td><td>23</td><td>0</td><td>update_postimage</td><td>7</td><td>2025-05-06 14:30:34.353</td></tr>\n",
       "<tr><td>2020-04-15</td><td>Macon</td><td>Alabama</td><td>1087</td><td>19</td><td>2</td><td>update_preimage</td><td>7</td><td>2025-05-06 14:30:34.353</td></tr>\n",
       "<tr><td>2025-05-06</td><td>Macon</td><td>Alabama</td><td>1087</td><td>19</td><td>2</td><td>update_postimage</td><td>7</td><td>2025-05-06 14:30:34.353</td></tr>\n",
       "<tr><td>2020-04-15</td><td>Madison</td><td>Alabama</td><td>1089</td><td>194</td><td>4</td><td>update_preimage</td><td>7</td><td>2025-05-06 14:30:34.353</td></tr>\n",
       "<tr><td>2025-05-06</td><td>Madison</td><td>Alabama</td><td>1089</td><td>194</td><td>4</td><td>update_postimage</td><td>7</td><td>2025-05-06 14:30:34.353</td></tr>\n",
       "<tr><td>2020-04-15</td><td>Marengo</td><td>Alabama</td><td>1091</td><td>24</td><td>1</td><td>update_preimage</td><td>7</td><td>2025-05-06 14:30:34.353</td></tr>\n",
       "<tr><td>2025-05-06</td><td>Marengo</td><td>Alabama</td><td>1091</td><td>24</td><td>1</td><td>update_postimage</td><td>7</td><td>2025-05-06 14:30:34.353</td></tr>\n",
       "<tr><td>2020-04-15</td><td>Marion</td><td>Alabama</td><td>1093</td><td>58</td><td>4</td><td>update_preimage</td><td>7</td><td>2025-05-06 14:30:34.353</td></tr>\n",
       "<tr><td>2025-05-06</td><td>Marion</td><td>Alabama</td><td>1093</td><td>58</td><td>4</td><td>update_postimage</td><td>7</td><td>2025-05-06 14:30:34.353</td></tr>\n",
       "<tr><td>2020-04-15</td><td>Marshall</td><td>Alabama</td><td>1095</td><td>109</td><td>2</td><td>update_preimage</td><td>7</td><td>2025-05-06 14:30:34.353</td></tr>\n",
       "<tr><td>2025-05-06</td><td>Marshall</td><td>Alabama</td><td>1095</td><td>109</td><td>2</td><td>update_postimage</td><td>7</td><td>2025-05-06 14:30:34.353</td></tr>\n",
       "<tr><td>2020-04-15</td><td>Mobile</td><td>Alabama</td><td>1097</td><td>561</td><td>19</td><td>update_preimage</td><td>7</td><td>2025-05-06 14:30:34.353</td></tr>\n",
       "<tr><td>2025-05-06</td><td>Mobile</td><td>Alabama</td><td>1097</td><td>561</td><td>19</td><td>update_postimage</td><td>7</td><td>2025-05-06 14:30:34.353</td></tr>\n",
       "<tr><td>2020-04-15</td><td>Monroe</td><td>Alabama</td><td>1099</td><td>7</td><td>1</td><td>update_preimage</td><td>7</td><td>2025-05-06 14:30:34.353</td></tr>\n",
       "<tr><td>2025-05-06</td><td>Monroe</td><td>Alabama</td><td>1099</td><td>7</td><td>1</td><td>update_postimage</td><td>7</td><td>2025-05-06 14:30:34.353</td></tr>\n",
       "<tr><td>2020-04-15</td><td>Montgomery</td><td>Alabama</td><td>1101</td><td>189</td><td>5</td><td>update_preimage</td><td>7</td><td>2025-05-06 14:30:34.353</td></tr>\n",
       "<tr><td>2025-05-06</td><td>Montgomery</td><td>Alabama</td><td>1101</td><td>189</td><td>5</td><td>update_postimage</td><td>7</td><td>2025-05-06 14:30:34.353</td></tr>\n",
       "<tr><td>2020-04-15</td><td>Morgan</td><td>Alabama</td><td>1103</td><td>44</td><td>0</td><td>update_preimage</td><td>7</td><td>2025-05-06 14:30:34.353</td></tr>\n",
       "<tr><td>2025-05-06</td><td>Morgan</td><td>Alabama</td><td>1103</td><td>44</td><td>0</td><td>update_postimage</td><td>7</td><td>2025-05-06 14:30:34.353</td></tr>\n",
       "<tr><td>2020-04-15</td><td>Perry</td><td>Alabama</td><td>1105</td><td>7</td><td>0</td><td>update_preimage</td><td>7</td><td>2025-05-06 14:30:34.353</td></tr>\n",
       "<tr><td>2020-04-15</td><td>Perry</td><td>Alabama</td><td>1105</td><td>7</td><td>0</td><td>update_preimage</td><td>7</td><td>2025-05-06 14:30:34.353</td></tr>\n",
       "<tr><td>2025-05-06</td><td>Perry</td><td>Alabama</td><td>1105</td><td>7</td><td>0</td><td>update_postimage</td><td>7</td><td>2025-05-06 14:30:34.353</td></tr>\n",
       "<tr><td>2025-05-06</td><td>Perry</td><td>Alabama</td><td>1105</td><td>7</td><td>0</td><td>update_postimage</td><td>7</td><td>2025-05-06 14:30:34.353</td></tr>\n",
       "<tr><td>2020-04-15</td><td>Pickens</td><td>Alabama</td><td>1107</td><td>30</td><td>0</td><td>update_preimage</td><td>7</td><td>2025-05-06 14:30:34.353</td></tr>\n",
       "<tr><td>2020-04-15</td><td>Pickens</td><td>Alabama</td><td>1107</td><td>30</td><td>0</td><td>update_preimage</td><td>7</td><td>2025-05-06 14:30:34.353</td></tr>\n",
       "<tr><td>2025-05-06</td><td>Pickens</td><td>Alabama</td><td>1107</td><td>30</td><td>0</td><td>update_postimage</td><td>7</td><td>2025-05-06 14:30:34.353</td></tr>\n",
       "<tr><td>2025-05-06</td><td>Pickens</td><td>Alabama</td><td>1107</td><td>30</td><td>0</td><td>update_postimage</td><td>7</td><td>2025-05-06 14:30:34.353</td></tr>\n",
       "<tr><td>2020-04-15</td><td>Pike</td><td>Alabama</td><td>1109</td><td>27</td><td>0</td><td>update_preimage</td><td>7</td><td>2025-05-06 14:30:34.353</td></tr>\n",
       "<tr><td>2020-04-15</td><td>Pike</td><td>Alabama</td><td>1109</td><td>27</td><td>0</td><td>update_preimage</td><td>7</td><td>2025-05-06 14:30:34.353</td></tr>\n",
       "<tr><td>2025-05-06</td><td>Pike</td><td>Alabama</td><td>1109</td><td>27</td><td>0</td><td>update_postimage</td><td>7</td><td>2025-05-06 14:30:34.353</td></tr>\n",
       "<tr><td>2025-05-06</td><td>Pike</td><td>Alabama</td><td>1109</td><td>27</td><td>0</td><td>update_postimage</td><td>7</td><td>2025-05-06 14:30:34.353</td></tr>\n",
       "<tr><td>2020-04-15</td><td>Randolph</td><td>Alabama</td><td>1111</td><td>45</td><td>4</td><td>update_preimage</td><td>7</td><td>2025-05-06 14:30:34.353</td></tr>\n",
       "<tr><td>2025-05-06</td><td>Randolph</td><td>Alabama</td><td>1111</td><td>45</td><td>4</td><td>update_postimage</td><td>7</td><td>2025-05-06 14:30:34.353</td></tr>\n",
       "<tr><td>2020-04-15</td><td>Russell</td><td>Alabama</td><td>1113</td><td>31</td><td>0</td><td>update_preimage</td><td>7</td><td>2025-05-06 14:30:34.353</td></tr>\n",
       "<tr><td>2025-05-06</td><td>Russell</td><td>Alabama</td><td>1113</td><td>31</td><td>0</td><td>update_postimage</td><td>7</td><td>2025-05-06 14:30:34.353</td></tr>\n",
       "<tr><td>2020-04-15</td><td>Shelby</td><td>Alabama</td><td>1117</td><td>241</td><td>7</td><td>update_preimage</td><td>7</td><td>2025-05-06 14:30:34.353</td></tr>\n",
       "<tr><td>2025-05-06</td><td>Shelby</td><td>Alabama</td><td>1117</td><td>241</td><td>7</td><td>update_postimage</td><td>7</td><td>2025-05-06 14:30:34.353</td></tr>\n",
       "<tr><td>2020-04-15</td><td>St. Clair</td><td>Alabama</td><td>1115</td><td>49</td><td>0</td><td>update_preimage</td><td>7</td><td>2025-05-06 14:30:34.353</td></tr>\n",
       "<tr><td>2020-04-15</td><td>St. Clair</td><td>Alabama</td><td>1115</td><td>49</td><td>0</td><td>update_preimage</td><td>7</td><td>2025-05-06 14:30:34.353</td></tr>\n",
       "<tr><td>2025-05-06</td><td>St. Clair</td><td>Alabama</td><td>1115</td><td>49</td><td>0</td><td>update_postimage</td><td>7</td><td>2025-05-06 14:30:34.353</td></tr>\n",
       "<tr><td>2025-05-06</td><td>St. Clair</td><td>Alabama</td><td>1115</td><td>49</td><td>0</td><td>update_postimage</td><td>7</td><td>2025-05-06 14:30:34.353</td></tr>\n",
       "<tr><td>2020-04-15</td><td>Sumter</td><td>Alabama</td><td>1119</td><td>30</td><td>0</td><td>update_preimage</td><td>7</td><td>2025-05-06 14:30:34.353</td></tr>\n",
       "<tr><td>2025-05-06</td><td>Sumter</td><td>Alabama</td><td>1119</td><td>30</td><td>0</td><td>update_postimage</td><td>7</td><td>2025-05-06 14:30:34.353</td></tr>\n",
       "<tr><td>2020-04-15</td><td>Talladega</td><td>Alabama</td><td>1121</td><td>40</td><td>1</td><td>update_preimage</td><td>7</td><td>2025-05-06 14:30:34.353</td></tr>\n",
       "<tr><td>2025-05-06</td><td>Talladega</td><td>Alabama</td><td>1121</td><td>40</td><td>1</td><td>update_postimage</td><td>7</td><td>2025-05-06 14:30:34.353</td></tr>\n",
       "<tr><td>2020-04-15</td><td>Tallapoosa</td><td>Alabama</td><td>1123</td><td>149</td><td>7</td><td>update_preimage</td><td>7</td><td>2025-05-06 14:30:34.353</td></tr>\n",
       "<tr><td>2020-04-15</td><td>Tallapoosa</td><td>Alabama</td><td>1123</td><td>149</td><td>7</td><td>update_preimage</td><td>7</td><td>2025-05-06 14:30:34.353</td></tr>\n",
       "<tr><td>2025-05-06</td><td>Tallapoosa</td><td>Alabama</td><td>1123</td><td>149</td><td>7</td><td>update_postimage</td><td>7</td><td>2025-05-06 14:30:34.353</td></tr>\n",
       "<tr><td>2025-05-06</td><td>Tallapoosa</td><td>Alabama</td><td>1123</td><td>149</td><td>7</td><td>update_postimage</td><td>7</td><td>2025-05-06 14:30:34.353</td></tr>\n",
       "<tr><td>2020-04-15</td><td>Tuscaloosa</td><td>Alabama</td><td>1125</td><td>131</td><td>0</td><td>update_preimage</td><td>7</td><td>2025-05-06 14:30:34.353</td></tr>\n",
       "<tr><td>2025-05-06</td><td>Tuscaloosa</td><td>Alabama</td><td>1125</td><td>131</td><td>0</td><td>update_postimage</td><td>7</td><td>2025-05-06 14:30:34.353</td></tr>\n",
       "<tr><td>2020-04-15</td><td>Walker</td><td>Alabama</td><td>1127</td><td>85</td><td>0</td><td>update_preimage</td><td>7</td><td>2025-05-06 14:30:34.353</td></tr>\n",
       "<tr><td>2020-04-15</td><td>Walker</td><td>Alabama</td><td>1127</td><td>85</td><td>0</td><td>update_preimage</td><td>7</td><td>2025-05-06 14:30:34.353</td></tr>\n",
       "<tr><td>2025-05-06</td><td>Walker</td><td>Alabama</td><td>1127</td><td>85</td><td>0</td><td>update_postimage</td><td>7</td><td>2025-05-06 14:30:34.353</td></tr>\n",
       "<tr><td>2025-05-06</td><td>Walker</td><td>Alabama</td><td>1127</td><td>85</td><td>0</td><td>update_postimage</td><td>7</td><td>2025-05-06 14:30:34.353</td></tr>\n",
       "<tr><td>2020-04-15</td><td>Washington</td><td>Alabama</td><td>1129</td><td>12</td><td>1</td><td>update_preimage</td><td>7</td><td>2025-05-06 14:30:34.353</td></tr>\n",
       "<tr><td>2025-05-06</td><td>Washington</td><td>Alabama</td><td>1129</td><td>12</td><td>1</td><td>update_postimage</td><td>7</td><td>2025-05-06 14:30:34.353</td></tr>\n",
       "<tr><td>2020-04-15</td><td>Wilcox</td><td>Alabama</td><td>1131</td><td>38</td><td>0</td><td>update_preimage</td><td>7</td><td>2025-05-06 14:30:34.353</td></tr>\n",
       "<tr><td>2020-04-15</td><td>Wilcox</td><td>Alabama</td><td>1131</td><td>38</td><td>0</td><td>update_preimage</td><td>7</td><td>2025-05-06 14:30:34.353</td></tr>\n",
       "<tr><td>2025-05-06</td><td>Wilcox</td><td>Alabama</td><td>1131</td><td>38</td><td>0</td><td>update_postimage</td><td>7</td><td>2025-05-06 14:30:34.353</td></tr>\n",
       "<tr><td>2025-05-06</td><td>Wilcox</td><td>Alabama</td><td>1131</td><td>38</td><td>0</td><td>update_postimage</td><td>7</td><td>2025-05-06 14:30:34.353</td></tr>\n",
       "<tr><td>2020-04-15</td><td>Winston</td><td>Alabama</td><td>1133</td><td>7</td><td>0</td><td>update_preimage</td><td>7</td><td>2025-05-06 14:30:34.353</td></tr>\n",
       "<tr><td>2025-05-06</td><td>Winston</td><td>Alabama</td><td>1133</td><td>7</td><td>0</td><td>update_postimage</td><td>7</td><td>2025-05-06 14:30:34.353</td></tr>\n",
       "<tr><td>2025-05-05</td><td>Clay</td><td>Alabama</td><td>1027</td><td>14</td><td>0</td><td>update_postimage</td><td>8</td><td>2025-05-06 16:45:02.314</td></tr>\n",
       "<tr><td>2025-05-06</td><td>Clay</td><td>Alabama</td><td>1027</td><td>14</td><td>0</td><td>update_preimage</td><td>8</td><td>2025-05-06 16:45:02.314</td></tr>\n",
       "</table>\n"
      ],
      "text/plain": [
       "+----------+----------+-------+----+-----+------+----------------+---------------+-----------------------+\n",
       "|date      |county    |state  |fips|cases|deaths|_change_type    |_commit_version|_commit_timestamp      |\n",
       "+----------+----------+-------+----+-----+------+----------------+---------------+-----------------------+\n",
       "|2020-04-15|Colbert   |Alabama|1033|11   |1     |insert          |2              |2025-05-06 14:22:09.232|\n",
       "|2020-04-15|Cullman   |Alabama|1043|40   |1     |insert          |2              |2025-05-06 14:22:09.232|\n",
       "|2020-04-15|Hale      |Alabama|1065|20   |0     |insert          |2              |2025-05-06 14:22:09.232|\n",
       "|2020-04-15|Lee       |Alabama|1081|285  |12    |insert          |2              |2025-05-06 14:22:09.232|\n",
       "|2020-04-15|Perry     |Alabama|1105|7    |0     |insert          |2              |2025-05-06 14:22:09.232|\n",
       "|2020-04-15|Pickens   |Alabama|1107|30   |0     |insert          |2              |2025-05-06 14:22:09.232|\n",
       "|2020-04-15|Pike      |Alabama|1109|27   |0     |insert          |2              |2025-05-06 14:22:09.232|\n",
       "|2020-04-15|Tallapoosa|Alabama|1123|149  |7     |insert          |2              |2025-05-06 14:22:09.232|\n",
       "|2020-04-15|Coffee    |Alabama|1031|43   |0     |insert          |3              |2025-05-06 14:22:09.981|\n",
       "|2020-04-15|Coosa     |Alabama|1037|20   |1     |insert          |3              |2025-05-06 14:22:09.981|\n",
       "|2020-04-15|Cleburne  |Alabama|1029|12   |0     |insert          |4              |2025-05-06 14:22:10.66 |\n",
       "|2020-04-15|Walker    |Alabama|1127|85   |0     |insert          |4              |2025-05-06 14:22:10.66 |\n",
       "|2020-04-15|Wilcox    |Alabama|1131|38   |0     |insert          |5              |2025-05-06 14:22:11.306|\n",
       "|2020-04-15|Bibb      |Alabama|1007|19   |0     |insert          |6              |2025-05-06 14:22:11.91 |\n",
       "|2020-04-15|Crenshaw  |Alabama|1041|4    |0     |insert          |6              |2025-05-06 14:22:11.91 |\n",
       "|2020-04-15|Jefferson |Alabama|1073|628  |17    |insert          |6              |2025-05-06 14:22:11.91 |\n",
       "|2020-04-15|St. Clair |Alabama|1115|49   |0     |insert          |6              |2025-05-06 14:22:11.91 |\n",
       "|2020-04-15|Autauga   |Alabama|1001|25   |1     |update_preimage |7              |2025-05-06 14:30:34.353|\n",
       "|2025-05-06|Autauga   |Alabama|1001|25   |1     |update_postimage|7              |2025-05-06 14:30:34.353|\n",
       "|2020-04-15|Baldwin   |Alabama|1003|98   |2     |update_preimage |7              |2025-05-06 14:30:34.353|\n",
       "|2025-05-06|Baldwin   |Alabama|1003|98   |2     |update_postimage|7              |2025-05-06 14:30:34.353|\n",
       "|2020-04-15|Barbour   |Alabama|1005|13   |0     |update_preimage |7              |2025-05-06 14:30:34.353|\n",
       "|2025-05-06|Barbour   |Alabama|1005|13   |0     |update_postimage|7              |2025-05-06 14:30:34.353|\n",
       "|2020-04-15|Bibb      |Alabama|1007|19   |0     |update_preimage |7              |2025-05-06 14:30:34.353|\n",
       "|2020-04-15|Bibb      |Alabama|1007|19   |0     |update_preimage |7              |2025-05-06 14:30:34.353|\n",
       "|2025-05-06|Bibb      |Alabama|1007|19   |0     |update_postimage|7              |2025-05-06 14:30:34.353|\n",
       "|2025-05-06|Bibb      |Alabama|1007|19   |0     |update_postimage|7              |2025-05-06 14:30:34.353|\n",
       "|2020-04-15|Blount    |Alabama|1009|17   |0     |update_preimage |7              |2025-05-06 14:30:34.353|\n",
       "|2025-05-06|Blount    |Alabama|1009|17   |0     |update_postimage|7              |2025-05-06 14:30:34.353|\n",
       "|2020-04-15|Bullock   |Alabama|1011|8    |0     |update_preimage |7              |2025-05-06 14:30:34.353|\n",
       "|2025-05-06|Bullock   |Alabama|1011|8    |0     |update_postimage|7              |2025-05-06 14:30:34.353|\n",
       "|2020-04-15|Butler    |Alabama|1013|11   |0     |update_preimage |7              |2025-05-06 14:30:34.353|\n",
       "|2025-05-06|Butler    |Alabama|1013|11   |0     |update_postimage|7              |2025-05-06 14:30:34.353|\n",
       "|2020-04-15|Calhoun   |Alabama|1015|62   |0     |update_preimage |7              |2025-05-06 14:30:34.353|\n",
       "|2025-05-06|Calhoun   |Alabama|1015|62   |0     |update_postimage|7              |2025-05-06 14:30:34.353|\n",
       "|2020-04-15|Chambers  |Alabama|1017|227  |10    |update_preimage |7              |2025-05-06 14:30:34.353|\n",
       "|2025-05-06|Chambers  |Alabama|1017|227  |10    |update_postimage|7              |2025-05-06 14:30:34.353|\n",
       "|2020-04-15|Cherokee  |Alabama|1019|10   |0     |update_preimage |7              |2025-05-06 14:30:34.353|\n",
       "|2025-05-06|Cherokee  |Alabama|1019|10   |0     |update_postimage|7              |2025-05-06 14:30:34.353|\n",
       "|2020-04-15|Chilton   |Alabama|1021|37   |0     |update_preimage |7              |2025-05-06 14:30:34.353|\n",
       "|2025-05-06|Chilton   |Alabama|1021|37   |0     |update_postimage|7              |2025-05-06 14:30:34.353|\n",
       "|2020-04-15|Choctaw   |Alabama|1023|13   |0     |update_preimage |7              |2025-05-06 14:30:34.353|\n",
       "|2025-05-06|Choctaw   |Alabama|1023|13   |0     |update_postimage|7              |2025-05-06 14:30:34.353|\n",
       "|2020-04-15|Clarke    |Alabama|1025|22   |0     |update_preimage |7              |2025-05-06 14:30:34.353|\n",
       "|2025-05-06|Clarke    |Alabama|1025|22   |0     |update_postimage|7              |2025-05-06 14:30:34.353|\n",
       "|2020-04-15|Clay      |Alabama|1027|14   |0     |update_preimage |7              |2025-05-06 14:30:34.353|\n",
       "|2025-05-06|Clay      |Alabama|1027|14   |0     |update_postimage|7              |2025-05-06 14:30:34.353|\n",
       "|2020-04-15|Cleburne  |Alabama|1029|12   |0     |update_preimage |7              |2025-05-06 14:30:34.353|\n",
       "|2020-04-15|Cleburne  |Alabama|1029|12   |0     |update_preimage |7              |2025-05-06 14:30:34.353|\n",
       "|2025-05-06|Cleburne  |Alabama|1029|12   |0     |update_postimage|7              |2025-05-06 14:30:34.353|\n",
       "|2025-05-06|Cleburne  |Alabama|1029|12   |0     |update_postimage|7              |2025-05-06 14:30:34.353|\n",
       "|2020-04-15|Coffee    |Alabama|1031|43   |0     |update_preimage |7              |2025-05-06 14:30:34.353|\n",
       "|2020-04-15|Coffee    |Alabama|1031|43   |0     |update_preimage |7              |2025-05-06 14:30:34.353|\n",
       "|2025-05-06|Coffee    |Alabama|1031|43   |0     |update_postimage|7              |2025-05-06 14:30:34.353|\n",
       "|2025-05-06|Coffee    |Alabama|1031|43   |0     |update_postimage|7              |2025-05-06 14:30:34.353|\n",
       "|2020-04-15|Colbert   |Alabama|1033|11   |1     |update_preimage |7              |2025-05-06 14:30:34.353|\n",
       "|2020-04-15|Colbert   |Alabama|1033|11   |1     |update_preimage |7              |2025-05-06 14:30:34.353|\n",
       "|2025-05-06|Colbert   |Alabama|1033|11   |1     |update_postimage|7              |2025-05-06 14:30:34.353|\n",
       "|2025-05-06|Colbert   |Alabama|1033|11   |1     |update_postimage|7              |2025-05-06 14:30:34.353|\n",
       "|2020-04-15|Conecuh   |Alabama|1035|6    |0     |update_preimage |7              |2025-05-06 14:30:34.353|\n",
       "|2025-05-06|Conecuh   |Alabama|1035|6    |0     |update_postimage|7              |2025-05-06 14:30:34.353|\n",
       "|2020-04-15|Coosa     |Alabama|1037|20   |1     |update_preimage |7              |2025-05-06 14:30:34.353|\n",
       "|2020-04-15|Coosa     |Alabama|1037|20   |1     |update_preimage |7              |2025-05-06 14:30:34.353|\n",
       "|2025-05-06|Coosa     |Alabama|1037|20   |1     |update_postimage|7              |2025-05-06 14:30:34.353|\n",
       "|2025-05-06|Coosa     |Alabama|1037|20   |1     |update_postimage|7              |2025-05-06 14:30:34.353|\n",
       "|2020-04-15|Covington |Alabama|1039|18   |0     |update_preimage |7              |2025-05-06 14:30:34.353|\n",
       "|2025-05-06|Covington |Alabama|1039|18   |0     |update_postimage|7              |2025-05-06 14:30:34.353|\n",
       "|2020-04-15|Crenshaw  |Alabama|1041|4    |0     |update_preimage |7              |2025-05-06 14:30:34.353|\n",
       "|2020-04-15|Crenshaw  |Alabama|1041|4    |0     |update_preimage |7              |2025-05-06 14:30:34.353|\n",
       "|2025-05-06|Crenshaw  |Alabama|1041|4    |0     |update_postimage|7              |2025-05-06 14:30:34.353|\n",
       "|2025-05-06|Crenshaw  |Alabama|1041|4    |0     |update_postimage|7              |2025-05-06 14:30:34.353|\n",
       "|2020-04-15|Cullman   |Alabama|1043|40   |1     |update_preimage |7              |2025-05-06 14:30:34.353|\n",
       "|2020-04-15|Cullman   |Alabama|1043|40   |1     |update_preimage |7              |2025-05-06 14:30:34.353|\n",
       "|2025-05-06|Cullman   |Alabama|1043|40   |1     |update_postimage|7              |2025-05-06 14:30:34.353|\n",
       "|2025-05-06|Cullman   |Alabama|1043|40   |1     |update_postimage|7              |2025-05-06 14:30:34.353|\n",
       "|2020-04-15|Dale      |Alabama|1045|13   |0     |update_preimage |7              |2025-05-06 14:30:34.353|\n",
       "|2025-05-06|Dale      |Alabama|1045|13   |0     |update_postimage|7              |2025-05-06 14:30:34.353|\n",
       "|2020-04-15|Dallas    |Alabama|1047|22   |2     |update_preimage |7              |2025-05-06 14:30:34.353|\n",
       "|2025-05-06|Dallas    |Alabama|1047|22   |2     |update_postimage|7              |2025-05-06 14:30:34.353|\n",
       "|2020-04-15|DeKalb    |Alabama|1049|31   |0     |update_preimage |7              |2025-05-06 14:30:34.353|\n",
       "|2025-05-06|DeKalb    |Alabama|1049|31   |0     |update_postimage|7              |2025-05-06 14:30:34.353|\n",
       "|2020-04-15|Elmore    |Alabama|1051|49   |0     |update_preimage |7              |2025-05-06 14:30:34.353|\n",
       "|2025-05-06|Elmore    |Alabama|1051|49   |0     |update_postimage|7              |2025-05-06 14:30:34.353|\n",
       "|2020-04-15|Escambia  |Alabama|1053|11   |0     |update_preimage |7              |2025-05-06 14:30:34.353|\n",
       "|2025-05-06|Escambia  |Alabama|1053|11   |0     |update_postimage|7              |2025-05-06 14:30:34.353|\n",
       "|2020-04-15|Etowah    |Alabama|1055|84   |8     |update_preimage |7              |2025-05-06 14:30:34.353|\n",
       "|2025-05-06|Etowah    |Alabama|1055|84   |8     |update_postimage|7              |2025-05-06 14:30:34.353|\n",
       "|2020-04-15|Fayette   |Alabama|1057|4    |0     |update_preimage |7              |2025-05-06 14:30:34.353|\n",
       "|2025-05-06|Fayette   |Alabama|1057|4    |0     |update_postimage|7              |2025-05-06 14:30:34.353|\n",
       "|2020-04-15|Franklin  |Alabama|1059|17   |1     |update_preimage |7              |2025-05-06 14:30:34.353|\n",
       "|2025-05-06|Franklin  |Alabama|1059|17   |1     |update_postimage|7              |2025-05-06 14:30:34.353|\n",
       "|2020-04-15|Geneva    |Alabama|1061|2    |0     |update_preimage |7              |2025-05-06 14:30:34.353|\n",
       "|2025-05-06|Geneva    |Alabama|1061|2    |0     |update_postimage|7              |2025-05-06 14:30:34.353|\n",
       "|2020-04-15|Greene    |Alabama|1063|19   |0     |update_preimage |7              |2025-05-06 14:30:34.353|\n",
       "|2025-05-06|Greene    |Alabama|1063|19   |0     |update_postimage|7              |2025-05-06 14:30:34.353|\n",
       "|2020-04-15|Hale      |Alabama|1065|20   |0     |update_preimage |7              |2025-05-06 14:30:34.353|\n",
       "|2020-04-15|Hale      |Alabama|1065|20   |0     |update_preimage |7              |2025-05-06 14:30:34.353|\n",
       "|2025-05-06|Hale      |Alabama|1065|20   |0     |update_postimage|7              |2025-05-06 14:30:34.353|\n",
       "|2025-05-06|Hale      |Alabama|1065|20   |0     |update_postimage|7              |2025-05-06 14:30:34.353|\n",
       "|2020-04-15|Henry     |Alabama|1067|15   |0     |update_preimage |7              |2025-05-06 14:30:34.353|\n",
       "|2025-05-06|Henry     |Alabama|1067|15   |0     |update_postimage|7              |2025-05-06 14:30:34.353|\n",
       "|2020-04-15|Houston   |Alabama|1069|55   |3     |update_preimage |7              |2025-05-06 14:30:34.353|\n",
       "|2025-05-06|Houston   |Alabama|1069|55   |3     |update_postimage|7              |2025-05-06 14:30:34.353|\n",
       "|2020-04-15|Jackson   |Alabama|1071|31   |2     |update_preimage |7              |2025-05-06 14:30:34.353|\n",
       "|2025-05-06|Jackson   |Alabama|1071|31   |2     |update_postimage|7              |2025-05-06 14:30:34.353|\n",
       "|2020-04-15|Jefferson |Alabama|1073|628  |17    |update_preimage |7              |2025-05-06 14:30:34.353|\n",
       "|2020-04-15|Jefferson |Alabama|1073|628  |17    |update_preimage |7              |2025-05-06 14:30:34.353|\n",
       "|2025-05-06|Jefferson |Alabama|1073|628  |17    |update_postimage|7              |2025-05-06 14:30:34.353|\n",
       "|2025-05-06|Jefferson |Alabama|1073|628  |17    |update_postimage|7              |2025-05-06 14:30:34.353|\n",
       "|2020-04-15|Lamar     |Alabama|1075|7    |0     |update_preimage |7              |2025-05-06 14:30:34.353|\n",
       "|2025-05-06|Lamar     |Alabama|1075|7    |0     |update_postimage|7              |2025-05-06 14:30:34.353|\n",
       "|2020-04-15|Lauderdale|Alabama|1077|22   |4     |update_preimage |7              |2025-05-06 14:30:34.353|\n",
       "|2025-05-06|Lauderdale|Alabama|1077|22   |4     |update_postimage|7              |2025-05-06 14:30:34.353|\n",
       "|2020-04-15|Lawrence  |Alabama|1079|8    |0     |update_preimage |7              |2025-05-06 14:30:34.353|\n",
       "|2025-05-06|Lawrence  |Alabama|1079|8    |0     |update_postimage|7              |2025-05-06 14:30:34.353|\n",
       "|2020-04-15|Lee       |Alabama|1081|285  |12    |update_preimage |7              |2025-05-06 14:30:34.353|\n",
       "|2020-04-15|Lee       |Alabama|1081|285  |12    |update_preimage |7              |2025-05-06 14:30:34.353|\n",
       "|2025-05-06|Lee       |Alabama|1081|285  |12    |update_postimage|7              |2025-05-06 14:30:34.353|\n",
       "|2025-05-06|Lee       |Alabama|1081|285  |12    |update_postimage|7              |2025-05-06 14:30:34.353|\n",
       "|2020-04-15|Limestone |Alabama|1083|38   |0     |update_preimage |7              |2025-05-06 14:30:34.353|\n",
       "|2025-05-06|Limestone |Alabama|1083|38   |0     |update_postimage|7              |2025-05-06 14:30:34.353|\n",
       "|2020-04-15|Lowndes   |Alabama|1085|23   |0     |update_preimage |7              |2025-05-06 14:30:34.353|\n",
       "|2025-05-06|Lowndes   |Alabama|1085|23   |0     |update_postimage|7              |2025-05-06 14:30:34.353|\n",
       "|2020-04-15|Macon     |Alabama|1087|19   |2     |update_preimage |7              |2025-05-06 14:30:34.353|\n",
       "|2025-05-06|Macon     |Alabama|1087|19   |2     |update_postimage|7              |2025-05-06 14:30:34.353|\n",
       "|2020-04-15|Madison   |Alabama|1089|194  |4     |update_preimage |7              |2025-05-06 14:30:34.353|\n",
       "|2025-05-06|Madison   |Alabama|1089|194  |4     |update_postimage|7              |2025-05-06 14:30:34.353|\n",
       "|2020-04-15|Marengo   |Alabama|1091|24   |1     |update_preimage |7              |2025-05-06 14:30:34.353|\n",
       "|2025-05-06|Marengo   |Alabama|1091|24   |1     |update_postimage|7              |2025-05-06 14:30:34.353|\n",
       "|2020-04-15|Marion    |Alabama|1093|58   |4     |update_preimage |7              |2025-05-06 14:30:34.353|\n",
       "|2025-05-06|Marion    |Alabama|1093|58   |4     |update_postimage|7              |2025-05-06 14:30:34.353|\n",
       "|2020-04-15|Marshall  |Alabama|1095|109  |2     |update_preimage |7              |2025-05-06 14:30:34.353|\n",
       "|2025-05-06|Marshall  |Alabama|1095|109  |2     |update_postimage|7              |2025-05-06 14:30:34.353|\n",
       "|2020-04-15|Mobile    |Alabama|1097|561  |19    |update_preimage |7              |2025-05-06 14:30:34.353|\n",
       "|2025-05-06|Mobile    |Alabama|1097|561  |19    |update_postimage|7              |2025-05-06 14:30:34.353|\n",
       "|2020-04-15|Monroe    |Alabama|1099|7    |1     |update_preimage |7              |2025-05-06 14:30:34.353|\n",
       "|2025-05-06|Monroe    |Alabama|1099|7    |1     |update_postimage|7              |2025-05-06 14:30:34.353|\n",
       "|2020-04-15|Montgomery|Alabama|1101|189  |5     |update_preimage |7              |2025-05-06 14:30:34.353|\n",
       "|2025-05-06|Montgomery|Alabama|1101|189  |5     |update_postimage|7              |2025-05-06 14:30:34.353|\n",
       "|2020-04-15|Morgan    |Alabama|1103|44   |0     |update_preimage |7              |2025-05-06 14:30:34.353|\n",
       "|2025-05-06|Morgan    |Alabama|1103|44   |0     |update_postimage|7              |2025-05-06 14:30:34.353|\n",
       "|2020-04-15|Perry     |Alabama|1105|7    |0     |update_preimage |7              |2025-05-06 14:30:34.353|\n",
       "|2020-04-15|Perry     |Alabama|1105|7    |0     |update_preimage |7              |2025-05-06 14:30:34.353|\n",
       "|2025-05-06|Perry     |Alabama|1105|7    |0     |update_postimage|7              |2025-05-06 14:30:34.353|\n",
       "|2025-05-06|Perry     |Alabama|1105|7    |0     |update_postimage|7              |2025-05-06 14:30:34.353|\n",
       "|2020-04-15|Pickens   |Alabama|1107|30   |0     |update_preimage |7              |2025-05-06 14:30:34.353|\n",
       "|2020-04-15|Pickens   |Alabama|1107|30   |0     |update_preimage |7              |2025-05-06 14:30:34.353|\n",
       "|2025-05-06|Pickens   |Alabama|1107|30   |0     |update_postimage|7              |2025-05-06 14:30:34.353|\n",
       "|2025-05-06|Pickens   |Alabama|1107|30   |0     |update_postimage|7              |2025-05-06 14:30:34.353|\n",
       "|2020-04-15|Pike      |Alabama|1109|27   |0     |update_preimage |7              |2025-05-06 14:30:34.353|\n",
       "|2020-04-15|Pike      |Alabama|1109|27   |0     |update_preimage |7              |2025-05-06 14:30:34.353|\n",
       "|2025-05-06|Pike      |Alabama|1109|27   |0     |update_postimage|7              |2025-05-06 14:30:34.353|\n",
       "|2025-05-06|Pike      |Alabama|1109|27   |0     |update_postimage|7              |2025-05-06 14:30:34.353|\n",
       "|2020-04-15|Randolph  |Alabama|1111|45   |4     |update_preimage |7              |2025-05-06 14:30:34.353|\n",
       "|2025-05-06|Randolph  |Alabama|1111|45   |4     |update_postimage|7              |2025-05-06 14:30:34.353|\n",
       "|2020-04-15|Russell   |Alabama|1113|31   |0     |update_preimage |7              |2025-05-06 14:30:34.353|\n",
       "|2025-05-06|Russell   |Alabama|1113|31   |0     |update_postimage|7              |2025-05-06 14:30:34.353|\n",
       "|2020-04-15|Shelby    |Alabama|1117|241  |7     |update_preimage |7              |2025-05-06 14:30:34.353|\n",
       "|2025-05-06|Shelby    |Alabama|1117|241  |7     |update_postimage|7              |2025-05-06 14:30:34.353|\n",
       "|2020-04-15|St. Clair |Alabama|1115|49   |0     |update_preimage |7              |2025-05-06 14:30:34.353|\n",
       "|2020-04-15|St. Clair |Alabama|1115|49   |0     |update_preimage |7              |2025-05-06 14:30:34.353|\n",
       "|2025-05-06|St. Clair |Alabama|1115|49   |0     |update_postimage|7              |2025-05-06 14:30:34.353|\n",
       "|2025-05-06|St. Clair |Alabama|1115|49   |0     |update_postimage|7              |2025-05-06 14:30:34.353|\n",
       "|2020-04-15|Sumter    |Alabama|1119|30   |0     |update_preimage |7              |2025-05-06 14:30:34.353|\n",
       "|2025-05-06|Sumter    |Alabama|1119|30   |0     |update_postimage|7              |2025-05-06 14:30:34.353|\n",
       "|2020-04-15|Talladega |Alabama|1121|40   |1     |update_preimage |7              |2025-05-06 14:30:34.353|\n",
       "|2025-05-06|Talladega |Alabama|1121|40   |1     |update_postimage|7              |2025-05-06 14:30:34.353|\n",
       "|2020-04-15|Tallapoosa|Alabama|1123|149  |7     |update_preimage |7              |2025-05-06 14:30:34.353|\n",
       "|2020-04-15|Tallapoosa|Alabama|1123|149  |7     |update_preimage |7              |2025-05-06 14:30:34.353|\n",
       "|2025-05-06|Tallapoosa|Alabama|1123|149  |7     |update_postimage|7              |2025-05-06 14:30:34.353|\n",
       "|2025-05-06|Tallapoosa|Alabama|1123|149  |7     |update_postimage|7              |2025-05-06 14:30:34.353|\n",
       "|2020-04-15|Tuscaloosa|Alabama|1125|131  |0     |update_preimage |7              |2025-05-06 14:30:34.353|\n",
       "|2025-05-06|Tuscaloosa|Alabama|1125|131  |0     |update_postimage|7              |2025-05-06 14:30:34.353|\n",
       "|2020-04-15|Walker    |Alabama|1127|85   |0     |update_preimage |7              |2025-05-06 14:30:34.353|\n",
       "|2020-04-15|Walker    |Alabama|1127|85   |0     |update_preimage |7              |2025-05-06 14:30:34.353|\n",
       "|2025-05-06|Walker    |Alabama|1127|85   |0     |update_postimage|7              |2025-05-06 14:30:34.353|\n",
       "|2025-05-06|Walker    |Alabama|1127|85   |0     |update_postimage|7              |2025-05-06 14:30:34.353|\n",
       "|2020-04-15|Washington|Alabama|1129|12   |1     |update_preimage |7              |2025-05-06 14:30:34.353|\n",
       "|2025-05-06|Washington|Alabama|1129|12   |1     |update_postimage|7              |2025-05-06 14:30:34.353|\n",
       "|2020-04-15|Wilcox    |Alabama|1131|38   |0     |update_preimage |7              |2025-05-06 14:30:34.353|\n",
       "|2020-04-15|Wilcox    |Alabama|1131|38   |0     |update_preimage |7              |2025-05-06 14:30:34.353|\n",
       "|2025-05-06|Wilcox    |Alabama|1131|38   |0     |update_postimage|7              |2025-05-06 14:30:34.353|\n",
       "|2025-05-06|Wilcox    |Alabama|1131|38   |0     |update_postimage|7              |2025-05-06 14:30:34.353|\n",
       "|2020-04-15|Winston   |Alabama|1133|7    |0     |update_preimage |7              |2025-05-06 14:30:34.353|\n",
       "|2025-05-06|Winston   |Alabama|1133|7    |0     |update_postimage|7              |2025-05-06 14:30:34.353|\n",
       "|2025-05-05|Clay      |Alabama|1027|14   |0     |update_postimage|8              |2025-05-06 16:45:02.314|\n",
       "|2025-05-06|Clay      |Alabama|1027|14   |0     |update_preimage |8              |2025-05-06 16:45:02.314|\n",
       "+----------+----------+-------+----+-----+------+----------------+---------------+-----------------------+"
      ]
     },
     "execution_count": 15,
     "metadata": {},
     "output_type": "execute_result"
    }
   ],
   "source": [
    "spark.sql(\n",
    "    \"\"\"\n",
    "        SELECT *\n",
    "        FROM cdf_batch_start_end_versions\n",
    "        ORDER BY _commit_timestamp, state, county, date \n",
    "    \"\"\"\n",
    ")"
   ]
  },
  {
   "cell_type": "code",
   "execution_count": 29,
   "id": "241f795f-ab7a-4105-93e1-5d940eac23e8",
   "metadata": {},
   "outputs": [
    {
     "data": {
      "text/html": [
       "<table border='1'>\n",
       "<tr><th>num_affected_rows</th></tr>\n",
       "<tr><td>1</td></tr>\n",
       "</table>\n"
      ],
      "text/plain": [
       "+-----------------+\n",
       "|num_affected_rows|\n",
       "+-----------------+\n",
       "|1                |\n",
       "+-----------------+"
      ]
     },
     "execution_count": 29,
     "metadata": {},
     "output_type": "execute_result"
    }
   ],
   "source": [
    "spark.sql(\n",
    "    \"\"\"\n",
    "        UPDATE default.covid_cdf_source_1\n",
    "        SET deaths = deaths + 1\n",
    "        WHERE county = 'Autauga' AND state = 'Alabama'\n",
    "    \"\"\"\n",
    ")"
   ]
  },
  {
   "cell_type": "code",
   "execution_count": 38,
   "id": "7c7629ec-4f3d-41ec-8830-5e6845e63c55",
   "metadata": {
    "scrolled": true
   },
   "outputs": [
    {
     "data": {
      "text/html": [
       "<table border='1'>\n",
       "<tr><th>version</th><th>timestamp</th><th>userId</th><th>userName</th><th>operation</th><th>operationParameters</th><th>job</th><th>notebook</th><th>clusterId</th><th>readVersion</th><th>isolationLevel</th><th>isBlindAppend</th><th>operationMetrics</th><th>userMetadata</th><th>engineInfo</th></tr>\n",
       "<tr><td>9</td><td>2025-05-12 20:59:21.219</td><td>NULL</td><td>NULL</td><td>UPDATE</td><td>{predicate -&gt; [&quot;((county#3692 = Autauga) AND (state#3693 = Alabama))&quot;]}</td><td>NULL</td><td>NULL</td><td>NULL</td><td>8</td><td>Serializable</td><td>false</td><td>{numRemovedFiles -&gt; 1, numRemovedBytes -&gt; 5516, numCopiedRows -&gt; 74, numDeletionVectorsAdded -&gt; 0, numDeletionVectorsRemoved -&gt; 0, numAddedChangeFiles -&gt; 1, executionTimeMs -&gt; 1756, numDeletionVectorsUpdated -&gt; 0, scanTimeMs -&gt; 1088, numAddedFiles -&gt; 1, numUpdatedRows -&gt; 1, numAddedBytes -&gt; 3369, rewriteTimeMs -&gt; 666}</td><td>NULL</td><td>Apache-Spark/3.5.4 Delta-Lake/3.2.0</td></tr>\n",
       "<tr><td>8</td><td>2025-05-06 16:45:02.314</td><td>NULL</td><td>NULL</td><td>UPDATE</td><td>{predicate -&gt; [&quot;(((date#55249 = 2025-05-06) AND (upper(state#55251) = ALABAMA)) AND (upper(county#55250) = CLAY))&quot;]}</td><td>NULL</td><td>NULL</td><td>NULL</td><td>7</td><td>Serializable</td><td>false</td><td>{numRemovedFiles -&gt; 1, numRemovedBytes -&gt; 5484, numCopiedRows -&gt; 74, numDeletionVectorsAdded -&gt; 0, numDeletionVectorsRemoved -&gt; 0, numAddedChangeFiles -&gt; 1, executionTimeMs -&gt; 631, numDeletionVectorsUpdated -&gt; 0, scanTimeMs -&gt; 365, numAddedFiles -&gt; 1, numUpdatedRows -&gt; 1, numAddedBytes -&gt; 3368, rewriteTimeMs -&gt; 266}</td><td>NULL</td><td>Apache-Spark/3.5.4 Delta-Lake/3.2.0</td></tr>\n",
       "<tr><td>7</td><td>2025-05-06 14:30:34.353</td><td>NULL</td><td>NULL</td><td>UPDATE</td><td>{predicate -&gt; [&quot;((date#42791 = 2020-04-15) AND upper(state#42793) IN (ALABAMA,ALASKA))&quot;]}</td><td>NULL</td><td>NULL</td><td>NULL</td><td>6</td><td>Serializable</td><td>false</td><td>{numRemovedFiles -&gt; 6, numRemovedBytes -&gt; 20182, numCopiedRows -&gt; 0, numDeletionVectorsAdded -&gt; 0, numDeletionVectorsRemoved -&gt; 0, numAddedChangeFiles -&gt; 3, executionTimeMs -&gt; 2143, numDeletionVectorsUpdated -&gt; 0, scanTimeMs -&gt; 359, numAddedFiles -&gt; 3, numUpdatedRows -&gt; 84, numAddedBytes -&gt; 7404, rewriteTimeMs -&gt; 1784}</td><td>NULL</td><td>Apache-Spark/3.5.4 Delta-Lake/3.2.0</td></tr>\n",
       "<tr><td>6</td><td>2025-05-06 14:22:11.91</td><td>NULL</td><td>NULL</td><td>WRITE</td><td>{mode -&gt; Append, partitionBy -&gt; []}</td><td>NULL</td><td>NULL</td><td>NULL</td><td>5</td><td>Serializable</td><td>true</td><td>{numFiles -&gt; 1, numOutputRows -&gt; 4, numOutputBytes -&gt; 1807}</td><td>NULL</td><td>Apache-Spark/3.5.4 Delta-Lake/3.2.0</td></tr>\n",
       "<tr><td>5</td><td>2025-05-06 14:22:11.306</td><td>NULL</td><td>NULL</td><td>WRITE</td><td>{mode -&gt; Append, partitionBy -&gt; []}</td><td>NULL</td><td>NULL</td><td>NULL</td><td>4</td><td>Serializable</td><td>true</td><td>{numFiles -&gt; 1, numOutputRows -&gt; 1, numOutputBytes -&gt; 1654}</td><td>NULL</td><td>Apache-Spark/3.5.4 Delta-Lake/3.2.0</td></tr>\n",
       "<tr><td>4</td><td>2025-05-06 14:22:10.66</td><td>NULL</td><td>NULL</td><td>WRITE</td><td>{mode -&gt; Append, partitionBy -&gt; []}</td><td>NULL</td><td>NULL</td><td>NULL</td><td>3</td><td>Serializable</td><td>true</td><td>{numFiles -&gt; 1, numOutputRows -&gt; 2, numOutputBytes -&gt; 1761}</td><td>NULL</td><td>Apache-Spark/3.5.4 Delta-Lake/3.2.0</td></tr>\n",
       "<tr><td>3</td><td>2025-05-06 14:22:09.981</td><td>NULL</td><td>NULL</td><td>WRITE</td><td>{mode -&gt; Append, partitionBy -&gt; []}</td><td>NULL</td><td>NULL</td><td>NULL</td><td>2</td><td>Serializable</td><td>true</td><td>{numFiles -&gt; 1, numOutputRows -&gt; 2, numOutputBytes -&gt; 1722}</td><td>NULL</td><td>Apache-Spark/3.5.4 Delta-Lake/3.2.0</td></tr>\n",
       "<tr><td>2</td><td>2025-05-06 14:22:09.232</td><td>NULL</td><td>NULL</td><td>WRITE</td><td>{mode -&gt; Append, partitionBy -&gt; []}</td><td>NULL</td><td>NULL</td><td>NULL</td><td>1</td><td>Serializable</td><td>true</td><td>{numFiles -&gt; 1, numOutputRows -&gt; 8, numOutputBytes -&gt; 1888}</td><td>NULL</td><td>Apache-Spark/3.5.4 Delta-Lake/3.2.0</td></tr>\n",
       "<tr><td>1</td><td>2025-05-06 14:19:24.866</td><td>NULL</td><td>NULL</td><td>SET TBLPROPERTIES</td><td>{properties -&gt; {&quot;delta.enableChangeDataFeed&quot;:&quot;true&quot;}}</td><td>NULL</td><td>NULL</td><td>NULL</td><td>0</td><td>Serializable</td><td>true</td><td>{}</td><td>NULL</td><td>Apache-Spark/3.5.4 Delta-Lake/3.2.0</td></tr>\n",
       "<tr><td>0</td><td>2025-05-06 14:19:01.248</td><td>NULL</td><td>NULL</td><td>CREATE TABLE AS SELECT</td><td>{partitionBy -&gt; [], clusterBy -&gt; [], description -&gt; NULL, isManaged -&gt; true, properties -&gt; {}}</td><td>NULL</td><td>NULL</td><td>NULL</td><td>NULL</td><td>Serializable</td><td>true</td><td>{numFiles -&gt; 1, numOutputRows -&gt; 67, numOutputBytes -&gt; 2988}</td><td>NULL</td><td>Apache-Spark/3.5.4 Delta-Lake/3.2.0</td></tr>\n",
       "</table>\n"
      ],
      "text/plain": [
       "+-------+-----------------------+------+--------+----------------------+--------------------------------------------------------------------------------------------------------------------+----+--------+---------+-----------+--------------+-------------+--------------------------------------------------------------------------------------------------------------------------------------------------------------------------------------------------------------------------------------------------------------------------------------------------------------------------------+------------+-----------------------------------+\n",
       "|version|timestamp              |userId|userName|operation             |operationParameters                                                                                                 |job |notebook|clusterId|readVersion|isolationLevel|isBlindAppend|operationMetrics                                                                                                                                                                                                                                                                                                                |userMetadata|engineInfo                         |\n",
       "+-------+-----------------------+------+--------+----------------------+--------------------------------------------------------------------------------------------------------------------+----+--------+---------+-----------+--------------+-------------+--------------------------------------------------------------------------------------------------------------------------------------------------------------------------------------------------------------------------------------------------------------------------------------------------------------------------------+------------+-----------------------------------+\n",
       "|9      |2025-05-12 20:59:21.219|NULL  |NULL    |UPDATE                |{predicate -> [\"((county#3692 = Autauga) AND (state#3693 = Alabama))\"]}                                             |NULL|NULL    |NULL     |8          |Serializable  |false        |{numRemovedFiles -> 1, numRemovedBytes -> 5516, numCopiedRows -> 74, numDeletionVectorsAdded -> 0, numDeletionVectorsRemoved -> 0, numAddedChangeFiles -> 1, executionTimeMs -> 1756, numDeletionVectorsUpdated -> 0, scanTimeMs -> 1088, numAddedFiles -> 1, numUpdatedRows -> 1, numAddedBytes -> 3369, rewriteTimeMs -> 666} |NULL        |Apache-Spark/3.5.4 Delta-Lake/3.2.0|\n",
       "|8      |2025-05-06 16:45:02.314|NULL  |NULL    |UPDATE                |{predicate -> [\"(((date#55249 = 2025-05-06) AND (upper(state#55251) = ALABAMA)) AND (upper(county#55250) = CLAY))\"]}|NULL|NULL    |NULL     |7          |Serializable  |false        |{numRemovedFiles -> 1, numRemovedBytes -> 5484, numCopiedRows -> 74, numDeletionVectorsAdded -> 0, numDeletionVectorsRemoved -> 0, numAddedChangeFiles -> 1, executionTimeMs -> 631, numDeletionVectorsUpdated -> 0, scanTimeMs -> 365, numAddedFiles -> 1, numUpdatedRows -> 1, numAddedBytes -> 3368, rewriteTimeMs -> 266}   |NULL        |Apache-Spark/3.5.4 Delta-Lake/3.2.0|\n",
       "|7      |2025-05-06 14:30:34.353|NULL  |NULL    |UPDATE                |{predicate -> [\"((date#42791 = 2020-04-15) AND upper(state#42793) IN (ALABAMA,ALASKA))\"]}                           |NULL|NULL    |NULL     |6          |Serializable  |false        |{numRemovedFiles -> 6, numRemovedBytes -> 20182, numCopiedRows -> 0, numDeletionVectorsAdded -> 0, numDeletionVectorsRemoved -> 0, numAddedChangeFiles -> 3, executionTimeMs -> 2143, numDeletionVectorsUpdated -> 0, scanTimeMs -> 359, numAddedFiles -> 3, numUpdatedRows -> 84, numAddedBytes -> 7404, rewriteTimeMs -> 1784}|NULL        |Apache-Spark/3.5.4 Delta-Lake/3.2.0|\n",
       "|6      |2025-05-06 14:22:11.91 |NULL  |NULL    |WRITE                 |{mode -> Append, partitionBy -> []}                                                                                 |NULL|NULL    |NULL     |5          |Serializable  |true         |{numFiles -> 1, numOutputRows -> 4, numOutputBytes -> 1807}                                                                                                                                                                                                                                                                     |NULL        |Apache-Spark/3.5.4 Delta-Lake/3.2.0|\n",
       "|5      |2025-05-06 14:22:11.306|NULL  |NULL    |WRITE                 |{mode -> Append, partitionBy -> []}                                                                                 |NULL|NULL    |NULL     |4          |Serializable  |true         |{numFiles -> 1, numOutputRows -> 1, numOutputBytes -> 1654}                                                                                                                                                                                                                                                                     |NULL        |Apache-Spark/3.5.4 Delta-Lake/3.2.0|\n",
       "|4      |2025-05-06 14:22:10.66 |NULL  |NULL    |WRITE                 |{mode -> Append, partitionBy -> []}                                                                                 |NULL|NULL    |NULL     |3          |Serializable  |true         |{numFiles -> 1, numOutputRows -> 2, numOutputBytes -> 1761}                                                                                                                                                                                                                                                                     |NULL        |Apache-Spark/3.5.4 Delta-Lake/3.2.0|\n",
       "|3      |2025-05-06 14:22:09.981|NULL  |NULL    |WRITE                 |{mode -> Append, partitionBy -> []}                                                                                 |NULL|NULL    |NULL     |2          |Serializable  |true         |{numFiles -> 1, numOutputRows -> 2, numOutputBytes -> 1722}                                                                                                                                                                                                                                                                     |NULL        |Apache-Spark/3.5.4 Delta-Lake/3.2.0|\n",
       "|2      |2025-05-06 14:22:09.232|NULL  |NULL    |WRITE                 |{mode -> Append, partitionBy -> []}                                                                                 |NULL|NULL    |NULL     |1          |Serializable  |true         |{numFiles -> 1, numOutputRows -> 8, numOutputBytes -> 1888}                                                                                                                                                                                                                                                                     |NULL        |Apache-Spark/3.5.4 Delta-Lake/3.2.0|\n",
       "|1      |2025-05-06 14:19:24.866|NULL  |NULL    |SET TBLPROPERTIES     |{properties -> {\"delta.enableChangeDataFeed\":\"true\"}}                                                               |NULL|NULL    |NULL     |0          |Serializable  |true         |{}                                                                                                                                                                                                                                                                                                                              |NULL        |Apache-Spark/3.5.4 Delta-Lake/3.2.0|\n",
       "|0      |2025-05-06 14:19:01.248|NULL  |NULL    |CREATE TABLE AS SELECT|{partitionBy -> [], clusterBy -> [], description -> NULL, isManaged -> true, properties -> {}}                      |NULL|NULL    |NULL     |NULL       |Serializable  |true         |{numFiles -> 1, numOutputRows -> 67, numOutputBytes -> 2988}                                                                                                                                                                                                                                                                    |NULL        |Apache-Spark/3.5.4 Delta-Lake/3.2.0|\n",
       "+-------+-----------------------+------+--------+----------------------+--------------------------------------------------------------------------------------------------------------------+----+--------+---------+-----------+--------------+-------------+--------------------------------------------------------------------------------------------------------------------------------------------------------------------------------------------------------------------------------------------------------------------------------------------------------------------------------+------------+-----------------------------------+"
      ]
     },
     "execution_count": 38,
     "metadata": {},
     "output_type": "execute_result"
    }
   ],
   "source": [
    "# CDF batch processing with start and end timestamps specified\n",
    "# But first need to find timestamp candidates\n",
    "\n",
    "from delta import DeltaTable\n",
    "\n",
    "dt_cdf_source_1 = DeltaTable.forPath(spark, \"./spark-warehouse/covid_cdf_source_1\")\n",
    "\n",
    "dt_cdf_source_1.history()"
   ]
  },
  {
   "cell_type": "code",
   "execution_count": null,
   "id": "a242619f-235d-48c2-8cb1-6fe2faf2a4c3",
   "metadata": {},
   "outputs": [],
   "source": []
  },
  {
   "cell_type": "code",
   "execution_count": 31,
   "id": "7cdc3026-d223-4bdf-a8b0-55b5a6d9e1c1",
   "metadata": {},
   "outputs": [],
   "source": [
    "# Timestamp Predicates\n",
    "# START - 2025-05-06 14:22:09.232 - 1 minute \n",
    "# END   - 2025-05-06 14:30:34.353 + 1 minute\n",
    "# IT IS NOT WELL WORKING, OR I AM USING WRONG TIMESTAMPS?\n",
    "cdf_batch_start_end_timestamps = (\n",
    "    spark\n",
    "    .read\n",
    "    .format(\"delta\")\n",
    "    .option(\"readChangeDataFeed\", \"true\")\n",
    "    # .option(\"startingTimestamp\", \"2025-05-06 14:21:09.232\")\n",
    "    # .option(\"endingTimestamp\", \"2025-05-06 16:31:34.353\") - No metadata included, timestamp is not exact Delta event from transaction log\n",
    "    .option(\"startingTimestamp\", \"2025-05-06 14:19:24.866\") # CDF Enabled -> ts from v1/ There are updated in this timespan\n",
    "    .option(\"endingTimestamp\", \"2025-05-12 20:59:21.219\t\") # v9 as upper boundary\n",
    "    .table(\"default.covid_cdf_source_1\")\n",
    ")\n",
    "\n",
    "cdf_batch_start_end_timestamps.createOrReplaceTempView(\"cdf_batch_start_end_timestamps\")"
   ]
  },
  {
   "cell_type": "code",
   "execution_count": 32,
   "id": "eb2a72dd-0af6-4c2b-b0c8-44f5ec2c176b",
   "metadata": {
    "scrolled": true
   },
   "outputs": [
    {
     "data": {
      "text/html": [
       "<table border='1'>\n",
       "<tr><th>date</th><th>county</th><th>state</th><th>fips</th><th>cases</th><th>deaths</th></tr>\n",
       "<tr><td>2025-05-06</td><td>Autauga</td><td>Alabama</td><td>1001</td><td>25</td><td>2</td></tr>\n",
       "<tr><td>2025-05-06</td><td>Baldwin</td><td>Alabama</td><td>1003</td><td>98</td><td>2</td></tr>\n",
       "<tr><td>2025-05-06</td><td>Barbour</td><td>Alabama</td><td>1005</td><td>13</td><td>0</td></tr>\n",
       "<tr><td>2025-05-06</td><td>Bibb</td><td>Alabama</td><td>1007</td><td>19</td><td>0</td></tr>\n",
       "<tr><td>2025-05-06</td><td>Bibb</td><td>Alabama</td><td>1007</td><td>19</td><td>0</td></tr>\n",
       "<tr><td>2025-05-06</td><td>Blount</td><td>Alabama</td><td>1009</td><td>17</td><td>0</td></tr>\n",
       "<tr><td>2025-05-06</td><td>Bullock</td><td>Alabama</td><td>1011</td><td>8</td><td>0</td></tr>\n",
       "<tr><td>2025-05-06</td><td>Butler</td><td>Alabama</td><td>1013</td><td>11</td><td>0</td></tr>\n",
       "<tr><td>2025-05-06</td><td>Calhoun</td><td>Alabama</td><td>1015</td><td>62</td><td>0</td></tr>\n",
       "<tr><td>2025-05-06</td><td>Chambers</td><td>Alabama</td><td>1017</td><td>227</td><td>10</td></tr>\n",
       "<tr><td>2025-05-06</td><td>Cherokee</td><td>Alabama</td><td>1019</td><td>10</td><td>0</td></tr>\n",
       "<tr><td>2025-05-06</td><td>Chilton</td><td>Alabama</td><td>1021</td><td>37</td><td>0</td></tr>\n",
       "<tr><td>2025-05-06</td><td>Choctaw</td><td>Alabama</td><td>1023</td><td>13</td><td>0</td></tr>\n",
       "<tr><td>2025-05-06</td><td>Clarke</td><td>Alabama</td><td>1025</td><td>22</td><td>0</td></tr>\n",
       "<tr><td>2025-05-05</td><td>Clay</td><td>Alabama</td><td>1027</td><td>14</td><td>0</td></tr>\n",
       "<tr><td>2025-05-06</td><td>Cleburne</td><td>Alabama</td><td>1029</td><td>12</td><td>0</td></tr>\n",
       "<tr><td>2025-05-06</td><td>Cleburne</td><td>Alabama</td><td>1029</td><td>12</td><td>0</td></tr>\n",
       "<tr><td>2025-05-06</td><td>Coffee</td><td>Alabama</td><td>1031</td><td>43</td><td>0</td></tr>\n",
       "<tr><td>2025-05-06</td><td>Coffee</td><td>Alabama</td><td>1031</td><td>43</td><td>0</td></tr>\n",
       "<tr><td>2025-05-06</td><td>Colbert</td><td>Alabama</td><td>1033</td><td>11</td><td>1</td></tr>\n",
       "<tr><td>2025-05-06</td><td>Colbert</td><td>Alabama</td><td>1033</td><td>11</td><td>1</td></tr>\n",
       "<tr><td>2025-05-06</td><td>Conecuh</td><td>Alabama</td><td>1035</td><td>6</td><td>0</td></tr>\n",
       "<tr><td>2025-05-06</td><td>Coosa</td><td>Alabama</td><td>1037</td><td>20</td><td>1</td></tr>\n",
       "<tr><td>2025-05-06</td><td>Coosa</td><td>Alabama</td><td>1037</td><td>20</td><td>1</td></tr>\n",
       "<tr><td>2025-05-06</td><td>Covington</td><td>Alabama</td><td>1039</td><td>18</td><td>0</td></tr>\n",
       "<tr><td>2025-05-06</td><td>Crenshaw</td><td>Alabama</td><td>1041</td><td>4</td><td>0</td></tr>\n",
       "<tr><td>2025-05-06</td><td>Crenshaw</td><td>Alabama</td><td>1041</td><td>4</td><td>0</td></tr>\n",
       "<tr><td>2025-05-06</td><td>Cullman</td><td>Alabama</td><td>1043</td><td>40</td><td>1</td></tr>\n",
       "<tr><td>2025-05-06</td><td>Cullman</td><td>Alabama</td><td>1043</td><td>40</td><td>1</td></tr>\n",
       "<tr><td>2025-05-06</td><td>Dale</td><td>Alabama</td><td>1045</td><td>13</td><td>0</td></tr>\n",
       "<tr><td>2025-05-06</td><td>Dallas</td><td>Alabama</td><td>1047</td><td>22</td><td>2</td></tr>\n",
       "<tr><td>2025-05-06</td><td>DeKalb</td><td>Alabama</td><td>1049</td><td>31</td><td>0</td></tr>\n",
       "<tr><td>2025-05-06</td><td>Elmore</td><td>Alabama</td><td>1051</td><td>49</td><td>0</td></tr>\n",
       "<tr><td>2025-05-06</td><td>Escambia</td><td>Alabama</td><td>1053</td><td>11</td><td>0</td></tr>\n",
       "<tr><td>2025-05-06</td><td>Etowah</td><td>Alabama</td><td>1055</td><td>84</td><td>8</td></tr>\n",
       "<tr><td>2025-05-06</td><td>Fayette</td><td>Alabama</td><td>1057</td><td>4</td><td>0</td></tr>\n",
       "<tr><td>2025-05-06</td><td>Franklin</td><td>Alabama</td><td>1059</td><td>17</td><td>1</td></tr>\n",
       "<tr><td>2025-05-06</td><td>Geneva</td><td>Alabama</td><td>1061</td><td>2</td><td>0</td></tr>\n",
       "<tr><td>2025-05-06</td><td>Greene</td><td>Alabama</td><td>1063</td><td>19</td><td>0</td></tr>\n",
       "<tr><td>2025-05-06</td><td>Hale</td><td>Alabama</td><td>1065</td><td>20</td><td>0</td></tr>\n",
       "<tr><td>2025-05-06</td><td>Hale</td><td>Alabama</td><td>1065</td><td>20</td><td>0</td></tr>\n",
       "<tr><td>2025-05-06</td><td>Henry</td><td>Alabama</td><td>1067</td><td>15</td><td>0</td></tr>\n",
       "<tr><td>2025-05-06</td><td>Houston</td><td>Alabama</td><td>1069</td><td>55</td><td>3</td></tr>\n",
       "<tr><td>2025-05-06</td><td>Jackson</td><td>Alabama</td><td>1071</td><td>31</td><td>2</td></tr>\n",
       "<tr><td>2025-05-06</td><td>Jefferson</td><td>Alabama</td><td>1073</td><td>628</td><td>17</td></tr>\n",
       "<tr><td>2025-05-06</td><td>Jefferson</td><td>Alabama</td><td>1073</td><td>628</td><td>17</td></tr>\n",
       "<tr><td>2025-05-06</td><td>Lamar</td><td>Alabama</td><td>1075</td><td>7</td><td>0</td></tr>\n",
       "<tr><td>2025-05-06</td><td>Lauderdale</td><td>Alabama</td><td>1077</td><td>22</td><td>4</td></tr>\n",
       "<tr><td>2025-05-06</td><td>Lawrence</td><td>Alabama</td><td>1079</td><td>8</td><td>0</td></tr>\n",
       "<tr><td>2025-05-06</td><td>Lee</td><td>Alabama</td><td>1081</td><td>285</td><td>12</td></tr>\n",
       "<tr><td>2025-05-06</td><td>Lee</td><td>Alabama</td><td>1081</td><td>285</td><td>12</td></tr>\n",
       "<tr><td>2025-05-06</td><td>Limestone</td><td>Alabama</td><td>1083</td><td>38</td><td>0</td></tr>\n",
       "<tr><td>2025-05-06</td><td>Lowndes</td><td>Alabama</td><td>1085</td><td>23</td><td>0</td></tr>\n",
       "<tr><td>2025-05-06</td><td>Macon</td><td>Alabama</td><td>1087</td><td>19</td><td>2</td></tr>\n",
       "<tr><td>2025-05-06</td><td>Madison</td><td>Alabama</td><td>1089</td><td>194</td><td>4</td></tr>\n",
       "<tr><td>2025-05-06</td><td>Marengo</td><td>Alabama</td><td>1091</td><td>24</td><td>1</td></tr>\n",
       "<tr><td>2025-05-06</td><td>Marion</td><td>Alabama</td><td>1093</td><td>58</td><td>4</td></tr>\n",
       "<tr><td>2025-05-06</td><td>Marshall</td><td>Alabama</td><td>1095</td><td>109</td><td>2</td></tr>\n",
       "<tr><td>2025-05-06</td><td>Mobile</td><td>Alabama</td><td>1097</td><td>561</td><td>19</td></tr>\n",
       "<tr><td>2025-05-06</td><td>Monroe</td><td>Alabama</td><td>1099</td><td>7</td><td>1</td></tr>\n",
       "<tr><td>2025-05-06</td><td>Montgomery</td><td>Alabama</td><td>1101</td><td>189</td><td>5</td></tr>\n",
       "<tr><td>2025-05-06</td><td>Morgan</td><td>Alabama</td><td>1103</td><td>44</td><td>0</td></tr>\n",
       "<tr><td>2025-05-06</td><td>Perry</td><td>Alabama</td><td>1105</td><td>7</td><td>0</td></tr>\n",
       "<tr><td>2025-05-06</td><td>Perry</td><td>Alabama</td><td>1105</td><td>7</td><td>0</td></tr>\n",
       "<tr><td>2025-05-06</td><td>Pickens</td><td>Alabama</td><td>1107</td><td>30</td><td>0</td></tr>\n",
       "<tr><td>2025-05-06</td><td>Pickens</td><td>Alabama</td><td>1107</td><td>30</td><td>0</td></tr>\n",
       "<tr><td>2025-05-06</td><td>Pike</td><td>Alabama</td><td>1109</td><td>27</td><td>0</td></tr>\n",
       "<tr><td>2025-05-06</td><td>Pike</td><td>Alabama</td><td>1109</td><td>27</td><td>0</td></tr>\n",
       "<tr><td>2025-05-06</td><td>Randolph</td><td>Alabama</td><td>1111</td><td>45</td><td>4</td></tr>\n",
       "<tr><td>2025-05-06</td><td>Russell</td><td>Alabama</td><td>1113</td><td>31</td><td>0</td></tr>\n",
       "<tr><td>2025-05-06</td><td>Shelby</td><td>Alabama</td><td>1117</td><td>241</td><td>7</td></tr>\n",
       "<tr><td>2025-05-06</td><td>St. Clair</td><td>Alabama</td><td>1115</td><td>49</td><td>0</td></tr>\n",
       "<tr><td>2025-05-06</td><td>St. Clair</td><td>Alabama</td><td>1115</td><td>49</td><td>0</td></tr>\n",
       "<tr><td>2025-05-06</td><td>Sumter</td><td>Alabama</td><td>1119</td><td>30</td><td>0</td></tr>\n",
       "<tr><td>2025-05-06</td><td>Talladega</td><td>Alabama</td><td>1121</td><td>40</td><td>1</td></tr>\n",
       "<tr><td>2025-05-06</td><td>Tallapoosa</td><td>Alabama</td><td>1123</td><td>149</td><td>7</td></tr>\n",
       "<tr><td>2025-05-06</td><td>Tallapoosa</td><td>Alabama</td><td>1123</td><td>149</td><td>7</td></tr>\n",
       "<tr><td>2025-05-06</td><td>Tuscaloosa</td><td>Alabama</td><td>1125</td><td>131</td><td>0</td></tr>\n",
       "<tr><td>2025-05-06</td><td>Walker</td><td>Alabama</td><td>1127</td><td>85</td><td>0</td></tr>\n",
       "<tr><td>2025-05-06</td><td>Walker</td><td>Alabama</td><td>1127</td><td>85</td><td>0</td></tr>\n",
       "<tr><td>2025-05-06</td><td>Washington</td><td>Alabama</td><td>1129</td><td>12</td><td>1</td></tr>\n",
       "<tr><td>2025-05-06</td><td>Wilcox</td><td>Alabama</td><td>1131</td><td>38</td><td>0</td></tr>\n",
       "<tr><td>2025-05-06</td><td>Wilcox</td><td>Alabama</td><td>1131</td><td>38</td><td>0</td></tr>\n",
       "<tr><td>2025-05-06</td><td>Winston</td><td>Alabama</td><td>1133</td><td>7</td><td>0</td></tr>\n",
       "</table>\n"
      ],
      "text/plain": [
       "+----------+----------+-------+----+-----+------+\n",
       "|date      |county    |state  |fips|cases|deaths|\n",
       "+----------+----------+-------+----+-----+------+\n",
       "|2025-05-06|Autauga   |Alabama|1001|25   |2     |\n",
       "|2025-05-06|Baldwin   |Alabama|1003|98   |2     |\n",
       "|2025-05-06|Barbour   |Alabama|1005|13   |0     |\n",
       "|2025-05-06|Bibb      |Alabama|1007|19   |0     |\n",
       "|2025-05-06|Bibb      |Alabama|1007|19   |0     |\n",
       "|2025-05-06|Blount    |Alabama|1009|17   |0     |\n",
       "|2025-05-06|Bullock   |Alabama|1011|8    |0     |\n",
       "|2025-05-06|Butler    |Alabama|1013|11   |0     |\n",
       "|2025-05-06|Calhoun   |Alabama|1015|62   |0     |\n",
       "|2025-05-06|Chambers  |Alabama|1017|227  |10    |\n",
       "|2025-05-06|Cherokee  |Alabama|1019|10   |0     |\n",
       "|2025-05-06|Chilton   |Alabama|1021|37   |0     |\n",
       "|2025-05-06|Choctaw   |Alabama|1023|13   |0     |\n",
       "|2025-05-06|Clarke    |Alabama|1025|22   |0     |\n",
       "|2025-05-05|Clay      |Alabama|1027|14   |0     |\n",
       "|2025-05-06|Cleburne  |Alabama|1029|12   |0     |\n",
       "|2025-05-06|Cleburne  |Alabama|1029|12   |0     |\n",
       "|2025-05-06|Coffee    |Alabama|1031|43   |0     |\n",
       "|2025-05-06|Coffee    |Alabama|1031|43   |0     |\n",
       "|2025-05-06|Colbert   |Alabama|1033|11   |1     |\n",
       "|2025-05-06|Colbert   |Alabama|1033|11   |1     |\n",
       "|2025-05-06|Conecuh   |Alabama|1035|6    |0     |\n",
       "|2025-05-06|Coosa     |Alabama|1037|20   |1     |\n",
       "|2025-05-06|Coosa     |Alabama|1037|20   |1     |\n",
       "|2025-05-06|Covington |Alabama|1039|18   |0     |\n",
       "|2025-05-06|Crenshaw  |Alabama|1041|4    |0     |\n",
       "|2025-05-06|Crenshaw  |Alabama|1041|4    |0     |\n",
       "|2025-05-06|Cullman   |Alabama|1043|40   |1     |\n",
       "|2025-05-06|Cullman   |Alabama|1043|40   |1     |\n",
       "|2025-05-06|Dale      |Alabama|1045|13   |0     |\n",
       "|2025-05-06|Dallas    |Alabama|1047|22   |2     |\n",
       "|2025-05-06|DeKalb    |Alabama|1049|31   |0     |\n",
       "|2025-05-06|Elmore    |Alabama|1051|49   |0     |\n",
       "|2025-05-06|Escambia  |Alabama|1053|11   |0     |\n",
       "|2025-05-06|Etowah    |Alabama|1055|84   |8     |\n",
       "|2025-05-06|Fayette   |Alabama|1057|4    |0     |\n",
       "|2025-05-06|Franklin  |Alabama|1059|17   |1     |\n",
       "|2025-05-06|Geneva    |Alabama|1061|2    |0     |\n",
       "|2025-05-06|Greene    |Alabama|1063|19   |0     |\n",
       "|2025-05-06|Hale      |Alabama|1065|20   |0     |\n",
       "|2025-05-06|Hale      |Alabama|1065|20   |0     |\n",
       "|2025-05-06|Henry     |Alabama|1067|15   |0     |\n",
       "|2025-05-06|Houston   |Alabama|1069|55   |3     |\n",
       "|2025-05-06|Jackson   |Alabama|1071|31   |2     |\n",
       "|2025-05-06|Jefferson |Alabama|1073|628  |17    |\n",
       "|2025-05-06|Jefferson |Alabama|1073|628  |17    |\n",
       "|2025-05-06|Lamar     |Alabama|1075|7    |0     |\n",
       "|2025-05-06|Lauderdale|Alabama|1077|22   |4     |\n",
       "|2025-05-06|Lawrence  |Alabama|1079|8    |0     |\n",
       "|2025-05-06|Lee       |Alabama|1081|285  |12    |\n",
       "|2025-05-06|Lee       |Alabama|1081|285  |12    |\n",
       "|2025-05-06|Limestone |Alabama|1083|38   |0     |\n",
       "|2025-05-06|Lowndes   |Alabama|1085|23   |0     |\n",
       "|2025-05-06|Macon     |Alabama|1087|19   |2     |\n",
       "|2025-05-06|Madison   |Alabama|1089|194  |4     |\n",
       "|2025-05-06|Marengo   |Alabama|1091|24   |1     |\n",
       "|2025-05-06|Marion    |Alabama|1093|58   |4     |\n",
       "|2025-05-06|Marshall  |Alabama|1095|109  |2     |\n",
       "|2025-05-06|Mobile    |Alabama|1097|561  |19    |\n",
       "|2025-05-06|Monroe    |Alabama|1099|7    |1     |\n",
       "|2025-05-06|Montgomery|Alabama|1101|189  |5     |\n",
       "|2025-05-06|Morgan    |Alabama|1103|44   |0     |\n",
       "|2025-05-06|Perry     |Alabama|1105|7    |0     |\n",
       "|2025-05-06|Perry     |Alabama|1105|7    |0     |\n",
       "|2025-05-06|Pickens   |Alabama|1107|30   |0     |\n",
       "|2025-05-06|Pickens   |Alabama|1107|30   |0     |\n",
       "|2025-05-06|Pike      |Alabama|1109|27   |0     |\n",
       "|2025-05-06|Pike      |Alabama|1109|27   |0     |\n",
       "|2025-05-06|Randolph  |Alabama|1111|45   |4     |\n",
       "|2025-05-06|Russell   |Alabama|1113|31   |0     |\n",
       "|2025-05-06|Shelby    |Alabama|1117|241  |7     |\n",
       "|2025-05-06|St. Clair |Alabama|1115|49   |0     |\n",
       "|2025-05-06|St. Clair |Alabama|1115|49   |0     |\n",
       "|2025-05-06|Sumter    |Alabama|1119|30   |0     |\n",
       "|2025-05-06|Talladega |Alabama|1121|40   |1     |\n",
       "|2025-05-06|Tallapoosa|Alabama|1123|149  |7     |\n",
       "|2025-05-06|Tallapoosa|Alabama|1123|149  |7     |\n",
       "|2025-05-06|Tuscaloosa|Alabama|1125|131  |0     |\n",
       "|2025-05-06|Walker    |Alabama|1127|85   |0     |\n",
       "|2025-05-06|Walker    |Alabama|1127|85   |0     |\n",
       "|2025-05-06|Washington|Alabama|1129|12   |1     |\n",
       "|2025-05-06|Wilcox    |Alabama|1131|38   |0     |\n",
       "|2025-05-06|Wilcox    |Alabama|1131|38   |0     |\n",
       "|2025-05-06|Winston   |Alabama|1133|7    |0     |\n",
       "+----------+----------+-------+----+-----+------+"
      ]
     },
     "execution_count": 32,
     "metadata": {},
     "output_type": "execute_result"
    }
   ],
   "source": [
    "spark.sql(\n",
    "    \"\"\"\n",
    "        SELECT *\n",
    "        FROM cdf_batch_start_end_timestamps\n",
    "        ORDER BY state, county, date \n",
    "    \"\"\"\n",
    ")"
   ]
  },
  {
   "cell_type": "code",
   "execution_count": 10,
   "id": "2985aa58-e68c-4b0a-abcc-3bce11a94cf7",
   "metadata": {},
   "outputs": [
    {
     "data": {
      "text/html": [
       "<table border='1'>\n",
       "<tr><th>date</th><th>county</th><th>state</th><th>fips</th><th>cases</th><th>deaths</th></tr>\n",
       "<tr><td>2025-05-06</td><td>Autauga</td><td>Alabama</td><td>1001</td><td>25</td><td>1</td></tr>\n",
       "</table>\n"
      ],
      "text/plain": [
       "+----------+-------+-------+----+-----+------+\n",
       "|date      |county |state  |fips|cases|deaths|\n",
       "+----------+-------+-------+----+-----+------+\n",
       "|2025-05-06|Autauga|Alabama|1001|25   |1     |\n",
       "+----------+-------+-------+----+-----+------+"
      ]
     },
     "execution_count": 10,
     "metadata": {},
     "output_type": "execute_result"
    }
   ],
   "source": [
    "spark.sql(\n",
    "    \"\"\"\n",
    "        SELECT *\n",
    "        FROM default.covid_cdf_source_1 VERSION AS OF 8\n",
    "        WHERE county = 'Autauga' AND state = 'Alabama' \n",
    "    \"\"\"\n",
    ")"
   ]
  },
  {
   "cell_type": "code",
   "execution_count": null,
   "id": "b6864f4b-812d-4062-9ad3-613fa1953ec0",
   "metadata": {},
   "outputs": [],
   "source": [
    "# CDF batch processing with only starting version and timestamps\n",
    "\n",
    "# 1. starting timestamp only\n",
    "\n",
    "cdf_batch_start_time_only = (\n",
    "    spark\n",
    "    .read\n",
    "    .format(\"delta\")\n",
    "    .option(\"readChangeDataFeed\", \"true\")\n",
    "    .option(\"startingTimestamp\", \"2025-05-06 14:22:09.232\")\n",
    "    .table(\"default.covid_cdf_source_1\")\n",
    ")\n",
    "\n",
    "cdf_batch_start_version_only.createOrReplaceTempView(\"cdf_batch_start_time_only\")"
   ]
  },
  {
   "cell_type": "code",
   "execution_count": null,
   "id": "98ffef50-fa60-4a8d-ba9d-69690a450f69",
   "metadata": {
    "scrolled": true
   },
   "outputs": [],
   "source": [
    "spark.sql(\n",
    "    \"\"\"\n",
    "        SELECT *\n",
    "        FROM cdf_batch_start_time_only\n",
    "        ORDER BY _commit_timestamp desc, state, county, date \n",
    "    \"\"\"\n",
    ")"
   ]
  },
  {
   "cell_type": "code",
   "execution_count": 80,
   "id": "b5282dae-b9ed-4243-9d68-9c605162e9ca",
   "metadata": {},
   "outputs": [],
   "source": [
    "# 1. starting version only\n",
    "\n",
    "cdf_batch_start_version_only = (\n",
    "    spark\n",
    "    .read\n",
    "    .format(\"delta\")\n",
    "    .option(\"readChangeDataFeed\", \"true\")\n",
    "    .option(\"startingVersion\", 7)\n",
    "    .table(\"default.covid_cdf_source_1\")\n",
    ")\n",
    "\n",
    "cdf_batch_start_version_only.createOrReplaceTempView(\"cdf_batch_start_version_only\")"
   ]
  },
  {
   "cell_type": "code",
   "execution_count": 83,
   "id": "d572cf22-baa7-4230-b5df-c87df337fe31",
   "metadata": {
    "scrolled": true
   },
   "outputs": [
    {
     "data": {
      "text/html": [
       "<table border='1'>\n",
       "<tr><th>date</th><th>county</th><th>state</th><th>fips</th><th>cases</th><th>deaths</th></tr>\n",
       "<tr><td>2025-05-06</td><td>Bibb</td><td>Alabama</td><td>1007</td><td>19</td><td>0</td></tr>\n",
       "<tr><td>2025-05-06</td><td>Coffee</td><td>Alabama</td><td>1031</td><td>43</td><td>0</td></tr>\n",
       "<tr><td>2025-05-06</td><td>Autauga</td><td>Alabama</td><td>1001</td><td>25</td><td>2</td></tr>\n",
       "<tr><td>2025-05-06</td><td>Coosa</td><td>Alabama</td><td>1037</td><td>20</td><td>1</td></tr>\n",
       "<tr><td>2025-05-06</td><td>Crenshaw</td><td>Alabama</td><td>1041</td><td>4</td><td>0</td></tr>\n",
       "<tr><td>2025-05-06</td><td>Wilcox</td><td>Alabama</td><td>1131</td><td>38</td><td>0</td></tr>\n",
       "<tr><td>2025-05-06</td><td>Baldwin</td><td>Alabama</td><td>1003</td><td>98</td><td>2</td></tr>\n",
       "<tr><td>2025-05-06</td><td>Jefferson</td><td>Alabama</td><td>1073</td><td>628</td><td>17</td></tr>\n",
       "<tr><td>2025-05-06</td><td>Barbour</td><td>Alabama</td><td>1005</td><td>13</td><td>0</td></tr>\n",
       "<tr><td>2025-05-06</td><td>St. Clair</td><td>Alabama</td><td>1115</td><td>49</td><td>0</td></tr>\n",
       "<tr><td>2025-05-06</td><td>Bibb</td><td>Alabama</td><td>1007</td><td>19</td><td>0</td></tr>\n",
       "<tr><td>2025-05-06</td><td>Cleburne</td><td>Alabama</td><td>1029</td><td>12</td><td>0</td></tr>\n",
       "<tr><td>2025-05-06</td><td>Blount</td><td>Alabama</td><td>1009</td><td>17</td><td>0</td></tr>\n",
       "<tr><td>2025-05-06</td><td>Walker</td><td>Alabama</td><td>1127</td><td>85</td><td>0</td></tr>\n",
       "<tr><td>2025-05-06</td><td>Bullock</td><td>Alabama</td><td>1011</td><td>8</td><td>0</td></tr>\n",
       "<tr><td>2025-05-06</td><td>Butler</td><td>Alabama</td><td>1013</td><td>11</td><td>0</td></tr>\n",
       "<tr><td>2025-05-06</td><td>Calhoun</td><td>Alabama</td><td>1015</td><td>62</td><td>0</td></tr>\n",
       "<tr><td>2025-05-06</td><td>Chambers</td><td>Alabama</td><td>1017</td><td>227</td><td>10</td></tr>\n",
       "<tr><td>2025-05-06</td><td>Cherokee</td><td>Alabama</td><td>1019</td><td>10</td><td>0</td></tr>\n",
       "<tr><td>2025-05-06</td><td>Chilton</td><td>Alabama</td><td>1021</td><td>37</td><td>0</td></tr>\n",
       "<tr><td>2025-05-06</td><td>Choctaw</td><td>Alabama</td><td>1023</td><td>13</td><td>0</td></tr>\n",
       "<tr><td>2025-05-06</td><td>Clarke</td><td>Alabama</td><td>1025</td><td>22</td><td>0</td></tr>\n",
       "<tr><td>2025-05-06</td><td>Cleburne</td><td>Alabama</td><td>1029</td><td>12</td><td>0</td></tr>\n",
       "<tr><td>2025-05-06</td><td>Coffee</td><td>Alabama</td><td>1031</td><td>43</td><td>0</td></tr>\n",
       "<tr><td>2025-05-06</td><td>Colbert</td><td>Alabama</td><td>1033</td><td>11</td><td>1</td></tr>\n",
       "<tr><td>2025-05-06</td><td>Conecuh</td><td>Alabama</td><td>1035</td><td>6</td><td>0</td></tr>\n",
       "<tr><td>2025-05-06</td><td>Coosa</td><td>Alabama</td><td>1037</td><td>20</td><td>1</td></tr>\n",
       "<tr><td>2025-05-06</td><td>Covington</td><td>Alabama</td><td>1039</td><td>18</td><td>0</td></tr>\n",
       "<tr><td>2025-05-06</td><td>Crenshaw</td><td>Alabama</td><td>1041</td><td>4</td><td>0</td></tr>\n",
       "<tr><td>2025-05-06</td><td>Cullman</td><td>Alabama</td><td>1043</td><td>40</td><td>1</td></tr>\n",
       "<tr><td>2025-05-06</td><td>Dale</td><td>Alabama</td><td>1045</td><td>13</td><td>0</td></tr>\n",
       "<tr><td>2025-05-06</td><td>Dallas</td><td>Alabama</td><td>1047</td><td>22</td><td>2</td></tr>\n",
       "<tr><td>2025-05-06</td><td>DeKalb</td><td>Alabama</td><td>1049</td><td>31</td><td>0</td></tr>\n",
       "<tr><td>2025-05-06</td><td>Elmore</td><td>Alabama</td><td>1051</td><td>49</td><td>0</td></tr>\n",
       "<tr><td>2025-05-06</td><td>Escambia</td><td>Alabama</td><td>1053</td><td>11</td><td>0</td></tr>\n",
       "<tr><td>2025-05-06</td><td>Etowah</td><td>Alabama</td><td>1055</td><td>84</td><td>8</td></tr>\n",
       "<tr><td>2025-05-06</td><td>Fayette</td><td>Alabama</td><td>1057</td><td>4</td><td>0</td></tr>\n",
       "<tr><td>2025-05-06</td><td>Franklin</td><td>Alabama</td><td>1059</td><td>17</td><td>1</td></tr>\n",
       "<tr><td>2025-05-06</td><td>Geneva</td><td>Alabama</td><td>1061</td><td>2</td><td>0</td></tr>\n",
       "<tr><td>2025-05-06</td><td>Greene</td><td>Alabama</td><td>1063</td><td>19</td><td>0</td></tr>\n",
       "<tr><td>2025-05-06</td><td>Hale</td><td>Alabama</td><td>1065</td><td>20</td><td>0</td></tr>\n",
       "<tr><td>2025-05-06</td><td>Henry</td><td>Alabama</td><td>1067</td><td>15</td><td>0</td></tr>\n",
       "<tr><td>2025-05-06</td><td>Houston</td><td>Alabama</td><td>1069</td><td>55</td><td>3</td></tr>\n",
       "<tr><td>2025-05-06</td><td>Jackson</td><td>Alabama</td><td>1071</td><td>31</td><td>2</td></tr>\n",
       "<tr><td>2025-05-06</td><td>Jefferson</td><td>Alabama</td><td>1073</td><td>628</td><td>17</td></tr>\n",
       "<tr><td>2025-05-06</td><td>Lamar</td><td>Alabama</td><td>1075</td><td>7</td><td>0</td></tr>\n",
       "<tr><td>2025-05-06</td><td>Lauderdale</td><td>Alabama</td><td>1077</td><td>22</td><td>4</td></tr>\n",
       "<tr><td>2025-05-06</td><td>Lawrence</td><td>Alabama</td><td>1079</td><td>8</td><td>0</td></tr>\n",
       "<tr><td>2025-05-06</td><td>Lee</td><td>Alabama</td><td>1081</td><td>285</td><td>12</td></tr>\n",
       "<tr><td>2025-05-06</td><td>Limestone</td><td>Alabama</td><td>1083</td><td>38</td><td>0</td></tr>\n",
       "<tr><td>2025-05-06</td><td>Lowndes</td><td>Alabama</td><td>1085</td><td>23</td><td>0</td></tr>\n",
       "<tr><td>2025-05-06</td><td>Macon</td><td>Alabama</td><td>1087</td><td>19</td><td>2</td></tr>\n",
       "<tr><td>2025-05-06</td><td>Madison</td><td>Alabama</td><td>1089</td><td>194</td><td>4</td></tr>\n",
       "<tr><td>2025-05-06</td><td>Marengo</td><td>Alabama</td><td>1091</td><td>24</td><td>1</td></tr>\n",
       "<tr><td>2025-05-06</td><td>Marion</td><td>Alabama</td><td>1093</td><td>58</td><td>4</td></tr>\n",
       "<tr><td>2025-05-06</td><td>Marshall</td><td>Alabama</td><td>1095</td><td>109</td><td>2</td></tr>\n",
       "<tr><td>2025-05-06</td><td>Mobile</td><td>Alabama</td><td>1097</td><td>561</td><td>19</td></tr>\n",
       "<tr><td>2025-05-06</td><td>Monroe</td><td>Alabama</td><td>1099</td><td>7</td><td>1</td></tr>\n",
       "<tr><td>2025-05-06</td><td>Montgomery</td><td>Alabama</td><td>1101</td><td>189</td><td>5</td></tr>\n",
       "<tr><td>2025-05-06</td><td>Morgan</td><td>Alabama</td><td>1103</td><td>44</td><td>0</td></tr>\n",
       "<tr><td>2025-05-06</td><td>Perry</td><td>Alabama</td><td>1105</td><td>7</td><td>0</td></tr>\n",
       "<tr><td>2025-05-06</td><td>Pickens</td><td>Alabama</td><td>1107</td><td>30</td><td>0</td></tr>\n",
       "<tr><td>2025-05-06</td><td>Pike</td><td>Alabama</td><td>1109</td><td>27</td><td>0</td></tr>\n",
       "<tr><td>2025-05-06</td><td>Randolph</td><td>Alabama</td><td>1111</td><td>45</td><td>4</td></tr>\n",
       "<tr><td>2025-05-06</td><td>Russell</td><td>Alabama</td><td>1113</td><td>31</td><td>0</td></tr>\n",
       "<tr><td>2025-05-06</td><td>Shelby</td><td>Alabama</td><td>1117</td><td>241</td><td>7</td></tr>\n",
       "<tr><td>2025-05-06</td><td>St. Clair</td><td>Alabama</td><td>1115</td><td>49</td><td>0</td></tr>\n",
       "<tr><td>2025-05-06</td><td>Sumter</td><td>Alabama</td><td>1119</td><td>30</td><td>0</td></tr>\n",
       "<tr><td>2025-05-06</td><td>Talladega</td><td>Alabama</td><td>1121</td><td>40</td><td>1</td></tr>\n",
       "<tr><td>2025-05-06</td><td>Tallapoosa</td><td>Alabama</td><td>1123</td><td>149</td><td>7</td></tr>\n",
       "<tr><td>2025-05-06</td><td>Tuscaloosa</td><td>Alabama</td><td>1125</td><td>131</td><td>0</td></tr>\n",
       "<tr><td>2025-05-06</td><td>Walker</td><td>Alabama</td><td>1127</td><td>85</td><td>0</td></tr>\n",
       "<tr><td>2025-05-06</td><td>Washington</td><td>Alabama</td><td>1129</td><td>12</td><td>1</td></tr>\n",
       "<tr><td>2025-05-06</td><td>Wilcox</td><td>Alabama</td><td>1131</td><td>38</td><td>0</td></tr>\n",
       "<tr><td>2025-05-06</td><td>Winston</td><td>Alabama</td><td>1133</td><td>7</td><td>0</td></tr>\n",
       "<tr><td>2025-05-06</td><td>Colbert</td><td>Alabama</td><td>1033</td><td>11</td><td>1</td></tr>\n",
       "<tr><td>2025-05-06</td><td>Cullman</td><td>Alabama</td><td>1043</td><td>40</td><td>1</td></tr>\n",
       "<tr><td>2025-05-06</td><td>Hale</td><td>Alabama</td><td>1065</td><td>20</td><td>0</td></tr>\n",
       "<tr><td>2025-05-06</td><td>Lee</td><td>Alabama</td><td>1081</td><td>285</td><td>12</td></tr>\n",
       "<tr><td>2025-05-06</td><td>Perry</td><td>Alabama</td><td>1105</td><td>7</td><td>0</td></tr>\n",
       "<tr><td>2025-05-06</td><td>Pickens</td><td>Alabama</td><td>1107</td><td>30</td><td>0</td></tr>\n",
       "<tr><td>2025-05-06</td><td>Pike</td><td>Alabama</td><td>1109</td><td>27</td><td>0</td></tr>\n",
       "<tr><td>2025-05-06</td><td>Tallapoosa</td><td>Alabama</td><td>1123</td><td>149</td><td>7</td></tr>\n",
       "<tr><td>2025-05-05</td><td>Clay</td><td>Alabama</td><td>1027</td><td>14</td><td>0</td></tr>\n",
       "</table>\n"
      ],
      "text/plain": [
       "+----------+----------+-------+----+-----+------+\n",
       "|date      |county    |state  |fips|cases|deaths|\n",
       "+----------+----------+-------+----+-----+------+\n",
       "|2025-05-06|Coffee    |Alabama|1031|43   |0     |\n",
       "|2025-05-06|Autauga   |Alabama|1001|25   |2     |\n",
       "|2025-05-06|Bibb      |Alabama|1007|19   |0     |\n",
       "|2025-05-06|Baldwin   |Alabama|1003|98   |2     |\n",
       "|2025-05-06|Coosa     |Alabama|1037|20   |1     |\n",
       "|2025-05-06|Barbour   |Alabama|1005|13   |0     |\n",
       "|2025-05-06|Crenshaw  |Alabama|1041|4    |0     |\n",
       "|2025-05-06|Bibb      |Alabama|1007|19   |0     |\n",
       "|2025-05-06|Wilcox    |Alabama|1131|38   |0     |\n",
       "|2025-05-06|Blount    |Alabama|1009|17   |0     |\n",
       "|2025-05-06|Jefferson |Alabama|1073|628  |17    |\n",
       "|2025-05-06|Bullock   |Alabama|1011|8    |0     |\n",
       "|2025-05-06|St. Clair |Alabama|1115|49   |0     |\n",
       "|2025-05-06|Butler    |Alabama|1013|11   |0     |\n",
       "|2025-05-06|Cleburne  |Alabama|1029|12   |0     |\n",
       "|2025-05-06|Calhoun   |Alabama|1015|62   |0     |\n",
       "|2025-05-06|Walker    |Alabama|1127|85   |0     |\n",
       "|2025-05-06|Chambers  |Alabama|1017|227  |10    |\n",
       "|2025-05-06|Cherokee  |Alabama|1019|10   |0     |\n",
       "|2025-05-06|Chilton   |Alabama|1021|37   |0     |\n",
       "|2025-05-06|Choctaw   |Alabama|1023|13   |0     |\n",
       "|2025-05-06|Clarke    |Alabama|1025|22   |0     |\n",
       "|2025-05-06|Cleburne  |Alabama|1029|12   |0     |\n",
       "|2025-05-06|Coffee    |Alabama|1031|43   |0     |\n",
       "|2025-05-06|Colbert   |Alabama|1033|11   |1     |\n",
       "|2025-05-06|Conecuh   |Alabama|1035|6    |0     |\n",
       "|2025-05-06|Coosa     |Alabama|1037|20   |1     |\n",
       "|2025-05-06|Covington |Alabama|1039|18   |0     |\n",
       "|2025-05-06|Crenshaw  |Alabama|1041|4    |0     |\n",
       "|2025-05-06|Cullman   |Alabama|1043|40   |1     |\n",
       "|2025-05-06|Dale      |Alabama|1045|13   |0     |\n",
       "|2025-05-06|Dallas    |Alabama|1047|22   |2     |\n",
       "|2025-05-06|DeKalb    |Alabama|1049|31   |0     |\n",
       "|2025-05-06|Elmore    |Alabama|1051|49   |0     |\n",
       "|2025-05-06|Escambia  |Alabama|1053|11   |0     |\n",
       "|2025-05-06|Etowah    |Alabama|1055|84   |8     |\n",
       "|2025-05-06|Fayette   |Alabama|1057|4    |0     |\n",
       "|2025-05-06|Franklin  |Alabama|1059|17   |1     |\n",
       "|2025-05-06|Geneva    |Alabama|1061|2    |0     |\n",
       "|2025-05-06|Greene    |Alabama|1063|19   |0     |\n",
       "|2025-05-06|Hale      |Alabama|1065|20   |0     |\n",
       "|2025-05-06|Henry     |Alabama|1067|15   |0     |\n",
       "|2025-05-06|Houston   |Alabama|1069|55   |3     |\n",
       "|2025-05-06|Jackson   |Alabama|1071|31   |2     |\n",
       "|2025-05-06|Jefferson |Alabama|1073|628  |17    |\n",
       "|2025-05-06|Lamar     |Alabama|1075|7    |0     |\n",
       "|2025-05-06|Lauderdale|Alabama|1077|22   |4     |\n",
       "|2025-05-06|Lawrence  |Alabama|1079|8    |0     |\n",
       "|2025-05-06|Lee       |Alabama|1081|285  |12    |\n",
       "|2025-05-06|Limestone |Alabama|1083|38   |0     |\n",
       "|2025-05-06|Lowndes   |Alabama|1085|23   |0     |\n",
       "|2025-05-06|Macon     |Alabama|1087|19   |2     |\n",
       "|2025-05-06|Madison   |Alabama|1089|194  |4     |\n",
       "|2025-05-06|Marengo   |Alabama|1091|24   |1     |\n",
       "|2025-05-06|Marion    |Alabama|1093|58   |4     |\n",
       "|2025-05-06|Marshall  |Alabama|1095|109  |2     |\n",
       "|2025-05-06|Mobile    |Alabama|1097|561  |19    |\n",
       "|2025-05-06|Monroe    |Alabama|1099|7    |1     |\n",
       "|2025-05-06|Montgomery|Alabama|1101|189  |5     |\n",
       "|2025-05-06|Morgan    |Alabama|1103|44   |0     |\n",
       "|2025-05-06|Perry     |Alabama|1105|7    |0     |\n",
       "|2025-05-06|Pickens   |Alabama|1107|30   |0     |\n",
       "|2025-05-06|Pike      |Alabama|1109|27   |0     |\n",
       "|2025-05-06|Randolph  |Alabama|1111|45   |4     |\n",
       "|2025-05-06|Russell   |Alabama|1113|31   |0     |\n",
       "|2025-05-06|Shelby    |Alabama|1117|241  |7     |\n",
       "|2025-05-06|St. Clair |Alabama|1115|49   |0     |\n",
       "|2025-05-06|Sumter    |Alabama|1119|30   |0     |\n",
       "|2025-05-06|Talladega |Alabama|1121|40   |1     |\n",
       "|2025-05-06|Tallapoosa|Alabama|1123|149  |7     |\n",
       "|2025-05-06|Tuscaloosa|Alabama|1125|131  |0     |\n",
       "|2025-05-06|Walker    |Alabama|1127|85   |0     |\n",
       "|2025-05-06|Washington|Alabama|1129|12   |1     |\n",
       "|2025-05-06|Wilcox    |Alabama|1131|38   |0     |\n",
       "|2025-05-06|Winston   |Alabama|1133|7    |0     |\n",
       "|2025-05-06|Colbert   |Alabama|1033|11   |1     |\n",
       "|2025-05-06|Cullman   |Alabama|1043|40   |1     |\n",
       "|2025-05-06|Hale      |Alabama|1065|20   |0     |\n",
       "|2025-05-06|Lee       |Alabama|1081|285  |12    |\n",
       "|2025-05-06|Perry     |Alabama|1105|7    |0     |\n",
       "|2025-05-06|Pickens   |Alabama|1107|30   |0     |\n",
       "|2025-05-06|Pike      |Alabama|1109|27   |0     |\n",
       "|2025-05-06|Tallapoosa|Alabama|1123|149  |7     |\n",
       "|2025-05-05|Clay      |Alabama|1027|14   |0     |\n",
       "+----------+----------+-------+----+-----+------+"
      ]
     },
     "execution_count": 83,
     "metadata": {},
     "output_type": "execute_result"
    }
   ],
   "source": [
    "spark.sql(\n",
    "    \"\"\"\n",
    "        SELECT *\n",
    "        FROM cdf_batch_start_version_only\n",
    "        ORDER BY date DESC\n",
    "        --ORDER BY _commit_timestamp desc, state, county, date \n",
    "    \"\"\"\n",
    ")"
   ]
  },
  {
   "cell_type": "code",
   "execution_count": 17,
   "id": "19fb11db-31bd-4814-ae9b-0ac697818b09",
   "metadata": {},
   "outputs": [],
   "source": [
    "# CDF batch processing with with starting timestamp and file location\n",
    "\n",
    "cdf_batch_start_version_only = (\n",
    "    spark\n",
    "    .read\n",
    "    .format(\"delta\")\n",
    "    .option(\"readChangeDataFeed\", \"true\")\n",
    "    .option(\"startingVersion\", 0)\n",
    "    .load(\"./spark-warehouse/covid_cdf_source_1\")\n",
    "    .selectExpr(\"*\")#, \"_change_type\", \"_commit_version\", \"_commit_timestamp\")\n",
    ")\n",
    "\n",
    "cdf_batch_start_version_only.createOrReplaceTempView(\"cdf_batch_start_version_with_path\")"
   ]
  },
  {
   "cell_type": "code",
   "execution_count": 18,
   "id": "e1a16e66-d7a2-4d8a-9fad-f9541da93473",
   "metadata": {
    "scrolled": true
   },
   "outputs": [
    {
     "data": {
      "text/html": [
       "<table border='1'>\n",
       "<tr><th>date</th><th>county</th><th>state</th><th>fips</th><th>cases</th><th>deaths</th></tr>\n",
       "<tr><td>2025-05-06</td><td>Autauga</td><td>Alabama</td><td>1001</td><td>25</td><td>2</td></tr>\n",
       "<tr><td>2025-05-06</td><td>Baldwin</td><td>Alabama</td><td>1003</td><td>98</td><td>2</td></tr>\n",
       "<tr><td>2025-05-06</td><td>Barbour</td><td>Alabama</td><td>1005</td><td>13</td><td>0</td></tr>\n",
       "<tr><td>2025-05-06</td><td>Bibb</td><td>Alabama</td><td>1007</td><td>19</td><td>0</td></tr>\n",
       "<tr><td>2025-05-06</td><td>Bibb</td><td>Alabama</td><td>1007</td><td>19</td><td>0</td></tr>\n",
       "<tr><td>2025-05-06</td><td>Blount</td><td>Alabama</td><td>1009</td><td>17</td><td>0</td></tr>\n",
       "<tr><td>2025-05-06</td><td>Bullock</td><td>Alabama</td><td>1011</td><td>8</td><td>0</td></tr>\n",
       "<tr><td>2025-05-06</td><td>Butler</td><td>Alabama</td><td>1013</td><td>11</td><td>0</td></tr>\n",
       "<tr><td>2025-05-06</td><td>Calhoun</td><td>Alabama</td><td>1015</td><td>62</td><td>0</td></tr>\n",
       "<tr><td>2025-05-06</td><td>Chambers</td><td>Alabama</td><td>1017</td><td>227</td><td>10</td></tr>\n",
       "<tr><td>2025-05-06</td><td>Cherokee</td><td>Alabama</td><td>1019</td><td>10</td><td>0</td></tr>\n",
       "<tr><td>2025-05-06</td><td>Chilton</td><td>Alabama</td><td>1021</td><td>37</td><td>0</td></tr>\n",
       "<tr><td>2025-05-06</td><td>Choctaw</td><td>Alabama</td><td>1023</td><td>13</td><td>0</td></tr>\n",
       "<tr><td>2025-05-06</td><td>Clarke</td><td>Alabama</td><td>1025</td><td>22</td><td>0</td></tr>\n",
       "<tr><td>2025-05-05</td><td>Clay</td><td>Alabama</td><td>1027</td><td>14</td><td>0</td></tr>\n",
       "<tr><td>2025-05-06</td><td>Cleburne</td><td>Alabama</td><td>1029</td><td>12</td><td>0</td></tr>\n",
       "<tr><td>2025-05-06</td><td>Cleburne</td><td>Alabama</td><td>1029</td><td>12</td><td>0</td></tr>\n",
       "<tr><td>2025-05-06</td><td>Coffee</td><td>Alabama</td><td>1031</td><td>43</td><td>0</td></tr>\n",
       "<tr><td>2025-05-06</td><td>Coffee</td><td>Alabama</td><td>1031</td><td>43</td><td>0</td></tr>\n",
       "<tr><td>2025-05-06</td><td>Colbert</td><td>Alabama</td><td>1033</td><td>11</td><td>1</td></tr>\n",
       "<tr><td>2025-05-06</td><td>Colbert</td><td>Alabama</td><td>1033</td><td>11</td><td>1</td></tr>\n",
       "<tr><td>2025-05-06</td><td>Conecuh</td><td>Alabama</td><td>1035</td><td>6</td><td>0</td></tr>\n",
       "<tr><td>2025-05-06</td><td>Coosa</td><td>Alabama</td><td>1037</td><td>20</td><td>1</td></tr>\n",
       "<tr><td>2025-05-06</td><td>Coosa</td><td>Alabama</td><td>1037</td><td>20</td><td>1</td></tr>\n",
       "<tr><td>2025-05-06</td><td>Covington</td><td>Alabama</td><td>1039</td><td>18</td><td>0</td></tr>\n",
       "<tr><td>2025-05-06</td><td>Crenshaw</td><td>Alabama</td><td>1041</td><td>4</td><td>0</td></tr>\n",
       "<tr><td>2025-05-06</td><td>Crenshaw</td><td>Alabama</td><td>1041</td><td>4</td><td>0</td></tr>\n",
       "<tr><td>2025-05-06</td><td>Cullman</td><td>Alabama</td><td>1043</td><td>40</td><td>1</td></tr>\n",
       "<tr><td>2025-05-06</td><td>Cullman</td><td>Alabama</td><td>1043</td><td>40</td><td>1</td></tr>\n",
       "<tr><td>2025-05-06</td><td>Dale</td><td>Alabama</td><td>1045</td><td>13</td><td>0</td></tr>\n",
       "<tr><td>2025-05-06</td><td>Dallas</td><td>Alabama</td><td>1047</td><td>22</td><td>2</td></tr>\n",
       "<tr><td>2025-05-06</td><td>DeKalb</td><td>Alabama</td><td>1049</td><td>31</td><td>0</td></tr>\n",
       "<tr><td>2025-05-06</td><td>Elmore</td><td>Alabama</td><td>1051</td><td>49</td><td>0</td></tr>\n",
       "<tr><td>2025-05-06</td><td>Escambia</td><td>Alabama</td><td>1053</td><td>11</td><td>0</td></tr>\n",
       "<tr><td>2025-05-06</td><td>Etowah</td><td>Alabama</td><td>1055</td><td>84</td><td>8</td></tr>\n",
       "<tr><td>2025-05-06</td><td>Fayette</td><td>Alabama</td><td>1057</td><td>4</td><td>0</td></tr>\n",
       "<tr><td>2025-05-06</td><td>Franklin</td><td>Alabama</td><td>1059</td><td>17</td><td>1</td></tr>\n",
       "<tr><td>2025-05-06</td><td>Geneva</td><td>Alabama</td><td>1061</td><td>2</td><td>0</td></tr>\n",
       "<tr><td>2025-05-06</td><td>Greene</td><td>Alabama</td><td>1063</td><td>19</td><td>0</td></tr>\n",
       "<tr><td>2025-05-06</td><td>Hale</td><td>Alabama</td><td>1065</td><td>20</td><td>0</td></tr>\n",
       "<tr><td>2025-05-06</td><td>Hale</td><td>Alabama</td><td>1065</td><td>20</td><td>0</td></tr>\n",
       "<tr><td>2025-05-06</td><td>Henry</td><td>Alabama</td><td>1067</td><td>15</td><td>0</td></tr>\n",
       "<tr><td>2025-05-06</td><td>Houston</td><td>Alabama</td><td>1069</td><td>55</td><td>3</td></tr>\n",
       "<tr><td>2025-05-06</td><td>Jackson</td><td>Alabama</td><td>1071</td><td>31</td><td>2</td></tr>\n",
       "<tr><td>2025-05-06</td><td>Jefferson</td><td>Alabama</td><td>1073</td><td>628</td><td>17</td></tr>\n",
       "<tr><td>2025-05-06</td><td>Jefferson</td><td>Alabama</td><td>1073</td><td>628</td><td>17</td></tr>\n",
       "<tr><td>2025-05-06</td><td>Lamar</td><td>Alabama</td><td>1075</td><td>7</td><td>0</td></tr>\n",
       "<tr><td>2025-05-06</td><td>Lauderdale</td><td>Alabama</td><td>1077</td><td>22</td><td>4</td></tr>\n",
       "<tr><td>2025-05-06</td><td>Lawrence</td><td>Alabama</td><td>1079</td><td>8</td><td>0</td></tr>\n",
       "<tr><td>2025-05-06</td><td>Lee</td><td>Alabama</td><td>1081</td><td>285</td><td>12</td></tr>\n",
       "<tr><td>2025-05-06</td><td>Lee</td><td>Alabama</td><td>1081</td><td>285</td><td>12</td></tr>\n",
       "<tr><td>2025-05-06</td><td>Limestone</td><td>Alabama</td><td>1083</td><td>38</td><td>0</td></tr>\n",
       "<tr><td>2025-05-06</td><td>Lowndes</td><td>Alabama</td><td>1085</td><td>23</td><td>0</td></tr>\n",
       "<tr><td>2025-05-06</td><td>Macon</td><td>Alabama</td><td>1087</td><td>19</td><td>2</td></tr>\n",
       "<tr><td>2025-05-06</td><td>Madison</td><td>Alabama</td><td>1089</td><td>194</td><td>4</td></tr>\n",
       "<tr><td>2025-05-06</td><td>Marengo</td><td>Alabama</td><td>1091</td><td>24</td><td>1</td></tr>\n",
       "<tr><td>2025-05-06</td><td>Marion</td><td>Alabama</td><td>1093</td><td>58</td><td>4</td></tr>\n",
       "<tr><td>2025-05-06</td><td>Marshall</td><td>Alabama</td><td>1095</td><td>109</td><td>2</td></tr>\n",
       "<tr><td>2025-05-06</td><td>Mobile</td><td>Alabama</td><td>1097</td><td>561</td><td>19</td></tr>\n",
       "<tr><td>2025-05-06</td><td>Monroe</td><td>Alabama</td><td>1099</td><td>7</td><td>1</td></tr>\n",
       "<tr><td>2025-05-06</td><td>Montgomery</td><td>Alabama</td><td>1101</td><td>189</td><td>5</td></tr>\n",
       "<tr><td>2025-05-06</td><td>Morgan</td><td>Alabama</td><td>1103</td><td>44</td><td>0</td></tr>\n",
       "<tr><td>2025-05-06</td><td>Perry</td><td>Alabama</td><td>1105</td><td>7</td><td>0</td></tr>\n",
       "<tr><td>2025-05-06</td><td>Perry</td><td>Alabama</td><td>1105</td><td>7</td><td>0</td></tr>\n",
       "<tr><td>2025-05-06</td><td>Pickens</td><td>Alabama</td><td>1107</td><td>30</td><td>0</td></tr>\n",
       "<tr><td>2025-05-06</td><td>Pickens</td><td>Alabama</td><td>1107</td><td>30</td><td>0</td></tr>\n",
       "<tr><td>2025-05-06</td><td>Pike</td><td>Alabama</td><td>1109</td><td>27</td><td>0</td></tr>\n",
       "<tr><td>2025-05-06</td><td>Pike</td><td>Alabama</td><td>1109</td><td>27</td><td>0</td></tr>\n",
       "<tr><td>2025-05-06</td><td>Randolph</td><td>Alabama</td><td>1111</td><td>45</td><td>4</td></tr>\n",
       "<tr><td>2025-05-06</td><td>Russell</td><td>Alabama</td><td>1113</td><td>31</td><td>0</td></tr>\n",
       "<tr><td>2025-05-06</td><td>Shelby</td><td>Alabama</td><td>1117</td><td>241</td><td>7</td></tr>\n",
       "<tr><td>2025-05-06</td><td>St. Clair</td><td>Alabama</td><td>1115</td><td>49</td><td>0</td></tr>\n",
       "<tr><td>2025-05-06</td><td>St. Clair</td><td>Alabama</td><td>1115</td><td>49</td><td>0</td></tr>\n",
       "<tr><td>2025-05-06</td><td>Sumter</td><td>Alabama</td><td>1119</td><td>30</td><td>0</td></tr>\n",
       "<tr><td>2025-05-06</td><td>Talladega</td><td>Alabama</td><td>1121</td><td>40</td><td>1</td></tr>\n",
       "<tr><td>2025-05-06</td><td>Tallapoosa</td><td>Alabama</td><td>1123</td><td>149</td><td>7</td></tr>\n",
       "<tr><td>2025-05-06</td><td>Tallapoosa</td><td>Alabama</td><td>1123</td><td>149</td><td>7</td></tr>\n",
       "<tr><td>2025-05-06</td><td>Tuscaloosa</td><td>Alabama</td><td>1125</td><td>131</td><td>0</td></tr>\n",
       "<tr><td>2025-05-06</td><td>Walker</td><td>Alabama</td><td>1127</td><td>85</td><td>0</td></tr>\n",
       "<tr><td>2025-05-06</td><td>Walker</td><td>Alabama</td><td>1127</td><td>85</td><td>0</td></tr>\n",
       "<tr><td>2025-05-06</td><td>Washington</td><td>Alabama</td><td>1129</td><td>12</td><td>1</td></tr>\n",
       "<tr><td>2025-05-06</td><td>Wilcox</td><td>Alabama</td><td>1131</td><td>38</td><td>0</td></tr>\n",
       "<tr><td>2025-05-06</td><td>Wilcox</td><td>Alabama</td><td>1131</td><td>38</td><td>0</td></tr>\n",
       "<tr><td>2025-05-06</td><td>Winston</td><td>Alabama</td><td>1133</td><td>7</td><td>0</td></tr>\n",
       "</table>\n"
      ],
      "text/plain": [
       "+----------+----------+-------+----+-----+------+\n",
       "|date      |county    |state  |fips|cases|deaths|\n",
       "+----------+----------+-------+----+-----+------+\n",
       "|2025-05-06|Autauga   |Alabama|1001|25   |2     |\n",
       "|2025-05-06|Baldwin   |Alabama|1003|98   |2     |\n",
       "|2025-05-06|Barbour   |Alabama|1005|13   |0     |\n",
       "|2025-05-06|Bibb      |Alabama|1007|19   |0     |\n",
       "|2025-05-06|Bibb      |Alabama|1007|19   |0     |\n",
       "|2025-05-06|Blount    |Alabama|1009|17   |0     |\n",
       "|2025-05-06|Bullock   |Alabama|1011|8    |0     |\n",
       "|2025-05-06|Butler    |Alabama|1013|11   |0     |\n",
       "|2025-05-06|Calhoun   |Alabama|1015|62   |0     |\n",
       "|2025-05-06|Chambers  |Alabama|1017|227  |10    |\n",
       "|2025-05-06|Cherokee  |Alabama|1019|10   |0     |\n",
       "|2025-05-06|Chilton   |Alabama|1021|37   |0     |\n",
       "|2025-05-06|Choctaw   |Alabama|1023|13   |0     |\n",
       "|2025-05-06|Clarke    |Alabama|1025|22   |0     |\n",
       "|2025-05-05|Clay      |Alabama|1027|14   |0     |\n",
       "|2025-05-06|Cleburne  |Alabama|1029|12   |0     |\n",
       "|2025-05-06|Cleburne  |Alabama|1029|12   |0     |\n",
       "|2025-05-06|Coffee    |Alabama|1031|43   |0     |\n",
       "|2025-05-06|Coffee    |Alabama|1031|43   |0     |\n",
       "|2025-05-06|Colbert   |Alabama|1033|11   |1     |\n",
       "|2025-05-06|Colbert   |Alabama|1033|11   |1     |\n",
       "|2025-05-06|Conecuh   |Alabama|1035|6    |0     |\n",
       "|2025-05-06|Coosa     |Alabama|1037|20   |1     |\n",
       "|2025-05-06|Coosa     |Alabama|1037|20   |1     |\n",
       "|2025-05-06|Covington |Alabama|1039|18   |0     |\n",
       "|2025-05-06|Crenshaw  |Alabama|1041|4    |0     |\n",
       "|2025-05-06|Crenshaw  |Alabama|1041|4    |0     |\n",
       "|2025-05-06|Cullman   |Alabama|1043|40   |1     |\n",
       "|2025-05-06|Cullman   |Alabama|1043|40   |1     |\n",
       "|2025-05-06|Dale      |Alabama|1045|13   |0     |\n",
       "|2025-05-06|Dallas    |Alabama|1047|22   |2     |\n",
       "|2025-05-06|DeKalb    |Alabama|1049|31   |0     |\n",
       "|2025-05-06|Elmore    |Alabama|1051|49   |0     |\n",
       "|2025-05-06|Escambia  |Alabama|1053|11   |0     |\n",
       "|2025-05-06|Etowah    |Alabama|1055|84   |8     |\n",
       "|2025-05-06|Fayette   |Alabama|1057|4    |0     |\n",
       "|2025-05-06|Franklin  |Alabama|1059|17   |1     |\n",
       "|2025-05-06|Geneva    |Alabama|1061|2    |0     |\n",
       "|2025-05-06|Greene    |Alabama|1063|19   |0     |\n",
       "|2025-05-06|Hale      |Alabama|1065|20   |0     |\n",
       "|2025-05-06|Hale      |Alabama|1065|20   |0     |\n",
       "|2025-05-06|Henry     |Alabama|1067|15   |0     |\n",
       "|2025-05-06|Houston   |Alabama|1069|55   |3     |\n",
       "|2025-05-06|Jackson   |Alabama|1071|31   |2     |\n",
       "|2025-05-06|Jefferson |Alabama|1073|628  |17    |\n",
       "|2025-05-06|Jefferson |Alabama|1073|628  |17    |\n",
       "|2025-05-06|Lamar     |Alabama|1075|7    |0     |\n",
       "|2025-05-06|Lauderdale|Alabama|1077|22   |4     |\n",
       "|2025-05-06|Lawrence  |Alabama|1079|8    |0     |\n",
       "|2025-05-06|Lee       |Alabama|1081|285  |12    |\n",
       "|2025-05-06|Lee       |Alabama|1081|285  |12    |\n",
       "|2025-05-06|Limestone |Alabama|1083|38   |0     |\n",
       "|2025-05-06|Lowndes   |Alabama|1085|23   |0     |\n",
       "|2025-05-06|Macon     |Alabama|1087|19   |2     |\n",
       "|2025-05-06|Madison   |Alabama|1089|194  |4     |\n",
       "|2025-05-06|Marengo   |Alabama|1091|24   |1     |\n",
       "|2025-05-06|Marion    |Alabama|1093|58   |4     |\n",
       "|2025-05-06|Marshall  |Alabama|1095|109  |2     |\n",
       "|2025-05-06|Mobile    |Alabama|1097|561  |19    |\n",
       "|2025-05-06|Monroe    |Alabama|1099|7    |1     |\n",
       "|2025-05-06|Montgomery|Alabama|1101|189  |5     |\n",
       "|2025-05-06|Morgan    |Alabama|1103|44   |0     |\n",
       "|2025-05-06|Perry     |Alabama|1105|7    |0     |\n",
       "|2025-05-06|Perry     |Alabama|1105|7    |0     |\n",
       "|2025-05-06|Pickens   |Alabama|1107|30   |0     |\n",
       "|2025-05-06|Pickens   |Alabama|1107|30   |0     |\n",
       "|2025-05-06|Pike      |Alabama|1109|27   |0     |\n",
       "|2025-05-06|Pike      |Alabama|1109|27   |0     |\n",
       "|2025-05-06|Randolph  |Alabama|1111|45   |4     |\n",
       "|2025-05-06|Russell   |Alabama|1113|31   |0     |\n",
       "|2025-05-06|Shelby    |Alabama|1117|241  |7     |\n",
       "|2025-05-06|St. Clair |Alabama|1115|49   |0     |\n",
       "|2025-05-06|St. Clair |Alabama|1115|49   |0     |\n",
       "|2025-05-06|Sumter    |Alabama|1119|30   |0     |\n",
       "|2025-05-06|Talladega |Alabama|1121|40   |1     |\n",
       "|2025-05-06|Tallapoosa|Alabama|1123|149  |7     |\n",
       "|2025-05-06|Tallapoosa|Alabama|1123|149  |7     |\n",
       "|2025-05-06|Tuscaloosa|Alabama|1125|131  |0     |\n",
       "|2025-05-06|Walker    |Alabama|1127|85   |0     |\n",
       "|2025-05-06|Walker    |Alabama|1127|85   |0     |\n",
       "|2025-05-06|Washington|Alabama|1129|12   |1     |\n",
       "|2025-05-06|Wilcox    |Alabama|1131|38   |0     |\n",
       "|2025-05-06|Wilcox    |Alabama|1131|38   |0     |\n",
       "|2025-05-06|Winston   |Alabama|1133|7    |0     |\n",
       "+----------+----------+-------+----+-----+------+"
      ]
     },
     "execution_count": 18,
     "metadata": {},
     "output_type": "execute_result"
    }
   ],
   "source": [
    "spark.sql(\n",
    "    \"\"\"\n",
    "        SELECT * \n",
    "        FROM cdf_batch_start_version_with_path\n",
    "        ORDER BY state, county, date \n",
    "    \"\"\"\n",
    ")"
   ]
  },
  {
   "cell_type": "code",
   "execution_count": 16,
   "id": "453f8bd5-9bff-4ef9-b12e-71db0bd7c057",
   "metadata": {},
   "outputs": [
    {
     "name": "stdout",
     "output_type": "stream",
     "text": [
      "+------------------------------------+\n",
      "|properties                          |\n",
      "+------------------------------------+\n",
      "|{delta.enableChangeDataFeed -> true}|\n",
      "+------------------------------------+\n",
      "\n"
     ]
    }
   ],
   "source": [
    "spark.sql(\"DESCRIBE DETAIL default.covid_cdf_source_1\").select(\"properties\").show(truncate=False)\n"
   ]
  },
  {
   "cell_type": "code",
   "execution_count": null,
   "id": "afa92960-83a5-445a-9268-ed71964a4b16",
   "metadata": {},
   "outputs": [],
   "source": [
    "temp_views = spark.catalog.listTables()\n",
    "for view in temp_views:\n",
    "    if view.isTemporary:\n",
    "        spark.catalog.dropTempView(view.name)\n"
   ]
  },
  {
   "cell_type": "markdown",
   "id": "4e3e86fd-f316-4cf0-8d62-565b2e293ee5",
   "metadata": {},
   "source": [
    "# Clean up Streams"
   ]
  },
  {
   "cell_type": "code",
   "execution_count": 70,
   "id": "1742fd39-fe25-4289-931d-7c650ec48144",
   "metadata": {},
   "outputs": [
    {
     "name": "stdout",
     "output_type": "stream",
     "text": [
      "<pyspark.sql.streaming.query.StreamingQuery object at 0x00000216D44EA490>\n"
     ]
    }
   ],
   "source": [
    "for stream in spark.streams.active:\n",
    "    print(stream)\n",
    "    stream.stop()"
   ]
  },
  {
   "cell_type": "markdown",
   "id": "a06e22b3-a5d4-4234-aeac-b749437137ca",
   "metadata": {},
   "source": []
  },
  {
   "cell_type": "code",
   "execution_count": null,
   "id": "cf0074e1-b928-49f7-8847-2868d69e2701",
   "metadata": {},
   "outputs": [],
   "source": []
  }
 ],
 "metadata": {
  "kernelspec": {
   "display_name": "Python 3 (ipykernel)",
   "language": "python",
   "name": "python3"
  },
  "language_info": {
   "codemirror_mode": {
    "name": "ipython",
    "version": 3
   },
   "file_extension": ".py",
   "mimetype": "text/x-python",
   "name": "python",
   "nbconvert_exporter": "python",
   "pygments_lexer": "ipython3",
   "version": "3.11.8"
  }
 },
 "nbformat": 4,
 "nbformat_minor": 5
}
